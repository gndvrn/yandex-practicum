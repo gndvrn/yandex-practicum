{
 "cells": [
  {
   "cell_type": "markdown",
   "metadata": {},
   "source": [
    "# Рекомендация тарифов 📲"
   ]
  },
  {
   "cell_type": "markdown",
   "metadata": {},
   "source": [
    "В нашем распоряжении данные о поведении клиентов одного из сотовых операторов. Нужно построить модель для задачи классификации, которая выберет подходящий тариф. Ее точность в предсказаниях должна составлять минимум `75%`. Предобработка данных не понадобится, так как известно, что данные уже были предварительно обработаны.\n",
    "\n",
    "**Цели исследования**\n",
    "\n",
    "1. Исследовать эффективность и результативность нескольких моделей машинного обучения из библиотеки `sklearn`\n",
    "2. Оценить влияние `K-fold кросс-валидации` в совокупности с подбором гиперпараметров моделей с помощью `GridSearchCV` на итоговые значения метрик\n",
    "3. Получить модель с точностью в предсказаниях не менее `75%`\n",
    "\n",
    "**Ход исследования:**\n",
    "\n",
    "[Скачать исходные данные](https://code.s3.yandex.net/datasets/users_behavior.csv)\n",
    "\n",
    "О качестве исходных данных известно, что они уже были предобработаны, но дополнительно проведем оценку этого.\n",
    "\n",
    "Далее выполним разбивку данных на три составляющих: тренировочный набор, валидационный набор и тестовый набор. Соотношение возьмем следующее: **3\\:1\\:1**, соответственно.\n",
    "\n",
    "Рассмотрим несколько популярных моделей, которые потенциально могут показать хорошие значения метрик. Сравним их между собой, отберем модели с наиболее удачными наборами гиперпараметров из каждой категории для послдующего их сравнения.\n",
    "\n",
    "Проверим их эффективность на тестовых данных, опишем, как поменялись полученные в ходе валидации моделей значения метрики.\n",
    "\n",
    "Проверим наилучшую модель на адекватность путем сравнения метрики `Accuracy` нашей модели с той, что псевдослучайно классифицирует объекты в данных.\n",
    "\n",
    "**Резюмируя вышеописанное**, исследование пройдет в **6 этапов**:\n",
    "\n",
    "1. Обзор данных\n",
    "2. Разделение данных на наборы\n",
    "3. Постровение моделей, их валидация, выбор самой лучшей\n",
    "4. Проверка лучших моделей в каждой категории на тестовых данных\n",
    "5. Проверка модели на адекватность\n",
    "6. Подведение итогов"
   ]
  },
  {
   "cell_type": "markdown",
   "metadata": {
    "toc": true
   },
   "source": [
    "<h1>Содержание проекта<span class=\"tocSkip\"></span></h1>\n",
    "<div class=\"toc\"><ul class=\"toc-item\"><li><span><a href=\"#Шаг-1.-Обзор-данных-🥸\" data-toc-modified-id=\"Шаг-1.-Обзор-данных-🥸-1\"><span class=\"toc-item-num\">1&nbsp;&nbsp;</span>Шаг 1. Обзор данных 🥸</a></span><ul class=\"toc-item\"><li><span><a href=\"#Импорт-библиотек\" data-toc-modified-id=\"Импорт-библиотек-1.1\"><span class=\"toc-item-num\">1.1&nbsp;&nbsp;</span>Импорт библиотек</a></span></li><li><span><a href=\"#Корреляция-признаков.-Мультиколлинеарные-признаки\" data-toc-modified-id=\"Корреляция-признаков.-Мультиколлинеарные-признаки-1.2\"><span class=\"toc-item-num\">1.2&nbsp;&nbsp;</span>Корреляция признаков. Мультиколлинеарные признаки</a></span></li><li><span><a href=\"#Сбалансированность-классов-в-целевом-признаке\" data-toc-modified-id=\"Сбалансированность-классов-в-целевом-признаке-1.3\"><span class=\"toc-item-num\">1.3&nbsp;&nbsp;</span>Сбалансированность классов в целевом признаке</a></span></li></ul></li><li><span><a href=\"#Шаг-2.-Разбиение-данных-✂️\" data-toc-modified-id=\"Шаг-2.-Разбиение-данных-✂️-2\"><span class=\"toc-item-num\">2&nbsp;&nbsp;</span>Шаг 2. Разбиение данных ✂️</a></span></li><li><span><a href=\"#Выбор-модели-🤖\" data-toc-modified-id=\"Выбор-модели-🤖-3\"><span class=\"toc-item-num\">3&nbsp;&nbsp;</span>Выбор модели 🤖</a></span><ul class=\"toc-item\"><li><span><a href=\"#Логистическая-регрессия\" data-toc-modified-id=\"Логистическая-регрессия-3.1\"><span class=\"toc-item-num\">3.1&nbsp;&nbsp;</span>Логистическая регрессия</a></span><ul class=\"toc-item\"><li><span><a href=\"#Кросс-валидация-и-настройка-гиперпараметров\" data-toc-modified-id=\"Кросс-валидация-и-настройка-гиперпараметров-3.1.1\"><span class=\"toc-item-num\">3.1.1&nbsp;&nbsp;</span>Кросс-валидация и настройка гиперпараметров</a></span></li><li><span><a href=\"#Валидация-модели\" data-toc-modified-id=\"Валидация-модели-3.1.2\"><span class=\"toc-item-num\">3.1.2&nbsp;&nbsp;</span>Валидация модели</a></span></li></ul></li><li><span><a href=\"#Случайный-лес\" data-toc-modified-id=\"Случайный-лес-3.2\"><span class=\"toc-item-num\">3.2&nbsp;&nbsp;</span>Случайный лес</a></span><ul class=\"toc-item\"><li><span><a href=\"#Кросс-валидация-и-настройка-гиперпараметров\" data-toc-modified-id=\"Кросс-валидация-и-настройка-гиперпараметров-3.2.1\"><span class=\"toc-item-num\">3.2.1&nbsp;&nbsp;</span>Кросс-валидация и настройка гиперпараметров</a></span></li><li><span><a href=\"#Валидация-модели\" data-toc-modified-id=\"Валидация-модели-3.2.2\"><span class=\"toc-item-num\">3.2.2&nbsp;&nbsp;</span>Валидация модели</a></span></li></ul></li><li><span><a href=\"#Итого\" data-toc-modified-id=\"Итого-3.3\"><span class=\"toc-item-num\">3.3&nbsp;&nbsp;</span>Итого</a></span></li></ul></li><li><span><a href=\"#Проверка-моделей-на-тестовой-выборке-🕵🏼\" data-toc-modified-id=\"Проверка-моделей-на-тестовой-выборке-🕵🏼-4\"><span class=\"toc-item-num\">4&nbsp;&nbsp;</span>Проверка моделей на тестовой выборке 🕵🏼</a></span><ul class=\"toc-item\"><li><span><a href=\"#Тестирование-лучшей-модели\" data-toc-modified-id=\"Тестирование-лучшей-модели-4.1\"><span class=\"toc-item-num\">4.1&nbsp;&nbsp;</span>Тестирование лучшей модели</a></span></li></ul></li><li><span><a href=\"#Проверка-модели-на-адекватность-🧐\" data-toc-modified-id=\"Проверка-модели-на-адекватность-🧐-5\"><span class=\"toc-item-num\">5&nbsp;&nbsp;</span>Проверка модели на адекватность 🧐</a></span><ul class=\"toc-item\"><li><span><a href=\"#DummyClassifier\" data-toc-modified-id=\"DummyClassifier-5.1\"><span class=\"toc-item-num\">5.1&nbsp;&nbsp;</span><code>DummyClassifier</code></a></span></li></ul></li><li><span><a href=\"#Общий-вывод-👀\" data-toc-modified-id=\"Общий-вывод-👀-6\"><span class=\"toc-item-num\">6&nbsp;&nbsp;</span>Общий вывод 👀</a></span><ul class=\"toc-item\"><li><span><a href=\"#Краткая-сводка-по-выполненным-задачам\" data-toc-modified-id=\"Краткая-сводка-по-выполненным-задачам-6.1\"><span class=\"toc-item-num\">6.1&nbsp;&nbsp;</span>Краткая сводка по выполненным задачам</a></span><ul class=\"toc-item\"><li><span><a href=\"#Шаг-1.-Обзор-данных\" data-toc-modified-id=\"Шаг-1.-Обзор-данных-6.1.1\"><span class=\"toc-item-num\">6.1.1&nbsp;&nbsp;</span>Шаг 1. Обзор данных</a></span></li><li><span><a href=\"#Шаг-2.-Разбиение-данных\" data-toc-modified-id=\"Шаг-2.-Разбиение-данных-6.1.2\"><span class=\"toc-item-num\">6.1.2&nbsp;&nbsp;</span>Шаг 2. Разбиение данных</a></span></li><li><span><a href=\"#Шаг-3.-Выбор-модели\" data-toc-modified-id=\"Шаг-3.-Выбор-модели-6.1.3\"><span class=\"toc-item-num\">6.1.3&nbsp;&nbsp;</span>Шаг 3. Выбор модели</a></span></li><li><span><a href=\"#Шаг-4.-Проверка-моделей-на-тестовой-выборке\" data-toc-modified-id=\"Шаг-4.-Проверка-моделей-на-тестовой-выборке-6.1.4\"><span class=\"toc-item-num\">6.1.4&nbsp;&nbsp;</span>Шаг 4. Проверка моделей на тестовой выборке</a></span></li><li><span><a href=\"#Шаг-5.-Проверка-модели-на-адекватность\" data-toc-modified-id=\"Шаг-5.-Проверка-модели-на-адекватность-6.1.5\"><span class=\"toc-item-num\">6.1.5&nbsp;&nbsp;</span>Шаг 5. Проверка модели на адекватность</a></span></li></ul></li><li><span><a href=\"#Как-использовать-полученный-результат-в-бизнесе?-Как-на-этих-прогнозах-сделать-деньги?\" data-toc-modified-id=\"Как-использовать-полученный-результат-в-бизнесе?-Как-на-этих-прогнозах-сделать-деньги?-6.2\"><span class=\"toc-item-num\">6.2&nbsp;&nbsp;</span>Как использовать полученный результат в бизнесе? Как на этих прогнозах сделать деньги?</a></span></li><li><span><a href=\"#Что-могло-привести-к-получению-неполноценных-результатов?\" data-toc-modified-id=\"Что-могло-привести-к-получению-неполноценных-результатов?-6.3\"><span class=\"toc-item-num\">6.3&nbsp;&nbsp;</span>Что могло привести к получению неполноценных результатов?</a></span></li></ul></li></ul></div>"
   ]
  },
  {
   "cell_type": "markdown",
   "metadata": {},
   "source": [
    "## Шаг 1. Обзор данных 🥸"
   ]
  },
  {
   "cell_type": "markdown",
   "metadata": {},
   "source": [
    "Вместе с исходными данными шла **документация к каждому из столбцов**.\n",
    "* Каждый объект в наборе данных — это информация о поведении одного пользователя за месяц:\n",
    "    * `сalls` — количество звонков,\n",
    "    * `minutes` — суммарная длительность звонков в минутах,\n",
    "    * `messages` — количество sms-сообщений,\n",
    "    * `mb_used` — израсходованный интернет-трафик в Мб,\n",
    "    * `is_ultra` — каким тарифом пользовался в течение месяца («Ультра» — 1, «Смарт» — 0)."
   ]
  },
  {
   "cell_type": "markdown",
   "metadata": {},
   "source": [
    "### Импорт библиотек"
   ]
  },
  {
   "cell_type": "code",
   "execution_count": 1,
   "metadata": {},
   "outputs": [],
   "source": [
    "import pandas as pd\n",
    "import numpy as np\n",
    "import seaborn as sns\n",
    "\n",
    "from sklearn.linear_model import LogisticRegression\n",
    "from sklearn.ensemble import RandomForestClassifier\n",
    "from sklearn.dummy import DummyClassifier\n",
    "from sklearn.model_selection import cross_val_score, GridSearchCV\n",
    "from sklearn.metrics import accuracy_score, precision_score, recall_score, f1_score\n",
    "\n",
    "from IPython.display import display\n",
    "import urllib\n",
    "import warnings\n",
    "import matplotlib.pyplot as plt"
   ]
  },
  {
   "cell_type": "code",
   "execution_count": 2,
   "metadata": {},
   "outputs": [],
   "source": [
    "warnings.filterwarnings(\"ignore\")"
   ]
  },
  {
   "cell_type": "code",
   "execution_count": 3,
   "metadata": {
    "scrolled": true
   },
   "outputs": [
    {
     "name": "stdout",
     "output_type": "stream",
     "text": [
      "✅ Данные загружены с внешнего ресурса и успешно прочитаны\n"
     ]
    },
    {
     "data": {
      "text/html": [
       "<div>\n",
       "<style scoped>\n",
       "    .dataframe tbody tr th:only-of-type {\n",
       "        vertical-align: middle;\n",
       "    }\n",
       "\n",
       "    .dataframe tbody tr th {\n",
       "        vertical-align: top;\n",
       "    }\n",
       "\n",
       "    .dataframe thead th {\n",
       "        text-align: right;\n",
       "    }\n",
       "</style>\n",
       "<table border=\"1\" class=\"dataframe\">\n",
       "  <thead>\n",
       "    <tr style=\"text-align: right;\">\n",
       "      <th></th>\n",
       "      <th>calls</th>\n",
       "      <th>minutes</th>\n",
       "      <th>messages</th>\n",
       "      <th>mb_used</th>\n",
       "      <th>is_ultra</th>\n",
       "    </tr>\n",
       "  </thead>\n",
       "  <tbody>\n",
       "    <tr>\n",
       "      <th>0</th>\n",
       "      <td>40.0</td>\n",
       "      <td>311.90</td>\n",
       "      <td>83.0</td>\n",
       "      <td>19915.42</td>\n",
       "      <td>0</td>\n",
       "    </tr>\n",
       "    <tr>\n",
       "      <th>1</th>\n",
       "      <td>85.0</td>\n",
       "      <td>516.75</td>\n",
       "      <td>56.0</td>\n",
       "      <td>22696.96</td>\n",
       "      <td>0</td>\n",
       "    </tr>\n",
       "    <tr>\n",
       "      <th>2</th>\n",
       "      <td>77.0</td>\n",
       "      <td>467.66</td>\n",
       "      <td>86.0</td>\n",
       "      <td>21060.45</td>\n",
       "      <td>0</td>\n",
       "    </tr>\n",
       "    <tr>\n",
       "      <th>3</th>\n",
       "      <td>106.0</td>\n",
       "      <td>745.53</td>\n",
       "      <td>81.0</td>\n",
       "      <td>8437.39</td>\n",
       "      <td>1</td>\n",
       "    </tr>\n",
       "    <tr>\n",
       "      <th>4</th>\n",
       "      <td>66.0</td>\n",
       "      <td>418.74</td>\n",
       "      <td>1.0</td>\n",
       "      <td>14502.75</td>\n",
       "      <td>0</td>\n",
       "    </tr>\n",
       "    <tr>\n",
       "      <th>5</th>\n",
       "      <td>58.0</td>\n",
       "      <td>344.56</td>\n",
       "      <td>21.0</td>\n",
       "      <td>15823.37</td>\n",
       "      <td>0</td>\n",
       "    </tr>\n",
       "    <tr>\n",
       "      <th>6</th>\n",
       "      <td>57.0</td>\n",
       "      <td>431.64</td>\n",
       "      <td>20.0</td>\n",
       "      <td>3738.90</td>\n",
       "      <td>1</td>\n",
       "    </tr>\n",
       "    <tr>\n",
       "      <th>7</th>\n",
       "      <td>15.0</td>\n",
       "      <td>132.40</td>\n",
       "      <td>6.0</td>\n",
       "      <td>21911.60</td>\n",
       "      <td>0</td>\n",
       "    </tr>\n",
       "    <tr>\n",
       "      <th>8</th>\n",
       "      <td>7.0</td>\n",
       "      <td>43.39</td>\n",
       "      <td>3.0</td>\n",
       "      <td>2538.67</td>\n",
       "      <td>1</td>\n",
       "    </tr>\n",
       "    <tr>\n",
       "      <th>9</th>\n",
       "      <td>90.0</td>\n",
       "      <td>665.41</td>\n",
       "      <td>38.0</td>\n",
       "      <td>17358.61</td>\n",
       "      <td>0</td>\n",
       "    </tr>\n",
       "  </tbody>\n",
       "</table>\n",
       "</div>"
      ],
      "text/plain": [
       "   calls  minutes  messages   mb_used  is_ultra\n",
       "0   40.0   311.90      83.0  19915.42         0\n",
       "1   85.0   516.75      56.0  22696.96         0\n",
       "2   77.0   467.66      86.0  21060.45         0\n",
       "3  106.0   745.53      81.0   8437.39         1\n",
       "4   66.0   418.74       1.0  14502.75         0\n",
       "5   58.0   344.56      21.0  15823.37         0\n",
       "6   57.0   431.64      20.0   3738.90         1\n",
       "7   15.0   132.40       6.0  21911.60         0\n",
       "8    7.0    43.39       3.0   2538.67         1\n",
       "9   90.0   665.41      38.0  17358.61         0"
      ]
     },
     "metadata": {},
     "output_type": "display_data"
    }
   ],
   "source": [
    "try:\n",
    "    data = pd.read_csv(\n",
    "        'https://code.s3.yandex.net/datasets/users_behavior.csv')\n",
    "    print('✅ Данные загружены с внешнего ресурса и успешно прочитаны')\n",
    "    display(data.head(10))\n",
    "except urllib.request.URLError:  # Если отстутствует доступ к внешнему ресурсу с данными\n",
    "    while True:\n",
    "        data_path = input('Введите абсолютный путь к датасету:\\n')\n",
    "        try:\n",
    "            df = pd.read_csv(data_path)\n",
    "            print('✅ Исходные данные успешно прочитаны по указанному пути')\n",
    "            display(df.head(10))\n",
    "\n",
    "            break\n",
    "\n",
    "        except FileNotFoundError:  # Путь, указанный пользователем, неверный\n",
    "            raise Exception(f'❌Указан неверный путь к файлу: {data_path}')"
   ]
  },
  {
   "cell_type": "markdown",
   "metadata": {},
   "source": [
    "Данные прочитаны.\n",
    "\n",
    "Убедимся, что пропусков в исходных данных таки нет."
   ]
  },
  {
   "cell_type": "code",
   "execution_count": 4,
   "metadata": {
    "scrolled": true
   },
   "outputs": [
    {
     "name": "stdout",
     "output_type": "stream",
     "text": [
      "<class 'pandas.core.frame.DataFrame'>\n",
      "RangeIndex: 3214 entries, 0 to 3213\n",
      "Data columns (total 5 columns):\n",
      " #   Column    Non-Null Count  Dtype  \n",
      "---  ------    --------------  -----  \n",
      " 0   calls     3214 non-null   float64\n",
      " 1   minutes   3214 non-null   float64\n",
      " 2   messages  3214 non-null   float64\n",
      " 3   mb_used   3214 non-null   float64\n",
      " 4   is_ultra  3214 non-null   int64  \n",
      "dtypes: float64(4), int64(1)\n",
      "memory usage: 125.7 KB\n"
     ]
    }
   ],
   "source": [
    "data.info()"
   ]
  },
  {
   "cell_type": "markdown",
   "metadata": {},
   "source": [
    "Все хорошо.\n",
    "\n",
    "Построим гистограммы по всем столбцам"
   ]
  },
  {
   "cell_type": "code",
   "execution_count": 5,
   "metadata": {
    "scrolled": false
   },
   "outputs": [
    {
     "data": {
      "image/png": "[encoded data removed]",
      "text/plain": [
       "<Figure size 1400x1400 with 6 Axes>"
      ]
     },
     "metadata": {},
     "output_type": "display_data"
    }
   ],
   "source": [
    "data.hist(figsize=(14, 14), bins=100)\n",
    "plt.show()"
   ]
  },
  {
   "cell_type": "markdown",
   "metadata": {},
   "source": [
    "Чего-то аномального на графиках не видно. Дополнительно убедимся в том, что нет явных дубликатов и изменим тип данных в столбцах `calls` и `messages` на `int`"
   ]
  },
  {
   "cell_type": "code",
   "execution_count": 6,
   "metadata": {},
   "outputs": [
    {
     "data": {
      "text/plain": [
       "0"
      ]
     },
     "execution_count": 6,
     "metadata": {},
     "output_type": "execute_result"
    }
   ],
   "source": [
    "data.duplicated().sum()"
   ]
  },
  {
   "cell_type": "markdown",
   "metadata": {},
   "source": [
    "Здесь все хорошо, поэтому поменяем тип данных"
   ]
  },
  {
   "cell_type": "code",
   "execution_count": 7,
   "metadata": {
    "scrolled": false
   },
   "outputs": [
    {
     "data": {
      "text/plain": [
       "calls         int64\n",
       "minutes     float64\n",
       "messages      int64\n",
       "mb_used     float64\n",
       "is_ultra      int64\n",
       "dtype: object"
      ]
     },
     "execution_count": 7,
     "metadata": {},
     "output_type": "execute_result"
    }
   ],
   "source": [
    "data.loc[:, ['calls', 'messages']] = data.loc[:, ['calls', 'messages']].astype(int)\n",
    "data.dtypes"
   ]
  },
  {
   "cell_type": "markdown",
   "metadata": {},
   "source": [
    "### Корреляция признаков. Мультиколлинеарные признаки\n",
    "\n",
    "Взглянем на **корреляцию признаков**, проверим **наличие или отсутствие мультиколлинеарных признаков**, которые могут исказить результат.\n",
    "\n",
    "Для этого построим корреляционную матрицу"
   ]
  },
  {
   "cell_type": "code",
   "execution_count": 8,
   "metadata": {},
   "outputs": [
    {
     "data": {
      "image/png": "[encoded data removed]",
      "text/plain": [
       "<Figure size 400x400 with 2 Axes>"
      ]
     },
     "metadata": {},
     "output_type": "display_data"
    }
   ],
   "source": [
    "fig, ax = plt.subplots(figsize=(4, 4))\n",
    "corrs = data.corr()\n",
    "\n",
    "\n",
    "sns.heatmap(\n",
    "    corrs,\n",
    "    ax=ax,\n",
    "    cmap='Greens',\n",
    "    vmin=-1.0, vmax=1.0,\n",
    "    square=True,  \n",
    "    annot=True, fmt=\".2f\",\n",
    "    annot_kws={'fontsize': 8},\n",
    "    linewidth=1.5\n",
    ")\n",
    "\n",
    "\n",
    "plt.title(\n",
    "    'Корреляционная матрица признаков\\nв исходных данных', \n",
    "    fontsize=10, \n",
    "    fontweight='bold', \n",
    "    y=1.15\n",
    ")\n",
    "\n",
    "plt.show()"
   ]
  },
  {
   "cell_type": "markdown",
   "metadata": {},
   "source": [
    "Минуты и кол-во звонков сильно связаны, что свидетельствует о наличии мультиколлинеарности, от которой, по-хорошему, стоит избавляться, но здесь есть следующие детали:\n",
    "\n",
    "- Первый момент: мультиколлинеарность проблема линейных моделей - могут переобучаться.... теоретически. Но в логистической, и в линейной регрессиях реализована регуляризация, которая решает проблему мультиколлинеарности признаков. \"Деревянные\" модели (RF, DT) устойчивы к мультиколлинеарности, а кластеризация тоже почти не зависит от линейных зависимостей. Получается, избавляться от мультиколлинеарности, чтобы не переобучаться не обязательно )\n",
    "    \n",
    "    \n",
    "- Второй момент: интерпретируемость линейной модели (мы по коэффициентам судим о том, как признаки влияют на целевой признак), тут мультиколлинеарность надо убирать.\n",
    "\n",
    "\n",
    "Получается, что в нашем случае убирать мультиколлинеарность имеет смысл только в том случае, если мы захотим посмотреть как конкретно признаки влияют на целевой признак.\n",
    "\n",
    "В остальном все хорошо."
   ]
  },
  {
   "cell_type": "markdown",
   "metadata": {},
   "source": [
    "### Сбалансированность классов в целевом признаке\n",
    "\n",
    "Теперь взглянем на **сбалансированность классов в целевом признаке**.\n",
    "\n",
    "Для начала определим его и оценим задачу, которую предстоит решить.\n",
    "\n",
    "Целевой признак - `is_ultra`. Значения в нем *бинарны*. Из этого следует, что требуется решить задачу **бинарной классификации**. Поэтому классов всего два: абонент пользуется улучшенным тарифом или нет.\n",
    "\n",
    "**Почему стоит оценить баланс классов?**\n",
    "\n",
    "Перед использованием алгоритма машинного обучения важно избежать дисбаланса классов, потому что наша конечная цель – обучить модель машинного обучения, которая хорошо обобщается для всех возможных классов, предполагая, что у нас есть двоичный набор данных с равным количеством выборок.\n",
    "\n",
    "Также оценка сбалансированности классов в целевом признаке поможет не только оценить достоверность исходных данных, но также сразу понять, какую модель в дальнейшем считать \"адекватной\" (но об этом чуть позже)."
   ]
  },
  {
   "cell_type": "code",
   "execution_count": 9,
   "metadata": {
    "scrolled": true
   },
   "outputs": [
    {
     "name": "stdout",
     "output_type": "stream",
     "text": [
      "Доля класса 0 составляет: 69.35%\n",
      "\n",
      "Доля класса 1 составляет: 30.65%\n"
     ]
    }
   ],
   "source": [
    "print('Доля класса 0 составляет: {:.2%}\\n'.format(len(data.query('is_ultra == 0')) / len(data)))\n",
    "print('Доля класса 1 составляет: {:.2%}'.format(len(data.query('is_ultra == 1')) / len(data)))"
   ]
  },
  {
   "cell_type": "markdown",
   "metadata": {},
   "source": [
    "Классы в целевом признаке не очень-то и сбалансированны.\n",
    "\n",
    "Сразу можно сказать, что простейшая модель типа \"угадайка\" (😃) с легкостью может показать результат как минимум в `69.35%` правильных ответов. Собственно, от этой границы и будем отталкиваться, оценивая адекватность нашей модели далее.\n",
    "\n",
    "В этом исследовании затрагивать способы перебалансировки классов не будем и внедрим их в следующих проектах."
   ]
  },
  {
   "cell_type": "markdown",
   "metadata": {},
   "source": [
    "## Шаг 2. Разбиение данных ✂️"
   ]
  },
  {
   "cell_type": "markdown",
   "metadata": {},
   "source": [
    "Данные поделим на три выборки в соотношении **3\\:1\\:1** : тренировочная, валидационная и тестовая."
   ]
  },
  {
   "cell_type": "markdown",
   "metadata": {},
   "source": [
    "Выполним разбиение данных на три выборки"
   ]
  },
  {
   "cell_type": "code",
   "execution_count": 10,
   "metadata": {},
   "outputs": [],
   "source": [
    "train, validate, test = np.split(\n",
    "    data.sample(\n",
    "        frac=1,\n",
    "        random_state=2786\n",
    "    ),\n",
    "    [int(.6*len(data)), int(.8*len(data))]\n",
    ")\n",
    "\n",
    "X_train = train.drop(columns=['is_ultra'])\n",
    "Y_train = train['is_ultra']\n",
    "\n",
    "X_valid = validate.drop(columns=['is_ultra'])\n",
    "Y_valid = validate['is_ultra']\n",
    "\n",
    "X_test = test.drop(columns=['is_ultra'])\n",
    "Y_test = test['is_ultra']"
   ]
  },
  {
   "cell_type": "markdown",
   "metadata": {},
   "source": [
    "Убедимся, что наборы данных составлены верно"
   ]
  },
  {
   "cell_type": "code",
   "execution_count": 11,
   "metadata": {
    "scrolled": true
   },
   "outputs": [
    {
     "name": "stdout",
     "output_type": "stream",
     "text": [
      "Кол-во объектов в X_train: 1928\n",
      "Кол-во объектов в Y_train: 1928\n",
      "\n",
      "Кол-во объектов в X_valid: 643\n",
      "Кол-во объектов в Y_valid: 643\n",
      "\n",
      "Кол-во объектов в X_test: 643\n",
      "Кол-во объектов в Y_test: 643\n"
     ]
    }
   ],
   "source": [
    "print(\n",
    "    f'Кол-во объектов в X_train: {len(X_train)}\\n'\n",
    "    f'Кол-во объектов в Y_train: {len(Y_train)}'\n",
    "    f'\\n\\n'\n",
    "    f'Кол-во объектов в X_valid: {len(X_valid)}\\n'\n",
    "    f'Кол-во объектов в Y_valid: {len(Y_valid)}'\n",
    "    f'\\n\\n'\n",
    "    f'Кол-во объектов в X_test: {len(X_test)}\\n'\n",
    "    f'Кол-во объектов в Y_test: {len(Y_test)}'\n",
    ")"
   ]
  },
  {
   "cell_type": "code",
   "execution_count": 12,
   "metadata": {
    "scrolled": true
   },
   "outputs": [
    {
     "name": "stdout",
     "output_type": "stream",
     "text": [
      "Тренировочные признаки (X_train)\n"
     ]
    },
    {
     "data": {
      "text/html": [
       "<div>\n",
       "<style scoped>\n",
       "    .dataframe tbody tr th:only-of-type {\n",
       "        vertical-align: middle;\n",
       "    }\n",
       "\n",
       "    .dataframe tbody tr th {\n",
       "        vertical-align: top;\n",
       "    }\n",
       "\n",
       "    .dataframe thead th {\n",
       "        text-align: right;\n",
       "    }\n",
       "</style>\n",
       "<table border=\"1\" class=\"dataframe\">\n",
       "  <thead>\n",
       "    <tr style=\"text-align: right;\">\n",
       "      <th></th>\n",
       "      <th>calls</th>\n",
       "      <th>minutes</th>\n",
       "      <th>messages</th>\n",
       "      <th>mb_used</th>\n",
       "    </tr>\n",
       "  </thead>\n",
       "  <tbody>\n",
       "    <tr>\n",
       "      <th>3150</th>\n",
       "      <td>93</td>\n",
       "      <td>649.53</td>\n",
       "      <td>10</td>\n",
       "      <td>17590.85</td>\n",
       "    </tr>\n",
       "    <tr>\n",
       "      <th>1381</th>\n",
       "      <td>63</td>\n",
       "      <td>403.32</td>\n",
       "      <td>65</td>\n",
       "      <td>16784.02</td>\n",
       "    </tr>\n",
       "    <tr>\n",
       "      <th>853</th>\n",
       "      <td>104</td>\n",
       "      <td>704.71</td>\n",
       "      <td>30</td>\n",
       "      <td>43304.53</td>\n",
       "    </tr>\n",
       "    <tr>\n",
       "      <th>2223</th>\n",
       "      <td>28</td>\n",
       "      <td>222.21</td>\n",
       "      <td>30</td>\n",
       "      <td>22986.30</td>\n",
       "    </tr>\n",
       "    <tr>\n",
       "      <th>1728</th>\n",
       "      <td>43</td>\n",
       "      <td>266.10</td>\n",
       "      <td>22</td>\n",
       "      <td>6676.01</td>\n",
       "    </tr>\n",
       "  </tbody>\n",
       "</table>\n",
       "</div>"
      ],
      "text/plain": [
       "      calls  minutes  messages   mb_used\n",
       "3150     93   649.53        10  17590.85\n",
       "1381     63   403.32        65  16784.02\n",
       "853     104   704.71        30  43304.53\n",
       "2223     28   222.21        30  22986.30\n",
       "1728     43   266.10        22   6676.01"
      ]
     },
     "metadata": {},
     "output_type": "display_data"
    },
    {
     "name": "stdout",
     "output_type": "stream",
     "text": [
      "\n",
      "\n",
      "Цель тренировки (Y_train)\n"
     ]
    },
    {
     "data": {
      "text/plain": [
       "3150    0\n",
       "1381    0\n",
       "853     1\n",
       "2223    0\n",
       "1728    1\n",
       "Name: is_ultra, dtype: int64"
      ]
     },
     "metadata": {},
     "output_type": "display_data"
    },
    {
     "name": "stdout",
     "output_type": "stream",
     "text": [
      "\n",
      "\n",
      "\n",
      "\n",
      "Валидационные признаки (X_valid)\n"
     ]
    },
    {
     "data": {
      "text/html": [
       "<div>\n",
       "<style scoped>\n",
       "    .dataframe tbody tr th:only-of-type {\n",
       "        vertical-align: middle;\n",
       "    }\n",
       "\n",
       "    .dataframe tbody tr th {\n",
       "        vertical-align: top;\n",
       "    }\n",
       "\n",
       "    .dataframe thead th {\n",
       "        text-align: right;\n",
       "    }\n",
       "</style>\n",
       "<table border=\"1\" class=\"dataframe\">\n",
       "  <thead>\n",
       "    <tr style=\"text-align: right;\">\n",
       "      <th></th>\n",
       "      <th>calls</th>\n",
       "      <th>minutes</th>\n",
       "      <th>messages</th>\n",
       "      <th>mb_used</th>\n",
       "    </tr>\n",
       "  </thead>\n",
       "  <tbody>\n",
       "    <tr>\n",
       "      <th>1887</th>\n",
       "      <td>48</td>\n",
       "      <td>316.55</td>\n",
       "      <td>50</td>\n",
       "      <td>19504.31</td>\n",
       "    </tr>\n",
       "    <tr>\n",
       "      <th>2128</th>\n",
       "      <td>50</td>\n",
       "      <td>291.52</td>\n",
       "      <td>68</td>\n",
       "      <td>12643.05</td>\n",
       "    </tr>\n",
       "    <tr>\n",
       "      <th>1257</th>\n",
       "      <td>68</td>\n",
       "      <td>543.50</td>\n",
       "      <td>2</td>\n",
       "      <td>11372.29</td>\n",
       "    </tr>\n",
       "    <tr>\n",
       "      <th>1295</th>\n",
       "      <td>105</td>\n",
       "      <td>763.27</td>\n",
       "      <td>10</td>\n",
       "      <td>33233.63</td>\n",
       "    </tr>\n",
       "    <tr>\n",
       "      <th>2825</th>\n",
       "      <td>83</td>\n",
       "      <td>588.95</td>\n",
       "      <td>68</td>\n",
       "      <td>15433.18</td>\n",
       "    </tr>\n",
       "  </tbody>\n",
       "</table>\n",
       "</div>"
      ],
      "text/plain": [
       "      calls  minutes  messages   mb_used\n",
       "1887     48   316.55        50  19504.31\n",
       "2128     50   291.52        68  12643.05\n",
       "1257     68   543.50         2  11372.29\n",
       "1295    105   763.27        10  33233.63\n",
       "2825     83   588.95        68  15433.18"
      ]
     },
     "metadata": {},
     "output_type": "display_data"
    },
    {
     "name": "stdout",
     "output_type": "stream",
     "text": [
      "\n",
      "\n",
      "Цель валидации (Y_valid)\n"
     ]
    },
    {
     "data": {
      "text/plain": [
       "1887    0\n",
       "2128    0\n",
       "1257    0\n",
       "1295    1\n",
       "2825    0\n",
       "Name: is_ultra, dtype: int64"
      ]
     },
     "metadata": {},
     "output_type": "display_data"
    },
    {
     "name": "stdout",
     "output_type": "stream",
     "text": [
      "\n",
      "\n",
      "\n",
      "\n",
      "Тестировочные признаки (X_test)\n"
     ]
    },
    {
     "data": {
      "text/html": [
       "<div>\n",
       "<style scoped>\n",
       "    .dataframe tbody tr th:only-of-type {\n",
       "        vertical-align: middle;\n",
       "    }\n",
       "\n",
       "    .dataframe tbody tr th {\n",
       "        vertical-align: top;\n",
       "    }\n",
       "\n",
       "    .dataframe thead th {\n",
       "        text-align: right;\n",
       "    }\n",
       "</style>\n",
       "<table border=\"1\" class=\"dataframe\">\n",
       "  <thead>\n",
       "    <tr style=\"text-align: right;\">\n",
       "      <th></th>\n",
       "      <th>calls</th>\n",
       "      <th>minutes</th>\n",
       "      <th>messages</th>\n",
       "      <th>mb_used</th>\n",
       "    </tr>\n",
       "  </thead>\n",
       "  <tbody>\n",
       "    <tr>\n",
       "      <th>1652</th>\n",
       "      <td>112</td>\n",
       "      <td>717.85</td>\n",
       "      <td>128</td>\n",
       "      <td>27194.86</td>\n",
       "    </tr>\n",
       "    <tr>\n",
       "      <th>1169</th>\n",
       "      <td>55</td>\n",
       "      <td>298.60</td>\n",
       "      <td>6</td>\n",
       "      <td>14288.14</td>\n",
       "    </tr>\n",
       "    <tr>\n",
       "      <th>687</th>\n",
       "      <td>62</td>\n",
       "      <td>371.18</td>\n",
       "      <td>7</td>\n",
       "      <td>18076.46</td>\n",
       "    </tr>\n",
       "    <tr>\n",
       "      <th>2566</th>\n",
       "      <td>41</td>\n",
       "      <td>289.83</td>\n",
       "      <td>15</td>\n",
       "      <td>22151.73</td>\n",
       "    </tr>\n",
       "    <tr>\n",
       "      <th>2035</th>\n",
       "      <td>59</td>\n",
       "      <td>420.57</td>\n",
       "      <td>70</td>\n",
       "      <td>25990.33</td>\n",
       "    </tr>\n",
       "  </tbody>\n",
       "</table>\n",
       "</div>"
      ],
      "text/plain": [
       "      calls  minutes  messages   mb_used\n",
       "1652    112   717.85       128  27194.86\n",
       "1169     55   298.60         6  14288.14\n",
       "687      62   371.18         7  18076.46\n",
       "2566     41   289.83        15  22151.73\n",
       "2035     59   420.57        70  25990.33"
      ]
     },
     "metadata": {},
     "output_type": "display_data"
    },
    {
     "name": "stdout",
     "output_type": "stream",
     "text": [
      "\n",
      "\n",
      "Цель теста (Y_test)\n"
     ]
    },
    {
     "data": {
      "text/plain": [
       "1652    1\n",
       "1169    0\n",
       "687     0\n",
       "2566    0\n",
       "2035    0\n",
       "Name: is_ultra, dtype: int64"
      ]
     },
     "metadata": {},
     "output_type": "display_data"
    },
    {
     "name": "stdout",
     "output_type": "stream",
     "text": [
      "\n",
      "\n",
      "\n",
      "\n"
     ]
    }
   ],
   "source": [
    "datasets = [\n",
    "    {'Тренировочные признаки (X_train)': X_train,\n",
    "     'Цель тренировки (Y_train)': Y_train},\n",
    "    {'Валидационные признаки (X_valid)': X_valid,\n",
    "     'Цель валидации (Y_valid)': Y_valid},\n",
    "    {'Тестировочные признаки (X_test)': X_test, 'Цель теста (Y_test)': Y_test}\n",
    "]\n",
    "\n",
    "for dataset_info in datasets:\n",
    "    print(list(dataset_info.keys())[0])\n",
    "    display(list(dataset_info.values())[0].head())\n",
    "    print('\\n')\n",
    "    print(list(dataset_info.keys())[1])\n",
    "    display(list(dataset_info.values())[1].head())\n",
    "    print('\\n\\n\\n')"
   ]
  },
  {
   "cell_type": "markdown",
   "metadata": {},
   "source": [
    "Все выполненно корректно. Данные успешно разбиты на три выборки: тренировочная, валидационная и тестовая.\n",
    "\n",
    "Для удобства работы в дальнейшем сохраним каждый датасет отдельно локально.\n",
    "\n",
    "Назовем из соответственно: \n",
    "- Тренировочный набор: `f_train.csv` и `t_train.csv`;\n",
    "- Валидационный набор: `f_valid.csv` и `t_valid.csv`;\n",
    "- Тестовый набор: `f_test.csv` и `t_test.csv`."
   ]
  },
  {
   "cell_type": "code",
   "execution_count": 13,
   "metadata": {},
   "outputs": [],
   "source": [
    "X_train.to_csv('f_train.csv', index=False)\n",
    "Y_train.to_csv('t_train.csv', index=False)\n",
    "\n",
    "X_valid.to_csv('f_valid.csv', index=False)\n",
    "Y_valid.to_csv('t_valid.csv', index=False)\n",
    "\n",
    "X_test.to_csv('f_test.csv', index=False)\n",
    "Y_test.to_csv('t_test.csv', index=False)"
   ]
  },
  {
   "cell_type": "markdown",
   "metadata": {},
   "source": [
    "Данные успешно поделены в соотношении 3\\:1\\:1 и готовы для использования в процессе обучения моделей"
   ]
  },
  {
   "cell_type": "markdown",
   "metadata": {},
   "source": [
    "## Выбор модели 🤖"
   ]
  },
  {
   "cell_type": "markdown",
   "metadata": {},
   "source": [
    "Как было установлено ранее, предстоит решить задачу **бинарной классификации**.\n",
    "\n",
    "Существует несколько классфикационных моделей, каждую из которых стоит рассмотреть как потенциального кандидата на роль наиболее подходящей для нашей ситуации:\n",
    "- `LogisticRegression`\n",
    "- `RandomForestRegressor`\n",
    "\n",
    "Для сравнения метрик (о каких именно - далее), отражающих эффективность каждой из моделей, требуется сначала построить сами модели. В свою очередь, для этого нужно подобрать наиболее подходящие гиперпараметры для каждой из них, чтобы сузить круг поиска и выбирать из перечня лучших.\n",
    "\n",
    "Подбор наиболее подходящих гиперпараметров осуществим при помощи `GridSearchCV` из модуля `sklearn.model_selection`. Этот инструмент позволит значительно снизить затраты времени на проведение сравнения характреристик каждой из моделей.\n",
    "\n",
    "Для повышения качества обучения модели также будем использовать **K-fold кросс-валидацию**, которая дополнительно разобьет тестовую выборку на несколько частей (например, поделит весь набор на 5 частей и 4 из них - тренировочные, 1 - тестовая) некоторое количество раз и поочередно обучит на их основе модель, после чего мы сможем понять, в каком или в каких случаях модель обучалась лучше всего. Использование этой техники при обучении модели особенно актуально в нашем случае, поскольку объем данных невелик.\n",
    "\n",
    "Пайплайн поиска наиболее эффективного решения выглядит следующим образом:\n",
    "\n",
    "![Пайплайн выбора модели](https://i.ibb.co/BGr9ZZ0/Business-Process-Business-Process-1.png)\n",
    "\n",
    "Для каждого из типов моделей будет выполнена K-fold кросс-валидация, настройка гиперпараметров при помощи `GridSearchCV` и определение лучшего их набора для последующего сравнения с аналогичными моделями в других классах.\n",
    "\n",
    "Сравнение моделей будем производить исходя из получаемых значений следующих метрик:\n",
    "- `Accuracy` Доля правильных ответов. Пожалуй, основная характеристика модели.\n",
    "- `Precision` Можно интерпретировать как долю объектов, названных классификатором положительными и при этом действительно являющимися положительными\n",
    "- `Recall` Показывает, какую долю объектов положительного класса из всех объектов положительного класса нашел алгоритм\n",
    "- `F1 score` Измеряет, насколько точно модель классифицирует данные, и насколько полно она может идентифицировать все классы. `F1-мера` объединяет точность и полноту в одно число, которое показывает, насколько хорошо модель работает в целом."
   ]
  },
  {
   "cell_type": "markdown",
   "metadata": {},
   "source": [
    "Прочитаем тренировочные данные"
   ]
  },
  {
   "cell_type": "code",
   "execution_count": 14,
   "metadata": {},
   "outputs": [],
   "source": [
    "X_train = pd.read_csv('f_train.csv')\n",
    "Y_train = pd.read_csv('t_train.csv')"
   ]
  },
  {
   "cell_type": "markdown",
   "metadata": {},
   "source": [
    "### Логистическая регрессия"
   ]
  },
  {
   "cell_type": "markdown",
   "metadata": {},
   "source": [
    "#### Кросс-валидация и настройка гиперпараметров"
   ]
  },
  {
   "cell_type": "code",
   "execution_count": 15,
   "metadata": {},
   "outputs": [
    {
     "data": {
      "text/plain": [
       "array([0.74870466, 0.74093264, 0.69430052, 0.72987013, 0.69350649])"
      ]
     },
     "execution_count": 15,
     "metadata": {},
     "output_type": "execute_result"
    }
   ],
   "source": [
    "logr = LogisticRegression(random_state=42)\n",
    "\n",
    "scores = cross_val_score(logr, X_train, Y_train.values.ravel(), cv=5)\n",
    "\n",
    "scores"
   ]
  },
  {
   "cell_type": "markdown",
   "metadata": {},
   "source": [
    "`GridSearchCV` использует сетку параметров, внутри которой перебирает все возможные комбинации параметров.\n",
    "\n",
    "Составим эту сетку путем создания словаря `hyperparams`, в котором в виде ключей будут имена гиперпараметров, а в виде ключей списки с их различными значениями. \n",
    "\n",
    "В качестве проверяемых гиперпараметров выделим следующие:\n",
    "- `C`\n",
    "    Этот параметр задает обратную силу регуляризации. В других словах, параметр `C` определяет, насколько \"жестко\" мы хотим, чтобы модель подгоняла данные. Если мы установим маленькое значение `C`, то модель будет сильно регуляризована и будет склонна обобщаться лучше на новые данные. Наоборот, большое значение `C` позволяет модели более точно подгонять данные, что может привести к переобучению на тренировочных данных.\n",
    "- `penalty` \n",
    "    Этот параметр задает тип регуляризации, которая будет использоваться для уменьшения переобучения модели. Возможными значениями являются `l1`, `l2`, `elasticnet` и `None`.\n",
    "- `solver`\n",
    "    Этот параметр задает алгоритм, который будет использоваться для решения оптимизационной задачи в логистической регрессии. В официальной документации для небольшого объема данных рекомендуют использовать `liblinear` - как раз и убедимся, действительно ли он так хорош.\n",
    "\n",
    "Далее передадим соответствующие агрументы: модель, словарь гиперпараметров и значение для выбора стратегии кросс-валидации (при значении 3, к примеру, данные будут поделены на три части). Совершим подгонку, используя метод `fit()` "
   ]
  },
  {
   "cell_type": "code",
   "execution_count": 16,
   "metadata": {},
   "outputs": [
    {
     "data": {
      "text/html": [
       "<style>#sk-container-id-1 {color: black;background-color: white;}#sk-container-id-1 pre{padding: 0;}#sk-container-id-1 div.sk-toggleable {background-color: white;}#sk-container-id-1 label.sk-toggleable__label {cursor: pointer;display: block;width: 100%;margin-bottom: 0;padding: 0.3em;box-sizing: border-box;text-align: center;}#sk-container-id-1 label.sk-toggleable__label-arrow:before {content: \"▸\";float: left;margin-right: 0.25em;color: #696969;}#sk-container-id-1 label.sk-toggleable__label-arrow:hover:before {color: black;}#sk-container-id-1 div.sk-estimator:hover label.sk-toggleable__label-arrow:before {color: black;}#sk-container-id-1 div.sk-toggleable__content {max-height: 0;max-width: 0;overflow: hidden;text-align: left;background-color: #f0f8ff;}#sk-container-id-1 div.sk-toggleable__content pre {margin: 0.2em;color: black;border-radius: 0.25em;background-color: #f0f8ff;}#sk-container-id-1 input.sk-toggleable__control:checked~div.sk-toggleable__content {max-height: 200px;max-width: 100%;overflow: auto;}#sk-container-id-1 input.sk-toggleable__control:checked~label.sk-toggleable__label-arrow:before {content: \"▾\";}#sk-container-id-1 div.sk-estimator input.sk-toggleable__control:checked~label.sk-toggleable__label {background-color: #d4ebff;}#sk-container-id-1 div.sk-label input.sk-toggleable__control:checked~label.sk-toggleable__label {background-color: #d4ebff;}#sk-container-id-1 input.sk-hidden--visually {border: 0;clip: rect(1px 1px 1px 1px);clip: rect(1px, 1px, 1px, 1px);height: 1px;margin: -1px;overflow: hidden;padding: 0;position: absolute;width: 1px;}#sk-container-id-1 div.sk-estimator {font-family: monospace;background-color: #f0f8ff;border: 1px dotted black;border-radius: 0.25em;box-sizing: border-box;margin-bottom: 0.5em;}#sk-container-id-1 div.sk-estimator:hover {background-color: #d4ebff;}#sk-container-id-1 div.sk-parallel-item::after {content: \"\";width: 100%;border-bottom: 1px solid gray;flex-grow: 1;}#sk-container-id-1 div.sk-label:hover label.sk-toggleable__label {background-color: #d4ebff;}#sk-container-id-1 div.sk-serial::before {content: \"\";position: absolute;border-left: 1px solid gray;box-sizing: border-box;top: 0;bottom: 0;left: 50%;z-index: 0;}#sk-container-id-1 div.sk-serial {display: flex;flex-direction: column;align-items: center;background-color: white;padding-right: 0.2em;padding-left: 0.2em;position: relative;}#sk-container-id-1 div.sk-item {position: relative;z-index: 1;}#sk-container-id-1 div.sk-parallel {display: flex;align-items: stretch;justify-content: center;background-color: white;position: relative;}#sk-container-id-1 div.sk-item::before, #sk-container-id-1 div.sk-parallel-item::before {content: \"\";position: absolute;border-left: 1px solid gray;box-sizing: border-box;top: 0;bottom: 0;left: 50%;z-index: -1;}#sk-container-id-1 div.sk-parallel-item {display: flex;flex-direction: column;z-index: 1;position: relative;background-color: white;}#sk-container-id-1 div.sk-parallel-item:first-child::after {align-self: flex-end;width: 50%;}#sk-container-id-1 div.sk-parallel-item:last-child::after {align-self: flex-start;width: 50%;}#sk-container-id-1 div.sk-parallel-item:only-child::after {width: 0;}#sk-container-id-1 div.sk-dashed-wrapped {border: 1px dashed gray;margin: 0 0.4em 0.5em 0.4em;box-sizing: border-box;padding-bottom: 0.4em;background-color: white;}#sk-container-id-1 div.sk-label label {font-family: monospace;font-weight: bold;display: inline-block;line-height: 1.2em;}#sk-container-id-1 div.sk-label-container {text-align: center;}#sk-container-id-1 div.sk-container {/* jupyter's `normalize.less` sets `[hidden] { display: none; }` but bootstrap.min.css set `[hidden] { display: none !important; }` so we also need the `!important` here to be able to override the default hidden behavior on the sphinx rendered scikit-learn.org. See: https://github.com/scikit-learn/scikit-learn/issues/21755 */display: inline-block !important;position: relative;}#sk-container-id-1 div.sk-text-repr-fallback {display: none;}</style><div id=\"sk-container-id-1\" class=\"sk-top-container\"><div class=\"sk-text-repr-fallback\"><pre>GridSearchCV(cv=5, estimator=LogisticRegression(random_state=42),\n",
       "             param_grid={&#x27;C&#x27;: [0.01, 0.1, 0.3, 0.5],\n",
       "                         &#x27;penalty&#x27;: [&#x27;l1&#x27;, &#x27;l2&#x27;, None, None],\n",
       "                         &#x27;solver&#x27;: [&#x27;lbfgs&#x27;, &#x27;liblinear&#x27;, None, None]})</pre><b>In a Jupyter environment, please rerun this cell to show the HTML representation or trust the notebook. <br />On GitHub, the HTML representation is unable to render, please try loading this page with nbviewer.org.</b></div><div class=\"sk-container\" hidden><div class=\"sk-item sk-dashed-wrapped\"><div class=\"sk-label-container\"><div class=\"sk-label sk-toggleable\"><input class=\"sk-toggleable__control sk-hidden--visually\" id=\"sk-estimator-id-1\" type=\"checkbox\" ><label for=\"sk-estimator-id-1\" class=\"sk-toggleable__label sk-toggleable__label-arrow\">GridSearchCV</label><div class=\"sk-toggleable__content\"><pre>GridSearchCV(cv=5, estimator=LogisticRegression(random_state=42),\n",
       "             param_grid={&#x27;C&#x27;: [0.01, 0.1, 0.3, 0.5],\n",
       "                         &#x27;penalty&#x27;: [&#x27;l1&#x27;, &#x27;l2&#x27;, None, None],\n",
       "                         &#x27;solver&#x27;: [&#x27;lbfgs&#x27;, &#x27;liblinear&#x27;, None, None]})</pre></div></div></div><div class=\"sk-parallel\"><div class=\"sk-parallel-item\"><div class=\"sk-item\"><div class=\"sk-label-container\"><div class=\"sk-label sk-toggleable\"><input class=\"sk-toggleable__control sk-hidden--visually\" id=\"sk-estimator-id-2\" type=\"checkbox\" ><label for=\"sk-estimator-id-2\" class=\"sk-toggleable__label sk-toggleable__label-arrow\">estimator: LogisticRegression</label><div class=\"sk-toggleable__content\"><pre>LogisticRegression(random_state=42)</pre></div></div></div><div class=\"sk-serial\"><div class=\"sk-item\"><div class=\"sk-estimator sk-toggleable\"><input class=\"sk-toggleable__control sk-hidden--visually\" id=\"sk-estimator-id-3\" type=\"checkbox\" ><label for=\"sk-estimator-id-3\" class=\"sk-toggleable__label sk-toggleable__label-arrow\">LogisticRegression</label><div class=\"sk-toggleable__content\"><pre>LogisticRegression(random_state=42)</pre></div></div></div></div></div></div></div></div></div></div>"
      ],
      "text/plain": [
       "GridSearchCV(cv=5, estimator=LogisticRegression(random_state=42),\n",
       "             param_grid={'C': [0.01, 0.1, 0.3, 0.5],\n",
       "                         'penalty': ['l1', 'l2', None, None],\n",
       "                         'solver': ['lbfgs', 'liblinear', None, None]})"
      ]
     },
     "execution_count": 16,
     "metadata": {},
     "output_type": "execute_result"
    }
   ],
   "source": [
    "hyperparams = {\n",
    "    'C': [0.01, 0.1, 0.3, 0.5],\n",
    "    'penalty': ['l1', 'l2', None, None],\n",
    "    'solver': ['lbfgs', 'liblinear', None, None]\n",
    "}\n",
    "\n",
    "logr_cross_val = GridSearchCV(logr, hyperparams, cv=5)\n",
    "\n",
    "logr_cross_val.fit(X_train, Y_train.values.ravel())"
   ]
  },
  {
   "cell_type": "markdown",
   "metadata": {},
   "source": [
    "Сетка параметров составлена. Теперь напишем функцию `optimal_params`, которая вывыдет значение средней точности предсказаний модели при кросс-валидации для каждого из наборов параметров и сами параметры. По итогу отберем самую лучшую модель.\n",
    "\n",
    "Также дополнительно вручную отберем еще пару моделей, чтобы дальше их тоже сравнить."
   ]
  },
  {
   "cell_type": "code",
   "execution_count": 17,
   "metadata": {},
   "outputs": [
    {
     "name": "stdout",
     "output_type": "stream",
     "text": [
      "Оптимальные гиперпараметры: {'C': 0.5, 'penalty': 'l1', 'solver': 'liblinear'}\n",
      "\n",
      "Средний рейтинг: nan\n",
      "Стандартное отклонение: nan\n",
      "Проверяемые параметры: {'C': 0.01, 'penalty': 'l1', 'solver': 'lbfgs'}\n",
      "\n",
      "\n",
      "Средний рейтинг: 0.695\n",
      "Стандартное отклонение: 0.003\n",
      "Проверяемые параметры: {'C': 0.01, 'penalty': 'l1', 'solver': 'liblinear'}\n",
      "\n",
      "\n",
      "Средний рейтинг: nan\n",
      "Стандартное отклонение: nan\n",
      "Проверяемые параметры: {'C': 0.01, 'penalty': 'l1', 'solver': None}\n",
      "\n",
      "\n",
      "Средний рейтинг: nan\n",
      "Стандартное отклонение: nan\n",
      "Проверяемые параметры: {'C': 0.01, 'penalty': 'l1', 'solver': None}\n",
      "\n",
      "\n",
      "Средний рейтинг: 0.721\n",
      "Стандартное отклонение: 0.023\n",
      "Проверяемые параметры: {'C': 0.01, 'penalty': 'l2', 'solver': 'lbfgs'}\n",
      "\n",
      "\n",
      "Средний рейтинг: 0.697\n",
      "Стандартное отклонение: 0.005\n",
      "Проверяемые параметры: {'C': 0.01, 'penalty': 'l2', 'solver': 'liblinear'}\n",
      "\n",
      "\n",
      "Средний рейтинг: nan\n",
      "Стандартное отклонение: nan\n",
      "Проверяемые параметры: {'C': 0.01, 'penalty': 'l2', 'solver': None}\n",
      "\n",
      "\n",
      "Средний рейтинг: nan\n",
      "Стандартное отклонение: nan\n",
      "Проверяемые параметры: {'C': 0.01, 'penalty': 'l2', 'solver': None}\n",
      "\n",
      "\n",
      "Средний рейтинг: 0.732\n",
      "Стандартное отклонение: 0.021\n",
      "Проверяемые параметры: {'C': 0.01, 'penalty': None, 'solver': 'lbfgs'}\n",
      "\n",
      "\n",
      "Средний рейтинг: nan\n",
      "Стандартное отклонение: nan\n",
      "Проверяемые параметры: {'C': 0.01, 'penalty': None, 'solver': 'liblinear'}\n",
      "\n",
      "\n",
      "Средний рейтинг: nan\n",
      "Стандартное отклонение: nan\n",
      "Проверяемые параметры: {'C': 0.01, 'penalty': None, 'solver': None}\n",
      "\n",
      "\n",
      "Средний рейтинг: nan\n",
      "Стандартное отклонение: nan\n",
      "Проверяемые параметры: {'C': 0.01, 'penalty': None, 'solver': None}\n",
      "\n",
      "\n",
      "Средний рейтинг: 0.732\n",
      "Стандартное отклонение: 0.021\n",
      "Проверяемые параметры: {'C': 0.01, 'penalty': None, 'solver': 'lbfgs'}\n",
      "\n",
      "\n",
      "Средний рейтинг: nan\n",
      "Стандартное отклонение: nan\n",
      "Проверяемые параметры: {'C': 0.01, 'penalty': None, 'solver': 'liblinear'}\n",
      "\n",
      "\n",
      "Средний рейтинг: nan\n",
      "Стандартное отклонение: nan\n",
      "Проверяемые параметры: {'C': 0.01, 'penalty': None, 'solver': None}\n",
      "\n",
      "\n",
      "Средний рейтинг: nan\n",
      "Стандартное отклонение: nan\n",
      "Проверяемые параметры: {'C': 0.01, 'penalty': None, 'solver': None}\n",
      "\n",
      "\n",
      "Средний рейтинг: nan\n",
      "Стандартное отклонение: nan\n",
      "Проверяемые параметры: {'C': 0.1, 'penalty': 'l1', 'solver': 'lbfgs'}\n",
      "\n",
      "\n",
      "Средний рейтинг: 0.735\n",
      "Стандартное отклонение: 0.008\n",
      "Проверяемые параметры: {'C': 0.1, 'penalty': 'l1', 'solver': 'liblinear'}\n",
      "\n",
      "\n",
      "Средний рейтинг: nan\n",
      "Стандартное отклонение: nan\n",
      "Проверяемые параметры: {'C': 0.1, 'penalty': 'l1', 'solver': None}\n",
      "\n",
      "\n",
      "Средний рейтинг: nan\n",
      "Стандартное отклонение: nan\n",
      "Проверяемые параметры: {'C': 0.1, 'penalty': 'l1', 'solver': None}\n",
      "\n",
      "\n",
      "Средний рейтинг: 0.721\n",
      "Стандартное отклонение: 0.023\n",
      "Проверяемые параметры: {'C': 0.1, 'penalty': 'l2', 'solver': 'lbfgs'}\n",
      "\n",
      "\n",
      "Средний рейтинг: 0.696\n",
      "Стандартное отклонение: 0.004\n",
      "Проверяемые параметры: {'C': 0.1, 'penalty': 'l2', 'solver': 'liblinear'}\n",
      "\n",
      "\n",
      "Средний рейтинг: nan\n",
      "Стандартное отклонение: nan\n",
      "Проверяемые параметры: {'C': 0.1, 'penalty': 'l2', 'solver': None}\n",
      "\n",
      "\n",
      "Средний рейтинг: nan\n",
      "Стандартное отклонение: nan\n",
      "Проверяемые параметры: {'C': 0.1, 'penalty': 'l2', 'solver': None}\n",
      "\n",
      "\n",
      "Средний рейтинг: 0.732\n",
      "Стандартное отклонение: 0.021\n",
      "Проверяемые параметры: {'C': 0.1, 'penalty': None, 'solver': 'lbfgs'}\n",
      "\n",
      "\n",
      "Средний рейтинг: nan\n",
      "Стандартное отклонение: nan\n",
      "Проверяемые параметры: {'C': 0.1, 'penalty': None, 'solver': 'liblinear'}\n",
      "\n",
      "\n",
      "Средний рейтинг: nan\n",
      "Стандартное отклонение: nan\n",
      "Проверяемые параметры: {'C': 0.1, 'penalty': None, 'solver': None}\n",
      "\n",
      "\n",
      "Средний рейтинг: nan\n",
      "Стандартное отклонение: nan\n",
      "Проверяемые параметры: {'C': 0.1, 'penalty': None, 'solver': None}\n",
      "\n",
      "\n",
      "Средний рейтинг: 0.732\n",
      "Стандартное отклонение: 0.021\n",
      "Проверяемые параметры: {'C': 0.1, 'penalty': None, 'solver': 'lbfgs'}\n",
      "\n",
      "\n",
      "Средний рейтинг: nan\n",
      "Стандартное отклонение: nan\n",
      "Проверяемые параметры: {'C': 0.1, 'penalty': None, 'solver': 'liblinear'}\n",
      "\n",
      "\n",
      "Средний рейтинг: nan\n",
      "Стандартное отклонение: nan\n",
      "Проверяемые параметры: {'C': 0.1, 'penalty': None, 'solver': None}\n",
      "\n",
      "\n",
      "Средний рейтинг: nan\n",
      "Стандартное отклонение: nan\n",
      "Проверяемые параметры: {'C': 0.1, 'penalty': None, 'solver': None}\n",
      "\n",
      "\n",
      "Средний рейтинг: nan\n",
      "Стандартное отклонение: nan\n",
      "Проверяемые параметры: {'C': 0.3, 'penalty': 'l1', 'solver': 'lbfgs'}\n",
      "\n",
      "\n",
      "Средний рейтинг: 0.738\n",
      "Стандартное отклонение: 0.012\n",
      "Проверяемые параметры: {'C': 0.3, 'penalty': 'l1', 'solver': 'liblinear'}\n",
      "\n",
      "\n",
      "Средний рейтинг: nan\n",
      "Стандартное отклонение: nan\n",
      "Проверяемые параметры: {'C': 0.3, 'penalty': 'l1', 'solver': None}\n",
      "\n",
      "\n",
      "Средний рейтинг: nan\n",
      "Стандартное отклонение: nan\n",
      "Проверяемые параметры: {'C': 0.3, 'penalty': 'l1', 'solver': None}\n",
      "\n",
      "\n",
      "Средний рейтинг: 0.732\n",
      "Стандартное отклонение: 0.021\n",
      "Проверяемые параметры: {'C': 0.3, 'penalty': 'l2', 'solver': 'lbfgs'}\n",
      "\n",
      "\n",
      "Средний рейтинг: 0.703\n",
      "Стандартное отклонение: 0.011\n",
      "Проверяемые параметры: {'C': 0.3, 'penalty': 'l2', 'solver': 'liblinear'}\n",
      "\n",
      "\n",
      "Средний рейтинг: nan\n",
      "Стандартное отклонение: nan\n",
      "Проверяемые параметры: {'C': 0.3, 'penalty': 'l2', 'solver': None}\n",
      "\n",
      "\n",
      "Средний рейтинг: nan\n",
      "Стандартное отклонение: nan\n",
      "Проверяемые параметры: {'C': 0.3, 'penalty': 'l2', 'solver': None}\n",
      "\n",
      "\n",
      "Средний рейтинг: 0.732\n",
      "Стандартное отклонение: 0.021\n",
      "Проверяемые параметры: {'C': 0.3, 'penalty': None, 'solver': 'lbfgs'}\n",
      "\n",
      "\n",
      "Средний рейтинг: nan\n",
      "Стандартное отклонение: nan\n",
      "Проверяемые параметры: {'C': 0.3, 'penalty': None, 'solver': 'liblinear'}\n",
      "\n",
      "\n",
      "Средний рейтинг: nan\n",
      "Стандартное отклонение: nan\n",
      "Проверяемые параметры: {'C': 0.3, 'penalty': None, 'solver': None}\n",
      "\n",
      "\n",
      "Средний рейтинг: nan\n",
      "Стандартное отклонение: nan\n",
      "Проверяемые параметры: {'C': 0.3, 'penalty': None, 'solver': None}\n",
      "\n",
      "\n",
      "Средний рейтинг: 0.732\n",
      "Стандартное отклонение: 0.021\n",
      "Проверяемые параметры: {'C': 0.3, 'penalty': None, 'solver': 'lbfgs'}\n",
      "\n",
      "\n",
      "Средний рейтинг: nan\n",
      "Стандартное отклонение: nan\n",
      "Проверяемые параметры: {'C': 0.3, 'penalty': None, 'solver': 'liblinear'}\n",
      "\n",
      "\n",
      "Средний рейтинг: nan\n",
      "Стандартное отклонение: nan\n",
      "Проверяемые параметры: {'C': 0.3, 'penalty': None, 'solver': None}\n",
      "\n",
      "\n",
      "Средний рейтинг: nan\n",
      "Стандартное отклонение: nan\n",
      "Проверяемые параметры: {'C': 0.3, 'penalty': None, 'solver': None}\n",
      "\n",
      "\n",
      "Средний рейтинг: nan\n",
      "Стандартное отклонение: nan\n",
      "Проверяемые параметры: {'C': 0.5, 'penalty': 'l1', 'solver': 'lbfgs'}\n",
      "\n",
      "\n",
      "Средний рейтинг: 0.738\n",
      "Стандартное отклонение: 0.012\n",
      "Проверяемые параметры: {'C': 0.5, 'penalty': 'l1', 'solver': 'liblinear'}\n",
      "\n",
      "\n",
      "Средний рейтинг: nan\n",
      "Стандартное отклонение: nan\n",
      "Проверяемые параметры: {'C': 0.5, 'penalty': 'l1', 'solver': None}\n",
      "\n",
      "\n",
      "Средний рейтинг: nan\n",
      "Стандартное отклонение: nan\n",
      "Проверяемые параметры: {'C': 0.5, 'penalty': 'l1', 'solver': None}\n",
      "\n",
      "\n",
      "Средний рейтинг: 0.721\n",
      "Стандартное отклонение: 0.023\n",
      "Проверяемые параметры: {'C': 0.5, 'penalty': 'l2', 'solver': 'lbfgs'}\n",
      "\n",
      "\n",
      "Средний рейтинг: 0.704\n",
      "Стандартное отклонение: 0.011\n",
      "Проверяемые параметры: {'C': 0.5, 'penalty': 'l2', 'solver': 'liblinear'}\n",
      "\n",
      "\n",
      "Средний рейтинг: nan\n",
      "Стандартное отклонение: nan\n",
      "Проверяемые параметры: {'C': 0.5, 'penalty': 'l2', 'solver': None}\n",
      "\n",
      "\n",
      "Средний рейтинг: nan\n",
      "Стандартное отклонение: nan\n",
      "Проверяемые параметры: {'C': 0.5, 'penalty': 'l2', 'solver': None}\n",
      "\n",
      "\n",
      "Средний рейтинг: 0.732\n",
      "Стандартное отклонение: 0.021\n",
      "Проверяемые параметры: {'C': 0.5, 'penalty': None, 'solver': 'lbfgs'}\n",
      "\n",
      "\n",
      "Средний рейтинг: nan\n",
      "Стандартное отклонение: nan\n",
      "Проверяемые параметры: {'C': 0.5, 'penalty': None, 'solver': 'liblinear'}\n",
      "\n",
      "\n",
      "Средний рейтинг: nan\n",
      "Стандартное отклонение: nan\n",
      "Проверяемые параметры: {'C': 0.5, 'penalty': None, 'solver': None}\n",
      "\n",
      "\n",
      "Средний рейтинг: nan\n",
      "Стандартное отклонение: nan\n",
      "Проверяемые параметры: {'C': 0.5, 'penalty': None, 'solver': None}\n",
      "\n",
      "\n",
      "Средний рейтинг: 0.732\n",
      "Стандартное отклонение: 0.021\n",
      "Проверяемые параметры: {'C': 0.5, 'penalty': None, 'solver': 'lbfgs'}\n",
      "\n",
      "\n",
      "Средний рейтинг: nan\n",
      "Стандартное отклонение: nan\n",
      "Проверяемые параметры: {'C': 0.5, 'penalty': None, 'solver': 'liblinear'}\n",
      "\n",
      "\n",
      "Средний рейтинг: nan\n",
      "Стандартное отклонение: nan\n",
      "Проверяемые параметры: {'C': 0.5, 'penalty': None, 'solver': None}\n",
      "\n",
      "\n",
      "Средний рейтинг: nan\n",
      "Стандартное отклонение: nan\n",
      "Проверяемые параметры: {'C': 0.5, 'penalty': None, 'solver': None}\n",
      "\n",
      "\n"
     ]
    }
   ],
   "source": [
    "def optimal_params(grid):\n",
    "    print(f'Оптимальные гиперпараметры: {grid.best_params_}\\n')\n",
    "\n",
    "    means = grid.cv_results_['mean_test_score']\n",
    "    stds = grid.cv_results_['std_test_score']\n",
    "\n",
    "    for mean, std, params in zip(means, stds, grid.cv_results_['params']):\n",
    "        print(\n",
    "            f'Средний рейтинг: {np.round(mean, 3)}\\n'\n",
    "            f'Стандартное отклонение: {np.round(std, 3)}\\n'\n",
    "            f'Проверяемые параметры: {params}\\n\\n'\n",
    "        )\n",
    "\n",
    "\n",
    "optimal_params(logr_cross_val)"
   ]
  },
  {
   "cell_type": "markdown",
   "metadata": {},
   "source": [
    "По итогам перебора отобраны три лучшие модели со следющими гиперпараметрами:\n",
    "- `C` = 0.5, `penalty` = 'l1', `solver` = 'liblinear'\n",
    "- `C` = 0.3, `penalty` = 'l1', `solver` = 'liblinear'\n",
    "- `C` = 0.1, `penalty` = 'l1', `solver` = 'liblinear'\n",
    "\n",
    "Собственно, вот и подтвердилось то, что алгоритм решения `liblinear` в нашем конкретном случае лидирует.\n",
    "\n",
    "Различаются только параметры `C`, но это в целом понятно: чем больше `C`, тем лучше результат показывает модель на тренировочных данных. Главное - не перестараться, ибо дальше модель начнет переобучаться, а результаты предсказаний падать."
   ]
  },
  {
   "cell_type": "markdown",
   "metadata": {},
   "source": [
    "#### Валидация модели"
   ]
  },
  {
   "cell_type": "code",
   "execution_count": 18,
   "metadata": {},
   "outputs": [
    {
     "data": {
      "text/html": [
       "<style>#sk-container-id-2 {color: black;background-color: white;}#sk-container-id-2 pre{padding: 0;}#sk-container-id-2 div.sk-toggleable {background-color: white;}#sk-container-id-2 label.sk-toggleable__label {cursor: pointer;display: block;width: 100%;margin-bottom: 0;padding: 0.3em;box-sizing: border-box;text-align: center;}#sk-container-id-2 label.sk-toggleable__label-arrow:before {content: \"▸\";float: left;margin-right: 0.25em;color: #696969;}#sk-container-id-2 label.sk-toggleable__label-arrow:hover:before {color: black;}#sk-container-id-2 div.sk-estimator:hover label.sk-toggleable__label-arrow:before {color: black;}#sk-container-id-2 div.sk-toggleable__content {max-height: 0;max-width: 0;overflow: hidden;text-align: left;background-color: #f0f8ff;}#sk-container-id-2 div.sk-toggleable__content pre {margin: 0.2em;color: black;border-radius: 0.25em;background-color: #f0f8ff;}#sk-container-id-2 input.sk-toggleable__control:checked~div.sk-toggleable__content {max-height: 200px;max-width: 100%;overflow: auto;}#sk-container-id-2 input.sk-toggleable__control:checked~label.sk-toggleable__label-arrow:before {content: \"▾\";}#sk-container-id-2 div.sk-estimator input.sk-toggleable__control:checked~label.sk-toggleable__label {background-color: #d4ebff;}#sk-container-id-2 div.sk-label input.sk-toggleable__control:checked~label.sk-toggleable__label {background-color: #d4ebff;}#sk-container-id-2 input.sk-hidden--visually {border: 0;clip: rect(1px 1px 1px 1px);clip: rect(1px, 1px, 1px, 1px);height: 1px;margin: -1px;overflow: hidden;padding: 0;position: absolute;width: 1px;}#sk-container-id-2 div.sk-estimator {font-family: monospace;background-color: #f0f8ff;border: 1px dotted black;border-radius: 0.25em;box-sizing: border-box;margin-bottom: 0.5em;}#sk-container-id-2 div.sk-estimator:hover {background-color: #d4ebff;}#sk-container-id-2 div.sk-parallel-item::after {content: \"\";width: 100%;border-bottom: 1px solid gray;flex-grow: 1;}#sk-container-id-2 div.sk-label:hover label.sk-toggleable__label {background-color: #d4ebff;}#sk-container-id-2 div.sk-serial::before {content: \"\";position: absolute;border-left: 1px solid gray;box-sizing: border-box;top: 0;bottom: 0;left: 50%;z-index: 0;}#sk-container-id-2 div.sk-serial {display: flex;flex-direction: column;align-items: center;background-color: white;padding-right: 0.2em;padding-left: 0.2em;position: relative;}#sk-container-id-2 div.sk-item {position: relative;z-index: 1;}#sk-container-id-2 div.sk-parallel {display: flex;align-items: stretch;justify-content: center;background-color: white;position: relative;}#sk-container-id-2 div.sk-item::before, #sk-container-id-2 div.sk-parallel-item::before {content: \"\";position: absolute;border-left: 1px solid gray;box-sizing: border-box;top: 0;bottom: 0;left: 50%;z-index: -1;}#sk-container-id-2 div.sk-parallel-item {display: flex;flex-direction: column;z-index: 1;position: relative;background-color: white;}#sk-container-id-2 div.sk-parallel-item:first-child::after {align-self: flex-end;width: 50%;}#sk-container-id-2 div.sk-parallel-item:last-child::after {align-self: flex-start;width: 50%;}#sk-container-id-2 div.sk-parallel-item:only-child::after {width: 0;}#sk-container-id-2 div.sk-dashed-wrapped {border: 1px dashed gray;margin: 0 0.4em 0.5em 0.4em;box-sizing: border-box;padding-bottom: 0.4em;background-color: white;}#sk-container-id-2 div.sk-label label {font-family: monospace;font-weight: bold;display: inline-block;line-height: 1.2em;}#sk-container-id-2 div.sk-label-container {text-align: center;}#sk-container-id-2 div.sk-container {/* jupyter's `normalize.less` sets `[hidden] { display: none; }` but bootstrap.min.css set `[hidden] { display: none !important; }` so we also need the `!important` here to be able to override the default hidden behavior on the sphinx rendered scikit-learn.org. See: https://github.com/scikit-learn/scikit-learn/issues/21755 */display: inline-block !important;position: relative;}#sk-container-id-2 div.sk-text-repr-fallback {display: none;}</style><div id=\"sk-container-id-2\" class=\"sk-top-container\"><div class=\"sk-text-repr-fallback\"><pre>LogisticRegression(C=0.1, penalty=&#x27;l1&#x27;, random_state=123, solver=&#x27;liblinear&#x27;)</pre><b>In a Jupyter environment, please rerun this cell to show the HTML representation or trust the notebook. <br />On GitHub, the HTML representation is unable to render, please try loading this page with nbviewer.org.</b></div><div class=\"sk-container\" hidden><div class=\"sk-item\"><div class=\"sk-estimator sk-toggleable\"><input class=\"sk-toggleable__control sk-hidden--visually\" id=\"sk-estimator-id-4\" type=\"checkbox\" checked><label for=\"sk-estimator-id-4\" class=\"sk-toggleable__label sk-toggleable__label-arrow\">LogisticRegression</label><div class=\"sk-toggleable__content\"><pre>LogisticRegression(C=0.1, penalty=&#x27;l1&#x27;, random_state=123, solver=&#x27;liblinear&#x27;)</pre></div></div></div></div></div>"
      ],
      "text/plain": [
       "LogisticRegression(C=0.1, penalty='l1', random_state=123, solver='liblinear')"
      ]
     },
     "execution_count": 18,
     "metadata": {},
     "output_type": "execute_result"
    }
   ],
   "source": [
    "logr1 = LogisticRegression(\n",
    "    solver='liblinear', penalty='l1', C=0.5, random_state=123)\n",
    "logr1.fit(X_train, Y_train)\n",
    "\n",
    "logr2 = LogisticRegression(\n",
    "    solver='liblinear', penalty='l1', C=0.3, random_state=123)\n",
    "logr2.fit(X_train, Y_train)\n",
    "\n",
    "logr3 = LogisticRegression(\n",
    "    solver='liblinear', penalty='l1', C=0.1, random_state=123)\n",
    "logr3.fit(X_train, Y_train)"
   ]
  },
  {
   "cell_type": "code",
   "execution_count": 19,
   "metadata": {},
   "outputs": [],
   "source": [
    "X_valid = pd.read_csv('f_valid.csv')\n",
    "Y_valid = pd.read_csv('t_valid.csv')"
   ]
  },
  {
   "cell_type": "markdown",
   "metadata": {},
   "source": [
    "Посмотрим на метрики"
   ]
  },
  {
   "cell_type": "code",
   "execution_count": 20,
   "metadata": {
    "scrolled": true
   },
   "outputs": [
    {
     "name": "stdout",
     "output_type": "stream",
     "text": [
      "C: 0.5 | Solver: liblinear | Penalty: l1 || Accuracy: 0.768 | Precision: 0.829 | Recall: 0.317 | F1 score: 0.458\n",
      "C: 0.3 | Solver: liblinear | Penalty: l1 || Accuracy: 0.767 | Precision: 0.827 | Recall: 0.312 | F1 score: 0.453\n",
      "C: 0.1 | Solver: liblinear | Penalty: l1 || Accuracy: 0.76 | Precision: 0.836 | Recall: 0.281 | F1 score: 0.421\n"
     ]
    }
   ],
   "source": [
    "for model in [logr1, logr2, logr3]:\n",
    "    predictions = model.predict(X_valid)\n",
    "    accuracy = np.round(accuracy_score(Y_valid, predictions), 3)\n",
    "    recall = np.round(recall_score(Y_valid, predictions), 3)\n",
    "    precision = np.round(precision_score(Y_valid, predictions), 3)\n",
    "    f1 = np.round(f1_score(Y_valid, predictions), 3)\n",
    "\n",
    "    print(\n",
    "        f'C: {model.C} | '\n",
    "        f'Solver: {model.solver} | '\n",
    "        f'Penalty: {model.penalty} || '\n",
    "        f'Accuracy: {accuracy} | '\n",
    "        f'Precision: {precision} | '\n",
    "        f'Recall: {recall} | '\n",
    "        f'F1 score: {f1}'\n",
    "    )"
   ]
  },
  {
   "cell_type": "markdown",
   "metadata": {},
   "source": [
    "Итак, лучшая модель имеет гиперпараметры: `C` = 0.5, `penalty` = 'l1', `solver` = 'liblinear'.\n",
    "\n",
    "Значения `Accuracy` и `Precision` хорошие, но при этом метрики `Recall` и `F1 мера` показывают довольно низкие значения. Причиной этому может служить то, что модель классифицирует тариф исходя из всех заданных признаков, а так как многие абоненты почти не пользуются минутами и смс, при этом активно используют интернет, то модель ошибочно предсказывает более дешевый тариф. Избежать этого возможно, если, к примеру, собрать больше данных о том, на что абоненты тратят этот самый трафик. Так, например, для просмотра фильмов и видео тербуется больше трафика, следовательно, таким пользователям тариф с большим кол-вом гигабайт интернета будет как раз кстати.\n",
    "\n",
    "Одна модель была рассмотрена, и результаты пока не слишком впечатляют. Посмотрим, покажет ли модель `RandomForestClassifier` лучшие результаты, по сравнению с этой"
   ]
  },
  {
   "cell_type": "markdown",
   "metadata": {},
   "source": [
    "### Случайный лес"
   ]
  },
  {
   "cell_type": "markdown",
   "metadata": {},
   "source": [
    "#### Кросс-валидация и настройка гиперпараметров"
   ]
  },
  {
   "cell_type": "code",
   "execution_count": 21,
   "metadata": {},
   "outputs": [
    {
     "data": {
      "text/plain": [
       "array([0.7746114 , 0.76943005, 0.78238342, 0.81558442, 0.78701299])"
      ]
     },
     "execution_count": 21,
     "metadata": {},
     "output_type": "execute_result"
    }
   ],
   "source": [
    "rfc = RandomForestClassifier(random_state=4627)\n",
    "\n",
    "scores = cross_val_score(rfc, X_train, Y_train.values.ravel(), cv=5)\n",
    "\n",
    "scores"
   ]
  },
  {
   "cell_type": "markdown",
   "metadata": {},
   "source": [
    "Сходу виден результат куда лучше. И это с учетом того, что гиперпараметры еще не были настроены.\n",
    "\n",
    "Выполним те же шаги по улучшению качества модели, настроив гиперпараметры через `GridSearchCV`, и выберем наилучший их набор и модель соответственно\n",
    "\n",
    "Перебирать будем следующие гиперпараметры:\n",
    "- `n_estimators` Общее кол-во отдельных решающих деревьев в лесу\n",
    "- `max_depth` Максимальная глубина каждого дерева"
   ]
  },
  {
   "cell_type": "code",
   "execution_count": 22,
   "metadata": {},
   "outputs": [
    {
     "data": {
      "text/html": [
       "<style>#sk-container-id-3 {color: black;background-color: white;}#sk-container-id-3 pre{padding: 0;}#sk-container-id-3 div.sk-toggleable {background-color: white;}#sk-container-id-3 label.sk-toggleable__label {cursor: pointer;display: block;width: 100%;margin-bottom: 0;padding: 0.3em;box-sizing: border-box;text-align: center;}#sk-container-id-3 label.sk-toggleable__label-arrow:before {content: \"▸\";float: left;margin-right: 0.25em;color: #696969;}#sk-container-id-3 label.sk-toggleable__label-arrow:hover:before {color: black;}#sk-container-id-3 div.sk-estimator:hover label.sk-toggleable__label-arrow:before {color: black;}#sk-container-id-3 div.sk-toggleable__content {max-height: 0;max-width: 0;overflow: hidden;text-align: left;background-color: #f0f8ff;}#sk-container-id-3 div.sk-toggleable__content pre {margin: 0.2em;color: black;border-radius: 0.25em;background-color: #f0f8ff;}#sk-container-id-3 input.sk-toggleable__control:checked~div.sk-toggleable__content {max-height: 200px;max-width: 100%;overflow: auto;}#sk-container-id-3 input.sk-toggleable__control:checked~label.sk-toggleable__label-arrow:before {content: \"▾\";}#sk-container-id-3 div.sk-estimator input.sk-toggleable__control:checked~label.sk-toggleable__label {background-color: #d4ebff;}#sk-container-id-3 div.sk-label input.sk-toggleable__control:checked~label.sk-toggleable__label {background-color: #d4ebff;}#sk-container-id-3 input.sk-hidden--visually {border: 0;clip: rect(1px 1px 1px 1px);clip: rect(1px, 1px, 1px, 1px);height: 1px;margin: -1px;overflow: hidden;padding: 0;position: absolute;width: 1px;}#sk-container-id-3 div.sk-estimator {font-family: monospace;background-color: #f0f8ff;border: 1px dotted black;border-radius: 0.25em;box-sizing: border-box;margin-bottom: 0.5em;}#sk-container-id-3 div.sk-estimator:hover {background-color: #d4ebff;}#sk-container-id-3 div.sk-parallel-item::after {content: \"\";width: 100%;border-bottom: 1px solid gray;flex-grow: 1;}#sk-container-id-3 div.sk-label:hover label.sk-toggleable__label {background-color: #d4ebff;}#sk-container-id-3 div.sk-serial::before {content: \"\";position: absolute;border-left: 1px solid gray;box-sizing: border-box;top: 0;bottom: 0;left: 50%;z-index: 0;}#sk-container-id-3 div.sk-serial {display: flex;flex-direction: column;align-items: center;background-color: white;padding-right: 0.2em;padding-left: 0.2em;position: relative;}#sk-container-id-3 div.sk-item {position: relative;z-index: 1;}#sk-container-id-3 div.sk-parallel {display: flex;align-items: stretch;justify-content: center;background-color: white;position: relative;}#sk-container-id-3 div.sk-item::before, #sk-container-id-3 div.sk-parallel-item::before {content: \"\";position: absolute;border-left: 1px solid gray;box-sizing: border-box;top: 0;bottom: 0;left: 50%;z-index: -1;}#sk-container-id-3 div.sk-parallel-item {display: flex;flex-direction: column;z-index: 1;position: relative;background-color: white;}#sk-container-id-3 div.sk-parallel-item:first-child::after {align-self: flex-end;width: 50%;}#sk-container-id-3 div.sk-parallel-item:last-child::after {align-self: flex-start;width: 50%;}#sk-container-id-3 div.sk-parallel-item:only-child::after {width: 0;}#sk-container-id-3 div.sk-dashed-wrapped {border: 1px dashed gray;margin: 0 0.4em 0.5em 0.4em;box-sizing: border-box;padding-bottom: 0.4em;background-color: white;}#sk-container-id-3 div.sk-label label {font-family: monospace;font-weight: bold;display: inline-block;line-height: 1.2em;}#sk-container-id-3 div.sk-label-container {text-align: center;}#sk-container-id-3 div.sk-container {/* jupyter's `normalize.less` sets `[hidden] { display: none; }` but bootstrap.min.css set `[hidden] { display: none !important; }` so we also need the `!important` here to be able to override the default hidden behavior on the sphinx rendered scikit-learn.org. See: https://github.com/scikit-learn/scikit-learn/issues/21755 */display: inline-block !important;position: relative;}#sk-container-id-3 div.sk-text-repr-fallback {display: none;}</style><div id=\"sk-container-id-3\" class=\"sk-top-container\"><div class=\"sk-text-repr-fallback\"><pre>GridSearchCV(cv=5, estimator=RandomForestClassifier(random_state=4627),\n",
       "             param_grid={&#x27;max_depth&#x27;: [2, 12, 24, None],\n",
       "                         &#x27;n_estimators&#x27;: [25, 50, 100, 300]})</pre><b>In a Jupyter environment, please rerun this cell to show the HTML representation or trust the notebook. <br />On GitHub, the HTML representation is unable to render, please try loading this page with nbviewer.org.</b></div><div class=\"sk-container\" hidden><div class=\"sk-item sk-dashed-wrapped\"><div class=\"sk-label-container\"><div class=\"sk-label sk-toggleable\"><input class=\"sk-toggleable__control sk-hidden--visually\" id=\"sk-estimator-id-5\" type=\"checkbox\" ><label for=\"sk-estimator-id-5\" class=\"sk-toggleable__label sk-toggleable__label-arrow\">GridSearchCV</label><div class=\"sk-toggleable__content\"><pre>GridSearchCV(cv=5, estimator=RandomForestClassifier(random_state=4627),\n",
       "             param_grid={&#x27;max_depth&#x27;: [2, 12, 24, None],\n",
       "                         &#x27;n_estimators&#x27;: [25, 50, 100, 300]})</pre></div></div></div><div class=\"sk-parallel\"><div class=\"sk-parallel-item\"><div class=\"sk-item\"><div class=\"sk-label-container\"><div class=\"sk-label sk-toggleable\"><input class=\"sk-toggleable__control sk-hidden--visually\" id=\"sk-estimator-id-6\" type=\"checkbox\" ><label for=\"sk-estimator-id-6\" class=\"sk-toggleable__label sk-toggleable__label-arrow\">estimator: RandomForestClassifier</label><div class=\"sk-toggleable__content\"><pre>RandomForestClassifier(random_state=4627)</pre></div></div></div><div class=\"sk-serial\"><div class=\"sk-item\"><div class=\"sk-estimator sk-toggleable\"><input class=\"sk-toggleable__control sk-hidden--visually\" id=\"sk-estimator-id-7\" type=\"checkbox\" ><label for=\"sk-estimator-id-7\" class=\"sk-toggleable__label sk-toggleable__label-arrow\">RandomForestClassifier</label><div class=\"sk-toggleable__content\"><pre>RandomForestClassifier(random_state=4627)</pre></div></div></div></div></div></div></div></div></div></div>"
      ],
      "text/plain": [
       "GridSearchCV(cv=5, estimator=RandomForestClassifier(random_state=4627),\n",
       "             param_grid={'max_depth': [2, 12, 24, None],\n",
       "                         'n_estimators': [25, 50, 100, 300]})"
      ]
     },
     "execution_count": 22,
     "metadata": {},
     "output_type": "execute_result"
    }
   ],
   "source": [
    "hyperparams = {\n",
    "    'n_estimators': [25, 50, 100, 300],\n",
    "    'max_depth': [2, 12, 24, None]\n",
    "}\n",
    "\n",
    "rfc_cross_val = GridSearchCV(rfc, hyperparams, cv=5)\n",
    "\n",
    "rfc_cross_val.fit(X_train, Y_train.values.ravel())"
   ]
  },
  {
   "cell_type": "code",
   "execution_count": 23,
   "metadata": {
    "scrolled": true
   },
   "outputs": [
    {
     "name": "stdout",
     "output_type": "stream",
     "text": [
      "Оптимальные гиперпараметры: {'max_depth': 12, 'n_estimators': 300}\n",
      "\n",
      "Средний рейтинг: 0.77\n",
      "Стандартное отклонение: 0.018\n",
      "Проверяемые параметры: {'max_depth': 2, 'n_estimators': 25}\n",
      "\n",
      "\n",
      "Средний рейтинг: 0.767\n",
      "Стандартное отклонение: 0.018\n",
      "Проверяемые параметры: {'max_depth': 2, 'n_estimators': 50}\n",
      "\n",
      "\n",
      "Средний рейтинг: 0.768\n",
      "Стандартное отклонение: 0.016\n",
      "Проверяемые параметры: {'max_depth': 2, 'n_estimators': 100}\n",
      "\n",
      "\n",
      "Средний рейтинг: 0.768\n",
      "Стандартное отклонение: 0.016\n",
      "Проверяемые параметры: {'max_depth': 2, 'n_estimators': 300}\n",
      "\n",
      "\n",
      "Средний рейтинг: 0.782\n",
      "Стандартное отклонение: 0.022\n",
      "Проверяемые параметры: {'max_depth': 12, 'n_estimators': 25}\n",
      "\n",
      "\n",
      "Средний рейтинг: 0.788\n",
      "Стандартное отклонение: 0.015\n",
      "Проверяемые параметры: {'max_depth': 12, 'n_estimators': 50}\n",
      "\n",
      "\n",
      "Средний рейтинг: 0.796\n",
      "Стандартное отклонение: 0.01\n",
      "Проверяемые параметры: {'max_depth': 12, 'n_estimators': 100}\n",
      "\n",
      "\n",
      "Средний рейтинг: 0.798\n",
      "Стандартное отклонение: 0.009\n",
      "Проверяемые параметры: {'max_depth': 12, 'n_estimators': 300}\n",
      "\n",
      "\n",
      "Средний рейтинг: 0.784\n",
      "Стандартное отклонение: 0.016\n",
      "Проверяемые параметры: {'max_depth': 24, 'n_estimators': 25}\n",
      "\n",
      "\n",
      "Средний рейтинг: 0.783\n",
      "Стандартное отклонение: 0.016\n",
      "Проверяемые параметры: {'max_depth': 24, 'n_estimators': 50}\n",
      "\n",
      "\n",
      "Средний рейтинг: 0.786\n",
      "Стандартное отклонение: 0.017\n",
      "Проверяемые параметры: {'max_depth': 24, 'n_estimators': 100}\n",
      "\n",
      "\n",
      "Средний рейтинг: 0.785\n",
      "Стандартное отклонение: 0.012\n",
      "Проверяемые параметры: {'max_depth': 24, 'n_estimators': 300}\n",
      "\n",
      "\n",
      "Средний рейтинг: 0.781\n",
      "Стандартное отклонение: 0.015\n",
      "Проверяемые параметры: {'max_depth': None, 'n_estimators': 25}\n",
      "\n",
      "\n",
      "Средний рейтинг: 0.784\n",
      "Стандартное отклонение: 0.016\n",
      "Проверяемые параметры: {'max_depth': None, 'n_estimators': 50}\n",
      "\n",
      "\n",
      "Средний рейтинг: 0.786\n",
      "Стандартное отклонение: 0.016\n",
      "Проверяемые параметры: {'max_depth': None, 'n_estimators': 100}\n",
      "\n",
      "\n",
      "Средний рейтинг: 0.785\n",
      "Стандартное отклонение: 0.015\n",
      "Проверяемые параметры: {'max_depth': None, 'n_estimators': 300}\n",
      "\n",
      "\n"
     ]
    }
   ],
   "source": [
    "optimal_params(rfc_cross_val)"
   ]
  },
  {
   "cell_type": "markdown",
   "metadata": {},
   "source": [
    "#### Валидация модели"
   ]
  },
  {
   "cell_type": "markdown",
   "metadata": {},
   "source": [
    "Отбираем трех лидеров"
   ]
  },
  {
   "cell_type": "code",
   "execution_count": 24,
   "metadata": {
    "scrolled": true
   },
   "outputs": [
    {
     "data": {
      "text/html": [
       "<style>#sk-container-id-4 {color: black;background-color: white;}#sk-container-id-4 pre{padding: 0;}#sk-container-id-4 div.sk-toggleable {background-color: white;}#sk-container-id-4 label.sk-toggleable__label {cursor: pointer;display: block;width: 100%;margin-bottom: 0;padding: 0.3em;box-sizing: border-box;text-align: center;}#sk-container-id-4 label.sk-toggleable__label-arrow:before {content: \"▸\";float: left;margin-right: 0.25em;color: #696969;}#sk-container-id-4 label.sk-toggleable__label-arrow:hover:before {color: black;}#sk-container-id-4 div.sk-estimator:hover label.sk-toggleable__label-arrow:before {color: black;}#sk-container-id-4 div.sk-toggleable__content {max-height: 0;max-width: 0;overflow: hidden;text-align: left;background-color: #f0f8ff;}#sk-container-id-4 div.sk-toggleable__content pre {margin: 0.2em;color: black;border-radius: 0.25em;background-color: #f0f8ff;}#sk-container-id-4 input.sk-toggleable__control:checked~div.sk-toggleable__content {max-height: 200px;max-width: 100%;overflow: auto;}#sk-container-id-4 input.sk-toggleable__control:checked~label.sk-toggleable__label-arrow:before {content: \"▾\";}#sk-container-id-4 div.sk-estimator input.sk-toggleable__control:checked~label.sk-toggleable__label {background-color: #d4ebff;}#sk-container-id-4 div.sk-label input.sk-toggleable__control:checked~label.sk-toggleable__label {background-color: #d4ebff;}#sk-container-id-4 input.sk-hidden--visually {border: 0;clip: rect(1px 1px 1px 1px);clip: rect(1px, 1px, 1px, 1px);height: 1px;margin: -1px;overflow: hidden;padding: 0;position: absolute;width: 1px;}#sk-container-id-4 div.sk-estimator {font-family: monospace;background-color: #f0f8ff;border: 1px dotted black;border-radius: 0.25em;box-sizing: border-box;margin-bottom: 0.5em;}#sk-container-id-4 div.sk-estimator:hover {background-color: #d4ebff;}#sk-container-id-4 div.sk-parallel-item::after {content: \"\";width: 100%;border-bottom: 1px solid gray;flex-grow: 1;}#sk-container-id-4 div.sk-label:hover label.sk-toggleable__label {background-color: #d4ebff;}#sk-container-id-4 div.sk-serial::before {content: \"\";position: absolute;border-left: 1px solid gray;box-sizing: border-box;top: 0;bottom: 0;left: 50%;z-index: 0;}#sk-container-id-4 div.sk-serial {display: flex;flex-direction: column;align-items: center;background-color: white;padding-right: 0.2em;padding-left: 0.2em;position: relative;}#sk-container-id-4 div.sk-item {position: relative;z-index: 1;}#sk-container-id-4 div.sk-parallel {display: flex;align-items: stretch;justify-content: center;background-color: white;position: relative;}#sk-container-id-4 div.sk-item::before, #sk-container-id-4 div.sk-parallel-item::before {content: \"\";position: absolute;border-left: 1px solid gray;box-sizing: border-box;top: 0;bottom: 0;left: 50%;z-index: -1;}#sk-container-id-4 div.sk-parallel-item {display: flex;flex-direction: column;z-index: 1;position: relative;background-color: white;}#sk-container-id-4 div.sk-parallel-item:first-child::after {align-self: flex-end;width: 50%;}#sk-container-id-4 div.sk-parallel-item:last-child::after {align-self: flex-start;width: 50%;}#sk-container-id-4 div.sk-parallel-item:only-child::after {width: 0;}#sk-container-id-4 div.sk-dashed-wrapped {border: 1px dashed gray;margin: 0 0.4em 0.5em 0.4em;box-sizing: border-box;padding-bottom: 0.4em;background-color: white;}#sk-container-id-4 div.sk-label label {font-family: monospace;font-weight: bold;display: inline-block;line-height: 1.2em;}#sk-container-id-4 div.sk-label-container {text-align: center;}#sk-container-id-4 div.sk-container {/* jupyter's `normalize.less` sets `[hidden] { display: none; }` but bootstrap.min.css set `[hidden] { display: none !important; }` so we also need the `!important` here to be able to override the default hidden behavior on the sphinx rendered scikit-learn.org. See: https://github.com/scikit-learn/scikit-learn/issues/21755 */display: inline-block !important;position: relative;}#sk-container-id-4 div.sk-text-repr-fallback {display: none;}</style><div id=\"sk-container-id-4\" class=\"sk-top-container\"><div class=\"sk-text-repr-fallback\"><pre>RandomForestClassifier(max_depth=12, n_estimators=50, random_state=123)</pre><b>In a Jupyter environment, please rerun this cell to show the HTML representation or trust the notebook. <br />On GitHub, the HTML representation is unable to render, please try loading this page with nbviewer.org.</b></div><div class=\"sk-container\" hidden><div class=\"sk-item\"><div class=\"sk-estimator sk-toggleable\"><input class=\"sk-toggleable__control sk-hidden--visually\" id=\"sk-estimator-id-8\" type=\"checkbox\" checked><label for=\"sk-estimator-id-8\" class=\"sk-toggleable__label sk-toggleable__label-arrow\">RandomForestClassifier</label><div class=\"sk-toggleable__content\"><pre>RandomForestClassifier(max_depth=12, n_estimators=50, random_state=123)</pre></div></div></div></div></div>"
      ],
      "text/plain": [
       "RandomForestClassifier(max_depth=12, n_estimators=50, random_state=123)"
      ]
     },
     "execution_count": 24,
     "metadata": {},
     "output_type": "execute_result"
    }
   ],
   "source": [
    "rfc1 = RandomForestClassifier(n_estimators=300, max_depth=12, random_state=123)\n",
    "rfc1.fit(X_train, Y_train)\n",
    "\n",
    "rfc2 = RandomForestClassifier(n_estimators=100, max_depth=12, random_state=123)\n",
    "rfc2.fit(X_train, Y_train)\n",
    "\n",
    "rfc3 = RandomForestClassifier(n_estimators=50, max_depth=12, random_state=123)\n",
    "rfc3.fit(X_train, Y_train)"
   ]
  },
  {
   "cell_type": "markdown",
   "metadata": {},
   "source": [
    "Взглянем на метрики каждой из моделей"
   ]
  },
  {
   "cell_type": "code",
   "execution_count": 25,
   "metadata": {},
   "outputs": [
    {
     "name": "stdout",
     "output_type": "stream",
     "text": [
      "n_est: 300 | max_depth: 12 || Accuracy: 0.832 | Precision: 0.801 | Recall: 0.608 | F1 score: 0.691\n",
      "n_est: 100 | max_depth: 12 || Accuracy: 0.834 | Precision: 0.807 | Recall: 0.608 | F1 score: 0.693\n",
      "n_est: 50 | max_depth: 12 || Accuracy: 0.83 | Precision: 0.8 | Recall: 0.603 | F1 score: 0.688\n"
     ]
    }
   ],
   "source": [
    "for model in [rfc1, rfc2, rfc3]:\n",
    "    predictions = model.predict(X_valid)\n",
    "    accuracy = np.round(accuracy_score(Y_valid, predictions), 3)\n",
    "    recall = np.round(recall_score(Y_valid, predictions), 3)\n",
    "    precision = np.round(precision_score(Y_valid, predictions), 3)\n",
    "    f1 = np.round(f1_score(Y_valid, predictions), 3)\n",
    "\n",
    "    print(\n",
    "        f'n_est: {model.n_estimators} | '\n",
    "        f'max_depth: {model.max_depth} || '\n",
    "        f'Accuracy: {accuracy} | '\n",
    "        f'Precision: {precision} | '\n",
    "        f'Recall: {recall} | '\n",
    "        f'F1 score: {f1}'\n",
    "    )"
   ]
  },
  {
   "cell_type": "markdown",
   "metadata": {},
   "source": [
    "Итак, лучшая модель случайного леса имеет гиперпараметры `n_estimators` = 100 `max_depth` = 12\n",
    "\n",
    "Собственно, разница в точности предсказаний видна невооруженным глазом. Все метрики показывают лучшие результаты по сравнению с моделью логистической регрессии.\n",
    "\n",
    "В каждой из моделей метрика `Recall` увеличилась приблизительно вдвое, что свидетельствует о том, что этот тип модели способен лучше различить неявные закономерности в данных. В нашем же случае, вероятно, теперь и тем абонентам, кто пользуется большим кол-вом гигабайт интернета, но особо не использует минуты и смс, будет рекомендоваться более дорогой тариф) \n",
    "\n",
    "Везде выросла `F1 мера`, что не может не радовать, так как теперь модель в разы качественнее оценивает данные и выдает более правдивый результат.\n",
    "\n",
    "`Accuracy` моделей тоже выше, но конечную оценку точности предсказаний дадим при проверке модели на тестовом наборе данных, чем собственно и займемся далее"
   ]
  },
  {
   "cell_type": "markdown",
   "metadata": {},
   "source": [
    "### Итого\n",
    "\n",
    "Были рассмотрены две модели:\n",
    "- Логистическая регрессия\n",
    "- Случайный лес\n",
    "\n",
    "По результатам сравнения полученных значений метрик, модель `RandomForestClassifier` имеет лучшие показатели эффективности и результативности предсказаний, поэтому использовать стоит ее"
   ]
  },
  {
   "cell_type": "markdown",
   "metadata": {},
   "source": [
    "## Проверка моделей на тестовой выборке 🕵🏼"
   ]
  },
  {
   "cell_type": "markdown",
   "metadata": {},
   "source": [
    "Прочтем тестовые наборы с данными и сохраним их в соответствующие переменные"
   ]
  },
  {
   "cell_type": "code",
   "execution_count": 26,
   "metadata": {},
   "outputs": [],
   "source": [
    "X_test = pd.read_csv('f_test.csv')\n",
    "Y_test = pd.read_csv('t_test.csv')"
   ]
  },
  {
   "cell_type": "markdown",
   "metadata": {},
   "source": [
    "### Тестирование лучшей модели"
   ]
  },
  {
   "cell_type": "code",
   "execution_count": 27,
   "metadata": {},
   "outputs": [
    {
     "name": "stdout",
     "output_type": "stream",
     "text": [
      "n_est: 100 | max_depth: 12 || Accuracy: 0.82 | Precision: 0.81 | Recall: 0.51 | F1 score: 0.63\n"
     ]
    }
   ],
   "source": [
    "predictions = rfc2.predict(X_test)\n",
    "accuracy = np.round(accuracy_score(Y_test, predictions), 2)\n",
    "recall = np.round(recall_score(Y_test, predictions), 2)\n",
    "precision = np.round(precision_score(Y_test, predictions), 2)\n",
    "f1 = np.round(f1_score(Y_test, predictions), 2)\n",
    "\n",
    "print(\n",
    "    f'n_est: {rfc2.n_estimators} | '\n",
    "    f'max_depth: {rfc2.max_depth} || '\n",
    "    f'Accuracy: {accuracy} | '\n",
    "    f'Precision: {precision} | '\n",
    "    f'Recall: {recall} | '\n",
    "    f'F1 score: {f1}'\n",
    ")"
   ]
  },
  {
   "cell_type": "markdown",
   "metadata": {},
   "source": [
    "Немного потеряли среди всех метрик, но `F1 мера` упала не очень сильно и таки осталась на уровне \"выше среднего\".\n",
    "\n",
    "Модель показывает хороший результат на тестовых данных, значения метрик незначительно отличаются от тех, что были получены при ее проверке на валидационных данных, поэтому выбор модели `RandomForestClassifier` является целесообразным."
   ]
  },
  {
   "cell_type": "markdown",
   "metadata": {},
   "source": [
    "## Проверка модели на адекватность 🧐"
   ]
  },
  {
   "cell_type": "markdown",
   "metadata": {},
   "source": [
    "Проверка модели на адекватность - это сравнение точности простейшей модели (она просто предсказывает самый часто встречающийся класс, к примеру) с точностью предсказаний построенной модели.\n",
    "\n",
    "В качестве простейшей модели будем использовать `DummyClassifier` из модуля `dummy` библиотеки `sklearn`. В качестве параметра `strategy` передадим `most_frequent`, то есть модель как раз таки будет предсказывать самый часто встречающийся класс.\n",
    "\n",
    "Далее просто сравним точность двух моделей. Если наша модель показывает точность больше модели, которая, фактически, случайно классифицирует объекты, то модель является адекватной"
   ]
  },
  {
   "cell_type": "markdown",
   "metadata": {},
   "source": [
    "### `DummyClassifier`"
   ]
  },
  {
   "cell_type": "code",
   "execution_count": 28,
   "metadata": {
    "scrolled": true
   },
   "outputs": [
    {
     "name": "stdout",
     "output_type": "stream",
     "text": [
      "DummyClassifier score: 0.691\n",
      "RandomForestClassifier score: 0.824\n",
      "Модель адекватна и лучше случайной на 16.14%\n"
     ]
    }
   ],
   "source": [
    "dummy_clf = DummyClassifier(strategy=\"most_frequent\", random_state=12345)\n",
    "dummy_clf.fit(X_train, Y_train)\n",
    "dummy_score = np.round(dummy_clf.score(X_valid, Y_valid), 3)\n",
    "\n",
    "rfc_best_score = np.round(accuracy_score(Y_test, rfc2.predict(X_test)), 3)\n",
    "\n",
    "print(f'DummyClassifier score: {dummy_score}')\n",
    "print(f'RandomForestClassifier score: {rfc_best_score}')\n",
    "\n",
    "if rfc_best_score > dummy_score:\n",
    "    print('Модель адекватна и лучше случайной на {:.2%}'.format(1 - dummy_score/rfc_best_score))\n",
    "else:\n",
    "    print('Модель менее эффективна, чем случайная')"
   ]
  },
  {
   "cell_type": "markdown",
   "metadata": {},
   "source": [
    "Модель адекватна. `Accuracy` модели `DummyClassifier` ниже, чем построенной"
   ]
  },
  {
   "cell_type": "markdown",
   "metadata": {},
   "source": [
    "## Общий вывод 👀"
   ]
  },
  {
   "cell_type": "markdown",
   "metadata": {},
   "source": [
    "<div style=\"border: 3px solid rgb(119,212,150); padding: 20px\">\n",
    "На основе данных об абонентах за определенный период были построены несколько классификационных моделей, метрики которых сравнили и выявили самую подходящую модель, которая показывает точность в предсказаниях более <b><tt>80%</tt></b>, что больше минимально необходимого значения в <tt>75%</tt>\n",
    "    \n",
    "### Краткая сводка по выполненным задачам\n",
    "    \n",
    "#### Шаг 1. Обзор данных\n",
    "    \n",
    "- Выполнен импорт необходимых для исследования библиотек\n",
    "- Данные загружены и прочитаны, предусмотрены альтернативные способы получения исходных данных\n",
    "- Оценена информация о данных\n",
    "- Изменен тип данных, где необходимо, данные были проверены на наличие явных дубликатов\n",
    "\n",
    "#### Шаг 2. Разбиение данных\n",
    "    \n",
    "- Исходные данные были поделены на три выборки: тренировочная, валидационная и тестовая, в соотношении 3\\:1\\:1 соответственно\n",
    "- Локально сохранен каждый из наборов данных\n",
    "\n",
    "#### Шаг 3. Выбор модели\n",
    "    \n",
    "- В качестве моделей-кандидатов на роль лучшей были рассмотрены следующие:\n",
    "    - <b><tt>LogisticRegression</tt></b>\n",
    "    - <b><tt>RandomForestClassifier</tt></b>\n",
    "- Для каждой модели была выполнена *K-fold кросс-валидация* и подобраны оптимальные гиперпараметры с помощью <tt>GridSearchCV</tt>. Дополнительно, сравнили три самых лучших модели в каждом классе и из них отобрали одну самую лучшую.\n",
    "- Для каждой модели были описаны наблюдения по получившимся значениям метрик:\n",
    "    - <tt>Accuracy</tt>\n",
    "    - <tt>Precision</tt>\n",
    "    - <tt>Recall</tt>\n",
    "    - <tt>F1-score</tt>\n",
    "\n",
    "#### Шаг 4. Проверка моделей на тестовой выборке\n",
    "- Выполнена проверка моделей с оптимальными гиперпараметрами из каждой категории на тестовых данных\n",
    "- Описаны наблюдения, выбрана модель <b><tt>RandomForestClassifier</tt></b>\n",
    "\n",
    "#### Шаг 5. Проверка модели на адекватность\n",
    "- Значение метрики <tt>Accuracy</tt> выбранной модели <b><tt>RandomForestClassifier</tt></b> сравнили со значением той же метрики у модели <b><tt>DummyClassifier</tt></b>. Модель получилась адекватная.\n",
    "   \n",
    "### Как использовать полученный результат в бизнесе? Как на этих прогнозах сделать деньги?\n",
    "    \n",
    "После получения результатов, удовлетворяющих ТЗ (в нашем случае требовалось довести точность минимум до 75%), лично я бы занялся их оформлением в виде, например, презентации, которую потом показал менеджерам по продажам.\n",
    "    \n",
    "В нее было бы разумно включить графики, которые визуализировали бы динамику роста продаж после внедрения моего алгоритма. \n",
    "    \n",
    "Если рост является значимым, то я бы обратился с предложением рассмотреть возможность внедрения моего алгоритма в существующую систему рекомендаций. \n",
    "    \n",
    "**Главное, что я хотел бы донести**: алгоритм позволит затронуть покупательскую способность тех клиентов, что действительно не понимают почему стоит переплатить за лучший тариф, и, если расширяться в этом направлении, то рекомендательная система сможет подбирать оптимальный для клиента тариф, а сотовый оператор брать за эту простоту копеечку)\n",
    "\n",
    "\n",
    "### Что могло привести к получению неполноценных результатов?\n",
    "- Малый объем данных. Из-за этого модели были склонны к недообучению, что отрицательно влияет на значения метрик.\n",
    "- Малое число признаков. Как было выяснено, модели логистической регрессии сложно классифицировать объекты, когда мало действительно значимых признаков\n",
    "</div>"
   ]
  }
 ],
 "metadata": {
  "ExecuteTimeLog": [
   {
    "duration": 1123,
    "start_time": "2023-03-29T08:01:21.125Z"
   },
   {
    "duration": 113,
    "start_time": "2023-03-29T08:01:24.933Z"
   },
   {
    "duration": 856,
    "start_time": "2023-03-29T08:01:45.532Z"
   },
   {
    "duration": 801,
    "start_time": "2023-03-29T08:02:39.793Z"
   },
   {
    "duration": 783,
    "start_time": "2023-03-29T08:02:49.812Z"
   },
   {
    "duration": 3,
    "start_time": "2023-03-29T08:03:07.890Z"
   },
   {
    "duration": 611,
    "start_time": "2023-03-29T08:03:11.298Z"
   },
   {
    "duration": 35,
    "start_time": "2023-03-29T08:11:16.731Z"
   },
   {
    "duration": 31,
    "start_time": "2023-03-29T08:11:28.383Z"
   },
   {
    "duration": 1745,
    "start_time": "2023-04-05T17:40:18.963Z"
   },
   {
    "duration": 3,
    "start_time": "2023-04-05T17:40:20.710Z"
   },
   {
    "duration": 139,
    "start_time": "2023-04-05T17:40:20.714Z"
   },
   {
    "duration": 11,
    "start_time": "2023-04-05T17:40:20.855Z"
   },
   {
    "duration": 1120,
    "start_time": "2023-04-05T17:40:20.868Z"
   },
   {
    "duration": 6,
    "start_time": "2023-04-05T17:40:21.989Z"
   },
   {
    "duration": 11,
    "start_time": "2023-04-05T17:40:21.997Z"
   },
   {
    "duration": 11,
    "start_time": "2023-04-05T17:40:22.009Z"
   },
   {
    "duration": 30,
    "start_time": "2023-04-05T17:40:22.021Z"
   },
   {
    "duration": 3,
    "start_time": "2023-04-05T17:40:22.054Z"
   },
   {
    "duration": 32,
    "start_time": "2023-04-05T17:40:22.059Z"
   },
   {
    "duration": 1410,
    "start_time": "2023-04-05T17:40:22.092Z"
   },
   {
    "duration": 323,
    "start_time": "2023-04-05T17:40:23.504Z"
   },
   {
    "duration": 99,
    "start_time": "2023-04-05T17:40:23.829Z"
   },
   {
    "duration": 1055,
    "start_time": "2023-04-05T17:40:23.930Z"
   },
   {
    "duration": 9,
    "start_time": "2023-04-05T17:40:24.987Z"
   },
   {
    "duration": 22,
    "start_time": "2023-04-05T17:40:24.998Z"
   },
   {
    "duration": 227,
    "start_time": "2023-04-05T17:40:25.022Z"
   },
   {
    "duration": 21,
    "start_time": "2023-04-05T17:40:25.251Z"
   },
   {
    "duration": 1782,
    "start_time": "2023-04-05T17:40:25.273Z"
   },
   {
    "duration": 29163,
    "start_time": "2023-04-05T17:40:27.056Z"
   },
   {
    "duration": 5,
    "start_time": "2023-04-05T17:40:56.220Z"
   },
   {
    "duration": 1550,
    "start_time": "2023-04-05T17:40:56.227Z"
   },
   {
    "duration": 165,
    "start_time": "2023-04-05T17:40:57.778Z"
   },
   {
    "duration": 102,
    "start_time": "2023-04-05T17:40:57.944Z"
   },
   {
    "duration": 14,
    "start_time": "2023-04-05T17:40:58.048Z"
   },
   {
    "duration": 28,
    "start_time": "2023-04-05T17:40:58.063Z"
   },
   {
    "duration": 22,
    "start_time": "2023-04-05T17:40:58.094Z"
   },
   {
    "duration": 2713,
    "start_time": "2023-04-05T18:37:13.766Z"
   },
   {
    "duration": 2,
    "start_time": "2023-04-05T18:37:16.481Z"
   },
   {
    "duration": 66,
    "start_time": "2023-04-05T18:37:16.485Z"
   },
   {
    "duration": 11,
    "start_time": "2023-04-05T18:37:16.553Z"
   },
   {
    "duration": 1382,
    "start_time": "2023-04-05T18:37:16.566Z"
   },
   {
    "duration": 7,
    "start_time": "2023-04-05T18:37:17.951Z"
   },
   {
    "duration": 9,
    "start_time": "2023-04-05T18:37:17.960Z"
   },
   {
    "duration": 13,
    "start_time": "2023-04-05T18:37:17.971Z"
   },
   {
    "duration": 9,
    "start_time": "2023-04-05T18:37:17.986Z"
   },
   {
    "duration": 42,
    "start_time": "2023-04-05T18:37:17.998Z"
   },
   {
    "duration": 40,
    "start_time": "2023-04-05T18:37:18.043Z"
   },
   {
    "duration": 860,
    "start_time": "2023-04-05T18:37:18.085Z"
   },
   {
    "duration": 64,
    "start_time": "2023-04-05T18:37:18.947Z"
   },
   {
    "duration": 132,
    "start_time": "2023-04-05T18:37:19.013Z"
   },
   {
    "duration": 1211,
    "start_time": "2023-04-05T18:37:19.146Z"
   },
   {
    "duration": 13,
    "start_time": "2023-04-05T18:37:20.359Z"
   },
   {
    "duration": 22,
    "start_time": "2023-04-05T18:37:20.373Z"
   },
   {
    "duration": 70,
    "start_time": "2023-04-05T18:37:20.397Z"
   },
   {
    "duration": 21,
    "start_time": "2023-04-05T18:37:20.468Z"
   },
   {
    "duration": 1759,
    "start_time": "2023-04-05T18:37:20.491Z"
   },
   {
    "duration": 29531,
    "start_time": "2023-04-05T18:37:22.252Z"
   },
   {
    "duration": 5,
    "start_time": "2023-04-05T18:37:51.785Z"
   },
   {
    "duration": 1644,
    "start_time": "2023-04-05T18:37:51.791Z"
   },
   {
    "duration": 118,
    "start_time": "2023-04-05T18:37:53.438Z"
   },
   {
    "duration": 77,
    "start_time": "2023-04-05T18:37:53.558Z"
   },
   {
    "duration": 11,
    "start_time": "2023-04-05T18:37:53.637Z"
   },
   {
    "duration": 44,
    "start_time": "2023-04-05T18:37:53.650Z"
   },
   {
    "duration": 40,
    "start_time": "2023-04-05T18:37:53.697Z"
   }
  ],
  "kernelspec": {
   "display_name": "Python 3 (ipykernel)",
   "language": "python",
   "name": "python3"
  },
  "language_info": {
   "codemirror_mode": {
    "name": "ipython",
    "version": 3
   },
   "file_extension": ".py",
   "mimetype": "text/x-python",
   "name": "python",
   "nbconvert_exporter": "python",
   "pygments_lexer": "ipython3",
   "version": "3.10.9"
  },
  "toc": {
   "base_numbering": 1,
   "nav_menu": {},
   "number_sections": true,
   "sideBar": true,
   "skip_h1_title": true,
   "title_cell": "Содержание проекта",
   "title_sidebar": "Содержание",
   "toc_cell": true,
   "toc_position": {
    "height": "536px",
    "left": "127px",
    "top": "111.133px",
    "width": "454.65px"
   },
   "toc_section_display": true,
   "toc_window_display": true
  },
  "varInspector": {
   "cols": {
    "lenName": 16,
    "lenType": 16,
    "lenVar": 40
   },
   "kernels_config": {
    "python": {
     "delete_cmd_postfix": "",
     "delete_cmd_prefix": "del ",
     "library": "var_list.py",
     "varRefreshCmd": "print(var_dic_list())"
    },
    "r": {
     "delete_cmd_postfix": ") ",
     "delete_cmd_prefix": "rm(",
     "library": "var_list.r",
     "varRefreshCmd": "cat(var_dic_list()) "
    }
   },
   "types_to_exclude": [
    "module",
    "function",
    "builtin_function_or_method",
    "instance",
    "_Feature"
   ],
   "window_display": false
  }
 },
 "nbformat": 4,
 "nbformat_minor": 2
}
