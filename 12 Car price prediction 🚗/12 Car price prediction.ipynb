{
 "cells": [
  {
   "cell_type": "markdown",
   "id": "6db85657",
   "metadata": {},
   "source": [
    "# Определение стоимости автомобилей 🚗\n",
    "\n",
    "Сервис по продаже автомобилей с пробегом «Не бит, не крашен» разрабатывает приложение для привлечения новых клиентов. В нём можно быстро узнать рыночную стоимость своего автомобиля. В нашем распоряжении исторические данные: технические характеристики, комплектации и цены автомобилей. Нам нужно построить модель машинного обучения для определения стоимости.\n",
    "\n",
    "**Заказчику важны:**\n",
    "\n",
    "- качество предсказания\n",
    "- скорость предсказания\n",
    "- время обучения\n",
    "\n",
    "\n",
    "**Признаки:**\n",
    "\n",
    "- `DateCrawled` — дата скачивания анкеты из базы\n",
    "\n",
    "- `VehicleType` — тип автомобильного кузова\n",
    "\n",
    "- `RegistrationYear` — год регистрации автомобиля\n",
    "\n",
    "- `Gearbox` — тип коробки передач\n",
    "\n",
    "- `Power` — мощность (л. с.)\n",
    "\n",
    "- `Model` — модель автомобиля\n",
    "\n",
    "- `Kilometer` — пробег (км)\n",
    "\n",
    "- `RegistrationMonth` — месяц регистрации автомобиля\n",
    "\n",
    "- `FuelType` — тип топлива\n",
    "\n",
    "- `Brand` — марка автомобиля\n",
    "\n",
    "- `NotRepaired` — была машина в ремонте или нет\n",
    "\n",
    "- `DateCreated` — дата создания анкеты\n",
    "\n",
    "- `NumberOfPictures` — количество фотографий автомобиля\n",
    "\n",
    "- `PostalCode` — почтовый индекс владельца анкеты (пользователя)\n",
    "\n",
    "- `LastSeen` — дата последней активности пользователя\n",
    "\n",
    "**Целевой признак :**\n",
    "\n",
    "- `Price` — цена (евро)"
   ]
  },
  {
   "cell_type": "markdown",
   "id": "c9983f5c",
   "metadata": {
    "toc": true
   },
   "source": [
    "<h1>Содержание проекта<span class=\"tocSkip\"></span></h1>\n",
    "<div class=\"toc\"><ul class=\"toc-item\"><li><span><a href=\"#Обзор-данных-🤨\" data-toc-modified-id=\"Обзор-данных-🤨-1\"><span class=\"toc-item-num\">1&nbsp;&nbsp;</span>Обзор данных 🤨</a></span><ul class=\"toc-item\"><li><span><a href=\"#Импорт-библиотек\" data-toc-modified-id=\"Импорт-библиотек-1.1\"><span class=\"toc-item-num\">1.1&nbsp;&nbsp;</span>Импорт библиотек</a></span></li><li><span><a href=\"#Получение-данных\" data-toc-modified-id=\"Получение-данных-1.2\"><span class=\"toc-item-num\">1.2&nbsp;&nbsp;</span>Получение данных</a></span></li><li><span><a href=\"#Итого\" data-toc-modified-id=\"Итого-1.3\"><span class=\"toc-item-num\">1.3&nbsp;&nbsp;</span>Итого</a></span></li></ul></li><li><span><a href=\"#Предобработка-данных-⚙️\" data-toc-modified-id=\"Предобработка-данных-⚙️-2\"><span class=\"toc-item-num\">2&nbsp;&nbsp;</span>Предобработка данных ⚙️</a></span><ul class=\"toc-item\"><li><span><a href=\"#Переименование-признаков\" data-toc-modified-id=\"Переименование-признаков-2.1\"><span class=\"toc-item-num\">2.1&nbsp;&nbsp;</span>Переименование признаков</a></span></li><li><span><a href=\"#Удаление-дубликатов\" data-toc-modified-id=\"Удаление-дубликатов-2.2\"><span class=\"toc-item-num\">2.2&nbsp;&nbsp;</span>Удаление дубликатов</a></span></li><li><span><a href=\"#date_crawled,-date_created,-last_seen\" data-toc-modified-id=\"date_crawled,-date_created,-last_seen-2.3\"><span class=\"toc-item-num\">2.3&nbsp;&nbsp;</span><em>date_crawled</em>, <em>date_created</em>, <em>last_seen</em></a></span></li><li><span><a href=\"#repaired\" data-toc-modified-id=\"repaired-2.4\"><span class=\"toc-item-num\">2.4&nbsp;&nbsp;</span><em>repaired</em></a></span></li><li><span><a href=\"#Удаление-ошибочных-записей\" data-toc-modified-id=\"Удаление-ошибочных-записей-2.5\"><span class=\"toc-item-num\">2.5&nbsp;&nbsp;</span>Удаление ошибочных записей</a></span><ul class=\"toc-item\"><li><span><a href=\"#registration_year\" data-toc-modified-id=\"registration_year-2.5.1\"><span class=\"toc-item-num\">2.5.1&nbsp;&nbsp;</span><em>registration_year</em></a></span></li><li><span><a href=\"#registration_month\" data-toc-modified-id=\"registration_month-2.5.2\"><span class=\"toc-item-num\">2.5.2&nbsp;&nbsp;</span><em>registration_month</em></a></span></li><li><span><a href=\"#power\" data-toc-modified-id=\"power-2.5.3\"><span class=\"toc-item-num\">2.5.3&nbsp;&nbsp;</span><em>power</em></a></span></li><li><span><a href=\"#number_of_pictures\" data-toc-modified-id=\"number_of_pictures-2.5.4\"><span class=\"toc-item-num\">2.5.4&nbsp;&nbsp;</span><em>number_of_pictures</em></a></span></li></ul></li><li><span><a href=\"#price\" data-toc-modified-id=\"price-2.6\"><span class=\"toc-item-num\">2.6&nbsp;&nbsp;</span><em>price</em></a></span></li><li><span><a href=\"#postal_code\" data-toc-modified-id=\"postal_code-2.7\"><span class=\"toc-item-num\">2.7&nbsp;&nbsp;</span><em>postal_code</em></a></span></li><li><span><a href=\"#model-(+нижняя-граница-в-power)\" data-toc-modified-id=\"model-(+нижняя-граница-в-power)-2.8\"><span class=\"toc-item-num\">2.8&nbsp;&nbsp;</span><em>model</em> (+нижняя граница в <em>power</em>)</a></span></li><li><span><a href=\"#vehicle_type,-gearbox,-fuel_type\" data-toc-modified-id=\"vehicle_type,-gearbox,-fuel_type-2.9\"><span class=\"toc-item-num\">2.9&nbsp;&nbsp;</span><em>vehicle_type</em>, <em>gearbox</em>, <em>fuel_type</em></a></span></li><li><span><a href=\"#Итого\" data-toc-modified-id=\"Итого-2.10\"><span class=\"toc-item-num\">2.10&nbsp;&nbsp;</span>Итого</a></span></li></ul></li><li><span><a href=\"#Обучение-моделей-🦾\" data-toc-modified-id=\"Обучение-моделей-🦾-3\"><span class=\"toc-item-num\">3&nbsp;&nbsp;</span>Обучение моделей 🦾</a></span><ul class=\"toc-item\"><li><span><a href=\"#Формирование-тренировочной-и-тестовой-выборок\" data-toc-modified-id=\"Формирование-тренировочной-и-тестовой-выборок-3.1\"><span class=\"toc-item-num\">3.1&nbsp;&nbsp;</span>Формирование тренировочной и тестовой выборок</a></span></li><li><span><a href=\"#MEstimateEncoder\" data-toc-modified-id=\"MEstimateEncoder-3.2\"><span class=\"toc-item-num\">3.2&nbsp;&nbsp;</span>MEstimateEncoder</a></span></li><li><span><a href=\"#StandardScaler\" data-toc-modified-id=\"StandardScaler-3.3\"><span class=\"toc-item-num\">3.3&nbsp;&nbsp;</span>StandardScaler</a></span></li><li><span><a href=\"#Linear-Regression\" data-toc-modified-id=\"Linear-Regression-3.4\"><span class=\"toc-item-num\">3.4&nbsp;&nbsp;</span><tt>Linear Regression</tt></a></span></li><li><span><a href=\"#HistGradientBoostingRegressor\" data-toc-modified-id=\"HistGradientBoostingRegressor-3.5\"><span class=\"toc-item-num\">3.5&nbsp;&nbsp;</span><tt>HistGradientBoostingRegressor</tt></a></span></li><li><span><a href=\"#LGBMRegressor\" data-toc-modified-id=\"LGBMRegressor-3.6\"><span class=\"toc-item-num\">3.6&nbsp;&nbsp;</span><tt>LGBMRegressor</tt></a></span></li><li><span><a href=\"#CatBoostRegressor\" data-toc-modified-id=\"CatBoostRegressor-3.7\"><span class=\"toc-item-num\">3.7&nbsp;&nbsp;</span><tt>CatBoostRegressor</tt></a></span></li><li><span><a href=\"#Результаты-обучения-моделей\" data-toc-modified-id=\"Результаты-обучения-моделей-3.8\"><span class=\"toc-item-num\">3.8&nbsp;&nbsp;</span>Результаты обучения моделей</a></span></li><li><span><a href=\"#Итого\" data-toc-modified-id=\"Итого-3.9\"><span class=\"toc-item-num\">3.9&nbsp;&nbsp;</span>Итого</a></span></li></ul></li><li><span><a href=\"#Тестирование-модели-💯\" data-toc-modified-id=\"Тестирование-модели-💯-4\"><span class=\"toc-item-num\">4&nbsp;&nbsp;</span>Тестирование модели 💯</a></span><ul class=\"toc-item\"><li><span><a href=\"#Test-RMSE\" data-toc-modified-id=\"Test-RMSE-4.1\"><span class=\"toc-item-num\">4.1&nbsp;&nbsp;</span>Test RMSE</a></span></li><li><span><a href=\"#Проверка-на-адекватность\" data-toc-modified-id=\"Проверка-на-адекватность-4.2\"><span class=\"toc-item-num\">4.2&nbsp;&nbsp;</span>Проверка на адекватность</a></span></li></ul></li><li><span><a href=\"#Общий-вывод-👀\" data-toc-modified-id=\"Общий-вывод-👀-5\"><span class=\"toc-item-num\">5&nbsp;&nbsp;</span>Общий вывод 👀</a></span><ul class=\"toc-item\"><li><span><a href=\"#Краткая-сводка-по-выполненным-задачам\" data-toc-modified-id=\"Краткая-сводка-по-выполненным-задачам-5.1\"><span class=\"toc-item-num\">5.1&nbsp;&nbsp;</span>Краткая сводка по выполненным задачам</a></span><ul class=\"toc-item\"><li><span><a href=\"#Шаг-1.-Обзор-данных\" data-toc-modified-id=\"Шаг-1.-Обзор-данных-5.1.1\"><span class=\"toc-item-num\">5.1.1&nbsp;&nbsp;</span>Шаг 1. Обзор данных</a></span></li><li><span><a href=\"#Шаг-2.-Предобработка-данных\" data-toc-modified-id=\"Шаг-2.-Предобработка-данных-5.1.2\"><span class=\"toc-item-num\">5.1.2&nbsp;&nbsp;</span>Шаг 2. Предобработка данных</a></span></li><li><span><a href=\"#Шаг-3.-Обучение-моделей\" data-toc-modified-id=\"Шаг-3.-Обучение-моделей-5.1.3\"><span class=\"toc-item-num\">5.1.3&nbsp;&nbsp;</span>Шаг 3. Обучение моделей</a></span></li><li><span><a href=\"#Шаг-4.-Тестирование-модели\" data-toc-modified-id=\"Шаг-4.-Тестирование-модели-5.1.4\"><span class=\"toc-item-num\">5.1.4&nbsp;&nbsp;</span>Шаг 4. Тестирование модели</a></span></li></ul></li></ul></li></ul></div>"
   ]
  },
  {
   "cell_type": "markdown",
   "id": "eccdd446",
   "metadata": {},
   "source": [
    "## Обзор данных 🤨"
   ]
  },
  {
   "cell_type": "markdown",
   "id": "e99ddd28",
   "metadata": {},
   "source": [
    "### Импорт библиотек"
   ]
  },
  {
   "cell_type": "code",
   "execution_count": 2,
   "id": "32c83f8f",
   "metadata": {},
   "outputs": [],
   "source": [
    "import pandas as pd\n",
    "import numpy as np\n",
    "import matplotlib.pyplot as plt\n",
    "import seaborn as sns\n",
    "\n",
    "from sklearn.model_selection import train_test_split, GridSearchCV, KFold, cross_val_score\n",
    "from sklearn.metrics import mean_squared_error, make_scorer\n",
    "from sklearn.preprocessing import StandardScaler\n",
    "from category_encoders.m_estimate import MEstimateEncoder\n",
    "\n",
    "\n",
    "from sklearn.linear_model import LinearRegression\n",
    "from sklearn.experimental import enable_hist_gradient_boosting\n",
    "from sklearn.ensemble import HistGradientBoostingRegressor\n",
    "from lightgbm import LGBMRegressor\n",
    "from catboost import CatBoostRegressor\n",
    "from sklearn.dummy import DummyRegressor\n",
    "\n",
    "from time import time\n",
    "import urllib\n",
    "import warnings\n",
    "from IPython.display import HTML, display\n",
    "\n",
    "pd.set_option('display.max_columns', 1000)\n",
    "pd.set_option('display.max_rows', 200)\n",
    "pd.options.display.float_format = '{:10,.2f}'.format\n",
    "\n",
    "np.set_printoptions(suppress=False)\n",
    "\n",
    "STATE = np.random.RandomState(42)\n",
    "\n",
    "warnings.filterwarnings('ignore')"
   ]
  },
  {
   "cell_type": "markdown",
   "id": "b62c8629",
   "metadata": {},
   "source": [
    "### Получение данных"
   ]
  },
  {
   "cell_type": "code",
   "execution_count": 3,
   "id": "a0fb452b",
   "metadata": {
    "scrolled": true
   },
   "outputs": [
    {
     "data": {
      "text/html": [
       "<div>\n",
       "<style scoped>\n",
       "    .dataframe tbody tr th:only-of-type {\n",
       "        vertical-align: middle;\n",
       "    }\n",
       "\n",
       "    .dataframe tbody tr th {\n",
       "        vertical-align: top;\n",
       "    }\n",
       "\n",
       "    .dataframe thead th {\n",
       "        text-align: right;\n",
       "    }\n",
       "</style>\n",
       "<table border=\"1\" class=\"dataframe\">\n",
       "  <thead>\n",
       "    <tr style=\"text-align: right;\">\n",
       "      <th>autos.csv</th>\n",
       "      <th>DateCrawled</th>\n",
       "      <th>Price</th>\n",
       "      <th>VehicleType</th>\n",
       "      <th>RegistrationYear</th>\n",
       "      <th>Gearbox</th>\n",
       "      <th>Power</th>\n",
       "      <th>Model</th>\n",
       "      <th>Kilometer</th>\n",
       "      <th>RegistrationMonth</th>\n",
       "      <th>FuelType</th>\n",
       "      <th>Brand</th>\n",
       "      <th>Repaired</th>\n",
       "      <th>DateCreated</th>\n",
       "      <th>NumberOfPictures</th>\n",
       "      <th>PostalCode</th>\n",
       "      <th>LastSeen</th>\n",
       "    </tr>\n",
       "  </thead>\n",
       "  <tbody>\n",
       "    <tr>\n",
       "      <th>0</th>\n",
       "      <td>2016-03-24 11:52:17</td>\n",
       "      <td>480</td>\n",
       "      <td>NaN</td>\n",
       "      <td>1993</td>\n",
       "      <td>manual</td>\n",
       "      <td>0</td>\n",
       "      <td>golf</td>\n",
       "      <td>150000</td>\n",
       "      <td>0</td>\n",
       "      <td>petrol</td>\n",
       "      <td>volkswagen</td>\n",
       "      <td>NaN</td>\n",
       "      <td>2016-03-24 00:00:00</td>\n",
       "      <td>0</td>\n",
       "      <td>70435</td>\n",
       "      <td>2016-04-07 03:16:57</td>\n",
       "    </tr>\n",
       "    <tr>\n",
       "      <th>1</th>\n",
       "      <td>2016-03-24 10:58:45</td>\n",
       "      <td>18300</td>\n",
       "      <td>coupe</td>\n",
       "      <td>2011</td>\n",
       "      <td>manual</td>\n",
       "      <td>190</td>\n",
       "      <td>NaN</td>\n",
       "      <td>125000</td>\n",
       "      <td>5</td>\n",
       "      <td>gasoline</td>\n",
       "      <td>audi</td>\n",
       "      <td>yes</td>\n",
       "      <td>2016-03-24 00:00:00</td>\n",
       "      <td>0</td>\n",
       "      <td>66954</td>\n",
       "      <td>2016-04-07 01:46:50</td>\n",
       "    </tr>\n",
       "    <tr>\n",
       "      <th>2</th>\n",
       "      <td>2016-03-14 12:52:21</td>\n",
       "      <td>9800</td>\n",
       "      <td>suv</td>\n",
       "      <td>2004</td>\n",
       "      <td>auto</td>\n",
       "      <td>163</td>\n",
       "      <td>grand</td>\n",
       "      <td>125000</td>\n",
       "      <td>8</td>\n",
       "      <td>gasoline</td>\n",
       "      <td>jeep</td>\n",
       "      <td>NaN</td>\n",
       "      <td>2016-03-14 00:00:00</td>\n",
       "      <td>0</td>\n",
       "      <td>90480</td>\n",
       "      <td>2016-04-05 12:47:46</td>\n",
       "    </tr>\n",
       "    <tr>\n",
       "      <th>3</th>\n",
       "      <td>2016-03-17 16:54:04</td>\n",
       "      <td>1500</td>\n",
       "      <td>small</td>\n",
       "      <td>2001</td>\n",
       "      <td>manual</td>\n",
       "      <td>75</td>\n",
       "      <td>golf</td>\n",
       "      <td>150000</td>\n",
       "      <td>6</td>\n",
       "      <td>petrol</td>\n",
       "      <td>volkswagen</td>\n",
       "      <td>no</td>\n",
       "      <td>2016-03-17 00:00:00</td>\n",
       "      <td>0</td>\n",
       "      <td>91074</td>\n",
       "      <td>2016-03-17 17:40:17</td>\n",
       "    </tr>\n",
       "    <tr>\n",
       "      <th>4</th>\n",
       "      <td>2016-03-31 17:25:20</td>\n",
       "      <td>3600</td>\n",
       "      <td>small</td>\n",
       "      <td>2008</td>\n",
       "      <td>manual</td>\n",
       "      <td>69</td>\n",
       "      <td>fabia</td>\n",
       "      <td>90000</td>\n",
       "      <td>7</td>\n",
       "      <td>gasoline</td>\n",
       "      <td>skoda</td>\n",
       "      <td>no</td>\n",
       "      <td>2016-03-31 00:00:00</td>\n",
       "      <td>0</td>\n",
       "      <td>60437</td>\n",
       "      <td>2016-04-06 10:17:21</td>\n",
       "    </tr>\n",
       "    <tr>\n",
       "      <th>5</th>\n",
       "      <td>2016-04-04 17:36:23</td>\n",
       "      <td>650</td>\n",
       "      <td>sedan</td>\n",
       "      <td>1995</td>\n",
       "      <td>manual</td>\n",
       "      <td>102</td>\n",
       "      <td>3er</td>\n",
       "      <td>150000</td>\n",
       "      <td>10</td>\n",
       "      <td>petrol</td>\n",
       "      <td>bmw</td>\n",
       "      <td>yes</td>\n",
       "      <td>2016-04-04 00:00:00</td>\n",
       "      <td>0</td>\n",
       "      <td>33775</td>\n",
       "      <td>2016-04-06 19:17:07</td>\n",
       "    </tr>\n",
       "    <tr>\n",
       "      <th>6</th>\n",
       "      <td>2016-04-01 20:48:51</td>\n",
       "      <td>2200</td>\n",
       "      <td>convertible</td>\n",
       "      <td>2004</td>\n",
       "      <td>manual</td>\n",
       "      <td>109</td>\n",
       "      <td>2_reihe</td>\n",
       "      <td>150000</td>\n",
       "      <td>8</td>\n",
       "      <td>petrol</td>\n",
       "      <td>peugeot</td>\n",
       "      <td>no</td>\n",
       "      <td>2016-04-01 00:00:00</td>\n",
       "      <td>0</td>\n",
       "      <td>67112</td>\n",
       "      <td>2016-04-05 18:18:39</td>\n",
       "    </tr>\n",
       "    <tr>\n",
       "      <th>7</th>\n",
       "      <td>2016-03-21 18:54:38</td>\n",
       "      <td>0</td>\n",
       "      <td>sedan</td>\n",
       "      <td>1980</td>\n",
       "      <td>manual</td>\n",
       "      <td>50</td>\n",
       "      <td>other</td>\n",
       "      <td>40000</td>\n",
       "      <td>7</td>\n",
       "      <td>petrol</td>\n",
       "      <td>volkswagen</td>\n",
       "      <td>no</td>\n",
       "      <td>2016-03-21 00:00:00</td>\n",
       "      <td>0</td>\n",
       "      <td>19348</td>\n",
       "      <td>2016-03-25 16:47:58</td>\n",
       "    </tr>\n",
       "    <tr>\n",
       "      <th>8</th>\n",
       "      <td>2016-04-04 23:42:13</td>\n",
       "      <td>14500</td>\n",
       "      <td>bus</td>\n",
       "      <td>2014</td>\n",
       "      <td>manual</td>\n",
       "      <td>125</td>\n",
       "      <td>c_max</td>\n",
       "      <td>30000</td>\n",
       "      <td>8</td>\n",
       "      <td>petrol</td>\n",
       "      <td>ford</td>\n",
       "      <td>NaN</td>\n",
       "      <td>2016-04-04 00:00:00</td>\n",
       "      <td>0</td>\n",
       "      <td>94505</td>\n",
       "      <td>2016-04-04 23:42:13</td>\n",
       "    </tr>\n",
       "    <tr>\n",
       "      <th>9</th>\n",
       "      <td>2016-03-17 10:53:50</td>\n",
       "      <td>999</td>\n",
       "      <td>small</td>\n",
       "      <td>1998</td>\n",
       "      <td>manual</td>\n",
       "      <td>101</td>\n",
       "      <td>golf</td>\n",
       "      <td>150000</td>\n",
       "      <td>0</td>\n",
       "      <td>NaN</td>\n",
       "      <td>volkswagen</td>\n",
       "      <td>NaN</td>\n",
       "      <td>2016-03-17 00:00:00</td>\n",
       "      <td>0</td>\n",
       "      <td>27472</td>\n",
       "      <td>2016-03-31 17:17:06</td>\n",
       "    </tr>\n",
       "  </tbody>\n",
       "</table>\n",
       "</div>"
      ],
      "text/plain": [
       "autos.csv          DateCrawled  Price  VehicleType  RegistrationYear Gearbox  \\\n",
       "0          2016-03-24 11:52:17    480          NaN              1993  manual   \n",
       "1          2016-03-24 10:58:45  18300        coupe              2011  manual   \n",
       "2          2016-03-14 12:52:21   9800          suv              2004    auto   \n",
       "3          2016-03-17 16:54:04   1500        small              2001  manual   \n",
       "4          2016-03-31 17:25:20   3600        small              2008  manual   \n",
       "5          2016-04-04 17:36:23    650        sedan              1995  manual   \n",
       "6          2016-04-01 20:48:51   2200  convertible              2004  manual   \n",
       "7          2016-03-21 18:54:38      0        sedan              1980  manual   \n",
       "8          2016-04-04 23:42:13  14500          bus              2014  manual   \n",
       "9          2016-03-17 10:53:50    999        small              1998  manual   \n",
       "\n",
       "autos.csv  Power    Model  Kilometer  RegistrationMonth  FuelType       Brand  \\\n",
       "0              0     golf     150000                  0    petrol  volkswagen   \n",
       "1            190      NaN     125000                  5  gasoline        audi   \n",
       "2            163    grand     125000                  8  gasoline        jeep   \n",
       "3             75     golf     150000                  6    petrol  volkswagen   \n",
       "4             69    fabia      90000                  7  gasoline       skoda   \n",
       "5            102      3er     150000                 10    petrol         bmw   \n",
       "6            109  2_reihe     150000                  8    petrol     peugeot   \n",
       "7             50    other      40000                  7    petrol  volkswagen   \n",
       "8            125    c_max      30000                  8    petrol        ford   \n",
       "9            101     golf     150000                  0       NaN  volkswagen   \n",
       "\n",
       "autos.csv Repaired          DateCreated  NumberOfPictures  PostalCode  \\\n",
       "0              NaN  2016-03-24 00:00:00                 0       70435   \n",
       "1              yes  2016-03-24 00:00:00                 0       66954   \n",
       "2              NaN  2016-03-14 00:00:00                 0       90480   \n",
       "3               no  2016-03-17 00:00:00                 0       91074   \n",
       "4               no  2016-03-31 00:00:00                 0       60437   \n",
       "5              yes  2016-04-04 00:00:00                 0       33775   \n",
       "6               no  2016-04-01 00:00:00                 0       67112   \n",
       "7               no  2016-03-21 00:00:00                 0       19348   \n",
       "8              NaN  2016-04-04 00:00:00                 0       94505   \n",
       "9              NaN  2016-03-17 00:00:00                 0       27472   \n",
       "\n",
       "autos.csv             LastSeen  \n",
       "0          2016-04-07 03:16:57  \n",
       "1          2016-04-07 01:46:50  \n",
       "2          2016-04-05 12:47:46  \n",
       "3          2016-03-17 17:40:17  \n",
       "4          2016-04-06 10:17:21  \n",
       "5          2016-04-06 19:17:07  \n",
       "6          2016-04-05 18:18:39  \n",
       "7          2016-03-25 16:47:58  \n",
       "8          2016-04-04 23:42:13  \n",
       "9          2016-03-31 17:17:06  "
      ]
     },
     "metadata": {},
     "output_type": "display_data"
    },
    {
     "name": "stdout",
     "output_type": "stream",
     "text": [
      "✅ Данные загружены с внешнего ресурса и успешно прочитаны\n"
     ]
    }
   ],
   "source": [
    "label = 'autos.csv'\n",
    "\n",
    "try:\n",
    "    data = pd.read_csv(\n",
    "        f'https://code.s3.yandex.net/datasets/{label}')\n",
    "    data.columns.name = label\n",
    "    display(data.head(10))\n",
    "    print('✅ Данные загружены с внешнего ресурса и успешно прочитаны')\n",
    "except urllib.request.URLError:\n",
    "    # Если отстутствует доступ к внешнему ресурсу с данными\n",
    "    while True:\n",
    "        data_name = input(\n",
    "            'Укажите имя файла с данными в каталоге с проектом. '\n",
    "            'Например: \"data.csv\".\\n'\n",
    "            'Если данные находятся не в каталоге с проектом нажмите Enter.\\n\\n'\n",
    "        )\n",
    "        if not data_name:\n",
    "            while True:\n",
    "                data_path = input('Введите абсолютный путь к датасету:\\n')\n",
    "                try:\n",
    "                    data = pd.read_csv(data_path)\n",
    "                    data.columns.name = data_path.split('/')[-1]\n",
    "                    display(data.head(10))\n",
    "                    print('✅ Исходные данные успешно прочитаны по указанному пути')\n",
    "\n",
    "                    break\n",
    "\n",
    "                except FileNotFoundError:  # Путь, указанный пользователем, неверный\n",
    "                    raise Exception(\n",
    "                        f'❌Указан неверный путь к файлу: {data_path}')\n",
    "        else:\n",
    "            data = pd.read_csv(data_name)\n",
    "            data.columns.name = data_name\n",
    "            display(data.head(10))\n",
    "            print('✅ Исходные данные успешно прочитаны из каталога с проектом')\n",
    "            break\n",
    "        break"
   ]
  },
  {
   "cell_type": "markdown",
   "id": "104b8e5f",
   "metadata": {},
   "source": [
    "Запишем сразу изначальный размер датасета в отдельную переменную, чтобы оценить долю объектов, удаленных в ходе предобработки."
   ]
  },
  {
   "cell_type": "code",
   "execution_count": 4,
   "id": "36819553",
   "metadata": {},
   "outputs": [],
   "source": [
    "start_length = len(data)"
   ]
  },
  {
   "cell_type": "code",
   "execution_count": 5,
   "id": "3e8d1087",
   "metadata": {},
   "outputs": [],
   "source": [
    "def simple_data_view(data):\n",
    "\n",
    "    print(f'ℹ️ {data.columns.name} Общая сводка по данным\\n')\n",
    "    display(data.info())\n",
    "    print('\\n\\n', end='')\n",
    "\n",
    "    print(f'ℹ️ {data.columns.name} Статистическая сводка по данным\\n')\n",
    "    display(data.describe())\n",
    "    print('\\n\\n', end='')\n",
    "\n",
    "    print(f'ℹ️ {data.columns.name} Сводка по количеству пропусков\\n')\n",
    "    display(HTML(data.isna().sum().to_frame().to_html()))\n",
    "    print('\\n\\n', end='')"
   ]
  },
  {
   "cell_type": "code",
   "execution_count": 6,
   "id": "7695b679",
   "metadata": {},
   "outputs": [
    {
     "name": "stdout",
     "output_type": "stream",
     "text": [
      "ℹ️ autos.csv Общая сводка по данным\n",
      "\n",
      "<class 'pandas.core.frame.DataFrame'>\n",
      "RangeIndex: 354369 entries, 0 to 354368\n",
      "Data columns (total 16 columns):\n",
      " #   Column             Non-Null Count   Dtype \n",
      "---  ------             --------------   ----- \n",
      " 0   DateCrawled        354369 non-null  object\n",
      " 1   Price              354369 non-null  int64 \n",
      " 2   VehicleType        316879 non-null  object\n",
      " 3   RegistrationYear   354369 non-null  int64 \n",
      " 4   Gearbox            334536 non-null  object\n",
      " 5   Power              354369 non-null  int64 \n",
      " 6   Model              334664 non-null  object\n",
      " 7   Kilometer          354369 non-null  int64 \n",
      " 8   RegistrationMonth  354369 non-null  int64 \n",
      " 9   FuelType           321474 non-null  object\n",
      " 10  Brand              354369 non-null  object\n",
      " 11  Repaired           283215 non-null  object\n",
      " 12  DateCreated        354369 non-null  object\n",
      " 13  NumberOfPictures   354369 non-null  int64 \n",
      " 14  PostalCode         354369 non-null  int64 \n",
      " 15  LastSeen           354369 non-null  object\n",
      "dtypes: int64(7), object(9)\n",
      "memory usage: 43.3+ MB\n"
     ]
    },
    {
     "data": {
      "text/plain": [
       "None"
      ]
     },
     "metadata": {},
     "output_type": "display_data"
    },
    {
     "name": "stdout",
     "output_type": "stream",
     "text": [
      "\n",
      "\n",
      "ℹ️ autos.csv Статистическая сводка по данным\n",
      "\n"
     ]
    },
    {
     "data": {
      "text/html": [
       "<div>\n",
       "<style scoped>\n",
       "    .dataframe tbody tr th:only-of-type {\n",
       "        vertical-align: middle;\n",
       "    }\n",
       "\n",
       "    .dataframe tbody tr th {\n",
       "        vertical-align: top;\n",
       "    }\n",
       "\n",
       "    .dataframe thead th {\n",
       "        text-align: right;\n",
       "    }\n",
       "</style>\n",
       "<table border=\"1\" class=\"dataframe\">\n",
       "  <thead>\n",
       "    <tr style=\"text-align: right;\">\n",
       "      <th>autos.csv</th>\n",
       "      <th>Price</th>\n",
       "      <th>RegistrationYear</th>\n",
       "      <th>Power</th>\n",
       "      <th>Kilometer</th>\n",
       "      <th>RegistrationMonth</th>\n",
       "      <th>NumberOfPictures</th>\n",
       "      <th>PostalCode</th>\n",
       "    </tr>\n",
       "  </thead>\n",
       "  <tbody>\n",
       "    <tr>\n",
       "      <th>count</th>\n",
       "      <td>354,369.00</td>\n",
       "      <td>354,369.00</td>\n",
       "      <td>354,369.00</td>\n",
       "      <td>354,369.00</td>\n",
       "      <td>354,369.00</td>\n",
       "      <td>354,369.00</td>\n",
       "      <td>354,369.00</td>\n",
       "    </tr>\n",
       "    <tr>\n",
       "      <th>mean</th>\n",
       "      <td>4,416.66</td>\n",
       "      <td>2,004.23</td>\n",
       "      <td>110.09</td>\n",
       "      <td>128,211.17</td>\n",
       "      <td>5.71</td>\n",
       "      <td>0.00</td>\n",
       "      <td>50,508.69</td>\n",
       "    </tr>\n",
       "    <tr>\n",
       "      <th>std</th>\n",
       "      <td>4,514.16</td>\n",
       "      <td>90.23</td>\n",
       "      <td>189.85</td>\n",
       "      <td>37,905.34</td>\n",
       "      <td>3.73</td>\n",
       "      <td>0.00</td>\n",
       "      <td>25,783.10</td>\n",
       "    </tr>\n",
       "    <tr>\n",
       "      <th>min</th>\n",
       "      <td>0.00</td>\n",
       "      <td>1,000.00</td>\n",
       "      <td>0.00</td>\n",
       "      <td>5,000.00</td>\n",
       "      <td>0.00</td>\n",
       "      <td>0.00</td>\n",
       "      <td>1,067.00</td>\n",
       "    </tr>\n",
       "    <tr>\n",
       "      <th>25%</th>\n",
       "      <td>1,050.00</td>\n",
       "      <td>1,999.00</td>\n",
       "      <td>69.00</td>\n",
       "      <td>125,000.00</td>\n",
       "      <td>3.00</td>\n",
       "      <td>0.00</td>\n",
       "      <td>30,165.00</td>\n",
       "    </tr>\n",
       "    <tr>\n",
       "      <th>50%</th>\n",
       "      <td>2,700.00</td>\n",
       "      <td>2,003.00</td>\n",
       "      <td>105.00</td>\n",
       "      <td>150,000.00</td>\n",
       "      <td>6.00</td>\n",
       "      <td>0.00</td>\n",
       "      <td>49,413.00</td>\n",
       "    </tr>\n",
       "    <tr>\n",
       "      <th>75%</th>\n",
       "      <td>6,400.00</td>\n",
       "      <td>2,008.00</td>\n",
       "      <td>143.00</td>\n",
       "      <td>150,000.00</td>\n",
       "      <td>9.00</td>\n",
       "      <td>0.00</td>\n",
       "      <td>71,083.00</td>\n",
       "    </tr>\n",
       "    <tr>\n",
       "      <th>max</th>\n",
       "      <td>20,000.00</td>\n",
       "      <td>9,999.00</td>\n",
       "      <td>20,000.00</td>\n",
       "      <td>150,000.00</td>\n",
       "      <td>12.00</td>\n",
       "      <td>0.00</td>\n",
       "      <td>99,998.00</td>\n",
       "    </tr>\n",
       "  </tbody>\n",
       "</table>\n",
       "</div>"
      ],
      "text/plain": [
       "autos.csv      Price  RegistrationYear      Power  Kilometer  \\\n",
       "count     354,369.00        354,369.00 354,369.00 354,369.00   \n",
       "mean        4,416.66          2,004.23     110.09 128,211.17   \n",
       "std         4,514.16             90.23     189.85  37,905.34   \n",
       "min             0.00          1,000.00       0.00   5,000.00   \n",
       "25%         1,050.00          1,999.00      69.00 125,000.00   \n",
       "50%         2,700.00          2,003.00     105.00 150,000.00   \n",
       "75%         6,400.00          2,008.00     143.00 150,000.00   \n",
       "max        20,000.00          9,999.00  20,000.00 150,000.00   \n",
       "\n",
       "autos.csv  RegistrationMonth  NumberOfPictures  PostalCode  \n",
       "count             354,369.00        354,369.00  354,369.00  \n",
       "mean                    5.71              0.00   50,508.69  \n",
       "std                     3.73              0.00   25,783.10  \n",
       "min                     0.00              0.00    1,067.00  \n",
       "25%                     3.00              0.00   30,165.00  \n",
       "50%                     6.00              0.00   49,413.00  \n",
       "75%                     9.00              0.00   71,083.00  \n",
       "max                    12.00              0.00   99,998.00  "
      ]
     },
     "metadata": {},
     "output_type": "display_data"
    },
    {
     "name": "stdout",
     "output_type": "stream",
     "text": [
      "\n",
      "\n",
      "ℹ️ autos.csv Сводка по количеству пропусков\n",
      "\n"
     ]
    },
    {
     "data": {
      "text/html": [
       "<table border=\"1\" class=\"dataframe\">\n",
       "  <thead>\n",
       "    <tr style=\"text-align: right;\">\n",
       "      <th></th>\n",
       "      <th>0</th>\n",
       "    </tr>\n",
       "    <tr>\n",
       "      <th>autos.csv</th>\n",
       "      <th></th>\n",
       "    </tr>\n",
       "  </thead>\n",
       "  <tbody>\n",
       "    <tr>\n",
       "      <th>DateCrawled</th>\n",
       "      <td>0</td>\n",
       "    </tr>\n",
       "    <tr>\n",
       "      <th>Price</th>\n",
       "      <td>0</td>\n",
       "    </tr>\n",
       "    <tr>\n",
       "      <th>VehicleType</th>\n",
       "      <td>37490</td>\n",
       "    </tr>\n",
       "    <tr>\n",
       "      <th>RegistrationYear</th>\n",
       "      <td>0</td>\n",
       "    </tr>\n",
       "    <tr>\n",
       "      <th>Gearbox</th>\n",
       "      <td>19833</td>\n",
       "    </tr>\n",
       "    <tr>\n",
       "      <th>Power</th>\n",
       "      <td>0</td>\n",
       "    </tr>\n",
       "    <tr>\n",
       "      <th>Model</th>\n",
       "      <td>19705</td>\n",
       "    </tr>\n",
       "    <tr>\n",
       "      <th>Kilometer</th>\n",
       "      <td>0</td>\n",
       "    </tr>\n",
       "    <tr>\n",
       "      <th>RegistrationMonth</th>\n",
       "      <td>0</td>\n",
       "    </tr>\n",
       "    <tr>\n",
       "      <th>FuelType</th>\n",
       "      <td>32895</td>\n",
       "    </tr>\n",
       "    <tr>\n",
       "      <th>Brand</th>\n",
       "      <td>0</td>\n",
       "    </tr>\n",
       "    <tr>\n",
       "      <th>Repaired</th>\n",
       "      <td>71154</td>\n",
       "    </tr>\n",
       "    <tr>\n",
       "      <th>DateCreated</th>\n",
       "      <td>0</td>\n",
       "    </tr>\n",
       "    <tr>\n",
       "      <th>NumberOfPictures</th>\n",
       "      <td>0</td>\n",
       "    </tr>\n",
       "    <tr>\n",
       "      <th>PostalCode</th>\n",
       "      <td>0</td>\n",
       "    </tr>\n",
       "    <tr>\n",
       "      <th>LastSeen</th>\n",
       "      <td>0</td>\n",
       "    </tr>\n",
       "  </tbody>\n",
       "</table>"
      ],
      "text/plain": [
       "<IPython.core.display.HTML object>"
      ]
     },
     "metadata": {},
     "output_type": "display_data"
    },
    {
     "name": "stdout",
     "output_type": "stream",
     "text": [
      "\n",
      "\n"
     ]
    }
   ],
   "source": [
    "simple_data_view(data)"
   ]
  },
  {
   "cell_type": "code",
   "execution_count": 7,
   "id": "660e2b7c",
   "metadata": {},
   "outputs": [
    {
     "data": {
      "image/png": "[encoded data removed]",
      "text/plain": [
       "<Figure size 1008x720 with 9 Axes>"
      ]
     },
     "metadata": {
      "needs_background": "light"
     },
     "output_type": "display_data"
    }
   ],
   "source": [
    "data.hist(figsize=(14, 10), bins=50, grid=True)\n",
    "plt.show()"
   ]
  },
  {
   "cell_type": "code",
   "execution_count": 8,
   "id": "f99730cd",
   "metadata": {
    "scrolled": true
   },
   "outputs": [
    {
     "data": {
      "text/plain": [
       "4"
      ]
     },
     "execution_count": 8,
     "metadata": {},
     "output_type": "execute_result"
    }
   ],
   "source": [
    "data.duplicated().sum()"
   ]
  },
  {
   "cell_type": "markdown",
   "id": "8b6cf60d",
   "metadata": {},
   "source": [
    "<div style=\"border: 3px solid rgb(0,0,0); padding: 20px\">\n",
    "\n",
    "### Итого\n",
    "    \n",
    "На данном этапе видно следующее:\n",
    "- Присутствуют пропуски в некоторых столбцах;\n",
    "- Распределения недискретных величин похожи на нормальные;\n",
    "- Признак <tt>NumberOfPictures</tt> абсолютно неинформативен, так как содержит только нули;\n",
    "- Есть 4 явных дубликата; \n",
    "- Наименования признаков стоит поменять для удобства;\n",
    "- Некоторые признаки имеют неверный тип данных;\n",
    "- 16 признаков: 9+1 категориальные, 6 числовые;\n",
    "- Есть аномальные значения в некоторых признаках (20000 л.с. в Power, 9999 в RegistrationYear и т.д.).\n",
    "    \n",
    "</div>"
   ]
  },
  {
   "cell_type": "markdown",
   "id": "6c12286b",
   "metadata": {},
   "source": [
    "## Предобработка данных ⚙️"
   ]
  },
  {
   "cell_type": "markdown",
   "id": "6e2cbd3c",
   "metadata": {},
   "source": [
    "### Переименование признаков"
   ]
  },
  {
   "cell_type": "code",
   "execution_count": 9,
   "id": "d02ea2c3",
   "metadata": {},
   "outputs": [
    {
     "data": {
      "text/plain": [
       "Index(['date_crawled', 'price', 'vehicle_type', 'registration_year', 'gearbox',\n",
       "       'power', 'model', 'kilometer', 'registration_month', 'fuel_type',\n",
       "       'brand', 'repaired', 'date_created', 'number_of_pictures',\n",
       "       'postal_code', 'last_seen'],\n",
       "      dtype='object', name='autos.csv')"
      ]
     },
     "execution_count": 9,
     "metadata": {},
     "output_type": "execute_result"
    }
   ],
   "source": [
    "to_rename = {\n",
    "    'DateCrawled': 'date_crawled',\n",
    "    'Price': 'price',\n",
    "    'VehicleType': 'vehicle_type',\n",
    "    'RegistrationYear': 'registration_year',\n",
    "    'Gearbox': 'gearbox',\n",
    "    'Power': 'power',\n",
    "    'Model': 'model',\n",
    "    'Kilometer': 'kilometer',\n",
    "    'RegistrationMonth': 'registration_month',\n",
    "    'FuelType': 'fuel_type',\n",
    "    'Brand': 'brand',\n",
    "    'Repaired': 'repaired',\n",
    "    'DateCreated': 'date_created',\n",
    "    'NumberOfPictures': 'number_of_pictures',\n",
    "    'PostalCode': 'postal_code',\n",
    "    'LastSeen': 'last_seen'\n",
    "}\n",
    "\n",
    "data.rename(columns=to_rename, inplace=True)\n",
    "\n",
    "data.columns"
   ]
  },
  {
   "cell_type": "markdown",
   "id": "0d4e6e87",
   "metadata": {},
   "source": [
    "### Удаление дубликатов"
   ]
  },
  {
   "cell_type": "markdown",
   "id": "3ffc3ad0",
   "metadata": {},
   "source": [
    "Удалим 4 найденных явных дубликата"
   ]
  },
  {
   "cell_type": "code",
   "execution_count": 10,
   "id": "5fc03d31",
   "metadata": {},
   "outputs": [],
   "source": [
    "data.drop_duplicates(inplace=True)"
   ]
  },
  {
   "cell_type": "markdown",
   "id": "7d08e281",
   "metadata": {},
   "source": [
    "### *date_crawled*, *date_created*, *last_seen*"
   ]
  },
  {
   "cell_type": "markdown",
   "id": "6aa6111b",
   "metadata": {},
   "source": [
    "Как было сказано, некоторые признаки содержат значения с неверным типом данных:\n",
    "\n",
    "**Obj -> Datetime**:\n",
    "- date_crawled;\n",
    "- date_created;\n",
    "- last_seen\n",
    "\n",
    "Для удобства отбросим конкретное время публикации (часы, минуты, секунды)"
   ]
  },
  {
   "cell_type": "code",
   "execution_count": 11,
   "id": "48510264",
   "metadata": {
    "scrolled": false
   },
   "outputs": [
    {
     "data": {
      "text/plain": [
       "autos.csv\n",
       "date_crawled          datetime64[ns]\n",
       "price                          int64\n",
       "vehicle_type                  object\n",
       "registration_year              int64\n",
       "gearbox                       object\n",
       "power                          int64\n",
       "model                         object\n",
       "kilometer                      int64\n",
       "registration_month             int64\n",
       "fuel_type                     object\n",
       "brand                         object\n",
       "repaired                      object\n",
       "date_created          datetime64[ns]\n",
       "number_of_pictures             int64\n",
       "postal_code                    int64\n",
       "last_seen             datetime64[ns]\n",
       "dtype: object"
      ]
     },
     "execution_count": 11,
     "metadata": {},
     "output_type": "execute_result"
    }
   ],
   "source": [
    "dt_cols = ['date_crawled', 'date_created', 'last_seen']\n",
    "\n",
    "for col in dt_cols:\n",
    "    data[col] = pd.to_datetime(\n",
    "        pd.to_datetime(data[col]).dt.date)\n",
    "\n",
    "data.dtypes"
   ]
  },
  {
   "cell_type": "code",
   "execution_count": 12,
   "id": "ed60b020",
   "metadata": {
    "scrolled": true
   },
   "outputs": [
    {
     "data": {
      "text/html": [
       "<div>\n",
       "<style scoped>\n",
       "    .dataframe tbody tr th:only-of-type {\n",
       "        vertical-align: middle;\n",
       "    }\n",
       "\n",
       "    .dataframe tbody tr th {\n",
       "        vertical-align: top;\n",
       "    }\n",
       "\n",
       "    .dataframe thead th {\n",
       "        text-align: right;\n",
       "    }\n",
       "</style>\n",
       "<table border=\"1\" class=\"dataframe\">\n",
       "  <thead>\n",
       "    <tr style=\"text-align: right;\">\n",
       "      <th>autos.csv</th>\n",
       "      <th>date_crawled</th>\n",
       "      <th>price</th>\n",
       "      <th>vehicle_type</th>\n",
       "      <th>registration_year</th>\n",
       "      <th>gearbox</th>\n",
       "      <th>power</th>\n",
       "      <th>model</th>\n",
       "      <th>kilometer</th>\n",
       "      <th>registration_month</th>\n",
       "      <th>fuel_type</th>\n",
       "      <th>brand</th>\n",
       "      <th>repaired</th>\n",
       "      <th>date_created</th>\n",
       "      <th>number_of_pictures</th>\n",
       "      <th>postal_code</th>\n",
       "      <th>last_seen</th>\n",
       "    </tr>\n",
       "  </thead>\n",
       "  <tbody>\n",
       "    <tr>\n",
       "      <th>0</th>\n",
       "      <td>2016-03-24</td>\n",
       "      <td>480</td>\n",
       "      <td>NaN</td>\n",
       "      <td>1993</td>\n",
       "      <td>manual</td>\n",
       "      <td>0</td>\n",
       "      <td>golf</td>\n",
       "      <td>150000</td>\n",
       "      <td>0</td>\n",
       "      <td>petrol</td>\n",
       "      <td>volkswagen</td>\n",
       "      <td>NaN</td>\n",
       "      <td>2016-03-24</td>\n",
       "      <td>0</td>\n",
       "      <td>70435</td>\n",
       "      <td>2016-04-07</td>\n",
       "    </tr>\n",
       "    <tr>\n",
       "      <th>1</th>\n",
       "      <td>2016-03-24</td>\n",
       "      <td>18300</td>\n",
       "      <td>coupe</td>\n",
       "      <td>2011</td>\n",
       "      <td>manual</td>\n",
       "      <td>190</td>\n",
       "      <td>NaN</td>\n",
       "      <td>125000</td>\n",
       "      <td>5</td>\n",
       "      <td>gasoline</td>\n",
       "      <td>audi</td>\n",
       "      <td>yes</td>\n",
       "      <td>2016-03-24</td>\n",
       "      <td>0</td>\n",
       "      <td>66954</td>\n",
       "      <td>2016-04-07</td>\n",
       "    </tr>\n",
       "    <tr>\n",
       "      <th>2</th>\n",
       "      <td>2016-03-14</td>\n",
       "      <td>9800</td>\n",
       "      <td>suv</td>\n",
       "      <td>2004</td>\n",
       "      <td>auto</td>\n",
       "      <td>163</td>\n",
       "      <td>grand</td>\n",
       "      <td>125000</td>\n",
       "      <td>8</td>\n",
       "      <td>gasoline</td>\n",
       "      <td>jeep</td>\n",
       "      <td>NaN</td>\n",
       "      <td>2016-03-14</td>\n",
       "      <td>0</td>\n",
       "      <td>90480</td>\n",
       "      <td>2016-04-05</td>\n",
       "    </tr>\n",
       "    <tr>\n",
       "      <th>3</th>\n",
       "      <td>2016-03-17</td>\n",
       "      <td>1500</td>\n",
       "      <td>small</td>\n",
       "      <td>2001</td>\n",
       "      <td>manual</td>\n",
       "      <td>75</td>\n",
       "      <td>golf</td>\n",
       "      <td>150000</td>\n",
       "      <td>6</td>\n",
       "      <td>petrol</td>\n",
       "      <td>volkswagen</td>\n",
       "      <td>no</td>\n",
       "      <td>2016-03-17</td>\n",
       "      <td>0</td>\n",
       "      <td>91074</td>\n",
       "      <td>2016-03-17</td>\n",
       "    </tr>\n",
       "    <tr>\n",
       "      <th>4</th>\n",
       "      <td>2016-03-31</td>\n",
       "      <td>3600</td>\n",
       "      <td>small</td>\n",
       "      <td>2008</td>\n",
       "      <td>manual</td>\n",
       "      <td>69</td>\n",
       "      <td>fabia</td>\n",
       "      <td>90000</td>\n",
       "      <td>7</td>\n",
       "      <td>gasoline</td>\n",
       "      <td>skoda</td>\n",
       "      <td>no</td>\n",
       "      <td>2016-03-31</td>\n",
       "      <td>0</td>\n",
       "      <td>60437</td>\n",
       "      <td>2016-04-06</td>\n",
       "    </tr>\n",
       "  </tbody>\n",
       "</table>\n",
       "</div>"
      ],
      "text/plain": [
       "autos.csv date_crawled  price vehicle_type  registration_year gearbox  power  \\\n",
       "0           2016-03-24    480          NaN               1993  manual      0   \n",
       "1           2016-03-24  18300        coupe               2011  manual    190   \n",
       "2           2016-03-14   9800          suv               2004    auto    163   \n",
       "3           2016-03-17   1500        small               2001  manual     75   \n",
       "4           2016-03-31   3600        small               2008  manual     69   \n",
       "\n",
       "autos.csv  model  kilometer  registration_month fuel_type       brand  \\\n",
       "0           golf     150000                   0    petrol  volkswagen   \n",
       "1            NaN     125000                   5  gasoline        audi   \n",
       "2          grand     125000                   8  gasoline        jeep   \n",
       "3           golf     150000                   6    petrol  volkswagen   \n",
       "4          fabia      90000                   7  gasoline       skoda   \n",
       "\n",
       "autos.csv repaired date_created  number_of_pictures  postal_code  last_seen  \n",
       "0              NaN   2016-03-24                   0        70435 2016-04-07  \n",
       "1              yes   2016-03-24                   0        66954 2016-04-07  \n",
       "2              NaN   2016-03-14                   0        90480 2016-04-05  \n",
       "3               no   2016-03-17                   0        91074 2016-03-17  \n",
       "4               no   2016-03-31                   0        60437 2016-04-06  "
      ]
     },
     "execution_count": 12,
     "metadata": {},
     "output_type": "execute_result"
    }
   ],
   "source": [
    "data.head()"
   ]
  },
  {
   "cell_type": "markdown",
   "id": "e98b5160",
   "metadata": {},
   "source": [
    "### *repaired*"
   ]
  },
  {
   "cell_type": "markdown",
   "id": "08912df9",
   "metadata": {},
   "source": [
    "Бинарный признак, который имеет тип object, хотя, по-хорошему должен быть int и содержать значения 0 и 1.\n",
    "\n",
    "Исправим это.\n",
    "\n",
    "Для изменения типа данных также потребуется обработать пропуски. По-видимому, они означают, что машина не ремонтировалась, поэтому заменим их на нули."
   ]
  },
  {
   "cell_type": "code",
   "execution_count": 13,
   "id": "326b916c",
   "metadata": {},
   "outputs": [
    {
     "data": {
      "text/plain": [
       "dtype('int64')"
      ]
     },
     "execution_count": 13,
     "metadata": {},
     "output_type": "execute_result"
    }
   ],
   "source": [
    "data['repaired'].fillna(value=0, inplace=True)\n",
    "\n",
    "repaired_dict = {'yes': 1, 'no': 0}\n",
    "\n",
    "for k, v in repaired_dict.items():\n",
    "    data['repaired'] = data.repaired.replace(k, v)\n",
    "\n",
    "data['repaired'] = data['repaired'].astype(int)\n",
    "\n",
    "data.repaired.dtype"
   ]
  },
  {
   "cell_type": "code",
   "execution_count": 14,
   "id": "66adab12",
   "metadata": {},
   "outputs": [
    {
     "data": {
      "text/html": [
       "<div>\n",
       "<style scoped>\n",
       "    .dataframe tbody tr th:only-of-type {\n",
       "        vertical-align: middle;\n",
       "    }\n",
       "\n",
       "    .dataframe tbody tr th {\n",
       "        vertical-align: top;\n",
       "    }\n",
       "\n",
       "    .dataframe thead th {\n",
       "        text-align: right;\n",
       "    }\n",
       "</style>\n",
       "<table border=\"1\" class=\"dataframe\">\n",
       "  <thead>\n",
       "    <tr style=\"text-align: right;\">\n",
       "      <th>autos.csv</th>\n",
       "      <th>date_crawled</th>\n",
       "      <th>price</th>\n",
       "      <th>vehicle_type</th>\n",
       "      <th>registration_year</th>\n",
       "      <th>gearbox</th>\n",
       "      <th>power</th>\n",
       "      <th>model</th>\n",
       "      <th>kilometer</th>\n",
       "      <th>registration_month</th>\n",
       "      <th>fuel_type</th>\n",
       "      <th>brand</th>\n",
       "      <th>repaired</th>\n",
       "      <th>date_created</th>\n",
       "      <th>number_of_pictures</th>\n",
       "      <th>postal_code</th>\n",
       "      <th>last_seen</th>\n",
       "    </tr>\n",
       "  </thead>\n",
       "  <tbody>\n",
       "    <tr>\n",
       "      <th>0</th>\n",
       "      <td>2016-03-24</td>\n",
       "      <td>480</td>\n",
       "      <td>NaN</td>\n",
       "      <td>1993</td>\n",
       "      <td>manual</td>\n",
       "      <td>0</td>\n",
       "      <td>golf</td>\n",
       "      <td>150000</td>\n",
       "      <td>0</td>\n",
       "      <td>petrol</td>\n",
       "      <td>volkswagen</td>\n",
       "      <td>0</td>\n",
       "      <td>2016-03-24</td>\n",
       "      <td>0</td>\n",
       "      <td>70435</td>\n",
       "      <td>2016-04-07</td>\n",
       "    </tr>\n",
       "    <tr>\n",
       "      <th>1</th>\n",
       "      <td>2016-03-24</td>\n",
       "      <td>18300</td>\n",
       "      <td>coupe</td>\n",
       "      <td>2011</td>\n",
       "      <td>manual</td>\n",
       "      <td>190</td>\n",
       "      <td>NaN</td>\n",
       "      <td>125000</td>\n",
       "      <td>5</td>\n",
       "      <td>gasoline</td>\n",
       "      <td>audi</td>\n",
       "      <td>1</td>\n",
       "      <td>2016-03-24</td>\n",
       "      <td>0</td>\n",
       "      <td>66954</td>\n",
       "      <td>2016-04-07</td>\n",
       "    </tr>\n",
       "    <tr>\n",
       "      <th>2</th>\n",
       "      <td>2016-03-14</td>\n",
       "      <td>9800</td>\n",
       "      <td>suv</td>\n",
       "      <td>2004</td>\n",
       "      <td>auto</td>\n",
       "      <td>163</td>\n",
       "      <td>grand</td>\n",
       "      <td>125000</td>\n",
       "      <td>8</td>\n",
       "      <td>gasoline</td>\n",
       "      <td>jeep</td>\n",
       "      <td>0</td>\n",
       "      <td>2016-03-14</td>\n",
       "      <td>0</td>\n",
       "      <td>90480</td>\n",
       "      <td>2016-04-05</td>\n",
       "    </tr>\n",
       "    <tr>\n",
       "      <th>3</th>\n",
       "      <td>2016-03-17</td>\n",
       "      <td>1500</td>\n",
       "      <td>small</td>\n",
       "      <td>2001</td>\n",
       "      <td>manual</td>\n",
       "      <td>75</td>\n",
       "      <td>golf</td>\n",
       "      <td>150000</td>\n",
       "      <td>6</td>\n",
       "      <td>petrol</td>\n",
       "      <td>volkswagen</td>\n",
       "      <td>0</td>\n",
       "      <td>2016-03-17</td>\n",
       "      <td>0</td>\n",
       "      <td>91074</td>\n",
       "      <td>2016-03-17</td>\n",
       "    </tr>\n",
       "    <tr>\n",
       "      <th>4</th>\n",
       "      <td>2016-03-31</td>\n",
       "      <td>3600</td>\n",
       "      <td>small</td>\n",
       "      <td>2008</td>\n",
       "      <td>manual</td>\n",
       "      <td>69</td>\n",
       "      <td>fabia</td>\n",
       "      <td>90000</td>\n",
       "      <td>7</td>\n",
       "      <td>gasoline</td>\n",
       "      <td>skoda</td>\n",
       "      <td>0</td>\n",
       "      <td>2016-03-31</td>\n",
       "      <td>0</td>\n",
       "      <td>60437</td>\n",
       "      <td>2016-04-06</td>\n",
       "    </tr>\n",
       "  </tbody>\n",
       "</table>\n",
       "</div>"
      ],
      "text/plain": [
       "autos.csv date_crawled  price vehicle_type  registration_year gearbox  power  \\\n",
       "0           2016-03-24    480          NaN               1993  manual      0   \n",
       "1           2016-03-24  18300        coupe               2011  manual    190   \n",
       "2           2016-03-14   9800          suv               2004    auto    163   \n",
       "3           2016-03-17   1500        small               2001  manual     75   \n",
       "4           2016-03-31   3600        small               2008  manual     69   \n",
       "\n",
       "autos.csv  model  kilometer  registration_month fuel_type       brand  \\\n",
       "0           golf     150000                   0    petrol  volkswagen   \n",
       "1            NaN     125000                   5  gasoline        audi   \n",
       "2          grand     125000                   8  gasoline        jeep   \n",
       "3           golf     150000                   6    petrol  volkswagen   \n",
       "4          fabia      90000                   7  gasoline       skoda   \n",
       "\n",
       "autos.csv  repaired date_created  number_of_pictures  postal_code  last_seen  \n",
       "0                 0   2016-03-24                   0        70435 2016-04-07  \n",
       "1                 1   2016-03-24                   0        66954 2016-04-07  \n",
       "2                 0   2016-03-14                   0        90480 2016-04-05  \n",
       "3                 0   2016-03-17                   0        91074 2016-03-17  \n",
       "4                 0   2016-03-31                   0        60437 2016-04-06  "
      ]
     },
     "execution_count": 14,
     "metadata": {},
     "output_type": "execute_result"
    }
   ],
   "source": [
    "data.head()"
   ]
  },
  {
   "cell_type": "markdown",
   "id": "7df689dd",
   "metadata": {},
   "source": [
    "### Удаление ошибочных записей"
   ]
  },
  {
   "cell_type": "markdown",
   "id": "9d1cff22",
   "metadata": {},
   "source": [
    "Согласно статистической сводке data.describe() в данных присутствуют ошибочные записи: 9999 год регистрации автомобиля или бешеная мощность автомобиля в 20000 л.с.\n",
    "\n",
    "Такие объекты стоит исключить"
   ]
  },
  {
   "cell_type": "markdown",
   "id": "23dfe402",
   "metadata": {},
   "source": [
    "#### *registration_year*"
   ]
  },
  {
   "cell_type": "code",
   "execution_count": 15,
   "id": "3cc0c49c",
   "metadata": {},
   "outputs": [
    {
     "data": {
      "text/plain": [
       "array([1000, 1001, 1039, 1111, 1200, 1234, 1253, 1255, 1300, 1400, 1500,\n",
       "       1600, 1602, 1688, 1800, 1910, 1915, 1919, 1920, 1923, 1925, 1927,\n",
       "       1928, 1929, 1930, 1931, 1932, 1933, 1934, 1935, 1936, 1937, 1938,\n",
       "       1940, 1941, 1942, 1943, 1944, 1945, 1946, 1947, 1948, 1949, 1950,\n",
       "       1951, 1952, 1953, 1954, 1955, 1956, 1957, 1958, 1959, 1960, 1961,\n",
       "       1962, 1963, 1964, 1965, 1966, 1967, 1968, 1969, 1970, 1971, 1972,\n",
       "       1973, 1974, 1975, 1976, 1977, 1978, 1979, 1980, 1981, 1982, 1983,\n",
       "       1984, 1985, 1986, 1987, 1988, 1989, 1990, 1991, 1992, 1993, 1994,\n",
       "       1995, 1996, 1997, 1998, 1999, 2000, 2001, 2002, 2003, 2004, 2005,\n",
       "       2006, 2007, 2008, 2009, 2010, 2011, 2012, 2013, 2014, 2015, 2016,\n",
       "       2017, 2018, 2019, 2066, 2200, 2222, 2290, 2500, 2800, 2900, 3000,\n",
       "       3200, 3500, 3700, 3800, 4000, 4100, 4500, 4800, 5000, 5300, 5555,\n",
       "       5600, 5900, 5911, 6000, 6500, 7000, 7100, 7500, 7800, 8000, 8200,\n",
       "       8455, 8500, 8888, 9000, 9229, 9450, 9996, 9999])"
      ]
     },
     "execution_count": 15,
     "metadata": {},
     "output_type": "execute_result"
    }
   ],
   "source": [
    "np.sort(data.registration_year.unique())"
   ]
  },
  {
   "cell_type": "markdown",
   "id": "42b36100",
   "metadata": {},
   "source": [
    "Как видно, в данных присутствуют, похоже, супер раритетные авто. Поверить хочется, но все же нашему исследованию такие \"интересные\" объявления скорее помешают, поэтому будет целесообразно удалить объявления, которые не соответствуеют временному промежутку данных.\n",
    "\n",
    "Вот, кстати, и он:"
   ]
  },
  {
   "cell_type": "code",
   "execution_count": 16,
   "id": "e6b8470b",
   "metadata": {},
   "outputs": [
    {
     "data": {
      "text/plain": [
       "Timestamp('2014-03-10 00:00:00')"
      ]
     },
     "metadata": {},
     "output_type": "display_data"
    },
    {
     "data": {
      "text/plain": [
       "Timestamp('2016-04-07 00:00:00')"
      ]
     },
     "execution_count": 16,
     "metadata": {},
     "output_type": "execute_result"
    }
   ],
   "source": [
    "display(data.date_created.min())\n",
    "data.date_created.max()"
   ]
  },
  {
   "cell_type": "markdown",
   "id": "95d02b3a",
   "metadata": {},
   "source": [
    "Выгружали информацию в этот период времени:"
   ]
  },
  {
   "cell_type": "code",
   "execution_count": 17,
   "id": "b453517c",
   "metadata": {},
   "outputs": [
    {
     "data": {
      "text/plain": [
       "Timestamp('2016-03-05 00:00:00')"
      ]
     },
     "metadata": {},
     "output_type": "display_data"
    },
    {
     "data": {
      "text/plain": [
       "Timestamp('2016-04-07 00:00:00')"
      ]
     },
     "execution_count": 17,
     "metadata": {},
     "output_type": "execute_result"
    }
   ],
   "source": [
    "display(data.date_crawled.min())\n",
    "data.date_crawled.max()"
   ]
  },
  {
   "cell_type": "markdown",
   "id": "2094c8d4",
   "metadata": {},
   "source": [
    "Данные содержат объявления, размещенные за более чем 2 года, начиная с 10 марта 2014 года по 7 апреля 2016 года.\n",
    "\n",
    "Отсюда следует, что объявления о продаже автомобилей, которые были выпущены слишком рано или в слишком далеком будущем, являются ошибочными (или содержат ошибочную информацию), именно поэтому их и удалим.\n",
    "\n",
    "Если с верхней временной границей все довольно очевидно: отсечем объявления на момент последней выгрузки информации из бд, то с нижней еще стоит определиться.\n",
    "\n",
    "Ее установим исходя из того, насколько много было автомобилей с конкретным годом выпуска. Посмотрим на график зависимости количества объявлений от года выпуска авто."
   ]
  },
  {
   "cell_type": "code",
   "execution_count": 18,
   "id": "4d6666a5",
   "metadata": {},
   "outputs": [
    {
     "data": {
      "image/png": "[encoded data removed]",
      "text/plain": [
       "<Figure size 1008x432 with 1 Axes>"
      ]
     },
     "metadata": {
      "needs_background": "light"
     },
     "output_type": "display_data"
    }
   ],
   "source": [
    "plt.figure(figsize=(14, 6))\n",
    "\n",
    "plt.title('Кол-во объявлений с автомобилями конкретного года выпуска')\n",
    "\n",
    "sns.countplot(\n",
    "    x=np.sort(data.registration_year),\n",
    ")\n",
    "\n",
    "xlocs, xlabels = plt.xticks()\n",
    "\n",
    "plt.xticks(xlocs[::3], xlabels[::3], rotation=45)\n",
    "plt.yticks(np.arange(0, 25001, 1000))\n",
    "\n",
    "plt.grid(alpha=.4, linestyle='-.')\n",
    "plt.show()"
   ]
  },
  {
   "cell_type": "markdown",
   "id": "75c40ba8",
   "metadata": {},
   "source": [
    "Итак, нижней границей выберем **1988 год**, так как кол-во продаваемых автомобилей к этому времени начинает стремительно увеличиваться. На момент 1988 года составляет почти 1000 транспортных средств.\n",
    "\n",
    "Все автомобили, произведенные ранее и выставленные на продажу, может и представляют интерес для коллекционеров, но все же оценка стоимости раритетных автомобилей не приоритетная цель разработки нашего алгоритма, так как все мелкие детали он учесть вряд ли сможет.\n",
    "\n",
    "Верхняя граница, как уже говорилось ранее, будет выбрана согласно дате последнего размещенного объявления.\n",
    "\n",
    "Отсечем не нужное:"
   ]
  },
  {
   "cell_type": "code",
   "execution_count": 19,
   "id": "61c55e2e",
   "metadata": {},
   "outputs": [
    {
     "data": {
      "text/plain": [
       "'Удалено 6.19% объектов'"
      ]
     },
     "execution_count": 19,
     "metadata": {},
     "output_type": "execute_result"
    }
   ],
   "source": [
    "data = data.query(\n",
    "    'registration_year >= 1988 & registration_year <= 2016')\n",
    "\n",
    "'Удалено {:.2%} объектов'.format(1 - len(data)/start_length)"
   ]
  },
  {
   "cell_type": "markdown",
   "id": "10d4eee0",
   "metadata": {},
   "source": [
    "#### *registration_month*"
   ]
  },
  {
   "cell_type": "code",
   "execution_count": 20,
   "id": "eafc1f6a",
   "metadata": {},
   "outputs": [
    {
     "data": {
      "text/plain": [
       "array([ 0,  1,  2,  3,  4,  5,  6,  7,  8,  9, 10, 11, 12])"
      ]
     },
     "execution_count": 20,
     "metadata": {},
     "output_type": "execute_result"
    }
   ],
   "source": [
    "np.sort(data.registration_month.unique())"
   ]
  },
  {
   "cell_type": "markdown",
   "id": "b97c821a",
   "metadata": {},
   "source": [
    "Неясна природа возникновения месяца с номером 0. Вполне вероятно, что этим значением заполнили пропущенные значения, но точной уверенности в этом нет.\n",
    "\n",
    "Пока заменим эти нули на единицу, чтобы не возникло проблем с отсечением объявлений по дате."
   ]
  },
  {
   "cell_type": "code",
   "execution_count": 21,
   "id": "b823f42e",
   "metadata": {},
   "outputs": [],
   "source": [
    "data['registration_month'] = data.registration_month.replace(0, 1)"
   ]
  },
  {
   "cell_type": "markdown",
   "id": "50250085",
   "metadata": {},
   "source": [
    "Теперь выполним отсечение объявлений с авто 2016 года выпуска по месяцу, чтобы соответствовать временному промежутку сбора данных. Так как апрель захвачен не весь, а всего лишь неделя из него, то стоит исключить объявления, где автомобиль зарегистрирован позже первой недели апреля 2016 года."
   ]
  },
  {
   "cell_type": "code",
   "execution_count": 22,
   "id": "ca964089",
   "metadata": {},
   "outputs": [
    {
     "data": {
      "text/plain": [
       "'Удалено 7.71% объектов'"
      ]
     },
     "execution_count": 22,
     "metadata": {},
     "output_type": "execute_result"
    }
   ],
   "source": [
    "data = data.drop(index=data[(data['registration_year'] == 2016) & (\n",
    "    data['registration_month'] >= 4)].index)\n",
    "\n",
    "'Удалено {:.2%} объектов'.format(1 - len(data)/start_length)"
   ]
  },
  {
   "cell_type": "markdown",
   "id": "42ea3aa2",
   "metadata": {},
   "source": [
    "В конце отсортируем объявления по дате создания (`date_created`):"
   ]
  },
  {
   "cell_type": "code",
   "execution_count": 23,
   "id": "aee9777e",
   "metadata": {},
   "outputs": [
    {
     "data": {
      "text/html": [
       "<div>\n",
       "<style scoped>\n",
       "    .dataframe tbody tr th:only-of-type {\n",
       "        vertical-align: middle;\n",
       "    }\n",
       "\n",
       "    .dataframe tbody tr th {\n",
       "        vertical-align: top;\n",
       "    }\n",
       "\n",
       "    .dataframe thead th {\n",
       "        text-align: right;\n",
       "    }\n",
       "</style>\n",
       "<table border=\"1\" class=\"dataframe\">\n",
       "  <thead>\n",
       "    <tr style=\"text-align: right;\">\n",
       "      <th>autos.csv</th>\n",
       "      <th>date_crawled</th>\n",
       "      <th>price</th>\n",
       "      <th>vehicle_type</th>\n",
       "      <th>registration_year</th>\n",
       "      <th>gearbox</th>\n",
       "      <th>power</th>\n",
       "      <th>model</th>\n",
       "      <th>kilometer</th>\n",
       "      <th>registration_month</th>\n",
       "      <th>fuel_type</th>\n",
       "      <th>brand</th>\n",
       "      <th>repaired</th>\n",
       "      <th>date_created</th>\n",
       "      <th>number_of_pictures</th>\n",
       "      <th>postal_code</th>\n",
       "      <th>last_seen</th>\n",
       "    </tr>\n",
       "  </thead>\n",
       "  <tbody>\n",
       "    <tr>\n",
       "      <th>0</th>\n",
       "      <td>2016-03-16</td>\n",
       "      <td>8999</td>\n",
       "      <td>NaN</td>\n",
       "      <td>2005</td>\n",
       "      <td>NaN</td>\n",
       "      <td>0</td>\n",
       "      <td>147</td>\n",
       "      <td>125000</td>\n",
       "      <td>1</td>\n",
       "      <td>petrol</td>\n",
       "      <td>alfa_romeo</td>\n",
       "      <td>0</td>\n",
       "      <td>2014-03-10</td>\n",
       "      <td>0</td>\n",
       "      <td>79669</td>\n",
       "      <td>2016-04-07</td>\n",
       "    </tr>\n",
       "    <tr>\n",
       "      <th>1</th>\n",
       "      <td>2016-03-23</td>\n",
       "      <td>6000</td>\n",
       "      <td>bus</td>\n",
       "      <td>1995</td>\n",
       "      <td>auto</td>\n",
       "      <td>200</td>\n",
       "      <td>other</td>\n",
       "      <td>150000</td>\n",
       "      <td>1</td>\n",
       "      <td>petrol</td>\n",
       "      <td>chevrolet</td>\n",
       "      <td>0</td>\n",
       "      <td>2015-03-20</td>\n",
       "      <td>0</td>\n",
       "      <td>24558</td>\n",
       "      <td>2016-04-07</td>\n",
       "    </tr>\n",
       "    <tr>\n",
       "      <th>2</th>\n",
       "      <td>2016-03-05</td>\n",
       "      <td>10400</td>\n",
       "      <td>bus</td>\n",
       "      <td>1993</td>\n",
       "      <td>NaN</td>\n",
       "      <td>0</td>\n",
       "      <td>ducato</td>\n",
       "      <td>30000</td>\n",
       "      <td>1</td>\n",
       "      <td>gasoline</td>\n",
       "      <td>fiat</td>\n",
       "      <td>0</td>\n",
       "      <td>2015-06-18</td>\n",
       "      <td>0</td>\n",
       "      <td>76275</td>\n",
       "      <td>2016-04-05</td>\n",
       "    </tr>\n",
       "    <tr>\n",
       "      <th>3</th>\n",
       "      <td>2016-04-02</td>\n",
       "      <td>14250</td>\n",
       "      <td>convertible</td>\n",
       "      <td>2005</td>\n",
       "      <td>manual</td>\n",
       "      <td>163</td>\n",
       "      <td>slk</td>\n",
       "      <td>150000</td>\n",
       "      <td>6</td>\n",
       "      <td>petrol</td>\n",
       "      <td>mercedes_benz</td>\n",
       "      <td>0</td>\n",
       "      <td>2015-08-07</td>\n",
       "      <td>0</td>\n",
       "      <td>76228</td>\n",
       "      <td>2016-04-07</td>\n",
       "    </tr>\n",
       "    <tr>\n",
       "      <th>4</th>\n",
       "      <td>2016-03-08</td>\n",
       "      <td>5200</td>\n",
       "      <td>convertible</td>\n",
       "      <td>2006</td>\n",
       "      <td>manual</td>\n",
       "      <td>109</td>\n",
       "      <td>2_reihe</td>\n",
       "      <td>80000</td>\n",
       "      <td>11</td>\n",
       "      <td>petrol</td>\n",
       "      <td>peugeot</td>\n",
       "      <td>0</td>\n",
       "      <td>2015-08-10</td>\n",
       "      <td>0</td>\n",
       "      <td>26382</td>\n",
       "      <td>2016-04-05</td>\n",
       "    </tr>\n",
       "  </tbody>\n",
       "</table>\n",
       "</div>"
      ],
      "text/plain": [
       "autos.csv date_crawled  price vehicle_type  registration_year gearbox  power  \\\n",
       "0           2016-03-16   8999          NaN               2005     NaN      0   \n",
       "1           2016-03-23   6000          bus               1995    auto    200   \n",
       "2           2016-03-05  10400          bus               1993     NaN      0   \n",
       "3           2016-04-02  14250  convertible               2005  manual    163   \n",
       "4           2016-03-08   5200  convertible               2006  manual    109   \n",
       "\n",
       "autos.csv    model  kilometer  registration_month fuel_type          brand  \\\n",
       "0              147     125000                   1    petrol     alfa_romeo   \n",
       "1            other     150000                   1    petrol      chevrolet   \n",
       "2           ducato      30000                   1  gasoline           fiat   \n",
       "3              slk     150000                   6    petrol  mercedes_benz   \n",
       "4          2_reihe      80000                  11    petrol        peugeot   \n",
       "\n",
       "autos.csv  repaired date_created  number_of_pictures  postal_code  last_seen  \n",
       "0                 0   2014-03-10                   0        79669 2016-04-07  \n",
       "1                 0   2015-03-20                   0        24558 2016-04-07  \n",
       "2                 0   2015-06-18                   0        76275 2016-04-05  \n",
       "3                 0   2015-08-07                   0        76228 2016-04-07  \n",
       "4                 0   2015-08-10                   0        26382 2016-04-05  "
      ]
     },
     "execution_count": 23,
     "metadata": {},
     "output_type": "execute_result"
    }
   ],
   "source": [
    "data = data.sort_values(by='date_created').reset_index(drop=True)\n",
    "\n",
    "data.head()"
   ]
  },
  {
   "cell_type": "markdown",
   "id": "cd172231",
   "metadata": {},
   "source": [
    "#### *power*"
   ]
  },
  {
   "cell_type": "code",
   "execution_count": 24,
   "id": "77c96ae3",
   "metadata": {
    "scrolled": true
   },
   "outputs": [
    {
     "data": {
      "text/plain": [
       "array([    0,     1,     2,     3,     4,     5,     6,     7,     8,\n",
       "           9,    10,    11,    12,    13,    14,    15,    16,    17,\n",
       "          18,    19,    20,    21,    22,    23,    24,    25,    26,\n",
       "          27,    28,    29,    30,    31,    32,    33,    34,    35,\n",
       "          36,    37,    38,    39,    40,    41,    42,    43,    44,\n",
       "          45,    46,    47,    48,    49,    50,    51,    52,    53,\n",
       "          54,    55,    56,    57,    58,    59,    60,    61,    62,\n",
       "          63,    64,    65,    66,    67,    68,    69,    70,    71,\n",
       "          72,    73,    74,    75,    76,    77,    78,    79,    80,\n",
       "          81,    82,    83,    84,    85,    86,    87,    88,    89,\n",
       "          90,    91,    92,    93,    94,    95,    96,    97,    98,\n",
       "          99,   100,   101,   102,   103,   104,   105,   106,   107,\n",
       "         108,   109,   110,   111,   112,   113,   114,   115,   116,\n",
       "         117,   118,   119,   120,   121,   122,   123,   124,   125,\n",
       "         126,   127,   128,   129,   130,   131,   132,   133,   134,\n",
       "         135,   136,   137,   138,   139,   140,   141,   142,   143,\n",
       "         144,   145,   146,   147,   148,   149,   150,   151,   152,\n",
       "         153,   154,   155,   156,   157,   158,   159,   160,   161,\n",
       "         162,   163,   164,   165,   166,   167,   168,   169,   170,\n",
       "         171,   172,   173,   174,   175,   176,   177,   178,   179,\n",
       "         180,   181,   182,   183,   184,   185,   186,   187,   188,\n",
       "         189,   190,   191,   192,   193,   194,   195,   196,   197,\n",
       "         198,   199,   200,   201,   202,   203,   204,   205,   206,\n",
       "         207,   208,   209,   210,   211,   212,   213,   214,   215,\n",
       "         216,   217,   218,   219,   220,   221,   222,   223,   224,\n",
       "         225,   226,   227,   228,   229,   230,   231,   232,   233,\n",
       "         234,   235,   236,   237,   238,   239,   240,   241,   242,\n",
       "         243,   244,   245,   246,   247,   248,   249,   250,   251,\n",
       "         252,   253,   254,   255,   256,   257,   258,   259,   260,\n",
       "         261,   262,   264,   265,   266,   267,   268,   269,   270,\n",
       "         271,   272,   273,   274,   275,   276,   277,   278,   279,\n",
       "         280,   281,   282,   283,   284,   285,   286,   287,   288,\n",
       "         289,   290,   292,   293,   294,   295,   296,   297,   298,\n",
       "         299,   300,   301,   303,   304,   305,   306,   307,   308,\n",
       "         309,   310,   311,   313,   314,   315,   316,   317,   318,\n",
       "         320,   321,   322,   324,   325,   326,   327,   328,   329,\n",
       "         330,   331,   332,   333,   334,   335,   336,   337,   338,\n",
       "         339,   340,   341,   343,   344,   345,   346,   347,   348,\n",
       "         349,   350,   351,   352,   353,   354,   355,   356,   357,\n",
       "         358,   360,   361,   362,   363,   364,   365,   367,   368,\n",
       "         370,   371,   374,   375,   376,   377,   379,   380,   381,\n",
       "         382,   385,   386,   387,   388,   390,   392,   394,   396,\n",
       "         398,   399,   400,   401,   405,   408,   409,   411,   416,\n",
       "         420,   421,   426,   428,   430,   431,   435,   440,   442,\n",
       "         445,   449,   450,   454,   457,   459,   460,   475,   476,\n",
       "         485,   487,   489,   490,   500,   504,   505,   507,   508,\n",
       "         510,   514,   515,   517,   519,   520,   521,   525,   530,\n",
       "         540,   541,   544,   550,   551,   553,   560,   572,   574,\n",
       "         579,   580,   584,   585,   599,   600,   601,   602,   603,\n",
       "         604,   606,   610,   612,   620,   640,   650,   651,   671,\n",
       "         682,   685,   696,   700,   702,   703,   732,   743,   750,\n",
       "         751,   754,   771,   776,   800,   805,   850,   851,   871,\n",
       "         900,   902,   903,   907,   909,   950,   952,   953,   960,\n",
       "         998,   999,  1000,  1001,  1002,  1003,  1004,  1005,  1011,\n",
       "        1012,  1016,  1017,  1021,  1024,  1054,  1055,  1056,  1062,\n",
       "        1079,  1082,  1090,  1100,  1102,  1103,  1105,  1111,  1115,\n",
       "        1120,  1149,  1151,  1158,  1160,  1162,  1164,  1199,  1200,\n",
       "        1202,  1221,  1223,  1230,  1239,  1240,  1241,  1250,  1256,\n",
       "        1275,  1288,  1299,  1312,  1317,  1339,  1360,  1362,  1363,\n",
       "        1367,  1390,  1398,  1399,  1400,  1401,  1403,  1405,  1416,\n",
       "        1432,  1433,  1436,  1500,  1501,  1502,  1503,  1506,  1521,\n",
       "        1548,  1595,  1596,  1597,  1598,  1600,  1625,  1631,  1653,\n",
       "        1689,  1700,  1701,  1703,  1704,  1707,  1753,  1771,  1779,\n",
       "        1780,  1781,  1783,  1793,  1796,  1799,  1800,  1801,  1870,\n",
       "        1895,  1896,  1900,  1910,  1920,  1922,  1933,  1937,  1968,\n",
       "        1988,  1992,  1993,  1995,  1998,  1999,  2000,  2004,  2005,\n",
       "        2007,  2009,  2016,  2017,  2018,  2172,  2200,  2331,  2340,\n",
       "        2389,  2402,  2461,  2598,  2729,  2789,  2792,  2799,  3199,\n",
       "        3454,  3500,  3750,  4400,  4700,  5000,  5411,  5420,  5575,\n",
       "        5809,  5815,  5867,  6006,  6010,  6012,  6045,  6062,  6226,\n",
       "        6512,  6920,  7508,  7511,  7512,  7515,  7518,  7529,  7544,\n",
       "        8011,  8259,  8404,  8500,  9007,  9012,  9013,  9710, 10000,\n",
       "       10110, 10218, 10317, 10520, 10522, 10710, 10910, 10912, 11011,\n",
       "       11025, 11111, 11509, 11530, 11635, 12012, 12510, 12512, 12684,\n",
       "       13636, 14009, 15001, 15017, 15020, 15033, 16311, 16312, 17011,\n",
       "       17019, 17410, 17700, 17932, 19208, 19211, 19312, 20000])"
      ]
     },
     "execution_count": 24,
     "metadata": {},
     "output_type": "execute_result"
    }
   ],
   "source": [
    "np.sort(data.power.unique())"
   ]
  },
  {
   "cell_type": "markdown",
   "id": "5eebb9c3",
   "metadata": {},
   "source": [
    "Значений довольно много и уже видно, что некоторые из них чересчур уж большие. Посмотрим на распределение"
   ]
  },
  {
   "cell_type": "code",
   "execution_count": 25,
   "id": "c7c7684c",
   "metadata": {},
   "outputs": [
    {
     "data": {
      "image/png": "[encoded data removed]",
      "text/plain": [
       "<Figure size 1008x288 with 1 Axes>"
      ]
     },
     "metadata": {
      "needs_background": "light"
     },
     "output_type": "display_data"
    },
    {
     "data": {
      "text/plain": [
       "count   327,064.00\n",
       "mean        112.12\n",
       "std         182.75\n",
       "min           0.00\n",
       "25%          71.00\n",
       "50%         105.00\n",
       "75%         143.00\n",
       "max      20,000.00\n",
       "Name: power, dtype: float64"
      ]
     },
     "execution_count": 25,
     "metadata": {},
     "output_type": "execute_result"
    }
   ],
   "source": [
    "def make_boxplot(col, title):\n",
    "    plt.figure(figsize=(14, 4))\n",
    "    plt.title(title)\n",
    "\n",
    "    sns.boxplot(\n",
    "        x=data[col],\n",
    "        notch=True,\n",
    "        showcaps=False,\n",
    "        flierprops={\"marker\": \"x\"},\n",
    "        boxprops={\"facecolor\": (.4, .6, .8, .5)},\n",
    "        medianprops={\"color\": \"coral\"})\n",
    "\n",
    "    plt.xscale('log')\n",
    "    plt.show()\n",
    "\n",
    "    return data[col].describe()\n",
    "\n",
    "\n",
    "# До изменений\n",
    "make_boxplot('power', 'Распределение значений в признаке \\'power\\'')"
   ]
  },
  {
   "cell_type": "markdown",
   "id": "5d58a111",
   "metadata": {},
   "source": [
    "Что-то слишком много неправдоподобных значений...\n",
    "\n",
    "$Q_3$ равен 143 л.с., а значения тянуться вплоть до 20000 л.с.\n",
    "\n",
    "Рассчитаем допустимые границы диапазона значений согласно \"правилу трех сигм\" (немного увеличим значение k с целью захватить в выборку чуть более мощных авто. В качестве примера, некоторые bmw и mercedes класса выше среднего)"
   ]
  },
  {
   "cell_type": "code",
   "execution_count": 26,
   "id": "cd88f7c0",
   "metadata": {},
   "outputs": [
    {
     "data": {
      "text/plain": [
       "(0, 287.0)"
      ]
     },
     "execution_count": 26,
     "metadata": {},
     "output_type": "execute_result"
    }
   ],
   "source": [
    "Q1 = data['power'].quantile(.25)\n",
    "Q3 = data['power'].quantile(.75)\n",
    "IQR = Q3 - Q1\n",
    "lower, upper = 0, Q3 + 2 * IQR\n",
    "\n",
    "lower, upper"
   ]
  },
  {
   "cell_type": "markdown",
   "id": "1b6fdc6f",
   "metadata": {},
   "source": [
    "*287 л.с.* выглядит нормально. Посмотрим, какую долю от всех составляют автомобили с мощностью в вычисленном диапазоне."
   ]
  },
  {
   "cell_type": "code",
   "execution_count": 27,
   "id": "650e30f9",
   "metadata": {},
   "outputs": [
    {
     "data": {
      "text/plain": [
       "'91.22%'"
      ]
     },
     "execution_count": 27,
     "metadata": {},
     "output_type": "execute_result"
    }
   ],
   "source": [
    "'{:.2%}'.format(len(data.query('power <= @upper'))/start_length)"
   ]
  },
  {
   "cell_type": "markdown",
   "id": "cdd84a90",
   "metadata": {},
   "source": [
    "Более 91% автомобилей имеют мощность менее или равную 287 л.с.\n",
    "\n",
    "Смысла оставлять супер-мощные машины нет, так как нашей модели выбросы вряд ли помогут лучше обучаться и в целом клиентов с раритетным транспортом не так много, как уже говорилось ранее"
   ]
  },
  {
   "cell_type": "code",
   "execution_count": 28,
   "id": "d86c4260",
   "metadata": {},
   "outputs": [
    {
     "data": {
      "text/plain": [
       "'Удалено 8.78% объектов'"
      ]
     },
     "execution_count": 28,
     "metadata": {},
     "output_type": "execute_result"
    }
   ],
   "source": [
    "data = data.query('power <= @upper').reset_index(drop=True)\n",
    "\n",
    "new_length = len(data)\n",
    "\n",
    "'Удалено {:.2%} объектов'.format(1 - len(data)/start_length)"
   ]
  },
  {
   "cell_type": "code",
   "execution_count": 29,
   "id": "c1106662",
   "metadata": {},
   "outputs": [
    {
     "data": {
      "image/png": "[encoded data removed]",
      "text/plain": [
       "<Figure size 1008x288 with 1 Axes>"
      ]
     },
     "metadata": {
      "needs_background": "light"
     },
     "output_type": "display_data"
    },
    {
     "data": {
      "text/plain": [
       "count   323,273.00\n",
       "mean        106.34\n",
       "std          58.10\n",
       "min           0.00\n",
       "25%          70.00\n",
       "50%         105.00\n",
       "75%         143.00\n",
       "max         287.00\n",
       "Name: power, dtype: float64"
      ]
     },
     "execution_count": 29,
     "metadata": {},
     "output_type": "execute_result"
    }
   ],
   "source": [
    "# После изменений\n",
    "make_boxplot('power', 'Распределение значений в признаке \\'power\\'')"
   ]
  },
  {
   "cell_type": "markdown",
   "id": "e9155869",
   "metadata": {},
   "source": [
    "Верхнюю границу то мы отсекли, а по нижней еще есть вопросы.\n",
    "\n",
    "Зачем называть то, что ты продаешь автомобилем, если у \"этого\" 0 лошадиных сил под капотом?))\n",
    "\n",
    "Нули поменяем на среднее значение авто данного бренда и модели, но сделаем это когда заполним пропуски в признаке `model`."
   ]
  },
  {
   "cell_type": "markdown",
   "id": "e677186e",
   "metadata": {},
   "source": [
    "#### *number_of_pictures*"
   ]
  },
  {
   "cell_type": "markdown",
   "id": "39673c48",
   "metadata": {},
   "source": [
    "Абсолютно неинформативный признак. Удалим его."
   ]
  },
  {
   "cell_type": "code",
   "execution_count": 30,
   "id": "cffa693a",
   "metadata": {},
   "outputs": [
    {
     "data": {
      "text/plain": [
       "Index(['date_crawled', 'price', 'vehicle_type', 'registration_year', 'gearbox',\n",
       "       'power', 'model', 'kilometer', 'registration_month', 'fuel_type',\n",
       "       'brand', 'repaired', 'date_created', 'postal_code', 'last_seen'],\n",
       "      dtype='object', name='autos.csv')"
      ]
     },
     "execution_count": 30,
     "metadata": {},
     "output_type": "execute_result"
    }
   ],
   "source": [
    "data = data.drop(columns=['number_of_pictures'])\n",
    "\n",
    "data.columns"
   ]
  },
  {
   "cell_type": "markdown",
   "id": "769188a7",
   "metadata": {},
   "source": [
    "### *price*"
   ]
  },
  {
   "cell_type": "markdown",
   "id": "7a5cfb3e",
   "metadata": {},
   "source": [
    "Целевой признак, который требуется предсказать.\n",
    "\n",
    "Убедимся в \"адекватности\" представленных данных. Посмотрим на распределение значений."
   ]
  },
  {
   "cell_type": "code",
   "execution_count": 31,
   "id": "55ee6b16",
   "metadata": {
    "scrolled": false
   },
   "outputs": [
    {
     "data": {
      "image/png": "[encoded data removed]",
      "text/plain": [
       "<Figure size 864x432 with 1 Axes>"
      ]
     },
     "metadata": {
      "needs_background": "light"
     },
     "output_type": "display_data"
    }
   ],
   "source": [
    "def make_histplot(hist_props, ticks_props=None, hist_title=None):\n",
    "\n",
    "    plt.figure(figsize=(12, 6))\n",
    "    if hist_title is not None:\n",
    "        plt.title(hist_title)\n",
    "\n",
    "    sns.histplot(**hist_props)\n",
    "\n",
    "    if ticks_props is not None:\n",
    "        if len(ticks_props) == 1:\n",
    "            plt.xticks(**ticks_props[0])\n",
    "        elif len(ticks_props) == 2:\n",
    "            plt.xticks(**ticks_props[0])\n",
    "            plt.yticks(**ticks_props[1])\n",
    "\n",
    "    plt.grid(alpha=.4, linestyle='-.')\n",
    "    plt.show()\n",
    "\n",
    "\n",
    "make_histplot(\n",
    "    {'x': data['price'], 'color': '#c32f04', 'fill': False, 'bins': 100},\n",
    "    ({'ticks': np.arange(0, 20001, 1000), 'rotation': 30},),\n",
    "    'Распределение значений в признаке \\'price\\''\n",
    ")"
   ]
  },
  {
   "cell_type": "markdown",
   "id": "def7ede0",
   "metadata": {},
   "source": [
    "Довольно большое количество околонулевых значений, что не слишком хорошо. Стоит отсечь объявления согласно минимально установленному порогу цены, так как иначе не очень хорошие машины будут оценены в цене ниже, чем они стоят на самом деле.\n",
    "\n",
    "Посмотрим, сколько составляет доля таких авто в уже немного предобработанных данных. В качестве порога цены выберем значение в *150€*:"
   ]
  },
  {
   "cell_type": "code",
   "execution_count": 32,
   "id": "3c99b9b8",
   "metadata": {},
   "outputs": [
    {
     "data": {
      "text/plain": [
       "'4.41%'"
      ]
     },
     "execution_count": 32,
     "metadata": {},
     "output_type": "execute_result"
    }
   ],
   "source": [
    "price_threshold = 150\n",
    "\n",
    "'{:.2%}'.format(len(data.query('price <= @price_threshold'))/new_length)"
   ]
  },
  {
   "cell_type": "markdown",
   "id": "cd57e7a7",
   "metadata": {},
   "source": [
    "Чуть более 4% объявлений не настолько критично для удаления, поэтому можем себе позволить)"
   ]
  },
  {
   "cell_type": "code",
   "execution_count": 33,
   "id": "bb5bf962",
   "metadata": {},
   "outputs": [
    {
     "data": {
      "text/plain": [
       "'Удалено 12.37% объектов'"
      ]
     },
     "execution_count": 33,
     "metadata": {},
     "output_type": "execute_result"
    }
   ],
   "source": [
    "data = data.query('price >= @price_threshold').reset_index(drop=True)\n",
    "\n",
    "# Доля удаленных объектов из изначального датасета\n",
    "'Удалено {:.2%} объектов'.format(1 - len(data)/start_length)"
   ]
  },
  {
   "cell_type": "markdown",
   "id": "476a5318",
   "metadata": {},
   "source": [
    "### *postal_code*"
   ]
  },
  {
   "cell_type": "markdown",
   "id": "b3ff5049",
   "metadata": {},
   "source": [
    "Довольно важный признак, по которому можно локализовать пользователя. Локация, вполне очевидно, влияет на конечную цену авто, поэтому стоит разобраться в том, что каждый из почтовых индексов обозначает и, возможно, добавить признаки, содержащие более подробные сведения о регионе продажи автомобиля."
   ]
  },
  {
   "cell_type": "code",
   "execution_count": 34,
   "id": "bc86bf92",
   "metadata": {},
   "outputs": [
    {
     "data": {
      "text/plain": [
       "0         79669\n",
       "1         24558\n",
       "2         76275\n",
       "3         76228\n",
       "4         26382\n",
       "          ...  \n",
       "310527    84364\n",
       "310528    92421\n",
       "310529    13437\n",
       "310530    41372\n",
       "310531    73660\n",
       "Name: postal_code, Length: 310532, dtype: int64"
      ]
     },
     "execution_count": 34,
     "metadata": {},
     "output_type": "execute_result"
    }
   ],
   "source": [
    "data.postal_code"
   ]
  },
  {
   "cell_type": "markdown",
   "id": "65a3b11f",
   "metadata": {},
   "source": [
    "\\> 8000 различных почтовых индексов!\n",
    "\n",
    "Поиск в Интернете приводит к осознанию, что компания \"Не бит, не крашен\" работает по Германии, так как все эти почтовые индексы отсылают к районам именно этой страны.\n",
    "\n",
    "Система почтовой индексации в Германии предполагает деление страны на 10 основных зон. Индексы пятизначные. То есть, вполне можно классифицировать каждую зону по индексу, что поможет получить представление о том, как те или иные авто пользуются спросом в различных частях страны."
   ]
  },
  {
   "cell_type": "markdown",
   "id": "92c8895a",
   "metadata": {},
   "source": [
    "Пропусков нет, однако убедимся в том, все ли значения пятизначные:"
   ]
  },
  {
   "cell_type": "code",
   "execution_count": 35,
   "id": "f8320051",
   "metadata": {},
   "outputs": [
    {
     "data": {
      "text/plain": [
       "False"
      ]
     },
     "execution_count": 35,
     "metadata": {},
     "output_type": "execute_result"
    }
   ],
   "source": [
    "len(data[data['postal_code'].apply(lambda x: len(str(x)) == 5)]) == len(data)"
   ]
  },
  {
   "cell_type": "markdown",
   "id": "601c8c57",
   "metadata": {},
   "source": [
    "Видимо нет...\n",
    "\n",
    "Посмотрим, в чем проблема:"
   ]
  },
  {
   "cell_type": "code",
   "execution_count": 36,
   "id": "9775bbb2",
   "metadata": {},
   "outputs": [
    {
     "data": {
      "text/html": [
       "<div>\n",
       "<style scoped>\n",
       "    .dataframe tbody tr th:only-of-type {\n",
       "        vertical-align: middle;\n",
       "    }\n",
       "\n",
       "    .dataframe tbody tr th {\n",
       "        vertical-align: top;\n",
       "    }\n",
       "\n",
       "    .dataframe thead th {\n",
       "        text-align: right;\n",
       "    }\n",
       "</style>\n",
       "<table border=\"1\" class=\"dataframe\">\n",
       "  <thead>\n",
       "    <tr style=\"text-align: right;\">\n",
       "      <th>autos.csv</th>\n",
       "      <th>date_crawled</th>\n",
       "      <th>price</th>\n",
       "      <th>vehicle_type</th>\n",
       "      <th>registration_year</th>\n",
       "      <th>gearbox</th>\n",
       "      <th>power</th>\n",
       "      <th>model</th>\n",
       "      <th>kilometer</th>\n",
       "      <th>registration_month</th>\n",
       "      <th>fuel_type</th>\n",
       "      <th>brand</th>\n",
       "      <th>repaired</th>\n",
       "      <th>date_created</th>\n",
       "      <th>postal_code</th>\n",
       "      <th>last_seen</th>\n",
       "    </tr>\n",
       "  </thead>\n",
       "  <tbody>\n",
       "    <tr>\n",
       "      <th>14</th>\n",
       "      <td>2016-03-19</td>\n",
       "      <td>11999</td>\n",
       "      <td>NaN</td>\n",
       "      <td>2008</td>\n",
       "      <td>manual</td>\n",
       "      <td>150</td>\n",
       "      <td>NaN</td>\n",
       "      <td>90000</td>\n",
       "      <td>1</td>\n",
       "      <td>gasoline</td>\n",
       "      <td>opel</td>\n",
       "      <td>0</td>\n",
       "      <td>2015-11-23</td>\n",
       "      <td>7749</td>\n",
       "      <td>2016-03-27</td>\n",
       "    </tr>\n",
       "    <tr>\n",
       "      <th>17</th>\n",
       "      <td>2016-03-07</td>\n",
       "      <td>900</td>\n",
       "      <td>sedan</td>\n",
       "      <td>1997</td>\n",
       "      <td>auto</td>\n",
       "      <td>115</td>\n",
       "      <td>impreza</td>\n",
       "      <td>150000</td>\n",
       "      <td>4</td>\n",
       "      <td>petrol</td>\n",
       "      <td>subaru</td>\n",
       "      <td>0</td>\n",
       "      <td>2015-12-05</td>\n",
       "      <td>2943</td>\n",
       "      <td>2016-03-22</td>\n",
       "    </tr>\n",
       "    <tr>\n",
       "      <th>18</th>\n",
       "      <td>2016-03-14</td>\n",
       "      <td>900</td>\n",
       "      <td>sedan</td>\n",
       "      <td>1997</td>\n",
       "      <td>auto</td>\n",
       "      <td>115</td>\n",
       "      <td>impreza</td>\n",
       "      <td>150000</td>\n",
       "      <td>4</td>\n",
       "      <td>petrol</td>\n",
       "      <td>subaru</td>\n",
       "      <td>0</td>\n",
       "      <td>2015-12-05</td>\n",
       "      <td>2943</td>\n",
       "      <td>2016-03-22</td>\n",
       "    </tr>\n",
       "    <tr>\n",
       "      <th>19</th>\n",
       "      <td>2016-03-18</td>\n",
       "      <td>900</td>\n",
       "      <td>sedan</td>\n",
       "      <td>1997</td>\n",
       "      <td>auto</td>\n",
       "      <td>115</td>\n",
       "      <td>impreza</td>\n",
       "      <td>150000</td>\n",
       "      <td>4</td>\n",
       "      <td>petrol</td>\n",
       "      <td>subaru</td>\n",
       "      <td>0</td>\n",
       "      <td>2015-12-05</td>\n",
       "      <td>2943</td>\n",
       "      <td>2016-03-23</td>\n",
       "    </tr>\n",
       "    <tr>\n",
       "      <th>34</th>\n",
       "      <td>2016-03-07</td>\n",
       "      <td>7399</td>\n",
       "      <td>sedan</td>\n",
       "      <td>2007</td>\n",
       "      <td>manual</td>\n",
       "      <td>116</td>\n",
       "      <td>1er</td>\n",
       "      <td>100000</td>\n",
       "      <td>5</td>\n",
       "      <td>petrol</td>\n",
       "      <td>bmw</td>\n",
       "      <td>0</td>\n",
       "      <td>2016-01-10</td>\n",
       "      <td>8141</td>\n",
       "      <td>2016-03-13</td>\n",
       "    </tr>\n",
       "    <tr>\n",
       "      <th>...</th>\n",
       "      <td>...</td>\n",
       "      <td>...</td>\n",
       "      <td>...</td>\n",
       "      <td>...</td>\n",
       "      <td>...</td>\n",
       "      <td>...</td>\n",
       "      <td>...</td>\n",
       "      <td>...</td>\n",
       "      <td>...</td>\n",
       "      <td>...</td>\n",
       "      <td>...</td>\n",
       "      <td>...</td>\n",
       "      <td>...</td>\n",
       "      <td>...</td>\n",
       "      <td>...</td>\n",
       "    </tr>\n",
       "    <tr>\n",
       "      <th>310347</th>\n",
       "      <td>2016-04-07</td>\n",
       "      <td>4490</td>\n",
       "      <td>wagon</td>\n",
       "      <td>2004</td>\n",
       "      <td>manual</td>\n",
       "      <td>116</td>\n",
       "      <td>3er</td>\n",
       "      <td>150000</td>\n",
       "      <td>10</td>\n",
       "      <td>gasoline</td>\n",
       "      <td>bmw</td>\n",
       "      <td>0</td>\n",
       "      <td>2016-04-07</td>\n",
       "      <td>4157</td>\n",
       "      <td>2016-04-07</td>\n",
       "    </tr>\n",
       "    <tr>\n",
       "      <th>310428</th>\n",
       "      <td>2016-04-07</td>\n",
       "      <td>480</td>\n",
       "      <td>small</td>\n",
       "      <td>1995</td>\n",
       "      <td>NaN</td>\n",
       "      <td>0</td>\n",
       "      <td>cuore</td>\n",
       "      <td>100000</td>\n",
       "      <td>4</td>\n",
       "      <td>petrol</td>\n",
       "      <td>daihatsu</td>\n",
       "      <td>0</td>\n",
       "      <td>2016-04-07</td>\n",
       "      <td>6886</td>\n",
       "      <td>2016-04-07</td>\n",
       "    </tr>\n",
       "    <tr>\n",
       "      <th>310446</th>\n",
       "      <td>2016-04-07</td>\n",
       "      <td>2499</td>\n",
       "      <td>sedan</td>\n",
       "      <td>1997</td>\n",
       "      <td>manual</td>\n",
       "      <td>125</td>\n",
       "      <td>a4</td>\n",
       "      <td>150000</td>\n",
       "      <td>7</td>\n",
       "      <td>petrol</td>\n",
       "      <td>audi</td>\n",
       "      <td>0</td>\n",
       "      <td>2016-04-07</td>\n",
       "      <td>6366</td>\n",
       "      <td>2016-04-07</td>\n",
       "    </tr>\n",
       "    <tr>\n",
       "      <th>310457</th>\n",
       "      <td>2016-04-07</td>\n",
       "      <td>199</td>\n",
       "      <td>small</td>\n",
       "      <td>1997</td>\n",
       "      <td>manual</td>\n",
       "      <td>60</td>\n",
       "      <td>ka</td>\n",
       "      <td>80000</td>\n",
       "      <td>12</td>\n",
       "      <td>petrol</td>\n",
       "      <td>ford</td>\n",
       "      <td>0</td>\n",
       "      <td>2016-04-07</td>\n",
       "      <td>4564</td>\n",
       "      <td>2016-04-07</td>\n",
       "    </tr>\n",
       "    <tr>\n",
       "      <th>310463</th>\n",
       "      <td>2016-04-07</td>\n",
       "      <td>250</td>\n",
       "      <td>wagon</td>\n",
       "      <td>1996</td>\n",
       "      <td>manual</td>\n",
       "      <td>75</td>\n",
       "      <td>cordoba</td>\n",
       "      <td>150000</td>\n",
       "      <td>1</td>\n",
       "      <td>petrol</td>\n",
       "      <td>seat</td>\n",
       "      <td>0</td>\n",
       "      <td>2016-04-07</td>\n",
       "      <td>3185</td>\n",
       "      <td>2016-04-07</td>\n",
       "    </tr>\n",
       "  </tbody>\n",
       "</table>\n",
       "<p>15195 rows × 15 columns</p>\n",
       "</div>"
      ],
      "text/plain": [
       "autos.csv date_crawled  price vehicle_type  registration_year gearbox  power  \\\n",
       "14          2016-03-19  11999          NaN               2008  manual    150   \n",
       "17          2016-03-07    900        sedan               1997    auto    115   \n",
       "18          2016-03-14    900        sedan               1997    auto    115   \n",
       "19          2016-03-18    900        sedan               1997    auto    115   \n",
       "34          2016-03-07   7399        sedan               2007  manual    116   \n",
       "...                ...    ...          ...                ...     ...    ...   \n",
       "310347      2016-04-07   4490        wagon               2004  manual    116   \n",
       "310428      2016-04-07    480        small               1995     NaN      0   \n",
       "310446      2016-04-07   2499        sedan               1997  manual    125   \n",
       "310457      2016-04-07    199        small               1997  manual     60   \n",
       "310463      2016-04-07    250        wagon               1996  manual     75   \n",
       "\n",
       "autos.csv    model  kilometer  registration_month fuel_type     brand  \\\n",
       "14             NaN      90000                   1  gasoline      opel   \n",
       "17         impreza     150000                   4    petrol    subaru   \n",
       "18         impreza     150000                   4    petrol    subaru   \n",
       "19         impreza     150000                   4    petrol    subaru   \n",
       "34             1er     100000                   5    petrol       bmw   \n",
       "...            ...        ...                 ...       ...       ...   \n",
       "310347         3er     150000                  10  gasoline       bmw   \n",
       "310428       cuore     100000                   4    petrol  daihatsu   \n",
       "310446          a4     150000                   7    petrol      audi   \n",
       "310457          ka      80000                  12    petrol      ford   \n",
       "310463     cordoba     150000                   1    petrol      seat   \n",
       "\n",
       "autos.csv  repaired date_created  postal_code  last_seen  \n",
       "14                0   2015-11-23         7749 2016-03-27  \n",
       "17                0   2015-12-05         2943 2016-03-22  \n",
       "18                0   2015-12-05         2943 2016-03-22  \n",
       "19                0   2015-12-05         2943 2016-03-23  \n",
       "34                0   2016-01-10         8141 2016-03-13  \n",
       "...             ...          ...          ...        ...  \n",
       "310347            0   2016-04-07         4157 2016-04-07  \n",
       "310428            0   2016-04-07         6886 2016-04-07  \n",
       "310446            0   2016-04-07         6366 2016-04-07  \n",
       "310457            0   2016-04-07         4564 2016-04-07  \n",
       "310463            0   2016-04-07         3185 2016-04-07  \n",
       "\n",
       "[15195 rows x 15 columns]"
      ]
     },
     "execution_count": 36,
     "metadata": {},
     "output_type": "execute_result"
    }
   ],
   "source": [
    "data[data['postal_code'].apply(lambda x: len(str(x)) == 4)]"
   ]
  },
  {
   "cell_type": "markdown",
   "id": "d173c092",
   "metadata": {},
   "source": [
    "Есть значения, состоящие из четырех цифр. Однако, таких значений индексов и в помине нет.\n",
    "\n",
    "Вероятно, потерялся 0 в начале, так как в этом столбце значения записаны с типом данных int.\n",
    "\n",
    "Исправим данное недоразумение. Правда, придется изменить тип данных на str (object)."
   ]
  },
  {
   "cell_type": "code",
   "execution_count": 37,
   "id": "0d736f4b",
   "metadata": {},
   "outputs": [
    {
     "data": {
      "text/plain": [
       "True"
      ]
     },
     "execution_count": 37,
     "metadata": {},
     "output_type": "execute_result"
    }
   ],
   "source": [
    "data['postal_code'] = data.postal_code.astype(str)\n",
    "\n",
    "data['postal_code'] = data['postal_code'].apply(\n",
    "    lambda index: '0' + index if len(index) == 4 else index)\n",
    "\n",
    "len(data[data['postal_code'].apply(lambda x: len(str(x)) == 5)]) == len(data)"
   ]
  },
  {
   "cell_type": "markdown",
   "id": "bf647e56",
   "metadata": {},
   "source": [
    "Отлично!\n",
    "\n",
    "Теперь, пользуясь информацией о зональном почтовом делении Германии из [Википедии](https://ru.wikipedia.org/wiki/%D0%9F%D0%BE%D1%87%D1%82%D0%BE%D0%B2%D1%8B%D0%B5_%D0%B8%D0%BD%D0%B4%D0%B5%D0%BA%D1%81%D1%8B_%D0%B2_%D0%93%D0%B5%D1%80%D0%BC%D0%B0%D0%BD%D0%B8%D0%B8#%D0%97%D0%BE%D0%BD%D0%B0%D0%BB%D1%8C%D0%BD%D0%BE%D0%B5_%D0%B4%D0%B5%D0%BB%D0%B5%D0%BD%D0%B8%D0%B5), добавим новые признаки (немного упростим работу модели, сократив индекс до трех основных символов):\n",
    "- `postal_zone`. Первая цифра индекса. Порядковый номер почтовой зоны страны, где продается автомобиль;\n",
    "- `postal_region`. Следующие две цифры индекса. Обозначают номер региона внутри почтовой зоны.\n",
    "\n",
    "Для понимания того, какие цифры за каким регионом скрываются:\n",
    "\n",
    "    \n",
    "|   | Регион                  | Номер зоны  |   |   |   |   |   |   |   |\n",
    "|---|:-------------------------|---|---|---|---|---|---|---|---|\n",
    "|   | Саксония                | 0 |   |   |   |   |   |   |   |\n",
    "|   | Берлин                  | 1 |   |   |   |   |   |   |   |\n",
    "|   | Гамбург                 | 2 |   |   |   |   |   |   |   |\n",
    "|   | Ниж. Саксония           | 3 |   |   |   |   |   |   |   |\n",
    "|   | с-з Сев. Рейн-Вестфалия | 4 |   |   |   |   |   |   |   |\n",
    "|   | ю-з Сев. Рейн-Вестфалия | 5 |   |   |   |   |   |   |   |\n",
    "|   | Гессен                  | 6 |   |   |   |   |   |   |   |\n",
    "|   | Баден-Вюртемберг        | 7 |   |   |   |   |   |   |   |\n",
    "|   | Юж. Бавария             | 8 |   |   |   |   |   |   |   |\n",
    "|   | Сев. Бавария            | 9 |   |   |   |   |   |   |   |\n"
   ]
  },
  {
   "cell_type": "code",
   "execution_count": 38,
   "id": "0f907d20",
   "metadata": {},
   "outputs": [
    {
     "data": {
      "text/html": [
       "<div>\n",
       "<style scoped>\n",
       "    .dataframe tbody tr th:only-of-type {\n",
       "        vertical-align: middle;\n",
       "    }\n",
       "\n",
       "    .dataframe tbody tr th {\n",
       "        vertical-align: top;\n",
       "    }\n",
       "\n",
       "    .dataframe thead th {\n",
       "        text-align: right;\n",
       "    }\n",
       "</style>\n",
       "<table border=\"1\" class=\"dataframe\">\n",
       "  <thead>\n",
       "    <tr style=\"text-align: right;\">\n",
       "      <th>autos.csv</th>\n",
       "      <th>date_crawled</th>\n",
       "      <th>price</th>\n",
       "      <th>vehicle_type</th>\n",
       "      <th>registration_year</th>\n",
       "      <th>gearbox</th>\n",
       "      <th>power</th>\n",
       "      <th>model</th>\n",
       "      <th>kilometer</th>\n",
       "      <th>registration_month</th>\n",
       "      <th>fuel_type</th>\n",
       "      <th>brand</th>\n",
       "      <th>repaired</th>\n",
       "      <th>date_created</th>\n",
       "      <th>postal_code</th>\n",
       "      <th>last_seen</th>\n",
       "      <th>postal_zone</th>\n",
       "      <th>postal_region</th>\n",
       "    </tr>\n",
       "  </thead>\n",
       "  <tbody>\n",
       "    <tr>\n",
       "      <th>0</th>\n",
       "      <td>2016-03-16</td>\n",
       "      <td>8999</td>\n",
       "      <td>NaN</td>\n",
       "      <td>2005</td>\n",
       "      <td>NaN</td>\n",
       "      <td>0</td>\n",
       "      <td>147</td>\n",
       "      <td>125000</td>\n",
       "      <td>1</td>\n",
       "      <td>petrol</td>\n",
       "      <td>alfa_romeo</td>\n",
       "      <td>0</td>\n",
       "      <td>2014-03-10</td>\n",
       "      <td>79669</td>\n",
       "      <td>2016-04-07</td>\n",
       "      <td>7</td>\n",
       "      <td>96</td>\n",
       "    </tr>\n",
       "    <tr>\n",
       "      <th>1</th>\n",
       "      <td>2016-03-23</td>\n",
       "      <td>6000</td>\n",
       "      <td>bus</td>\n",
       "      <td>1995</td>\n",
       "      <td>auto</td>\n",
       "      <td>200</td>\n",
       "      <td>other</td>\n",
       "      <td>150000</td>\n",
       "      <td>1</td>\n",
       "      <td>petrol</td>\n",
       "      <td>chevrolet</td>\n",
       "      <td>0</td>\n",
       "      <td>2015-03-20</td>\n",
       "      <td>24558</td>\n",
       "      <td>2016-04-07</td>\n",
       "      <td>2</td>\n",
       "      <td>45</td>\n",
       "    </tr>\n",
       "    <tr>\n",
       "      <th>2</th>\n",
       "      <td>2016-03-05</td>\n",
       "      <td>10400</td>\n",
       "      <td>bus</td>\n",
       "      <td>1993</td>\n",
       "      <td>NaN</td>\n",
       "      <td>0</td>\n",
       "      <td>ducato</td>\n",
       "      <td>30000</td>\n",
       "      <td>1</td>\n",
       "      <td>gasoline</td>\n",
       "      <td>fiat</td>\n",
       "      <td>0</td>\n",
       "      <td>2015-06-18</td>\n",
       "      <td>76275</td>\n",
       "      <td>2016-04-05</td>\n",
       "      <td>7</td>\n",
       "      <td>62</td>\n",
       "    </tr>\n",
       "    <tr>\n",
       "      <th>3</th>\n",
       "      <td>2016-04-02</td>\n",
       "      <td>14250</td>\n",
       "      <td>convertible</td>\n",
       "      <td>2005</td>\n",
       "      <td>manual</td>\n",
       "      <td>163</td>\n",
       "      <td>slk</td>\n",
       "      <td>150000</td>\n",
       "      <td>6</td>\n",
       "      <td>petrol</td>\n",
       "      <td>mercedes_benz</td>\n",
       "      <td>0</td>\n",
       "      <td>2015-08-07</td>\n",
       "      <td>76228</td>\n",
       "      <td>2016-04-07</td>\n",
       "      <td>7</td>\n",
       "      <td>62</td>\n",
       "    </tr>\n",
       "    <tr>\n",
       "      <th>4</th>\n",
       "      <td>2016-03-08</td>\n",
       "      <td>5200</td>\n",
       "      <td>convertible</td>\n",
       "      <td>2006</td>\n",
       "      <td>manual</td>\n",
       "      <td>109</td>\n",
       "      <td>2_reihe</td>\n",
       "      <td>80000</td>\n",
       "      <td>11</td>\n",
       "      <td>petrol</td>\n",
       "      <td>peugeot</td>\n",
       "      <td>0</td>\n",
       "      <td>2015-08-10</td>\n",
       "      <td>26382</td>\n",
       "      <td>2016-04-05</td>\n",
       "      <td>2</td>\n",
       "      <td>63</td>\n",
       "    </tr>\n",
       "  </tbody>\n",
       "</table>\n",
       "</div>"
      ],
      "text/plain": [
       "autos.csv date_crawled  price vehicle_type  registration_year gearbox  power  \\\n",
       "0           2016-03-16   8999          NaN               2005     NaN      0   \n",
       "1           2016-03-23   6000          bus               1995    auto    200   \n",
       "2           2016-03-05  10400          bus               1993     NaN      0   \n",
       "3           2016-04-02  14250  convertible               2005  manual    163   \n",
       "4           2016-03-08   5200  convertible               2006  manual    109   \n",
       "\n",
       "autos.csv    model  kilometer  registration_month fuel_type          brand  \\\n",
       "0              147     125000                   1    petrol     alfa_romeo   \n",
       "1            other     150000                   1    petrol      chevrolet   \n",
       "2           ducato      30000                   1  gasoline           fiat   \n",
       "3              slk     150000                   6    petrol  mercedes_benz   \n",
       "4          2_reihe      80000                  11    petrol        peugeot   \n",
       "\n",
       "autos.csv  repaired date_created postal_code  last_seen  postal_zone  \\\n",
       "0                 0   2014-03-10       79669 2016-04-07            7   \n",
       "1                 0   2015-03-20       24558 2016-04-07            2   \n",
       "2                 0   2015-06-18       76275 2016-04-05            7   \n",
       "3                 0   2015-08-07       76228 2016-04-07            7   \n",
       "4                 0   2015-08-10       26382 2016-04-05            2   \n",
       "\n",
       "autos.csv  postal_region  \n",
       "0                     96  \n",
       "1                     45  \n",
       "2                     62  \n",
       "3                     62  \n",
       "4                     63  "
      ]
     },
     "execution_count": 38,
     "metadata": {},
     "output_type": "execute_result"
    }
   ],
   "source": [
    "data['postal_zone'] = data['postal_code'].apply(lambda index: index[0]).astype(int)\n",
    "\n",
    "data['postal_region'] = data['postal_code'].apply(lambda index: index[1:3]).astype(int)\n",
    "\n",
    "data.head()"
   ]
  },
  {
   "cell_type": "markdown",
   "id": "322ddab2",
   "metadata": {},
   "source": [
    "В целом, из признака `postal_code` наиболее полезную информацию мы извлекли, поэтому его можно удалить за ненадобностью."
   ]
  },
  {
   "cell_type": "code",
   "execution_count": 39,
   "id": "15f7bd40",
   "metadata": {},
   "outputs": [],
   "source": [
    "data.drop(columns=['postal_code'], inplace=True)"
   ]
  },
  {
   "cell_type": "markdown",
   "id": "476f0c47",
   "metadata": {},
   "source": [
    "Взглянем на распределение количества объявлений в каждой из основных почтовых зон Германии:"
   ]
  },
  {
   "cell_type": "code",
   "execution_count": 40,
   "id": "10b19f9d",
   "metadata": {},
   "outputs": [],
   "source": [
    "postal_zone_dict = {\n",
    "    0: 'Саксония',\n",
    "    1: 'Берлин',\n",
    "    2: 'Гамбург',\n",
    "    3: 'Нижн.Саксония',\n",
    "    4: 'с-з Сев.Рейн',\n",
    "    5: 'ю-з Сев.Рейн',\n",
    "    6: 'Гессен',\n",
    "    7: 'Баден',\n",
    "    8: 'южн. Бавария',\n",
    "    9: 'сев. Бавария'}\n",
    "\n",
    "postal_zone_x = [\n",
    "    postal_zone_dict[i] for i in map(\n",
    "        lambda x: int(x), data['postal_zone'].value_counts().index.to_list())\n",
    "]"
   ]
  },
  {
   "cell_type": "code",
   "execution_count": 41,
   "id": "73776810",
   "metadata": {},
   "outputs": [
    {
     "data": {
      "image/png": "[encoded data removed]",
      "text/plain": [
       "<Figure size 1008x432 with 1 Axes>"
      ]
     },
     "metadata": {
      "needs_background": "light"
     },
     "output_type": "display_data"
    }
   ],
   "source": [
    "plt.figure(figsize=(14, 6))\n",
    "plt.title(\n",
    "    'Распределение кол-ва объявлений в признаке \\'postal_zone\\'')\n",
    "\n",
    "sns.barplot(\n",
    "    x=postal_zone_x,\n",
    "    y=data['postal_zone'].value_counts(),\n",
    "    linewidth=2,\n",
    "    palette=sns.color_palette(\"pastel\"))\n",
    "\n",
    "plt.grid(alpha=.4, linestyle='-.')\n",
    "plt.show()"
   ]
  },
  {
   "cell_type": "markdown",
   "id": "0ba26d5d",
   "metadata": {},
   "source": [
    "Обобщая, больше всего клиентов у компании \"Не бит, не крашен\" в западной части страны.\n",
    "\n",
    "Если не углубляться в исторические предпосылки, то запад Германии попросту богаче востока.\n",
    "\n",
    "Проверим далее, учтет ли такую особенность наша модель)"
   ]
  },
  {
   "cell_type": "markdown",
   "id": "20a72e89",
   "metadata": {},
   "source": [
    "### *model* (+нижняя граница в *power*)"
   ]
  },
  {
   "cell_type": "markdown",
   "id": "61d820e6",
   "metadata": {},
   "source": [
    "Название модели авто. Присутствуют пропущенные значения.\n",
    "\n",
    "По сути есть два способа заполнить пропуски:\n",
    "- Парсинг (крайне долго при таком кол-ве объектов);\n",
    "- Наиболее популярная для своего региона модель. ✅\n",
    "\n",
    "Второй способ менее точный, но наиболее простой и быстрый, поэтому им и воспользуемся."
   ]
  },
  {
   "cell_type": "code",
   "execution_count": 42,
   "id": "a32ded27",
   "metadata": {
    "scrolled": true
   },
   "outputs": [
    {
     "data": {
      "text/plain": [
       "1624"
      ]
     },
     "metadata": {},
     "output_type": "display_data"
    },
    {
     "data": {
      "text/plain": [
       "golf          27810\n",
       "other         20275\n",
       "3er           19362\n",
       "corsa         11885\n",
       "polo          11446\n",
       "              ...  \n",
       "gl                8\n",
       "elefantino        7\n",
       "i3                7\n",
       "kalina            6\n",
       "rangerover        3\n",
       "Name: model, Length: 246, dtype: int64"
      ]
     },
     "execution_count": 42,
     "metadata": {},
     "output_type": "execute_result"
    }
   ],
   "source": [
    "model_ptable = data.groupby(['brand', 'postal_zone', 'model'])[\n",
    "    'postal_zone'].count()\n",
    "\n",
    "brands = list(set([i[0] for i in model_ptable.index.to_list()]))\n",
    "\n",
    "for brand in brands:\n",
    "    for post_zone in range(10):\n",
    "        region_most_popular_model = model_ptable[(\n",
    "            brand, post_zone)].idxmax()\n",
    "        s = data.query('brand == @brand & postal_zone == @post_zone')['model']\n",
    "        null_index = s.index[s.isnull()].to_list()\n",
    "\n",
    "        data.loc[null_index, 'model'] = region_most_popular_model\n",
    "\n",
    "display(data.model.isna().sum())\n",
    "data.model.value_counts()"
   ]
  },
  {
   "cell_type": "markdown",
   "id": "750aab40",
   "metadata": {},
   "source": [
    "Осталось 1624 объекта, где пропущенные значения модели все же остались. Посмотрим, что это за объекты:"
   ]
  },
  {
   "cell_type": "code",
   "execution_count": 43,
   "id": "e03edc3f",
   "metadata": {},
   "outputs": [
    {
     "data": {
      "text/html": [
       "<div>\n",
       "<style scoped>\n",
       "    .dataframe tbody tr th:only-of-type {\n",
       "        vertical-align: middle;\n",
       "    }\n",
       "\n",
       "    .dataframe tbody tr th {\n",
       "        vertical-align: top;\n",
       "    }\n",
       "\n",
       "    .dataframe thead th {\n",
       "        text-align: right;\n",
       "    }\n",
       "</style>\n",
       "<table border=\"1\" class=\"dataframe\">\n",
       "  <thead>\n",
       "    <tr style=\"text-align: right;\">\n",
       "      <th>autos.csv</th>\n",
       "      <th>date_crawled</th>\n",
       "      <th>price</th>\n",
       "      <th>vehicle_type</th>\n",
       "      <th>registration_year</th>\n",
       "      <th>gearbox</th>\n",
       "      <th>power</th>\n",
       "      <th>model</th>\n",
       "      <th>kilometer</th>\n",
       "      <th>registration_month</th>\n",
       "      <th>fuel_type</th>\n",
       "      <th>brand</th>\n",
       "      <th>repaired</th>\n",
       "      <th>date_created</th>\n",
       "      <th>last_seen</th>\n",
       "      <th>postal_zone</th>\n",
       "      <th>postal_region</th>\n",
       "    </tr>\n",
       "  </thead>\n",
       "  <tbody>\n",
       "    <tr>\n",
       "      <th>26</th>\n",
       "      <td>2016-03-06</td>\n",
       "      <td>5500</td>\n",
       "      <td>other</td>\n",
       "      <td>2009</td>\n",
       "      <td>auto</td>\n",
       "      <td>0</td>\n",
       "      <td>NaN</td>\n",
       "      <td>40000</td>\n",
       "      <td>9</td>\n",
       "      <td>gasoline</td>\n",
       "      <td>sonstige_autos</td>\n",
       "      <td>0</td>\n",
       "      <td>2016-01-02</td>\n",
       "      <td>2016-04-06</td>\n",
       "      <td>3</td>\n",
       "      <td>10</td>\n",
       "    </tr>\n",
       "    <tr>\n",
       "      <th>98</th>\n",
       "      <td>2016-03-05</td>\n",
       "      <td>999</td>\n",
       "      <td>NaN</td>\n",
       "      <td>2015</td>\n",
       "      <td>NaN</td>\n",
       "      <td>0</td>\n",
       "      <td>NaN</td>\n",
       "      <td>5000</td>\n",
       "      <td>1</td>\n",
       "      <td>NaN</td>\n",
       "      <td>sonstige_autos</td>\n",
       "      <td>0</td>\n",
       "      <td>2016-02-03</td>\n",
       "      <td>2016-04-05</td>\n",
       "      <td>1</td>\n",
       "      <td>92</td>\n",
       "    </tr>\n",
       "    <tr>\n",
       "      <th>428</th>\n",
       "      <td>2016-03-06</td>\n",
       "      <td>2900</td>\n",
       "      <td>convertible</td>\n",
       "      <td>2002</td>\n",
       "      <td>auto</td>\n",
       "      <td>10</td>\n",
       "      <td>NaN</td>\n",
       "      <td>30000</td>\n",
       "      <td>6</td>\n",
       "      <td>petrol</td>\n",
       "      <td>sonstige_autos</td>\n",
       "      <td>0</td>\n",
       "      <td>2016-02-29</td>\n",
       "      <td>2016-03-10</td>\n",
       "      <td>0</td>\n",
       "      <td>81</td>\n",
       "    </tr>\n",
       "    <tr>\n",
       "      <th>581</th>\n",
       "      <td>2016-03-05</td>\n",
       "      <td>10900</td>\n",
       "      <td>small</td>\n",
       "      <td>2014</td>\n",
       "      <td>auto</td>\n",
       "      <td>5</td>\n",
       "      <td>NaN</td>\n",
       "      <td>20000</td>\n",
       "      <td>3</td>\n",
       "      <td>gasoline</td>\n",
       "      <td>sonstige_autos</td>\n",
       "      <td>0</td>\n",
       "      <td>2016-03-03</td>\n",
       "      <td>2016-04-06</td>\n",
       "      <td>8</td>\n",
       "      <td>64</td>\n",
       "    </tr>\n",
       "    <tr>\n",
       "      <th>851</th>\n",
       "      <td>2016-03-05</td>\n",
       "      <td>4850</td>\n",
       "      <td>suv</td>\n",
       "      <td>2001</td>\n",
       "      <td>auto</td>\n",
       "      <td>238</td>\n",
       "      <td>NaN</td>\n",
       "      <td>150000</td>\n",
       "      <td>5</td>\n",
       "      <td>lpg</td>\n",
       "      <td>sonstige_autos</td>\n",
       "      <td>0</td>\n",
       "      <td>2016-03-03</td>\n",
       "      <td>2016-03-08</td>\n",
       "      <td>6</td>\n",
       "      <td>52</td>\n",
       "    </tr>\n",
       "  </tbody>\n",
       "</table>\n",
       "</div>"
      ],
      "text/plain": [
       "autos.csv date_crawled  price vehicle_type  registration_year gearbox  power  \\\n",
       "26          2016-03-06   5500        other               2009    auto      0   \n",
       "98          2016-03-05    999          NaN               2015     NaN      0   \n",
       "428         2016-03-06   2900  convertible               2002    auto     10   \n",
       "581         2016-03-05  10900        small               2014    auto      5   \n",
       "851         2016-03-05   4850          suv               2001    auto    238   \n",
       "\n",
       "autos.csv model  kilometer  registration_month fuel_type           brand  \\\n",
       "26          NaN      40000                   9  gasoline  sonstige_autos   \n",
       "98          NaN       5000                   1       NaN  sonstige_autos   \n",
       "428         NaN      30000                   6    petrol  sonstige_autos   \n",
       "581         NaN      20000                   3  gasoline  sonstige_autos   \n",
       "851         NaN     150000                   5       lpg  sonstige_autos   \n",
       "\n",
       "autos.csv  repaired date_created  last_seen  postal_zone  postal_region  \n",
       "26                0   2016-01-02 2016-04-06            3             10  \n",
       "98                0   2016-02-03 2016-04-05            1             92  \n",
       "428               0   2016-02-29 2016-03-10            0             81  \n",
       "581               0   2016-03-03 2016-04-06            8             64  \n",
       "851               0   2016-03-03 2016-03-08            6             52  "
      ]
     },
     "execution_count": 43,
     "metadata": {},
     "output_type": "execute_result"
    }
   ],
   "source": [
    "data[data.model.isna()].head()"
   ]
  },
  {
   "cell_type": "markdown",
   "id": "e7aa2281",
   "metadata": {},
   "source": [
    "*sonstige_autos* - другие автомобили (с немецкого).\n",
    "\n",
    "Для таких машин подобрать модель не представляется возможным, как и в целом хоть как-то идентифицировать машину, поэтому логичным решением будет исключить такие объявления из данных"
   ]
  },
  {
   "cell_type": "code",
   "execution_count": 44,
   "id": "382de40c",
   "metadata": {},
   "outputs": [
    {
     "data": {
      "text/plain": [
       "'Удалено 12.83% объектов'"
      ]
     },
     "execution_count": 44,
     "metadata": {},
     "output_type": "execute_result"
    }
   ],
   "source": [
    "data = data.query('brand != \"sonstige_autos\"').reset_index(drop=True)\n",
    "\n",
    "# Доля удаленных объектов из изначального датасета\n",
    "'Удалено {:.2%} объектов'.format(1 - len(data)/start_length)"
   ]
  },
  {
   "cell_type": "markdown",
   "id": "783821be",
   "metadata": {},
   "source": [
    "---"
   ]
  },
  {
   "cell_type": "markdown",
   "id": "1b677d24",
   "metadata": {},
   "source": [
    "Как и планировалось заменим нули в признаке `power` средним значением по бренду и модели, дабы исключить нули."
   ]
  },
  {
   "cell_type": "code",
   "execution_count": 45,
   "id": "33f84007",
   "metadata": {},
   "outputs": [
    {
     "data": {
      "text/plain": [
       "75     21264\n",
       "60     16619\n",
       "140    13538\n",
       "150    13463\n",
       "101    13202\n",
       "       ...  \n",
       "32         1\n",
       "282        1\n",
       "3          1\n",
       "21         1\n",
       "22         1\n",
       "Name: power, Length: 286, dtype: int64"
      ]
     },
     "execution_count": 45,
     "metadata": {},
     "output_type": "execute_result"
    }
   ],
   "source": [
    "power_ptable = data.groupby(['brand', 'model'])['power'].mean()\n",
    "\n",
    "brands_models = sorted(\n",
    "    list(set([i[:2] for i in power_ptable.index.to_list()])))\n",
    "\n",
    "for brand, model in brands_models:\n",
    "    mean_auto_power = int(np.round(power_ptable[(brand, str(model))]))\n",
    "    s = data.query('brand == @brand & model == @model')['power']\n",
    "    zero_index = s.index[s == 0].to_list()\n",
    "\n",
    "    data.loc[zero_index, 'power'] = mean_auto_power\n",
    "\n",
    "data.power.value_counts()"
   ]
  },
  {
   "cell_type": "markdown",
   "id": "c4ee3e7d",
   "metadata": {},
   "source": [
    "Снова посмотрим на распределение:"
   ]
  },
  {
   "cell_type": "code",
   "execution_count": 46,
   "id": "0add5dbc",
   "metadata": {},
   "outputs": [
    {
     "data": {
      "image/png": "[encoded data removed]",
      "text/plain": [
       "<Figure size 1008x288 with 1 Axes>"
      ]
     },
     "metadata": {
      "needs_background": "light"
     },
     "output_type": "display_data"
    },
    {
     "data": {
      "text/plain": [
       "count   308,908.00\n",
       "mean        117.06\n",
       "std          47.30\n",
       "min           1.00\n",
       "25%          75.00\n",
       "50%         110.00\n",
       "75%         143.00\n",
       "max         287.00\n",
       "Name: power, dtype: float64"
      ]
     },
     "execution_count": 46,
     "metadata": {},
     "output_type": "execute_result"
    }
   ],
   "source": [
    "# После изменений\n",
    "make_boxplot('power', 'Распределение значений в признаке \\'power\\'')"
   ]
  },
  {
   "cell_type": "code",
   "execution_count": 47,
   "id": "dc3e83e3",
   "metadata": {},
   "outputs": [
    {
     "data": {
      "image/png": "[encoded data removed]",
      "text/plain": [
       "<Figure size 864x432 with 1 Axes>"
      ]
     },
     "metadata": {
      "needs_background": "light"
     },
     "output_type": "display_data"
    }
   ],
   "source": [
    "make_histplot(\n",
    "    {'x': data['power'], 'color': '#a119a6', 'fill': False, 'bins': 100},\n",
    "    hist_title='Распределение значений в признаке \\'power\\''\n",
    ")"
   ]
  },
  {
   "cell_type": "markdown",
   "id": "dffb1d9b",
   "metadata": {},
   "source": [
    "Ну, одна лошадиная сила выглядит мощно! Зато не ноль))"
   ]
  },
  {
   "cell_type": "markdown",
   "id": "fa9aee08",
   "metadata": {},
   "source": [
    "### *vehicle_type*, *gearbox*, *fuel_type*"
   ]
  },
  {
   "cell_type": "markdown",
   "id": "5f06ed39",
   "metadata": {},
   "source": [
    "Оставшиеся 3 признака с пропущенными значениями. Технические характеристики авто: тип кузова, тип КПП, тип топлива.\n",
    "\n",
    "Ввиду отсутствия возможности быстро уточнить точные характеристики каждого из автомобилей, поступим похожим образом как с моделью автомобиля: заполним пропущенные значения, основываясь на наиболее популярных характеристиках авто этого бренда и модели."
   ]
  },
  {
   "cell_type": "code",
   "execution_count": 48,
   "id": "98ecff6c",
   "metadata": {},
   "outputs": [
    {
     "name": "stdout",
     "output_type": "stream",
     "text": [
      "Пропусков в признаке vehicle_type осталось 0\n"
     ]
    },
    {
     "data": {
      "text/plain": [
       "sedan          84928\n",
       "small          75846\n",
       "wagon          62457\n",
       "bus            27718\n",
       "convertible    18576\n",
       "coupe          13710\n",
       "manual         11759\n",
       "suv            10621\n",
       "other           2600\n",
       "auto             693\n",
       "Name: vehicle_type, dtype: int64"
      ]
     },
     "metadata": {},
     "output_type": "display_data"
    },
    {
     "name": "stdout",
     "output_type": "stream",
     "text": [
      "Пропусков в признаке gearbox осталось 0\n"
     ]
    },
    {
     "data": {
      "text/plain": [
       "manual    249999\n",
       "auto       58909\n",
       "Name: gearbox, dtype: int64"
      ]
     },
     "metadata": {},
     "output_type": "display_data"
    },
    {
     "name": "stdout",
     "output_type": "stream",
     "text": [
      "Пропусков в признаке fuel_type осталось 0\n"
     ]
    },
    {
     "data": {
      "text/plain": [
       "petrol      191847\n",
       "gasoline     92533\n",
       "manual       17681\n",
       "lpg           4537\n",
       "auto          1449\n",
       "cng            509\n",
       "hybrid         194\n",
       "other           97\n",
       "electric        61\n",
       "Name: fuel_type, dtype: int64"
      ]
     },
     "metadata": {},
     "output_type": "display_data"
    }
   ],
   "source": [
    "specs_ptable = data.groupby(['brand', 'model'])['gearbox'].value_counts()\n",
    "\n",
    "spec_cols = ['vehicle_type', 'gearbox', 'fuel_type']\n",
    "\n",
    "for col in spec_cols:\n",
    "    for brand, model in brands_models:\n",
    "        most_popular_spec = specs_ptable[(brand, str(model))].idxmax()\n",
    "        s = data.query('brand == @brand & model == @model')[col]\n",
    "        null_index = s.index[s.isnull()].to_list()\n",
    "\n",
    "        data.loc[null_index, col] = most_popular_spec\n",
    "\n",
    "    print(\n",
    "        f'Пропусков в признаке {col} осталось {data[col].isna().sum()}')\n",
    "    display(data[col].value_counts())"
   ]
  },
  {
   "cell_type": "markdown",
   "id": "15906a8f",
   "metadata": {},
   "source": [
    "Быстро и прекрасно!\n",
    "\n",
    "Если все было сделано верно, то пропусков должно больше не быть:"
   ]
  },
  {
   "cell_type": "code",
   "execution_count": 49,
   "id": "535bd425",
   "metadata": {},
   "outputs": [
    {
     "data": {
      "text/plain": [
       "autos.csv\n",
       "date_crawled          0\n",
       "price                 0\n",
       "vehicle_type          0\n",
       "registration_year     0\n",
       "gearbox               0\n",
       "power                 0\n",
       "model                 0\n",
       "kilometer             0\n",
       "registration_month    0\n",
       "fuel_type             0\n",
       "brand                 0\n",
       "repaired              0\n",
       "date_created          0\n",
       "last_seen             0\n",
       "postal_zone           0\n",
       "postal_region         0\n",
       "dtype: int64"
      ]
     },
     "execution_count": 49,
     "metadata": {},
     "output_type": "execute_result"
    }
   ],
   "source": [
    "data.isna().sum()"
   ]
  },
  {
   "cell_type": "markdown",
   "id": "0b7a9bf6",
   "metadata": {},
   "source": [
    "Для удобства еще изменим порядок признаков в датасете, чтобы их было проще воспринимать, а также отбросим уже не нужные признаки:"
   ]
  },
  {
   "cell_type": "code",
   "execution_count": 50,
   "id": "0d967aac",
   "metadata": {},
   "outputs": [
    {
     "data": {
      "text/html": [
       "<div>\n",
       "<style scoped>\n",
       "    .dataframe tbody tr th:only-of-type {\n",
       "        vertical-align: middle;\n",
       "    }\n",
       "\n",
       "    .dataframe tbody tr th {\n",
       "        vertical-align: top;\n",
       "    }\n",
       "\n",
       "    .dataframe thead th {\n",
       "        text-align: right;\n",
       "    }\n",
       "</style>\n",
       "<table border=\"1\" class=\"dataframe\">\n",
       "  <thead>\n",
       "    <tr style=\"text-align: right;\">\n",
       "      <th>autos.csv</th>\n",
       "      <th>price</th>\n",
       "      <th>brand</th>\n",
       "      <th>model</th>\n",
       "      <th>power</th>\n",
       "      <th>gearbox</th>\n",
       "      <th>fuel_type</th>\n",
       "      <th>repaired</th>\n",
       "      <th>kilometer</th>\n",
       "      <th>vehicle_type</th>\n",
       "      <th>registration_month</th>\n",
       "      <th>registration_year</th>\n",
       "      <th>postal_zone</th>\n",
       "      <th>postal_region</th>\n",
       "    </tr>\n",
       "  </thead>\n",
       "  <tbody>\n",
       "    <tr>\n",
       "      <th>0</th>\n",
       "      <td>8999</td>\n",
       "      <td>alfa_romeo</td>\n",
       "      <td>147</td>\n",
       "      <td>113</td>\n",
       "      <td>manual</td>\n",
       "      <td>petrol</td>\n",
       "      <td>0</td>\n",
       "      <td>125000</td>\n",
       "      <td>manual</td>\n",
       "      <td>1</td>\n",
       "      <td>2005</td>\n",
       "      <td>7</td>\n",
       "      <td>96</td>\n",
       "    </tr>\n",
       "    <tr>\n",
       "      <th>1</th>\n",
       "      <td>6000</td>\n",
       "      <td>chevrolet</td>\n",
       "      <td>other</td>\n",
       "      <td>200</td>\n",
       "      <td>auto</td>\n",
       "      <td>petrol</td>\n",
       "      <td>0</td>\n",
       "      <td>150000</td>\n",
       "      <td>bus</td>\n",
       "      <td>1</td>\n",
       "      <td>1995</td>\n",
       "      <td>2</td>\n",
       "      <td>45</td>\n",
       "    </tr>\n",
       "    <tr>\n",
       "      <th>2</th>\n",
       "      <td>10400</td>\n",
       "      <td>fiat</td>\n",
       "      <td>ducato</td>\n",
       "      <td>91</td>\n",
       "      <td>manual</td>\n",
       "      <td>gasoline</td>\n",
       "      <td>0</td>\n",
       "      <td>30000</td>\n",
       "      <td>bus</td>\n",
       "      <td>1</td>\n",
       "      <td>1993</td>\n",
       "      <td>7</td>\n",
       "      <td>62</td>\n",
       "    </tr>\n",
       "    <tr>\n",
       "      <th>3</th>\n",
       "      <td>14250</td>\n",
       "      <td>mercedes_benz</td>\n",
       "      <td>slk</td>\n",
       "      <td>163</td>\n",
       "      <td>manual</td>\n",
       "      <td>petrol</td>\n",
       "      <td>0</td>\n",
       "      <td>150000</td>\n",
       "      <td>convertible</td>\n",
       "      <td>6</td>\n",
       "      <td>2005</td>\n",
       "      <td>7</td>\n",
       "      <td>62</td>\n",
       "    </tr>\n",
       "    <tr>\n",
       "      <th>4</th>\n",
       "      <td>5200</td>\n",
       "      <td>peugeot</td>\n",
       "      <td>2_reihe</td>\n",
       "      <td>109</td>\n",
       "      <td>manual</td>\n",
       "      <td>petrol</td>\n",
       "      <td>0</td>\n",
       "      <td>80000</td>\n",
       "      <td>convertible</td>\n",
       "      <td>11</td>\n",
       "      <td>2006</td>\n",
       "      <td>2</td>\n",
       "      <td>63</td>\n",
       "    </tr>\n",
       "  </tbody>\n",
       "</table>\n",
       "</div>"
      ],
      "text/plain": [
       "autos.csv  price          brand    model  power gearbox fuel_type  repaired  \\\n",
       "0           8999     alfa_romeo      147    113  manual    petrol         0   \n",
       "1           6000      chevrolet    other    200    auto    petrol         0   \n",
       "2          10400           fiat   ducato     91  manual  gasoline         0   \n",
       "3          14250  mercedes_benz      slk    163  manual    petrol         0   \n",
       "4           5200        peugeot  2_reihe    109  manual    petrol         0   \n",
       "\n",
       "autos.csv  kilometer vehicle_type  registration_month  registration_year  \\\n",
       "0             125000       manual                   1               2005   \n",
       "1             150000          bus                   1               1995   \n",
       "2              30000          bus                   1               1993   \n",
       "3             150000  convertible                   6               2005   \n",
       "4              80000  convertible                  11               2006   \n",
       "\n",
       "autos.csv  postal_zone  postal_region  \n",
       "0                    7             96  \n",
       "1                    2             45  \n",
       "2                    7             62  \n",
       "3                    7             62  \n",
       "4                    2             63  "
      ]
     },
     "execution_count": 50,
     "metadata": {},
     "output_type": "execute_result"
    }
   ],
   "source": [
    "data = data[\n",
    "    [\n",
    "        'price',\n",
    "        'brand',\n",
    "        'model',\n",
    "        'power',\n",
    "        'gearbox',\n",
    "        'fuel_type',\n",
    "        'repaired',\n",
    "        'kilometer',\n",
    "        'vehicle_type',\n",
    "        'registration_month',\n",
    "        'registration_year',\n",
    "        'postal_zone',\n",
    "        'postal_region'\n",
    "    ]\n",
    "]\n",
    "\n",
    "data.head()"
   ]
  },
  {
   "cell_type": "code",
   "execution_count": 51,
   "id": "d5ccf4f3",
   "metadata": {},
   "outputs": [
    {
     "name": "stdout",
     "output_type": "stream",
     "text": [
      "Размер датасета уменьшился на 12.83% в ходе предобработки.\n",
      "Текущее кол-во объектов 308908\n"
     ]
    }
   ],
   "source": [
    "# Доля удаленных объектов из изначального датасета\n",
    "print('Размер датасета уменьшился на {:.2%} в ходе предобработки.\\n'\n",
    "      'Текущее кол-во объектов {}'.format(1 - len(data)/start_length, len(data)))"
   ]
  },
  {
   "cell_type": "markdown",
   "id": "095b6ed1",
   "metadata": {},
   "source": [
    "Отлично! Можно двигаться дальше!"
   ]
  },
  {
   "cell_type": "markdown",
   "id": "7ac489df",
   "metadata": {},
   "source": [
    "<div style=\"border: 3px solid rgb(0,0,0); padding: 20px\">\n",
    "\n",
    "### Итого\n",
    "    \n",
    "- Были переименованы признаки в \"snake_case\";\n",
    "- Удалены немногочисленные явные дубликаты;\n",
    "- Изменены типы данных, где это было необходимо;\n",
    "- Удалены ошибочные записи, данные отсортированы по дате публикации объявлений;\n",
    "- Скорректированы распределения некоторых величин;\n",
    "- Из признака `postal_code` сделали два новых признака: `postal_zone` и `postal_region`;\n",
    "- Пропуски (или нули) в `model`, `power`, `vehicle_type`, `gearbox`, `fuel_type` были частично заполнены модой по бренду, модели или региону продажи авто;\n",
    "- Исключены неинформативные признаки.\n",
    "    \n",
    "</div>"
   ]
  },
  {
   "cell_type": "markdown",
   "id": "26c7d6d8",
   "metadata": {},
   "source": [
    "## Обучение моделей 🦾"
   ]
  },
  {
   "cell_type": "markdown",
   "id": "67656567",
   "metadata": {},
   "source": [
    "Следующим шагом будет обучение моделей машинного обучения.\n",
    "\n",
    "В данном проекте будут рассмотрены следующие модели в роли кандидатов на лучшую модель:\n",
    "- <tt>LinearRegression</tt>;\n",
    "- <tt>HistGradientBoostingRegressor</tt>;\n",
    "- <tt>LGBMRegressor</tt> из библиотеки *LightGBM*;\n",
    "- <tt>CatBoostRegressor</tt> из библиотеки *CatBoost*.\n",
    "\n",
    "Но для начала стоит сформировать тренировочную и тестовую выборки для наших моделей, а также преобразовать категориальные признаки для линейных моделей."
   ]
  },
  {
   "cell_type": "markdown",
   "id": "05d07027",
   "metadata": {},
   "source": [
    "### Формирование тренировочной и тестовой выборок"
   ]
  },
  {
   "cell_type": "markdown",
   "id": "52b28ce2",
   "metadata": {},
   "source": [
    "Соотношение 3:1.\n",
    "\n",
    "Значение аргумента <tt>shuffle=False</tt>, так как данные осортированы во временной последовательности размещения объявлений."
   ]
  },
  {
   "cell_type": "code",
   "execution_count": 52,
   "id": "625b2011",
   "metadata": {},
   "outputs": [
    {
     "data": {
      "text/plain": [
       "((231681, 12), (231681,), (77227, 12), (77227,))"
      ]
     },
     "execution_count": 52,
     "metadata": {},
     "output_type": "execute_result"
    }
   ],
   "source": [
    "train, test = train_test_split(\n",
    "    data, shuffle=False, test_size=0.25, random_state=STATE)\n",
    "\n",
    "X_train = train.drop(columns=['price'])\n",
    "y_train = train['price']\n",
    "\n",
    "X_test = test.drop(columns=['price'])\n",
    "y_test = test['price']\n",
    "\n",
    "X_train.shape, y_train.shape, X_test.shape, y_test.shape"
   ]
  },
  {
   "cell_type": "markdown",
   "id": "bb6f757b",
   "metadata": {},
   "source": [
    "### MEstimateEncoder"
   ]
  },
  {
   "cell_type": "markdown",
   "id": "6880b59d",
   "metadata": {},
   "source": [
    "Как известно, линейные модели не работают с категориальными признаками, поэтому для них потребуется их преобразовать. Воспользуемся техникой преобразования `MEstimateEncoder`."
   ]
  },
  {
   "cell_type": "code",
   "execution_count": 53,
   "id": "563244e7",
   "metadata": {
    "scrolled": true
   },
   "outputs": [
    {
     "data": {
      "text/html": [
       "<div>\n",
       "<style scoped>\n",
       "    .dataframe tbody tr th:only-of-type {\n",
       "        vertical-align: middle;\n",
       "    }\n",
       "\n",
       "    .dataframe tbody tr th {\n",
       "        vertical-align: top;\n",
       "    }\n",
       "\n",
       "    .dataframe thead th {\n",
       "        text-align: right;\n",
       "    }\n",
       "</style>\n",
       "<table border=\"1\" class=\"dataframe\">\n",
       "  <thead>\n",
       "    <tr style=\"text-align: right;\">\n",
       "      <th>autos.csv</th>\n",
       "      <th>brand</th>\n",
       "      <th>model</th>\n",
       "      <th>power</th>\n",
       "      <th>gearbox</th>\n",
       "      <th>fuel_type</th>\n",
       "      <th>repaired</th>\n",
       "      <th>kilometer</th>\n",
       "      <th>vehicle_type</th>\n",
       "      <th>registration_month</th>\n",
       "      <th>registration_year</th>\n",
       "      <th>postal_zone</th>\n",
       "      <th>postal_region</th>\n",
       "    </tr>\n",
       "  </thead>\n",
       "  <tbody>\n",
       "    <tr>\n",
       "      <th>0</th>\n",
       "      <td>3,637.83</td>\n",
       "      <td>2,267.90</td>\n",
       "      <td>113</td>\n",
       "      <td>4,043.58</td>\n",
       "      <td>3,723.71</td>\n",
       "      <td>0</td>\n",
       "      <td>125000</td>\n",
       "      <td>2,122.36</td>\n",
       "      <td>1</td>\n",
       "      <td>2005</td>\n",
       "      <td>7</td>\n",
       "      <td>96</td>\n",
       "    </tr>\n",
       "    <tr>\n",
       "      <th>1</th>\n",
       "      <td>5,275.07</td>\n",
       "      <td>4,091.95</td>\n",
       "      <td>200</td>\n",
       "      <td>6,762.47</td>\n",
       "      <td>3,723.71</td>\n",
       "      <td>0</td>\n",
       "      <td>150000</td>\n",
       "      <td>5,561.78</td>\n",
       "      <td>1</td>\n",
       "      <td>1995</td>\n",
       "      <td>2</td>\n",
       "      <td>45</td>\n",
       "    </tr>\n",
       "    <tr>\n",
       "      <th>2</th>\n",
       "      <td>2,775.80</td>\n",
       "      <td>4,079.22</td>\n",
       "      <td>91</td>\n",
       "      <td>4,043.58</td>\n",
       "      <td>6,728.32</td>\n",
       "      <td>0</td>\n",
       "      <td>30000</td>\n",
       "      <td>5,561.78</td>\n",
       "      <td>1</td>\n",
       "      <td>1993</td>\n",
       "      <td>7</td>\n",
       "      <td>62</td>\n",
       "    </tr>\n",
       "    <tr>\n",
       "      <th>3</th>\n",
       "      <td>5,906.16</td>\n",
       "      <td>8,707.85</td>\n",
       "      <td>163</td>\n",
       "      <td>4,043.58</td>\n",
       "      <td>3,723.71</td>\n",
       "      <td>0</td>\n",
       "      <td>150000</td>\n",
       "      <td>6,693.93</td>\n",
       "      <td>6</td>\n",
       "      <td>2005</td>\n",
       "      <td>7</td>\n",
       "      <td>62</td>\n",
       "    </tr>\n",
       "    <tr>\n",
       "      <th>4</th>\n",
       "      <td>3,206.26</td>\n",
       "      <td>3,051.60</td>\n",
       "      <td>109</td>\n",
       "      <td>4,043.58</td>\n",
       "      <td>3,723.71</td>\n",
       "      <td>0</td>\n",
       "      <td>80000</td>\n",
       "      <td>6,693.93</td>\n",
       "      <td>11</td>\n",
       "      <td>2006</td>\n",
       "      <td>2</td>\n",
       "      <td>63</td>\n",
       "    </tr>\n",
       "  </tbody>\n",
       "</table>\n",
       "</div>"
      ],
      "text/plain": [
       "autos.csv      brand      model  power    gearbox  fuel_type  repaired  \\\n",
       "0           3,637.83   2,267.90    113   4,043.58   3,723.71         0   \n",
       "1           5,275.07   4,091.95    200   6,762.47   3,723.71         0   \n",
       "2           2,775.80   4,079.22     91   4,043.58   6,728.32         0   \n",
       "3           5,906.16   8,707.85    163   4,043.58   3,723.71         0   \n",
       "4           3,206.26   3,051.60    109   4,043.58   3,723.71         0   \n",
       "\n",
       "autos.csv  kilometer  vehicle_type  registration_month  registration_year  \\\n",
       "0             125000      2,122.36                   1               2005   \n",
       "1             150000      5,561.78                   1               1995   \n",
       "2              30000      5,561.78                   1               1993   \n",
       "3             150000      6,693.93                   6               2005   \n",
       "4              80000      6,693.93                  11               2006   \n",
       "\n",
       "autos.csv  postal_zone  postal_region  \n",
       "0                    7             96  \n",
       "1                    2             45  \n",
       "2                    7             62  \n",
       "3                    7             62  \n",
       "4                    2             63  "
      ]
     },
     "metadata": {},
     "output_type": "display_data"
    },
    {
     "data": {
      "text/html": [
       "<div>\n",
       "<style scoped>\n",
       "    .dataframe tbody tr th:only-of-type {\n",
       "        vertical-align: middle;\n",
       "    }\n",
       "\n",
       "    .dataframe tbody tr th {\n",
       "        vertical-align: top;\n",
       "    }\n",
       "\n",
       "    .dataframe thead th {\n",
       "        text-align: right;\n",
       "    }\n",
       "</style>\n",
       "<table border=\"1\" class=\"dataframe\">\n",
       "  <thead>\n",
       "    <tr style=\"text-align: right;\">\n",
       "      <th>autos.csv</th>\n",
       "      <th>brand</th>\n",
       "      <th>model</th>\n",
       "      <th>power</th>\n",
       "      <th>gearbox</th>\n",
       "      <th>fuel_type</th>\n",
       "      <th>repaired</th>\n",
       "      <th>kilometer</th>\n",
       "      <th>vehicle_type</th>\n",
       "      <th>registration_month</th>\n",
       "      <th>registration_year</th>\n",
       "      <th>postal_zone</th>\n",
       "      <th>postal_region</th>\n",
       "    </tr>\n",
       "  </thead>\n",
       "  <tbody>\n",
       "    <tr>\n",
       "      <th>231681</th>\n",
       "      <td>5,906.16</td>\n",
       "      <td>15,723.54</td>\n",
       "      <td>170</td>\n",
       "      <td>6,762.47</td>\n",
       "      <td>6,728.32</td>\n",
       "      <td>0</td>\n",
       "      <td>100000</td>\n",
       "      <td>9,059.73</td>\n",
       "      <td>7</td>\n",
       "      <td>2009</td>\n",
       "      <td>8</td>\n",
       "      <td>45</td>\n",
       "    </tr>\n",
       "    <tr>\n",
       "      <th>231682</th>\n",
       "      <td>3,262.05</td>\n",
       "      <td>3,374.00</td>\n",
       "      <td>125</td>\n",
       "      <td>4,043.58</td>\n",
       "      <td>3,723.71</td>\n",
       "      <td>0</td>\n",
       "      <td>100000</td>\n",
       "      <td>5,561.78</td>\n",
       "      <td>3</td>\n",
       "      <td>2007</td>\n",
       "      <td>3</td>\n",
       "      <td>61</td>\n",
       "    </tr>\n",
       "    <tr>\n",
       "      <th>231683</th>\n",
       "      <td>4,882.35</td>\n",
       "      <td>7,272.60</td>\n",
       "      <td>147</td>\n",
       "      <td>4,043.58</td>\n",
       "      <td>3,723.71</td>\n",
       "      <td>0</td>\n",
       "      <td>60000</td>\n",
       "      <td>5,561.78</td>\n",
       "      <td>3</td>\n",
       "      <td>2013</td>\n",
       "      <td>5</td>\n",
       "      <td>45</td>\n",
       "    </tr>\n",
       "    <tr>\n",
       "      <th>231684</th>\n",
       "      <td>3,597.97</td>\n",
       "      <td>3,636.96</td>\n",
       "      <td>55</td>\n",
       "      <td>4,043.58</td>\n",
       "      <td>3,723.71</td>\n",
       "      <td>0</td>\n",
       "      <td>80000</td>\n",
       "      <td>2,747.95</td>\n",
       "      <td>12</td>\n",
       "      <td>2001</td>\n",
       "      <td>9</td>\n",
       "      <td>76</td>\n",
       "    </tr>\n",
       "    <tr>\n",
       "      <th>231685</th>\n",
       "      <td>2,392.87</td>\n",
       "      <td>2,278.57</td>\n",
       "      <td>120</td>\n",
       "      <td>4,043.58</td>\n",
       "      <td>3,723.71</td>\n",
       "      <td>0</td>\n",
       "      <td>70000</td>\n",
       "      <td>4,731.85</td>\n",
       "      <td>4</td>\n",
       "      <td>1999</td>\n",
       "      <td>0</td>\n",
       "      <td>62</td>\n",
       "    </tr>\n",
       "  </tbody>\n",
       "</table>\n",
       "</div>"
      ],
      "text/plain": [
       "autos.csv      brand      model  power    gearbox  fuel_type  repaired  \\\n",
       "231681      5,906.16  15,723.54    170   6,762.47   6,728.32         0   \n",
       "231682      3,262.05   3,374.00    125   4,043.58   3,723.71         0   \n",
       "231683      4,882.35   7,272.60    147   4,043.58   3,723.71         0   \n",
       "231684      3,597.97   3,636.96     55   4,043.58   3,723.71         0   \n",
       "231685      2,392.87   2,278.57    120   4,043.58   3,723.71         0   \n",
       "\n",
       "autos.csv  kilometer  vehicle_type  registration_month  registration_year  \\\n",
       "231681        100000      9,059.73                   7               2009   \n",
       "231682        100000      5,561.78                   3               2007   \n",
       "231683         60000      5,561.78                   3               2013   \n",
       "231684         80000      2,747.95                  12               2001   \n",
       "231685         70000      4,731.85                   4               1999   \n",
       "\n",
       "autos.csv  postal_zone  postal_region  \n",
       "231681               8             45  \n",
       "231682               3             61  \n",
       "231683               5             45  \n",
       "231684               9             76  \n",
       "231685               0             62  "
      ]
     },
     "execution_count": 53,
     "metadata": {},
     "output_type": "execute_result"
    }
   ],
   "source": [
    "enc = MEstimateEncoder()\n",
    "\n",
    "enc.fit(X_train, y_train)\n",
    "\n",
    "X_train = pd.DataFrame(\n",
    "    enc.transform(X_train), columns=X_train.columns)\n",
    "\n",
    "X_test = pd.DataFrame(\n",
    "    enc.transform(X_test), columns=X_test.columns)\n",
    "\n",
    "display(X_train.head())\n",
    "X_test.head()"
   ]
  },
  {
   "cell_type": "markdown",
   "id": "11fb1684",
   "metadata": {},
   "source": [
    "### StandardScaler"
   ]
  },
  {
   "cell_type": "markdown",
   "id": "48756092",
   "metadata": {},
   "source": [
    "Также данные по-хорошему стоит стандартизировать, так как различия в значениях признака `kilometer` и `power` чересчур уж велики, к примеру. Воспользуемся алгоритмом `StandardScaler()`"
   ]
  },
  {
   "cell_type": "code",
   "execution_count": 54,
   "id": "657bd0c0",
   "metadata": {},
   "outputs": [
    {
     "data": {
      "text/html": [
       "<div>\n",
       "<style scoped>\n",
       "    .dataframe tbody tr th:only-of-type {\n",
       "        vertical-align: middle;\n",
       "    }\n",
       "\n",
       "    .dataframe tbody tr th {\n",
       "        vertical-align: top;\n",
       "    }\n",
       "\n",
       "    .dataframe thead th {\n",
       "        text-align: right;\n",
       "    }\n",
       "</style>\n",
       "<table border=\"1\" class=\"dataframe\">\n",
       "  <thead>\n",
       "    <tr style=\"text-align: right;\">\n",
       "      <th>autos.csv</th>\n",
       "      <th>brand</th>\n",
       "      <th>model</th>\n",
       "      <th>power</th>\n",
       "      <th>gearbox</th>\n",
       "      <th>fuel_type</th>\n",
       "      <th>repaired</th>\n",
       "      <th>kilometer</th>\n",
       "      <th>vehicle_type</th>\n",
       "      <th>registration_month</th>\n",
       "      <th>registration_year</th>\n",
       "      <th>postal_zone</th>\n",
       "      <th>postal_region</th>\n",
       "    </tr>\n",
       "  </thead>\n",
       "  <tbody>\n",
       "    <tr>\n",
       "      <th>0</th>\n",
       "      <td>-0.64</td>\n",
       "      <td>-0.96</td>\n",
       "      <td>-0.09</td>\n",
       "      <td>-0.49</td>\n",
       "      <td>-0.57</td>\n",
       "      <td>-0.33</td>\n",
       "      <td>-0.11</td>\n",
       "      <td>-1.65</td>\n",
       "      <td>-1.39</td>\n",
       "      <td>0.37</td>\n",
       "      <td>0.95</td>\n",
       "      <td>1.70</td>\n",
       "    </tr>\n",
       "    <tr>\n",
       "      <th>1</th>\n",
       "      <td>0.49</td>\n",
       "      <td>-0.20</td>\n",
       "      <td>1.75</td>\n",
       "      <td>2.06</td>\n",
       "      <td>-0.57</td>\n",
       "      <td>-0.33</td>\n",
       "      <td>0.58</td>\n",
       "      <td>0.67</td>\n",
       "      <td>-1.39</td>\n",
       "      <td>-1.45</td>\n",
       "      <td>-1.01</td>\n",
       "      <td>-0.15</td>\n",
       "    </tr>\n",
       "    <tr>\n",
       "      <th>2</th>\n",
       "      <td>-1.23</td>\n",
       "      <td>-0.20</td>\n",
       "      <td>-0.55</td>\n",
       "      <td>-0.49</td>\n",
       "      <td>1.47</td>\n",
       "      <td>-0.33</td>\n",
       "      <td>-2.71</td>\n",
       "      <td>0.67</td>\n",
       "      <td>-1.39</td>\n",
       "      <td>-1.81</td>\n",
       "      <td>0.95</td>\n",
       "      <td>0.46</td>\n",
       "    </tr>\n",
       "    <tr>\n",
       "      <th>3</th>\n",
       "      <td>0.93</td>\n",
       "      <td>1.74</td>\n",
       "      <td>0.97</td>\n",
       "      <td>-0.49</td>\n",
       "      <td>-0.57</td>\n",
       "      <td>-0.33</td>\n",
       "      <td>0.58</td>\n",
       "      <td>1.44</td>\n",
       "      <td>0.02</td>\n",
       "      <td>0.37</td>\n",
       "      <td>0.95</td>\n",
       "      <td>0.46</td>\n",
       "    </tr>\n",
       "    <tr>\n",
       "      <th>4</th>\n",
       "      <td>-0.93</td>\n",
       "      <td>-0.63</td>\n",
       "      <td>-0.17</td>\n",
       "      <td>-0.49</td>\n",
       "      <td>-0.57</td>\n",
       "      <td>-0.33</td>\n",
       "      <td>-1.34</td>\n",
       "      <td>1.44</td>\n",
       "      <td>1.43</td>\n",
       "      <td>0.55</td>\n",
       "      <td>-1.01</td>\n",
       "      <td>0.50</td>\n",
       "    </tr>\n",
       "  </tbody>\n",
       "</table>\n",
       "</div>"
      ],
      "text/plain": [
       "autos.csv      brand      model      power    gearbox  fuel_type   repaired  \\\n",
       "0              -0.64      -0.96      -0.09      -0.49      -0.57      -0.33   \n",
       "1               0.49      -0.20       1.75       2.06      -0.57      -0.33   \n",
       "2              -1.23      -0.20      -0.55      -0.49       1.47      -0.33   \n",
       "3               0.93       1.74       0.97      -0.49      -0.57      -0.33   \n",
       "4              -0.93      -0.63      -0.17      -0.49      -0.57      -0.33   \n",
       "\n",
       "autos.csv  kilometer  vehicle_type  registration_month  registration_year  \\\n",
       "0              -0.11         -1.65               -1.39               0.37   \n",
       "1               0.58          0.67               -1.39              -1.45   \n",
       "2              -2.71          0.67               -1.39              -1.81   \n",
       "3               0.58          1.44                0.02               0.37   \n",
       "4              -1.34          1.44                1.43               0.55   \n",
       "\n",
       "autos.csv  postal_zone  postal_region  \n",
       "0                 0.95           1.70  \n",
       "1                -1.01          -0.15  \n",
       "2                 0.95           0.46  \n",
       "3                 0.95           0.46  \n",
       "4                -1.01           0.50  "
      ]
     },
     "metadata": {},
     "output_type": "display_data"
    },
    {
     "data": {
      "text/html": [
       "<div>\n",
       "<style scoped>\n",
       "    .dataframe tbody tr th:only-of-type {\n",
       "        vertical-align: middle;\n",
       "    }\n",
       "\n",
       "    .dataframe tbody tr th {\n",
       "        vertical-align: top;\n",
       "    }\n",
       "\n",
       "    .dataframe thead th {\n",
       "        text-align: right;\n",
       "    }\n",
       "</style>\n",
       "<table border=\"1\" class=\"dataframe\">\n",
       "  <thead>\n",
       "    <tr style=\"text-align: right;\">\n",
       "      <th>autos.csv</th>\n",
       "      <th>brand</th>\n",
       "      <th>model</th>\n",
       "      <th>power</th>\n",
       "      <th>gearbox</th>\n",
       "      <th>fuel_type</th>\n",
       "      <th>repaired</th>\n",
       "      <th>kilometer</th>\n",
       "      <th>vehicle_type</th>\n",
       "      <th>registration_month</th>\n",
       "      <th>registration_year</th>\n",
       "      <th>postal_zone</th>\n",
       "      <th>postal_region</th>\n",
       "    </tr>\n",
       "  </thead>\n",
       "  <tbody>\n",
       "    <tr>\n",
       "      <th>0</th>\n",
       "      <td>0.93</td>\n",
       "      <td>4.69</td>\n",
       "      <td>1.12</td>\n",
       "      <td>2.06</td>\n",
       "      <td>1.47</td>\n",
       "      <td>-0.33</td>\n",
       "      <td>-0.79</td>\n",
       "      <td>3.03</td>\n",
       "      <td>0.30</td>\n",
       "      <td>1.10</td>\n",
       "      <td>1.34</td>\n",
       "      <td>-0.15</td>\n",
       "    </tr>\n",
       "    <tr>\n",
       "      <th>1</th>\n",
       "      <td>-0.89</td>\n",
       "      <td>-0.50</td>\n",
       "      <td>0.17</td>\n",
       "      <td>-0.49</td>\n",
       "      <td>-0.57</td>\n",
       "      <td>-0.33</td>\n",
       "      <td>-0.79</td>\n",
       "      <td>0.67</td>\n",
       "      <td>-0.83</td>\n",
       "      <td>0.73</td>\n",
       "      <td>-0.62</td>\n",
       "      <td>0.43</td>\n",
       "    </tr>\n",
       "    <tr>\n",
       "      <th>2</th>\n",
       "      <td>0.22</td>\n",
       "      <td>1.14</td>\n",
       "      <td>0.63</td>\n",
       "      <td>-0.49</td>\n",
       "      <td>-0.57</td>\n",
       "      <td>-0.33</td>\n",
       "      <td>-1.88</td>\n",
       "      <td>0.67</td>\n",
       "      <td>-0.83</td>\n",
       "      <td>1.82</td>\n",
       "      <td>0.17</td>\n",
       "      <td>-0.15</td>\n",
       "    </tr>\n",
       "    <tr>\n",
       "      <th>3</th>\n",
       "      <td>-0.66</td>\n",
       "      <td>-0.39</td>\n",
       "      <td>-1.31</td>\n",
       "      <td>-0.49</td>\n",
       "      <td>-0.57</td>\n",
       "      <td>-0.33</td>\n",
       "      <td>-1.34</td>\n",
       "      <td>-1.22</td>\n",
       "      <td>1.71</td>\n",
       "      <td>-0.36</td>\n",
       "      <td>1.73</td>\n",
       "      <td>0.97</td>\n",
       "    </tr>\n",
       "    <tr>\n",
       "      <th>4</th>\n",
       "      <td>-1.49</td>\n",
       "      <td>-0.96</td>\n",
       "      <td>0.06</td>\n",
       "      <td>-0.49</td>\n",
       "      <td>-0.57</td>\n",
       "      <td>-0.33</td>\n",
       "      <td>-1.61</td>\n",
       "      <td>0.11</td>\n",
       "      <td>-0.55</td>\n",
       "      <td>-0.72</td>\n",
       "      <td>-1.79</td>\n",
       "      <td>0.46</td>\n",
       "    </tr>\n",
       "  </tbody>\n",
       "</table>\n",
       "</div>"
      ],
      "text/plain": [
       "autos.csv      brand      model      power    gearbox  fuel_type   repaired  \\\n",
       "0               0.93       4.69       1.12       2.06       1.47      -0.33   \n",
       "1              -0.89      -0.50       0.17      -0.49      -0.57      -0.33   \n",
       "2               0.22       1.14       0.63      -0.49      -0.57      -0.33   \n",
       "3              -0.66      -0.39      -1.31      -0.49      -0.57      -0.33   \n",
       "4              -1.49      -0.96       0.06      -0.49      -0.57      -0.33   \n",
       "\n",
       "autos.csv  kilometer  vehicle_type  registration_month  registration_year  \\\n",
       "0              -0.79          3.03                0.30               1.10   \n",
       "1              -0.79          0.67               -0.83               0.73   \n",
       "2              -1.88          0.67               -0.83               1.82   \n",
       "3              -1.34         -1.22                1.71              -0.36   \n",
       "4              -1.61          0.11               -0.55              -0.72   \n",
       "\n",
       "autos.csv  postal_zone  postal_region  \n",
       "0                 1.34          -0.15  \n",
       "1                -0.62           0.43  \n",
       "2                 0.17          -0.15  \n",
       "3                 1.73           0.97  \n",
       "4                -1.79           0.46  "
      ]
     },
     "execution_count": 54,
     "metadata": {},
     "output_type": "execute_result"
    }
   ],
   "source": [
    "scaler = StandardScaler()\n",
    "\n",
    "scaler.fit(X_train)\n",
    "\n",
    "X_train = pd.DataFrame(\n",
    "    scaler.transform(X_train), columns=X_train.columns)\n",
    "X_test = pd.DataFrame(\n",
    "    scaler.transform(X_test), columns=X_test.columns)\n",
    "\n",
    "\n",
    "display(X_train.head())\n",
    "X_test.head()"
   ]
  },
  {
   "cell_type": "markdown",
   "id": "4b9c1df2",
   "metadata": {},
   "source": [
    "### <tt>Linear Regression</tt>"
   ]
  },
  {
   "cell_type": "markdown",
   "id": "bd7e4177",
   "metadata": {},
   "source": [
    "Для начала сделаем скорер для RMSE, чтобы верно интерпретировать значения данной метрики на всех этапах обучения и валидации моделей."
   ]
  },
  {
   "cell_type": "code",
   "execution_count": 55,
   "id": "99428d0d",
   "metadata": {},
   "outputs": [],
   "source": [
    "rmse_scorer = make_scorer(mean_squared_error, squared=False)"
   ]
  },
  {
   "cell_type": "code",
   "execution_count": 56,
   "id": "1d7b6c51",
   "metadata": {},
   "outputs": [
    {
     "name": "stdout",
     "output_type": "stream",
     "text": [
      "Linear Regression. Cross-val RMSE -> 2477.2744794802047.\n",
      "Cross-validation time (Fit+Predict) -> 1.03 с.\n",
      "\n"
     ]
    }
   ],
   "source": [
    "lr_stime = time()\n",
    "\n",
    "lr = LinearRegression()\n",
    "\n",
    "lr_cv = cross_val_score(\n",
    "    lr, X_train, y_train, cv=5, scoring=rmse_scorer)\n",
    "lr_cv_time = time()\n",
    "\n",
    "lr_rmse = lr_cv.mean()\n",
    "\n",
    "lr_full_time = time()\n",
    "\n",
    "print(f'Linear Regression. Cross-val RMSE -> {lr_rmse}.\\n'\n",
    "      f'Cross-validation time (Fit+Predict) -> {round(lr_cv_time - lr_stime, 2)} с.\\n')"
   ]
  },
  {
   "cell_type": "markdown",
   "id": "0f54c1b4",
   "metadata": {},
   "source": [
    "### <tt>HistGradientBoostingRegressor</tt>"
   ]
  },
  {
   "cell_type": "markdown",
   "id": "35096cf9",
   "metadata": {},
   "source": [
    "Аналог <tt>GradientBoostingRegressor</tt>, который лучше оптимизирован под работу с большими данными (более 10000 объектов в выборке)."
   ]
  },
  {
   "cell_type": "markdown",
   "id": "1eee0191",
   "metadata": {},
   "source": [
    "Напишем функцию `GS_best_params` для более удобного поиска гиперпараметров модели с помощью `GridSearchCV`"
   ]
  },
  {
   "cell_type": "code",
   "execution_count": 57,
   "id": "e026f300",
   "metadata": {},
   "outputs": [],
   "source": [
    "def GS_best_params(model,\n",
    "                   params_grid,\n",
    "                   train_features,\n",
    "                   train_target,\n",
    "                   scorer=rmse_scorer,\n",
    "                   cv_rate=2,\n",
    "                   cv_shuffle=False,\n",
    "                   refit=True,\n",
    "                   verbose=2,\n",
    "                   n_jobs=-1):\n",
    "\n",
    "    GS = GridSearchCV(model,\n",
    "                      params_grid,\n",
    "                      cv=KFold(cv_rate, shuffle=cv_shuffle),\n",
    "                      refit=refit,\n",
    "                      scoring=scorer,\n",
    "                      verbose=verbose,\n",
    "                      n_jobs=n_jobs).fit(train_features, train_target)\n",
    "\n",
    "    return GS"
   ]
  },
  {
   "cell_type": "code",
   "execution_count": 58,
   "id": "670e1088",
   "metadata": {
    "scrolled": true
   },
   "outputs": [
    {
     "name": "stdout",
     "output_type": "stream",
     "text": [
      "Fitting 2 folds for each of 4 candidates, totalling 8 fits\n",
      "[CV] END ....................learning_rate=0.5, max_iter=150; total time=14.2min\n",
      "[CV] END ....................learning_rate=0.5, max_iter=150; total time=  26.7s\n",
      "[CV] END ....................learning_rate=0.5, max_iter=300; total time=  12.2s\n",
      "[CV] END ....................learning_rate=0.5, max_iter=300; total time=  17.9s\n",
      "[CV] END ......................learning_rate=1, max_iter=150; total time=   6.0s\n",
      "[CV] END ......................learning_rate=1, max_iter=150; total time=   7.5s\n",
      "[CV] END ......................learning_rate=1, max_iter=300; total time=   6.3s\n",
      "[CV] END ......................learning_rate=1, max_iter=300; total time=   7.4s\n",
      "\n",
      "\n",
      "HistGradientBoostingRegressor(learning_rate=1, max_iter=150,\n",
      "                              random_state=RandomState(MT19937) at 0x7F44F1385540).\n",
      "Cross-val RMSE -> 1668.9336034639705\n",
      "GridSearchCV time (Fit + Predict) -> 975.71 с.\n",
      "\n"
     ]
    }
   ],
   "source": [
    "hgbr_stime = time()\n",
    "\n",
    "hgbr = HistGradientBoostingRegressor(random_state=STATE)\n",
    "\n",
    "hgbr_grid = {\n",
    "    'max_iter': [150, 300],\n",
    "    'learning_rate': [.5, 1]}\n",
    "\n",
    "hgbr_gs = GS_best_params(hgbr, hgbr_grid, X_train, y_train)\n",
    "hgbr_gs_time = time()\n",
    "\n",
    "hgbr = hgbr_gs.best_estimator_\n",
    "\n",
    "hgbr_rmse = hgbr_gs.best_score_\n",
    "\n",
    "hgbr_full_time = time()\n",
    "\n",
    "print(f'\\n\\n{str(hgbr)}.\\nCross-val RMSE -> {hgbr_rmse}\\n'\n",
    "      f'GridSearchCV time (Fit + Predict) -> {round(hgbr_gs_time - hgbr_stime, 2)} с.\\n')"
   ]
  },
  {
   "cell_type": "markdown",
   "id": "0b74ff9a",
   "metadata": {},
   "source": [
    "### <tt>LGBMRegressor</tt>"
   ]
  },
  {
   "cell_type": "code",
   "execution_count": 59,
   "id": "7aed510d",
   "metadata": {},
   "outputs": [
    {
     "name": "stdout",
     "output_type": "stream",
     "text": [
      "Fitting 2 folds for each of 4 candidates, totalling 8 fits\n",
      "[CV] END ................learning_rate=0.25, n_estimators=50; total time=  36.6s\n",
      "[CV] END ................learning_rate=0.25, n_estimators=50; total time=  40.9s\n",
      "[CV] END ...............learning_rate=0.25, n_estimators=300; total time= 1.4min\n",
      "[CV] END ...............learning_rate=0.25, n_estimators=300; total time=  29.3s\n",
      "[CV] END ...................learning_rate=1, n_estimators=50; total time=   2.4s\n",
      "[CV] END ...................learning_rate=1, n_estimators=50; total time=   3.2s\n",
      "[CV] END ..................learning_rate=1, n_estimators=300; total time=   9.7s\n",
      "[CV] END ..................learning_rate=1, n_estimators=300; total time=   9.9s\n",
      "\n",
      "\n",
      "LGBMRegressor(learning_rate=1, n_estimators=300, random_state=42).\n",
      "Cross-val RMSE -> 1734.3683069763467\n",
      "GridSearchCV time (Fit + Predict) -> 229.29 с.\n",
      "\n"
     ]
    }
   ],
   "source": [
    "lgbmr_stime = time()\n",
    "\n",
    "lgbmr = LGBMRegressor(random_state=42)\n",
    "\n",
    "lgbmr_grid = {\n",
    "    'n_estimators': [50, 300],\n",
    "    'learning_rate': [.25, 1]}\n",
    "\n",
    "lgbmr_gs = GS_best_params(lgbmr, lgbmr_grid, X_train, y_train)\n",
    "lgbmr = lgbmr_gs.best_estimator_\n",
    "\n",
    "lgbmr_gs_time = time()\n",
    "\n",
    "lgbmr_rmse = lgbmr_gs.best_score_\n",
    "\n",
    "lgbmr_full_time = time()\n",
    "\n",
    "print(f'\\n\\n{str(lgbmr)}.\\nCross-val RMSE -> {lgbmr_rmse}\\n'\n",
    "      f'GridSearchCV time (Fit + Predict) -> {round(lgbmr_gs_time - lgbmr_stime, 2)} с.\\n')"
   ]
  },
  {
   "cell_type": "markdown",
   "id": "fddb5d24",
   "metadata": {},
   "source": [
    "### <tt>CatBoostRegressor</tt>"
   ]
  },
  {
   "cell_type": "code",
   "execution_count": 60,
   "id": "b23be5b1",
   "metadata": {},
   "outputs": [
    {
     "name": "stdout",
     "output_type": "stream",
     "text": [
      "Fitting 2 folds for each of 4 candidates, totalling 8 fits\n",
      "[CV] END ..................iterations=300, learning_rate=0.5; total time=   5.9s\n",
      "[CV] END ..................iterations=300, learning_rate=0.5; total time=   6.1s\n",
      "[CV] END ....................iterations=300, learning_rate=1; total time=   5.8s\n",
      "[CV] END ....................iterations=300, learning_rate=1; total time=   6.1s\n",
      "[CV] END ..................iterations=400, learning_rate=0.5; total time=   8.0s\n",
      "[CV] END ..................iterations=400, learning_rate=0.5; total time=   7.9s\n",
      "[CV] END ....................iterations=400, learning_rate=1; total time=   7.7s\n",
      "[CV] END ....................iterations=400, learning_rate=1; total time=   7.8s\n",
      "\n",
      "\n",
      "CatBoostRegressor.\n",
      "Cross-val RMSE -> 1586.9741302580728\n",
      "GridSearchCV time (Fit + Predict) -> 69.48 c.\n",
      "\n"
     ]
    }
   ],
   "source": [
    "cbr_stime = time()\n",
    "\n",
    "cbr = CatBoostRegressor(verbose=False, random_seed=42)\n",
    "\n",
    "cbr_grid = {\n",
    "    'iterations': [300, 400],\n",
    "    'learning_rate': [.5, 1]}\n",
    "\n",
    "cbr_gs = GS_best_params(cbr, cbr_grid, X_train, y_train)\n",
    "cbr_gs_time = time()\n",
    "\n",
    "cbr = cbr_gs.best_estimator_\n",
    "\n",
    "cbr_rmse = cbr_gs.best_score_\n",
    "\n",
    "cbr_full_time = time()\n",
    "\n",
    "print(f'\\n\\nCatBoostRegressor.\\nCross-val RMSE -> {cbr_rmse}\\n'\n",
    "      f'GridSearchCV time (Fit + Predict) -> {round(cbr_gs_time - cbr_stime, 2)} c.\\n')"
   ]
  },
  {
   "cell_type": "markdown",
   "id": "b88a5d7b",
   "metadata": {},
   "source": [
    "### Результаты обучения моделей"
   ]
  },
  {
   "cell_type": "code",
   "execution_count": 61,
   "id": "06896c20",
   "metadata": {},
   "outputs": [
    {
     "data": {
      "text/html": [
       "<div>\n",
       "<style scoped>\n",
       "    .dataframe tbody tr th:only-of-type {\n",
       "        vertical-align: middle;\n",
       "    }\n",
       "\n",
       "    .dataframe tbody tr th {\n",
       "        vertical-align: top;\n",
       "    }\n",
       "\n",
       "    .dataframe thead th {\n",
       "        text-align: right;\n",
       "    }\n",
       "</style>\n",
       "<table border=\"1\" class=\"dataframe\">\n",
       "  <thead>\n",
       "    <tr style=\"text-align: right;\">\n",
       "      <th></th>\n",
       "      <th>Model</th>\n",
       "      <th>Cross-val RMSE</th>\n",
       "      <th>GridSearchCV/Cross-val time (Fit + Predict)</th>\n",
       "    </tr>\n",
       "  </thead>\n",
       "  <tbody>\n",
       "    <tr>\n",
       "      <th>3</th>\n",
       "      <td>CatBoostRegressor</td>\n",
       "      <td>1,586.97</td>\n",
       "      <td>69.48</td>\n",
       "    </tr>\n",
       "    <tr>\n",
       "      <th>1</th>\n",
       "      <td>HistGradientBoostingRegressor</td>\n",
       "      <td>1,668.93</td>\n",
       "      <td>975.71</td>\n",
       "    </tr>\n",
       "    <tr>\n",
       "      <th>2</th>\n",
       "      <td>LGBMRegressor</td>\n",
       "      <td>1,734.37</td>\n",
       "      <td>229.29</td>\n",
       "    </tr>\n",
       "    <tr>\n",
       "      <th>0</th>\n",
       "      <td>LinearRegression</td>\n",
       "      <td>2,477.27</td>\n",
       "      <td>1.03</td>\n",
       "    </tr>\n",
       "  </tbody>\n",
       "</table>\n",
       "</div>"
      ],
      "text/plain": [
       "                           Model  Cross-val RMSE  \\\n",
       "3              CatBoostRegressor        1,586.97   \n",
       "1  HistGradientBoostingRegressor        1,668.93   \n",
       "2                  LGBMRegressor        1,734.37   \n",
       "0               LinearRegression        2,477.27   \n",
       "\n",
       "   GridSearchCV/Cross-val time (Fit + Predict)  \n",
       "3                                        69.48  \n",
       "1                                       975.71  \n",
       "2                                       229.29  \n",
       "0                                         1.03  "
      ]
     },
     "execution_count": 61,
     "metadata": {},
     "output_type": "execute_result"
    }
   ],
   "source": [
    "models_results = pd.DataFrame(\n",
    "    {'Model': [\n",
    "        'LinearRegression',\n",
    "        'HistGradientBoostingRegressor',\n",
    "        'LGBMRegressor',\n",
    "        'CatBoostRegressor'],\n",
    "\n",
    "     'Cross-val RMSE': [\n",
    "         lr_rmse,\n",
    "         hgbr_rmse,\n",
    "         lgbmr_rmse,\n",
    "         cbr_rmse],\n",
    "\n",
    "     'GridSearchCV/Cross-val time (Fit + Predict)': [\n",
    "         round(lr_cv_time - lr_stime, 2),\n",
    "         round(hgbr_gs_time - hgbr_stime, 2),\n",
    "         round(lgbmr_gs_time - lgbmr_stime, 2),\n",
    "         round(cbr_gs_time - cbr_stime, 2)]\n",
    "     }\n",
    ")\n",
    "\n",
    "models_results = models_results.sort_values(by='Cross-val RMSE', ascending=True)\n",
    "models_results"
   ]
  },
  {
   "cell_type": "markdown",
   "id": "eb23dfd4",
   "metadata": {},
   "source": [
    "<div style=\"border: 3px solid rgb(0,0,0); padding: 20px\">\n",
    "\n",
    "### Итого\n",
    "\n",
    "Обычная линейная модель <tt>LinearRegression</tt> не идет ни в какое сравнение с моделями градиентного бустинга, так как значение <tt>RMSE</tt> у нее практически вдвое больше. Под условия ТЗ она, конечно, подходит, но смысла ее рассматривать нет.\n",
    "\n",
    "Наименьшие значения <tt>RMSE</tt> показали модели <tt>LGBMRegressor</tt> и <tt>HistGradientBoostingRegressor</tt>. Однако, время, затраченное на подбор гиперпараметров и обучение модели, слишком большое, относительно других моделей.\n",
    "\n",
    "Модель <tt>CatBoostRegressor</tt> имеет значение <tt>RMSE</tt> чуть хуже, чем предыдущие две модели, но при этом сильно выигрывает по времени подбора гиперпараметров, обучения и формирования предсказаний.\n",
    "    \n",
    "Итого, в качестве модели для тестирования была выбрана:\n",
    "    \n",
    "<clear></clear>\n",
    "    \n",
    "<center><code>CatBoostRegressor(iterations=400, learning_rate=0.5)</code></center>\n",
    "    \n",
    "    \n",
    "</div>"
   ]
  },
  {
   "cell_type": "markdown",
   "id": "3fcbd7d7",
   "metadata": {},
   "source": [
    "## Тестирование модели 💯"
   ]
  },
  {
   "cell_type": "markdown",
   "id": "5e938836",
   "metadata": {},
   "source": [
    "### Test RMSE"
   ]
  },
  {
   "cell_type": "code",
   "execution_count": 62,
   "id": "63cfbf7a",
   "metadata": {},
   "outputs": [
    {
     "name": "stdout",
     "output_type": "stream",
     "text": [
      "Model: CatBoostRegressor(iterations=400, learning_rate=0.5)\n",
      "Test RMSE: 1523.62\n",
      "Prediction time: 0.05 с.\n"
     ]
    }
   ],
   "source": [
    "cbr_test_stime = time()\n",
    "\n",
    "cbr_test_preds = cbr.predict(X_test)\n",
    "cbr_test_pred_time = time()\n",
    "\n",
    "cbr_test_rmse = mean_squared_error(y_test, cbr_test_preds, squared=False)\n",
    "\n",
    "print(f'Model: CatBoostRegressor(iterations=400, learning_rate=0.5)\\n'\n",
    "      f'Test RMSE: {round(cbr_test_rmse, 2)}\\n'\n",
    "      f'Prediction time: {round(cbr_test_pred_time - cbr_test_stime, 2)} с.')"
   ]
  },
  {
   "cell_type": "markdown",
   "id": "c11dc525",
   "metadata": {},
   "source": [
    "<div style=\"border: 3px solid rgb(255, 119, 119); padding: 20px\">\n",
    "\n",
    "**Конечное значение <tt>RMSE</tt> на тестовой выборке - <tt>1523.62</tt>.**\n",
    "    \n",
    "</div>"
   ]
  },
  {
   "cell_type": "markdown",
   "id": "9630de15",
   "metadata": {},
   "source": [
    "### Проверка на адекватность"
   ]
  },
  {
   "cell_type": "markdown",
   "id": "e5e0a4a2",
   "metadata": {},
   "source": [
    "Проверим модель на адекватность, сравнив значения <tt>RMSE</tt> dummy-модели и нашей модели на тестовой выборке, чтобы оценить действительно ли наша модель обладает предсказательной силой."
   ]
  },
  {
   "cell_type": "code",
   "execution_count": 63,
   "id": "873181a4",
   "metadata": {},
   "outputs": [
    {
     "name": "stdout",
     "output_type": "stream",
     "text": [
      "Model: DummyRegressor(strategy='mean')\n",
      "Test RMSE: 4533.33\n",
      "Fit time: 0.0\n",
      "Prediction time: 0.0 с.\n",
      "\n",
      "✅ Модель адекватна.\n"
     ]
    }
   ],
   "source": [
    "dr_stime = time()\n",
    "\n",
    "dr = DummyRegressor(strategy='mean')\n",
    "\n",
    "dr.fit(X_train, y_train)\n",
    "dr_fit_time = time()\n",
    "\n",
    "dr_test_preds = dr.predict(X_test)\n",
    "dr_test_pred_time = time()\n",
    "\n",
    "dr_test_rmse = mean_squared_error(y_test, dr_test_preds, squared=False)\n",
    "\n",
    "print(f'Model: DummyRegressor(strategy=\\'mean\\')\\n'\n",
    "      f'Test RMSE: {round(dr_test_rmse, 2)}\\n'\n",
    "      f'Fit time: {round(dr_fit_time - dr_stime, 2)}\\n'\n",
    "      f'Prediction time: {round(dr_test_pred_time - dr_fit_time, 2)} с.', end='\\n\\n')\n",
    "\n",
    "if dr_test_rmse > cbr_test_rmse:\n",
    "    print(f'✅ Модель адекватна.')\n",
    "else:\n",
    "    print(f'❌ Модель не прошла проверку на адекватность')"
   ]
  },
  {
   "cell_type": "markdown",
   "id": "4ca28c48",
   "metadata": {},
   "source": [
    "## Общий вывод 👀"
   ]
  },
  {
   "cell_type": "markdown",
   "id": "e99ff8a8",
   "metadata": {},
   "source": [
    "<div style=\"border: 3px solid rgb(119,212,150); padding: 20px\">\n",
    "    \n",
    "Для немецкого сервиса по продажи поддержанных авто \"Не бит, не крашен\" была разработана и протестирована модель машинного обучения для прогнозирования рыночной цены автомобиля исходя из его технических характеристик.\n",
    "    \n",
    "### Краткая сводка по выполненным задачам\n",
    "\n",
    "#### Шаг 1. Обзор данных\n",
    "    \n",
    "- Импортированы необходимые библиотеки;\n",
    "- Данные загружены и прочитаны, предусмотрены альтернативные способы получения исходных данных;\n",
    "- Оценена информация о данных;\n",
    "\n",
    "#### Шаг 2. Предобработка данных\n",
    "    \n",
    "- Были переименованы признаки в \"snake_case\";\n",
    "- Удалены немногочисленные явные дубликаты;\n",
    "- Изменены типы данных, где это было необходимо;\n",
    "- Удалены ошибочные записи, данные отсортированы по дате публикации объявлений;\n",
    "- Скорректированы распределения некоторых величин;\n",
    "- Из признака `postal_code` сделали два новых признака: `postal_zone` и `postal_region`;\n",
    "- Пропуски (или нули) в `model`, `power`, `vehicle_type`, `gearbox`, `fuel_type` были частично заполнены модой по бренду, модели или региону продажи авто;\n",
    "- Исключены неинформативные признаки;\n",
    "\n",
    "#### Шаг 3. Обучение моделей\n",
    "    \n",
    "    \n",
    "- Категориальные признаки закодированы при помощи <tt>MEstimateEncoder</tt>;\n",
    "- Выборки отмасшабированы при помощи <tt>StandardScaler</tt>;\n",
    "    \n",
    "<center>Итоговая сводная таблица с результатами этапа</center>\n",
    "  \n",
    "    \n",
    "| Модель                        | Значение RMSE на кросс-валидации/GridSearchCV | Время на Fit+Predict (сек.) |\n",
    "|-------------------------------|-----------------------------------------------|-----------------------------|\n",
    "| CatBoostRegressor             | 1,586.97                                      | 69.48                       |\n",
    "| HistGradientBoostingRegressor | 1,668.93                                      | 975.71                      |\n",
    "| LGBMRegressor                 | 1,734.37                                      | 229.29                      |\n",
    "| LinearRegression              | 2,477.27                                      | 1.03                        |\n",
    "\n",
    "Исходя из критериев заказчика была выбрана модель <tt>CatBoostRegressor(iterations=400, learning_rate=0.5)</tt>.\n",
    "    \n",
    "#### Шаг 4. Тестирование модели\n",
    "    \n",
    "- Модель была протестирована на тестовом наборе данных. Значение <tt>RMSE</tt> - <tt>1523.62</tt>;\n",
    "- Модель была проверена на адекватность. Модель адекватна.\n",
    "</div>"
   ]
  }
 ],
 "metadata": {
  "ExecuteTimeLog": [
   {
    "duration": 1510,
    "start_time": "2023-07-09T09:41:43.365Z"
   },
   {
    "duration": 16369,
    "start_time": "2023-07-09T09:41:54.906Z"
   },
   {
    "duration": 1090,
    "start_time": "2023-07-09T09:42:23.002Z"
   },
   {
    "duration": 3387,
    "start_time": "2023-07-09T09:42:34.935Z"
   },
   {
    "duration": 323,
    "start_time": "2023-07-09T09:42:40.754Z"
   },
   {
    "duration": 13,
    "start_time": "2023-07-09T09:43:10.262Z"
   },
   {
    "duration": 216,
    "start_time": "2023-07-09T09:43:36.730Z"
   },
   {
    "duration": 6,
    "start_time": "2023-07-09T09:43:43.642Z"
   },
   {
    "duration": 143,
    "start_time": "2023-07-09T09:44:48.576Z"
   },
   {
    "duration": 2539,
    "start_time": "2023-07-09T09:45:35.178Z"
   },
   {
    "duration": 2719,
    "start_time": "2023-07-09T09:45:37.719Z"
   },
   {
    "duration": 1788,
    "start_time": "2023-07-09T09:45:40.440Z"
   },
   {
    "duration": 3,
    "start_time": "2023-07-09T09:45:42.230Z"
   },
   {
    "duration": 33,
    "start_time": "2023-07-09T09:45:42.234Z"
   },
   {
    "duration": 808,
    "start_time": "2023-07-09T09:45:42.268Z"
   },
   {
    "duration": 3,
    "start_time": "2023-07-09T09:45:43.078Z"
   },
   {
    "duration": 49,
    "start_time": "2023-07-09T09:45:43.082Z"
   },
   {
    "duration": 612,
    "start_time": "2023-07-09T09:45:43.132Z"
   },
   {
    "duration": 739,
    "start_time": "2023-07-09T09:45:43.747Z"
   },
   {
    "duration": 23,
    "start_time": "2023-07-09T09:45:44.488Z"
   },
   {
    "duration": 119,
    "start_time": "2023-07-09T09:45:44.513Z"
   },
   {
    "duration": 15,
    "start_time": "2023-07-09T09:45:44.634Z"
   },
   {
    "duration": 17,
    "start_time": "2023-07-09T09:45:44.651Z"
   },
   {
    "duration": 15,
    "start_time": "2023-07-09T09:45:44.670Z"
   },
   {
    "duration": 27,
    "start_time": "2023-07-09T09:45:44.686Z"
   },
   {
    "duration": 1345,
    "start_time": "2023-07-09T09:45:44.714Z"
   },
   {
    "duration": 70,
    "start_time": "2023-07-09T09:45:46.062Z"
   },
   {
    "duration": 6,
    "start_time": "2023-07-09T09:45:46.134Z"
   },
   {
    "duration": 13,
    "start_time": "2023-07-09T09:45:46.141Z"
   },
   {
    "duration": 78,
    "start_time": "2023-07-09T09:45:46.156Z"
   },
   {
    "duration": 137,
    "start_time": "2023-07-09T09:45:46.236Z"
   },
   {
    "duration": 9,
    "start_time": "2023-07-09T09:45:46.376Z"
   },
   {
    "duration": 583,
    "start_time": "2023-07-09T09:45:46.387Z"
   },
   {
    "duration": 18,
    "start_time": "2023-07-09T09:45:46.972Z"
   },
   {
    "duration": 33,
    "start_time": "2023-07-09T09:45:47.009Z"
   },
   {
    "duration": 66,
    "start_time": "2023-07-09T09:45:47.044Z"
   },
   {
    "duration": 282,
    "start_time": "2023-07-09T09:45:47.115Z"
   },
   {
    "duration": 32,
    "start_time": "2023-07-09T09:45:47.398Z"
   },
   {
    "duration": 421,
    "start_time": "2023-07-09T09:45:47.432Z"
   },
   {
    "duration": 16,
    "start_time": "2023-07-09T09:45:47.855Z"
   },
   {
    "duration": 82,
    "start_time": "2023-07-09T09:45:47.873Z"
   },
   {
    "duration": 7,
    "start_time": "2023-07-09T09:45:47.956Z"
   },
   {
    "duration": 137,
    "start_time": "2023-07-09T09:45:47.965Z"
   },
   {
    "duration": 136,
    "start_time": "2023-07-09T09:45:48.104Z"
   },
   {
    "duration": 380,
    "start_time": "2023-07-09T09:45:48.242Z"
   },
   {
    "duration": 140,
    "start_time": "2023-07-09T09:45:48.623Z"
   },
   {
    "duration": 89,
    "start_time": "2023-07-09T09:45:48.765Z"
   },
   {
    "duration": 24,
    "start_time": "2023-07-09T09:45:48.856Z"
   },
   {
    "duration": 246,
    "start_time": "2023-07-09T09:45:48.882Z"
   },
   {
    "duration": 8948,
    "start_time": "2023-07-09T09:45:49.130Z"
   },
   {
    "duration": 39,
    "start_time": "2023-07-09T09:45:58.080Z"
   },
   {
    "duration": 106,
    "start_time": "2023-07-09T09:45:58.121Z"
   },
   {
    "duration": 5717,
    "start_time": "2023-07-09T09:45:58.228Z"
   },
   {
    "duration": 321,
    "start_time": "2023-07-09T09:46:03.946Z"
   },
   {
    "duration": 335,
    "start_time": "2023-07-09T09:46:04.269Z"
   },
   {
    "duration": 20263,
    "start_time": "2023-07-09T09:46:04.608Z"
   },
   {
    "duration": 86,
    "start_time": "2023-07-09T09:46:24.873Z"
   },
   {
    "duration": 49,
    "start_time": "2023-07-09T09:46:24.961Z"
   },
   {
    "duration": 3,
    "start_time": "2023-07-09T09:46:25.012Z"
   },
   {
    "duration": 1258,
    "start_time": "2023-07-09T09:46:25.016Z"
   },
   {
    "duration": 8553,
    "start_time": "2023-07-09T09:46:26.276Z"
   },
   {
    "duration": 2,
    "start_time": "2023-07-09T09:46:34.832Z"
   },
   {
    "duration": 274,
    "start_time": "2023-07-09T09:46:34.836Z"
   },
   {
    "duration": 40,
    "start_time": "2023-07-09T09:46:35.111Z"
   },
   {
    "duration": 8,
    "start_time": "2023-07-09T09:46:35.152Z"
   },
   {
    "duration": 13,
    "start_time": "2023-07-09T09:46:35.162Z"
   },
   {
    "duration": 14,
    "start_time": "2023-07-09T09:46:35.177Z"
   },
   {
    "duration": 34,
    "start_time": "2023-07-09T09:46:35.193Z"
   },
   {
    "duration": 16,
    "start_time": "2023-07-09T09:46:35.229Z"
   },
   {
    "duration": 602,
    "start_time": "2023-07-09T09:46:35.247Z"
   },
   {
    "duration": 0,
    "start_time": "2023-07-09T09:46:35.851Z"
   },
   {
    "duration": 0,
    "start_time": "2023-07-09T09:46:35.853Z"
   },
   {
    "duration": 405,
    "start_time": "2023-07-09T09:46:53.320Z"
   },
   {
    "duration": 502,
    "start_time": "2023-07-09T09:47:03.709Z"
   },
   {
    "duration": 1387,
    "start_time": "2023-07-09T09:49:30.512Z"
   },
   {
    "duration": 166,
    "start_time": "2023-07-09T09:49:35.331Z"
   },
   {
    "duration": 9977,
    "start_time": "2023-07-09T09:49:46.174Z"
   },
   {
    "duration": 3036,
    "start_time": "2023-07-09T09:50:25.905Z"
   },
   {
    "duration": 47767,
    "start_time": "2023-07-09T09:50:36.267Z"
   },
   {
    "duration": 330034,
    "start_time": "2023-07-09T09:52:48.795Z"
   },
   {
    "duration": 136665,
    "start_time": "2023-07-09T10:59:23.053Z"
   },
   {
    "duration": 2769,
    "start_time": "2023-07-09T11:34:01.803Z"
   },
   {
    "duration": 2723,
    "start_time": "2023-07-09T11:34:04.575Z"
   },
   {
    "duration": 1746,
    "start_time": "2023-07-09T11:34:07.300Z"
   },
   {
    "duration": 3,
    "start_time": "2023-07-09T11:34:09.048Z"
   },
   {
    "duration": 23,
    "start_time": "2023-07-09T11:34:09.053Z"
   },
   {
    "duration": 480,
    "start_time": "2023-07-09T11:34:09.078Z"
   },
   {
    "duration": 3,
    "start_time": "2023-07-09T11:34:09.560Z"
   },
   {
    "duration": 60,
    "start_time": "2023-07-09T11:34:09.565Z"
   },
   {
    "duration": 607,
    "start_time": "2023-07-09T11:34:09.627Z"
   },
   {
    "duration": 764,
    "start_time": "2023-07-09T11:34:10.237Z"
   },
   {
    "duration": 18,
    "start_time": "2023-07-09T11:34:11.003Z"
   },
   {
    "duration": 139,
    "start_time": "2023-07-09T11:34:11.022Z"
   },
   {
    "duration": 16,
    "start_time": "2023-07-09T11:34:11.163Z"
   },
   {
    "duration": 10,
    "start_time": "2023-07-09T11:34:11.181Z"
   },
   {
    "duration": 10,
    "start_time": "2023-07-09T11:34:11.210Z"
   },
   {
    "duration": 16,
    "start_time": "2023-07-09T11:34:11.222Z"
   },
   {
    "duration": 1410,
    "start_time": "2023-07-09T11:34:11.241Z"
   },
   {
    "duration": 66,
    "start_time": "2023-07-09T11:34:12.653Z"
   },
   {
    "duration": 9,
    "start_time": "2023-07-09T11:34:12.721Z"
   },
   {
    "duration": 8,
    "start_time": "2023-07-09T11:34:12.732Z"
   },
   {
    "duration": 79,
    "start_time": "2023-07-09T11:34:12.742Z"
   },
   {
    "duration": 145,
    "start_time": "2023-07-09T11:34:12.823Z"
   },
   {
    "duration": 8,
    "start_time": "2023-07-09T11:34:12.970Z"
   },
   {
    "duration": 572,
    "start_time": "2023-07-09T11:34:12.980Z"
   },
   {
    "duration": 17,
    "start_time": "2023-07-09T11:34:13.553Z"
   },
   {
    "duration": 52,
    "start_time": "2023-07-09T11:34:13.572Z"
   },
   {
    "duration": 45,
    "start_time": "2023-07-09T11:34:13.626Z"
   },
   {
    "duration": 312,
    "start_time": "2023-07-09T11:34:13.676Z"
   },
   {
    "duration": 33,
    "start_time": "2023-07-09T11:34:13.990Z"
   },
   {
    "duration": 437,
    "start_time": "2023-07-09T11:34:14.025Z"
   },
   {
    "duration": 15,
    "start_time": "2023-07-09T11:34:14.463Z"
   },
   {
    "duration": 82,
    "start_time": "2023-07-09T11:34:14.480Z"
   },
   {
    "duration": 7,
    "start_time": "2023-07-09T11:34:14.564Z"
   },
   {
    "duration": 141,
    "start_time": "2023-07-09T11:34:14.573Z"
   },
   {
    "duration": 144,
    "start_time": "2023-07-09T11:34:14.716Z"
   },
   {
    "duration": 383,
    "start_time": "2023-07-09T11:34:14.862Z"
   },
   {
    "duration": 145,
    "start_time": "2023-07-09T11:34:15.247Z"
   },
   {
    "duration": 106,
    "start_time": "2023-07-09T11:34:15.394Z"
   },
   {
    "duration": 29,
    "start_time": "2023-07-09T11:34:15.502Z"
   },
   {
    "duration": 244,
    "start_time": "2023-07-09T11:34:15.533Z"
   },
   {
    "duration": 9587,
    "start_time": "2023-07-09T11:34:15.780Z"
   },
   {
    "duration": 42,
    "start_time": "2023-07-09T11:34:25.368Z"
   },
   {
    "duration": 104,
    "start_time": "2023-07-09T11:34:25.411Z"
   },
   {
    "duration": 5884,
    "start_time": "2023-07-09T11:34:25.517Z"
   },
   {
    "duration": 318,
    "start_time": "2023-07-09T11:34:31.402Z"
   },
   {
    "duration": 336,
    "start_time": "2023-07-09T11:34:31.722Z"
   },
   {
    "duration": 20951,
    "start_time": "2023-07-09T11:34:32.059Z"
   },
   {
    "duration": 115,
    "start_time": "2023-07-09T11:34:53.012Z"
   },
   {
    "duration": 47,
    "start_time": "2023-07-09T11:34:53.130Z"
   },
   {
    "duration": 17,
    "start_time": "2023-07-09T11:34:53.179Z"
   },
   {
    "duration": 1402,
    "start_time": "2023-07-09T11:34:53.209Z"
   },
   {
    "duration": 2,
    "start_time": "2023-07-09T11:34:54.613Z"
   },
   {
    "duration": 212,
    "start_time": "2023-07-09T11:34:54.617Z"
   },
   {
    "duration": 557,
    "start_time": "2023-07-09T11:34:54.831Z"
   },
   {
    "duration": 36123,
    "start_time": "2023-07-09T11:34:55.390Z"
   },
   {
    "duration": 5,
    "start_time": "2023-07-09T11:35:31.516Z"
   },
   {
    "duration": 1536214,
    "start_time": "2023-07-09T11:35:31.524Z"
   },
   {
    "duration": 1050286,
    "start_time": "2023-07-09T12:01:07.740Z"
   },
   {
    "duration": 148396,
    "start_time": "2023-07-09T12:18:38.030Z"
   },
   {
    "duration": 95,
    "start_time": "2023-07-09T12:21:06.428Z"
   },
   {
    "duration": 201,
    "start_time": "2023-07-09T12:23:14.794Z"
   },
   {
    "duration": 14,
    "start_time": "2023-07-09T12:23:23.054Z"
   },
   {
    "duration": 7,
    "start_time": "2023-07-09T12:23:46.340Z"
   },
   {
    "duration": 15,
    "start_time": "2023-07-09T12:23:49.807Z"
   },
   {
    "duration": 17,
    "start_time": "2023-07-09T12:27:23.292Z"
   },
   {
    "duration": 19,
    "start_time": "2023-07-09T12:29:25.750Z"
   },
   {
    "duration": 17,
    "start_time": "2023-07-09T12:29:52.199Z"
   },
   {
    "duration": 20,
    "start_time": "2023-07-09T12:30:43.451Z"
   },
   {
    "duration": 7,
    "start_time": "2023-07-09T12:30:46.498Z"
   },
   {
    "duration": 20,
    "start_time": "2023-07-09T12:32:14.615Z"
   },
   {
    "duration": 20,
    "start_time": "2023-07-09T12:32:40.654Z"
   },
   {
    "duration": 20,
    "start_time": "2023-07-09T12:38:26.031Z"
   },
   {
    "duration": 25,
    "start_time": "2023-07-09T12:40:15.975Z"
   },
   {
    "duration": 21,
    "start_time": "2023-07-09T12:47:48.968Z"
   },
   {
    "duration": 20,
    "start_time": "2023-07-09T12:48:27.232Z"
   },
   {
    "duration": 31,
    "start_time": "2023-07-09T12:49:13.594Z"
   },
   {
    "duration": 23,
    "start_time": "2023-07-09T12:50:03.594Z"
   },
   {
    "duration": 21,
    "start_time": "2023-07-09T12:50:33.427Z"
   },
   {
    "duration": 22,
    "start_time": "2023-07-09T13:43:35.430Z"
   },
   {
    "duration": 39,
    "start_time": "2023-07-09T13:44:32.324Z"
   },
   {
    "duration": 23,
    "start_time": "2023-07-09T13:44:50.084Z"
   },
   {
    "duration": 7,
    "start_time": "2023-07-09T13:45:14.898Z"
   },
   {
    "duration": 27,
    "start_time": "2023-07-09T13:45:17.927Z"
   },
   {
    "duration": 8,
    "start_time": "2023-07-09T13:45:38.827Z"
   },
   {
    "duration": 72,
    "start_time": "2023-07-09T13:45:43.599Z"
   },
   {
    "duration": 7,
    "start_time": "2023-07-09T13:45:59.651Z"
   },
   {
    "duration": 22,
    "start_time": "2023-07-09T13:46:05.092Z"
   },
   {
    "duration": 18,
    "start_time": "2023-07-09T13:46:33.753Z"
   },
   {
    "duration": 18,
    "start_time": "2023-07-09T13:47:02.475Z"
   },
   {
    "duration": 9,
    "start_time": "2023-07-09T13:55:06.690Z"
   },
   {
    "duration": 211,
    "start_time": "2023-07-09T14:01:57.349Z"
   },
   {
    "duration": 182,
    "start_time": "2023-07-09T14:02:10.042Z"
   },
   {
    "duration": 6272,
    "start_time": "2023-07-09T14:06:38.430Z"
   },
   {
    "duration": 8,
    "start_time": "2023-07-09T14:08:32.435Z"
   },
   {
    "duration": 14,
    "start_time": "2023-07-09T14:13:54.505Z"
   },
   {
    "duration": 16,
    "start_time": "2023-07-09T14:32:18.843Z"
   },
   {
    "duration": 3695,
    "start_time": "2023-07-09T14:36:25.524Z"
   },
   {
    "duration": 4666,
    "start_time": "2023-07-09T14:36:29.233Z"
   },
   {
    "duration": 1897,
    "start_time": "2023-07-09T14:36:33.901Z"
   },
   {
    "duration": 13,
    "start_time": "2023-07-09T14:36:35.801Z"
   },
   {
    "duration": 40,
    "start_time": "2023-07-09T14:36:35.818Z"
   },
   {
    "duration": 509,
    "start_time": "2023-07-09T14:36:35.860Z"
   },
   {
    "duration": 34224,
    "start_time": "2023-07-09T14:36:36.371Z"
   },
   {
    "duration": 7,
    "start_time": "2023-07-09T14:37:10.597Z"
   },
   {
    "duration": 684,
    "start_time": "2023-07-09T14:37:10.608Z"
   },
   {
    "duration": 795,
    "start_time": "2023-07-09T14:37:11.295Z"
   },
   {
    "duration": 30,
    "start_time": "2023-07-09T14:37:12.092Z"
   },
   {
    "duration": 139,
    "start_time": "2023-07-09T14:37:12.124Z"
   },
   {
    "duration": 16,
    "start_time": "2023-07-09T14:37:12.265Z"
   },
   {
    "duration": 15,
    "start_time": "2023-07-09T14:37:12.282Z"
   },
   {
    "duration": 45,
    "start_time": "2023-07-09T14:37:12.309Z"
   },
   {
    "duration": 17,
    "start_time": "2023-07-09T14:37:12.356Z"
   },
   {
    "duration": 1456,
    "start_time": "2023-07-09T14:37:12.375Z"
   },
   {
    "duration": 66,
    "start_time": "2023-07-09T14:37:13.834Z"
   },
   {
    "duration": 18,
    "start_time": "2023-07-09T14:37:13.902Z"
   },
   {
    "duration": 34,
    "start_time": "2023-07-09T14:37:13.927Z"
   },
   {
    "duration": 94,
    "start_time": "2023-07-09T14:37:13.963Z"
   },
   {
    "duration": 153,
    "start_time": "2023-07-09T14:37:14.059Z"
   },
   {
    "duration": 23,
    "start_time": "2023-07-09T14:37:14.214Z"
   },
   {
    "duration": 449,
    "start_time": "2023-07-09T14:37:14.239Z"
   },
   {
    "duration": 41,
    "start_time": "2023-07-09T14:37:14.690Z"
   },
   {
    "duration": 36,
    "start_time": "2023-07-09T14:37:14.733Z"
   },
   {
    "duration": 67,
    "start_time": "2023-07-09T14:37:14.771Z"
   },
   {
    "duration": 309,
    "start_time": "2023-07-09T14:37:14.842Z"
   },
   {
    "duration": 23,
    "start_time": "2023-07-09T14:37:15.153Z"
   },
   {
    "duration": 450,
    "start_time": "2023-07-09T14:37:15.178Z"
   },
   {
    "duration": 17,
    "start_time": "2023-07-09T14:37:15.637Z"
   },
   {
    "duration": 74,
    "start_time": "2023-07-09T14:37:15.656Z"
   },
   {
    "duration": 6,
    "start_time": "2023-07-09T14:37:15.737Z"
   },
   {
    "duration": 183,
    "start_time": "2023-07-09T14:37:15.745Z"
   },
   {
    "duration": 196,
    "start_time": "2023-07-09T14:37:15.931Z"
   },
   {
    "duration": 450,
    "start_time": "2023-07-09T14:37:16.132Z"
   },
   {
    "duration": 161,
    "start_time": "2023-07-09T14:37:16.584Z"
   },
   {
    "duration": 91,
    "start_time": "2023-07-09T14:37:16.747Z"
   },
   {
    "duration": 25,
    "start_time": "2023-07-09T14:37:16.840Z"
   },
   {
    "duration": 272,
    "start_time": "2023-07-09T14:37:16.868Z"
   },
   {
    "duration": 10024,
    "start_time": "2023-07-09T14:37:17.142Z"
   },
   {
    "duration": 29,
    "start_time": "2023-07-09T14:37:27.168Z"
   },
   {
    "duration": 104,
    "start_time": "2023-07-09T14:37:27.208Z"
   },
   {
    "duration": 6198,
    "start_time": "2023-07-09T14:37:27.319Z"
   },
   {
    "duration": 332,
    "start_time": "2023-07-09T14:37:33.521Z"
   },
   {
    "duration": 830,
    "start_time": "2023-07-09T14:37:33.855Z"
   },
   {
    "duration": 21500,
    "start_time": "2023-07-09T14:37:34.688Z"
   },
   {
    "duration": 99,
    "start_time": "2023-07-09T14:37:56.190Z"
   },
   {
    "duration": 62,
    "start_time": "2023-07-09T14:37:56.291Z"
   },
   {
    "duration": 5,
    "start_time": "2023-07-09T14:37:56.355Z"
   },
   {
    "duration": 1287,
    "start_time": "2023-07-09T14:37:56.362Z"
   },
   {
    "duration": 203,
    "start_time": "2023-07-09T14:37:57.652Z"
   },
   {
    "duration": 576,
    "start_time": "2023-07-09T14:37:57.857Z"
   },
   {
    "duration": 106698,
    "start_time": "2023-07-09T14:37:58.435Z"
   },
   {
    "duration": 7,
    "start_time": "2023-07-09T14:39:45.217Z"
   },
   {
    "duration": 2709,
    "start_time": "2023-07-09T19:02:08.532Z"
   },
   {
    "duration": 3915,
    "start_time": "2023-07-09T19:02:11.244Z"
   },
   {
    "duration": 1558,
    "start_time": "2023-07-09T19:02:15.161Z"
   },
   {
    "duration": 4,
    "start_time": "2023-07-09T19:02:16.721Z"
   },
   {
    "duration": 29,
    "start_time": "2023-07-09T19:02:16.727Z"
   },
   {
    "duration": 488,
    "start_time": "2023-07-09T19:02:16.758Z"
   },
   {
    "duration": 35675,
    "start_time": "2023-07-09T19:02:17.248Z"
   },
   {
    "duration": 8,
    "start_time": "2023-07-09T19:02:52.924Z"
   },
   {
    "duration": 626,
    "start_time": "2023-07-09T19:02:52.934Z"
   },
   {
    "duration": 774,
    "start_time": "2023-07-09T19:02:53.563Z"
   },
   {
    "duration": 17,
    "start_time": "2023-07-09T19:02:54.339Z"
   },
   {
    "duration": 140,
    "start_time": "2023-07-09T19:02:54.357Z"
   },
   {
    "duration": 25,
    "start_time": "2023-07-09T19:02:54.499Z"
   },
   {
    "duration": 15,
    "start_time": "2023-07-09T19:02:54.527Z"
   },
   {
    "duration": 12,
    "start_time": "2023-07-09T19:02:54.544Z"
   },
   {
    "duration": 14,
    "start_time": "2023-07-09T19:02:54.559Z"
   },
   {
    "duration": 1600,
    "start_time": "2023-07-09T19:02:54.575Z"
   },
   {
    "duration": 79,
    "start_time": "2023-07-09T19:02:56.178Z"
   },
   {
    "duration": 9,
    "start_time": "2023-07-09T19:02:56.259Z"
   },
   {
    "duration": 10,
    "start_time": "2023-07-09T19:02:56.270Z"
   },
   {
    "duration": 103,
    "start_time": "2023-07-09T19:02:56.282Z"
   },
   {
    "duration": 149,
    "start_time": "2023-07-09T19:02:56.387Z"
   },
   {
    "duration": 7,
    "start_time": "2023-07-09T19:02:56.539Z"
   },
   {
    "duration": 540,
    "start_time": "2023-07-09T19:02:56.548Z"
   },
   {
    "duration": 34,
    "start_time": "2023-07-09T19:02:57.090Z"
   },
   {
    "duration": 33,
    "start_time": "2023-07-09T19:02:57.126Z"
   },
   {
    "duration": 66,
    "start_time": "2023-07-09T19:02:57.161Z"
   },
   {
    "duration": 296,
    "start_time": "2023-07-09T19:02:57.231Z"
   },
   {
    "duration": 26,
    "start_time": "2023-07-09T19:02:57.530Z"
   },
   {
    "duration": 461,
    "start_time": "2023-07-09T19:02:57.557Z"
   },
   {
    "duration": 24,
    "start_time": "2023-07-09T19:02:58.020Z"
   },
   {
    "duration": 216,
    "start_time": "2023-07-09T19:02:58.045Z"
   },
   {
    "duration": 8,
    "start_time": "2023-07-09T19:02:58.263Z"
   },
   {
    "duration": 178,
    "start_time": "2023-07-09T19:02:58.272Z"
   },
   {
    "duration": 147,
    "start_time": "2023-07-09T19:02:58.451Z"
   },
   {
    "duration": 453,
    "start_time": "2023-07-09T19:02:58.599Z"
   },
   {
    "duration": 167,
    "start_time": "2023-07-09T19:02:59.054Z"
   },
   {
    "duration": 79,
    "start_time": "2023-07-09T19:02:59.222Z"
   },
   {
    "duration": 37,
    "start_time": "2023-07-09T19:02:59.303Z"
   },
   {
    "duration": 277,
    "start_time": "2023-07-09T19:02:59.342Z"
   },
   {
    "duration": 10162,
    "start_time": "2023-07-09T19:02:59.621Z"
   },
   {
    "duration": 43,
    "start_time": "2023-07-09T19:03:09.784Z"
   },
   {
    "duration": 111,
    "start_time": "2023-07-09T19:03:09.830Z"
   },
   {
    "duration": 6094,
    "start_time": "2023-07-09T19:03:09.943Z"
   },
   {
    "duration": 401,
    "start_time": "2023-07-09T19:03:16.039Z"
   },
   {
    "duration": 404,
    "start_time": "2023-07-09T19:03:16.442Z"
   },
   {
    "duration": 21239,
    "start_time": "2023-07-09T19:03:16.848Z"
   },
   {
    "duration": 93,
    "start_time": "2023-07-09T19:03:38.089Z"
   },
   {
    "duration": 98,
    "start_time": "2023-07-09T19:03:38.184Z"
   },
   {
    "duration": 89,
    "start_time": "2023-07-09T19:03:38.283Z"
   },
   {
    "duration": 1352,
    "start_time": "2023-07-09T19:03:38.374Z"
   },
   {
    "duration": 175,
    "start_time": "2023-07-09T19:03:39.728Z"
   },
   {
    "duration": 560,
    "start_time": "2023-07-09T19:03:39.910Z"
   },
   {
    "duration": 87445,
    "start_time": "2023-07-09T19:03:40.472Z"
   },
   {
    "duration": 5,
    "start_time": "2023-07-09T19:05:07.919Z"
   },
   {
    "duration": 7972633,
    "start_time": "2023-07-09T19:05:07.930Z"
   },
   {
    "duration": 0,
    "start_time": "2023-07-09T21:18:00.566Z"
   },
   {
    "duration": 0,
    "start_time": "2023-07-09T21:18:00.567Z"
   },
   {
    "duration": 0,
    "start_time": "2023-07-09T21:18:00.569Z"
   },
   {
    "duration": 0,
    "start_time": "2023-07-09T21:18:00.571Z"
   },
   {
    "duration": 0,
    "start_time": "2023-07-09T21:18:00.572Z"
   },
   {
    "duration": 3073,
    "start_time": "2023-07-09T21:19:35.590Z"
   },
   {
    "duration": 7734,
    "start_time": "2023-07-09T21:19:38.666Z"
   },
   {
    "duration": 1784,
    "start_time": "2023-07-09T21:19:46.401Z"
   },
   {
    "duration": 4,
    "start_time": "2023-07-09T21:19:48.187Z"
   },
   {
    "duration": 26,
    "start_time": "2023-07-09T21:19:48.192Z"
   },
   {
    "duration": 668,
    "start_time": "2023-07-09T21:19:48.222Z"
   },
   {
    "duration": 7,
    "start_time": "2023-07-09T21:19:48.892Z"
   },
   {
    "duration": 724,
    "start_time": "2023-07-09T21:19:48.901Z"
   },
   {
    "duration": 1000,
    "start_time": "2023-07-09T21:19:49.627Z"
   },
   {
    "duration": 21,
    "start_time": "2023-07-09T21:19:50.630Z"
   },
   {
    "duration": 154,
    "start_time": "2023-07-09T21:19:50.653Z"
   },
   {
    "duration": 35,
    "start_time": "2023-07-09T21:19:50.814Z"
   },
   {
    "duration": 35,
    "start_time": "2023-07-09T21:19:50.851Z"
   },
   {
    "duration": 20,
    "start_time": "2023-07-09T21:19:50.887Z"
   },
   {
    "duration": 41,
    "start_time": "2023-07-09T21:19:50.914Z"
   },
   {
    "duration": 1603,
    "start_time": "2023-07-09T21:19:50.956Z"
   },
   {
    "duration": 86,
    "start_time": "2023-07-09T21:19:52.562Z"
   },
   {
    "duration": 8,
    "start_time": "2023-07-09T21:19:52.650Z"
   },
   {
    "duration": 108,
    "start_time": "2023-07-09T21:19:52.660Z"
   },
   {
    "duration": 83,
    "start_time": "2023-07-09T21:19:52.771Z"
   },
   {
    "duration": 195,
    "start_time": "2023-07-09T21:19:52.856Z"
   },
   {
    "duration": 11,
    "start_time": "2023-07-09T21:19:53.053Z"
   },
   {
    "duration": 489,
    "start_time": "2023-07-09T21:19:53.066Z"
   },
   {
    "duration": 18,
    "start_time": "2023-07-09T21:19:53.557Z"
   },
   {
    "duration": 63,
    "start_time": "2023-07-09T21:19:53.577Z"
   },
   {
    "duration": 50,
    "start_time": "2023-07-09T21:19:53.643Z"
   },
   {
    "duration": 504,
    "start_time": "2023-07-09T21:19:53.695Z"
   },
   {
    "duration": 33,
    "start_time": "2023-07-09T21:19:54.212Z"
   },
   {
    "duration": 492,
    "start_time": "2023-07-09T21:19:54.247Z"
   },
   {
    "duration": 18,
    "start_time": "2023-07-09T21:19:54.745Z"
   },
   {
    "duration": 85,
    "start_time": "2023-07-09T21:19:54.765Z"
   },
   {
    "duration": 9,
    "start_time": "2023-07-09T21:19:54.853Z"
   },
   {
    "duration": 176,
    "start_time": "2023-07-09T21:19:54.865Z"
   },
   {
    "duration": 154,
    "start_time": "2023-07-09T21:19:55.045Z"
   },
   {
    "duration": 468,
    "start_time": "2023-07-09T21:19:55.201Z"
   },
   {
    "duration": 191,
    "start_time": "2023-07-09T21:19:55.671Z"
   },
   {
    "duration": 123,
    "start_time": "2023-07-09T21:19:55.865Z"
   },
   {
    "duration": 51,
    "start_time": "2023-07-09T21:19:55.991Z"
   },
   {
    "duration": 333,
    "start_time": "2023-07-09T21:19:56.044Z"
   },
   {
    "duration": 11165,
    "start_time": "2023-07-09T21:19:56.379Z"
   },
   {
    "duration": 33,
    "start_time": "2023-07-09T21:20:07.555Z"
   },
   {
    "duration": 103,
    "start_time": "2023-07-09T21:20:07.590Z"
   },
   {
    "duration": 7312,
    "start_time": "2023-07-09T21:20:07.695Z"
   },
   {
    "duration": 358,
    "start_time": "2023-07-09T21:20:15.018Z"
   },
   {
    "duration": 400,
    "start_time": "2023-07-09T21:20:15.378Z"
   },
   {
    "duration": 23414,
    "start_time": "2023-07-09T21:20:15.780Z"
   },
   {
    "duration": 116,
    "start_time": "2023-07-09T21:20:39.196Z"
   },
   {
    "duration": 56,
    "start_time": "2023-07-09T21:20:39.314Z"
   },
   {
    "duration": 12,
    "start_time": "2023-07-09T21:20:39.373Z"
   },
   {
    "duration": 1388,
    "start_time": "2023-07-09T21:20:39.388Z"
   },
   {
    "duration": 200,
    "start_time": "2023-07-09T21:20:40.778Z"
   },
   {
    "duration": 593,
    "start_time": "2023-07-09T21:20:40.980Z"
   },
   {
    "duration": 90680,
    "start_time": "2023-07-09T21:20:41.575Z"
   },
   {
    "duration": 8,
    "start_time": "2023-07-09T21:22:12.311Z"
   },
   {
    "duration": 2582,
    "start_time": "2023-07-09T21:22:12.321Z"
   },
   {
    "duration": 0,
    "start_time": "2023-07-09T21:22:14.905Z"
   },
   {
    "duration": 0,
    "start_time": "2023-07-09T21:22:14.906Z"
   },
   {
    "duration": 0,
    "start_time": "2023-07-09T21:22:14.925Z"
   },
   {
    "duration": 0,
    "start_time": "2023-07-09T21:22:14.930Z"
   },
   {
    "duration": 0,
    "start_time": "2023-07-09T21:22:14.931Z"
   },
   {
    "duration": 7,
    "start_time": "2023-07-09T21:22:34.832Z"
   },
   {
    "duration": 9306051,
    "start_time": "2023-07-09T21:22:38.283Z"
   },
   {
    "duration": 5077210,
    "start_time": "2023-07-09T23:57:44.336Z"
   },
   {
    "duration": 106945,
    "start_time": "2023-07-10T01:22:21.548Z"
   },
   {
    "duration": 34,
    "start_time": "2023-07-10T01:24:08.495Z"
   },
   {
    "duration": 204,
    "start_time": "2023-07-10T01:24:08.531Z"
   },
   {
    "duration": 8,
    "start_time": "2023-07-10T01:24:08.737Z"
   },
   {
    "duration": 686,
    "start_time": "2023-07-10T07:04:58.837Z"
   },
   {
    "duration": 17,
    "start_time": "2023-07-10T07:05:35.336Z"
   },
   {
    "duration": 854,
    "start_time": "2023-07-10T07:05:40.033Z"
   },
   {
    "duration": 43030,
    "start_time": "2023-07-10T07:05:55.149Z"
   },
   {
    "duration": 2294,
    "start_time": "2023-07-10T07:07:24.161Z"
   },
   {
    "duration": 15,
    "start_time": "2023-07-10T07:07:38.955Z"
   },
   {
    "duration": 1316,
    "start_time": "2023-07-10T07:09:37.766Z"
   },
   {
    "duration": 225,
    "start_time": "2023-07-10T07:09:59.232Z"
   },
   {
    "duration": 225,
    "start_time": "2023-07-10T07:10:04.528Z"
   },
   {
    "duration": 237,
    "start_time": "2023-07-10T07:10:11.061Z"
   },
   {
    "duration": 1623,
    "start_time": "2023-07-10T07:12:13.860Z"
   },
   {
    "duration": 1398,
    "start_time": "2023-07-10T07:12:21.282Z"
   },
   {
    "duration": 572,
    "start_time": "2023-07-10T07:12:25.699Z"
   },
   {
    "duration": 17250,
    "start_time": "2023-07-10T16:25:23.602Z"
   },
   {
    "duration": 2563,
    "start_time": "2023-07-10T16:25:40.855Z"
   },
   {
    "duration": 1593,
    "start_time": "2023-07-10T16:25:43.419Z"
   },
   {
    "duration": 3,
    "start_time": "2023-07-10T16:25:45.014Z"
   },
   {
    "duration": 23,
    "start_time": "2023-07-10T16:25:45.019Z"
   },
   {
    "duration": 418,
    "start_time": "2023-07-10T16:25:45.044Z"
   },
   {
    "duration": 1198,
    "start_time": "2023-07-10T16:25:45.463Z"
   },
   {
    "duration": 477,
    "start_time": "2023-07-10T16:25:46.662Z"
   },
   {
    "duration": 6,
    "start_time": "2023-07-10T16:25:47.141Z"
   },
   {
    "duration": 552,
    "start_time": "2023-07-10T16:25:47.161Z"
   },
   {
    "duration": 726,
    "start_time": "2023-07-10T16:25:47.715Z"
   },
   {
    "duration": 175,
    "start_time": "2023-07-10T16:25:48.443Z"
   },
   {
    "duration": 115,
    "start_time": "2023-07-10T16:25:48.620Z"
   },
   {
    "duration": 23,
    "start_time": "2023-07-10T16:25:48.737Z"
   },
   {
    "duration": 6,
    "start_time": "2023-07-10T16:25:48.762Z"
   },
   {
    "duration": 12,
    "start_time": "2023-07-10T16:25:48.770Z"
   },
   {
    "duration": 7,
    "start_time": "2023-07-10T16:25:48.784Z"
   },
   {
    "duration": 1320,
    "start_time": "2023-07-10T16:25:48.793Z"
   },
   {
    "duration": 66,
    "start_time": "2023-07-10T16:25:50.115Z"
   },
   {
    "duration": 5,
    "start_time": "2023-07-10T16:25:50.184Z"
   },
   {
    "duration": 36,
    "start_time": "2023-07-10T16:25:50.191Z"
   },
   {
    "duration": 53,
    "start_time": "2023-07-10T16:25:50.229Z"
   },
   {
    "duration": 128,
    "start_time": "2023-07-10T16:25:50.284Z"
   },
   {
    "duration": 8,
    "start_time": "2023-07-10T16:25:50.413Z"
   },
   {
    "duration": 399,
    "start_time": "2023-07-10T16:25:50.422Z"
   },
   {
    "duration": 16,
    "start_time": "2023-07-10T16:25:50.823Z"
   },
   {
    "duration": 46,
    "start_time": "2023-07-10T16:25:50.841Z"
   },
   {
    "duration": 42,
    "start_time": "2023-07-10T16:25:50.892Z"
   },
   {
    "duration": 297,
    "start_time": "2023-07-10T16:25:50.937Z"
   },
   {
    "duration": 34,
    "start_time": "2023-07-10T16:25:51.236Z"
   },
   {
    "duration": 557,
    "start_time": "2023-07-10T16:25:51.272Z"
   },
   {
    "duration": 15,
    "start_time": "2023-07-10T16:25:51.831Z"
   },
   {
    "duration": 81,
    "start_time": "2023-07-10T16:25:51.859Z"
   },
   {
    "duration": 6,
    "start_time": "2023-07-10T16:25:51.941Z"
   },
   {
    "duration": 137,
    "start_time": "2023-07-10T16:25:51.949Z"
   },
   {
    "duration": 125,
    "start_time": "2023-07-10T16:25:52.088Z"
   },
   {
    "duration": 386,
    "start_time": "2023-07-10T16:25:52.215Z"
   },
   {
    "duration": 139,
    "start_time": "2023-07-10T16:25:52.603Z"
   },
   {
    "duration": 80,
    "start_time": "2023-07-10T16:25:52.743Z"
   },
   {
    "duration": 24,
    "start_time": "2023-07-10T16:25:52.825Z"
   },
   {
    "duration": 234,
    "start_time": "2023-07-10T16:25:52.858Z"
   },
   {
    "duration": 9127,
    "start_time": "2023-07-10T16:25:53.094Z"
   },
   {
    "duration": 37,
    "start_time": "2023-07-10T16:26:02.222Z"
   },
   {
    "duration": 113,
    "start_time": "2023-07-10T16:26:02.261Z"
   },
   {
    "duration": 5326,
    "start_time": "2023-07-10T16:26:02.377Z"
   },
   {
    "duration": 310,
    "start_time": "2023-07-10T16:26:07.705Z"
   },
   {
    "duration": 338,
    "start_time": "2023-07-10T16:26:08.017Z"
   },
   {
    "duration": 18646,
    "start_time": "2023-07-10T16:26:08.360Z"
   },
   {
    "duration": 85,
    "start_time": "2023-07-10T16:26:27.008Z"
   },
   {
    "duration": 37,
    "start_time": "2023-07-10T16:26:27.095Z"
   },
   {
    "duration": 4,
    "start_time": "2023-07-10T16:26:27.134Z"
   },
   {
    "duration": 909,
    "start_time": "2023-07-10T16:26:27.139Z"
   },
   {
    "duration": 190,
    "start_time": "2023-07-10T16:26:28.050Z"
   },
   {
    "duration": 0,
    "start_time": "2023-07-10T16:26:28.241Z"
   },
   {
    "duration": 0,
    "start_time": "2023-07-10T16:26:28.243Z"
   },
   {
    "duration": 0,
    "start_time": "2023-07-10T16:26:28.244Z"
   },
   {
    "duration": 0,
    "start_time": "2023-07-10T16:26:28.245Z"
   },
   {
    "duration": 0,
    "start_time": "2023-07-10T16:26:28.246Z"
   },
   {
    "duration": 0,
    "start_time": "2023-07-10T16:26:28.247Z"
   },
   {
    "duration": 0,
    "start_time": "2023-07-10T16:26:28.248Z"
   },
   {
    "duration": 0,
    "start_time": "2023-07-10T16:26:28.249Z"
   },
   {
    "duration": 0,
    "start_time": "2023-07-10T16:26:28.249Z"
   },
   {
    "duration": 0,
    "start_time": "2023-07-10T16:26:28.250Z"
   },
   {
    "duration": 134,
    "start_time": "2023-07-10T16:28:04.526Z"
   },
   {
    "duration": 25,
    "start_time": "2023-07-10T16:34:00.207Z"
   },
   {
    "duration": 2773,
    "start_time": "2023-07-10T16:43:30.898Z"
   },
   {
    "duration": 2312,
    "start_time": "2023-07-10T16:46:09.212Z"
   },
   {
    "duration": 1812,
    "start_time": "2023-07-10T16:46:11.526Z"
   },
   {
    "duration": 1613,
    "start_time": "2023-07-10T16:46:13.340Z"
   },
   {
    "duration": 5,
    "start_time": "2023-07-10T16:46:14.955Z"
   },
   {
    "duration": 9,
    "start_time": "2023-07-10T16:46:14.962Z"
   },
   {
    "duration": 498,
    "start_time": "2023-07-10T16:46:14.973Z"
   },
   {
    "duration": 1435,
    "start_time": "2023-07-10T16:46:15.473Z"
   },
   {
    "duration": 513,
    "start_time": "2023-07-10T16:46:16.910Z"
   },
   {
    "duration": 7,
    "start_time": "2023-07-10T16:46:17.426Z"
   },
   {
    "duration": 563,
    "start_time": "2023-07-10T16:46:17.436Z"
   },
   {
    "duration": 746,
    "start_time": "2023-07-10T16:46:18.001Z"
   },
   {
    "duration": 20,
    "start_time": "2023-07-10T16:46:18.748Z"
   },
   {
    "duration": 120,
    "start_time": "2023-07-10T16:46:18.770Z"
   },
   {
    "duration": 14,
    "start_time": "2023-07-10T16:46:18.893Z"
   },
   {
    "duration": 12,
    "start_time": "2023-07-10T16:46:18.908Z"
   },
   {
    "duration": 8,
    "start_time": "2023-07-10T16:46:18.921Z"
   },
   {
    "duration": 30,
    "start_time": "2023-07-10T16:46:18.931Z"
   },
   {
    "duration": 1479,
    "start_time": "2023-07-10T16:46:18.962Z"
   },
   {
    "duration": 60,
    "start_time": "2023-07-10T16:46:20.443Z"
   },
   {
    "duration": 6,
    "start_time": "2023-07-10T16:46:20.504Z"
   },
   {
    "duration": 6,
    "start_time": "2023-07-10T16:46:20.512Z"
   },
   {
    "duration": 73,
    "start_time": "2023-07-10T16:46:20.520Z"
   },
   {
    "duration": 131,
    "start_time": "2023-07-10T16:46:20.594Z"
   },
   {
    "duration": 7,
    "start_time": "2023-07-10T16:46:20.726Z"
   },
   {
    "duration": 386,
    "start_time": "2023-07-10T16:46:20.735Z"
   },
   {
    "duration": 16,
    "start_time": "2023-07-10T16:46:21.123Z"
   },
   {
    "duration": 45,
    "start_time": "2023-07-10T16:46:21.140Z"
   },
   {
    "duration": 52,
    "start_time": "2023-07-10T16:46:21.190Z"
   },
   {
    "duration": 280,
    "start_time": "2023-07-10T16:46:21.259Z"
   },
   {
    "duration": 31,
    "start_time": "2023-07-10T16:46:21.541Z"
   },
   {
    "duration": 421,
    "start_time": "2023-07-10T16:46:21.575Z"
   },
   {
    "duration": 14,
    "start_time": "2023-07-10T16:46:21.998Z"
   },
   {
    "duration": 73,
    "start_time": "2023-07-10T16:46:22.013Z"
   },
   {
    "duration": 6,
    "start_time": "2023-07-10T16:46:22.088Z"
   },
   {
    "duration": 134,
    "start_time": "2023-07-10T16:46:22.095Z"
   },
   {
    "duration": 125,
    "start_time": "2023-07-10T16:46:22.231Z"
   },
   {
    "duration": 365,
    "start_time": "2023-07-10T16:46:22.359Z"
   },
   {
    "duration": 182,
    "start_time": "2023-07-10T16:46:22.726Z"
   },
   {
    "duration": 28,
    "start_time": "2023-07-10T16:46:22.910Z"
   },
   {
    "duration": 7,
    "start_time": "2023-07-10T16:46:22.939Z"
   },
   {
    "duration": 229,
    "start_time": "2023-07-10T16:46:22.959Z"
   },
   {
    "duration": 200,
    "start_time": "2023-07-10T16:46:23.190Z"
   },
   {
    "duration": 0,
    "start_time": "2023-07-10T16:46:23.392Z"
   },
   {
    "duration": 0,
    "start_time": "2023-07-10T16:46:23.393Z"
   },
   {
    "duration": 0,
    "start_time": "2023-07-10T16:46:23.394Z"
   },
   {
    "duration": 0,
    "start_time": "2023-07-10T16:46:23.395Z"
   },
   {
    "duration": 0,
    "start_time": "2023-07-10T16:46:23.396Z"
   },
   {
    "duration": 0,
    "start_time": "2023-07-10T16:46:23.397Z"
   },
   {
    "duration": 0,
    "start_time": "2023-07-10T16:46:23.398Z"
   },
   {
    "duration": 0,
    "start_time": "2023-07-10T16:46:23.399Z"
   },
   {
    "duration": 0,
    "start_time": "2023-07-10T16:46:23.400Z"
   },
   {
    "duration": 0,
    "start_time": "2023-07-10T16:46:23.401Z"
   },
   {
    "duration": 0,
    "start_time": "2023-07-10T16:46:23.403Z"
   },
   {
    "duration": 0,
    "start_time": "2023-07-10T16:46:23.404Z"
   },
   {
    "duration": 0,
    "start_time": "2023-07-10T16:46:23.404Z"
   },
   {
    "duration": 0,
    "start_time": "2023-07-10T16:46:23.405Z"
   },
   {
    "duration": 0,
    "start_time": "2023-07-10T16:46:23.406Z"
   },
   {
    "duration": 0,
    "start_time": "2023-07-10T16:46:23.407Z"
   },
   {
    "duration": 0,
    "start_time": "2023-07-10T16:46:23.408Z"
   },
   {
    "duration": 0,
    "start_time": "2023-07-10T16:46:23.409Z"
   },
   {
    "duration": 0,
    "start_time": "2023-07-10T16:46:23.410Z"
   },
   {
    "duration": 0,
    "start_time": "2023-07-10T16:46:23.411Z"
   },
   {
    "duration": 0,
    "start_time": "2023-07-10T16:46:23.412Z"
   },
   {
    "duration": 6412,
    "start_time": "2023-07-10T16:48:03.132Z"
   },
   {
    "duration": 26,
    "start_time": "2023-07-10T16:48:13.519Z"
   },
   {
    "duration": 74,
    "start_time": "2023-07-10T16:48:16.587Z"
   },
   {
    "duration": 5334,
    "start_time": "2023-07-10T16:48:19.066Z"
   },
   {
    "duration": 420,
    "start_time": "2023-07-10T16:48:28.401Z"
   },
   {
    "duration": 339,
    "start_time": "2023-07-10T16:48:31.120Z"
   },
   {
    "duration": 18085,
    "start_time": "2023-07-10T16:48:35.008Z"
   },
   {
    "duration": 65,
    "start_time": "2023-07-10T16:48:53.095Z"
   },
   {
    "duration": 30,
    "start_time": "2023-07-10T16:48:58.396Z"
   },
   {
    "duration": 4,
    "start_time": "2023-07-10T16:49:01.090Z"
   },
   {
    "duration": 1863,
    "start_time": "2023-07-10T16:49:07.211Z"
   },
   {
    "duration": 47,
    "start_time": "2023-07-10T20:20:09.867Z"
   },
   {
    "duration": 2888,
    "start_time": "2023-07-10T20:20:21.207Z"
   },
   {
    "duration": 1627,
    "start_time": "2023-07-10T20:20:24.097Z"
   },
   {
    "duration": 1571,
    "start_time": "2023-07-10T20:20:25.726Z"
   },
   {
    "duration": 3,
    "start_time": "2023-07-10T20:20:27.299Z"
   },
   {
    "duration": 7,
    "start_time": "2023-07-10T20:20:27.304Z"
   },
   {
    "duration": 401,
    "start_time": "2023-07-10T20:20:27.313Z"
   },
   {
    "duration": 1083,
    "start_time": "2023-07-10T20:20:27.716Z"
   },
   {
    "duration": 418,
    "start_time": "2023-07-10T20:20:28.801Z"
   },
   {
    "duration": 7,
    "start_time": "2023-07-10T20:20:29.221Z"
   },
   {
    "duration": 513,
    "start_time": "2023-07-10T20:20:29.230Z"
   },
   {
    "duration": 698,
    "start_time": "2023-07-10T20:20:29.745Z"
   },
   {
    "duration": 21,
    "start_time": "2023-07-10T20:20:30.445Z"
   },
   {
    "duration": 120,
    "start_time": "2023-07-10T20:20:30.475Z"
   },
   {
    "duration": 13,
    "start_time": "2023-07-10T20:20:30.597Z"
   },
   {
    "duration": 51,
    "start_time": "2023-07-10T20:20:30.611Z"
   },
   {
    "duration": 77,
    "start_time": "2023-07-10T20:20:30.664Z"
   },
   {
    "duration": 54,
    "start_time": "2023-07-10T20:20:30.742Z"
   },
   {
    "duration": 1386,
    "start_time": "2023-07-10T20:20:30.798Z"
   },
   {
    "duration": 61,
    "start_time": "2023-07-10T20:20:32.185Z"
   },
   {
    "duration": 6,
    "start_time": "2023-07-10T20:20:32.247Z"
   },
   {
    "duration": 20,
    "start_time": "2023-07-10T20:20:32.255Z"
   },
   {
    "duration": 56,
    "start_time": "2023-07-10T20:20:32.277Z"
   },
   {
    "duration": 116,
    "start_time": "2023-07-10T20:20:32.335Z"
   },
   {
    "duration": 11,
    "start_time": "2023-07-10T20:20:32.453Z"
   },
   {
    "duration": 370,
    "start_time": "2023-07-10T20:20:32.476Z"
   },
   {
    "duration": 29,
    "start_time": "2023-07-10T20:20:32.847Z"
   },
   {
    "duration": 26,
    "start_time": "2023-07-10T20:20:32.877Z"
   },
   {
    "duration": 37,
    "start_time": "2023-07-10T20:20:32.906Z"
   },
   {
    "duration": 254,
    "start_time": "2023-07-10T20:20:32.945Z"
   },
   {
    "duration": 19,
    "start_time": "2023-07-10T20:20:33.201Z"
   },
   {
    "duration": 399,
    "start_time": "2023-07-10T20:20:33.222Z"
   },
   {
    "duration": 14,
    "start_time": "2023-07-10T20:20:33.623Z"
   },
   {
    "duration": 71,
    "start_time": "2023-07-10T20:20:33.639Z"
   },
   {
    "duration": 6,
    "start_time": "2023-07-10T20:20:33.712Z"
   },
   {
    "duration": 132,
    "start_time": "2023-07-10T20:20:33.720Z"
   },
   {
    "duration": 129,
    "start_time": "2023-07-10T20:20:33.854Z"
   },
   {
    "duration": 343,
    "start_time": "2023-07-10T20:20:33.985Z"
   },
   {
    "duration": 192,
    "start_time": "2023-07-10T20:20:34.330Z"
   },
   {
    "duration": 30,
    "start_time": "2023-07-10T20:20:34.524Z"
   },
   {
    "duration": 7,
    "start_time": "2023-07-10T20:20:34.555Z"
   },
   {
    "duration": 184,
    "start_time": "2023-07-10T20:20:34.575Z"
   },
   {
    "duration": 5428,
    "start_time": "2023-07-10T20:20:34.761Z"
   },
   {
    "duration": 28,
    "start_time": "2023-07-10T20:20:40.190Z"
   },
   {
    "duration": 85,
    "start_time": "2023-07-10T20:20:40.220Z"
   },
   {
    "duration": 4656,
    "start_time": "2023-07-10T20:20:40.307Z"
   },
   {
    "duration": 437,
    "start_time": "2023-07-10T20:20:44.965Z"
   },
   {
    "duration": 328,
    "start_time": "2023-07-10T20:20:45.404Z"
   },
   {
    "duration": 16123,
    "start_time": "2023-07-10T20:20:45.734Z"
   },
   {
    "duration": 68,
    "start_time": "2023-07-10T20:21:01.858Z"
   },
   {
    "duration": 25,
    "start_time": "2023-07-10T20:21:01.928Z"
   },
   {
    "duration": 38,
    "start_time": "2023-07-10T20:21:01.954Z"
   },
   {
    "duration": 1798,
    "start_time": "2023-07-10T20:21:01.994Z"
   },
   {
    "duration": 137,
    "start_time": "2023-07-10T20:21:03.794Z"
   },
   {
    "duration": 0,
    "start_time": "2023-07-10T20:21:03.932Z"
   },
   {
    "duration": 0,
    "start_time": "2023-07-10T20:21:03.934Z"
   },
   {
    "duration": 0,
    "start_time": "2023-07-10T20:21:03.935Z"
   },
   {
    "duration": 0,
    "start_time": "2023-07-10T20:21:03.936Z"
   },
   {
    "duration": 0,
    "start_time": "2023-07-10T20:21:03.937Z"
   },
   {
    "duration": 0,
    "start_time": "2023-07-10T20:21:03.938Z"
   },
   {
    "duration": 1,
    "start_time": "2023-07-10T20:21:03.939Z"
   },
   {
    "duration": 0,
    "start_time": "2023-07-10T20:21:03.940Z"
   },
   {
    "duration": 0,
    "start_time": "2023-07-10T20:21:03.942Z"
   },
   {
    "duration": 0,
    "start_time": "2023-07-10T20:21:03.943Z"
   },
   {
    "duration": 37,
    "start_time": "2023-07-10T20:21:46.246Z"
   },
   {
    "duration": 87,
    "start_time": "2023-07-10T20:23:08.799Z"
   },
   {
    "duration": 6,
    "start_time": "2023-07-10T20:41:30.685Z"
   },
   {
    "duration": 1189,
    "start_time": "2023-07-10T20:55:16.195Z"
   },
   {
    "duration": 15,
    "start_time": "2023-07-10T20:55:29.199Z"
   },
   {
    "duration": 5,
    "start_time": "2023-07-10T20:57:29.764Z"
   },
   {
    "duration": 3,
    "start_time": "2023-07-10T20:59:24.702Z"
   },
   {
    "duration": 882,
    "start_time": "2023-07-10T20:59:33.994Z"
   },
   {
    "duration": 8,
    "start_time": "2023-07-10T21:01:13.163Z"
   },
   {
    "duration": 9,
    "start_time": "2023-07-10T21:01:19.003Z"
   },
   {
    "duration": 9,
    "start_time": "2023-07-10T21:09:58.894Z"
   },
   {
    "duration": 11,
    "start_time": "2023-07-10T21:10:06.713Z"
   },
   {
    "duration": 2,
    "start_time": "2023-07-10T21:10:11.678Z"
   },
   {
    "duration": 3,
    "start_time": "2023-07-10T21:12:50.929Z"
   },
   {
    "duration": 991,
    "start_time": "2023-07-10T21:12:53.285Z"
   },
   {
    "duration": 4,
    "start_time": "2023-07-10T21:13:25.617Z"
   },
   {
    "duration": 3,
    "start_time": "2023-07-10T21:13:50.525Z"
   },
   {
    "duration": 64177,
    "start_time": "2023-07-10T21:14:00.386Z"
   },
   {
    "duration": 2212,
    "start_time": "2023-07-10T21:16:26.022Z"
   },
   {
    "duration": 1395,
    "start_time": "2023-07-10T21:16:28.236Z"
   },
   {
    "duration": 1309,
    "start_time": "2023-07-10T21:16:29.632Z"
   },
   {
    "duration": 2,
    "start_time": "2023-07-10T21:16:30.944Z"
   },
   {
    "duration": 55,
    "start_time": "2023-07-10T21:16:30.948Z"
   },
   {
    "duration": 465,
    "start_time": "2023-07-10T21:16:31.005Z"
   },
   {
    "duration": 1115,
    "start_time": "2023-07-10T21:16:31.472Z"
   },
   {
    "duration": 431,
    "start_time": "2023-07-10T21:16:32.589Z"
   },
   {
    "duration": 6,
    "start_time": "2023-07-10T21:16:33.022Z"
   },
   {
    "duration": 487,
    "start_time": "2023-07-10T21:16:33.030Z"
   },
   {
    "duration": 676,
    "start_time": "2023-07-10T21:16:33.520Z"
   },
   {
    "duration": 12,
    "start_time": "2023-07-10T21:16:34.197Z"
   },
   {
    "duration": 102,
    "start_time": "2023-07-10T21:16:34.211Z"
   },
   {
    "duration": 13,
    "start_time": "2023-07-10T21:16:34.315Z"
   },
   {
    "duration": 9,
    "start_time": "2023-07-10T21:16:34.329Z"
   },
   {
    "duration": 7,
    "start_time": "2023-07-10T21:16:34.340Z"
   },
   {
    "duration": 29,
    "start_time": "2023-07-10T21:16:34.348Z"
   },
   {
    "duration": 1301,
    "start_time": "2023-07-10T21:16:34.379Z"
   },
   {
    "duration": 57,
    "start_time": "2023-07-10T21:16:35.682Z"
   },
   {
    "duration": 6,
    "start_time": "2023-07-10T21:16:35.740Z"
   },
   {
    "duration": 36,
    "start_time": "2023-07-10T21:16:35.747Z"
   },
   {
    "duration": 90,
    "start_time": "2023-07-10T21:16:35.784Z"
   },
   {
    "duration": 124,
    "start_time": "2023-07-10T21:16:35.876Z"
   },
   {
    "duration": 7,
    "start_time": "2023-07-10T21:16:36.002Z"
   },
   {
    "duration": 406,
    "start_time": "2023-07-10T21:16:36.010Z"
   },
   {
    "duration": 16,
    "start_time": "2023-07-10T21:16:36.418Z"
   },
   {
    "duration": 47,
    "start_time": "2023-07-10T21:16:36.436Z"
   },
   {
    "duration": 38,
    "start_time": "2023-07-10T21:16:36.487Z"
   },
   {
    "duration": 236,
    "start_time": "2023-07-10T21:16:36.526Z"
   },
   {
    "duration": 26,
    "start_time": "2023-07-10T21:16:36.763Z"
   },
   {
    "duration": 362,
    "start_time": "2023-07-10T21:16:36.791Z"
   },
   {
    "duration": 21,
    "start_time": "2023-07-10T21:16:37.155Z"
   },
   {
    "duration": 57,
    "start_time": "2023-07-10T21:16:37.177Z"
   },
   {
    "duration": 7,
    "start_time": "2023-07-10T21:16:37.235Z"
   },
   {
    "duration": 119,
    "start_time": "2023-07-10T21:16:37.243Z"
   },
   {
    "duration": 120,
    "start_time": "2023-07-10T21:16:37.364Z"
   },
   {
    "duration": 341,
    "start_time": "2023-07-10T21:16:37.485Z"
   },
   {
    "duration": 181,
    "start_time": "2023-07-10T21:16:37.828Z"
   },
   {
    "duration": 32,
    "start_time": "2023-07-10T21:16:38.011Z"
   },
   {
    "duration": 12,
    "start_time": "2023-07-10T21:16:38.045Z"
   },
   {
    "duration": 211,
    "start_time": "2023-07-10T21:16:38.058Z"
   },
   {
    "duration": 5758,
    "start_time": "2023-07-10T21:16:38.270Z"
   },
   {
    "duration": 27,
    "start_time": "2023-07-10T21:16:44.029Z"
   },
   {
    "duration": 81,
    "start_time": "2023-07-10T21:16:44.057Z"
   },
   {
    "duration": 4857,
    "start_time": "2023-07-10T21:16:44.140Z"
   },
   {
    "duration": 370,
    "start_time": "2023-07-10T21:16:48.999Z"
   },
   {
    "duration": 266,
    "start_time": "2023-07-10T21:16:49.371Z"
   },
   {
    "duration": 16923,
    "start_time": "2023-07-10T21:16:49.639Z"
   },
   {
    "duration": 71,
    "start_time": "2023-07-10T21:17:06.563Z"
   },
   {
    "duration": 28,
    "start_time": "2023-07-10T21:17:06.635Z"
   },
   {
    "duration": 4,
    "start_time": "2023-07-10T21:17:06.675Z"
   },
   {
    "duration": 1761,
    "start_time": "2023-07-10T21:17:06.681Z"
   },
   {
    "duration": 49,
    "start_time": "2023-07-10T21:17:08.444Z"
   },
   {
    "duration": 98,
    "start_time": "2023-07-10T21:17:08.495Z"
   },
   {
    "duration": 3,
    "start_time": "2023-07-10T21:17:08.595Z"
   },
   {
    "duration": 1076,
    "start_time": "2023-07-10T21:17:08.600Z"
   },
   {
    "duration": 5,
    "start_time": "2023-07-10T21:17:09.679Z"
   },
   {
    "duration": 111902,
    "start_time": "2023-07-10T21:17:09.686Z"
   },
   {
    "duration": 48906,
    "start_time": "2023-07-10T21:19:01.590Z"
   },
   {
    "duration": 0,
    "start_time": "2023-07-10T21:19:50.498Z"
   },
   {
    "duration": 0,
    "start_time": "2023-07-10T21:19:50.499Z"
   },
   {
    "duration": 0,
    "start_time": "2023-07-10T21:19:50.501Z"
   },
   {
    "duration": 0,
    "start_time": "2023-07-10T21:19:50.502Z"
   },
   {
    "duration": 122371,
    "start_time": "2023-07-10T21:22:41.133Z"
   },
   {
    "duration": 183157,
    "start_time": "2023-07-10T21:25:03.132Z"
   },
   {
    "duration": 417929,
    "start_time": "2023-07-10T21:28:34.369Z"
   },
   {
    "duration": 2203,
    "start_time": "2023-07-10T21:36:46.174Z"
   },
   {
    "duration": 1536,
    "start_time": "2023-07-10T21:36:48.380Z"
   },
   {
    "duration": 1496,
    "start_time": "2023-07-10T21:36:49.917Z"
   },
   {
    "duration": 3,
    "start_time": "2023-07-10T21:36:51.415Z"
   },
   {
    "duration": 11,
    "start_time": "2023-07-10T21:36:51.420Z"
   },
   {
    "duration": 416,
    "start_time": "2023-07-10T21:36:51.432Z"
   },
   {
    "duration": 1147,
    "start_time": "2023-07-10T21:36:51.849Z"
   },
   {
    "duration": 466,
    "start_time": "2023-07-10T21:36:52.998Z"
   },
   {
    "duration": 6,
    "start_time": "2023-07-10T21:36:53.465Z"
   },
   {
    "duration": 509,
    "start_time": "2023-07-10T21:36:53.476Z"
   },
   {
    "duration": 661,
    "start_time": "2023-07-10T21:36:53.987Z"
   },
   {
    "duration": 20,
    "start_time": "2023-07-10T21:36:54.650Z"
   },
   {
    "duration": 194,
    "start_time": "2023-07-10T21:36:54.671Z"
   },
   {
    "duration": 27,
    "start_time": "2023-07-10T21:36:54.867Z"
   },
   {
    "duration": 22,
    "start_time": "2023-07-10T21:36:54.897Z"
   },
   {
    "duration": 23,
    "start_time": "2023-07-10T21:36:54.920Z"
   },
   {
    "duration": 9,
    "start_time": "2023-07-10T21:36:54.945Z"
   },
   {
    "duration": 1279,
    "start_time": "2023-07-10T21:36:54.957Z"
   },
   {
    "duration": 58,
    "start_time": "2023-07-10T21:36:56.237Z"
   },
   {
    "duration": 6,
    "start_time": "2023-07-10T21:36:56.296Z"
   },
   {
    "duration": 8,
    "start_time": "2023-07-10T21:36:56.303Z"
   },
   {
    "duration": 69,
    "start_time": "2023-07-10T21:36:56.313Z"
   },
   {
    "duration": 142,
    "start_time": "2023-07-10T21:36:56.384Z"
   },
   {
    "duration": 10,
    "start_time": "2023-07-10T21:36:56.528Z"
   },
   {
    "duration": 356,
    "start_time": "2023-07-10T21:36:56.541Z"
   },
   {
    "duration": 17,
    "start_time": "2023-07-10T21:36:56.899Z"
   },
   {
    "duration": 26,
    "start_time": "2023-07-10T21:36:56.918Z"
   },
   {
    "duration": 40,
    "start_time": "2023-07-10T21:36:56.976Z"
   },
   {
    "duration": 278,
    "start_time": "2023-07-10T21:36:57.018Z"
   },
   {
    "duration": 20,
    "start_time": "2023-07-10T21:36:57.298Z"
   },
   {
    "duration": 370,
    "start_time": "2023-07-10T21:36:57.320Z"
   },
   {
    "duration": 16,
    "start_time": "2023-07-10T21:36:57.692Z"
   },
   {
    "duration": 79,
    "start_time": "2023-07-10T21:36:57.711Z"
   },
   {
    "duration": 6,
    "start_time": "2023-07-10T21:36:57.792Z"
   },
   {
    "duration": 134,
    "start_time": "2023-07-10T21:36:57.800Z"
   },
   {
    "duration": 120,
    "start_time": "2023-07-10T21:36:57.936Z"
   },
   {
    "duration": 332,
    "start_time": "2023-07-10T21:36:58.058Z"
   },
   {
    "duration": 167,
    "start_time": "2023-07-10T21:36:58.392Z"
   },
   {
    "duration": 32,
    "start_time": "2023-07-10T21:36:58.561Z"
   },
   {
    "duration": 6,
    "start_time": "2023-07-10T21:36:58.597Z"
   },
   {
    "duration": 203,
    "start_time": "2023-07-10T21:36:58.605Z"
   },
   {
    "duration": 5935,
    "start_time": "2023-07-10T21:36:58.809Z"
   },
   {
    "duration": 34,
    "start_time": "2023-07-10T21:37:04.746Z"
   },
   {
    "duration": 62,
    "start_time": "2023-07-10T21:37:04.782Z"
   },
   {
    "duration": 5282,
    "start_time": "2023-07-10T21:37:04.846Z"
   },
   {
    "duration": 418,
    "start_time": "2023-07-10T21:37:10.130Z"
   },
   {
    "duration": 288,
    "start_time": "2023-07-10T21:37:10.550Z"
   },
   {
    "duration": 17371,
    "start_time": "2023-07-10T21:37:10.839Z"
   },
   {
    "duration": 66,
    "start_time": "2023-07-10T21:37:28.212Z"
   },
   {
    "duration": 26,
    "start_time": "2023-07-10T21:37:28.280Z"
   },
   {
    "duration": 8,
    "start_time": "2023-07-10T21:37:28.308Z"
   },
   {
    "duration": 1708,
    "start_time": "2023-07-10T21:37:28.318Z"
   },
   {
    "duration": 55,
    "start_time": "2023-07-10T21:37:30.029Z"
   },
   {
    "duration": 100,
    "start_time": "2023-07-10T21:37:30.086Z"
   },
   {
    "duration": 4,
    "start_time": "2023-07-10T21:37:30.188Z"
   },
   {
    "duration": 1389,
    "start_time": "2023-07-10T21:37:30.194Z"
   },
   {
    "duration": 93,
    "start_time": "2023-07-10T21:37:31.589Z"
   },
   {
    "duration": 879002,
    "start_time": "2023-07-10T21:37:31.687Z"
   },
   {
    "duration": 418195,
    "start_time": "2023-07-10T21:52:10.691Z"
   },
   {
    "duration": 64091,
    "start_time": "2023-07-10T21:59:08.891Z"
   },
   {
    "duration": 14,
    "start_time": "2023-07-10T22:00:12.984Z"
   },
   {
    "duration": 52,
    "start_time": "2023-07-10T22:00:13.000Z"
   },
   {
    "duration": 6,
    "start_time": "2023-07-10T22:00:13.053Z"
   },
   {
    "duration": 3613,
    "start_time": "2023-07-11T16:22:51.556Z"
   },
   {
    "duration": 1869,
    "start_time": "2023-07-11T16:22:55.171Z"
   },
   {
    "duration": 1641,
    "start_time": "2023-07-11T16:22:57.043Z"
   },
   {
    "duration": 3,
    "start_time": "2023-07-11T16:22:58.686Z"
   },
   {
    "duration": 10,
    "start_time": "2023-07-11T16:22:58.691Z"
   },
   {
    "duration": 500,
    "start_time": "2023-07-11T16:22:58.703Z"
   },
   {
    "duration": 1354,
    "start_time": "2023-07-11T16:22:59.205Z"
   },
   {
    "duration": 531,
    "start_time": "2023-07-11T16:23:00.561Z"
   },
   {
    "duration": 8,
    "start_time": "2023-07-11T16:23:01.093Z"
   },
   {
    "duration": 623,
    "start_time": "2023-07-11T16:23:01.104Z"
   },
   {
    "duration": 859,
    "start_time": "2023-07-11T16:23:01.729Z"
   },
   {
    "duration": 19,
    "start_time": "2023-07-11T16:23:02.590Z"
   },
   {
    "duration": 145,
    "start_time": "2023-07-11T16:23:02.611Z"
   },
   {
    "duration": 14,
    "start_time": "2023-07-11T16:23:02.758Z"
   },
   {
    "duration": 11,
    "start_time": "2023-07-11T16:23:02.774Z"
   },
   {
    "duration": 16,
    "start_time": "2023-07-11T16:23:02.787Z"
   },
   {
    "duration": 10,
    "start_time": "2023-07-11T16:23:02.805Z"
   },
   {
    "duration": 1585,
    "start_time": "2023-07-11T16:23:02.818Z"
   },
   {
    "duration": 62,
    "start_time": "2023-07-11T16:23:04.405Z"
   },
   {
    "duration": 6,
    "start_time": "2023-07-11T16:23:04.469Z"
   },
   {
    "duration": 10,
    "start_time": "2023-07-11T16:23:04.477Z"
   },
   {
    "duration": 66,
    "start_time": "2023-07-11T16:23:04.489Z"
   },
   {
    "duration": 134,
    "start_time": "2023-07-11T16:23:04.557Z"
   },
   {
    "duration": 8,
    "start_time": "2023-07-11T16:23:04.693Z"
   },
   {
    "duration": 415,
    "start_time": "2023-07-11T16:23:04.703Z"
   },
   {
    "duration": 15,
    "start_time": "2023-07-11T16:23:05.120Z"
   },
   {
    "duration": 50,
    "start_time": "2023-07-11T16:23:05.137Z"
   },
   {
    "duration": 42,
    "start_time": "2023-07-11T16:23:05.192Z"
   },
   {
    "duration": 285,
    "start_time": "2023-07-11T16:23:05.254Z"
   },
   {
    "duration": 29,
    "start_time": "2023-07-11T16:23:05.541Z"
   },
   {
    "duration": 520,
    "start_time": "2023-07-11T16:23:05.572Z"
   },
   {
    "duration": 16,
    "start_time": "2023-07-11T16:23:06.095Z"
   },
   {
    "duration": 86,
    "start_time": "2023-07-11T16:23:06.113Z"
   },
   {
    "duration": 7,
    "start_time": "2023-07-11T16:23:06.201Z"
   },
   {
    "duration": 149,
    "start_time": "2023-07-11T16:23:06.210Z"
   },
   {
    "duration": 178,
    "start_time": "2023-07-11T16:23:06.361Z"
   },
   {
    "duration": 432,
    "start_time": "2023-07-11T16:23:06.541Z"
   },
   {
    "duration": 211,
    "start_time": "2023-07-11T16:23:06.974Z"
   },
   {
    "duration": 27,
    "start_time": "2023-07-11T16:23:07.187Z"
   },
   {
    "duration": 7,
    "start_time": "2023-07-11T16:23:07.215Z"
   },
   {
    "duration": 274,
    "start_time": "2023-07-11T16:23:07.224Z"
   },
   {
    "duration": 6758,
    "start_time": "2023-07-11T16:23:07.500Z"
   },
   {
    "duration": 30,
    "start_time": "2023-07-11T16:23:14.260Z"
   },
   {
    "duration": 94,
    "start_time": "2023-07-11T16:23:14.292Z"
   },
   {
    "duration": 5772,
    "start_time": "2023-07-11T16:23:14.388Z"
   },
   {
    "duration": 424,
    "start_time": "2023-07-11T16:23:20.162Z"
   },
   {
    "duration": 346,
    "start_time": "2023-07-11T16:23:20.588Z"
   },
   {
    "duration": 19497,
    "start_time": "2023-07-11T16:23:20.936Z"
   },
   {
    "duration": 84,
    "start_time": "2023-07-11T16:23:40.435Z"
   },
   {
    "duration": 35,
    "start_time": "2023-07-11T16:23:40.520Z"
   },
   {
    "duration": 4,
    "start_time": "2023-07-11T16:23:40.556Z"
   },
   {
    "duration": 148,
    "start_time": "2023-07-11T16:23:40.561Z"
   },
   {
    "duration": 0,
    "start_time": "2023-07-11T16:23:40.710Z"
   },
   {
    "duration": 0,
    "start_time": "2023-07-11T16:23:40.711Z"
   },
   {
    "duration": 0,
    "start_time": "2023-07-11T16:23:40.713Z"
   },
   {
    "duration": 0,
    "start_time": "2023-07-11T16:23:40.714Z"
   },
   {
    "duration": 0,
    "start_time": "2023-07-11T16:23:40.715Z"
   },
   {
    "duration": 0,
    "start_time": "2023-07-11T16:23:40.717Z"
   },
   {
    "duration": 0,
    "start_time": "2023-07-11T16:23:40.717Z"
   },
   {
    "duration": 0,
    "start_time": "2023-07-11T16:23:40.719Z"
   },
   {
    "duration": 0,
    "start_time": "2023-07-11T16:23:40.720Z"
   },
   {
    "duration": 0,
    "start_time": "2023-07-11T16:23:40.721Z"
   },
   {
    "duration": 0,
    "start_time": "2023-07-11T16:23:40.722Z"
   },
   {
    "duration": 50,
    "start_time": "2023-07-11T16:23:55.228Z"
   },
   {
    "duration": 15,
    "start_time": "2023-07-11T16:23:58.788Z"
   },
   {
    "duration": 1155,
    "start_time": "2023-07-11T16:24:10.833Z"
   },
   {
    "duration": 1609,
    "start_time": "2023-07-11T16:24:21.202Z"
   },
   {
    "duration": 102,
    "start_time": "2023-07-11T16:24:28.979Z"
   },
   {
    "duration": 2506,
    "start_time": "2023-07-11T16:24:43.347Z"
   },
   {
    "duration": 1761,
    "start_time": "2023-07-11T16:24:45.855Z"
   },
   {
    "duration": 1468,
    "start_time": "2023-07-11T16:24:47.618Z"
   },
   {
    "duration": 3,
    "start_time": "2023-07-11T16:24:49.090Z"
   },
   {
    "duration": 28,
    "start_time": "2023-07-11T16:24:49.095Z"
   },
   {
    "duration": 495,
    "start_time": "2023-07-11T16:24:49.126Z"
   },
   {
    "duration": 1353,
    "start_time": "2023-07-11T16:24:49.623Z"
   },
   {
    "duration": 474,
    "start_time": "2023-07-11T16:24:50.978Z"
   },
   {
    "duration": 7,
    "start_time": "2023-07-11T16:24:51.454Z"
   },
   {
    "duration": 524,
    "start_time": "2023-07-11T16:24:51.465Z"
   },
   {
    "duration": 764,
    "start_time": "2023-07-11T16:24:51.991Z"
   },
   {
    "duration": 16,
    "start_time": "2023-07-11T16:24:52.757Z"
   },
   {
    "duration": 136,
    "start_time": "2023-07-11T16:24:52.775Z"
   },
   {
    "duration": 15,
    "start_time": "2023-07-11T16:24:52.913Z"
   },
   {
    "duration": 24,
    "start_time": "2023-07-11T16:24:52.931Z"
   },
   {
    "duration": 20,
    "start_time": "2023-07-11T16:24:52.958Z"
   },
   {
    "duration": 18,
    "start_time": "2023-07-11T16:24:52.979Z"
   },
   {
    "duration": 1508,
    "start_time": "2023-07-11T16:24:52.999Z"
   },
   {
    "duration": 61,
    "start_time": "2023-07-11T16:24:54.509Z"
   },
   {
    "duration": 6,
    "start_time": "2023-07-11T16:24:54.572Z"
   },
   {
    "duration": 13,
    "start_time": "2023-07-11T16:24:54.581Z"
   },
   {
    "duration": 72,
    "start_time": "2023-07-11T16:24:54.596Z"
   },
   {
    "duration": 129,
    "start_time": "2023-07-11T16:24:54.670Z"
   },
   {
    "duration": 8,
    "start_time": "2023-07-11T16:24:54.801Z"
   },
   {
    "duration": 434,
    "start_time": "2023-07-11T16:24:54.811Z"
   },
   {
    "duration": 23,
    "start_time": "2023-07-11T16:24:55.246Z"
   },
   {
    "duration": 28,
    "start_time": "2023-07-11T16:24:55.271Z"
   },
   {
    "duration": 72,
    "start_time": "2023-07-11T16:24:55.305Z"
   },
   {
    "duration": 287,
    "start_time": "2023-07-11T16:24:55.379Z"
   },
   {
    "duration": 20,
    "start_time": "2023-07-11T16:24:55.667Z"
   },
   {
    "duration": 431,
    "start_time": "2023-07-11T16:24:55.689Z"
   },
   {
    "duration": 14,
    "start_time": "2023-07-11T16:24:56.123Z"
   },
   {
    "duration": 69,
    "start_time": "2023-07-11T16:24:56.139Z"
   },
   {
    "duration": 6,
    "start_time": "2023-07-11T16:24:56.210Z"
   },
   {
    "duration": 144,
    "start_time": "2023-07-11T16:24:56.218Z"
   },
   {
    "duration": 174,
    "start_time": "2023-07-11T16:24:56.364Z"
   },
   {
    "duration": 382,
    "start_time": "2023-07-11T16:24:56.540Z"
   },
   {
    "duration": 203,
    "start_time": "2023-07-11T16:24:56.924Z"
   },
   {
    "duration": 44,
    "start_time": "2023-07-11T16:24:57.129Z"
   },
   {
    "duration": 7,
    "start_time": "2023-07-11T16:24:57.175Z"
   },
   {
    "duration": 298,
    "start_time": "2023-07-11T16:24:57.184Z"
   },
   {
    "duration": 6675,
    "start_time": "2023-07-11T16:24:57.485Z"
   },
   {
    "duration": 37,
    "start_time": "2023-07-11T16:25:04.162Z"
   },
   {
    "duration": 98,
    "start_time": "2023-07-11T16:25:04.201Z"
   },
   {
    "duration": 5839,
    "start_time": "2023-07-11T16:25:04.301Z"
   },
   {
    "duration": 434,
    "start_time": "2023-07-11T16:25:10.142Z"
   },
   {
    "duration": 369,
    "start_time": "2023-07-11T16:25:10.578Z"
   },
   {
    "duration": 19371,
    "start_time": "2023-07-11T16:25:10.953Z"
   },
   {
    "duration": 77,
    "start_time": "2023-07-11T16:25:30.326Z"
   },
   {
    "duration": 38,
    "start_time": "2023-07-11T16:25:30.405Z"
   },
   {
    "duration": 3,
    "start_time": "2023-07-11T16:25:30.455Z"
   },
   {
    "duration": 61,
    "start_time": "2023-07-11T16:25:30.460Z"
   },
   {
    "duration": 1573,
    "start_time": "2023-07-11T16:25:30.523Z"
   },
   {
    "duration": 105,
    "start_time": "2023-07-11T16:25:32.098Z"
   },
   {
    "duration": 3,
    "start_time": "2023-07-11T16:25:32.205Z"
   },
   {
    "duration": 1048,
    "start_time": "2023-07-11T16:25:32.209Z"
   },
   {
    "duration": 6,
    "start_time": "2023-07-11T16:25:33.259Z"
   },
   {
    "duration": 975725,
    "start_time": "2023-07-11T16:25:33.355Z"
   },
   {
    "duration": 229373,
    "start_time": "2023-07-11T16:41:49.082Z"
   },
   {
    "duration": 69480,
    "start_time": "2023-07-11T16:45:38.457Z"
   },
   {
    "duration": 11,
    "start_time": "2023-07-11T16:46:47.938Z"
   },
   {
    "duration": 58,
    "start_time": "2023-07-11T16:46:47.952Z"
   },
   {
    "duration": 7,
    "start_time": "2023-07-11T16:46:48.012Z"
   }
  ],
  "kernelspec": {
   "display_name": "Python 3 (ipykernel)",
   "language": "python",
   "name": "python3"
  },
  "language_info": {
   "codemirror_mode": {
    "name": "ipython",
    "version": 3
   },
   "file_extension": ".py",
   "mimetype": "text/x-python",
   "name": "python",
   "nbconvert_exporter": "python",
   "pygments_lexer": "ipython3",
   "version": "3.10.9"
  },
  "toc": {
   "base_numbering": 1,
   "nav_menu": {},
   "number_sections": true,
   "sideBar": true,
   "skip_h1_title": true,
   "title_cell": "Содержание проекта",
   "title_sidebar": "Содержание",
   "toc_cell": true,
   "toc_position": {
    "height": "calc(100% - 180px)",
    "left": "10px",
    "top": "150px",
    "width": "288px"
   },
   "toc_section_display": true,
   "toc_window_display": true
  },
  "varInspector": {
   "cols": {
    "lenName": 16,
    "lenType": 16,
    "lenVar": 40
   },
   "kernels_config": {
    "python": {
     "delete_cmd_postfix": "",
     "delete_cmd_prefix": "del ",
     "library": "var_list.py",
     "varRefreshCmd": "print(var_dic_list())"
    },
    "r": {
     "delete_cmd_postfix": ") ",
     "delete_cmd_prefix": "rm(",
     "library": "var_list.r",
     "varRefreshCmd": "cat(var_dic_list()) "
    }
   },
   "types_to_exclude": [
    "module",
    "function",
    "builtin_function_or_method",
    "instance",
    "_Feature"
   ],
   "window_display": false
  }
 },
 "nbformat": 4,
 "nbformat_minor": 5
}
