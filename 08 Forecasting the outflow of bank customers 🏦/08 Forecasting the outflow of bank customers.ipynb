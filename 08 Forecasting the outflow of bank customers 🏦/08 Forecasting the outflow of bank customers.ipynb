{
 "cells": [
  {
   "cell_type": "markdown",
   "id": "6ebbf3b5",
   "metadata": {},
   "source": [
    "# Прогнозирование оттока банковских клиентов👨🏼‍💼\n",
    "\n",
    "Из «Бета-Банка» стали уходить клиенты. Каждый месяц. Немного, но заметно. Банковские маркетологи посчитали: сохранять текущих клиентов дешевле, чем привлекать новых.\n",
    "Нужно спрогнозировать, уйдёт клиент из банка в ближайшее время или нет. Нам предоставлены исторические данные о поведении клиентов и расторжении договоров с банком. \n",
    "\n",
    "**Цели исследования**\n",
    "1. Построить модель, которая покажет значение метрики `F1` больше `0.59` на тестовых данных;\n",
    "2. Исследовать (при наличии) дисбаланс классов в целевом признаке. Оценить целесообразность использования техник `downsampling` и `upsampling` применительно к обучающим данным для моделей;\n",
    "\n",
    "**Ход исследования**\n",
    "\n",
    "[Скачать исходные данные](https://code.s3.yandex.net/datasets/Churn.csv)\n",
    "\n",
    "О качестве данных ничего не известно, поэтому требуется их предобработать.\n",
    "\n",
    "В ходе этапа предобработки данные будут разделены на три набора: тренировочный, валидационный и тестовый. Соотношение 3:1\\:1.\n",
    "\n",
    "Рассмотрим несколько популярных моделей, которые потенциально могут показать хорошие значения метрик. Сравним их между собой, отберем модель с наилучшими показателями.\n",
    "\n",
    "Проверим ее эффективность на тестовых данных, опишем, как поменялись полученные в ходе тестирования модели значения метрик относительно тех, что были получены в ходе обучения модели.\n",
    "\n",
    "Проведем проверку модели на адекватность, сравнив модель с константной.\n",
    "\n",
    "**Этапы исследования**\n",
    "\n",
    "1. Обзор данных\n",
    "2. Предобработка данных\n",
    "3. Обучение моделей, выбор лучшей\n",
    "4. Тестирование модели, проверка ее на адекватность\n",
    "5. Подведение итогов\n",
    "\n",
    "**Описание данных**\n",
    "\n",
    "*Признаки*\n",
    "\n",
    "- `RowNumber` — индекс строки в данных\n",
    "- `CustomerId` — уникальный идентификатор клиента\n",
    "- `Surname` — фамилия\n",
    "- `CreditScore` — кредитный рейтинг\n",
    "- `Geography` — страна проживания\n",
    "- `Gender` — пол\n",
    "- `Age` — возраст\n",
    "- `Tenure` — сколько лет человек является клиентом банка\n",
    "- `Balance` — баланс на счёте\n",
    "- `NumOfProducts` — количество продуктов банка, используемых клиентом\n",
    "- `HasCrCard` — наличие кредитной карты\n",
    "- `IsActiveMember` — активность клиента\n",
    "- `EstimatedSalary` — предполагаемая зарплата\n",
    "\n",
    "*Целевой признак*\n",
    "\n",
    "- `Exited` — факт ухода клиента"
   ]
  },
  {
   "cell_type": "markdown",
   "id": "7cf60f40",
   "metadata": {
    "toc": true
   },
   "source": [
    "<h1>Содержание проекта<span class=\"tocSkip\"></span></h1>\n",
    "<div class=\"toc\"><ul class=\"toc-item\"><li><span><a href=\"#Обзор-данных-⌗\" data-toc-modified-id=\"Обзор-данных-⌗-1\"><span class=\"toc-item-num\">1&nbsp;&nbsp;</span>Обзор данных ⌗</a></span></li><li><span><a href=\"#Предобработка-данных-♻️\" data-toc-modified-id=\"Предобработка-данных-♻️-2\"><span class=\"toc-item-num\">2&nbsp;&nbsp;</span>Предобработка данных ♻️</a></span><ul class=\"toc-item\"><li><span><a href=\"#Переименование-столбцов\" data-toc-modified-id=\"Переименование-столбцов-2.1\"><span class=\"toc-item-num\">2.1&nbsp;&nbsp;</span>Переименование столбцов</a></span></li><li><span><a href=\"#Пропущенные-значения\" data-toc-modified-id=\"Пропущенные-значения-2.2\"><span class=\"toc-item-num\">2.2&nbsp;&nbsp;</span>Пропущенные значения</a></span><ul class=\"toc-item\"><li><span><a href=\"#tenure\" data-toc-modified-id=\"tenure-2.2.1\"><span class=\"toc-item-num\">2.2.1&nbsp;&nbsp;</span><code>tenure</code></a></span></li></ul></li><li><span><a href=\"#Явные-дубликаты\" data-toc-modified-id=\"Явные-дубликаты-2.3\"><span class=\"toc-item-num\">2.3&nbsp;&nbsp;</span>Явные дубликаты</a></span></li><li><span><a href=\"#Отбрасывание-незначимых-признаков\" data-toc-modified-id=\"Отбрасывание-незначимых-признаков-2.4\"><span class=\"toc-item-num\">2.4&nbsp;&nbsp;</span>Отбрасывание незначимых признаков</a></span></li><li><span><a href=\"#Разбиение-данных\" data-toc-modified-id=\"Разбиение-данных-2.5\"><span class=\"toc-item-num\">2.5&nbsp;&nbsp;</span>Разбиение данных</a></span></li><li><span><a href=\"#Кодирование-категориальных-признаков-и-стандартизация-числовых-признаков-в-наборах-данных\" data-toc-modified-id=\"Кодирование-категориальных-признаков-и-стандартизация-числовых-признаков-в-наборах-данных-2.6\"><span class=\"toc-item-num\">2.6&nbsp;&nbsp;</span>Кодирование категориальных признаков и стандартизация числовых признаков в наборах данных</a></span></li><li><span><a href=\"#Сбалансированность-классов-целевого-признака\" data-toc-modified-id=\"Сбалансированность-классов-целевого-признака-2.7\"><span class=\"toc-item-num\">2.7&nbsp;&nbsp;</span>Сбалансированность классов целевого признака</a></span><ul class=\"toc-item\"><li><span><a href=\"#downsampling\" data-toc-modified-id=\"downsampling-2.7.1\"><span class=\"toc-item-num\">2.7.1&nbsp;&nbsp;</span><code>downsampling</code></a></span></li><li><span><a href=\"#upsampling\" data-toc-modified-id=\"upsampling-2.7.2\"><span class=\"toc-item-num\">2.7.2&nbsp;&nbsp;</span><code>upsampling</code></a></span></li></ul></li></ul></li><li><span><a href=\"#Обучение-моделей-🦾\" data-toc-modified-id=\"Обучение-моделей-🦾-3\"><span class=\"toc-item-num\">3&nbsp;&nbsp;</span>Обучение моделей 🦾</a></span><ul class=\"toc-item\"><li><span><a href=\"#Функции-общего-назначения\" data-toc-modified-id=\"Функции-общего-назначения-3.1\"><span class=\"toc-item-num\">3.1&nbsp;&nbsp;</span>Функции общего назначения</a></span></li><li><span><a href=\"#Логистическая-регрессия-(Logistic-Regression)-📈\" data-toc-modified-id=\"Логистическая-регрессия-(Logistic-Regression)-📈-3.2\"><span class=\"toc-item-num\">3.2&nbsp;&nbsp;</span>Логистическая регрессия (Logistic Regression) 📈</a></span><ul class=\"toc-item\"><li><span><a href=\"#Набор-тренировочных-данных-без-изменений-⚠️\" data-toc-modified-id=\"Набор-тренировочных-данных-без-изменений-⚠️-3.2.1\"><span class=\"toc-item-num\">3.2.1&nbsp;&nbsp;</span>Набор тренировочных данных без изменений ⚠️</a></span><ul class=\"toc-item\"><li><span><a href=\"#Результаты\" data-toc-modified-id=\"Результаты-3.2.1.1\"><span class=\"toc-item-num\">3.2.1.1&nbsp;&nbsp;</span>Результаты</a></span></li></ul></li><li><span><a href=\"#Набор-тренировочных-данных-без-дисбаланса-классов-в-целевом-признаке-✅\" data-toc-modified-id=\"Набор-тренировочных-данных-без-дисбаланса-классов-в-целевом-признаке-✅-3.2.2\"><span class=\"toc-item-num\">3.2.2&nbsp;&nbsp;</span>Набор тренировочных данных без дисбаланса классов в целевом признаке ✅</a></span><ul class=\"toc-item\"><li><span><a href=\"#Результаты\" data-toc-modified-id=\"Результаты-3.2.2.1\"><span class=\"toc-item-num\">3.2.2.1&nbsp;&nbsp;</span>Результаты</a></span></li></ul></li></ul></li><li><span><a href=\"#Случайный-лес-🌳\" data-toc-modified-id=\"Случайный-лес-🌳-3.3\"><span class=\"toc-item-num\">3.3&nbsp;&nbsp;</span>Случайный лес 🌳</a></span><ul class=\"toc-item\"><li><span><a href=\"#Набор-тренировочных-данных-без-изменений-⚠️\" data-toc-modified-id=\"Набор-тренировочных-данных-без-изменений-⚠️-3.3.1\"><span class=\"toc-item-num\">3.3.1&nbsp;&nbsp;</span>Набор тренировочных данных без изменений ⚠️</a></span><ul class=\"toc-item\"><li><span><a href=\"#Результаты\" data-toc-modified-id=\"Результаты-3.3.1.1\"><span class=\"toc-item-num\">3.3.1.1&nbsp;&nbsp;</span>Результаты</a></span></li></ul></li><li><span><a href=\"#Набор-тренировочных-данных-без-дисбаланса-классов-в-целевом-признаке-✅\" data-toc-modified-id=\"Набор-тренировочных-данных-без-дисбаланса-классов-в-целевом-признаке-✅-3.3.2\"><span class=\"toc-item-num\">3.3.2&nbsp;&nbsp;</span>Набор тренировочных данных без дисбаланса классов в целевом признаке ✅</a></span><ul class=\"toc-item\"><li><span><a href=\"#Результаты\" data-toc-modified-id=\"Результаты-3.3.2.1\"><span class=\"toc-item-num\">3.3.2.1&nbsp;&nbsp;</span>Результаты</a></span></li></ul></li></ul></li><li><span><a href=\"#Сравнение-ROC-кривых\" data-toc-modified-id=\"Сравнение-ROC-кривых-3.4\"><span class=\"toc-item-num\">3.4&nbsp;&nbsp;</span>Сравнение ROC-кривых</a></span><ul class=\"toc-item\"><li><ul class=\"toc-item\"><li><span><a href=\"#Результаты\" data-toc-modified-id=\"Результаты-3.4.0.1\"><span class=\"toc-item-num\">3.4.0.1&nbsp;&nbsp;</span>Результаты</a></span></li></ul></li></ul></li></ul></li><li><span><a href=\"#Тестирование-лучшей-модели,-проверка-ее-на-адекватность-😎\" data-toc-modified-id=\"Тестирование-лучшей-модели,-проверка-ее-на-адекватность-😎-4\"><span class=\"toc-item-num\">4&nbsp;&nbsp;</span>Тестирование лучшей модели, проверка ее на адекватность 😎</a></span><ul class=\"toc-item\"><li><span><a href=\"#Тестирование-модели-🧪\" data-toc-modified-id=\"Тестирование-модели-🧪-4.1\"><span class=\"toc-item-num\">4.1&nbsp;&nbsp;</span>Тестирование модели 🧪</a></span></li><li><span><a href=\"#Проверка-модели-на-адекватность-🤨\" data-toc-modified-id=\"Проверка-модели-на-адекватность-🤨-4.2\"><span class=\"toc-item-num\">4.2&nbsp;&nbsp;</span>Проверка модели на адекватность 🤨</a></span></li></ul></li><li><span><a href=\"#Общий-вывод-👀\" data-toc-modified-id=\"Общий-вывод-👀-5\"><span class=\"toc-item-num\">5&nbsp;&nbsp;</span>Общий вывод 👀</a></span><ul class=\"toc-item\"><li><span><a href=\"#Краткая-сводка-по-выполненным-задачам\" data-toc-modified-id=\"Краткая-сводка-по-выполненным-задачам-5.1\"><span class=\"toc-item-num\">5.1&nbsp;&nbsp;</span>Краткая сводка по выполненным задачам</a></span><ul class=\"toc-item\"><li><span><a href=\"#Шаг-1.-Обзор-данных\" data-toc-modified-id=\"Шаг-1.-Обзор-данных-5.1.1\"><span class=\"toc-item-num\">5.1.1&nbsp;&nbsp;</span>Шаг 1. Обзор данных</a></span></li><li><span><a href=\"#Шаг-2.-Предобработка-данных\" data-toc-modified-id=\"Шаг-2.-Предобработка-данных-5.1.2\"><span class=\"toc-item-num\">5.1.2&nbsp;&nbsp;</span>Шаг 2. Предобработка данных</a></span></li><li><span><a href=\"#Шаг-3.-Обучение-моделей\" data-toc-modified-id=\"Шаг-3.-Обучение-моделей-5.1.3\"><span class=\"toc-item-num\">5.1.3&nbsp;&nbsp;</span>Шаг 3. Обучение моделей</a></span></li><li><span><a href=\"#Шаг-4.-Тестирование-модели,-проверка-ее-на-адекватность\" data-toc-modified-id=\"Шаг-4.-Тестирование-модели,-проверка-ее-на-адекватность-5.1.4\"><span class=\"toc-item-num\">5.1.4&nbsp;&nbsp;</span>Шаг 4. Тестирование модели, проверка ее на адекватность</a></span></li></ul></li><li><span><a href=\"#Что-могло-привести-к-получению-неполноценных-результатов?\" data-toc-modified-id=\"Что-могло-привести-к-получению-неполноценных-результатов?-5.2\"><span class=\"toc-item-num\">5.2&nbsp;&nbsp;</span>Что могло привести к получению неполноценных результатов?</a></span></li></ul></li></ul></div>"
   ]
  },
  {
   "cell_type": "markdown",
   "id": "6fb78f54",
   "metadata": {},
   "source": [
    "## Обзор данных ⌗"
   ]
  },
  {
   "cell_type": "markdown",
   "id": "1a302bfd",
   "metadata": {},
   "source": [
    "Используемые библиотеки"
   ]
  },
  {
   "cell_type": "code",
   "execution_count": 1,
   "id": "c8556202",
   "metadata": {},
   "outputs": [],
   "source": [
    "import pandas as pd  # Чтение данных, построение таблиц\n",
    "import numpy as np  # Операции с массивами данных\n",
    "import matplotlib.pyplot as plt  # Построение графиков\n",
    "import seaborn as sns  # Построение графиков\n",
    "\n",
    "from sklearn.ensemble import RandomForestClassifier  # Классификационная модель 1\n",
    "from sklearn.linear_model import LogisticRegression  # Классификационная модель 2\n",
    "from sklearn.dummy import DummyClassifier  # Константная модель\n",
    "\n",
    "from sklearn.model_selection import cross_val_score, train_test_split # Работа с наборами данных\n",
    "from sklearn.metrics import accuracy_score, precision_score, recall_score, f1_score, roc_auc_score, confusion_matrix, roc_curve  # Оцениваемые метрики\n",
    "\n",
    "from sklearn.preprocessing import StandardScaler  # Масштабирование данных\n",
    "from sklearn.utils import shuffle  # Перемешивание объектов в наборе данных\n",
    "\n",
    "from copy import copy  # Неглубокое копирование\n",
    "from typing import Tuple, List, Dict  # Аннотирование\n",
    "from IPython.display import display  # Корректное отображение датасетов в коде\n",
    "import warnings  # Показ предупреждений\n",
    "import urllib  # Получение данных с внешнего источника"
   ]
  },
  {
   "cell_type": "markdown",
   "id": "345312c5",
   "metadata": {},
   "source": [
    "Настройки отображения"
   ]
  },
  {
   "cell_type": "code",
   "execution_count": 2,
   "id": "95ca0879",
   "metadata": {},
   "outputs": [],
   "source": [
    "pd.set_option('display.max_columns', 1000) # Макс кол-во отображаемых признаков\n",
    "pd.set_option('display.max_rows', 50) # Макс кол-во отображаемых объектов\n",
    "warnings.filterwarnings('ignore') # Убираем показ предупреждений"
   ]
  },
  {
   "cell_type": "markdown",
   "id": "4015b2d0",
   "metadata": {},
   "source": [
    "Прочитаем данные. Обработаем ошибки при их получении"
   ]
  },
  {
   "cell_type": "code",
   "execution_count": 3,
   "id": "9179df91",
   "metadata": {
    "scrolled": false
   },
   "outputs": [
    {
     "data": {
      "text/html": [
       "<div>\n",
       "<style scoped>\n",
       "    .dataframe tbody tr th:only-of-type {\n",
       "        vertical-align: middle;\n",
       "    }\n",
       "\n",
       "    .dataframe tbody tr th {\n",
       "        vertical-align: top;\n",
       "    }\n",
       "\n",
       "    .dataframe thead th {\n",
       "        text-align: right;\n",
       "    }\n",
       "</style>\n",
       "<table border=\"1\" class=\"dataframe\">\n",
       "  <thead>\n",
       "    <tr style=\"text-align: right;\">\n",
       "      <th></th>\n",
       "      <th>RowNumber</th>\n",
       "      <th>CustomerId</th>\n",
       "      <th>Surname</th>\n",
       "      <th>CreditScore</th>\n",
       "      <th>Geography</th>\n",
       "      <th>Gender</th>\n",
       "      <th>Age</th>\n",
       "      <th>Tenure</th>\n",
       "      <th>Balance</th>\n",
       "      <th>NumOfProducts</th>\n",
       "      <th>HasCrCard</th>\n",
       "      <th>IsActiveMember</th>\n",
       "      <th>EstimatedSalary</th>\n",
       "      <th>Exited</th>\n",
       "    </tr>\n",
       "  </thead>\n",
       "  <tbody>\n",
       "    <tr>\n",
       "      <th>0</th>\n",
       "      <td>1</td>\n",
       "      <td>15634602</td>\n",
       "      <td>Hargrave</td>\n",
       "      <td>619</td>\n",
       "      <td>France</td>\n",
       "      <td>Female</td>\n",
       "      <td>42</td>\n",
       "      <td>2.0</td>\n",
       "      <td>0.00</td>\n",
       "      <td>1</td>\n",
       "      <td>1</td>\n",
       "      <td>1</td>\n",
       "      <td>101348.88</td>\n",
       "      <td>1</td>\n",
       "    </tr>\n",
       "    <tr>\n",
       "      <th>1</th>\n",
       "      <td>2</td>\n",
       "      <td>15647311</td>\n",
       "      <td>Hill</td>\n",
       "      <td>608</td>\n",
       "      <td>Spain</td>\n",
       "      <td>Female</td>\n",
       "      <td>41</td>\n",
       "      <td>1.0</td>\n",
       "      <td>83807.86</td>\n",
       "      <td>1</td>\n",
       "      <td>0</td>\n",
       "      <td>1</td>\n",
       "      <td>112542.58</td>\n",
       "      <td>0</td>\n",
       "    </tr>\n",
       "    <tr>\n",
       "      <th>2</th>\n",
       "      <td>3</td>\n",
       "      <td>15619304</td>\n",
       "      <td>Onio</td>\n",
       "      <td>502</td>\n",
       "      <td>France</td>\n",
       "      <td>Female</td>\n",
       "      <td>42</td>\n",
       "      <td>8.0</td>\n",
       "      <td>159660.80</td>\n",
       "      <td>3</td>\n",
       "      <td>1</td>\n",
       "      <td>0</td>\n",
       "      <td>113931.57</td>\n",
       "      <td>1</td>\n",
       "    </tr>\n",
       "    <tr>\n",
       "      <th>3</th>\n",
       "      <td>4</td>\n",
       "      <td>15701354</td>\n",
       "      <td>Boni</td>\n",
       "      <td>699</td>\n",
       "      <td>France</td>\n",
       "      <td>Female</td>\n",
       "      <td>39</td>\n",
       "      <td>1.0</td>\n",
       "      <td>0.00</td>\n",
       "      <td>2</td>\n",
       "      <td>0</td>\n",
       "      <td>0</td>\n",
       "      <td>93826.63</td>\n",
       "      <td>0</td>\n",
       "    </tr>\n",
       "    <tr>\n",
       "      <th>4</th>\n",
       "      <td>5</td>\n",
       "      <td>15737888</td>\n",
       "      <td>Mitchell</td>\n",
       "      <td>850</td>\n",
       "      <td>Spain</td>\n",
       "      <td>Female</td>\n",
       "      <td>43</td>\n",
       "      <td>2.0</td>\n",
       "      <td>125510.82</td>\n",
       "      <td>1</td>\n",
       "      <td>1</td>\n",
       "      <td>1</td>\n",
       "      <td>79084.10</td>\n",
       "      <td>0</td>\n",
       "    </tr>\n",
       "    <tr>\n",
       "      <th>5</th>\n",
       "      <td>6</td>\n",
       "      <td>15574012</td>\n",
       "      <td>Chu</td>\n",
       "      <td>645</td>\n",
       "      <td>Spain</td>\n",
       "      <td>Male</td>\n",
       "      <td>44</td>\n",
       "      <td>8.0</td>\n",
       "      <td>113755.78</td>\n",
       "      <td>2</td>\n",
       "      <td>1</td>\n",
       "      <td>0</td>\n",
       "      <td>149756.71</td>\n",
       "      <td>1</td>\n",
       "    </tr>\n",
       "    <tr>\n",
       "      <th>6</th>\n",
       "      <td>7</td>\n",
       "      <td>15592531</td>\n",
       "      <td>Bartlett</td>\n",
       "      <td>822</td>\n",
       "      <td>France</td>\n",
       "      <td>Male</td>\n",
       "      <td>50</td>\n",
       "      <td>7.0</td>\n",
       "      <td>0.00</td>\n",
       "      <td>2</td>\n",
       "      <td>1</td>\n",
       "      <td>1</td>\n",
       "      <td>10062.80</td>\n",
       "      <td>0</td>\n",
       "    </tr>\n",
       "    <tr>\n",
       "      <th>7</th>\n",
       "      <td>8</td>\n",
       "      <td>15656148</td>\n",
       "      <td>Obinna</td>\n",
       "      <td>376</td>\n",
       "      <td>Germany</td>\n",
       "      <td>Female</td>\n",
       "      <td>29</td>\n",
       "      <td>4.0</td>\n",
       "      <td>115046.74</td>\n",
       "      <td>4</td>\n",
       "      <td>1</td>\n",
       "      <td>0</td>\n",
       "      <td>119346.88</td>\n",
       "      <td>1</td>\n",
       "    </tr>\n",
       "    <tr>\n",
       "      <th>8</th>\n",
       "      <td>9</td>\n",
       "      <td>15792365</td>\n",
       "      <td>He</td>\n",
       "      <td>501</td>\n",
       "      <td>France</td>\n",
       "      <td>Male</td>\n",
       "      <td>44</td>\n",
       "      <td>4.0</td>\n",
       "      <td>142051.07</td>\n",
       "      <td>2</td>\n",
       "      <td>0</td>\n",
       "      <td>1</td>\n",
       "      <td>74940.50</td>\n",
       "      <td>0</td>\n",
       "    </tr>\n",
       "    <tr>\n",
       "      <th>9</th>\n",
       "      <td>10</td>\n",
       "      <td>15592389</td>\n",
       "      <td>H?</td>\n",
       "      <td>684</td>\n",
       "      <td>France</td>\n",
       "      <td>Male</td>\n",
       "      <td>27</td>\n",
       "      <td>2.0</td>\n",
       "      <td>134603.88</td>\n",
       "      <td>1</td>\n",
       "      <td>1</td>\n",
       "      <td>1</td>\n",
       "      <td>71725.73</td>\n",
       "      <td>0</td>\n",
       "    </tr>\n",
       "  </tbody>\n",
       "</table>\n",
       "</div>"
      ],
      "text/plain": [
       "   RowNumber  CustomerId   Surname  CreditScore Geography  Gender  Age  \\\n",
       "0          1    15634602  Hargrave          619    France  Female   42   \n",
       "1          2    15647311      Hill          608     Spain  Female   41   \n",
       "2          3    15619304      Onio          502    France  Female   42   \n",
       "3          4    15701354      Boni          699    France  Female   39   \n",
       "4          5    15737888  Mitchell          850     Spain  Female   43   \n",
       "5          6    15574012       Chu          645     Spain    Male   44   \n",
       "6          7    15592531  Bartlett          822    France    Male   50   \n",
       "7          8    15656148    Obinna          376   Germany  Female   29   \n",
       "8          9    15792365        He          501    France    Male   44   \n",
       "9         10    15592389        H?          684    France    Male   27   \n",
       "\n",
       "   Tenure    Balance  NumOfProducts  HasCrCard  IsActiveMember  \\\n",
       "0     2.0       0.00              1          1               1   \n",
       "1     1.0   83807.86              1          0               1   \n",
       "2     8.0  159660.80              3          1               0   \n",
       "3     1.0       0.00              2          0               0   \n",
       "4     2.0  125510.82              1          1               1   \n",
       "5     8.0  113755.78              2          1               0   \n",
       "6     7.0       0.00              2          1               1   \n",
       "7     4.0  115046.74              4          1               0   \n",
       "8     4.0  142051.07              2          0               1   \n",
       "9     2.0  134603.88              1          1               1   \n",
       "\n",
       "   EstimatedSalary  Exited  \n",
       "0        101348.88       1  \n",
       "1        112542.58       0  \n",
       "2        113931.57       1  \n",
       "3         93826.63       0  \n",
       "4         79084.10       0  \n",
       "5        149756.71       1  \n",
       "6         10062.80       0  \n",
       "7        119346.88       1  \n",
       "8         74940.50       0  \n",
       "9         71725.73       0  "
      ]
     },
     "metadata": {},
     "output_type": "display_data"
    },
    {
     "name": "stdout",
     "output_type": "stream",
     "text": [
      "✅ Данные загружены с внешнего ресурса и успешно прочитаны\n"
     ]
    }
   ],
   "source": [
    "try:\n",
    "    data = pd.read_csv(\n",
    "        'https://code.s3.yandex.net/datasets/Churn.csv')\n",
    "    display(data.head(10))\n",
    "    print('✅ Данные загружены с внешнего ресурса и успешно прочитаны')\n",
    "except urllib.request.URLError:  # Если отстутствует доступ к внешнему ресурсу с данными\n",
    "    while True:\n",
    "        data_name = input(\n",
    "            'Укажите имя файла с данными в каталоге с проектом. Например: \"data.csv\".\\n'\n",
    "            'Если данные находятся не в каталоге с проектом нажмите Enter.\\n\\n'\n",
    "        )\n",
    "        if not data_name:\n",
    "            while True:\n",
    "                data_path = input('Введите абсолютный путь к датасету:\\n')\n",
    "                try:\n",
    "                    data = pd.read_csv(data_path)\n",
    "                    display(data.head(10))\n",
    "                    print('✅ Исходные данные успешно прочитаны по указанному пути')\n",
    "\n",
    "                    break\n",
    "\n",
    "                except FileNotFoundError:  # Путь, указанный пользователем, неверный\n",
    "                    raise Exception(f'❌Указан неверный путь к файлу: {data_path}')\n",
    "        else:\n",
    "            data = pd.read_csv(data_name)\n",
    "            display(data.head(10))\n",
    "            print('✅ Исходные данные успешно прочитаны из каталога с проектом')\n",
    "            break\n",
    "        break"
   ]
  },
  {
   "cell_type": "markdown",
   "id": "961b5b50",
   "metadata": {},
   "source": [
    "Выведем общую информацию о данных при помощи соответствующих методов"
   ]
  },
  {
   "cell_type": "code",
   "execution_count": 4,
   "id": "e9a6ba71",
   "metadata": {
    "scrolled": true
   },
   "outputs": [
    {
     "data": {
      "text/html": [
       "<div>\n",
       "<style scoped>\n",
       "    .dataframe tbody tr th:only-of-type {\n",
       "        vertical-align: middle;\n",
       "    }\n",
       "\n",
       "    .dataframe tbody tr th {\n",
       "        vertical-align: top;\n",
       "    }\n",
       "\n",
       "    .dataframe thead th {\n",
       "        text-align: right;\n",
       "    }\n",
       "</style>\n",
       "<table border=\"1\" class=\"dataframe\">\n",
       "  <thead>\n",
       "    <tr style=\"text-align: right;\">\n",
       "      <th></th>\n",
       "      <th>count</th>\n",
       "      <th>mean</th>\n",
       "      <th>std</th>\n",
       "      <th>min</th>\n",
       "      <th>25%</th>\n",
       "      <th>50%</th>\n",
       "      <th>75%</th>\n",
       "      <th>max</th>\n",
       "    </tr>\n",
       "  </thead>\n",
       "  <tbody>\n",
       "    <tr>\n",
       "      <th>RowNumber</th>\n",
       "      <td>10000.0</td>\n",
       "      <td>5.000500e+03</td>\n",
       "      <td>2886.895680</td>\n",
       "      <td>1.00</td>\n",
       "      <td>2500.75</td>\n",
       "      <td>5.000500e+03</td>\n",
       "      <td>7.500250e+03</td>\n",
       "      <td>10000.00</td>\n",
       "    </tr>\n",
       "    <tr>\n",
       "      <th>CustomerId</th>\n",
       "      <td>10000.0</td>\n",
       "      <td>1.569094e+07</td>\n",
       "      <td>71936.186123</td>\n",
       "      <td>15565701.00</td>\n",
       "      <td>15628528.25</td>\n",
       "      <td>1.569074e+07</td>\n",
       "      <td>1.575323e+07</td>\n",
       "      <td>15815690.00</td>\n",
       "    </tr>\n",
       "    <tr>\n",
       "      <th>CreditScore</th>\n",
       "      <td>10000.0</td>\n",
       "      <td>6.505288e+02</td>\n",
       "      <td>96.653299</td>\n",
       "      <td>350.00</td>\n",
       "      <td>584.00</td>\n",
       "      <td>6.520000e+02</td>\n",
       "      <td>7.180000e+02</td>\n",
       "      <td>850.00</td>\n",
       "    </tr>\n",
       "    <tr>\n",
       "      <th>Age</th>\n",
       "      <td>10000.0</td>\n",
       "      <td>3.892180e+01</td>\n",
       "      <td>10.487806</td>\n",
       "      <td>18.00</td>\n",
       "      <td>32.00</td>\n",
       "      <td>3.700000e+01</td>\n",
       "      <td>4.400000e+01</td>\n",
       "      <td>92.00</td>\n",
       "    </tr>\n",
       "    <tr>\n",
       "      <th>Tenure</th>\n",
       "      <td>9091.0</td>\n",
       "      <td>4.997690e+00</td>\n",
       "      <td>2.894723</td>\n",
       "      <td>0.00</td>\n",
       "      <td>2.00</td>\n",
       "      <td>5.000000e+00</td>\n",
       "      <td>7.000000e+00</td>\n",
       "      <td>10.00</td>\n",
       "    </tr>\n",
       "    <tr>\n",
       "      <th>Balance</th>\n",
       "      <td>10000.0</td>\n",
       "      <td>7.648589e+04</td>\n",
       "      <td>62397.405202</td>\n",
       "      <td>0.00</td>\n",
       "      <td>0.00</td>\n",
       "      <td>9.719854e+04</td>\n",
       "      <td>1.276442e+05</td>\n",
       "      <td>250898.09</td>\n",
       "    </tr>\n",
       "    <tr>\n",
       "      <th>NumOfProducts</th>\n",
       "      <td>10000.0</td>\n",
       "      <td>1.530200e+00</td>\n",
       "      <td>0.581654</td>\n",
       "      <td>1.00</td>\n",
       "      <td>1.00</td>\n",
       "      <td>1.000000e+00</td>\n",
       "      <td>2.000000e+00</td>\n",
       "      <td>4.00</td>\n",
       "    </tr>\n",
       "    <tr>\n",
       "      <th>HasCrCard</th>\n",
       "      <td>10000.0</td>\n",
       "      <td>7.055000e-01</td>\n",
       "      <td>0.455840</td>\n",
       "      <td>0.00</td>\n",
       "      <td>0.00</td>\n",
       "      <td>1.000000e+00</td>\n",
       "      <td>1.000000e+00</td>\n",
       "      <td>1.00</td>\n",
       "    </tr>\n",
       "    <tr>\n",
       "      <th>IsActiveMember</th>\n",
       "      <td>10000.0</td>\n",
       "      <td>5.151000e-01</td>\n",
       "      <td>0.499797</td>\n",
       "      <td>0.00</td>\n",
       "      <td>0.00</td>\n",
       "      <td>1.000000e+00</td>\n",
       "      <td>1.000000e+00</td>\n",
       "      <td>1.00</td>\n",
       "    </tr>\n",
       "    <tr>\n",
       "      <th>EstimatedSalary</th>\n",
       "      <td>10000.0</td>\n",
       "      <td>1.000902e+05</td>\n",
       "      <td>57510.492818</td>\n",
       "      <td>11.58</td>\n",
       "      <td>51002.11</td>\n",
       "      <td>1.001939e+05</td>\n",
       "      <td>1.493882e+05</td>\n",
       "      <td>199992.48</td>\n",
       "    </tr>\n",
       "    <tr>\n",
       "      <th>Exited</th>\n",
       "      <td>10000.0</td>\n",
       "      <td>2.037000e-01</td>\n",
       "      <td>0.402769</td>\n",
       "      <td>0.00</td>\n",
       "      <td>0.00</td>\n",
       "      <td>0.000000e+00</td>\n",
       "      <td>0.000000e+00</td>\n",
       "      <td>1.00</td>\n",
       "    </tr>\n",
       "  </tbody>\n",
       "</table>\n",
       "</div>"
      ],
      "text/plain": [
       "                   count          mean           std          min  \\\n",
       "RowNumber        10000.0  5.000500e+03   2886.895680         1.00   \n",
       "CustomerId       10000.0  1.569094e+07  71936.186123  15565701.00   \n",
       "CreditScore      10000.0  6.505288e+02     96.653299       350.00   \n",
       "Age              10000.0  3.892180e+01     10.487806        18.00   \n",
       "Tenure            9091.0  4.997690e+00      2.894723         0.00   \n",
       "Balance          10000.0  7.648589e+04  62397.405202         0.00   \n",
       "NumOfProducts    10000.0  1.530200e+00      0.581654         1.00   \n",
       "HasCrCard        10000.0  7.055000e-01      0.455840         0.00   \n",
       "IsActiveMember   10000.0  5.151000e-01      0.499797         0.00   \n",
       "EstimatedSalary  10000.0  1.000902e+05  57510.492818        11.58   \n",
       "Exited           10000.0  2.037000e-01      0.402769         0.00   \n",
       "\n",
       "                         25%           50%           75%          max  \n",
       "RowNumber            2500.75  5.000500e+03  7.500250e+03     10000.00  \n",
       "CustomerId       15628528.25  1.569074e+07  1.575323e+07  15815690.00  \n",
       "CreditScore           584.00  6.520000e+02  7.180000e+02       850.00  \n",
       "Age                    32.00  3.700000e+01  4.400000e+01        92.00  \n",
       "Tenure                  2.00  5.000000e+00  7.000000e+00        10.00  \n",
       "Balance                 0.00  9.719854e+04  1.276442e+05    250898.09  \n",
       "NumOfProducts           1.00  1.000000e+00  2.000000e+00         4.00  \n",
       "HasCrCard               0.00  1.000000e+00  1.000000e+00         1.00  \n",
       "IsActiveMember          0.00  1.000000e+00  1.000000e+00         1.00  \n",
       "EstimatedSalary     51002.11  1.001939e+05  1.493882e+05    199992.48  \n",
       "Exited                  0.00  0.000000e+00  0.000000e+00         1.00  "
      ]
     },
     "metadata": {},
     "output_type": "display_data"
    },
    {
     "name": "stdout",
     "output_type": "stream",
     "text": [
      "<class 'pandas.core.frame.DataFrame'>\n",
      "RangeIndex: 10000 entries, 0 to 9999\n",
      "Data columns (total 14 columns):\n",
      " #   Column           Non-Null Count  Dtype  \n",
      "---  ------           --------------  -----  \n",
      " 0   RowNumber        10000 non-null  int64  \n",
      " 1   CustomerId       10000 non-null  int64  \n",
      " 2   Surname          10000 non-null  object \n",
      " 3   CreditScore      10000 non-null  int64  \n",
      " 4   Geography        10000 non-null  object \n",
      " 5   Gender           10000 non-null  object \n",
      " 6   Age              10000 non-null  int64  \n",
      " 7   Tenure           9091 non-null   float64\n",
      " 8   Balance          10000 non-null  float64\n",
      " 9   NumOfProducts    10000 non-null  int64  \n",
      " 10  HasCrCard        10000 non-null  int64  \n",
      " 11  IsActiveMember   10000 non-null  int64  \n",
      " 12  EstimatedSalary  10000 non-null  float64\n",
      " 13  Exited           10000 non-null  int64  \n",
      "dtypes: float64(3), int64(8), object(3)\n",
      "memory usage: 1.1+ MB\n"
     ]
    },
    {
     "data": {
      "text/plain": [
       "Tenure    909\n",
       "dtype: int64"
      ]
     },
     "execution_count": 4,
     "metadata": {},
     "output_type": "execute_result"
    }
   ],
   "source": [
    "display(data.describe().T)\n",
    "\n",
    "data.info()\n",
    "\n",
    "missings = data.isna().sum()\n",
    "missings[missings > 0]"
   ]
  },
  {
   "cell_type": "markdown",
   "id": "e78cd102",
   "metadata": {},
   "source": [
    "<div style=\"border: 3px solid rgb(0,0,0); padding: 20px\">\n",
    "    \n",
    "**Итого**\n",
    "\n",
    "Были импортированы библиотеки. Обработаны ошибки, которые могут возникнуть в процессе получения исходных данных. Данные успешно получены и прочитаны. Решаем задачу **бинарной классификации**\n",
    "\n",
    "___\n",
    "\n",
    "Информационные сводки предоставляют следующую информацию для проведения дальнейшего исследования:\n",
    "\n",
    "- В данных есть один признак, где пропущены значения.\n",
    "- Наблюдается большое кол-во признаков, в которых крайне большие значения стандартного отклонения &#8658; требуется масштабирование данных\n",
    "- Есть категориальные признаки &#8658; их требуется закодировать\n",
    "- Есть незначимые или служебные признаки, которые стоит исключить\n",
    "- Стоит рассмотреть баланс классов целевого признака\n",
    "\n",
    "</div>"
   ]
  },
  {
   "cell_type": "markdown",
   "id": "62677338",
   "metadata": {},
   "source": [
    "## Предобработка данных ♻️"
   ]
  },
  {
   "cell_type": "markdown",
   "id": "bbcd1ae4",
   "metadata": {},
   "source": [
    "### Переименование столбцов"
   ]
  },
  {
   "cell_type": "code",
   "execution_count": 5,
   "id": "bcc32373",
   "metadata": {},
   "outputs": [
    {
     "data": {
      "text/plain": [
       "Index(['row_number', 'customer_id', 'surname', 'credit_score', 'geography',\n",
       "       'gender', 'age', 'tenure', 'balance', 'num_of_products',\n",
       "       'has_cred_card', 'is_active_member', 'est_salary', 'exited'],\n",
       "      dtype='object')"
      ]
     },
     "execution_count": 5,
     "metadata": {},
     "output_type": "execute_result"
    }
   ],
   "source": [
    "data.rename(\n",
    "    columns={\n",
    "        'RowNumber' : 'row_number', \n",
    "        'CustomerId' : 'customer_id', \n",
    "        'Surname' : 'surname', \n",
    "        'CreditScore' : 'credit_score', \n",
    "        'Geography' : 'geography', \n",
    "        'Gender' : 'gender', \n",
    "        'Age' : 'age', \n",
    "        'Tenure' : 'tenure', \n",
    "        'Balance' : 'balance', \n",
    "        'NumOfProducts' : 'num_of_products', \n",
    "        'HasCrCard' : 'has_cred_card', \n",
    "        'IsActiveMember' : 'is_active_member', \n",
    "        'EstimatedSalary' : 'est_salary', \n",
    "        'Exited' : 'exited'\n",
    "    }, inplace=True\n",
    ")\n",
    "\n",
    "data.columns"
   ]
  },
  {
   "cell_type": "markdown",
   "id": "1741740a",
   "metadata": {},
   "source": [
    "### Пропущенные значения"
   ]
  },
  {
   "cell_type": "markdown",
   "id": "9ab78bb7",
   "metadata": {},
   "source": [
    "#### `tenure`\n",
    "\n",
    "Пропущено около `9%` значений\n",
    "\n",
    "Заполним пропущенные значения в этом столбце средним значением среди клиентов одного и того же возраста."
   ]
  },
  {
   "cell_type": "code",
   "execution_count": 6,
   "id": "717af578",
   "metadata": {},
   "outputs": [
    {
     "data": {
      "text/html": [
       "<div>\n",
       "<style scoped>\n",
       "    .dataframe tbody tr th:only-of-type {\n",
       "        vertical-align: middle;\n",
       "    }\n",
       "\n",
       "    .dataframe tbody tr th {\n",
       "        vertical-align: top;\n",
       "    }\n",
       "\n",
       "    .dataframe thead th {\n",
       "        text-align: right;\n",
       "    }\n",
       "</style>\n",
       "<table border=\"1\" class=\"dataframe\">\n",
       "  <thead>\n",
       "    <tr style=\"text-align: right;\">\n",
       "      <th></th>\n",
       "      <th>row_number</th>\n",
       "      <th>customer_id</th>\n",
       "      <th>surname</th>\n",
       "      <th>credit_score</th>\n",
       "      <th>geography</th>\n",
       "      <th>gender</th>\n",
       "      <th>age</th>\n",
       "      <th>tenure</th>\n",
       "      <th>balance</th>\n",
       "      <th>num_of_products</th>\n",
       "      <th>has_cred_card</th>\n",
       "      <th>is_active_member</th>\n",
       "      <th>est_salary</th>\n",
       "      <th>exited</th>\n",
       "    </tr>\n",
       "  </thead>\n",
       "  <tbody>\n",
       "    <tr>\n",
       "      <th>30</th>\n",
       "      <td>31</td>\n",
       "      <td>15589475</td>\n",
       "      <td>Azikiwe</td>\n",
       "      <td>591</td>\n",
       "      <td>Spain</td>\n",
       "      <td>Female</td>\n",
       "      <td>39</td>\n",
       "      <td>NaN</td>\n",
       "      <td>0.00</td>\n",
       "      <td>3</td>\n",
       "      <td>1</td>\n",
       "      <td>0</td>\n",
       "      <td>140469.38</td>\n",
       "      <td>1</td>\n",
       "    </tr>\n",
       "    <tr>\n",
       "      <th>48</th>\n",
       "      <td>49</td>\n",
       "      <td>15766205</td>\n",
       "      <td>Yin</td>\n",
       "      <td>550</td>\n",
       "      <td>Germany</td>\n",
       "      <td>Male</td>\n",
       "      <td>38</td>\n",
       "      <td>NaN</td>\n",
       "      <td>103391.38</td>\n",
       "      <td>1</td>\n",
       "      <td>0</td>\n",
       "      <td>1</td>\n",
       "      <td>90878.13</td>\n",
       "      <td>0</td>\n",
       "    </tr>\n",
       "    <tr>\n",
       "      <th>51</th>\n",
       "      <td>52</td>\n",
       "      <td>15768193</td>\n",
       "      <td>Trevisani</td>\n",
       "      <td>585</td>\n",
       "      <td>Germany</td>\n",
       "      <td>Male</td>\n",
       "      <td>36</td>\n",
       "      <td>NaN</td>\n",
       "      <td>146050.97</td>\n",
       "      <td>2</td>\n",
       "      <td>0</td>\n",
       "      <td>0</td>\n",
       "      <td>86424.57</td>\n",
       "      <td>0</td>\n",
       "    </tr>\n",
       "    <tr>\n",
       "      <th>53</th>\n",
       "      <td>54</td>\n",
       "      <td>15702298</td>\n",
       "      <td>Parkhill</td>\n",
       "      <td>655</td>\n",
       "      <td>Germany</td>\n",
       "      <td>Male</td>\n",
       "      <td>41</td>\n",
       "      <td>NaN</td>\n",
       "      <td>125561.97</td>\n",
       "      <td>1</td>\n",
       "      <td>0</td>\n",
       "      <td>0</td>\n",
       "      <td>164040.94</td>\n",
       "      <td>1</td>\n",
       "    </tr>\n",
       "    <tr>\n",
       "      <th>60</th>\n",
       "      <td>61</td>\n",
       "      <td>15651280</td>\n",
       "      <td>Hunter</td>\n",
       "      <td>742</td>\n",
       "      <td>Germany</td>\n",
       "      <td>Male</td>\n",
       "      <td>35</td>\n",
       "      <td>NaN</td>\n",
       "      <td>136857.00</td>\n",
       "      <td>1</td>\n",
       "      <td>0</td>\n",
       "      <td>0</td>\n",
       "      <td>84509.57</td>\n",
       "      <td>0</td>\n",
       "    </tr>\n",
       "    <tr>\n",
       "      <th>...</th>\n",
       "      <td>...</td>\n",
       "      <td>...</td>\n",
       "      <td>...</td>\n",
       "      <td>...</td>\n",
       "      <td>...</td>\n",
       "      <td>...</td>\n",
       "      <td>...</td>\n",
       "      <td>...</td>\n",
       "      <td>...</td>\n",
       "      <td>...</td>\n",
       "      <td>...</td>\n",
       "      <td>...</td>\n",
       "      <td>...</td>\n",
       "      <td>...</td>\n",
       "    </tr>\n",
       "    <tr>\n",
       "      <th>9944</th>\n",
       "      <td>9945</td>\n",
       "      <td>15703923</td>\n",
       "      <td>Cameron</td>\n",
       "      <td>744</td>\n",
       "      <td>Germany</td>\n",
       "      <td>Male</td>\n",
       "      <td>41</td>\n",
       "      <td>NaN</td>\n",
       "      <td>190409.34</td>\n",
       "      <td>2</td>\n",
       "      <td>1</td>\n",
       "      <td>1</td>\n",
       "      <td>138361.48</td>\n",
       "      <td>0</td>\n",
       "    </tr>\n",
       "    <tr>\n",
       "      <th>9956</th>\n",
       "      <td>9957</td>\n",
       "      <td>15707861</td>\n",
       "      <td>Nucci</td>\n",
       "      <td>520</td>\n",
       "      <td>France</td>\n",
       "      <td>Female</td>\n",
       "      <td>46</td>\n",
       "      <td>NaN</td>\n",
       "      <td>85216.61</td>\n",
       "      <td>1</td>\n",
       "      <td>1</td>\n",
       "      <td>0</td>\n",
       "      <td>117369.52</td>\n",
       "      <td>1</td>\n",
       "    </tr>\n",
       "    <tr>\n",
       "      <th>9964</th>\n",
       "      <td>9965</td>\n",
       "      <td>15642785</td>\n",
       "      <td>Douglas</td>\n",
       "      <td>479</td>\n",
       "      <td>France</td>\n",
       "      <td>Male</td>\n",
       "      <td>34</td>\n",
       "      <td>NaN</td>\n",
       "      <td>117593.48</td>\n",
       "      <td>2</td>\n",
       "      <td>0</td>\n",
       "      <td>0</td>\n",
       "      <td>113308.29</td>\n",
       "      <td>0</td>\n",
       "    </tr>\n",
       "    <tr>\n",
       "      <th>9985</th>\n",
       "      <td>9986</td>\n",
       "      <td>15586914</td>\n",
       "      <td>Nepean</td>\n",
       "      <td>659</td>\n",
       "      <td>France</td>\n",
       "      <td>Male</td>\n",
       "      <td>36</td>\n",
       "      <td>NaN</td>\n",
       "      <td>123841.49</td>\n",
       "      <td>2</td>\n",
       "      <td>1</td>\n",
       "      <td>0</td>\n",
       "      <td>96833.00</td>\n",
       "      <td>0</td>\n",
       "    </tr>\n",
       "    <tr>\n",
       "      <th>9999</th>\n",
       "      <td>10000</td>\n",
       "      <td>15628319</td>\n",
       "      <td>Walker</td>\n",
       "      <td>792</td>\n",
       "      <td>France</td>\n",
       "      <td>Female</td>\n",
       "      <td>28</td>\n",
       "      <td>NaN</td>\n",
       "      <td>130142.79</td>\n",
       "      <td>1</td>\n",
       "      <td>1</td>\n",
       "      <td>0</td>\n",
       "      <td>38190.78</td>\n",
       "      <td>0</td>\n",
       "    </tr>\n",
       "  </tbody>\n",
       "</table>\n",
       "<p>909 rows × 14 columns</p>\n",
       "</div>"
      ],
      "text/plain": [
       "      row_number  customer_id    surname  credit_score geography  gender  age  \\\n",
       "30            31     15589475    Azikiwe           591     Spain  Female   39   \n",
       "48            49     15766205        Yin           550   Germany    Male   38   \n",
       "51            52     15768193  Trevisani           585   Germany    Male   36   \n",
       "53            54     15702298   Parkhill           655   Germany    Male   41   \n",
       "60            61     15651280     Hunter           742   Germany    Male   35   \n",
       "...          ...          ...        ...           ...       ...     ...  ...   \n",
       "9944        9945     15703923    Cameron           744   Germany    Male   41   \n",
       "9956        9957     15707861      Nucci           520    France  Female   46   \n",
       "9964        9965     15642785    Douglas           479    France    Male   34   \n",
       "9985        9986     15586914     Nepean           659    France    Male   36   \n",
       "9999       10000     15628319     Walker           792    France  Female   28   \n",
       "\n",
       "      tenure    balance  num_of_products  has_cred_card  is_active_member  \\\n",
       "30       NaN       0.00                3              1                 0   \n",
       "48       NaN  103391.38                1              0                 1   \n",
       "51       NaN  146050.97                2              0                 0   \n",
       "53       NaN  125561.97                1              0                 0   \n",
       "60       NaN  136857.00                1              0                 0   \n",
       "...      ...        ...              ...            ...               ...   \n",
       "9944     NaN  190409.34                2              1                 1   \n",
       "9956     NaN   85216.61                1              1                 0   \n",
       "9964     NaN  117593.48                2              0                 0   \n",
       "9985     NaN  123841.49                2              1                 0   \n",
       "9999     NaN  130142.79                1              1                 0   \n",
       "\n",
       "      est_salary  exited  \n",
       "30     140469.38       1  \n",
       "48      90878.13       0  \n",
       "51      86424.57       0  \n",
       "53     164040.94       1  \n",
       "60      84509.57       0  \n",
       "...          ...     ...  \n",
       "9944   138361.48       0  \n",
       "9956   117369.52       1  \n",
       "9964   113308.29       0  \n",
       "9985    96833.00       0  \n",
       "9999    38190.78       0  \n",
       "\n",
       "[909 rows x 14 columns]"
      ]
     },
     "execution_count": 6,
     "metadata": {},
     "output_type": "execute_result"
    }
   ],
   "source": [
    "data.query('tenure.isna()')"
   ]
  },
  {
   "cell_type": "markdown",
   "id": "caf92b6a",
   "metadata": {},
   "source": [
    "До заполнения пропусков в этом столбце имеем следующие показатели"
   ]
  },
  {
   "cell_type": "code",
   "execution_count": 7,
   "id": "74b64504",
   "metadata": {},
   "outputs": [
    {
     "data": {
      "text/plain": [
       "count    9091.000000\n",
       "mean        4.997690\n",
       "std         2.894723\n",
       "min         0.000000\n",
       "25%         2.000000\n",
       "50%         5.000000\n",
       "75%         7.000000\n",
       "max        10.000000\n",
       "Name: tenure, dtype: float64"
      ]
     },
     "execution_count": 7,
     "metadata": {},
     "output_type": "execute_result"
    }
   ],
   "source": [
    "data.tenure.describe()"
   ]
  },
  {
   "cell_type": "code",
   "execution_count": 8,
   "id": "2cf6a7a5",
   "metadata": {},
   "outputs": [],
   "source": [
    "for age in data.query('tenure.isna()')['age'].unique():\n",
    "    age_mean = data.query('age == @age')['tenure'].mean()\n",
    "    data.loc[data.query('tenure.isna() & age == @age').index, 'tenure'] = age_mean\n",
    "\n",
    "data['tenure'] = data.tenure.astype('int') # Переведем тип данных столбца в int"
   ]
  },
  {
   "cell_type": "code",
   "execution_count": 9,
   "id": "e22c57cc",
   "metadata": {
    "scrolled": true
   },
   "outputs": [
    {
     "data": {
      "text/plain": [
       "row_number          0\n",
       "customer_id         0\n",
       "surname             0\n",
       "credit_score        0\n",
       "geography           0\n",
       "gender              0\n",
       "age                 0\n",
       "tenure              0\n",
       "balance             0\n",
       "num_of_products     0\n",
       "has_cred_card       0\n",
       "is_active_member    0\n",
       "est_salary          0\n",
       "exited              0\n",
       "dtype: int64"
      ]
     },
     "execution_count": 9,
     "metadata": {},
     "output_type": "execute_result"
    }
   ],
   "source": [
    "data.isna().sum()"
   ]
  },
  {
   "cell_type": "markdown",
   "id": "b8f3ca77",
   "metadata": {},
   "source": [
    "Пропущенных значений не осталось"
   ]
  },
  {
   "cell_type": "markdown",
   "id": "91008242",
   "metadata": {},
   "source": [
    "Посмотрим, не исказились ли стат показатели столбца после заполнения нами пропусков"
   ]
  },
  {
   "cell_type": "code",
   "execution_count": 10,
   "id": "3e140479",
   "metadata": {
    "scrolled": true
   },
   "outputs": [
    {
     "data": {
      "text/plain": [
       "count    10000.000000\n",
       "mean         4.949400\n",
       "std          2.768719\n",
       "min          0.000000\n",
       "25%          3.000000\n",
       "50%          5.000000\n",
       "75%          7.000000\n",
       "max         10.000000\n",
       "Name: tenure, dtype: float64"
      ]
     },
     "execution_count": 10,
     "metadata": {},
     "output_type": "execute_result"
    }
   ],
   "source": [
    "data.tenure.describe()"
   ]
  },
  {
   "cell_type": "markdown",
   "id": "a9759190",
   "metadata": {},
   "source": [
    "Ничего координально не изменилось, даже немного улучшилось в показателях стандартного отклонения и среднего. \n",
    "\n",
    "Это отлично. \n",
    "\n",
    "С пропусками разобрались!"
   ]
  },
  {
   "cell_type": "markdown",
   "id": "ad535462",
   "metadata": {},
   "source": [
    "### Явные дубликаты"
   ]
  },
  {
   "cell_type": "code",
   "execution_count": 11,
   "id": "14952d16",
   "metadata": {},
   "outputs": [
    {
     "data": {
      "text/plain": [
       "0"
      ]
     },
     "execution_count": 11,
     "metadata": {},
     "output_type": "execute_result"
    }
   ],
   "source": [
    "data.duplicated().sum()"
   ]
  },
  {
   "cell_type": "markdown",
   "id": "d23c7eee",
   "metadata": {},
   "source": [
    "Явных дубликатов нет"
   ]
  },
  {
   "cell_type": "markdown",
   "id": "fd61b4a3",
   "metadata": {},
   "source": [
    "### Отбрасывание незначимых признаков"
   ]
  },
  {
   "cell_type": "markdown",
   "id": "1207e9f0",
   "metadata": {},
   "source": [
    "Некоторые признаки характеризуют индивидуальность клиента, либо выполняют служебные функции. Нашей классификационной модели это не очень то и поможет, а скорее помешает быстрее обучаться, поэтому целесообразно отбросить их.\n",
    "\n",
    "Это столбцы:\n",
    "- `row_number`\n",
    "- `customer_id`\n",
    "- `surname`"
   ]
  },
  {
   "cell_type": "code",
   "execution_count": 12,
   "id": "e1565d80",
   "metadata": {
    "scrolled": true
   },
   "outputs": [
    {
     "data": {
      "text/plain": [
       "Index(['credit_score', 'geography', 'gender', 'age', 'tenure', 'balance',\n",
       "       'num_of_products', 'has_cred_card', 'is_active_member', 'est_salary',\n",
       "       'exited'],\n",
       "      dtype='object')"
      ]
     },
     "execution_count": 12,
     "metadata": {},
     "output_type": "execute_result"
    }
   ],
   "source": [
    "minor_features = data.loc[:, ['row_number', 'customer_id', 'surname']]\n",
    "new_data = data.drop(columns=['row_number', 'customer_id', 'surname'])\n",
    "new_data.columns"
   ]
  },
  {
   "cell_type": "markdown",
   "id": "5eb9aa06",
   "metadata": {},
   "source": [
    "### Разбиение данных"
   ]
  },
  {
   "cell_type": "markdown",
   "id": "25899419",
   "metadata": {},
   "source": [
    "От пропусков избавились, чуть \"причесали\" данные внешне, поэтому самое время разбить данные на три набора: тренировочный, валидационный и тестовый."
   ]
  },
  {
   "cell_type": "code",
   "execution_count": 13,
   "id": "3b1214e8",
   "metadata": {},
   "outputs": [
    {
     "name": "stdout",
     "output_type": "stream",
     "text": [
      "Train data shape (4000, 11)\n",
      "Valid data shape (3000, 11)\n",
      "Test data shape (3000, 11)\n",
      "\n"
     ]
    }
   ],
   "source": [
    "train_data, test_valid_data = train_test_split(new_data, test_size=.6, random_state=42)\n",
    "valid_data, test_data = train_test_split(test_valid_data, test_size=.5, random_state=42)\n",
    "\n",
    "print(f'Train data shape {train_data.shape}\\n'\n",
    "      f'Valid data shape {valid_data.shape}\\n' \n",
    "      f'Test data shape {test_data.shape}\\n')"
   ]
  },
  {
   "cell_type": "markdown",
   "id": "c19b6a77",
   "metadata": {},
   "source": [
    "### Кодирование категориальных признаков и стандартизация числовых признаков в наборах данных"
   ]
  },
  {
   "cell_type": "markdown",
   "id": "643f60e2",
   "metadata": {},
   "source": [
    "**Кодирование признаков** - преобразование категорий в категориальных признаках в числовые значения. В нашем случае требуется для использования данных при обучении моделей, которые используют математические закономерности для классификации.\n",
    "\n",
    "**Стандартизация (или масштабирование) признаков** - преобразование необходимо, поскольку признаки датасета могут иметь большие различия между своими диапазонами, и для моделей машинного обучения, основанных на вычислении дистанции между точками на графике как основу прогнозирования: Метод k-ближайших соседей (kNN), Метод опорных векторов (SVM), Дерево решений (Decision Tree) и проч., это спровоцирует искаженное восприятие данных.\n",
    "\n",
    "Кодирование категориальных и стандартизацию числовых признаков выполним одним этапом. Обусловлено это простой экономией времени, так как будем использовать фукнцию: назовем ее, скажем, `ohe_and_scaling`.\n",
    "\n",
    "Принимает она на вход исходный набор данных, список из числовых признаков для стандартизации, список из категориальных признаков для кодирования и необязательный аргумент, который поможет избежать дамми-ловушки при кодировании.\n",
    "\n",
    "Кодируем следующие признаки:\n",
    "- `sex`\n",
    "- `geography`\n",
    "- `num_of_products` (одновременно и числовой, и категориальный признак)\n",
    "- `tenure` (одновременно и числовой, и категориальный признак)\n",
    "\n",
    "Стандартизируем:\n",
    "- `credit_score`\n",
    "- `balance`\n",
    "- `age`\n",
    "- `est_salary`"
   ]
  },
  {
   "cell_type": "code",
   "execution_count": 14,
   "id": "a311aa98",
   "metadata": {},
   "outputs": [],
   "source": [
    "def ohe_and_scaling(data: pd.DataFrame,\n",
    "                    ohe_cols: List = list(), \n",
    "                    scale_cols: List = list(), \n",
    "                    drop_first: bool = True,\n",
    "                    scale_data_to_fit: pd.DataFrame = None) -> pd.DataFrame:\n",
    "    '''Функция, масштабирующая (техника OneHotEncoding) \n",
    "       и кодирующая (стандартизация при помощи StandardScaler) \n",
    "       соответствующие признаки в данных. \n",
    "       \n",
    "       Параметры:\n",
    "       \n",
    "       `data` - исходные данные;\n",
    "       \n",
    "       Опциональные параметры:\n",
    "       \n",
    "       `scale_cols` (по умолч. - `[]`) - список числовых признаков для стандартизации;\n",
    "       `ohe_cols` (по умолч. - `[]`) - список категориальных признаков для кодирования;\n",
    "       `drop_first` (по умолч. - `True`) - удаление первого столбца для того, \n",
    "       чтобы избежать дамми-ловушки при кодировании\n",
    "       `scale_data_to_fit` (по умолч. - `None`) - набор данных для обучения `StandardScaler`. \n",
    "       Если `None`, то алгоритм обучается на `data`.\n",
    "    '''\n",
    "    \n",
    "    # Кодирование категориальных признаков\n",
    "    if not ohe_cols: \n",
    "        if drop_first:\n",
    "            data_ohe = pd.get_dummies(data, drop_first=drop_first)\n",
    "        else:\n",
    "            data_ohe = pd.get_dummies(data)\n",
    "    else:\n",
    "        for col in ohe_cols: # Кодирование одновременно и категориальных, и числовых признаков \n",
    "            data[col] = data[col].astype(object)\n",
    "        \n",
    "        if drop_first:\n",
    "            data_ohe = pd.get_dummies(data, drop_first=drop_first)\n",
    "        else:\n",
    "            data_ohe = pd.get_dummies(data)\n",
    "    \n",
    "    \n",
    "    # Стандартизация числовых признаков\n",
    "    if scale_cols:\n",
    "        scaler = StandardScaler()\n",
    "        \n",
    "        if scale_data_to_fit is not None:\n",
    "            scaler.fit(scale_data_to_fit.loc[:, scale_cols])\n",
    "            data_ohe_scaled = data_ohe.copy()\n",
    "            data_ohe_scaled.loc[:, scale_cols] = scaler.transform(\n",
    "                                                          data_ohe.loc[:, scale_cols])\n",
    "            return data_ohe_scaled\n",
    "        else:\n",
    "            scaler.fit(data_ohe.loc[:, scale_cols])\n",
    "            data_ohe_scaled = data_ohe.copy()\n",
    "            data_ohe_scaled.loc[:, scale_cols] = scaler.transform(\n",
    "                                                          data_ohe.loc[:, scale_cols])\n",
    "            return data_ohe_scaled\n",
    "\n",
    "    return data_ohe"
   ]
  },
  {
   "cell_type": "code",
   "execution_count": 15,
   "id": "e23840e4",
   "metadata": {
    "scrolled": true
   },
   "outputs": [
    {
     "data": {
      "text/html": [
       "<div>\n",
       "<style scoped>\n",
       "    .dataframe tbody tr th:only-of-type {\n",
       "        vertical-align: middle;\n",
       "    }\n",
       "\n",
       "    .dataframe tbody tr th {\n",
       "        vertical-align: top;\n",
       "    }\n",
       "\n",
       "    .dataframe thead th {\n",
       "        text-align: right;\n",
       "    }\n",
       "</style>\n",
       "<table border=\"1\" class=\"dataframe\">\n",
       "  <thead>\n",
       "    <tr style=\"text-align: right;\">\n",
       "      <th></th>\n",
       "      <th>credit_score</th>\n",
       "      <th>age</th>\n",
       "      <th>balance</th>\n",
       "      <th>has_cred_card</th>\n",
       "      <th>is_active_member</th>\n",
       "      <th>est_salary</th>\n",
       "      <th>exited</th>\n",
       "      <th>geography_Germany</th>\n",
       "      <th>geography_Spain</th>\n",
       "      <th>gender_Male</th>\n",
       "      <th>tenure_1</th>\n",
       "      <th>tenure_2</th>\n",
       "      <th>tenure_3</th>\n",
       "      <th>tenure_4</th>\n",
       "      <th>tenure_5</th>\n",
       "      <th>tenure_6</th>\n",
       "      <th>tenure_7</th>\n",
       "      <th>tenure_8</th>\n",
       "      <th>tenure_9</th>\n",
       "      <th>tenure_10</th>\n",
       "      <th>num_of_products_2</th>\n",
       "      <th>num_of_products_3</th>\n",
       "      <th>num_of_products_4</th>\n",
       "    </tr>\n",
       "  </thead>\n",
       "  <tbody>\n",
       "    <tr>\n",
       "      <th>2480</th>\n",
       "      <td>-0.159153</td>\n",
       "      <td>-0.179632</td>\n",
       "      <td>0.215033</td>\n",
       "      <td>1</td>\n",
       "      <td>1</td>\n",
       "      <td>-1.118124</td>\n",
       "      <td>0</td>\n",
       "      <td>1</td>\n",
       "      <td>0</td>\n",
       "      <td>1</td>\n",
       "      <td>0</td>\n",
       "      <td>1</td>\n",
       "      <td>0</td>\n",
       "      <td>0</td>\n",
       "      <td>0</td>\n",
       "      <td>0</td>\n",
       "      <td>0</td>\n",
       "      <td>0</td>\n",
       "      <td>0</td>\n",
       "      <td>0</td>\n",
       "      <td>1</td>\n",
       "      <td>0</td>\n",
       "      <td>0</td>\n",
       "    </tr>\n",
       "    <tr>\n",
       "      <th>289</th>\n",
       "      <td>-0.678880</td>\n",
       "      <td>-0.465328</td>\n",
       "      <td>-1.222744</td>\n",
       "      <td>1</td>\n",
       "      <td>0</td>\n",
       "      <td>-0.395849</td>\n",
       "      <td>0</td>\n",
       "      <td>0</td>\n",
       "      <td>1</td>\n",
       "      <td>1</td>\n",
       "      <td>0</td>\n",
       "      <td>0</td>\n",
       "      <td>0</td>\n",
       "      <td>0</td>\n",
       "      <td>0</td>\n",
       "      <td>0</td>\n",
       "      <td>0</td>\n",
       "      <td>0</td>\n",
       "      <td>0</td>\n",
       "      <td>1</td>\n",
       "      <td>1</td>\n",
       "      <td>0</td>\n",
       "      <td>0</td>\n",
       "    </tr>\n",
       "    <tr>\n",
       "      <th>6086</th>\n",
       "      <td>-1.229791</td>\n",
       "      <td>-0.179632</td>\n",
       "      <td>1.589951</td>\n",
       "      <td>1</td>\n",
       "      <td>1</td>\n",
       "      <td>-1.603052</td>\n",
       "      <td>0</td>\n",
       "      <td>0</td>\n",
       "      <td>1</td>\n",
       "      <td>1</td>\n",
       "      <td>0</td>\n",
       "      <td>0</td>\n",
       "      <td>1</td>\n",
       "      <td>0</td>\n",
       "      <td>0</td>\n",
       "      <td>0</td>\n",
       "      <td>0</td>\n",
       "      <td>0</td>\n",
       "      <td>0</td>\n",
       "      <td>0</td>\n",
       "      <td>1</td>\n",
       "      <td>0</td>\n",
       "      <td>0</td>\n",
       "    </tr>\n",
       "    <tr>\n",
       "      <th>3075</th>\n",
       "      <td>-1.011506</td>\n",
       "      <td>-0.370096</td>\n",
       "      <td>-1.222744</td>\n",
       "      <td>1</td>\n",
       "      <td>1</td>\n",
       "      <td>1.569080</td>\n",
       "      <td>0</td>\n",
       "      <td>0</td>\n",
       "      <td>0</td>\n",
       "      <td>1</td>\n",
       "      <td>0</td>\n",
       "      <td>0</td>\n",
       "      <td>0</td>\n",
       "      <td>0</td>\n",
       "      <td>0</td>\n",
       "      <td>0</td>\n",
       "      <td>0</td>\n",
       "      <td>0</td>\n",
       "      <td>0</td>\n",
       "      <td>1</td>\n",
       "      <td>1</td>\n",
       "      <td>0</td>\n",
       "      <td>0</td>\n",
       "    </tr>\n",
       "    <tr>\n",
       "      <th>8123</th>\n",
       "      <td>0.599648</td>\n",
       "      <td>-0.560560</td>\n",
       "      <td>-1.222744</td>\n",
       "      <td>0</td>\n",
       "      <td>0</td>\n",
       "      <td>-1.043872</td>\n",
       "      <td>0</td>\n",
       "      <td>0</td>\n",
       "      <td>0</td>\n",
       "      <td>1</td>\n",
       "      <td>1</td>\n",
       "      <td>0</td>\n",
       "      <td>0</td>\n",
       "      <td>0</td>\n",
       "      <td>0</td>\n",
       "      <td>0</td>\n",
       "      <td>0</td>\n",
       "      <td>0</td>\n",
       "      <td>0</td>\n",
       "      <td>0</td>\n",
       "      <td>0</td>\n",
       "      <td>0</td>\n",
       "      <td>0</td>\n",
       "    </tr>\n",
       "  </tbody>\n",
       "</table>\n",
       "</div>"
      ],
      "text/plain": [
       "      credit_score       age   balance  has_cred_card  is_active_member  \\\n",
       "2480     -0.159153 -0.179632  0.215033              1                 1   \n",
       "289      -0.678880 -0.465328 -1.222744              1                 0   \n",
       "6086     -1.229791 -0.179632  1.589951              1                 1   \n",
       "3075     -1.011506 -0.370096 -1.222744              1                 1   \n",
       "8123      0.599648 -0.560560 -1.222744              0                 0   \n",
       "\n",
       "      est_salary  exited  geography_Germany  geography_Spain  gender_Male  \\\n",
       "2480   -1.118124       0                  1                0            1   \n",
       "289    -0.395849       0                  0                1            1   \n",
       "6086   -1.603052       0                  0                1            1   \n",
       "3075    1.569080       0                  0                0            1   \n",
       "8123   -1.043872       0                  0                0            1   \n",
       "\n",
       "      tenure_1  tenure_2  tenure_3  tenure_4  tenure_5  tenure_6  tenure_7  \\\n",
       "2480         0         1         0         0         0         0         0   \n",
       "289          0         0         0         0         0         0         0   \n",
       "6086         0         0         1         0         0         0         0   \n",
       "3075         0         0         0         0         0         0         0   \n",
       "8123         1         0         0         0         0         0         0   \n",
       "\n",
       "      tenure_8  tenure_9  tenure_10  num_of_products_2  num_of_products_3  \\\n",
       "2480         0         0          0                  1                  0   \n",
       "289          0         0          1                  1                  0   \n",
       "6086         0         0          0                  1                  0   \n",
       "3075         0         0          1                  1                  0   \n",
       "8123         0         0          0                  0                  0   \n",
       "\n",
       "      num_of_products_4  \n",
       "2480                  0  \n",
       "289                   0  \n",
       "6086                  0  \n",
       "3075                  0  \n",
       "8123                  0  "
      ]
     },
     "metadata": {},
     "output_type": "display_data"
    },
    {
     "data": {
      "text/html": [
       "<div>\n",
       "<style scoped>\n",
       "    .dataframe tbody tr th:only-of-type {\n",
       "        vertical-align: middle;\n",
       "    }\n",
       "\n",
       "    .dataframe tbody tr th {\n",
       "        vertical-align: top;\n",
       "    }\n",
       "\n",
       "    .dataframe thead th {\n",
       "        text-align: right;\n",
       "    }\n",
       "</style>\n",
       "<table border=\"1\" class=\"dataframe\">\n",
       "  <thead>\n",
       "    <tr style=\"text-align: right;\">\n",
       "      <th></th>\n",
       "      <th>credit_score</th>\n",
       "      <th>age</th>\n",
       "      <th>balance</th>\n",
       "      <th>has_cred_card</th>\n",
       "      <th>is_active_member</th>\n",
       "      <th>est_salary</th>\n",
       "      <th>exited</th>\n",
       "      <th>geography_Germany</th>\n",
       "      <th>geography_Spain</th>\n",
       "      <th>gender_Male</th>\n",
       "      <th>tenure_1</th>\n",
       "      <th>tenure_2</th>\n",
       "      <th>tenure_3</th>\n",
       "      <th>tenure_4</th>\n",
       "      <th>tenure_5</th>\n",
       "      <th>tenure_6</th>\n",
       "      <th>tenure_7</th>\n",
       "      <th>tenure_8</th>\n",
       "      <th>tenure_9</th>\n",
       "      <th>tenure_10</th>\n",
       "      <th>num_of_products_2</th>\n",
       "      <th>num_of_products_3</th>\n",
       "      <th>num_of_products_4</th>\n",
       "    </tr>\n",
       "  </thead>\n",
       "  <tbody>\n",
       "    <tr>\n",
       "      <th>4148</th>\n",
       "      <td>0.007159</td>\n",
       "      <td>-0.655792</td>\n",
       "      <td>-1.222744</td>\n",
       "      <td>1</td>\n",
       "      <td>1</td>\n",
       "      <td>0.620903</td>\n",
       "      <td>0</td>\n",
       "      <td>0</td>\n",
       "      <td>0</td>\n",
       "      <td>1</td>\n",
       "      <td>0</td>\n",
       "      <td>0</td>\n",
       "      <td>0</td>\n",
       "      <td>0</td>\n",
       "      <td>0</td>\n",
       "      <td>1</td>\n",
       "      <td>0</td>\n",
       "      <td>0</td>\n",
       "      <td>0</td>\n",
       "      <td>0</td>\n",
       "      <td>1</td>\n",
       "      <td>0</td>\n",
       "      <td>0</td>\n",
       "    </tr>\n",
       "    <tr>\n",
       "      <th>8863</th>\n",
       "      <td>0.350179</td>\n",
       "      <td>-0.084399</td>\n",
       "      <td>-0.110157</td>\n",
       "      <td>1</td>\n",
       "      <td>1</td>\n",
       "      <td>-0.611902</td>\n",
       "      <td>1</td>\n",
       "      <td>0</td>\n",
       "      <td>1</td>\n",
       "      <td>1</td>\n",
       "      <td>0</td>\n",
       "      <td>0</td>\n",
       "      <td>0</td>\n",
       "      <td>0</td>\n",
       "      <td>0</td>\n",
       "      <td>0</td>\n",
       "      <td>0</td>\n",
       "      <td>1</td>\n",
       "      <td>0</td>\n",
       "      <td>0</td>\n",
       "      <td>1</td>\n",
       "      <td>0</td>\n",
       "      <td>0</td>\n",
       "    </tr>\n",
       "    <tr>\n",
       "      <th>4905</th>\n",
       "      <td>-0.658091</td>\n",
       "      <td>-0.846257</td>\n",
       "      <td>-1.222744</td>\n",
       "      <td>1</td>\n",
       "      <td>0</td>\n",
       "      <td>-0.326507</td>\n",
       "      <td>0</td>\n",
       "      <td>0</td>\n",
       "      <td>1</td>\n",
       "      <td>1</td>\n",
       "      <td>0</td>\n",
       "      <td>0</td>\n",
       "      <td>0</td>\n",
       "      <td>1</td>\n",
       "      <td>0</td>\n",
       "      <td>0</td>\n",
       "      <td>0</td>\n",
       "      <td>0</td>\n",
       "      <td>0</td>\n",
       "      <td>0</td>\n",
       "      <td>1</td>\n",
       "      <td>0</td>\n",
       "      <td>0</td>\n",
       "    </tr>\n",
       "    <tr>\n",
       "      <th>5294</th>\n",
       "      <td>-1.500049</td>\n",
       "      <td>-0.655792</td>\n",
       "      <td>1.511863</td>\n",
       "      <td>1</td>\n",
       "      <td>1</td>\n",
       "      <td>-1.388626</td>\n",
       "      <td>0</td>\n",
       "      <td>1</td>\n",
       "      <td>0</td>\n",
       "      <td>1</td>\n",
       "      <td>0</td>\n",
       "      <td>0</td>\n",
       "      <td>0</td>\n",
       "      <td>0</td>\n",
       "      <td>0</td>\n",
       "      <td>0</td>\n",
       "      <td>0</td>\n",
       "      <td>0</td>\n",
       "      <td>1</td>\n",
       "      <td>0</td>\n",
       "      <td>0</td>\n",
       "      <td>0</td>\n",
       "      <td>0</td>\n",
       "    </tr>\n",
       "    <tr>\n",
       "      <th>2847</th>\n",
       "      <td>-1.292158</td>\n",
       "      <td>-0.084399</td>\n",
       "      <td>0.377090</td>\n",
       "      <td>1</td>\n",
       "      <td>0</td>\n",
       "      <td>-0.202642</td>\n",
       "      <td>1</td>\n",
       "      <td>0</td>\n",
       "      <td>1</td>\n",
       "      <td>1</td>\n",
       "      <td>0</td>\n",
       "      <td>0</td>\n",
       "      <td>0</td>\n",
       "      <td>0</td>\n",
       "      <td>0</td>\n",
       "      <td>0</td>\n",
       "      <td>1</td>\n",
       "      <td>0</td>\n",
       "      <td>0</td>\n",
       "      <td>0</td>\n",
       "      <td>1</td>\n",
       "      <td>0</td>\n",
       "      <td>0</td>\n",
       "    </tr>\n",
       "  </tbody>\n",
       "</table>\n",
       "</div>"
      ],
      "text/plain": [
       "      credit_score       age   balance  has_cred_card  is_active_member  \\\n",
       "4148      0.007159 -0.655792 -1.222744              1                 1   \n",
       "8863      0.350179 -0.084399 -0.110157              1                 1   \n",
       "4905     -0.658091 -0.846257 -1.222744              1                 0   \n",
       "5294     -1.500049 -0.655792  1.511863              1                 1   \n",
       "2847     -1.292158 -0.084399  0.377090              1                 0   \n",
       "\n",
       "      est_salary  exited  geography_Germany  geography_Spain  gender_Male  \\\n",
       "4148    0.620903       0                  0                0            1   \n",
       "8863   -0.611902       1                  0                1            1   \n",
       "4905   -0.326507       0                  0                1            1   \n",
       "5294   -1.388626       0                  1                0            1   \n",
       "2847   -0.202642       1                  0                1            1   \n",
       "\n",
       "      tenure_1  tenure_2  tenure_3  tenure_4  tenure_5  tenure_6  tenure_7  \\\n",
       "4148         0         0         0         0         0         1         0   \n",
       "8863         0         0         0         0         0         0         0   \n",
       "4905         0         0         0         1         0         0         0   \n",
       "5294         0         0         0         0         0         0         0   \n",
       "2847         0         0         0         0         0         0         1   \n",
       "\n",
       "      tenure_8  tenure_9  tenure_10  num_of_products_2  num_of_products_3  \\\n",
       "4148         0         0          0                  1                  0   \n",
       "8863         1         0          0                  1                  0   \n",
       "4905         0         0          0                  1                  0   \n",
       "5294         0         1          0                  0                  0   \n",
       "2847         0         0          0                  1                  0   \n",
       "\n",
       "      num_of_products_4  \n",
       "4148                  0  \n",
       "8863                  0  \n",
       "4905                  0  \n",
       "5294                  0  \n",
       "2847                  0  "
      ]
     },
     "metadata": {},
     "output_type": "display_data"
    },
    {
     "data": {
      "text/html": [
       "<div>\n",
       "<style scoped>\n",
       "    .dataframe tbody tr th:only-of-type {\n",
       "        vertical-align: middle;\n",
       "    }\n",
       "\n",
       "    .dataframe tbody tr th {\n",
       "        vertical-align: top;\n",
       "    }\n",
       "\n",
       "    .dataframe thead th {\n",
       "        text-align: right;\n",
       "    }\n",
       "</style>\n",
       "<table border=\"1\" class=\"dataframe\">\n",
       "  <thead>\n",
       "    <tr style=\"text-align: right;\">\n",
       "      <th></th>\n",
       "      <th>credit_score</th>\n",
       "      <th>age</th>\n",
       "      <th>balance</th>\n",
       "      <th>has_cred_card</th>\n",
       "      <th>is_active_member</th>\n",
       "      <th>est_salary</th>\n",
       "      <th>exited</th>\n",
       "      <th>geography_Germany</th>\n",
       "      <th>geography_Spain</th>\n",
       "      <th>gender_Male</th>\n",
       "      <th>tenure_1</th>\n",
       "      <th>tenure_2</th>\n",
       "      <th>tenure_3</th>\n",
       "      <th>tenure_4</th>\n",
       "      <th>tenure_5</th>\n",
       "      <th>tenure_6</th>\n",
       "      <th>tenure_7</th>\n",
       "      <th>tenure_8</th>\n",
       "      <th>tenure_9</th>\n",
       "      <th>tenure_10</th>\n",
       "      <th>num_of_products_2</th>\n",
       "      <th>num_of_products_3</th>\n",
       "      <th>num_of_products_4</th>\n",
       "    </tr>\n",
       "  </thead>\n",
       "  <tbody>\n",
       "    <tr>\n",
       "      <th>4046</th>\n",
       "      <td>-0.034419</td>\n",
       "      <td>-0.179632</td>\n",
       "      <td>-1.222744</td>\n",
       "      <td>1</td>\n",
       "      <td>0</td>\n",
       "      <td>-1.452102</td>\n",
       "      <td>0</td>\n",
       "      <td>0</td>\n",
       "      <td>0</td>\n",
       "      <td>1</td>\n",
       "      <td>0</td>\n",
       "      <td>0</td>\n",
       "      <td>0</td>\n",
       "      <td>0</td>\n",
       "      <td>0</td>\n",
       "      <td>0</td>\n",
       "      <td>0</td>\n",
       "      <td>0</td>\n",
       "      <td>1</td>\n",
       "      <td>0</td>\n",
       "      <td>1</td>\n",
       "      <td>0</td>\n",
       "      <td>0</td>\n",
       "    </tr>\n",
       "    <tr>\n",
       "      <th>2888</th>\n",
       "      <td>1.472790</td>\n",
       "      <td>-0.179632</td>\n",
       "      <td>1.008790</td>\n",
       "      <td>1</td>\n",
       "      <td>1</td>\n",
       "      <td>1.672705</td>\n",
       "      <td>0</td>\n",
       "      <td>1</td>\n",
       "      <td>0</td>\n",
       "      <td>1</td>\n",
       "      <td>0</td>\n",
       "      <td>1</td>\n",
       "      <td>0</td>\n",
       "      <td>0</td>\n",
       "      <td>0</td>\n",
       "      <td>0</td>\n",
       "      <td>0</td>\n",
       "      <td>0</td>\n",
       "      <td>0</td>\n",
       "      <td>0</td>\n",
       "      <td>1</td>\n",
       "      <td>0</td>\n",
       "      <td>0</td>\n",
       "    </tr>\n",
       "    <tr>\n",
       "      <th>6261</th>\n",
       "      <td>0.568464</td>\n",
       "      <td>-0.370096</td>\n",
       "      <td>0.741277</td>\n",
       "      <td>0</td>\n",
       "      <td>0</td>\n",
       "      <td>1.677198</td>\n",
       "      <td>0</td>\n",
       "      <td>0</td>\n",
       "      <td>1</td>\n",
       "      <td>0</td>\n",
       "      <td>0</td>\n",
       "      <td>0</td>\n",
       "      <td>0</td>\n",
       "      <td>0</td>\n",
       "      <td>0</td>\n",
       "      <td>0</td>\n",
       "      <td>0</td>\n",
       "      <td>1</td>\n",
       "      <td>0</td>\n",
       "      <td>0</td>\n",
       "      <td>0</td>\n",
       "      <td>0</td>\n",
       "      <td>0</td>\n",
       "    </tr>\n",
       "    <tr>\n",
       "      <th>7688</th>\n",
       "      <td>0.620437</td>\n",
       "      <td>0.582225</td>\n",
       "      <td>0.876956</td>\n",
       "      <td>1</td>\n",
       "      <td>0</td>\n",
       "      <td>-0.483555</td>\n",
       "      <td>1</td>\n",
       "      <td>1</td>\n",
       "      <td>0</td>\n",
       "      <td>1</td>\n",
       "      <td>0</td>\n",
       "      <td>0</td>\n",
       "      <td>0</td>\n",
       "      <td>1</td>\n",
       "      <td>0</td>\n",
       "      <td>0</td>\n",
       "      <td>0</td>\n",
       "      <td>0</td>\n",
       "      <td>0</td>\n",
       "      <td>0</td>\n",
       "      <td>0</td>\n",
       "      <td>0</td>\n",
       "      <td>0</td>\n",
       "    </tr>\n",
       "    <tr>\n",
       "      <th>7658</th>\n",
       "      <td>0.547675</td>\n",
       "      <td>1.344082</td>\n",
       "      <td>-1.222744</td>\n",
       "      <td>0</td>\n",
       "      <td>0</td>\n",
       "      <td>-0.233359</td>\n",
       "      <td>1</td>\n",
       "      <td>0</td>\n",
       "      <td>1</td>\n",
       "      <td>0</td>\n",
       "      <td>0</td>\n",
       "      <td>0</td>\n",
       "      <td>1</td>\n",
       "      <td>0</td>\n",
       "      <td>0</td>\n",
       "      <td>0</td>\n",
       "      <td>0</td>\n",
       "      <td>0</td>\n",
       "      <td>0</td>\n",
       "      <td>0</td>\n",
       "      <td>0</td>\n",
       "      <td>1</td>\n",
       "      <td>0</td>\n",
       "    </tr>\n",
       "  </tbody>\n",
       "</table>\n",
       "</div>"
      ],
      "text/plain": [
       "      credit_score       age   balance  has_cred_card  is_active_member  \\\n",
       "4046     -0.034419 -0.179632 -1.222744              1                 0   \n",
       "2888      1.472790 -0.179632  1.008790              1                 1   \n",
       "6261      0.568464 -0.370096  0.741277              0                 0   \n",
       "7688      0.620437  0.582225  0.876956              1                 0   \n",
       "7658      0.547675  1.344082 -1.222744              0                 0   \n",
       "\n",
       "      est_salary  exited  geography_Germany  geography_Spain  gender_Male  \\\n",
       "4046   -1.452102       0                  0                0            1   \n",
       "2888    1.672705       0                  1                0            1   \n",
       "6261    1.677198       0                  0                1            0   \n",
       "7688   -0.483555       1                  1                0            1   \n",
       "7658   -0.233359       1                  0                1            0   \n",
       "\n",
       "      tenure_1  tenure_2  tenure_3  tenure_4  tenure_5  tenure_6  tenure_7  \\\n",
       "4046         0         0         0         0         0         0         0   \n",
       "2888         0         1         0         0         0         0         0   \n",
       "6261         0         0         0         0         0         0         0   \n",
       "7688         0         0         0         1         0         0         0   \n",
       "7658         0         0         1         0         0         0         0   \n",
       "\n",
       "      tenure_8  tenure_9  tenure_10  num_of_products_2  num_of_products_3  \\\n",
       "4046         0         1          0                  1                  0   \n",
       "2888         0         0          0                  1                  0   \n",
       "6261         1         0          0                  0                  0   \n",
       "7688         0         0          0                  0                  0   \n",
       "7658         0         0          0                  0                  1   \n",
       "\n",
       "      num_of_products_4  \n",
       "4046                  0  \n",
       "2888                  0  \n",
       "6261                  0  \n",
       "7688                  0  \n",
       "7658                  0  "
      ]
     },
     "execution_count": 15,
     "metadata": {},
     "output_type": "execute_result"
    }
   ],
   "source": [
    "train_data_preprocessed = ohe_and_scaling(train_data,\n",
    "                            ['gender', 'geography', 'num_of_products', 'tenure'],\n",
    "                            ['credit_score', 'age', 'balance', 'est_salary'],  \n",
    "                            drop_first=True)\n",
    "\n",
    "\n",
    "valid_data_preprocessed = ohe_and_scaling(valid_data, \n",
    "                            ['gender', 'geography', 'num_of_products', 'tenure'],\n",
    "                            ['credit_score', 'age', 'balance', 'est_salary'], \n",
    "                            drop_first=True, \n",
    "                            scale_data_to_fit=train_data)\n",
    "\n",
    "test_data_preprocessed = ohe_and_scaling(test_data, \n",
    "                          ['gender', 'geography', 'num_of_products', 'tenure'],\n",
    "                          ['credit_score', 'age', 'balance', 'est_salary'], \n",
    "                          drop_first=True,\n",
    "                          scale_data_to_fit=train_data)\n",
    "\n",
    "display(train_data_preprocessed.head())\n",
    "display(valid_data_preprocessed.head())\n",
    "test_data_preprocessed.head()"
   ]
  },
  {
   "cell_type": "markdown",
   "id": "c9dff5b6",
   "metadata": {},
   "source": [
    "Удостоверимся, что все признаки в каждом из наборов данных имеют один из следующих типов данных:\n",
    "- `float`\n",
    "- `int`\n",
    "- `bool`"
   ]
  },
  {
   "cell_type": "code",
   "execution_count": 16,
   "id": "76efd823",
   "metadata": {
    "scrolled": false
   },
   "outputs": [
    {
     "data": {
      "text/plain": [
       "credit_score         float64\n",
       "age                  float64\n",
       "balance              float64\n",
       "has_cred_card          int64\n",
       "is_active_member       int64\n",
       "est_salary           float64\n",
       "exited                 int64\n",
       "geography_Germany      uint8\n",
       "geography_Spain        uint8\n",
       "gender_Male            uint8\n",
       "tenure_1               uint8\n",
       "tenure_2               uint8\n",
       "tenure_3               uint8\n",
       "tenure_4               uint8\n",
       "tenure_5               uint8\n",
       "tenure_6               uint8\n",
       "tenure_7               uint8\n",
       "tenure_8               uint8\n",
       "tenure_9               uint8\n",
       "tenure_10              uint8\n",
       "num_of_products_2      uint8\n",
       "num_of_products_3      uint8\n",
       "num_of_products_4      uint8\n",
       "dtype: object"
      ]
     },
     "metadata": {},
     "output_type": "display_data"
    },
    {
     "data": {
      "text/plain": [
       "credit_score         float64\n",
       "age                  float64\n",
       "balance              float64\n",
       "has_cred_card          int64\n",
       "is_active_member       int64\n",
       "est_salary           float64\n",
       "exited                 int64\n",
       "geography_Germany      uint8\n",
       "geography_Spain        uint8\n",
       "gender_Male            uint8\n",
       "tenure_1               uint8\n",
       "tenure_2               uint8\n",
       "tenure_3               uint8\n",
       "tenure_4               uint8\n",
       "tenure_5               uint8\n",
       "tenure_6               uint8\n",
       "tenure_7               uint8\n",
       "tenure_8               uint8\n",
       "tenure_9               uint8\n",
       "tenure_10              uint8\n",
       "num_of_products_2      uint8\n",
       "num_of_products_3      uint8\n",
       "num_of_products_4      uint8\n",
       "dtype: object"
      ]
     },
     "metadata": {},
     "output_type": "display_data"
    },
    {
     "data": {
      "text/plain": [
       "credit_score         float64\n",
       "age                  float64\n",
       "balance              float64\n",
       "has_cred_card          int64\n",
       "is_active_member       int64\n",
       "est_salary           float64\n",
       "exited                 int64\n",
       "geography_Germany      uint8\n",
       "geography_Spain        uint8\n",
       "gender_Male            uint8\n",
       "tenure_1               uint8\n",
       "tenure_2               uint8\n",
       "tenure_3               uint8\n",
       "tenure_4               uint8\n",
       "tenure_5               uint8\n",
       "tenure_6               uint8\n",
       "tenure_7               uint8\n",
       "tenure_8               uint8\n",
       "tenure_9               uint8\n",
       "tenure_10              uint8\n",
       "num_of_products_2      uint8\n",
       "num_of_products_3      uint8\n",
       "num_of_products_4      uint8\n",
       "dtype: object"
      ]
     },
     "execution_count": 16,
     "metadata": {},
     "output_type": "execute_result"
    }
   ],
   "source": [
    "display(train_data_preprocessed.dtypes)\n",
    "display(valid_data_preprocessed.dtypes)\n",
    "test_data_preprocessed.dtypes"
   ]
  },
  {
   "cell_type": "markdown",
   "id": "a500b2a6",
   "metadata": {},
   "source": [
    "**Отлично!**\n",
    "\n",
    "Категориальные признаки закодировали при помощи техники `OneHotEncoding`, а числовые стандартизировали с помощью структуры `StandardScaler`."
   ]
  },
  {
   "cell_type": "markdown",
   "id": "bfc575cf",
   "metadata": {},
   "source": [
    "Данные предобработаны, поэтому сохраним их локально для удобного доступа в дальнейшем"
   ]
  },
  {
   "cell_type": "code",
   "execution_count": 17,
   "id": "e3814a62",
   "metadata": {},
   "outputs": [],
   "source": [
    "train_data_preprocessed.to_csv('train.csv', index=False)\n",
    "valid_data_preprocessed.to_csv('valid.csv', index=False)\n",
    "test_data_preprocessed.to_csv('test.csv', index=False)"
   ]
  },
  {
   "cell_type": "markdown",
   "id": "f7cf7dac",
   "metadata": {},
   "source": [
    "Теперь снова прочитаем в соответствующие переменные"
   ]
  },
  {
   "cell_type": "code",
   "execution_count": 18,
   "id": "0143967d",
   "metadata": {},
   "outputs": [],
   "source": [
    "train, valid, test = pd.read_csv('train.csv'), pd.read_csv('valid.csv'), pd.read_csv('test.csv')\n",
    "\n",
    "X_train, y_train = train.drop(columns=['exited']), train['exited'] # Тренировочные признаки и таргет\n",
    "\n",
    "X_valid, y_valid = valid.drop(columns=['exited']), valid['exited']\n",
    "\n",
    "X_test, y_test = test.drop(columns=['exited']), test['exited'] # Тестовые признаки и таргет"
   ]
  },
  {
   "cell_type": "markdown",
   "id": "a1dedf80",
   "metadata": {},
   "source": [
    "### Сбалансированность классов целевого признака"
   ]
  },
  {
   "cell_type": "markdown",
   "id": "94d03642",
   "metadata": {},
   "source": [
    "Посмотрим на баланс классов целевого признака"
   ]
  },
  {
   "cell_type": "code",
   "execution_count": 19,
   "id": "41e0f01e",
   "metadata": {},
   "outputs": [
    {
     "name": "stdout",
     "output_type": "stream",
     "text": [
      "Класс 1 составляет 20.18%\n",
      "\n",
      "Класс 0 составляет 79.83%\n"
     ]
    }
   ],
   "source": [
    "print('Класс 1 составляет {:.2%}\\n\\n'\n",
    "      'Класс 0 составляет {:.2%}' \\\n",
    "      .format(len(y_train[y_train == 1]) / len(y_train), \n",
    "              len(y_train[y_train == 0]) / len(y_train))\n",
    "     )"
   ]
  },
  {
   "cell_type": "markdown",
   "id": "753108ef",
   "metadata": {},
   "source": [
    "Как видно из вычислений, в данных присутствует дисбаланс классов, что негативно влияет на значения метрик, которые модель покажет на тестовых данных.\n",
    "\n",
    "Так как соотношение дисбаланса составляет примерно 4:1, то преобразованием гиперпараметров модели не обойтись (имеются ввиду такие гиперпараметры как `class_weight` или `warm_start`).\n",
    "\n",
    "Для решения этой проблемы стоит воспользоваться одной из следующих техник: `downsampling` или `upsampling`.\n",
    "Поскольку данных у нас не так много, то сравним их эффективность между собой.\n",
    "\n",
    "`downsampling`\n",
    "\n",
    "Позволит сформировать тренировочный набор данных со сбалансированным распределением классов путем **уменьшения кол-ва объектов, принадлежащих наиболее часто встречающемуся**: в нашем случае, преобладает класс `0`, поэтому количество его объектов мы хотим уменьшить в пользу объектов в классе `1`.\n",
    "\n",
    "Для реализации даунсемплинга напишем функцию `downsample`, которая преобразует тренировочный набор, изменив баланс классов в целевом признаке.\n",
    "\n",
    "`upsampling`\n",
    "\n",
    "Позволит сформировать тренировочный набор данных со сбалансированным распределением классов путем **увеличения кол-ва объектов, принадлежащих наименее часто встречающемуся**: в нашем случае, преобладает класс `0`, поэтому количество объектов в классе `1` требуется увеличить до количества объектов в классе `0`.\n",
    "\n",
    "Для реализации даунсемплинга напишем функцию `upsample`, которая преобразует тренировочный набор, изменив баланс классов в целевом признаке."
   ]
  },
  {
   "cell_type": "markdown",
   "id": "33343412",
   "metadata": {},
   "source": [
    "#### `downsampling`"
   ]
  },
  {
   "cell_type": "code",
   "execution_count": 20,
   "id": "1434df55",
   "metadata": {},
   "outputs": [],
   "source": [
    "def downsample(features: pd.DataFrame, target: pd.Series, fraction: float) -> Tuple:\n",
    "    '''Функция для даунсемплинга тренировочных данных.\n",
    "    \n",
    "       Параметры:\n",
    "       \n",
    "       `features` - набор признаков\n",
    "       `target` - целевой признак\n",
    "       `fraction` - доля случайно удаленных объектов от общего размера данных\n",
    "    '''\n",
    "    \n",
    "    features_zeros = features[target == 0]\n",
    "    features_ones = features[target == 1]\n",
    "    target_zeros = target[target == 0]\n",
    "    target_ones = target[target == 1]\n",
    "\n",
    "    features_downsampled = pd.concat(\n",
    "        [features_zeros.sample(frac=fraction, random_state=42)] + [features_ones])\n",
    "    target_downsampled = pd.concat(\n",
    "        [target_zeros.sample(frac=fraction, random_state=42)] + [target_ones])\n",
    "    \n",
    "    features_downsampled, target_downsampled = shuffle(\n",
    "        features_downsampled, target_downsampled, random_state=42)\n",
    "    \n",
    "    return features_downsampled, target_downsampled"
   ]
  },
  {
   "cell_type": "markdown",
   "id": "a32b3e34",
   "metadata": {},
   "source": [
    "Преобразуем тренировочный набор, воспользуемся написанной функцией"
   ]
  },
  {
   "cell_type": "code",
   "execution_count": 21,
   "id": "11fb57ec",
   "metadata": {},
   "outputs": [],
   "source": [
    "X_train_downsampled, y_train_downsampled = downsample(X_train, y_train, 0.25)"
   ]
  },
  {
   "cell_type": "markdown",
   "id": "6045e716",
   "metadata": {},
   "source": [
    "Проверим, изменилось ли соотношение классов в целевом признаке после проведения даунсемплинга тренировочного набора."
   ]
  },
  {
   "cell_type": "code",
   "execution_count": 22,
   "id": "8a969330",
   "metadata": {},
   "outputs": [
    {
     "name": "stdout",
     "output_type": "stream",
     "text": [
      "Класс 1 составляет 50.28%\n",
      "\n",
      "Класс 0 составляет 49.72%\n"
     ]
    }
   ],
   "source": [
    "print('Класс 1 составляет {:.2%}\\n\\n'\n",
    "      'Класс 0 составляет {:.2%}' \\\n",
    "      .format(len(y_train_downsampled[y_train_downsampled == 1]) / len(y_train_downsampled), \n",
    "              len(y_train_downsampled[y_train_downsampled == 0]) / len(y_train_downsampled))\n",
    "     )"
   ]
  },
  {
   "cell_type": "code",
   "execution_count": 23,
   "id": "81a2633b",
   "metadata": {},
   "outputs": [
    {
     "data": {
      "text/plain": [
       "(1605, 22)"
      ]
     },
     "execution_count": 23,
     "metadata": {},
     "output_type": "execute_result"
    }
   ],
   "source": [
    "X_train_downsampled.shape"
   ]
  },
  {
   "cell_type": "markdown",
   "id": "5bf108c7",
   "metadata": {},
   "source": [
    "Набор заметно поредел, зато баланс классов в целевом признаке теперь удовлетворительный.\n",
    "\n",
    "Далее при обучении моделей убедимся, как данное преобразование тренировочного набора данных повлияет на значения метрик."
   ]
  },
  {
   "cell_type": "markdown",
   "id": "acb0bc48",
   "metadata": {},
   "source": [
    "#### `upsampling`"
   ]
  },
  {
   "cell_type": "code",
   "execution_count": 24,
   "id": "d213df37",
   "metadata": {},
   "outputs": [],
   "source": [
    "def upsample(features: pd.DataFrame, target: pd.DataFrame, repeat: int, class_to_upsample: int) -> Tuple:\n",
    "    '''Функция для апсемплинга тренировочных данных для задачи бинарной классификации.\n",
    "       \n",
    "       Параметры:\n",
    "       \n",
    "       `features` - набор признаков\n",
    "       `target` - целевой признак\n",
    "       `repeat` - во сколько раз увеличивается кол-во объектов редкого класса\n",
    "       `class_to_upsample` - бинарное значение класса для которого выполняется апсемплинг\n",
    "    '''\n",
    "\n",
    "    features_zeros = features[target == 0]\n",
    "    features_ones = features[target == 1]\n",
    "    target_zeros = target[target == 0]\n",
    "    target_ones = target[target == 1]\n",
    "\n",
    "    if class_to_upsample == 0:\n",
    "        features_upsampled = pd.concat(\n",
    "            [features_zeros] * repeat + [features_ones])\n",
    "        \n",
    "        target_upsampled = pd.concat([target_zeros] * repeat + [target_ones])\n",
    "        \n",
    "        \n",
    "        features_upsampled, target_upsampled = shuffle(\n",
    "            features_upsampled, target_upsampled, random_state=42)\n",
    "\n",
    "    elif class_to_upsample == 1:\n",
    "        features_upsampled = pd.concat(\n",
    "            [features_zeros] + [features_ones] * repeat)\n",
    "\n",
    "        target_upsampled = pd.concat([target_zeros] + [target_ones] * repeat)\n",
    "        \n",
    "        \n",
    "        features_upsampled, target_upsampled = shuffle(\n",
    "            features_upsampled, target_upsampled, random_state=42)\n",
    "    else:\n",
    "        raise Exception('❌ Ошибка! Вероятно, аргумент class_to_upsample указан неверно')\n",
    "\n",
    "    return features_upsampled, target_upsampled"
   ]
  },
  {
   "cell_type": "markdown",
   "id": "1e8c446c",
   "metadata": {},
   "source": [
    "Преобразуем тренировочный набор, воспользуемся написанной функцией"
   ]
  },
  {
   "cell_type": "code",
   "execution_count": 25,
   "id": "a1645490",
   "metadata": {},
   "outputs": [],
   "source": [
    "X_train_upsampled, y_train_upsampled = upsample(X_train, y_train, 4, 1)"
   ]
  },
  {
   "cell_type": "markdown",
   "id": "c7afb5fc",
   "metadata": {},
   "source": [
    "Проверим, изменилось ли соотношение классов в целевом признаке после проведения апсемплинга тренировочного набора."
   ]
  },
  {
   "cell_type": "code",
   "execution_count": 26,
   "id": "2ac56136",
   "metadata": {},
   "outputs": [
    {
     "name": "stdout",
     "output_type": "stream",
     "text": [
      "Класс 1 составляет 50.27%\n",
      "\n",
      "Класс 0 составляет 49.73%\n"
     ]
    }
   ],
   "source": [
    "print('Класс 1 составляет {:.2%}\\n\\n'\n",
    "      'Класс 0 составляет {:.2%}' \\\n",
    "      .format(len(y_train_upsampled[y_train_upsampled == 1]) / len(y_train_upsampled), \n",
    "              len(y_train_upsampled[y_train_upsampled == 0]) / len(y_train_upsampled))\n",
    "     )"
   ]
  },
  {
   "cell_type": "code",
   "execution_count": 27,
   "id": "e1e4bb15",
   "metadata": {},
   "outputs": [
    {
     "data": {
      "text/plain": [
       "(6421, 22)"
      ]
     },
     "execution_count": 27,
     "metadata": {},
     "output_type": "execute_result"
    }
   ],
   "source": [
    "X_train_upsampled.shape"
   ]
  },
  {
   "cell_type": "markdown",
   "id": "cda3dc3f",
   "metadata": {},
   "source": [
    "<div style=\"border: 3px solid rgb(0,0,0); padding: 20px\">\n",
    "    \n",
    "**Итого**\n",
    "\n",
    "- Внешне преобразовали данные; \n",
    "- Избавились от пропущенных значений; \n",
    "- Произведено разбиение данных на два набора (тренировочный и тестовый) в соотношении 3:1; \n",
    "- Закодированы категориальные признаки техникой `OneHotEncoding`; \n",
    "- Числовые призанки отмасштабированы при помощи `StandardScaler`.\n",
    "- Исследован баланс классов в целевом признаке. Созданы альтернативные тренировочные наборы при помощи таких техник как `downsampling` и `upsampling` для исследования влияния дисбаланса классов на значения метрик модели.\n",
    "\n",
    "</div>"
   ]
  },
  {
   "cell_type": "markdown",
   "id": "3ebbecc0",
   "metadata": {},
   "source": [
    "## Обучение моделей 🦾"
   ]
  },
  {
   "cell_type": "markdown",
   "id": "878f1bad",
   "metadata": {},
   "source": [
    "В этом этапе сравним несколько классификационных моделей:\n",
    "- `LogisticRegression`\n",
    "- `RandomForestClassifier`\n",
    "\n",
    "**Почему именно эти две модели?**\n",
    "\n",
    "Данных не так много, поэтому использование более сложных алгоритмов, скорее всего, не приведет к получению существенно лучших результатов. Напомним, требуется довести **значение F1-меры до 0.59** на тестовых данных.\n",
    "\n",
    "Для каждого алгоритма будет выполнено следующее:\n",
    "- Кросс-валидационное обучение модели на \"сыром\" тренировочном наборе без учета дисбаланса целевого класса, подбор гиперпараметров, получение результатов.\n",
    "- Обучение модели с кросс-валидацией/без кросс-валидации на предобработаном тренировочном наборе с учетом дисбаланса целевого класса, подбор гиперпараметров, получение результатов\n",
    "\n",
    "После получения результирующих показателей для каждой ситуации сравним их между собой и отберем алгоритм, который показывает наилучшие результаты на тренировочных данных. \n",
    "\n",
    "Его сначала проверим на тестовом наборе, а затем на адекватность - сравним метрики нашей модели с метриками дамми-модели. "
   ]
  },
  {
   "cell_type": "markdown",
   "id": "db85aec4",
   "metadata": {},
   "source": [
    "### Функции общего назначения"
   ]
  },
  {
   "cell_type": "markdown",
   "id": "e4e6b4db",
   "metadata": {},
   "source": [
    "Чуть упростим себе работу и для удобной оценки результатов создадим несколько полезных функций"
   ]
  },
  {
   "cell_type": "code",
   "execution_count": 28,
   "id": "3287ef64",
   "metadata": {},
   "outputs": [],
   "source": [
    "def show_metrics(model: 'some sklearn ML-model',\n",
    "                 features: pd.DataFrame,\n",
    "                 target: pd.Series,\n",
    "                 display: bool = False, fit_data: bool = True) -> Dict:\n",
    "    '''Функция, возвращающая словарь из основных метрик бинарной классификационной модели\n",
    "\n",
    "       Параметры:\n",
    "\n",
    "       `model` - классификационная модель из sklearn\n",
    "       `features` - набор признаков\n",
    "       `target` - целевой признак\n",
    "\n",
    "       Опциональные параметры:\n",
    "\n",
    "       `display` (по умолч. `False`) - вывести значения метрик на печать\n",
    "       `fit_data` (по умолч. `True`) - обучить модель на переданном наборе для получения метрик\n",
    "    '''\n",
    "\n",
    "    if fit_data:\n",
    "        model.fit(features, target)\n",
    "\n",
    "    predictions = model.predict(features)\n",
    "\n",
    "    accuracy = np.round(accuracy_score(target, predictions), 3)\n",
    "    cross_val_score_ = np.round(cross_val_score(\n",
    "        model, features, target).mean(), 3)\n",
    "    recall = np.round(recall_score(target, predictions), 3)\n",
    "    precision = np.round(precision_score(target, predictions), 3)\n",
    "    f1 = np.round(f1_score(target, predictions), 3)\n",
    "    model_probs_one_train = model.predict_proba(features)[:, 1]\n",
    "    roc_auc = np.round(roc_auc_score(target, model_probs_one_train), 3)\n",
    "\n",
    "    if display:\n",
    "        print(f'\\t\\t\\t\\t---Метрики модели---\\n\\n'\n",
    "              f'Accuracy: {accuracy}\\n\\n'\n",
    "              f'Mean Cross-val Accuracy : {cross_val_score_}\\n\\n'\n",
    "              f'Precision: {precision}\\n\\n'\n",
    "              f'Recall: {recall}\\n\\n'\n",
    "              f'F1 score: {f1}\\n\\n'\n",
    "              f'ROC AUC: {roc_auc}\\n')\n",
    "    else:\n",
    "        return {'accuracy': accuracy,\n",
    "                'cross_val_score': cross_val_score_,\n",
    "                'precision': precision,\n",
    "                'recall': recall,\n",
    "                'f1': f1,\n",
    "                'roc_auc': roc_auc}"
   ]
  },
  {
   "cell_type": "code",
   "execution_count": 29,
   "id": "12f2eca8",
   "metadata": {},
   "outputs": [],
   "source": [
    "def roc_auc_graph(model: 'some sklearn ML-model',\n",
    "                  features: pd.DataFrame,\n",
    "                  target: pd.Series,\n",
    "                  save_name: str = None):\n",
    "    '''Функция, отображающая график ROC-кривой.\n",
    "\n",
    "       Параметры:\n",
    "\n",
    "       `model` - классификационная модель из sklearn\n",
    "       `features` - набор признаков\n",
    "       `target` - целевой признак\n",
    "       \n",
    "       Опциональные параметры:\n",
    "       \n",
    "       `save_name` (по умолч. `None`) - сохранить график с переданным названием\n",
    "    '''\n",
    "\n",
    "    model_probs_one = model.predict_proba(features)[:, 1]\n",
    "    fper, tper, thresholds = roc_curve(target, model_probs_one)\n",
    "\n",
    "    fig, roc_plot = plt.subplots()\n",
    "\n",
    "    roc_plot.plot(fper, tper, color='red', label='ROC')\n",
    "    roc_plot.plot([0, 1], [0, 1], color='green', linestyle='--')\n",
    "    roc_plot.set_xlim([0.0, 1.0])\n",
    "    roc_plot.set_ylim([0.0, 1.0])\n",
    "    roc_plot.set_xlabel('False Positive Rate')\n",
    "    roc_plot.set_ylabel('True Positive Rate')\n",
    "    roc_plot.set_title('ROC-кривая')\n",
    "    plt.legend()\n",
    "    \n",
    "    if save_name:\n",
    "        save_name += '.jpeg'\n",
    "        fig.savefig(save_name)\n",
    "    \n",
    "    plt.show()"
   ]
  },
  {
   "cell_type": "code",
   "execution_count": 30,
   "id": "0226dec7",
   "metadata": {},
   "outputs": [],
   "source": [
    "def show_confusion_matrix(model: 'some sklearn ML-model',\n",
    "                          features: pd.DataFrame,\n",
    "                          target: pd.Series,\n",
    "                          fit_data: bool = True,\n",
    "                          save_name: str = None):\n",
    "    '''Функция, отображающая матрицу ошибок предсказаний модели.\n",
    "\n",
    "       Параметры:\n",
    "\n",
    "       `model` - классификационная модель из sklearn\n",
    "       `features` - набор признаков\n",
    "       `target` - целевой признак\n",
    "       \n",
    "       Опциональные параметры:\n",
    "       \n",
    "       `fit_data` (по умолч. `True`) - обучить модель на переданном наборе для получения метрик\n",
    "       `save_name` (по умолч. `None`) - сохранить график с переданным названием\n",
    "    '''\n",
    "    if fit_data:\n",
    "        model.fit(features, target)\n",
    "\n",
    "    predictions = model.predict(features)\n",
    "    conf_matrix = confusion_matrix(target, predictions)\n",
    "\n",
    "    fig, matrix = plt.subplots()\n",
    "\n",
    "    sns.heatmap(\n",
    "        conf_matrix,\n",
    "        ax=matrix,\n",
    "        cmap='Greens',\n",
    "        square=True,\n",
    "        annot=True, fmt='.0f',\n",
    "        annot_kws={'fontsize': 8},\n",
    "        linewidth=1.5\n",
    "    )\n",
    "    matrix.set_xlabel('Истинные метки')\n",
    "    matrix.set_ylabel('Предсказанные метки')\n",
    "\n",
    "    matrix.set_title(\n",
    "        'Матрица ошибок предсказаний модели',\n",
    "        fontsize=10,\n",
    "        fontweight='bold',\n",
    "        y=1.15\n",
    "    )\n",
    "    \n",
    "    if save_name:\n",
    "        save_name += '.jpeg'\n",
    "        fig.savefig(save_name)"
   ]
  },
  {
   "cell_type": "markdown",
   "id": "215ba3eb",
   "metadata": {},
   "source": [
    "### Логистическая регрессия (Logistic Regression) 📈"
   ]
  },
  {
   "cell_type": "markdown",
   "id": "cc799d13",
   "metadata": {},
   "source": [
    "#### Набор тренировочных данных без изменений ⚠️"
   ]
  },
  {
   "cell_type": "code",
   "execution_count": 31,
   "id": "17cc7164",
   "metadata": {
    "scrolled": true
   },
   "outputs": [
    {
     "name": "stdout",
     "output_type": "stream",
     "text": [
      "Результаты модели Линейной регрессии на данных без изменений\n",
      "\n",
      "-----\n",
      "Наилучшая точность: 0.8414993553485823\n",
      "C: 0.5\n",
      "Penalty: l2\n",
      "Solver: lbfgs\n",
      "Class_weight: balanced\n",
      "CPU times: user 5.89 s, sys: 11.7 s, total: 17.6 s\n",
      "Wall time: 17.6 s\n"
     ]
    }
   ],
   "source": [
    "%%time\n",
    "\n",
    "state = np.random.RandomState(42)\n",
    "\n",
    "scores1 = []\n",
    "\n",
    "for C in [0.01, 0.05, 0.1, 0.3, 0.5]:\n",
    "    for penalty in ['l1', 'l2', None]:\n",
    "        for solver in ['lbfgs', 'liblinear']:\n",
    "            for class_weight in ['balanced', None]:\n",
    "                # Обработка ошибок, связанных с тем,\n",
    "                # что некоторые гиперпараметры нельзя сочетать\n",
    "                try:\n",
    "                    lgr_unbalanced = LogisticRegression(\n",
    "                        C=C, penalty=penalty, solver=solver, random_state=state)\n",
    "                    \n",
    "                    final_score = cross_val_score(\n",
    "                        lgr_unbalanced, X_train, y_train, cv=3).mean()\n",
    "                    if not np.isnan(final_score):\n",
    "                        scores1.append(\n",
    "                            (final_score, C, penalty, solver, class_weight))\n",
    "                except ValueError:\n",
    "                    scores1.append((0, C, penalty, solver, class_weight))\n",
    "\n",
    "\n",
    "best = int()\n",
    "\n",
    "for i, result in enumerate(scores1):\n",
    "    if result[0] > scores1[best][0]:\n",
    "        best = i\n",
    "\n",
    "print(f'Результаты модели Линейной регрессии на данных без изменений\\n\\n-----\\n'\n",
    "      f'Наилучшая точность: {scores1[best][0]}\\n'\n",
    "      f'C: {scores1[best][1]}\\n'\n",
    "      f'Penalty: {scores1[best][2]}\\n'\n",
    "      f'Solver: {scores1[best][3]}\\n'\n",
    "      f'Class_weight: {scores1[best][4]}')"
   ]
  },
  {
   "cell_type": "code",
   "execution_count": 32,
   "id": "1a617dff",
   "metadata": {},
   "outputs": [
    {
     "name": "stdout",
     "output_type": "stream",
     "text": [
      "\t\t\t\t---Метрики модели---\n",
      "\n",
      "Accuracy: 0.766\n",
      "\n",
      "Mean Cross-val Accuracy : 0.766\n",
      "\n",
      "Precision: 0.451\n",
      "\n",
      "Recall: 0.756\n",
      "\n",
      "F1 score: 0.565\n",
      "\n",
      "ROC AUC: 0.841\n",
      "\n"
     ]
    },
    {
     "data": {
      "image/png": "[encoded data removed]",
      "text/plain": [
       "<Figure size 432x288 with 2 Axes>"
      ]
     },
     "metadata": {
      "needs_background": "light"
     },
     "output_type": "display_data"
    },
    {
     "data": {
      "image/png": "[encoded data removed]",
      "text/plain": [
       "<Figure size 432x288 with 1 Axes>"
      ]
     },
     "metadata": {
      "needs_background": "light"
     },
     "output_type": "display_data"
    }
   ],
   "source": [
    "lgr_unbalanced_best = LogisticRegression(\n",
    "    C=scores1[best][1], \n",
    "    penalty=scores1[best][2], \n",
    "    solver=scores1[best][3], \n",
    "    class_weight=scores1[best][4], \n",
    "    random_state=state)\n",
    "\n",
    "lgr_unbalanced_best.fit(X_train, y_train)\n",
    "\n",
    "show_metrics(lgr_unbalanced_best, X_valid, y_valid, display=True, fit_data=False)\n",
    "show_confusion_matrix(lgr_unbalanced_best, X_valid, y_valid, fit_data=False)\n",
    "roc_auc_graph(lgr_unbalanced_best, X_valid, y_valid, save_name='LgR_unbalanced_ROC_curve')"
   ]
  },
  {
   "cell_type": "markdown",
   "id": "4c59cbb8",
   "metadata": {},
   "source": [
    "##### Результаты\n",
    "\n",
    "Без учета дисбаланса классов модель показывает довольно высокую точность, но за ней скрывается низкое значение метрики `precision`, что свидетельствует о плохом качестве предсказаний класса `1`. По простому, модель плохо научилась прогнозировать ушел клиент или нет.\n",
    "\n",
    "Высокие значения остальных метрик могут быть объяснены тем, что объектов класса `0` изначально было много, поэтому в полной мере оценить модель поможет сравнение ее метрик с метриками константной модели."
   ]
  },
  {
   "cell_type": "markdown",
   "id": "5b038a9c",
   "metadata": {},
   "source": [
    "#### Набор тренировочных данных без дисбаланса классов в целевом признаке ✅"
   ]
  },
  {
   "cell_type": "code",
   "execution_count": 33,
   "id": "6426f77d",
   "metadata": {
    "scrolled": false
   },
   "outputs": [
    {
     "name": "stdout",
     "output_type": "stream",
     "text": [
      "Результаты модели Линейной регрессии на данных без дисбаланса классов в целевом признаке\n",
      "\n",
      "-----\n",
      "Наилучшая точность: 0.7733333333333333\n",
      "C: 0.01\n",
      "Penalty: l1\n",
      "Solver: liblinear\n",
      "Data Preprocess Type: Upsampled Data\n",
      "CPU times: user 4.84 s, sys: 10.7 s, total: 15.5 s\n",
      "Wall time: 15.5 s\n"
     ]
    }
   ],
   "source": [
    "%%time\n",
    "\n",
    "scores2 = []\n",
    "\n",
    "for C in [0.01, 0.05, 0.1, 0.3, 0.5]:\n",
    "    for penalty in ['l1', 'l2', 'none']: # Должно быть None, код не отрабатывает иначе\n",
    "        for solver in ['lbfgs', 'liblinear']:\n",
    "            # Обработка ошибок, связанных с тем,\n",
    "            # что некоторые гиперпараметры нельзя сочетать\n",
    "            try:\n",
    "                lgr_balanced = LogisticRegression(\n",
    "                    C=C, penalty=penalty, solver=solver, random_state=state)\n",
    "\n",
    "                lgr_balanced.fit(X_train_upsampled, y_train_upsampled)\n",
    "                final_score = lgr_balanced.score(X_valid, y_valid)\n",
    "                scores2.append((final_score, C, penalty, solver,\n",
    "                              'Upsampled Data'))\n",
    "\n",
    "                lgr_balanced.fit(X_train_downsampled, y_train_downsampled)\n",
    "                final_score = lgr_balanced.score(X_valid, y_valid)\n",
    "                scores2.append((final_score, C, penalty, solver,\n",
    "                              'Downsampled Data'))\n",
    "\n",
    "            except ValueError:\n",
    "                scores2.append((0, C, penalty, solver, 'Unknown'))\n",
    "\n",
    "\n",
    "best = int()\n",
    "\n",
    "for i, result in enumerate(scores2):\n",
    "    if not np.isnan(result[0]) and result[0] > scores2[best][0]:\n",
    "        best = i\n",
    "\n",
    "print(f'Результаты модели Линейной регрессии на данных без дисбаланса классов в целевом признаке\\n\\n-----\\n'\n",
    "      f'Наилучшая точность: {scores2[best][0]}\\n'\n",
    "      f'C: {scores2[best][1]}\\n'\n",
    "      f'Penalty: {scores2[best][2]}\\n'\n",
    "      f'Solver: {scores2[best][3]}\\n'\n",
    "      f'Data Preprocess Type: {scores2[best][4]}')"
   ]
  },
  {
   "cell_type": "code",
   "execution_count": 34,
   "id": "848b99b9",
   "metadata": {},
   "outputs": [
    {
     "name": "stdout",
     "output_type": "stream",
     "text": [
      "\t\t\t\t---Метрики модели---\n",
      "\n",
      "Accuracy: 0.773\n",
      "\n",
      "Mean Cross-val Accuracy : 0.801\n",
      "\n",
      "Precision: 0.46\n",
      "\n",
      "Recall: 0.736\n",
      "\n",
      "F1 score: 0.566\n",
      "\n",
      "ROC AUC: 0.824\n",
      "\n"
     ]
    },
    {
     "data": {
      "image/png": "[encoded data removed]",
      "text/plain": [
       "<Figure size 432x288 with 2 Axes>"
      ]
     },
     "metadata": {
      "needs_background": "light"
     },
     "output_type": "display_data"
    },
    {
     "data": {
      "image/png": "[encoded data removed]",
      "text/plain": [
       "<Figure size 432x288 with 1 Axes>"
      ]
     },
     "metadata": {
      "needs_background": "light"
     },
     "output_type": "display_data"
    }
   ],
   "source": [
    "lgr_balanced_best = LogisticRegression(\n",
    "    C=scores2[best][1], \n",
    "    penalty=scores2[best][2], \n",
    "    solver=scores2[best][3], \n",
    "    random_state=state)\n",
    "\n",
    "lgr_balanced_best.fit(X_train_upsampled, y_train_upsampled)\n",
    "\n",
    "\n",
    "show_metrics(lgr_balanced_best, X_valid, y_valid, display=True, fit_data=False)\n",
    "show_confusion_matrix(lgr_balanced_best, X_valid, y_valid, fit_data=False)\n",
    "roc_auc_graph(lgr_balanced_best, X_valid, y_valid, save_name='LgR_balanced_ROC_curve_downsampled_data')"
   ]
  },
  {
   "cell_type": "markdown",
   "id": "ece58c55",
   "metadata": {},
   "source": [
    "##### Результаты\n",
    "\n",
    "\n",
    "Даже после ручного устранения дисбаланса классов результаты практически не изменились: метрики крайне незначительно выросли, изгиб ROC-кривой не изменился."
   ]
  },
  {
   "cell_type": "markdown",
   "id": "0dffa000",
   "metadata": {},
   "source": [
    "### Случайный лес 🌳"
   ]
  },
  {
   "cell_type": "markdown",
   "id": "8b88e6f3",
   "metadata": {},
   "source": [
    "#### Набор тренировочных данных без изменений ⚠️"
   ]
  },
  {
   "cell_type": "code",
   "execution_count": 35,
   "id": "5e399ec1",
   "metadata": {
    "scrolled": false
   },
   "outputs": [
    {
     "name": "stdout",
     "output_type": "stream",
     "text": [
      "Результаты модели Случайного леса на данных без изменений\n",
      "\n",
      "-----\n",
      "Наилучшая точность: 0.8557484198635866\n",
      "N esimators: 100\n",
      "Max Depth: 10\n",
      "Class weight: None\n",
      "CPU times: user 13.9 s, sys: 149 ms, total: 14 s\n",
      "Wall time: 14 s\n"
     ]
    }
   ],
   "source": [
    "%%time\n",
    "\n",
    "scores3 = []\n",
    "\n",
    "for n_est in [50, 100, 150]:\n",
    "    for max_depth in [5, 7, 10]:\n",
    "        for class_weight in ['balanced', None]:\n",
    "            # Обработка ошибок, связанных с тем,\n",
    "            # что некоторые гиперпараметры нельзя сочетать\n",
    "            try:\n",
    "                rfc_unbalanced = RandomForestClassifier(\n",
    "                    n_estimators=n_est, max_depth=max_depth, class_weight=class_weight, random_state=state)\n",
    "\n",
    "                final_score = cross_val_score(\n",
    "                    rfc_unbalanced, X_train, y_train, cv=3).mean()\n",
    "                scores3.append((final_score, n_est, max_depth, class_weight))\n",
    "\n",
    "            except ValueError:\n",
    "                scores3.append(\n",
    "                    (0, n_est, max_depth, class_weight))\n",
    "\n",
    "\n",
    "best = int()\n",
    "\n",
    "for i, result in enumerate(scores3):\n",
    "    if result[0] is not None and result[0] > scores3[best][0]:\n",
    "        best = i\n",
    "\n",
    "print(f'Результаты модели Случайного леса на данных без изменений\\n\\n-----\\n'\n",
    "      f'Наилучшая точность: {scores3[best][0]}\\n'\n",
    "      f'N esimators: {scores3[best][1]}\\n'\n",
    "      f'Max Depth: {scores3[best][2]}\\n'\n",
    "      f'Class weight: {scores3[best][3]}')"
   ]
  },
  {
   "cell_type": "code",
   "execution_count": 36,
   "id": "e74bcebc",
   "metadata": {},
   "outputs": [
    {
     "name": "stdout",
     "output_type": "stream",
     "text": [
      "\t\t\t\t---Метрики модели---\n",
      "\n",
      "Accuracy: 0.862\n",
      "\n",
      "Mean Cross-val Accuracy : 0.859\n",
      "\n",
      "Precision: 0.859\n",
      "\n",
      "Recall: 0.375\n",
      "\n",
      "F1 score: 0.522\n",
      "\n",
      "ROC AUC: 0.859\n",
      "\n"
     ]
    },
    {
     "data": {
      "image/png": "[encoded data removed]",
      "text/plain": [
       "<Figure size 432x288 with 2 Axes>"
      ]
     },
     "metadata": {
      "needs_background": "light"
     },
     "output_type": "display_data"
    },
    {
     "data": {
      "image/png": "[encoded data removed]",
      "text/plain": [
       "<Figure size 432x288 with 1 Axes>"
      ]
     },
     "metadata": {
      "needs_background": "light"
     },
     "output_type": "display_data"
    }
   ],
   "source": [
    "rfc_unbalanced_best = RandomForestClassifier(\n",
    "    n_estimators=scores3[best][1], max_depth=scores3[best][2], class_weight=scores3[best][3], random_state=state)\n",
    "\n",
    "rfc_unbalanced_best.fit(X_train, y_train)\n",
    "\n",
    "show_metrics(rfc_unbalanced_best, X_valid, y_valid, display=True, fit_data=False)\n",
    "show_confusion_matrix(rfc_unbalanced_best, X_valid, y_valid, fit_data=False)\n",
    "roc_auc_graph(rfc_unbalanced_best, X_valid, y_valid, save_name='RFC_unbalanced_ROC_curve')"
   ]
  },
  {
   "cell_type": "markdown",
   "id": "be9d79cd",
   "metadata": {},
   "source": [
    "##### Результаты\n",
    "\n",
    "Обучение модели случайного леса на данных без изменений приводит к не слишком впечатляющим результатам. Значения метрик в этом случае даже ниже, чем у логистической регрессии.\n",
    "\n",
    "**Но получится ли улучшить результат?**\n",
    "\n",
    "Обучим модель далее следующим образом:\n",
    "- На данных с проведенным upsampling'ом\n",
    "- На данных с проведенным downsampling'ом\n",
    "\n",
    "\n",
    "**В результате:**\n",
    "- Сможем оценить, существенно ли улучшится качество предсказаний модели, если обучать ее на данных, предобработанных при помощи апсемплинга или даунсемплинга."
   ]
  },
  {
   "cell_type": "markdown",
   "id": "6ad0c85f",
   "metadata": {},
   "source": [
    "#### Набор тренировочных данных без дисбаланса классов в целевом признаке ✅"
   ]
  },
  {
   "cell_type": "code",
   "execution_count": 37,
   "id": "6c2beb6d",
   "metadata": {
    "scrolled": false
   },
   "outputs": [
    {
     "name": "stdout",
     "output_type": "stream",
     "text": [
      "Результаты модели Случайного леса на данных без дисбаланса классов в целевом признаке\n",
      "\n",
      "-----\n",
      "Наилучшая точность: 0.8306666666666667\n",
      "N esimators: 100\n",
      "Max Depth: 10\n",
      "Class weight: None\n",
      "Data Preprocess Type: Upsampled Data\n",
      "CPU times: user 11.8 s, sys: 102 ms, total: 11.9 s\n",
      "Wall time: 11.9 s\n"
     ]
    }
   ],
   "source": [
    "%%time\n",
    "\n",
    "scores4 = []\n",
    "\n",
    "for n_est in [50, 100, 150]:\n",
    "    for max_depth in [5, 7, 10]:\n",
    "        for class_weight in ['balanced', None]:\n",
    "            # Обработка ошибок, связанных с тем,\n",
    "            # что некоторые гиперпараметры нельзя сочетать\n",
    "            try:\n",
    "                rfc_balanced = RandomForestClassifier(\n",
    "                    n_estimators=n_est,\n",
    "                    max_depth=max_depth,\n",
    "                    class_weight=class_weight,\n",
    "                    random_state=state)\n",
    "                \n",
    "                \n",
    "                # Upsample data testing\n",
    "                \n",
    "                rfc_balanced.fit(X_train_upsampled, y_train_upsampled)\n",
    "                final_score = rfc_balanced.score(\n",
    "                    X_valid, y_valid)\n",
    "                scores4.append((final_score, n_est, max_depth,\n",
    "                              class_weight, 'Upsampled Data'))\n",
    "                \n",
    "                \n",
    "                # Downsampling data testing\n",
    "                \n",
    "                rfc_balanced.fit(X_train_downsampled, y_train_downsampled)\n",
    "                final_score = rfc_balanced.score(\n",
    "                    X_valid, y_valid)\n",
    "                scores4.append((final_score, n_est, max_depth, class_weight,\n",
    "                              'Downsampled Data'))\n",
    "\n",
    "            except ValueError:\n",
    "                scores4.append(\n",
    "                    (0, n_est, max_depth, class_weight))\n",
    "\n",
    "\n",
    "best = int()\n",
    "\n",
    "for i, result in enumerate(scores4):\n",
    "    if result[0] is not None and result[0] > scores4[best][0]:\n",
    "        best = i\n",
    "\n",
    "print(f'Результаты модели Случайного леса на данных без дисбаланса классов в целевом признаке\\n\\n-----\\n'\n",
    "      f'Наилучшая точность: {scores4[best][0]}\\n'\n",
    "      f'N esimators: {scores4[best][1]}\\n'\n",
    "      f'Max Depth: {scores4[best][2]}\\n'\n",
    "      f'Class weight: {scores4[best][3]}\\n'\n",
    "      f'Data Preprocess Type: {scores4[best][4]}')"
   ]
  },
  {
   "cell_type": "code",
   "execution_count": 38,
   "id": "10d73423",
   "metadata": {},
   "outputs": [
    {
     "name": "stdout",
     "output_type": "stream",
     "text": [
      "\t\t\t\t---Метрики модели---\n",
      "\n",
      "Accuracy: 0.825\n",
      "\n",
      "Mean Cross-val Accuracy : 0.859\n",
      "\n",
      "Precision: 0.552\n",
      "\n",
      "Recall: 0.683\n",
      "\n",
      "F1 score: 0.611\n",
      "\n",
      "ROC AUC: 0.86\n",
      "\n"
     ]
    },
    {
     "data": {
      "image/png": "[encoded data removed]",
      "text/plain": [
       "<Figure size 432x288 with 2 Axes>"
      ]
     },
     "metadata": {
      "needs_background": "light"
     },
     "output_type": "display_data"
    },
    {
     "data": {
      "image/png": "[encoded data removed]",
      "text/plain": [
       "<Figure size 432x288 with 1 Axes>"
      ]
     },
     "metadata": {
      "needs_background": "light"
     },
     "output_type": "display_data"
    }
   ],
   "source": [
    "rfc_balanced_best = RandomForestClassifier(\n",
    "    n_estimators=scores4[best][1], \n",
    "    max_depth=scores4[best][2], \n",
    "    class_weight=scores4[best][3], \n",
    "    random_state=state)\n",
    "\n",
    "rfc_balanced_best.fit(X_train_upsampled, y_train_upsampled)\n",
    "\n",
    "show_metrics(rfc_balanced_best, X_valid, y_valid, display=True, fit_data=False)\n",
    "show_confusion_matrix(rfc_balanced_best, X_valid, y_valid, fit_data=False)\n",
    "roc_auc_graph(rfc_balanced_best, X_valid, y_valid,\n",
    "              save_name='RFC_balanced_ROC_curve_upsampled_data')"
   ]
  },
  {
   "cell_type": "markdown",
   "id": "ec8f2a39",
   "metadata": {},
   "source": [
    "##### Результаты\n",
    "\n",
    "Что ж, **результат стал лучше!** Выросла `F1-мера`, `Accuracy` и остальные метрики по мелочи\n",
    "\n",
    "Теперь посмотрим на все до этого момента полученные графики `ROC-кривых` вместе и проведем более наглядное сравнение"
   ]
  },
  {
   "cell_type": "markdown",
   "id": "8dc125f1",
   "metadata": {},
   "source": [
    "### Сравнение ROC-кривых"
   ]
  },
  {
   "cell_type": "markdown",
   "id": "0521050d",
   "metadata": {},
   "source": [
    "**Логистическая регрессия без учета дисбаланса классов**\n",
    "\n",
    "---\n",
    "\n",
    "<img src=\"https://i.ibb.co/0tBnzjb/Lg-R-unbalanced-ROC-curve.jpg\" alt=\"Логистическая регрессия без учета дисбаланса классов\" width=\"300\"/>\n",
    "\n",
    "- **Accuracy:** `0.766`\n",
    "\n",
    "- **Mean Cross-val Accuracy:** `0.766`\n",
    "\n",
    "- **Precision:** `0.451`\n",
    "\n",
    "- **Recall:** `0.756`\n",
    "\n",
    "- **F1 score:** `0.565`\n",
    "\n",
    "- **ROC AUC:** `0.841`\n",
    "\n",
    "---\n",
    "\n",
    "**Логистическая регрессия с учетом дисбаланса классов (произведено обучение с применением апсемплинга)**\n",
    "\n",
    "---\n",
    "\n",
    "<img src=\"https://i.ibb.co/sw7BzMy/Lg-R-balanced-ROC-curve-downsampled-data.jpg\" alt=\"Логистическая регрессия с учетом дисбаланса классов\" width=\"300\"/>\n",
    "\n",
    "- **Accuracy:** `0.773`\n",
    "\n",
    "- **Mean Cross-val Accuracy:** `0.801`\n",
    "\n",
    "- **Precision:** `0.46`\n",
    "\n",
    "- **Recall:** `0.736`\n",
    "\n",
    "- **F1 score:** `0.566`\n",
    "\n",
    "- **ROC AUC:** `0.824`\n",
    "\n",
    "---\n",
    "\n",
    "**Случайный лес без учета дисбаланса классов**\n",
    "\n",
    "---\n",
    "\n",
    "<img src=\"https://i.ibb.co/tHgpXkJ/RFC-unbalanced-ROC-curve.jpg\" alt=\"Случайный лес без учета дисбаланса классов\" width=\"300\"/>\n",
    "\n",
    "- **Accuracy:** `0.862`\n",
    "\n",
    "- **Mean Cross-val Accuracy:** `0.859`\n",
    "\n",
    "- **Precision:** `0.859`\n",
    "\n",
    "- **Recall:** `0.375`\n",
    "\n",
    "- **F1 score:** `0.522`\n",
    "\n",
    "- **ROC AUC:** `0.859`\n",
    "\n",
    "---\n",
    "\n",
    "**Случайный лес с учетом дисбаланса классов (произведено обучение с применением апсемплинга)**\n",
    "\n",
    "---\n",
    "\n",
    "<img src=\"https://i.ibb.co/F8cg8N4/RFC-balanced-ROC-curve-upsampled-data.jpg\" alt=\"Случайный лес с учетом дисбаланса классов\" width=\"300\"/>\n",
    "\n",
    "- **Accuracy:** `0.825`\n",
    "\n",
    "- **Mean Cross-val Accuracy:** `0.859`\n",
    "\n",
    "- **Precision:** `0.552`\n",
    "\n",
    "- **Recall:** `0.683`\n",
    "\n",
    "- **F1 score:** `0.611`\n",
    "\n",
    "- **ROC AUC:** `0.86`\n",
    "\n",
    "---"
   ]
  },
  {
   "cell_type": "markdown",
   "id": "123fa284",
   "metadata": {},
   "source": [
    "##### Результаты\n",
    "\n",
    "Как видно из вышеприведенных графиков, случайный лес имеет значения `ROC AUC` в обоих случаях чуть выше, чем у модели линейной регресии, так как `ROC-кривая` более изогнута в сторону оси `TPR`.\n",
    "\n",
    "Среди двух моделей случайного леса, одна из которых обучалась на дисбалансированных данных, а вторая на данных, предобработанных техникой апсемплинга, лучшие результаты показала модель, обучавшаяся на данных без дисбаланса, так как кривая также сильнее смещена в сторону оси `TPR`.\n",
    "\n",
    "**Итого**, лучший результат на тренировочных данных, согласно графикам ROC-кривых и полученным метрикам, показала **модель случайного леса, обученная на данных, преобразованных с помощью апсемплинга.**\n",
    "\n",
    "Переходим к тестированию модели и проверке ее на адекватность"
   ]
  },
  {
   "cell_type": "markdown",
   "id": "c996822f",
   "metadata": {},
   "source": [
    "## Тестирование лучшей модели, проверка ее на адекватность 😎"
   ]
  },
  {
   "cell_type": "markdown",
   "id": "726397e5",
   "metadata": {},
   "source": [
    "В результате сравнения классификационных моделей на предыдущих этапах была выбрана одна лучшая - `RandomForestClassifier` со следующими гиперпараметрами:\n",
    "- **n_estimators** = `100`\n",
    "- **max_depth** = `10`\n",
    "- **class_weight** = `None`\n",
    "- **Train data preprocess:** `Upsampled Data`\n",
    "\n",
    "Ее протестируем на тестовом наборе и проверим на *адекватность* (действительно ли она обладает предсказательной силой или вся наша работа прошла впустую xd), сравнив значения метрик нашей модели со значениями тех же метрик у константной модели. \n",
    "\n",
    "Если значения метрик нашей модели выше, то модель адекватна и обладает предсказательной силой."
   ]
  },
  {
   "cell_type": "markdown",
   "id": "fc2cfb49",
   "metadata": {},
   "source": [
    "### Тестирование модели 🧪"
   ]
  },
  {
   "cell_type": "code",
   "execution_count": 39,
   "id": "a4fbdd62",
   "metadata": {
    "scrolled": true
   },
   "outputs": [
    {
     "name": "stdout",
     "output_type": "stream",
     "text": [
      "\t\t\t\t---Метрики модели---\n",
      "\n",
      "Accuracy: 0.82\n",
      "\n",
      "Mean Cross-val Accuracy : 0.857\n",
      "\n",
      "Precision: 0.556\n",
      "\n",
      "Recall: 0.695\n",
      "\n",
      "F1 score: 0.618\n",
      "\n",
      "ROC AUC: 0.857\n",
      "\n"
     ]
    },
    {
     "data": {
      "image/png": "[encoded data removed]",
      "text/plain": [
       "<Figure size 432x288 with 2 Axes>"
      ]
     },
     "metadata": {
      "needs_background": "light"
     },
     "output_type": "display_data"
    },
    {
     "data": {
      "image/png": "[encoded data removed]",
      "text/plain": [
       "<Figure size 432x288 with 1 Axes>"
      ]
     },
     "metadata": {
      "needs_background": "light"
     },
     "output_type": "display_data"
    }
   ],
   "source": [
    "model = RandomForestClassifier(\n",
    "    n_estimators=100, max_depth=10, random_state=state)\n",
    "model.fit(X_train_upsampled, y_train_upsampled)\n",
    "\n",
    "show_metrics( # Метрики\n",
    "    model, X_test, y_test, fit_data=False, display=True)\n",
    "\n",
    "show_confusion_matrix( # Матрица ошибок предсказаний\n",
    "    model, X_test, y_test, fit_data=False)\n",
    "\n",
    "roc_auc_graph( # ROC-кривая\n",
    "    model, X_test, y_test)"
   ]
  },
  {
   "cell_type": "markdown",
   "id": "5573e63a",
   "metadata": {},
   "source": [
    "**Модель показывает удовлетворительные результаты.** \n",
    "\n",
    "Значение F1-меры равно `0.619` (могут быть незначительные различия при перезапуске проекта), что больше минимально допустимого значения в `0.59`.\n",
    "\n",
    "Тестирование прошло успешно, проверим модель на адекватность"
   ]
  },
  {
   "cell_type": "markdown",
   "id": "90831bea",
   "metadata": {},
   "source": [
    "### Проверка модели на адекватность 🤨"
   ]
  },
  {
   "cell_type": "code",
   "execution_count": 40,
   "id": "087f4b7e",
   "metadata": {},
   "outputs": [
    {
     "name": "stdout",
     "output_type": "stream",
     "text": [
      "\t\t\t\tМетрика -> accuracy\n",
      "\tЗначение дамми-модели: 0.791 | Значение тестируемой модели: 0.82\n",
      "\n",
      "\n",
      "\t\t\t\tМетрика -> cross_val_score\n",
      "\tЗначение дамми-модели: 0.791 | Значение тестируемой модели: 0.857\n",
      "\n",
      "\n",
      "\t\t\t\tМетрика -> precision\n",
      "\tЗначение дамми-модели: 0.0 | Значение тестируемой модели: 0.556\n",
      "\n",
      "\n",
      "\t\t\t\tМетрика -> recall\n",
      "\tЗначение дамми-модели: 0.0 | Значение тестируемой модели: 0.695\n",
      "\n",
      "\n",
      "\t\t\t\tМетрика -> f1\n",
      "\tЗначение дамми-модели: 0.0 | Значение тестируемой модели: 0.618\n",
      "\n",
      "\n",
      "\t\t\t\tМетрика -> roc_auc\n",
      "\tЗначение дамми-модели: 0.5 | Значение тестируемой модели: 0.857\n",
      "\n",
      "\n",
      "✅ Все хорошо! Модель прошла проверку на адекватность относительно константной модели\n"
     ]
    }
   ],
   "source": [
    "dummy_clf = DummyClassifier(strategy=\"most_frequent\", random_state=12345)\n",
    "dummy_clf.fit(X_train, y_train)\n",
    "\n",
    "dummy_clf_metrics = show_metrics(dummy_clf, X_test, y_test, fit_data=False)\n",
    "\n",
    "our_model_metrics = show_metrics(model, X_test, y_test, fit_data=False)\n",
    "\n",
    "metric_comparison = []\n",
    "\n",
    "for (dummy_metric, dummy_value), (our_model_metric, our_model_value) in zip(dummy_clf_metrics.items(), our_model_metrics.items()):\n",
    "    metric_comparison.append((dummy_metric, dummy_value, our_model_value))\n",
    "    print(f'\\t\\t\\t\\tМетрика -> {dummy_metric}\\n'\n",
    "          f'\\tЗначение дамми-модели: {dummy_value} | Значение тестируемой модели: {our_model_value}\\n\\n')\n",
    "\n",
    "\n",
    "adequacy = True\n",
    "\n",
    "for metric, dummy_value, our_model_value in metric_comparison:\n",
    "    if dummy_value > our_model_value:\n",
    "        print(\n",
    "            f'❌ Что-то не так! Метрика {metric} у дамми-модели больше, чем у вашей.')\n",
    "        adequacy = False\n",
    "        break\n",
    "        \n",
    "if adequacy:\n",
    "    print('✅ Все хорошо! Модель прошла проверку на адекватность' \n",
    "          ' относительно константной модели')\n",
    "else:\n",
    "    print('❌ Код красный! Модель не прошла проверку на адекватность' \n",
    "          ' относительно константной модели')"
   ]
  },
  {
   "cell_type": "markdown",
   "id": "79cef44a",
   "metadata": {},
   "source": [
    "Проверка на адекватность пройдена!\n",
    "\n",
    "Теперь и модель показать не стыдно :)"
   ]
  },
  {
   "cell_type": "markdown",
   "id": "1506aa2b",
   "metadata": {},
   "source": [
    "## Общий вывод 👀"
   ]
  },
  {
   "cell_type": "markdown",
   "id": "e7c53636",
   "metadata": {},
   "source": [
    "<div style=\"border: 3px solid rgb(119,212,150); padding: 20px\">\n",
    "    \n",
    "В нашем распоряжении оказались исторические данные о клиентах банка. Требовалось построить прогностическую модель, которая показала бы на тестовых данных значение метрики `F1` более `0.59`.\n",
    "    \n",
    "Финальная модель показала значение метрики `F1` равное `0.619`, что является удовлетворительным результатом, применительно к нашей задаче.\n",
    "    \n",
    "### Краткая сводка по выполненным задачам\n",
    "\n",
    "#### Шаг 1. Обзор данных\n",
    "\n",
    "- Выполнен импорт необходимых для исследования библиотек\n",
    "- Данные загружены и прочитаны, предусмотрены альтернативные способы получения исходных данных\n",
    "- Оценена информация о данных\n",
    "\n",
    "#### Шаг 2. Предобработка данных\n",
    "\n",
    "- Произведено \"внешнее\" преобразование данных: удалены не влияющие на результат столбцы, изменены названия столбцов на корректные\n",
    "- Обработаны пропуски\n",
    "    - Признак `tenure`. Пропуски были заполнены средним значением по возрастной группе (уникальные значения признака `age`)\n",
    "- Проверено наличие явных дубликатов\n",
    "- Выполнено разбиение данных на три набора: тренировочный `(60%)`, валидационный `(20%)` и тестовый `(20%)`\n",
    "- Выполнено кодирование категориальных признаков техникой `OneHotEncoding`\n",
    "- Выполнена стандартизация числовых признаков при помощи `sklearn.preprocessing.StandardScaler`\n",
    "- Сформированы альтернативные наборы тренировочных данных для оценки влияния дисбаланса классов в таргете на конечные метрики\n",
    "    - Данные, преобразованные техникой `upsampling`\n",
    "    - Данные, преобразованные техникой `downsampling`\n",
    "\n",
    "#### Шаг 3. Обучение моделей\n",
    "\n",
    "- Для оптимизации процесса оценки результатов был создан ряд полезных функций:\n",
    "    - `show_metrics` - просмотр метрик модели\n",
    "    - `roc_auc_graph` - график ROC-кривой качества предсказаний модели\n",
    "    - `show_confusion_matrix` - матрица ошибок предсказаний модели\n",
    "\n",
    "- Рассматриваемые модели:\n",
    "    - `LogisticRegression`\n",
    "    - `RandomForestClassifier`\n",
    "\n",
    "- Обучение моделей включило в себя следующие подэтапы:\n",
    "    - Обучение модели на наборе без изменений\n",
    "        - Получение модели с наилучшими гиперпараметрами\n",
    "    - Обучение модели на наборе без дисбаланса классов в целевом признаке\n",
    "        - Обучение на данных с проведенным upsampling'ом;\n",
    "        - Обучение на данных с проведенным downsampling'ом;\n",
    "        - Получение модели с наилучшими гиперпараметрами.\n",
    "    \n",
    "- Сравнены все полученные результаты, оценены наблюдения на графиках ROC-кривых предсказаний всех полученных ранее моделей\n",
    "\n",
    "#### Шаг 4. Тестирование модели, проверка ее на адекватность\n",
    "\n",
    "- Была выбрана модель `RandomForestClassifier`, обучавшаяся на данных с проведенным upsampling'ом. На тестовых данных модель показала следующие значения метрик:\n",
    "    - **Accuracy:** `0.822`\n",
    "\n",
    "    - **Mean Cross-val Accuracy:** `0.847`\n",
    "\n",
    "    - **Precision:** `0.565`\n",
    "\n",
    "    - **Recall:** `0.694`\n",
    "\n",
    "    - **F1 score:** `0.619` > `0.59` ✅\n",
    "\n",
    "    - **ROC AUC:** `0.86`\n",
    "\n",
    "- Модель проверена на адекватность: модель адекватна.\n",
    "\n",
    "### Что могло привести к получению неполноценных результатов?\n",
    "- **Малый объем данных.** Из-за этого модели были склонны к недообучению, что отрицательно влияет на значения метрик, а в случае downsampling'а данных, размер выборки оказался слишком мал;\n",
    "- **Малое число признаков.** Возможно, добавление некоторого числа значимых признаков клиентов могло бы положительно повлиять на качество предсказаний модели, учитывая, что объем данных не велик;\n",
    "- **Малое кол-во информации об ушедших клиентах (в дополнение к предыдущему).** В ходе исследования было установлено, что соотношение классов в целевом признаке `4:1` в пользу класса `0` (клиент не ушел), а нам требовалось предсказать именно класс `1`, поэтому в ходе обучения моделей они были склонны к тому, чтобы лучше предсказывать именно класс `0`. (даже в случае устранения дисбаланса путем увеличения или уменьшения тренировочной выборки, количество уникальных клиентов в классе `1` никак не менялось, поэтому если их изначально было бы больше, то результаты могли бы улучшиться)\n",
    "</div>"
   ]
  }
 ],
 "metadata": {
  "ExecuteTimeLog": [
   {
    "duration": 1647,
    "start_time": "2023-04-28T18:27:02.703Z"
   },
   {
    "duration": 3,
    "start_time": "2023-04-28T18:27:04.352Z"
   },
   {
    "duration": 107,
    "start_time": "2023-04-28T18:27:04.357Z"
   },
   {
    "duration": 68,
    "start_time": "2023-04-28T18:27:04.467Z"
   },
   {
    "duration": 6,
    "start_time": "2023-04-28T18:27:04.536Z"
   },
   {
    "duration": 40,
    "start_time": "2023-04-28T18:27:04.543Z"
   },
   {
    "duration": 21,
    "start_time": "2023-04-28T18:27:04.584Z"
   },
   {
    "duration": 289,
    "start_time": "2023-04-28T18:27:04.606Z"
   },
   {
    "duration": 6,
    "start_time": "2023-04-28T18:27:04.897Z"
   },
   {
    "duration": 11,
    "start_time": "2023-04-28T18:27:04.905Z"
   },
   {
    "duration": 19,
    "start_time": "2023-04-28T18:27:04.918Z"
   },
   {
    "duration": 7,
    "start_time": "2023-04-28T18:27:04.939Z"
   },
   {
    "duration": 10,
    "start_time": "2023-04-28T18:27:04.948Z"
   },
   {
    "duration": 7,
    "start_time": "2023-04-28T18:27:04.960Z"
   },
   {
    "duration": 86,
    "start_time": "2023-04-28T18:27:04.969Z"
   },
   {
    "duration": 8,
    "start_time": "2023-04-28T18:27:05.056Z"
   },
   {
    "duration": 360,
    "start_time": "2023-04-28T18:27:05.066Z"
   },
   {
    "duration": 153,
    "start_time": "2023-04-28T18:27:05.428Z"
   },
   {
    "duration": 6,
    "start_time": "2023-04-28T18:27:05.583Z"
   },
   {
    "duration": 11,
    "start_time": "2023-04-28T18:27:05.591Z"
   },
   {
    "duration": 16,
    "start_time": "2023-04-28T18:27:05.603Z"
   },
   {
    "duration": 6,
    "start_time": "2023-04-28T18:27:05.621Z"
   },
   {
    "duration": 12,
    "start_time": "2023-04-28T18:27:05.628Z"
   },
   {
    "duration": 5,
    "start_time": "2023-04-28T18:27:05.642Z"
   },
   {
    "duration": 29,
    "start_time": "2023-04-28T18:27:05.649Z"
   },
   {
    "duration": 13,
    "start_time": "2023-04-28T18:27:05.680Z"
   },
   {
    "duration": 24,
    "start_time": "2023-04-28T18:27:05.694Z"
   },
   {
    "duration": 22,
    "start_time": "2023-04-28T18:27:05.722Z"
   },
   {
    "duration": 27736,
    "start_time": "2023-04-28T18:27:05.746Z"
   },
   {
    "duration": 43397,
    "start_time": "2023-04-28T18:27:33.483Z"
   },
   {
    "duration": 36049,
    "start_time": "2023-04-28T18:28:16.882Z"
   },
   {
    "duration": 78360,
    "start_time": "2023-04-28T18:28:52.933Z"
   },
   {
    "duration": 3149,
    "start_time": "2023-04-28T18:30:11.295Z"
   },
   {
    "duration": 1741,
    "start_time": "2023-04-28T18:30:14.446Z"
   },
   {
    "duration": 96500,
    "start_time": "2023-04-28T18:33:50.459Z"
   },
   {
    "duration": 43107,
    "start_time": "2023-04-28T18:35:48.934Z"
   },
   {
    "duration": 44293,
    "start_time": "2023-04-28T18:39:59.980Z"
   },
   {
    "duration": 109850,
    "start_time": "2023-04-28T18:41:09.371Z"
   },
   {
    "duration": 107337,
    "start_time": "2023-04-28T18:46:36.527Z"
   },
   {
    "duration": 9,
    "start_time": "2023-04-28T18:51:32.368Z"
   },
   {
    "duration": 4,
    "start_time": "2023-04-28T18:51:43.506Z"
   },
   {
    "duration": 45445,
    "start_time": "2023-04-28T18:55:16.999Z"
   },
   {
    "duration": 111921,
    "start_time": "2023-04-28T18:58:36.429Z"
   },
   {
    "duration": 107446,
    "start_time": "2023-04-28T19:12:57.070Z"
   },
   {
    "duration": 4,
    "start_time": "2023-04-28T19:18:51.801Z"
   },
   {
    "duration": 106573,
    "start_time": "2023-04-28T19:19:36.242Z"
   },
   {
    "duration": 4,
    "start_time": "2023-04-28T19:22:01.470Z"
   },
   {
    "duration": 5,
    "start_time": "2023-04-28T19:22:33.532Z"
   },
   {
    "duration": 5,
    "start_time": "2023-04-28T19:22:46.363Z"
   },
   {
    "duration": 3,
    "start_time": "2023-04-28T19:22:50.463Z"
   },
   {
    "duration": 5,
    "start_time": "2023-04-28T19:23:31.635Z"
   },
   {
    "duration": 12,
    "start_time": "2023-04-28T19:25:01.320Z"
   },
   {
    "duration": 26,
    "start_time": "2023-04-28T19:25:19.621Z"
   },
   {
    "duration": 16,
    "start_time": "2023-04-28T19:26:05.618Z"
   },
   {
    "duration": 16,
    "start_time": "2023-04-28T19:26:22.820Z"
   },
   {
    "duration": 79,
    "start_time": "2023-04-28T19:26:48.759Z"
   },
   {
    "duration": 81,
    "start_time": "2023-04-28T19:27:06.850Z"
   },
   {
    "duration": 15,
    "start_time": "2023-04-28T19:27:22.354Z"
   },
   {
    "duration": 3,
    "start_time": "2023-04-28T19:28:14.605Z"
   },
   {
    "duration": 3,
    "start_time": "2023-04-28T19:28:17.084Z"
   },
   {
    "duration": 5,
    "start_time": "2023-04-28T19:28:39.650Z"
   },
   {
    "duration": 3463,
    "start_time": "2023-04-29T11:53:13.801Z"
   },
   {
    "duration": 929,
    "start_time": "2023-04-29T11:53:51.706Z"
   },
   {
    "duration": 1275,
    "start_time": "2023-04-29T11:54:04.924Z"
   },
   {
    "duration": 5,
    "start_time": "2023-04-29T11:54:26.471Z"
   },
   {
    "duration": 126,
    "start_time": "2023-04-29T11:56:31.016Z"
   },
   {
    "duration": 1517,
    "start_time": "2023-04-29T11:58:07.194Z"
   },
   {
    "duration": 3,
    "start_time": "2023-04-29T11:58:08.713Z"
   },
   {
    "duration": 416,
    "start_time": "2023-04-29T11:58:08.718Z"
   },
   {
    "duration": 60,
    "start_time": "2023-04-29T11:58:09.136Z"
   },
   {
    "duration": 7,
    "start_time": "2023-04-29T11:58:09.198Z"
   },
   {
    "duration": 52,
    "start_time": "2023-04-29T11:58:09.206Z"
   },
   {
    "duration": 10,
    "start_time": "2023-04-29T11:58:09.264Z"
   },
   {
    "duration": 341,
    "start_time": "2023-04-29T11:58:09.275Z"
   },
   {
    "duration": 7,
    "start_time": "2023-04-29T11:58:09.618Z"
   },
   {
    "duration": 18,
    "start_time": "2023-04-29T11:58:09.627Z"
   },
   {
    "duration": 25,
    "start_time": "2023-04-29T11:58:09.646Z"
   },
   {
    "duration": 19,
    "start_time": "2023-04-29T11:58:09.673Z"
   },
   {
    "duration": 40,
    "start_time": "2023-04-29T11:58:09.693Z"
   },
   {
    "duration": 13,
    "start_time": "2023-04-29T11:58:09.736Z"
   },
   {
    "duration": 86,
    "start_time": "2023-04-29T11:58:09.751Z"
   },
   {
    "duration": 7,
    "start_time": "2023-04-29T11:58:09.839Z"
   },
   {
    "duration": 267,
    "start_time": "2023-04-29T11:58:09.848Z"
   },
   {
    "duration": 110,
    "start_time": "2023-04-29T11:58:10.117Z"
   },
   {
    "duration": 4,
    "start_time": "2023-04-29T11:58:10.229Z"
   },
   {
    "duration": 19,
    "start_time": "2023-04-29T11:58:10.235Z"
   },
   {
    "duration": 55,
    "start_time": "2023-04-29T11:58:10.261Z"
   },
   {
    "duration": 4,
    "start_time": "2023-04-29T11:58:10.318Z"
   },
   {
    "duration": 31,
    "start_time": "2023-04-29T11:58:10.324Z"
   },
   {
    "duration": 16,
    "start_time": "2023-04-29T11:58:10.356Z"
   },
   {
    "duration": 30,
    "start_time": "2023-04-29T11:58:10.373Z"
   },
   {
    "duration": 4,
    "start_time": "2023-04-29T11:58:10.405Z"
   },
   {
    "duration": 42,
    "start_time": "2023-04-29T11:58:10.411Z"
   },
   {
    "duration": 22,
    "start_time": "2023-04-29T11:58:10.454Z"
   },
   {
    "duration": 188,
    "start_time": "2023-04-29T11:58:10.478Z"
   },
   {
    "duration": 124602,
    "start_time": "2023-04-29T11:58:10.674Z"
   },
   {
    "duration": 40040,
    "start_time": "2023-04-29T12:00:15.278Z"
   },
   {
    "duration": 92055,
    "start_time": "2023-04-29T12:00:55.320Z"
   },
   {
    "duration": 3642,
    "start_time": "2023-04-29T12:02:27.377Z"
   },
   {
    "duration": 1947,
    "start_time": "2023-04-29T12:02:31.021Z"
   },
   {
    "duration": 174,
    "start_time": "2023-04-29T18:47:43.333Z"
   },
   {
    "duration": 1977,
    "start_time": "2023-04-29T18:47:48.399Z"
   },
   {
    "duration": 5,
    "start_time": "2023-04-29T18:47:50.378Z"
   },
   {
    "duration": 372,
    "start_time": "2023-04-29T18:47:50.385Z"
   },
   {
    "duration": 98,
    "start_time": "2023-04-29T18:47:50.760Z"
   },
   {
    "duration": 7,
    "start_time": "2023-04-29T18:47:50.860Z"
   },
   {
    "duration": 65,
    "start_time": "2023-04-29T18:47:50.869Z"
   },
   {
    "duration": 13,
    "start_time": "2023-04-29T18:47:50.937Z"
   },
   {
    "duration": 419,
    "start_time": "2023-04-29T18:47:50.952Z"
   },
   {
    "duration": 10,
    "start_time": "2023-04-29T18:47:51.375Z"
   },
   {
    "duration": 34,
    "start_time": "2023-04-29T18:47:51.389Z"
   },
   {
    "duration": 20,
    "start_time": "2023-04-29T18:47:51.426Z"
   },
   {
    "duration": 20,
    "start_time": "2023-04-29T18:47:51.448Z"
   },
   {
    "duration": 29,
    "start_time": "2023-04-29T18:47:51.470Z"
   },
   {
    "duration": 39,
    "start_time": "2023-04-29T18:47:51.502Z"
   },
   {
    "duration": 90,
    "start_time": "2023-04-29T18:47:51.543Z"
   },
   {
    "duration": 13,
    "start_time": "2023-04-29T18:47:51.635Z"
   },
   {
    "duration": 312,
    "start_time": "2023-04-29T18:47:51.650Z"
   },
   {
    "duration": 210,
    "start_time": "2023-04-29T18:47:51.964Z"
   },
   {
    "duration": 7,
    "start_time": "2023-04-29T18:47:52.176Z"
   },
   {
    "duration": 14,
    "start_time": "2023-04-29T18:47:52.185Z"
   },
   {
    "duration": 36,
    "start_time": "2023-04-29T18:47:52.201Z"
   },
   {
    "duration": 6,
    "start_time": "2023-04-29T18:47:52.239Z"
   },
   {
    "duration": 5,
    "start_time": "2023-04-29T18:47:52.247Z"
   },
   {
    "duration": 13,
    "start_time": "2023-04-29T18:47:52.254Z"
   },
   {
    "duration": 27,
    "start_time": "2023-04-29T18:47:52.270Z"
   },
   {
    "duration": 27,
    "start_time": "2023-04-29T18:47:52.299Z"
   },
   {
    "duration": 14,
    "start_time": "2023-04-29T18:47:52.332Z"
   },
   {
    "duration": 18,
    "start_time": "2023-04-29T18:47:52.351Z"
   },
   {
    "duration": 289,
    "start_time": "2023-04-29T18:47:52.372Z"
   },
   {
    "duration": 143185,
    "start_time": "2023-04-29T18:47:52.663Z"
   },
   {
    "duration": 53486,
    "start_time": "2023-04-29T18:50:15.851Z"
   },
   {
    "duration": 115429,
    "start_time": "2023-04-29T18:51:09.345Z"
   },
   {
    "duration": 4524,
    "start_time": "2023-04-29T18:53:04.776Z"
   },
   {
    "duration": 2479,
    "start_time": "2023-04-29T18:53:09.303Z"
   },
   {
    "duration": 10380,
    "start_time": "2023-04-29T18:55:53.799Z"
   },
   {
    "duration": 192506,
    "start_time": "2023-04-29T18:57:10.289Z"
   },
   {
    "duration": 162455,
    "start_time": "2023-04-29T19:09:07.165Z"
   },
   {
    "duration": 45,
    "start_time": "2023-04-29T19:15:28.839Z"
   },
   {
    "duration": 46,
    "start_time": "2023-04-29T19:16:30.930Z"
   },
   {
    "duration": 39927,
    "start_time": "2023-04-29T19:19:15.444Z"
   },
   {
    "duration": 1859,
    "start_time": "2023-04-29T19:20:51.626Z"
   },
   {
    "duration": 4,
    "start_time": "2023-04-29T19:20:53.491Z"
   },
   {
    "duration": 179,
    "start_time": "2023-04-29T19:20:53.499Z"
   },
   {
    "duration": 80,
    "start_time": "2023-04-29T19:20:53.680Z"
   },
   {
    "duration": 8,
    "start_time": "2023-04-29T19:20:53.762Z"
   },
   {
    "duration": 50,
    "start_time": "2023-04-29T19:20:53.772Z"
   },
   {
    "duration": 14,
    "start_time": "2023-04-29T19:20:53.824Z"
   },
   {
    "duration": 411,
    "start_time": "2023-04-29T19:20:53.845Z"
   },
   {
    "duration": 15,
    "start_time": "2023-04-29T19:20:54.258Z"
   },
   {
    "duration": 11,
    "start_time": "2023-04-29T19:20:54.275Z"
   },
   {
    "duration": 51,
    "start_time": "2023-04-29T19:20:54.288Z"
   },
   {
    "duration": 12,
    "start_time": "2023-04-29T19:20:54.342Z"
   },
   {
    "duration": 29,
    "start_time": "2023-04-29T19:20:54.363Z"
   },
   {
    "duration": 6,
    "start_time": "2023-04-29T19:20:54.394Z"
   },
   {
    "duration": 102,
    "start_time": "2023-04-29T19:20:54.402Z"
   },
   {
    "duration": 12,
    "start_time": "2023-04-29T19:20:54.506Z"
   },
   {
    "duration": 479,
    "start_time": "2023-04-29T19:20:54.524Z"
   },
   {
    "duration": 157,
    "start_time": "2023-04-29T19:20:55.005Z"
   },
   {
    "duration": 6,
    "start_time": "2023-04-29T19:20:55.166Z"
   },
   {
    "duration": 12,
    "start_time": "2023-04-29T19:20:55.173Z"
   },
   {
    "duration": 38,
    "start_time": "2023-04-29T19:20:55.187Z"
   },
   {
    "duration": 26,
    "start_time": "2023-04-29T19:20:55.226Z"
   },
   {
    "duration": 11,
    "start_time": "2023-04-29T19:20:55.258Z"
   },
   {
    "duration": 13,
    "start_time": "2023-04-29T19:20:55.273Z"
   },
   {
    "duration": 42,
    "start_time": "2023-04-29T19:20:55.288Z"
   },
   {
    "duration": 16,
    "start_time": "2023-04-29T19:20:55.332Z"
   },
   {
    "duration": 11,
    "start_time": "2023-04-29T19:20:55.358Z"
   },
   {
    "duration": 21,
    "start_time": "2023-04-29T19:20:55.372Z"
   },
   {
    "duration": 36396,
    "start_time": "2023-04-29T19:20:55.395Z"
   },
   {
    "duration": 239706,
    "start_time": "2023-04-29T19:21:31.793Z"
   },
   {
    "duration": 56791,
    "start_time": "2023-04-29T19:25:31.501Z"
   },
   {
    "duration": 130168,
    "start_time": "2023-04-29T19:26:28.295Z"
   },
   {
    "duration": 5275,
    "start_time": "2023-04-29T19:28:38.479Z"
   },
   {
    "duration": 3277,
    "start_time": "2023-04-29T19:28:43.761Z"
   },
   {
    "duration": 1752,
    "start_time": "2023-05-04T16:38:59.163Z"
   },
   {
    "duration": 3,
    "start_time": "2023-05-04T16:39:03.505Z"
   },
   {
    "duration": 204,
    "start_time": "2023-05-04T16:39:06.392Z"
   },
   {
    "duration": 48,
    "start_time": "2023-05-04T16:39:10.758Z"
   },
   {
    "duration": 5,
    "start_time": "2023-05-04T16:39:16.695Z"
   },
   {
    "duration": 24,
    "start_time": "2023-05-04T16:39:19.391Z"
   },
   {
    "duration": 8,
    "start_time": "2023-05-04T16:39:22.017Z"
   },
   {
    "duration": 342,
    "start_time": "2023-05-04T16:39:24.660Z"
   },
   {
    "duration": 7,
    "start_time": "2023-05-04T16:39:27.107Z"
   },
   {
    "duration": 7,
    "start_time": "2023-05-04T16:39:32.838Z"
   },
   {
    "duration": 11,
    "start_time": "2023-05-04T16:39:35.245Z"
   },
   {
    "duration": 7,
    "start_time": "2023-05-04T16:39:38.108Z"
   },
   {
    "duration": 8,
    "start_time": "2023-05-04T16:39:40.684Z"
   },
   {
    "duration": 6,
    "start_time": "2023-05-04T16:52:57.993Z"
   },
   {
    "duration": 132,
    "start_time": "2023-05-04T16:55:26.487Z"
   },
   {
    "duration": 7,
    "start_time": "2023-05-04T16:56:58.901Z"
   },
   {
    "duration": 19,
    "start_time": "2023-05-04T16:57:00.392Z"
   },
   {
    "duration": 9,
    "start_time": "2023-05-04T16:58:44.866Z"
   },
   {
    "duration": 20,
    "start_time": "2023-05-04T16:58:46.804Z"
   },
   {
    "duration": 33,
    "start_time": "2023-05-04T16:58:55.069Z"
   },
   {
    "duration": 45,
    "start_time": "2023-05-04T16:59:43.339Z"
   },
   {
    "duration": 10,
    "start_time": "2023-05-04T17:01:15.669Z"
   },
   {
    "duration": 21,
    "start_time": "2023-05-04T17:01:19.376Z"
   },
   {
    "duration": 6,
    "start_time": "2023-05-04T17:01:44.607Z"
   },
   {
    "duration": 22,
    "start_time": "2023-05-04T17:01:46.184Z"
   },
   {
    "duration": 6,
    "start_time": "2023-05-04T17:01:53.141Z"
   },
   {
    "duration": 42,
    "start_time": "2023-05-04T17:01:54.702Z"
   },
   {
    "duration": 291,
    "start_time": "2023-05-04T17:06:49.951Z"
   },
   {
    "duration": 9,
    "start_time": "2023-05-04T17:07:11.126Z"
   },
   {
    "duration": 281,
    "start_time": "2023-05-04T17:07:18.413Z"
   },
   {
    "duration": 7,
    "start_time": "2023-05-04T17:17:45.153Z"
   },
   {
    "duration": 247,
    "start_time": "2023-05-04T17:17:48.064Z"
   },
   {
    "duration": 9,
    "start_time": "2023-05-04T17:18:42.010Z"
   },
   {
    "duration": 272,
    "start_time": "2023-05-04T17:18:50.763Z"
   },
   {
    "duration": 257,
    "start_time": "2023-05-04T17:20:16.757Z"
   },
   {
    "duration": 6,
    "start_time": "2023-05-04T17:21:29.379Z"
   },
   {
    "duration": 559,
    "start_time": "2023-05-04T17:21:42.769Z"
   },
   {
    "duration": 564,
    "start_time": "2023-05-04T17:22:45.303Z"
   },
   {
    "duration": 8,
    "start_time": "2023-05-04T17:23:29.406Z"
   },
   {
    "duration": 5,
    "start_time": "2023-05-04T17:23:34.369Z"
   },
   {
    "duration": 21,
    "start_time": "2023-05-04T17:23:36.677Z"
   },
   {
    "duration": 12,
    "start_time": "2023-05-04T17:24:19.749Z"
   },
   {
    "duration": 43,
    "start_time": "2023-05-04T17:24:32.961Z"
   },
   {
    "duration": 44,
    "start_time": "2023-05-04T17:25:24.489Z"
   },
   {
    "duration": 8,
    "start_time": "2023-05-04T17:26:23.514Z"
   },
   {
    "duration": 108,
    "start_time": "2023-05-04T17:26:28.515Z"
   },
   {
    "duration": 6,
    "start_time": "2023-05-04T17:26:49.947Z"
   },
   {
    "duration": 8,
    "start_time": "2023-05-04T17:26:57.169Z"
   },
   {
    "duration": 82,
    "start_time": "2023-05-04T17:27:01.445Z"
   },
   {
    "duration": 13,
    "start_time": "2023-05-04T17:27:34.773Z"
   },
   {
    "duration": 11,
    "start_time": "2023-05-04T17:27:49.293Z"
   },
   {
    "duration": 1380,
    "start_time": "2023-05-04T17:56:31.440Z"
   },
   {
    "duration": 3,
    "start_time": "2023-05-04T17:56:32.822Z"
   },
   {
    "duration": 182,
    "start_time": "2023-05-04T17:56:32.827Z"
   },
   {
    "duration": 55,
    "start_time": "2023-05-04T17:56:33.011Z"
   },
   {
    "duration": 6,
    "start_time": "2023-05-04T17:56:33.067Z"
   },
   {
    "duration": 24,
    "start_time": "2023-05-04T17:56:33.075Z"
   },
   {
    "duration": 8,
    "start_time": "2023-05-04T17:56:33.101Z"
   },
   {
    "duration": 317,
    "start_time": "2023-05-04T17:56:33.111Z"
   },
   {
    "duration": 8,
    "start_time": "2023-05-04T17:56:33.430Z"
   },
   {
    "duration": 7,
    "start_time": "2023-05-04T17:56:33.449Z"
   },
   {
    "duration": 11,
    "start_time": "2023-05-04T17:56:33.457Z"
   },
   {
    "duration": 6,
    "start_time": "2023-05-04T17:56:33.469Z"
   },
   {
    "duration": 8,
    "start_time": "2023-05-04T17:56:33.477Z"
   },
   {
    "duration": 100,
    "start_time": "2023-05-04T17:56:33.487Z"
   },
   {
    "duration": 0,
    "start_time": "2023-05-04T17:56:33.589Z"
   },
   {
    "duration": 0,
    "start_time": "2023-05-04T17:56:33.590Z"
   },
   {
    "duration": 0,
    "start_time": "2023-05-04T17:56:33.591Z"
   },
   {
    "duration": 0,
    "start_time": "2023-05-04T17:56:33.592Z"
   },
   {
    "duration": 1,
    "start_time": "2023-05-04T17:56:33.592Z"
   },
   {
    "duration": 0,
    "start_time": "2023-05-04T17:56:33.593Z"
   },
   {
    "duration": 0,
    "start_time": "2023-05-04T17:56:33.594Z"
   },
   {
    "duration": 0,
    "start_time": "2023-05-04T17:56:33.595Z"
   },
   {
    "duration": 0,
    "start_time": "2023-05-04T17:56:33.596Z"
   },
   {
    "duration": 0,
    "start_time": "2023-05-04T17:56:33.597Z"
   },
   {
    "duration": 0,
    "start_time": "2023-05-04T17:56:33.598Z"
   },
   {
    "duration": 0,
    "start_time": "2023-05-04T17:56:33.599Z"
   },
   {
    "duration": 0,
    "start_time": "2023-05-04T17:56:33.600Z"
   },
   {
    "duration": 0,
    "start_time": "2023-05-04T17:56:33.601Z"
   },
   {
    "duration": 0,
    "start_time": "2023-05-04T17:56:33.602Z"
   },
   {
    "duration": 0,
    "start_time": "2023-05-04T17:56:33.603Z"
   },
   {
    "duration": 0,
    "start_time": "2023-05-04T17:56:33.604Z"
   },
   {
    "duration": 0,
    "start_time": "2023-05-04T17:56:33.604Z"
   },
   {
    "duration": 0,
    "start_time": "2023-05-04T17:56:33.606Z"
   },
   {
    "duration": 0,
    "start_time": "2023-05-04T17:56:33.607Z"
   },
   {
    "duration": 0,
    "start_time": "2023-05-04T17:56:33.608Z"
   },
   {
    "duration": 0,
    "start_time": "2023-05-04T17:56:33.608Z"
   },
   {
    "duration": 0,
    "start_time": "2023-05-04T17:56:33.609Z"
   },
   {
    "duration": 0,
    "start_time": "2023-05-04T17:56:33.610Z"
   },
   {
    "duration": 0,
    "start_time": "2023-05-04T17:56:33.611Z"
   },
   {
    "duration": 0,
    "start_time": "2023-05-04T17:56:33.612Z"
   },
   {
    "duration": 0,
    "start_time": "2023-05-04T17:56:33.613Z"
   },
   {
    "duration": 1706,
    "start_time": "2023-05-04T17:56:53.576Z"
   },
   {
    "duration": 2,
    "start_time": "2023-05-04T17:56:55.284Z"
   },
   {
    "duration": 115,
    "start_time": "2023-05-04T17:56:55.288Z"
   },
   {
    "duration": 55,
    "start_time": "2023-05-04T17:56:55.405Z"
   },
   {
    "duration": 5,
    "start_time": "2023-05-04T17:56:55.461Z"
   },
   {
    "duration": 36,
    "start_time": "2023-05-04T17:56:55.468Z"
   },
   {
    "duration": 7,
    "start_time": "2023-05-04T17:56:55.506Z"
   },
   {
    "duration": 293,
    "start_time": "2023-05-04T17:56:55.514Z"
   },
   {
    "duration": 7,
    "start_time": "2023-05-04T17:56:55.809Z"
   },
   {
    "duration": 32,
    "start_time": "2023-05-04T17:56:55.818Z"
   },
   {
    "duration": 10,
    "start_time": "2023-05-04T17:56:55.852Z"
   },
   {
    "duration": 6,
    "start_time": "2023-05-04T17:56:55.864Z"
   },
   {
    "duration": 12,
    "start_time": "2023-05-04T17:56:55.873Z"
   },
   {
    "duration": 6,
    "start_time": "2023-05-04T17:56:55.887Z"
   },
   {
    "duration": 99,
    "start_time": "2023-05-04T17:56:55.894Z"
   },
   {
    "duration": 9,
    "start_time": "2023-05-04T17:56:55.995Z"
   },
   {
    "duration": 510,
    "start_time": "2023-05-04T17:56:56.005Z"
   },
   {
    "duration": 226,
    "start_time": "2023-05-04T17:56:56.516Z"
   },
   {
    "duration": 5,
    "start_time": "2023-05-04T17:56:56.743Z"
   },
   {
    "duration": 9,
    "start_time": "2023-05-04T17:56:56.749Z"
   },
   {
    "duration": 12,
    "start_time": "2023-05-04T17:56:56.760Z"
   },
   {
    "duration": 4,
    "start_time": "2023-05-04T17:56:56.774Z"
   },
   {
    "duration": 5,
    "start_time": "2023-05-04T17:56:56.780Z"
   },
   {
    "duration": 6,
    "start_time": "2023-05-04T17:56:56.786Z"
   },
   {
    "duration": 23,
    "start_time": "2023-05-04T17:56:56.793Z"
   },
   {
    "duration": 13,
    "start_time": "2023-05-04T17:56:56.818Z"
   },
   {
    "duration": 8,
    "start_time": "2023-05-04T17:56:56.833Z"
   },
   {
    "duration": 12,
    "start_time": "2023-05-04T17:56:56.844Z"
   },
   {
    "duration": 10,
    "start_time": "2023-05-04T17:56:56.858Z"
   },
   {
    "duration": 8,
    "start_time": "2023-05-04T17:56:56.870Z"
   },
   {
    "duration": 13275,
    "start_time": "2023-05-04T17:56:56.880Z"
   },
   {
    "duration": 2180,
    "start_time": "2023-05-04T17:57:10.157Z"
   },
   {
    "duration": 11817,
    "start_time": "2023-05-04T17:57:12.339Z"
   },
   {
    "duration": 1712,
    "start_time": "2023-05-04T17:57:24.158Z"
   },
   {
    "duration": 25046,
    "start_time": "2023-05-04T17:57:25.871Z"
   },
   {
    "duration": 3232,
    "start_time": "2023-05-04T17:57:50.918Z"
   },
   {
    "duration": 11952,
    "start_time": "2023-05-04T17:57:54.152Z"
   },
   {
    "duration": 3450,
    "start_time": "2023-05-04T17:58:06.105Z"
   },
   {
    "duration": 3342,
    "start_time": "2023-05-04T17:58:09.556Z"
   },
   {
    "duration": 2199,
    "start_time": "2023-05-04T17:58:12.900Z"
   },
   {
    "duration": 1400,
    "start_time": "2023-05-04T18:03:51.719Z"
   },
   {
    "duration": 3,
    "start_time": "2023-05-04T18:03:53.121Z"
   },
   {
    "duration": 98,
    "start_time": "2023-05-04T18:03:53.126Z"
   },
   {
    "duration": 51,
    "start_time": "2023-05-04T18:03:53.226Z"
   },
   {
    "duration": 5,
    "start_time": "2023-05-04T18:03:53.279Z"
   },
   {
    "duration": 34,
    "start_time": "2023-05-04T18:03:53.285Z"
   },
   {
    "duration": 7,
    "start_time": "2023-05-04T18:03:53.321Z"
   },
   {
    "duration": 304,
    "start_time": "2023-05-04T18:03:53.330Z"
   },
   {
    "duration": 14,
    "start_time": "2023-05-04T18:03:53.635Z"
   },
   {
    "duration": 9,
    "start_time": "2023-05-04T18:03:53.653Z"
   },
   {
    "duration": 11,
    "start_time": "2023-05-04T18:03:53.664Z"
   },
   {
    "duration": 9,
    "start_time": "2023-05-04T18:03:53.676Z"
   },
   {
    "duration": 9,
    "start_time": "2023-05-04T18:03:53.686Z"
   },
   {
    "duration": 6,
    "start_time": "2023-05-04T18:03:53.696Z"
   },
   {
    "duration": 119,
    "start_time": "2023-05-04T18:03:53.704Z"
   },
   {
    "duration": 29,
    "start_time": "2023-05-04T18:03:53.824Z"
   },
   {
    "duration": 302,
    "start_time": "2023-05-04T18:03:53.855Z"
   },
   {
    "duration": 131,
    "start_time": "2023-05-04T18:03:54.158Z"
   },
   {
    "duration": 5,
    "start_time": "2023-05-04T18:03:54.290Z"
   },
   {
    "duration": 22,
    "start_time": "2023-05-04T18:03:54.297Z"
   },
   {
    "duration": 15,
    "start_time": "2023-05-04T18:03:54.320Z"
   },
   {
    "duration": 4,
    "start_time": "2023-05-04T18:03:54.337Z"
   },
   {
    "duration": 19,
    "start_time": "2023-05-04T18:03:54.343Z"
   },
   {
    "duration": 20,
    "start_time": "2023-05-04T18:03:54.364Z"
   },
   {
    "duration": 28,
    "start_time": "2023-05-04T18:03:54.386Z"
   },
   {
    "duration": 11,
    "start_time": "2023-05-04T18:03:54.416Z"
   },
   {
    "duration": 21,
    "start_time": "2023-05-04T18:03:54.429Z"
   },
   {
    "duration": 12,
    "start_time": "2023-05-04T18:03:54.453Z"
   },
   {
    "duration": 16,
    "start_time": "2023-05-04T18:03:54.467Z"
   },
   {
    "duration": 19,
    "start_time": "2023-05-04T18:03:54.484Z"
   },
   {
    "duration": 12563,
    "start_time": "2023-05-04T18:03:54.505Z"
   },
   {
    "duration": 2209,
    "start_time": "2023-05-04T18:04:07.070Z"
   },
   {
    "duration": 9074,
    "start_time": "2023-05-04T18:04:09.281Z"
   },
   {
    "duration": 1561,
    "start_time": "2023-05-04T18:04:18.357Z"
   },
   {
    "duration": 14046,
    "start_time": "2023-05-04T18:04:19.920Z"
   },
   {
    "duration": 2472,
    "start_time": "2023-05-04T18:04:33.968Z"
   },
   {
    "duration": 11917,
    "start_time": "2023-05-04T18:04:36.449Z"
   },
   {
    "duration": 2522,
    "start_time": "2023-05-04T18:04:48.367Z"
   },
   {
    "duration": 3399,
    "start_time": "2023-05-04T18:04:50.891Z"
   },
   {
    "duration": 2238,
    "start_time": "2023-05-04T18:04:54.292Z"
   },
   {
    "duration": 2350,
    "start_time": "2023-05-04T21:35:01.429Z"
   },
   {
    "duration": 1647,
    "start_time": "2023-05-04T21:56:38.735Z"
   },
   {
    "duration": 2,
    "start_time": "2023-05-04T21:56:40.384Z"
   },
   {
    "duration": 165,
    "start_time": "2023-05-04T21:56:40.388Z"
   },
   {
    "duration": 52,
    "start_time": "2023-05-04T21:56:40.556Z"
   },
   {
    "duration": 5,
    "start_time": "2023-05-04T21:56:40.610Z"
   },
   {
    "duration": 39,
    "start_time": "2023-05-04T21:56:40.617Z"
   },
   {
    "duration": 9,
    "start_time": "2023-05-04T21:56:40.657Z"
   },
   {
    "duration": 302,
    "start_time": "2023-05-04T21:56:40.667Z"
   },
   {
    "duration": 8,
    "start_time": "2023-05-04T21:56:40.971Z"
   },
   {
    "duration": 17,
    "start_time": "2023-05-04T21:56:40.983Z"
   },
   {
    "duration": 15,
    "start_time": "2023-05-04T21:56:41.001Z"
   },
   {
    "duration": 7,
    "start_time": "2023-05-04T21:56:41.018Z"
   },
   {
    "duration": 23,
    "start_time": "2023-05-04T21:56:41.027Z"
   },
   {
    "duration": 7,
    "start_time": "2023-05-04T21:56:41.052Z"
   },
   {
    "duration": 96,
    "start_time": "2023-05-04T21:56:41.060Z"
   },
   {
    "duration": 11,
    "start_time": "2023-05-04T21:56:41.157Z"
   },
   {
    "duration": 325,
    "start_time": "2023-05-04T21:56:41.169Z"
   },
   {
    "duration": 211,
    "start_time": "2023-05-04T21:56:41.496Z"
   },
   {
    "duration": 4,
    "start_time": "2023-05-04T21:56:41.708Z"
   },
   {
    "duration": 6,
    "start_time": "2023-05-04T21:56:41.714Z"
   },
   {
    "duration": 12,
    "start_time": "2023-05-04T21:56:41.721Z"
   },
   {
    "duration": 5,
    "start_time": "2023-05-04T21:56:41.734Z"
   },
   {
    "duration": 19,
    "start_time": "2023-05-04T21:56:41.740Z"
   },
   {
    "duration": 8,
    "start_time": "2023-05-04T21:56:41.761Z"
   },
   {
    "duration": 15,
    "start_time": "2023-05-04T21:56:41.770Z"
   },
   {
    "duration": 4,
    "start_time": "2023-05-04T21:56:41.787Z"
   },
   {
    "duration": 16,
    "start_time": "2023-05-04T21:56:41.792Z"
   },
   {
    "duration": 8,
    "start_time": "2023-05-04T21:56:41.812Z"
   },
   {
    "duration": 10,
    "start_time": "2023-05-04T21:56:41.822Z"
   },
   {
    "duration": 15,
    "start_time": "2023-05-04T21:56:41.834Z"
   },
   {
    "duration": 17604,
    "start_time": "2023-05-04T21:56:41.850Z"
   },
   {
    "duration": 2490,
    "start_time": "2023-05-04T21:56:59.456Z"
   },
   {
    "duration": 15502,
    "start_time": "2023-05-04T21:57:01.949Z"
   },
   {
    "duration": 1537,
    "start_time": "2023-05-04T21:57:17.453Z"
   },
   {
    "duration": 14023,
    "start_time": "2023-05-04T21:57:18.992Z"
   },
   {
    "duration": 2425,
    "start_time": "2023-05-04T21:57:33.016Z"
   },
   {
    "duration": 11878,
    "start_time": "2023-05-04T21:57:35.443Z"
   },
   {
    "duration": 2484,
    "start_time": "2023-05-04T21:57:47.322Z"
   },
   {
    "duration": 2375,
    "start_time": "2023-05-04T21:57:49.808Z"
   },
   {
    "duration": 1463,
    "start_time": "2023-05-04T21:57:52.185Z"
   }
  ],
  "kernelspec": {
   "display_name": "Python 3 (ipykernel)",
   "language": "python",
   "name": "python3"
  },
  "language_info": {
   "codemirror_mode": {
    "name": "ipython",
    "version": 3
   },
   "file_extension": ".py",
   "mimetype": "text/x-python",
   "name": "python",
   "nbconvert_exporter": "python",
   "pygments_lexer": "ipython3",
   "version": "3.10.9"
  },
  "toc": {
   "base_numbering": 1,
   "nav_menu": {},
   "number_sections": true,
   "sideBar": true,
   "skip_h1_title": true,
   "title_cell": "Содержание проекта",
   "title_sidebar": "Содержание",
   "toc_cell": true,
   "toc_position": {
    "height": "100px",
    "left": "10px",
    "top": "150px",
    "width": "412px"
   },
   "toc_section_display": true,
   "toc_window_display": true
  },
  "varInspector": {
   "cols": {
    "lenName": 16,
    "lenType": 16,
    "lenVar": 40
   },
   "kernels_config": {
    "python": {
     "delete_cmd_postfix": "",
     "delete_cmd_prefix": "del ",
     "library": "var_list.py",
     "varRefreshCmd": "print(var_dic_list())"
    },
    "r": {
     "delete_cmd_postfix": ") ",
     "delete_cmd_prefix": "rm(",
     "library": "var_list.r",
     "varRefreshCmd": "cat(var_dic_list()) "
    }
   },
   "types_to_exclude": [
    "module",
    "function",
    "builtin_function_or_method",
    "instance",
    "_Feature"
   ],
   "window_display": false
  }
 },
 "nbformat": 4,
 "nbformat_minor": 5
}
