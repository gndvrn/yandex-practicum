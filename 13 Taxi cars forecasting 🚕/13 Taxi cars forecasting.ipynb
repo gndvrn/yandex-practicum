{
 "cells": [
  {
   "cell_type": "markdown",
   "id": "83563f68",
   "metadata": {},
   "source": [
    "# Прогнозирование кол-ва заказов такси 🚖\n",
    "\n",
    "Компания «Чётенькое такси» собрала исторические данные о заказах такси в аэропортах. Чтобы привлекать больше водителей в период пиковой нагрузки, компании нужно прогнозировать количество заказов такси на следующий час, а нам необходимо построить модель для такого прогнозирования.\n",
    "\n",
    "**Техническое задание**\n",
    "- Значение метрики <tt>RMSE</tt> на тестовой выборке менее <tt>48</tt>;"
   ]
  },
  {
   "cell_type": "markdown",
   "id": "07509bd9",
   "metadata": {
    "toc": true
   },
   "source": [
    "<h1>Содержание проекта<span class=\"tocSkip\"></span></h1>\n",
    "<div class=\"toc\"><ul class=\"toc-item\"><li><span><a href=\"#Обзор-и-предобработка-данных-🤨-⚙️\" data-toc-modified-id=\"Обзор-и-предобработка-данных-🤨-⚙️-1\"><span class=\"toc-item-num\">1&nbsp;&nbsp;</span>Обзор и предобработка данных 🤨 ⚙️</a></span><ul class=\"toc-item\"><li><span><a href=\"#Импорт-библиотек\" data-toc-modified-id=\"Импорт-библиотек-1.1\"><span class=\"toc-item-num\">1.1&nbsp;&nbsp;</span>Импорт библиотек</a></span></li><li><span><a href=\"#Получение-данных\" data-toc-modified-id=\"Получение-данных-1.2\"><span class=\"toc-item-num\">1.2&nbsp;&nbsp;</span>Получение данных</a></span></li><li><span><a href=\"#Предобработка-данных\" data-toc-modified-id=\"Предобработка-данных-1.3\"><span class=\"toc-item-num\">1.3&nbsp;&nbsp;</span>Предобработка данных</a></span><ul class=\"toc-item\"><li><span><a href=\"#Ресемплинг-данных\" data-toc-modified-id=\"Ресемплинг-данных-1.3.1\"><span class=\"toc-item-num\">1.3.1&nbsp;&nbsp;</span>Ресемплинг данных</a></span></li><li><span><a href=\"#Добавление-признаков\" data-toc-modified-id=\"Добавление-признаков-1.3.2\"><span class=\"toc-item-num\">1.3.2&nbsp;&nbsp;</span>Добавление признаков</a></span></li></ul></li><li><span><a href=\"#Итого\" data-toc-modified-id=\"Итого-1.4\"><span class=\"toc-item-num\">1.4&nbsp;&nbsp;</span>Итого</a></span></li></ul></li><li><span><a href=\"#Анализ-данных-📈\" data-toc-modified-id=\"Анализ-данных-📈-2\"><span class=\"toc-item-num\">2&nbsp;&nbsp;</span>Анализ данных 📈</a></span><ul class=\"toc-item\"><li><span><a href=\"#Временные-зависимости\" data-toc-modified-id=\"Временные-зависимости-2.1\"><span class=\"toc-item-num\">2.1&nbsp;&nbsp;</span>Временные зависимости</a></span></li><li><span><a href=\"#Количество-заказов,-скользящее-среднее-и-скользящее-отклонение\" data-toc-modified-id=\"Количество-заказов,-скользящее-среднее-и-скользящее-отклонение-2.2\"><span class=\"toc-item-num\">2.2&nbsp;&nbsp;</span>Количество заказов, скользящее среднее и скользящее отклонение</a></span></li><li><span><a href=\"#Тренд-и-сезонность\" data-toc-modified-id=\"Тренд-и-сезонность-2.3\"><span class=\"toc-item-num\">2.3&nbsp;&nbsp;</span>Тренд и сезонность</a></span></li><li><span><a href=\"#Итого\" data-toc-modified-id=\"Итого-2.4\"><span class=\"toc-item-num\">2.4&nbsp;&nbsp;</span>Итого</a></span></li></ul></li><li><span><a href=\"#Обучение-моделей-🦾\" data-toc-modified-id=\"Обучение-моделей-🦾-3\"><span class=\"toc-item-num\">3&nbsp;&nbsp;</span>Обучение моделей 🦾</a></span><ul class=\"toc-item\"><li><span><a href=\"#Тренировочная-и-тестовая-выборки\" data-toc-modified-id=\"Тренировочная-и-тестовая-выборки-3.1\"><span class=\"toc-item-num\">3.1&nbsp;&nbsp;</span>Тренировочная и тестовая выборки</a></span></li><li><span><a href=\"#StandardScaler\" data-toc-modified-id=\"StandardScaler-3.2\"><span class=\"toc-item-num\">3.2&nbsp;&nbsp;</span>StandardScaler</a></span></li><li><span><a href=\"#LinearRegression\" data-toc-modified-id=\"LinearRegression-3.3\"><span class=\"toc-item-num\">3.3&nbsp;&nbsp;</span><tt>LinearRegression</tt></a></span></li><li><span><a href=\"#GradientBoostingRegressor\" data-toc-modified-id=\"GradientBoostingRegressor-3.4\"><span class=\"toc-item-num\">3.4&nbsp;&nbsp;</span><tt>GradientBoostingRegressor</tt></a></span></li><li><span><a href=\"#CatBoostRegressor\" data-toc-modified-id=\"CatBoostRegressor-3.5\"><span class=\"toc-item-num\">3.5&nbsp;&nbsp;</span><tt>CatBoostRegressor</tt></a></span></li><li><span><a href=\"#Промежуточные-результаты-обучения-моделей\" data-toc-modified-id=\"Промежуточные-результаты-обучения-моделей-3.6\"><span class=\"toc-item-num\">3.6&nbsp;&nbsp;</span>Промежуточные результаты обучения моделей</a></span></li><li><span><a href=\"#Итого\" data-toc-modified-id=\"Итого-3.7\"><span class=\"toc-item-num\">3.7&nbsp;&nbsp;</span>Итого</a></span></li></ul></li><li><span><a href=\"#Тестирование-модели-💯\" data-toc-modified-id=\"Тестирование-модели-💯-4\"><span class=\"toc-item-num\">4&nbsp;&nbsp;</span>Тестирование модели 💯</a></span><ul class=\"toc-item\"><li><span><a href=\"#Test-RMSE\" data-toc-modified-id=\"Test-RMSE-4.1\"><span class=\"toc-item-num\">4.1&nbsp;&nbsp;</span>Test RMSE</a></span></li><li><span><a href=\"#Проверка-на-адекватность\" data-toc-modified-id=\"Проверка-на-адекватность-4.2\"><span class=\"toc-item-num\">4.2&nbsp;&nbsp;</span>Проверка на адекватность</a></span></li><li><span><a href=\"#Итого\" data-toc-modified-id=\"Итого-4.3\"><span class=\"toc-item-num\">4.3&nbsp;&nbsp;</span>Итого</a></span></li></ul></li><li><span><a href=\"#Общий-вывод-👀\" data-toc-modified-id=\"Общий-вывод-👀-5\"><span class=\"toc-item-num\">5&nbsp;&nbsp;</span>Общий вывод 👀</a></span><ul class=\"toc-item\"><li><span><a href=\"#Краткая-сводка-по-выполненным-задачам\" data-toc-modified-id=\"Краткая-сводка-по-выполненным-задачам-5.1\"><span class=\"toc-item-num\">5.1&nbsp;&nbsp;</span>Краткая сводка по выполненным задачам</a></span><ul class=\"toc-item\"><li><span><a href=\"#Шаг-1.-Обзор-и-предобработка-данных\" data-toc-modified-id=\"Шаг-1.-Обзор-и-предобработка-данных-5.1.1\"><span class=\"toc-item-num\">5.1.1&nbsp;&nbsp;</span>Шаг 1. Обзор и предобработка данных</a></span></li><li><span><a href=\"#Шаг-2.-Анализ-данных\" data-toc-modified-id=\"Шаг-2.-Анализ-данных-5.1.2\"><span class=\"toc-item-num\">5.1.2&nbsp;&nbsp;</span>Шаг 2. Анализ данных</a></span></li><li><span><a href=\"#Шаг-3.-Обучение-моделей\" data-toc-modified-id=\"Шаг-3.-Обучение-моделей-5.1.3\"><span class=\"toc-item-num\">5.1.3&nbsp;&nbsp;</span>Шаг 3. Обучение моделей</a></span></li><li><span><a href=\"#Шаг-4.-Тестирование-модели\" data-toc-modified-id=\"Шаг-4.-Тестирование-модели-5.1.4\"><span class=\"toc-item-num\">5.1.4&nbsp;&nbsp;</span>Шаг 4. Тестирование модели</a></span></li></ul></li></ul></li></ul></div>"
   ]
  },
  {
   "cell_type": "markdown",
   "id": "a56f194c",
   "metadata": {},
   "source": [
    "## Обзор и предобработка данных 🤨 ⚙️"
   ]
  },
  {
   "cell_type": "markdown",
   "id": "0c20916e",
   "metadata": {},
   "source": [
    "### Импорт библиотек"
   ]
  },
  {
   "cell_type": "code",
   "execution_count": 1,
   "id": "4eae2244",
   "metadata": {},
   "outputs": [],
   "source": [
    "import pandas as pd\n",
    "import numpy as np\n",
    "\n",
    "import seaborn as sns\n",
    "import matplotlib.pyplot as plt\n",
    "import plotly.graph_objects as go\n",
    "from plotly.subplots import make_subplots\n",
    "\n",
    "from statsmodels.tsa.seasonal import seasonal_decompose\n",
    "from sklearn.model_selection import train_test_split, cross_val_score, TimeSeriesSplit, GridSearchCV\n",
    "from sklearn.preprocessing import StandardScaler\n",
    "from sklearn.metrics import mean_squared_error, make_scorer\n",
    "\n",
    "from sklearn.linear_model import LinearRegression\n",
    "from sklearn.ensemble import GradientBoostingRegressor\n",
    "from catboost import CatBoostRegressor\n",
    "from sklearn.dummy import DummyRegressor\n",
    "\n",
    "from time import time\n",
    "import urllib\n",
    "import warnings\n",
    "from IPython.display import HTML, display\n",
    "\n",
    "%matplotlib inline\n",
    "\n",
    "pd.set_option('display.max_columns', 1000)\n",
    "pd.set_option('display.max_rows', 200)\n",
    "pd.options.display.float_format = '{:10,.2f}'.format\n",
    "\n",
    "np.set_printoptions(suppress=True)\n",
    "\n",
    "STATE = np.random.RandomState(42)\n",
    "\n",
    "warnings.filterwarnings('ignore')"
   ]
  },
  {
   "cell_type": "markdown",
   "id": "634c4c73",
   "metadata": {},
   "source": [
    "### Получение данных"
   ]
  },
  {
   "cell_type": "code",
   "execution_count": 2,
   "id": "5dac188a",
   "metadata": {},
   "outputs": [
    {
     "data": {
      "text/html": [
       "<div>\n",
       "<style scoped>\n",
       "    .dataframe tbody tr th:only-of-type {\n",
       "        vertical-align: middle;\n",
       "    }\n",
       "\n",
       "    .dataframe tbody tr th {\n",
       "        vertical-align: top;\n",
       "    }\n",
       "\n",
       "    .dataframe thead th {\n",
       "        text-align: right;\n",
       "    }\n",
       "</style>\n",
       "<table border=\"1\" class=\"dataframe\">\n",
       "  <thead>\n",
       "    <tr style=\"text-align: right;\">\n",
       "      <th>taxi.csv</th>\n",
       "      <th>num_orders</th>\n",
       "    </tr>\n",
       "    <tr>\n",
       "      <th>datetime</th>\n",
       "      <th></th>\n",
       "    </tr>\n",
       "  </thead>\n",
       "  <tbody>\n",
       "    <tr>\n",
       "      <th>2018-03-01 00:00:00</th>\n",
       "      <td>9</td>\n",
       "    </tr>\n",
       "    <tr>\n",
       "      <th>2018-03-01 00:10:00</th>\n",
       "      <td>14</td>\n",
       "    </tr>\n",
       "    <tr>\n",
       "      <th>2018-03-01 00:20:00</th>\n",
       "      <td>28</td>\n",
       "    </tr>\n",
       "    <tr>\n",
       "      <th>2018-03-01 00:30:00</th>\n",
       "      <td>20</td>\n",
       "    </tr>\n",
       "    <tr>\n",
       "      <th>2018-03-01 00:40:00</th>\n",
       "      <td>32</td>\n",
       "    </tr>\n",
       "    <tr>\n",
       "      <th>2018-03-01 00:50:00</th>\n",
       "      <td>21</td>\n",
       "    </tr>\n",
       "    <tr>\n",
       "      <th>2018-03-01 01:00:00</th>\n",
       "      <td>7</td>\n",
       "    </tr>\n",
       "    <tr>\n",
       "      <th>2018-03-01 01:10:00</th>\n",
       "      <td>5</td>\n",
       "    </tr>\n",
       "    <tr>\n",
       "      <th>2018-03-01 01:20:00</th>\n",
       "      <td>17</td>\n",
       "    </tr>\n",
       "    <tr>\n",
       "      <th>2018-03-01 01:30:00</th>\n",
       "      <td>12</td>\n",
       "    </tr>\n",
       "  </tbody>\n",
       "</table>\n",
       "</div>"
      ],
      "text/plain": [
       "taxi.csv             num_orders\n",
       "datetime                       \n",
       "2018-03-01 00:00:00           9\n",
       "2018-03-01 00:10:00          14\n",
       "2018-03-01 00:20:00          28\n",
       "2018-03-01 00:30:00          20\n",
       "2018-03-01 00:40:00          32\n",
       "2018-03-01 00:50:00          21\n",
       "2018-03-01 01:00:00           7\n",
       "2018-03-01 01:10:00           5\n",
       "2018-03-01 01:20:00          17\n",
       "2018-03-01 01:30:00          12"
      ]
     },
     "metadata": {},
     "output_type": "display_data"
    },
    {
     "name": "stdout",
     "output_type": "stream",
     "text": [
      "✅ Данные загружены с внешнего ресурса и успешно прочитаны\n"
     ]
    }
   ],
   "source": [
    "label = 'taxi.csv'\n",
    "\n",
    "pd_params = {\n",
    "    'index_col': ['datetime'],\n",
    "    'parse_dates': ['datetime']\n",
    "}\n",
    "\n",
    "try:\n",
    "    data = pd.read_csv(\n",
    "        f'https://code.s3.yandex.net/datasets/{label}', **pd_params)\n",
    "    data.columns.name = label\n",
    "    display(data.head(10))\n",
    "    print('✅ Данные загружены с внешнего ресурса и успешно прочитаны')\n",
    "except urllib.request.URLError:\n",
    "    # Если отстутствует доступ к внешнему ресурсу с данными\n",
    "    while True:\n",
    "        data_name = input(\n",
    "            'Укажите имя файла с данными в каталоге с проектом. '\n",
    "            'Например: \"data.csv\".\\n'\n",
    "            'Если данные находятся не в каталоге с проектом нажмите Enter.\\n\\n'\n",
    "        )\n",
    "        if not data_name:\n",
    "            while True:\n",
    "                data_path = input('Введите абсолютный путь к датасету:\\n')\n",
    "                try:\n",
    "                    data = pd.read_csv(data_path, **pd_params)\n",
    "                    data.columns.name = data_path.split('/')[-1]\n",
    "                    display(data.head(10))\n",
    "                    print('✅ Исходные данные успешно прочитаны по указанному пути')\n",
    "\n",
    "                    break\n",
    "\n",
    "                except FileNotFoundError:  # Путь, указанный пользователем, неверный\n",
    "                    raise Exception(\n",
    "                        f'❌Указан неверный путь к файлу: {data_path}')\n",
    "        else:\n",
    "            data = pd.read_csv(data_name, **pd_params)\n",
    "            data.columns.name = data_name\n",
    "            display(data.head(10))\n",
    "            print('✅ Исходные данные успешно прочитаны из каталога с проектом')\n",
    "            break\n",
    "        break"
   ]
  },
  {
   "cell_type": "markdown",
   "id": "c4bb0b2c",
   "metadata": {},
   "source": [
    "### Предобработка данных"
   ]
  },
  {
   "cell_type": "code",
   "execution_count": 3,
   "id": "0e6d8b1f",
   "metadata": {},
   "outputs": [
    {
     "name": "stdout",
     "output_type": "stream",
     "text": [
      "<class 'pandas.core.frame.DataFrame'>\n",
      "DatetimeIndex: 26496 entries, 2018-03-01 00:00:00 to 2018-08-31 23:50:00\n",
      "Data columns (total 1 columns):\n",
      " #   Column      Non-Null Count  Dtype\n",
      "---  ------      --------------  -----\n",
      " 0   num_orders  26496 non-null  int64\n",
      "dtypes: int64(1)\n",
      "memory usage: 414.0 KB\n"
     ]
    }
   ],
   "source": [
    "data.info()"
   ]
  },
  {
   "cell_type": "markdown",
   "id": "029cbb60",
   "metadata": {},
   "source": [
    "Пропусков нет.\n",
    "\n",
    "Данные отображают информацию о количестве заказов такси за **полгода**: начиная с <tt>1 марта 2018 года</tt> и заканчивая <tt>31 августа 2018 года</tt>."
   ]
  },
  {
   "cell_type": "code",
   "execution_count": 4,
   "id": "82d4fe2c",
   "metadata": {},
   "outputs": [
    {
     "data": {
      "text/html": [
       "<div>\n",
       "<style scoped>\n",
       "    .dataframe tbody tr th:only-of-type {\n",
       "        vertical-align: middle;\n",
       "    }\n",
       "\n",
       "    .dataframe tbody tr th {\n",
       "        vertical-align: top;\n",
       "    }\n",
       "\n",
       "    .dataframe thead th {\n",
       "        text-align: right;\n",
       "    }\n",
       "</style>\n",
       "<table border=\"1\" class=\"dataframe\">\n",
       "  <thead>\n",
       "    <tr style=\"text-align: right;\">\n",
       "      <th>taxi.csv</th>\n",
       "      <th>num_orders</th>\n",
       "    </tr>\n",
       "  </thead>\n",
       "  <tbody>\n",
       "    <tr>\n",
       "      <th>count</th>\n",
       "      <td>26,496.00</td>\n",
       "    </tr>\n",
       "    <tr>\n",
       "      <th>mean</th>\n",
       "      <td>14.07</td>\n",
       "    </tr>\n",
       "    <tr>\n",
       "      <th>std</th>\n",
       "      <td>9.21</td>\n",
       "    </tr>\n",
       "    <tr>\n",
       "      <th>min</th>\n",
       "      <td>0.00</td>\n",
       "    </tr>\n",
       "    <tr>\n",
       "      <th>25%</th>\n",
       "      <td>8.00</td>\n",
       "    </tr>\n",
       "    <tr>\n",
       "      <th>50%</th>\n",
       "      <td>13.00</td>\n",
       "    </tr>\n",
       "    <tr>\n",
       "      <th>75%</th>\n",
       "      <td>19.00</td>\n",
       "    </tr>\n",
       "    <tr>\n",
       "      <th>max</th>\n",
       "      <td>119.00</td>\n",
       "    </tr>\n",
       "  </tbody>\n",
       "</table>\n",
       "</div>"
      ],
      "text/plain": [
       "taxi.csv  num_orders\n",
       "count      26,496.00\n",
       "mean           14.07\n",
       "std             9.21\n",
       "min             0.00\n",
       "25%             8.00\n",
       "50%            13.00\n",
       "75%            19.00\n",
       "max           119.00"
      ]
     },
     "metadata": {},
     "output_type": "display_data"
    },
    {
     "data": {
      "image/png": "[encoded data removed]",
      "text/plain": [
       "<Figure size 432x288 with 1 Axes>"
      ]
     },
     "metadata": {
      "needs_background": "light"
     },
     "output_type": "display_data"
    }
   ],
   "source": [
    "display(data.describe())\n",
    "\n",
    "sns.histplot(data['num_orders'], bins=100, color='#dbde3e')\n",
    "plt.title('График распределения значений в признаке \\'num_orders\\'')\n",
    "plt.grid(alpha=.4, axis='y', linestyle='-.')"
   ]
  },
  {
   "cell_type": "markdown",
   "id": "090d36b2",
   "metadata": {},
   "source": [
    "Распредение выглядит нормально, но есть резко выбивающиеся значения. Возможно, только что мы обнаружили какие-то тенденции в данных. Проверим это далее."
   ]
  },
  {
   "cell_type": "code",
   "execution_count": 5,
   "id": "46df5426",
   "metadata": {},
   "outputs": [
    {
     "data": {
      "text/plain": [
       "'✅ Данные отсортированы по дате'"
      ]
     },
     "execution_count": 5,
     "metadata": {},
     "output_type": "execute_result"
    }
   ],
   "source": [
    "'✅ Данные отсортированы по дате' if data.index.is_monotonic else '❌ Данные не отсортированы по дате'"
   ]
  },
  {
   "cell_type": "markdown",
   "id": "45b044c1",
   "metadata": {},
   "source": [
    "#### Ресемплинг данных"
   ]
  },
  {
   "cell_type": "markdown",
   "id": "9ccb3d21",
   "metadata": {},
   "source": [
    "С этим все отлично. \n",
    "\n",
    "Но смущает лишь то, что данные взяты с промежутком в 10 минут, а требуется спрогнозировать кол-во машин на следующий час, поэтому требуется ресемлировать данные. "
   ]
  },
  {
   "cell_type": "code",
   "execution_count": 6,
   "id": "5f193f7e",
   "metadata": {},
   "outputs": [
    {
     "data": {
      "text/html": [
       "<div>\n",
       "<style scoped>\n",
       "    .dataframe tbody tr th:only-of-type {\n",
       "        vertical-align: middle;\n",
       "    }\n",
       "\n",
       "    .dataframe tbody tr th {\n",
       "        vertical-align: top;\n",
       "    }\n",
       "\n",
       "    .dataframe thead th {\n",
       "        text-align: right;\n",
       "    }\n",
       "</style>\n",
       "<table border=\"1\" class=\"dataframe\">\n",
       "  <thead>\n",
       "    <tr style=\"text-align: right;\">\n",
       "      <th>taxi.csv</th>\n",
       "      <th>num_orders</th>\n",
       "    </tr>\n",
       "    <tr>\n",
       "      <th>datetime</th>\n",
       "      <th></th>\n",
       "    </tr>\n",
       "  </thead>\n",
       "  <tbody>\n",
       "    <tr>\n",
       "      <th>2018-03-01 00:00:00</th>\n",
       "      <td>124</td>\n",
       "    </tr>\n",
       "    <tr>\n",
       "      <th>2018-03-01 01:00:00</th>\n",
       "      <td>85</td>\n",
       "    </tr>\n",
       "    <tr>\n",
       "      <th>2018-03-01 02:00:00</th>\n",
       "      <td>71</td>\n",
       "    </tr>\n",
       "    <tr>\n",
       "      <th>2018-03-01 03:00:00</th>\n",
       "      <td>66</td>\n",
       "    </tr>\n",
       "    <tr>\n",
       "      <th>2018-03-01 04:00:00</th>\n",
       "      <td>43</td>\n",
       "    </tr>\n",
       "  </tbody>\n",
       "</table>\n",
       "</div>"
      ],
      "text/plain": [
       "taxi.csv             num_orders\n",
       "datetime                       \n",
       "2018-03-01 00:00:00         124\n",
       "2018-03-01 01:00:00          85\n",
       "2018-03-01 02:00:00          71\n",
       "2018-03-01 03:00:00          66\n",
       "2018-03-01 04:00:00          43"
      ]
     },
     "metadata": {},
     "output_type": "display_data"
    },
    {
     "data": {
      "text/plain": [
       "(4416, 1)"
      ]
     },
     "execution_count": 6,
     "metadata": {},
     "output_type": "execute_result"
    }
   ],
   "source": [
    "data = data.resample('1H').sum()\n",
    "\n",
    "display(data.head())\n",
    "data.shape"
   ]
  },
  {
   "cell_type": "markdown",
   "id": "23656980",
   "metadata": {},
   "source": [
    "Мало того, что объектов стало в примерно 6 раз меньше, так еще и графики будут получаться более удобочитаемыми!"
   ]
  },
  {
   "cell_type": "markdown",
   "id": "e5b8a608",
   "metadata": {},
   "source": [
    "#### Добавление признаков"
   ]
  },
  {
   "cell_type": "markdown",
   "id": "0eaf4739",
   "metadata": {},
   "source": [
    "Модель придется обучать, а на чем ее обучать, если в нашей выборке один признак - целевой?)\n",
    "\n",
    "Стоит добавить следующие признаки:\n",
    "\n",
    "- <tt>day</tt> | день месяца;\n",
    "- <tt>month</tt> | номер месяца;\n",
    "- <tt>hour</tt> | час дня;\n",
    "- <tt>weekday</tt> | номер дня недели;\n",
    "- <tt>weekend</tt> | выходной ли день (0/1);\n",
    "- <tt>daytime</tt> | период дня: утро/день/вечер/ночь (0-3);\n",
    "- <tt>day_orders</tt> | общее количество машин в конкретное время суток предыдущего дня (потребуется сдвиг на сутки);\n",
    "- <tt>lag_{...}</tt> | отстающие значения;\n",
    "- <tt>rolling_mean</tt> | скользящее среднее;\n",
    "- <tt>rolling_std</tt> | скользящее стандартное отклонение."
   ]
  },
  {
   "cell_type": "code",
   "execution_count": 7,
   "id": "9ba1c89d",
   "metadata": {},
   "outputs": [],
   "source": [
    "def make_features(data, rolling_window_size=5, lag_amount=5):\n",
    "\n",
    "    data_ = data.copy()\n",
    "\n",
    "    data_['day'] = data_.index.day\n",
    "    data_['month'] = data_.index.month\n",
    "    data_['weekday'] = data_.index.weekday\n",
    "    data_['weekend'] = data_['weekday'].apply(\n",
    "        lambda x: 1 if x in [5, 6] else 0)\n",
    "\n",
    "    daytimes_ = {0: range(0, 7),\n",
    "                 1: range(7, 13),\n",
    "                 2: range(13, 19),\n",
    "                 3: range(19, 24)}\n",
    "\n",
    "    def daytimes(x):\n",
    "        for dt in daytimes_.keys():\n",
    "            if x in daytimes_[dt]:\n",
    "                return dt\n",
    "\n",
    "    data['hour'] = data_.index.hour\n",
    "\n",
    "    data_['daytime'] = data['hour'].apply(daytimes)\n",
    "\n",
    "    data_['day_orders'] = data_['num_orders'].shift(24)\n",
    "\n",
    "    for lag in range(1, lag_amount+1):\n",
    "        data_[f'lag_{lag}'] = data_['num_orders'].shift(lag)\n",
    "\n",
    "    if type(rolling_window_size) is list:\n",
    "        for window_size in rolling_window_size:\n",
    "\n",
    "            data_[f'rolling_mean_{window_size}'] = (\n",
    "                data_['num_orders'].shift().rolling(window_size).mean())\n",
    "\n",
    "            data_[f'rolling_std_{window_size}'] = (\n",
    "                data_['num_orders'].shift().rolling(window_size).std())\n",
    "    else:\n",
    "        data_[f'rolling_mean_{rolling_window_size}'] = (\n",
    "            data_['num_orders'].shift().rolling(rolling_window_size).mean())\n",
    "\n",
    "        data_[f'rolling_std_{rolling_window_size}'] = (\n",
    "            data_['num_orders'].shift().rolling(rolling_window_size).std())\n",
    "\n",
    "    print('✅ Признаки успешно созданы')\n",
    "    return data_"
   ]
  },
  {
   "cell_type": "code",
   "execution_count": 8,
   "id": "0f122da4",
   "metadata": {},
   "outputs": [
    {
     "name": "stdout",
     "output_type": "stream",
     "text": [
      "✅ Признаки успешно созданы\n"
     ]
    },
    {
     "data": {
      "text/html": [
       "<div>\n",
       "<style scoped>\n",
       "    .dataframe tbody tr th:only-of-type {\n",
       "        vertical-align: middle;\n",
       "    }\n",
       "\n",
       "    .dataframe tbody tr th {\n",
       "        vertical-align: top;\n",
       "    }\n",
       "\n",
       "    .dataframe thead th {\n",
       "        text-align: right;\n",
       "    }\n",
       "</style>\n",
       "<table border=\"1\" class=\"dataframe\">\n",
       "  <thead>\n",
       "    <tr style=\"text-align: right;\">\n",
       "      <th>taxi.csv</th>\n",
       "      <th>num_orders</th>\n",
       "      <th>day</th>\n",
       "      <th>month</th>\n",
       "      <th>weekday</th>\n",
       "      <th>weekend</th>\n",
       "      <th>daytime</th>\n",
       "      <th>day_orders</th>\n",
       "      <th>lag_1</th>\n",
       "      <th>lag_2</th>\n",
       "      <th>lag_3</th>\n",
       "      <th>lag_4</th>\n",
       "      <th>lag_5</th>\n",
       "      <th>lag_6</th>\n",
       "      <th>lag_7</th>\n",
       "      <th>lag_8</th>\n",
       "      <th>lag_9</th>\n",
       "      <th>lag_10</th>\n",
       "      <th>rolling_mean_5</th>\n",
       "      <th>rolling_std_5</th>\n",
       "      <th>rolling_mean_20</th>\n",
       "      <th>rolling_std_20</th>\n",
       "    </tr>\n",
       "    <tr>\n",
       "      <th>datetime</th>\n",
       "      <th></th>\n",
       "      <th></th>\n",
       "      <th></th>\n",
       "      <th></th>\n",
       "      <th></th>\n",
       "      <th></th>\n",
       "      <th></th>\n",
       "      <th></th>\n",
       "      <th></th>\n",
       "      <th></th>\n",
       "      <th></th>\n",
       "      <th></th>\n",
       "      <th></th>\n",
       "      <th></th>\n",
       "      <th></th>\n",
       "      <th></th>\n",
       "      <th></th>\n",
       "      <th></th>\n",
       "      <th></th>\n",
       "      <th></th>\n",
       "      <th></th>\n",
       "    </tr>\n",
       "  </thead>\n",
       "  <tbody>\n",
       "    <tr>\n",
       "      <th>2018-03-01 00:00:00</th>\n",
       "      <td>124</td>\n",
       "      <td>1</td>\n",
       "      <td>3</td>\n",
       "      <td>3</td>\n",
       "      <td>0</td>\n",
       "      <td>0</td>\n",
       "      <td>NaN</td>\n",
       "      <td>NaN</td>\n",
       "      <td>NaN</td>\n",
       "      <td>NaN</td>\n",
       "      <td>NaN</td>\n",
       "      <td>NaN</td>\n",
       "      <td>NaN</td>\n",
       "      <td>NaN</td>\n",
       "      <td>NaN</td>\n",
       "      <td>NaN</td>\n",
       "      <td>NaN</td>\n",
       "      <td>NaN</td>\n",
       "      <td>NaN</td>\n",
       "      <td>NaN</td>\n",
       "      <td>NaN</td>\n",
       "    </tr>\n",
       "    <tr>\n",
       "      <th>2018-03-01 01:00:00</th>\n",
       "      <td>85</td>\n",
       "      <td>1</td>\n",
       "      <td>3</td>\n",
       "      <td>3</td>\n",
       "      <td>0</td>\n",
       "      <td>0</td>\n",
       "      <td>NaN</td>\n",
       "      <td>124.00</td>\n",
       "      <td>NaN</td>\n",
       "      <td>NaN</td>\n",
       "      <td>NaN</td>\n",
       "      <td>NaN</td>\n",
       "      <td>NaN</td>\n",
       "      <td>NaN</td>\n",
       "      <td>NaN</td>\n",
       "      <td>NaN</td>\n",
       "      <td>NaN</td>\n",
       "      <td>NaN</td>\n",
       "      <td>NaN</td>\n",
       "      <td>NaN</td>\n",
       "      <td>NaN</td>\n",
       "    </tr>\n",
       "    <tr>\n",
       "      <th>2018-03-01 02:00:00</th>\n",
       "      <td>71</td>\n",
       "      <td>1</td>\n",
       "      <td>3</td>\n",
       "      <td>3</td>\n",
       "      <td>0</td>\n",
       "      <td>0</td>\n",
       "      <td>NaN</td>\n",
       "      <td>85.00</td>\n",
       "      <td>124.00</td>\n",
       "      <td>NaN</td>\n",
       "      <td>NaN</td>\n",
       "      <td>NaN</td>\n",
       "      <td>NaN</td>\n",
       "      <td>NaN</td>\n",
       "      <td>NaN</td>\n",
       "      <td>NaN</td>\n",
       "      <td>NaN</td>\n",
       "      <td>NaN</td>\n",
       "      <td>NaN</td>\n",
       "      <td>NaN</td>\n",
       "      <td>NaN</td>\n",
       "    </tr>\n",
       "    <tr>\n",
       "      <th>2018-03-01 03:00:00</th>\n",
       "      <td>66</td>\n",
       "      <td>1</td>\n",
       "      <td>3</td>\n",
       "      <td>3</td>\n",
       "      <td>0</td>\n",
       "      <td>0</td>\n",
       "      <td>NaN</td>\n",
       "      <td>71.00</td>\n",
       "      <td>85.00</td>\n",
       "      <td>124.00</td>\n",
       "      <td>NaN</td>\n",
       "      <td>NaN</td>\n",
       "      <td>NaN</td>\n",
       "      <td>NaN</td>\n",
       "      <td>NaN</td>\n",
       "      <td>NaN</td>\n",
       "      <td>NaN</td>\n",
       "      <td>NaN</td>\n",
       "      <td>NaN</td>\n",
       "      <td>NaN</td>\n",
       "      <td>NaN</td>\n",
       "    </tr>\n",
       "    <tr>\n",
       "      <th>2018-03-01 04:00:00</th>\n",
       "      <td>43</td>\n",
       "      <td>1</td>\n",
       "      <td>3</td>\n",
       "      <td>3</td>\n",
       "      <td>0</td>\n",
       "      <td>0</td>\n",
       "      <td>NaN</td>\n",
       "      <td>66.00</td>\n",
       "      <td>71.00</td>\n",
       "      <td>85.00</td>\n",
       "      <td>124.00</td>\n",
       "      <td>NaN</td>\n",
       "      <td>NaN</td>\n",
       "      <td>NaN</td>\n",
       "      <td>NaN</td>\n",
       "      <td>NaN</td>\n",
       "      <td>NaN</td>\n",
       "      <td>NaN</td>\n",
       "      <td>NaN</td>\n",
       "      <td>NaN</td>\n",
       "      <td>NaN</td>\n",
       "    </tr>\n",
       "    <tr>\n",
       "      <th>2018-03-01 05:00:00</th>\n",
       "      <td>6</td>\n",
       "      <td>1</td>\n",
       "      <td>3</td>\n",
       "      <td>3</td>\n",
       "      <td>0</td>\n",
       "      <td>0</td>\n",
       "      <td>NaN</td>\n",
       "      <td>43.00</td>\n",
       "      <td>66.00</td>\n",
       "      <td>71.00</td>\n",
       "      <td>85.00</td>\n",
       "      <td>124.00</td>\n",
       "      <td>NaN</td>\n",
       "      <td>NaN</td>\n",
       "      <td>NaN</td>\n",
       "      <td>NaN</td>\n",
       "      <td>NaN</td>\n",
       "      <td>77.80</td>\n",
       "      <td>29.93</td>\n",
       "      <td>NaN</td>\n",
       "      <td>NaN</td>\n",
       "    </tr>\n",
       "    <tr>\n",
       "      <th>2018-03-01 06:00:00</th>\n",
       "      <td>12</td>\n",
       "      <td>1</td>\n",
       "      <td>3</td>\n",
       "      <td>3</td>\n",
       "      <td>0</td>\n",
       "      <td>0</td>\n",
       "      <td>NaN</td>\n",
       "      <td>6.00</td>\n",
       "      <td>43.00</td>\n",
       "      <td>66.00</td>\n",
       "      <td>71.00</td>\n",
       "      <td>85.00</td>\n",
       "      <td>124.00</td>\n",
       "      <td>NaN</td>\n",
       "      <td>NaN</td>\n",
       "      <td>NaN</td>\n",
       "      <td>NaN</td>\n",
       "      <td>54.20</td>\n",
       "      <td>30.90</td>\n",
       "      <td>NaN</td>\n",
       "      <td>NaN</td>\n",
       "    </tr>\n",
       "    <tr>\n",
       "      <th>2018-03-01 07:00:00</th>\n",
       "      <td>15</td>\n",
       "      <td>1</td>\n",
       "      <td>3</td>\n",
       "      <td>3</td>\n",
       "      <td>0</td>\n",
       "      <td>1</td>\n",
       "      <td>NaN</td>\n",
       "      <td>12.00</td>\n",
       "      <td>6.00</td>\n",
       "      <td>43.00</td>\n",
       "      <td>66.00</td>\n",
       "      <td>71.00</td>\n",
       "      <td>85.00</td>\n",
       "      <td>124.00</td>\n",
       "      <td>NaN</td>\n",
       "      <td>NaN</td>\n",
       "      <td>NaN</td>\n",
       "      <td>39.60</td>\n",
       "      <td>29.94</td>\n",
       "      <td>NaN</td>\n",
       "      <td>NaN</td>\n",
       "    </tr>\n",
       "    <tr>\n",
       "      <th>2018-03-01 08:00:00</th>\n",
       "      <td>34</td>\n",
       "      <td>1</td>\n",
       "      <td>3</td>\n",
       "      <td>3</td>\n",
       "      <td>0</td>\n",
       "      <td>1</td>\n",
       "      <td>NaN</td>\n",
       "      <td>15.00</td>\n",
       "      <td>12.00</td>\n",
       "      <td>6.00</td>\n",
       "      <td>43.00</td>\n",
       "      <td>66.00</td>\n",
       "      <td>71.00</td>\n",
       "      <td>85.00</td>\n",
       "      <td>124.00</td>\n",
       "      <td>NaN</td>\n",
       "      <td>NaN</td>\n",
       "      <td>28.40</td>\n",
       "      <td>25.38</td>\n",
       "      <td>NaN</td>\n",
       "      <td>NaN</td>\n",
       "    </tr>\n",
       "    <tr>\n",
       "      <th>2018-03-01 09:00:00</th>\n",
       "      <td>69</td>\n",
       "      <td>1</td>\n",
       "      <td>3</td>\n",
       "      <td>3</td>\n",
       "      <td>0</td>\n",
       "      <td>1</td>\n",
       "      <td>NaN</td>\n",
       "      <td>34.00</td>\n",
       "      <td>15.00</td>\n",
       "      <td>12.00</td>\n",
       "      <td>6.00</td>\n",
       "      <td>43.00</td>\n",
       "      <td>66.00</td>\n",
       "      <td>71.00</td>\n",
       "      <td>85.00</td>\n",
       "      <td>124.00</td>\n",
       "      <td>NaN</td>\n",
       "      <td>22.00</td>\n",
       "      <td>15.73</td>\n",
       "      <td>NaN</td>\n",
       "      <td>NaN</td>\n",
       "    </tr>\n",
       "  </tbody>\n",
       "</table>\n",
       "</div>"
      ],
      "text/plain": [
       "taxi.csv             num_orders  day  month  weekday  weekend  daytime  \\\n",
       "datetime                                                                 \n",
       "2018-03-01 00:00:00         124    1      3        3        0        0   \n",
       "2018-03-01 01:00:00          85    1      3        3        0        0   \n",
       "2018-03-01 02:00:00          71    1      3        3        0        0   \n",
       "2018-03-01 03:00:00          66    1      3        3        0        0   \n",
       "2018-03-01 04:00:00          43    1      3        3        0        0   \n",
       "2018-03-01 05:00:00           6    1      3        3        0        0   \n",
       "2018-03-01 06:00:00          12    1      3        3        0        0   \n",
       "2018-03-01 07:00:00          15    1      3        3        0        1   \n",
       "2018-03-01 08:00:00          34    1      3        3        0        1   \n",
       "2018-03-01 09:00:00          69    1      3        3        0        1   \n",
       "\n",
       "taxi.csv             day_orders      lag_1      lag_2      lag_3      lag_4  \\\n",
       "datetime                                                                      \n",
       "2018-03-01 00:00:00         NaN        NaN        NaN        NaN        NaN   \n",
       "2018-03-01 01:00:00         NaN     124.00        NaN        NaN        NaN   \n",
       "2018-03-01 02:00:00         NaN      85.00     124.00        NaN        NaN   \n",
       "2018-03-01 03:00:00         NaN      71.00      85.00     124.00        NaN   \n",
       "2018-03-01 04:00:00         NaN      66.00      71.00      85.00     124.00   \n",
       "2018-03-01 05:00:00         NaN      43.00      66.00      71.00      85.00   \n",
       "2018-03-01 06:00:00         NaN       6.00      43.00      66.00      71.00   \n",
       "2018-03-01 07:00:00         NaN      12.00       6.00      43.00      66.00   \n",
       "2018-03-01 08:00:00         NaN      15.00      12.00       6.00      43.00   \n",
       "2018-03-01 09:00:00         NaN      34.00      15.00      12.00       6.00   \n",
       "\n",
       "taxi.csv                 lag_5      lag_6      lag_7      lag_8      lag_9  \\\n",
       "datetime                                                                     \n",
       "2018-03-01 00:00:00        NaN        NaN        NaN        NaN        NaN   \n",
       "2018-03-01 01:00:00        NaN        NaN        NaN        NaN        NaN   \n",
       "2018-03-01 02:00:00        NaN        NaN        NaN        NaN        NaN   \n",
       "2018-03-01 03:00:00        NaN        NaN        NaN        NaN        NaN   \n",
       "2018-03-01 04:00:00        NaN        NaN        NaN        NaN        NaN   \n",
       "2018-03-01 05:00:00     124.00        NaN        NaN        NaN        NaN   \n",
       "2018-03-01 06:00:00      85.00     124.00        NaN        NaN        NaN   \n",
       "2018-03-01 07:00:00      71.00      85.00     124.00        NaN        NaN   \n",
       "2018-03-01 08:00:00      66.00      71.00      85.00     124.00        NaN   \n",
       "2018-03-01 09:00:00      43.00      66.00      71.00      85.00     124.00   \n",
       "\n",
       "taxi.csv             lag_10  rolling_mean_5  rolling_std_5  rolling_mean_20  \\\n",
       "datetime                                                                      \n",
       "2018-03-01 00:00:00     NaN             NaN            NaN              NaN   \n",
       "2018-03-01 01:00:00     NaN             NaN            NaN              NaN   \n",
       "2018-03-01 02:00:00     NaN             NaN            NaN              NaN   \n",
       "2018-03-01 03:00:00     NaN             NaN            NaN              NaN   \n",
       "2018-03-01 04:00:00     NaN             NaN            NaN              NaN   \n",
       "2018-03-01 05:00:00     NaN           77.80          29.93              NaN   \n",
       "2018-03-01 06:00:00     NaN           54.20          30.90              NaN   \n",
       "2018-03-01 07:00:00     NaN           39.60          29.94              NaN   \n",
       "2018-03-01 08:00:00     NaN           28.40          25.38              NaN   \n",
       "2018-03-01 09:00:00     NaN           22.00          15.73              NaN   \n",
       "\n",
       "taxi.csv             rolling_std_20  \n",
       "datetime                             \n",
       "2018-03-01 00:00:00             NaN  \n",
       "2018-03-01 01:00:00             NaN  \n",
       "2018-03-01 02:00:00             NaN  \n",
       "2018-03-01 03:00:00             NaN  \n",
       "2018-03-01 04:00:00             NaN  \n",
       "2018-03-01 05:00:00             NaN  \n",
       "2018-03-01 06:00:00             NaN  \n",
       "2018-03-01 07:00:00             NaN  \n",
       "2018-03-01 08:00:00             NaN  \n",
       "2018-03-01 09:00:00             NaN  "
      ]
     },
     "execution_count": 8,
     "metadata": {},
     "output_type": "execute_result"
    }
   ],
   "source": [
    "data = make_features(data, [5, 20], 10)\n",
    "\n",
    "data.head(10)"
   ]
  },
  {
   "cell_type": "markdown",
   "id": "b3021bc1",
   "metadata": {},
   "source": [
    "После добавления признаков статистические показатели такие:"
   ]
  },
  {
   "cell_type": "code",
   "execution_count": 9,
   "id": "2ecb9b61",
   "metadata": {},
   "outputs": [
    {
     "data": {
      "text/html": [
       "<div>\n",
       "<style scoped>\n",
       "    .dataframe tbody tr th:only-of-type {\n",
       "        vertical-align: middle;\n",
       "    }\n",
       "\n",
       "    .dataframe tbody tr th {\n",
       "        vertical-align: top;\n",
       "    }\n",
       "\n",
       "    .dataframe thead th {\n",
       "        text-align: right;\n",
       "    }\n",
       "</style>\n",
       "<table border=\"1\" class=\"dataframe\">\n",
       "  <thead>\n",
       "    <tr style=\"text-align: right;\">\n",
       "      <th></th>\n",
       "      <th>count</th>\n",
       "      <th>mean</th>\n",
       "      <th>std</th>\n",
       "      <th>min</th>\n",
       "      <th>25%</th>\n",
       "      <th>50%</th>\n",
       "      <th>75%</th>\n",
       "      <th>max</th>\n",
       "    </tr>\n",
       "    <tr>\n",
       "      <th>taxi.csv</th>\n",
       "      <th></th>\n",
       "      <th></th>\n",
       "      <th></th>\n",
       "      <th></th>\n",
       "      <th></th>\n",
       "      <th></th>\n",
       "      <th></th>\n",
       "      <th></th>\n",
       "    </tr>\n",
       "  </thead>\n",
       "  <tbody>\n",
       "    <tr>\n",
       "      <th>num_orders</th>\n",
       "      <td>4,416.00</td>\n",
       "      <td>84.42</td>\n",
       "      <td>45.02</td>\n",
       "      <td>0.00</td>\n",
       "      <td>54.00</td>\n",
       "      <td>78.00</td>\n",
       "      <td>107.00</td>\n",
       "      <td>462.00</td>\n",
       "    </tr>\n",
       "    <tr>\n",
       "      <th>day</th>\n",
       "      <td>4,416.00</td>\n",
       "      <td>15.84</td>\n",
       "      <td>8.86</td>\n",
       "      <td>1.00</td>\n",
       "      <td>8.00</td>\n",
       "      <td>16.00</td>\n",
       "      <td>23.25</td>\n",
       "      <td>31.00</td>\n",
       "    </tr>\n",
       "    <tr>\n",
       "      <th>month</th>\n",
       "      <td>4,416.00</td>\n",
       "      <td>5.51</td>\n",
       "      <td>1.71</td>\n",
       "      <td>3.00</td>\n",
       "      <td>4.00</td>\n",
       "      <td>5.50</td>\n",
       "      <td>7.00</td>\n",
       "      <td>8.00</td>\n",
       "    </tr>\n",
       "    <tr>\n",
       "      <th>weekday</th>\n",
       "      <td>4,416.00</td>\n",
       "      <td>3.01</td>\n",
       "      <td>1.99</td>\n",
       "      <td>0.00</td>\n",
       "      <td>1.00</td>\n",
       "      <td>3.00</td>\n",
       "      <td>5.00</td>\n",
       "      <td>6.00</td>\n",
       "    </tr>\n",
       "    <tr>\n",
       "      <th>weekend</th>\n",
       "      <td>4,416.00</td>\n",
       "      <td>0.28</td>\n",
       "      <td>0.45</td>\n",
       "      <td>0.00</td>\n",
       "      <td>0.00</td>\n",
       "      <td>0.00</td>\n",
       "      <td>1.00</td>\n",
       "      <td>1.00</td>\n",
       "    </tr>\n",
       "    <tr>\n",
       "      <th>daytime</th>\n",
       "      <td>4,416.00</td>\n",
       "      <td>1.38</td>\n",
       "      <td>1.11</td>\n",
       "      <td>0.00</td>\n",
       "      <td>0.00</td>\n",
       "      <td>1.00</td>\n",
       "      <td>2.00</td>\n",
       "      <td>3.00</td>\n",
       "    </tr>\n",
       "    <tr>\n",
       "      <th>day_orders</th>\n",
       "      <td>4,392.00</td>\n",
       "      <td>83.97</td>\n",
       "      <td>44.50</td>\n",
       "      <td>0.00</td>\n",
       "      <td>54.00</td>\n",
       "      <td>78.00</td>\n",
       "      <td>107.00</td>\n",
       "      <td>462.00</td>\n",
       "    </tr>\n",
       "    <tr>\n",
       "      <th>rolling_mean_5</th>\n",
       "      <td>4,411.00</td>\n",
       "      <td>84.35</td>\n",
       "      <td>34.30</td>\n",
       "      <td>16.00</td>\n",
       "      <td>61.60</td>\n",
       "      <td>78.80</td>\n",
       "      <td>102.60</td>\n",
       "      <td>286.20</td>\n",
       "    </tr>\n",
       "    <tr>\n",
       "      <th>rolling_std_5</th>\n",
       "      <td>4,411.00</td>\n",
       "      <td>28.87</td>\n",
       "      <td>14.90</td>\n",
       "      <td>3.16</td>\n",
       "      <td>19.09</td>\n",
       "      <td>25.97</td>\n",
       "      <td>35.53</td>\n",
       "      <td>159.38</td>\n",
       "    </tr>\n",
       "    <tr>\n",
       "      <th>rolling_mean_20</th>\n",
       "      <td>4,396.00</td>\n",
       "      <td>84.27</td>\n",
       "      <td>26.89</td>\n",
       "      <td>39.55</td>\n",
       "      <td>63.09</td>\n",
       "      <td>80.53</td>\n",
       "      <td>99.85</td>\n",
       "      <td>191.95</td>\n",
       "    </tr>\n",
       "    <tr>\n",
       "      <th>rolling_std_20</th>\n",
       "      <td>4,396.00</td>\n",
       "      <td>34.90</td>\n",
       "      <td>11.66</td>\n",
       "      <td>14.91</td>\n",
       "      <td>26.98</td>\n",
       "      <td>32.66</td>\n",
       "      <td>39.73</td>\n",
       "      <td>97.61</td>\n",
       "    </tr>\n",
       "  </tbody>\n",
       "</table>\n",
       "</div>"
      ],
      "text/plain": [
       "                     count       mean        std        min        25%  \\\n",
       "taxi.csv                                                                 \n",
       "num_orders        4,416.00      84.42      45.02       0.00      54.00   \n",
       "day               4,416.00      15.84       8.86       1.00       8.00   \n",
       "month             4,416.00       5.51       1.71       3.00       4.00   \n",
       "weekday           4,416.00       3.01       1.99       0.00       1.00   \n",
       "weekend           4,416.00       0.28       0.45       0.00       0.00   \n",
       "daytime           4,416.00       1.38       1.11       0.00       0.00   \n",
       "day_orders        4,392.00      83.97      44.50       0.00      54.00   \n",
       "rolling_mean_5    4,411.00      84.35      34.30      16.00      61.60   \n",
       "rolling_std_5     4,411.00      28.87      14.90       3.16      19.09   \n",
       "rolling_mean_20   4,396.00      84.27      26.89      39.55      63.09   \n",
       "rolling_std_20    4,396.00      34.90      11.66      14.91      26.98   \n",
       "\n",
       "                       50%        75%        max  \n",
       "taxi.csv                                          \n",
       "num_orders           78.00     107.00     462.00  \n",
       "day                  16.00      23.25      31.00  \n",
       "month                 5.50       7.00       8.00  \n",
       "weekday               3.00       5.00       6.00  \n",
       "weekend               0.00       1.00       1.00  \n",
       "daytime               1.00       2.00       3.00  \n",
       "day_orders           78.00     107.00     462.00  \n",
       "rolling_mean_5       78.80     102.60     286.20  \n",
       "rolling_std_5        25.97      35.53     159.38  \n",
       "rolling_mean_20      80.53      99.85     191.95  \n",
       "rolling_std_20       32.66      39.73      97.61  "
      ]
     },
     "metadata": {},
     "output_type": "display_data"
    }
   ],
   "source": [
    "display(data.drop(columns=[f'lag_{i}' for i in range(1, 11)]).describe().T)"
   ]
  },
  {
   "cell_type": "markdown",
   "id": "69d93c43",
   "metadata": {},
   "source": [
    "Матрица корреляции (в первую очередь, пользуясь ей, можно оценить силу связи добавленных \"отстающих значений\" (признаки lag_{...}) с реальными)"
   ]
  },
  {
   "cell_type": "code",
   "execution_count": 32,
   "id": "443cecc3",
   "metadata": {},
   "outputs": [
    {
     "data": {
      "image/png": "[encoded data removed]",
      "text/plain": [
       "<Figure size 1008x864 with 2 Axes>"
      ]
     },
     "metadata": {
      "needs_background": "light"
     },
     "output_type": "display_data"
    }
   ],
   "source": [
    "plt.figure(figsize=(14, 12))\n",
    "plt.title('data. Корреляционная матрица признаков', y=1.05, fontsize=16)\n",
    "\n",
    "sns.heatmap(data.corr(), annot=True, vmin=0.4, vmax=1, annot_kws={\"fontsize\": 8})\n",
    "\n",
    "plt.show()"
   ]
  },
  {
   "cell_type": "markdown",
   "id": "66d6fa99",
   "metadata": {},
   "source": [
    "Как видно, <tt>lag_1</tt> и <tt>lag_2</tt> имеют довольно высокую положительную корреляцию с целевым признаком, что указывает на связь между тем, сколько заказов было в предыдущий день и тем, сколько заказов вероятно будет сегодня.\n",
    "\n",
    "Однако, нормальному обучению моделей эти два признака могут помешать, так как приведут к возникновению утечки целевого признака вследствие мультиколлинеарности, поэтому их исключим и оставим все последующие \"лаги\" - у них корреляция меньше.\n",
    "\n",
    "Также высокое значение коэффицентов корреляции прослеживается между обоими признаками <tt>rolling_mean_{...}</tt> и значением месяца (<tt>month</tt>). Вероятно, это свидетельствует о том, что у компании \"Четенькое такси\" постепенно растет клиентура."
   ]
  },
  {
   "cell_type": "markdown",
   "id": "d789d3ea",
   "metadata": {},
   "source": [
    "<div style=\"border: 3px solid rgb(0,0,0); padding: 20px\">\n",
    "    \n",
    "### Итого\n",
    "    \n",
    "- Проверили распределение величин целевого признака;\n",
    "- Оценили временную монотонность данных;\n",
    "- Ресемлировали данные с промежутком в 1 час;\n",
    "- Добавили новые признаки с помощью функции <tt>make_features</tt>."
   ]
  },
  {
   "cell_type": "markdown",
   "id": "7d4a7104",
   "metadata": {},
   "source": [
    "## Анализ данных 📈"
   ]
  },
  {
   "cell_type": "markdown",
   "id": "1349e27d",
   "metadata": {},
   "source": [
    "Для начала посмотрим на то, как зависит среднее число заказов от определенного дня месяца, дня недели, самого месяца, времени суток и от того, выходной ли день."
   ]
  },
  {
   "cell_type": "markdown",
   "id": "2c74bb87",
   "metadata": {},
   "source": [
    "### Временные зависимости"
   ]
  },
  {
   "cell_type": "code",
   "execution_count": 11,
   "id": "ec10e100",
   "metadata": {
    "scrolled": false
   },
   "outputs": [
    {
     "data": {
      "image/png": "[encoded data removed]",
      "text/plain": [
       "<Figure size 1008x1728 with 5 Axes>"
      ]
     },
     "metadata": {
      "needs_background": "light"
     },
     "output_type": "display_data"
    }
   ],
   "source": [
    "fig, ax = plt.subplots(5, 1, figsize=(14, 24))\n",
    "\n",
    "fig.suptitle(\n",
    "    'Зависимости day, weekday, month, weekend от num_orders', fontsize=16, y=0.92)\n",
    "\n",
    "\n",
    "def groupby_splitter(gb_data):\n",
    "    return gb_data.index, gb_data.values\n",
    "\n",
    "\n",
    "ax0_x, ax0_y = groupby_splitter(data.groupby('day')['num_orders'].mean())\n",
    "\n",
    "ax[0].set_title('Среднее кол-во заказов такси в определенный день месяца')\n",
    "sns.barplot(x=ax0_x, y=ax0_y, ax=ax[0])\n",
    "ax[0].grid(axis='y', alpha=0.4, linestyle='-.')\n",
    "\n",
    "ax1_x, ax1_y = groupby_splitter(data.groupby('weekday')['num_orders'].mean())\n",
    "\n",
    "ax[1].set_title('Среднее кол-во заказов такси в определенный день недели')\n",
    "sns.barplot(x=ax1_x, y=ax1_y, ax=ax[1], palette=sns.color_palette(\"husl\", 7))\n",
    "ax[1].set_xticks(range(7), ['Пн', 'Вт', 'Ср', 'Чт', 'Пт', 'Сб', 'Вс'])\n",
    "ax[1].set_yticks(range(0, 100, 10))\n",
    "ax[1].grid(axis='y', alpha=0.4, linestyle='-.')\n",
    "\n",
    "\n",
    "ax2_x, ax2_y = groupby_splitter(data.groupby('month')['num_orders'].mean())\n",
    "\n",
    "ax[2].set_title('Среднее кол-во заказов такси в определенный месяц')\n",
    "sns.barplot(x=ax2_x, y=ax2_y, ax=ax[2], palette=sns.color_palette(\"husl\", 12))\n",
    "ax[2].set_xticks(range(12), ['Янв', 'Фев', 'Март', 'Апрель',\n",
    "                 'Май', 'Июнь', 'Июль', 'Авг', 'Сен', 'Окт', 'Ноя', 'Дек'])\n",
    "ax[2].grid(axis='y', alpha=0.4, linestyle='-.')\n",
    "\n",
    "\n",
    "ax3_x, ax3_y = groupby_splitter(data.groupby('daytime')['num_orders'].mean())\n",
    "\n",
    "ax[3].set_title('Среднее кол-во заказов такси в определенный период дня')\n",
    "sns.barplot(x=ax3_x, y=ax3_y, ax=ax[3], palette=sns.color_palette(\"husl\", 4))\n",
    "ax[3].set_xticks(range(4), ['Ночь', 'Утро', 'День', 'Вечер'])\n",
    "ax[3].grid(axis='y', alpha=0.4, linestyle='-.')\n",
    "\n",
    "\n",
    "ax4_x, ax4_y = groupby_splitter(data.groupby('weekend')['num_orders'].mean())\n",
    "\n",
    "ax[4].set_title('Среднее кол-во заказов такси в определенный день месяца')\n",
    "sns.barplot(x=ax4_x, y=ax4_y, ax=ax[4], palette=sns.color_palette(\"husl\", 2))\n",
    "ax[4].set_xticks(range(2), ['Будние', 'Выходные'])\n",
    "ax[4].grid(axis='y', alpha=0.4, linestyle='-.')\n",
    "\n",
    "plt.show()"
   ]
  },
  {
   "cell_type": "markdown",
   "id": "f06834f0",
   "metadata": {},
   "source": [
    "- Количество заказов растет как и к концу месяца, так и в целом с каждым последующим месяцем;\n",
    "- Наиболее успешные в плане количества заказов дни недели - понедельник и пятница. В целом, закономерно: любителей потусить на выходных, а в понедельник выходящих на работу довольно много;\n",
    "- Предыдущая закономерность подтверждается и еще одним фактом: больше всего такси заказывают вечером и ночью;\n",
    "- В будние больше заказов. Вероятно, это связано с тем, что понедельник и пятница наиболее популярные дни для многочисленных заказов такси, ну и, безусловно, с тем, что многие используют такси для рабочих поездок по городу."
   ]
  },
  {
   "cell_type": "markdown",
   "id": "13558b04",
   "metadata": {},
   "source": [
    "---\n",
    "### Количество заказов, скользящее среднее и скользящее отклонение\n",
    "\n",
    "\n",
    "Теперь посмотрим на количество заказов на всем временном промежутке в данных, а также на скользящее среднее и стандартное отклонение:"
   ]
  },
  {
   "cell_type": "code",
   "execution_count": 1,
   "id": "c5b8814d",
   "metadata": {
    "scrolled": false
   },
   "outputs": [],
   "source": [
    "fig = go.Figure(\n",
    "    [\n",
    "        go.Scatter(x=data.index, y=data.num_orders, name='Number of orders'),\n",
    "        go.Scatter(x=data.index, y=data.rolling_mean_20,\n",
    "                   name='Rolling mean with size 20'),\n",
    "        go.Scatter(x=data.index, y=data.rolling_std_20,\n",
    "                   name='Rolling std with size 20')\n",
    "    ]\n",
    ")\n",
    "\n",
    "fig.update_layout(title='num_of_orders time series plot',\n",
    "                  legend_title='Legend')\n",
    "\n",
    "fig.show()"
   ]
  },
  {
   "cell_type": "markdown",
   "id": "daec0f9a",
   "metadata": {},
   "source": [
    "<img src='https://i.ibb.co/7WbxPQy/newplot.png'>"
   ]
  },
  {
   "cell_type": "markdown",
   "id": "9b232fcd",
   "metadata": {},
   "source": [
    "Виден тренд роста количества заказов. С ним увеличивается как и скользящее среднее, так и скользящее стандартное отклонение (прямо в самом конце временного промежутка), что в большей степени свидетельствует о том, что временной ряд является **нестационарным**.\n",
    "\n",
    "Это не очень хорошо, так как прогнозировать значения таких рядов сложнее. Однако, как видно из графика, проблемы, присущие нестационарным рядам, начинают проявляться ближе к концу. До этого же, график вполне можно охарактеризовать как стационарный.\n",
    "\n",
    "Будем иметь ввиду, что такой нюанс есть. Посмотрим далее по ситуации окажет ли он какое-либо влияние на качество прогноза."
   ]
  },
  {
   "cell_type": "markdown",
   "id": "45e5694d",
   "metadata": {},
   "source": [
    "---\n",
    "### Тренд и сезонность\n",
    "\n",
    "Движемся дальше и рассмотрим то, присутствует ли в данных какой-либо тренд, а также есть ли сезонные изменения количества заказов. Для этого воспользуемся удобной функцией разбивки данных из модуля <tt>statsmodels</tt> - <tt>seasonal_decompose()</tt>:"
   ]
  },
  {
   "cell_type": "code",
   "execution_count": 2,
   "id": "c3939a86",
   "metadata": {},
   "outputs": [],
   "source": [
    "decompose = seasonal_decompose(data.num_orders)\n",
    "\n",
    "fig = make_subplots(rows=3, \n",
    "                    cols=2, \n",
    "                    subplot_titles=('Trend full time', \n",
    "                                    'Trend last month', \n",
    "                                    'Seasonal full_time', \n",
    "                                    'Seasonal last month', \n",
    "                                    'Residue full time', \n",
    "                                    'Residue last month'))\n",
    "\n",
    "fig.add_trace(go.Scatter(x=decompose.trend.index,\n",
    "              y=decompose.trend), row=1, col=1)\n",
    "fig.add_trace(go.Scatter(x=decompose.seasonal.index,\n",
    "              y=decompose.seasonal), row=2, col=1)\n",
    "fig.add_trace(go.Scatter(x=decompose.resid.index,\n",
    "              y=decompose.resid), row=3, col=1)\n",
    "\n",
    "fig.add_trace(go.Scatter(x=decompose.trend.tail(24*32).index,\n",
    "              y=decompose.trend.tail(24*32)), row=1, col=2)\n",
    "fig.add_trace(go.Scatter(x=decompose.seasonal.tail(24*32).index,\n",
    "              y=decompose.seasonal.tail(24*32)), row=2, col=2)\n",
    "fig.add_trace(go.Scatter(x=decompose.resid.tail(24*32).index,\n",
    "              y=decompose.resid.tail(24*32)), row=3, col=2)\n",
    "\n",
    "fig.update_layout(height=1000, \n",
    "                  width=1400, \n",
    "                  title='num_of_orders seasonal decompose', \n",
    "                  showlegend=False)\n",
    "\n",
    "fig.show()"
   ]
  },
  {
   "cell_type": "markdown",
   "id": "fd85a9ec",
   "metadata": {},
   "source": [
    "<img src='https://i.ibb.co/FYdLn25/newplot-1.png'>"
   ]
  },
  {
   "cell_type": "markdown",
   "id": "31edd1c9",
   "metadata": {},
   "source": [
    "- По-прежнему виден положительный тренд как на всем временном промежутке, так и в последний изучаемый месяц (при чем рост очень стремительный). Количество заказов увеличивается с течением времени;\n",
    "- Интересная закономерность: в августе много пиковых значений в утреннее/дневное время (~7 ч. -16 ч.). Можно предположить, что в августе многие планируют отпуска и добираются туда и обратно на самолете, а поскольку рейсы часто выбирают ночные, то люди прилетают в аэропорт с утра или ближе к полудню и вызывают такси, чтобы доехать до дома;\n",
    "- Присутствует сезонность, которая выражена в виде того, что чем ближе к вечернему времени, тем больше заказов;\n",
    "- В остатках есть выбивающиеся значения. Возможно, в те дни были какие-то крупные тусовки и подобные мероприятия."
   ]
  },
  {
   "cell_type": "markdown",
   "id": "cac0ca7d",
   "metadata": {},
   "source": [
    "<div style=\"border: 3px solid rgb(0,0,0); padding: 20px\">\n",
    "    \n",
    "### Итого\n",
    " \n",
    "- Выявили закономерности на основании следующих графиков:\n",
    "    - Среднее кол-во заказов такси в определенный день месяца;\n",
    "    - Среднее кол-во заказов такси в определенный день недели;\n",
    "    - Среднее кол-во заказов такси в определенный месяц;\n",
    "    - Среднее кол-во заказов такси в определенный период дня;\n",
    "    - Среднее кол-во заказов такси в определенный день месяца;\n",
    "- Оценили стационарность временного ряда. Ряд - нестационарный;\n",
    "- Рассмотрели присутствующие в данных тренд и сезонность за все время и за последний изучаемый месяц."
   ]
  },
  {
   "cell_type": "markdown",
   "id": "98711b81",
   "metadata": {},
   "source": [
    "## Обучение моделей 🦾"
   ]
  },
  {
   "cell_type": "markdown",
   "id": "104095b3",
   "metadata": {},
   "source": [
    "Обучать будем следующие модели:\n",
    "\n",
    "- <tt>LinearRegression</tt>;\n",
    "- <tt>GradientBoostingRegressor</tt>;\n",
    "- <tt>CatBoostRegressor</tt>\n",
    "\n",
    "Из них выберем одну лучшую, которую и будем тестировать."
   ]
  },
  {
   "cell_type": "markdown",
   "id": "a34667dd",
   "metadata": {},
   "source": [
    "### Тренировочная и тестовая выборки"
   ]
  },
  {
   "cell_type": "markdown",
   "id": "bcfc1d22",
   "metadata": {},
   "source": [
    "Для начала разделим данные на тренировочный, валидационный и тестовый наборы. Соотношение 6\\:3:1.\n",
    "\n",
    "Не забываем про <tt>shuffle=False</tt>, так как временная упорядоченность в данных важна. Стоит исключить объекты с пропусками, которые возникли по причине добавления <tt>lag features</tt>.\n",
    "\n",
    "Ну и в конце удалим первые два <tt>lag features</tt> из выборки, так как присутствие данных признаков в выборке приведет к утечке целевого признака и, как следствие, к переобучению моделей."
   ]
  },
  {
   "cell_type": "code",
   "execution_count": 14,
   "id": "167ec371",
   "metadata": {},
   "outputs": [
    {
     "data": {
      "text/plain": [
       "((3950, 18), (3950,), (442, 18), (442,))"
      ]
     },
     "execution_count": 14,
     "metadata": {},
     "output_type": "execute_result"
    }
   ],
   "source": [
    "train, test = train_test_split(data, test_size=.1, shuffle=False)\n",
    "train.dropna(inplace=True)\n",
    "\n",
    "X_train = train.drop(columns=[f'lag_{i}' for i in range(1, 3)] + ['num_orders'])\n",
    "y_train = train['num_orders']\n",
    "\n",
    "X_test = test.drop(columns=[f'lag_{i}' for i in range(1, 3)] + ['num_orders'])\n",
    "y_test = test['num_orders']\n",
    "\n",
    "X_train.shape, y_train.shape, X_test.shape, y_test.shape"
   ]
  },
  {
   "cell_type": "markdown",
   "id": "6217df80",
   "metadata": {},
   "source": [
    "### StandardScaler"
   ]
  },
  {
   "cell_type": "markdown",
   "id": "1b0369b1",
   "metadata": {},
   "source": [
    "Так как будут использоваться в том числе и линейные модели, то следует отмасштабировать признаки. Будем ипользовать <tt>StandardScaler</tt>"
   ]
  },
  {
   "cell_type": "code",
   "execution_count": 15,
   "id": "759887a3",
   "metadata": {},
   "outputs": [
    {
     "data": {
      "text/html": [
       "<div>\n",
       "<style scoped>\n",
       "    .dataframe tbody tr th:only-of-type {\n",
       "        vertical-align: middle;\n",
       "    }\n",
       "\n",
       "    .dataframe tbody tr th {\n",
       "        vertical-align: top;\n",
       "    }\n",
       "\n",
       "    .dataframe thead th {\n",
       "        text-align: right;\n",
       "    }\n",
       "</style>\n",
       "<table border=\"1\" class=\"dataframe\">\n",
       "  <thead>\n",
       "    <tr style=\"text-align: right;\">\n",
       "      <th>taxi.csv</th>\n",
       "      <th>day</th>\n",
       "      <th>month</th>\n",
       "      <th>weekday</th>\n",
       "      <th>weekend</th>\n",
       "      <th>daytime</th>\n",
       "      <th>day_orders</th>\n",
       "      <th>lag_3</th>\n",
       "      <th>lag_4</th>\n",
       "      <th>lag_5</th>\n",
       "      <th>lag_6</th>\n",
       "      <th>lag_7</th>\n",
       "      <th>lag_8</th>\n",
       "      <th>lag_9</th>\n",
       "      <th>lag_10</th>\n",
       "      <th>rolling_mean_5</th>\n",
       "      <th>rolling_std_5</th>\n",
       "      <th>rolling_mean_20</th>\n",
       "      <th>rolling_std_20</th>\n",
       "    </tr>\n",
       "    <tr>\n",
       "      <th>datetime</th>\n",
       "      <th></th>\n",
       "      <th></th>\n",
       "      <th></th>\n",
       "      <th></th>\n",
       "      <th></th>\n",
       "      <th></th>\n",
       "      <th></th>\n",
       "      <th></th>\n",
       "      <th></th>\n",
       "      <th></th>\n",
       "      <th></th>\n",
       "      <th></th>\n",
       "      <th></th>\n",
       "      <th></th>\n",
       "      <th></th>\n",
       "      <th></th>\n",
       "      <th></th>\n",
       "      <th></th>\n",
       "    </tr>\n",
       "  </thead>\n",
       "  <tbody>\n",
       "    <tr>\n",
       "      <th>2018-03-02 00:00:00</th>\n",
       "      <td>-1.49</td>\n",
       "      <td>-1.42</td>\n",
       "      <td>0.49</td>\n",
       "      <td>-0.64</td>\n",
       "      <td>-1.24</td>\n",
       "      <td>1.21</td>\n",
       "      <td>-0.32</td>\n",
       "      <td>-0.45</td>\n",
       "      <td>-0.86</td>\n",
       "      <td>-0.14</td>\n",
       "      <td>-0.89</td>\n",
       "      <td>-0.91</td>\n",
       "      <td>-0.32</td>\n",
       "      <td>-0.78</td>\n",
       "      <td>-0.35</td>\n",
       "      <td>-0.08</td>\n",
       "      <td>-1.37</td>\n",
       "      <td>-0.70</td>\n",
       "    </tr>\n",
       "    <tr>\n",
       "      <th>2018-03-02 01:00:00</th>\n",
       "      <td>-1.49</td>\n",
       "      <td>-1.42</td>\n",
       "      <td>0.49</td>\n",
       "      <td>-0.64</td>\n",
       "      <td>-1.24</td>\n",
       "      <td>0.19</td>\n",
       "      <td>0.90</td>\n",
       "      <td>-0.32</td>\n",
       "      <td>-0.45</td>\n",
       "      <td>-0.86</td>\n",
       "      <td>-0.14</td>\n",
       "      <td>-0.89</td>\n",
       "      <td>-0.91</td>\n",
       "      <td>-0.32</td>\n",
       "      <td>-0.03</td>\n",
       "      <td>-0.28</td>\n",
       "      <td>-1.25</td>\n",
       "      <td>-0.54</td>\n",
       "    </tr>\n",
       "    <tr>\n",
       "      <th>2018-03-02 02:00:00</th>\n",
       "      <td>-1.49</td>\n",
       "      <td>-1.42</td>\n",
       "      <td>0.49</td>\n",
       "      <td>-0.64</td>\n",
       "      <td>-1.24</td>\n",
       "      <td>-0.18</td>\n",
       "      <td>-0.53</td>\n",
       "      <td>0.90</td>\n",
       "      <td>-0.32</td>\n",
       "      <td>-0.45</td>\n",
       "      <td>-0.86</td>\n",
       "      <td>-0.14</td>\n",
       "      <td>-0.89</td>\n",
       "      <td>-0.91</td>\n",
       "      <td>0.39</td>\n",
       "      <td>0.04</td>\n",
       "      <td>-0.97</td>\n",
       "      <td>-0.37</td>\n",
       "    </tr>\n",
       "    <tr>\n",
       "      <th>2018-03-02 03:00:00</th>\n",
       "      <td>-1.49</td>\n",
       "      <td>-1.42</td>\n",
       "      <td>0.49</td>\n",
       "      <td>-0.64</td>\n",
       "      <td>-1.24</td>\n",
       "      <td>-0.31</td>\n",
       "      <td>0.30</td>\n",
       "      <td>-0.53</td>\n",
       "      <td>0.90</td>\n",
       "      <td>-0.32</td>\n",
       "      <td>-0.45</td>\n",
       "      <td>-0.86</td>\n",
       "      <td>-0.14</td>\n",
       "      <td>-0.89</td>\n",
       "      <td>0.46</td>\n",
       "      <td>-0.10</td>\n",
       "      <td>-0.81</td>\n",
       "      <td>-0.61</td>\n",
       "    </tr>\n",
       "    <tr>\n",
       "      <th>2018-03-02 04:00:00</th>\n",
       "      <td>-1.49</td>\n",
       "      <td>-1.42</td>\n",
       "      <td>0.49</td>\n",
       "      <td>-0.64</td>\n",
       "      <td>-1.24</td>\n",
       "      <td>-0.92</td>\n",
       "      <td>1.08</td>\n",
       "      <td>0.30</td>\n",
       "      <td>-0.53</td>\n",
       "      <td>0.90</td>\n",
       "      <td>-0.32</td>\n",
       "      <td>-0.45</td>\n",
       "      <td>-0.86</td>\n",
       "      <td>-0.14</td>\n",
       "      <td>0.11</td>\n",
       "      <td>-0.18</td>\n",
       "      <td>-0.68</td>\n",
       "      <td>-0.88</td>\n",
       "    </tr>\n",
       "  </tbody>\n",
       "</table>\n",
       "</div>"
      ],
      "text/plain": [
       "taxi.csv                   day      month    weekday    weekend    daytime  \\\n",
       "datetime                                                                     \n",
       "2018-03-02 00:00:00      -1.49      -1.42       0.49      -0.64      -1.24   \n",
       "2018-03-02 01:00:00      -1.49      -1.42       0.49      -0.64      -1.24   \n",
       "2018-03-02 02:00:00      -1.49      -1.42       0.49      -0.64      -1.24   \n",
       "2018-03-02 03:00:00      -1.49      -1.42       0.49      -0.64      -1.24   \n",
       "2018-03-02 04:00:00      -1.49      -1.42       0.49      -0.64      -1.24   \n",
       "\n",
       "taxi.csv             day_orders      lag_3      lag_4      lag_5      lag_6  \\\n",
       "datetime                                                                      \n",
       "2018-03-02 00:00:00        1.21      -0.32      -0.45      -0.86      -0.14   \n",
       "2018-03-02 01:00:00        0.19       0.90      -0.32      -0.45      -0.86   \n",
       "2018-03-02 02:00:00       -0.18      -0.53       0.90      -0.32      -0.45   \n",
       "2018-03-02 03:00:00       -0.31       0.30      -0.53       0.90      -0.32   \n",
       "2018-03-02 04:00:00       -0.92       1.08       0.30      -0.53       0.90   \n",
       "\n",
       "taxi.csv                 lag_7      lag_8      lag_9     lag_10  \\\n",
       "datetime                                                          \n",
       "2018-03-02 00:00:00      -0.89      -0.91      -0.32      -0.78   \n",
       "2018-03-02 01:00:00      -0.14      -0.89      -0.91      -0.32   \n",
       "2018-03-02 02:00:00      -0.86      -0.14      -0.89      -0.91   \n",
       "2018-03-02 03:00:00      -0.45      -0.86      -0.14      -0.89   \n",
       "2018-03-02 04:00:00      -0.32      -0.45      -0.86      -0.14   \n",
       "\n",
       "taxi.csv             rolling_mean_5  rolling_std_5  rolling_mean_20  \\\n",
       "datetime                                                              \n",
       "2018-03-02 00:00:00           -0.35          -0.08            -1.37   \n",
       "2018-03-02 01:00:00           -0.03          -0.28            -1.25   \n",
       "2018-03-02 02:00:00            0.39           0.04            -0.97   \n",
       "2018-03-02 03:00:00            0.46          -0.10            -0.81   \n",
       "2018-03-02 04:00:00            0.11          -0.18            -0.68   \n",
       "\n",
       "taxi.csv             rolling_std_20  \n",
       "datetime                             \n",
       "2018-03-02 00:00:00           -0.70  \n",
       "2018-03-02 01:00:00           -0.54  \n",
       "2018-03-02 02:00:00           -0.37  \n",
       "2018-03-02 03:00:00           -0.61  \n",
       "2018-03-02 04:00:00           -0.88  "
      ]
     },
     "metadata": {},
     "output_type": "display_data"
    },
    {
     "data": {
      "text/html": [
       "<div>\n",
       "<style scoped>\n",
       "    .dataframe tbody tr th:only-of-type {\n",
       "        vertical-align: middle;\n",
       "    }\n",
       "\n",
       "    .dataframe tbody tr th {\n",
       "        vertical-align: top;\n",
       "    }\n",
       "\n",
       "    .dataframe thead th {\n",
       "        text-align: right;\n",
       "    }\n",
       "</style>\n",
       "<table border=\"1\" class=\"dataframe\">\n",
       "  <thead>\n",
       "    <tr style=\"text-align: right;\">\n",
       "      <th>taxi.csv</th>\n",
       "      <th>day</th>\n",
       "      <th>month</th>\n",
       "      <th>weekday</th>\n",
       "      <th>weekend</th>\n",
       "      <th>daytime</th>\n",
       "      <th>day_orders</th>\n",
       "      <th>lag_3</th>\n",
       "      <th>lag_4</th>\n",
       "      <th>lag_5</th>\n",
       "      <th>lag_6</th>\n",
       "      <th>lag_7</th>\n",
       "      <th>lag_8</th>\n",
       "      <th>lag_9</th>\n",
       "      <th>lag_10</th>\n",
       "      <th>rolling_mean_5</th>\n",
       "      <th>rolling_std_5</th>\n",
       "      <th>rolling_mean_20</th>\n",
       "      <th>rolling_std_20</th>\n",
       "    </tr>\n",
       "    <tr>\n",
       "      <th>datetime</th>\n",
       "      <th></th>\n",
       "      <th></th>\n",
       "      <th></th>\n",
       "      <th></th>\n",
       "      <th></th>\n",
       "      <th></th>\n",
       "      <th></th>\n",
       "      <th></th>\n",
       "      <th></th>\n",
       "      <th></th>\n",
       "      <th></th>\n",
       "      <th></th>\n",
       "      <th></th>\n",
       "      <th></th>\n",
       "      <th></th>\n",
       "      <th></th>\n",
       "      <th></th>\n",
       "      <th></th>\n",
       "    </tr>\n",
       "  </thead>\n",
       "  <tbody>\n",
       "    <tr>\n",
       "      <th>2018-08-13 14:00:00</th>\n",
       "      <td>-0.25</td>\n",
       "      <td>1.75</td>\n",
       "      <td>-1.51</td>\n",
       "      <td>-0.64</td>\n",
       "      <td>0.57</td>\n",
       "      <td>0.69</td>\n",
       "      <td>1.70</td>\n",
       "      <td>2.01</td>\n",
       "      <td>1.52</td>\n",
       "      <td>0.33</td>\n",
       "      <td>-1.02</td>\n",
       "      <td>-0.32</td>\n",
       "      <td>0.12</td>\n",
       "      <td>1.67</td>\n",
       "      <td>1.83</td>\n",
       "      <td>-0.17</td>\n",
       "      <td>3.11</td>\n",
       "      <td>6.48</td>\n",
       "    </tr>\n",
       "    <tr>\n",
       "      <th>2018-08-13 15:00:00</th>\n",
       "      <td>-0.25</td>\n",
       "      <td>1.75</td>\n",
       "      <td>-1.51</td>\n",
       "      <td>-0.64</td>\n",
       "      <td>0.57</td>\n",
       "      <td>1.87</td>\n",
       "      <td>0.35</td>\n",
       "      <td>1.70</td>\n",
       "      <td>2.01</td>\n",
       "      <td>1.52</td>\n",
       "      <td>0.33</td>\n",
       "      <td>-1.02</td>\n",
       "      <td>-0.32</td>\n",
       "      <td>0.12</td>\n",
       "      <td>1.58</td>\n",
       "      <td>0.01</td>\n",
       "      <td>3.17</td>\n",
       "      <td>6.39</td>\n",
       "    </tr>\n",
       "    <tr>\n",
       "      <th>2018-08-13 16:00:00</th>\n",
       "      <td>-0.25</td>\n",
       "      <td>1.75</td>\n",
       "      <td>-1.51</td>\n",
       "      <td>-0.64</td>\n",
       "      <td>0.57</td>\n",
       "      <td>1.97</td>\n",
       "      <td>1.05</td>\n",
       "      <td>0.35</td>\n",
       "      <td>1.70</td>\n",
       "      <td>2.01</td>\n",
       "      <td>1.52</td>\n",
       "      <td>0.33</td>\n",
       "      <td>-1.02</td>\n",
       "      <td>-0.32</td>\n",
       "      <td>1.72</td>\n",
       "      <td>0.52</td>\n",
       "      <td>3.40</td>\n",
       "      <td>6.28</td>\n",
       "    </tr>\n",
       "    <tr>\n",
       "      <th>2018-08-13 17:00:00</th>\n",
       "      <td>-0.25</td>\n",
       "      <td>1.75</td>\n",
       "      <td>-1.51</td>\n",
       "      <td>-0.64</td>\n",
       "      <td>0.57</td>\n",
       "      <td>0.98</td>\n",
       "      <td>0.61</td>\n",
       "      <td>1.05</td>\n",
       "      <td>0.35</td>\n",
       "      <td>1.70</td>\n",
       "      <td>2.01</td>\n",
       "      <td>1.52</td>\n",
       "      <td>0.33</td>\n",
       "      <td>-1.02</td>\n",
       "      <td>1.72</td>\n",
       "      <td>0.52</td>\n",
       "      <td>3.51</td>\n",
       "      <td>6.19</td>\n",
       "    </tr>\n",
       "    <tr>\n",
       "      <th>2018-08-13 18:00:00</th>\n",
       "      <td>-0.25</td>\n",
       "      <td>1.75</td>\n",
       "      <td>-1.51</td>\n",
       "      <td>-0.64</td>\n",
       "      <td>0.57</td>\n",
       "      <td>0.00</td>\n",
       "      <td>2.50</td>\n",
       "      <td>0.61</td>\n",
       "      <td>1.05</td>\n",
       "      <td>0.35</td>\n",
       "      <td>1.70</td>\n",
       "      <td>2.01</td>\n",
       "      <td>1.52</td>\n",
       "      <td>0.33</td>\n",
       "      <td>2.14</td>\n",
       "      <td>0.12</td>\n",
       "      <td>3.56</td>\n",
       "      <td>6.19</td>\n",
       "    </tr>\n",
       "  </tbody>\n",
       "</table>\n",
       "</div>"
      ],
      "text/plain": [
       "taxi.csv                   day      month    weekday    weekend    daytime  \\\n",
       "datetime                                                                     \n",
       "2018-08-13 14:00:00      -0.25       1.75      -1.51      -0.64       0.57   \n",
       "2018-08-13 15:00:00      -0.25       1.75      -1.51      -0.64       0.57   \n",
       "2018-08-13 16:00:00      -0.25       1.75      -1.51      -0.64       0.57   \n",
       "2018-08-13 17:00:00      -0.25       1.75      -1.51      -0.64       0.57   \n",
       "2018-08-13 18:00:00      -0.25       1.75      -1.51      -0.64       0.57   \n",
       "\n",
       "taxi.csv             day_orders      lag_3      lag_4      lag_5      lag_6  \\\n",
       "datetime                                                                      \n",
       "2018-08-13 14:00:00        0.69       1.70       2.01       1.52       0.33   \n",
       "2018-08-13 15:00:00        1.87       0.35       1.70       2.01       1.52   \n",
       "2018-08-13 16:00:00        1.97       1.05       0.35       1.70       2.01   \n",
       "2018-08-13 17:00:00        0.98       0.61       1.05       0.35       1.70   \n",
       "2018-08-13 18:00:00        0.00       2.50       0.61       1.05       0.35   \n",
       "\n",
       "taxi.csv                 lag_7      lag_8      lag_9     lag_10  \\\n",
       "datetime                                                          \n",
       "2018-08-13 14:00:00      -1.02      -0.32       0.12       1.67   \n",
       "2018-08-13 15:00:00       0.33      -1.02      -0.32       0.12   \n",
       "2018-08-13 16:00:00       1.52       0.33      -1.02      -0.32   \n",
       "2018-08-13 17:00:00       2.01       1.52       0.33      -1.02   \n",
       "2018-08-13 18:00:00       1.70       2.01       1.52       0.33   \n",
       "\n",
       "taxi.csv             rolling_mean_5  rolling_std_5  rolling_mean_20  \\\n",
       "datetime                                                              \n",
       "2018-08-13 14:00:00            1.83          -0.17             3.11   \n",
       "2018-08-13 15:00:00            1.58           0.01             3.17   \n",
       "2018-08-13 16:00:00            1.72           0.52             3.40   \n",
       "2018-08-13 17:00:00            1.72           0.52             3.51   \n",
       "2018-08-13 18:00:00            2.14           0.12             3.56   \n",
       "\n",
       "taxi.csv             rolling_std_20  \n",
       "datetime                             \n",
       "2018-08-13 14:00:00            6.48  \n",
       "2018-08-13 15:00:00            6.39  \n",
       "2018-08-13 16:00:00            6.28  \n",
       "2018-08-13 17:00:00            6.19  \n",
       "2018-08-13 18:00:00            6.19  "
      ]
     },
     "metadata": {},
     "output_type": "display_data"
    },
    {
     "name": "stdout",
     "output_type": "stream",
     "text": [
      "True\n"
     ]
    },
    {
     "data": {
      "text/plain": [
       "True"
      ]
     },
     "execution_count": 15,
     "metadata": {},
     "output_type": "execute_result"
    }
   ],
   "source": [
    "scaler = StandardScaler()\n",
    "\n",
    "scaler.fit(X_train)\n",
    "\n",
    "X_train = pd.DataFrame(scaler.transform(\n",
    "    X_train), columns=X_train.columns, index=y_train.index)\n",
    "\n",
    "X_test = pd.DataFrame(scaler.transform(\n",
    "    X_test), columns=X_test.columns, index=y_test.index)\n",
    "\n",
    "display(X_train.head())\n",
    "display(X_test.head())\n",
    "\n",
    "print(X_train.index.is_monotonic)\n",
    "X_test.index.is_monotonic"
   ]
  },
  {
   "cell_type": "markdown",
   "id": "decc0452",
   "metadata": {},
   "source": [
    "### <tt>LinearRegression</tt>"
   ]
  },
  {
   "cell_type": "markdown",
   "id": "24a8b841",
   "metadata": {},
   "source": [
    "Зададим <tt>RMSE scorer</tt> для кросс-валидатора и <tt>GridSearchCV</tt>"
   ]
  },
  {
   "cell_type": "code",
   "execution_count": 16,
   "id": "5918ccab",
   "metadata": {},
   "outputs": [],
   "source": [
    "rmse_scorer = make_scorer(mean_squared_error, squared=False)"
   ]
  },
  {
   "cell_type": "markdown",
   "id": "6ec151ba",
   "metadata": {},
   "source": [
    "Будет использоваться кросс-валидация. Поскольку работаем с временным рядом, то в качестве алгоритма проведения кросс-валидации будем использовать <tt>TimeSeriesSplit</tt> с разбивкой на 5 фолдов."
   ]
  },
  {
   "cell_type": "code",
   "execution_count": 17,
   "id": "2dc5e07b",
   "metadata": {},
   "outputs": [
    {
     "name": "stdout",
     "output_type": "stream",
     "text": [
      "Linear Regression. Cross-val RMSE -> 26.86\n",
      "Time elapsed -> 0.25 с.\n"
     ]
    }
   ],
   "source": [
    "lr_stime = time()\n",
    "\n",
    "lr = LinearRegression()\n",
    "\n",
    "lr_cv = cross_val_score(lr,\n",
    "                        X_train, \n",
    "                        y_train, \n",
    "                        cv=TimeSeriesSplit(n_splits=8), \n",
    "                        scoring=rmse_scorer, n_jobs=-1)\n",
    "\n",
    "lr.fit(X_train, y_train)\n",
    "\n",
    "lr_rmse = round(lr_cv.mean(), 2)\n",
    "\n",
    "lr_full_time = round(time() - lr_stime, 2)\n",
    "\n",
    "print(f'Linear Regression. Cross-val RMSE -> {lr_rmse}\\n'\n",
    "      f'Time elapsed -> {lr_full_time} с.')"
   ]
  },
  {
   "cell_type": "markdown",
   "id": "85c0cb10",
   "metadata": {},
   "source": [
    "### <tt>GradientBoostingRegressor</tt>"
   ]
  },
  {
   "cell_type": "code",
   "execution_count": 18,
   "id": "4f567eab",
   "metadata": {},
   "outputs": [],
   "source": [
    "def GS_best_params(model,\n",
    "                   params_grid,\n",
    "                   train_features,\n",
    "                   train_target,\n",
    "                   scorer=rmse_scorer,\n",
    "                   cv_rate=8,\n",
    "                   refit=True,\n",
    "                   verbose=3,\n",
    "                   n_jobs=-1):\n",
    "\n",
    "    GS = GridSearchCV(model,\n",
    "                      params_grid,\n",
    "                      cv=TimeSeriesSplit(n_splits=cv_rate),\n",
    "                      refit=refit,\n",
    "                      scoring=scorer,\n",
    "                      verbose=verbose,\n",
    "                      n_jobs=n_jobs).fit(train_features, train_target)\n",
    "\n",
    "    return GS"
   ]
  },
  {
   "cell_type": "code",
   "execution_count": 19,
   "id": "3d9e971a",
   "metadata": {
    "scrolled": true
   },
   "outputs": [
    {
     "name": "stdout",
     "output_type": "stream",
     "text": [
      "Fitting 8 folds for each of 27 candidates, totalling 216 fits\n",
      "[CV 1/8] END learning_rate=0.01, max_depth=4, n_estimators=300; total time=   0.7s\n",
      "[CV 2/8] END learning_rate=0.01, max_depth=4, n_estimators=300; total time=   1.0s\n",
      "[CV 3/8] END learning_rate=0.01, max_depth=4, n_estimators=300; total time=   2.0s\n",
      "[CV 4/8] END learning_rate=0.01, max_depth=4, n_estimators=300; total time=   2.4s\n",
      "[CV 5/8] END learning_rate=0.01, max_depth=4, n_estimators=300; total time=   2.4s\n",
      "[CV 6/8] END learning_rate=0.01, max_depth=4, n_estimators=300; total time=   2.9s\n",
      "[CV 7/8] END learning_rate=0.01, max_depth=4, n_estimators=300; total time=   3.3s\n",
      "[CV 8/8] END learning_rate=0.01, max_depth=4, n_estimators=300; total time=   3.7s\n",
      "[CV 1/8] END learning_rate=0.01, max_depth=4, n_estimators=400; total time=   0.8s\n",
      "[CV 2/8] END learning_rate=0.01, max_depth=4, n_estimators=400; total time=   1.4s\n",
      "[CV 3/8] END learning_rate=0.01, max_depth=4, n_estimators=400; total time=   2.0s\n",
      "[CV 4/8] END learning_rate=0.01, max_depth=4, n_estimators=400; total time=   2.6s\n",
      "[CV 5/8] END learning_rate=0.01, max_depth=4, n_estimators=400; total time=   3.2s\n",
      "[CV 6/8] END learning_rate=0.01, max_depth=4, n_estimators=400; total time=   3.8s\n",
      "[CV 7/8] END learning_rate=0.01, max_depth=4, n_estimators=400; total time=   4.3s\n",
      "[CV 8/8] END learning_rate=0.01, max_depth=4, n_estimators=400; total time=   5.0s\n",
      "[CV 1/8] END learning_rate=0.01, max_depth=4, n_estimators=500; total time=   1.0s\n",
      "[CV 2/8] END learning_rate=0.01, max_depth=4, n_estimators=500; total time=   1.7s\n",
      "[CV 3/8] END learning_rate=0.01, max_depth=4, n_estimators=500; total time=   2.4s\n",
      "[CV 4/8] END learning_rate=0.01, max_depth=4, n_estimators=500; total time=   3.3s\n",
      "[CV 5/8] END learning_rate=0.01, max_depth=4, n_estimators=500; total time=   3.9s\n",
      "[CV 6/8] END learning_rate=0.01, max_depth=4, n_estimators=500; total time=   4.7s\n",
      "[CV 7/8] END learning_rate=0.01, max_depth=4, n_estimators=500; total time=   5.4s\n",
      "[CV 8/8] END learning_rate=0.01, max_depth=4, n_estimators=500; total time=   6.2s\n",
      "[CV 1/8] END learning_rate=0.01, max_depth=5, n_estimators=300; total time=   0.9s\n",
      "[CV 2/8] END learning_rate=0.01, max_depth=5, n_estimators=300; total time=   1.6s\n",
      "[CV 3/8] END learning_rate=0.01, max_depth=5, n_estimators=300; total time=   1.8s\n",
      "[CV 4/8] END learning_rate=0.01, max_depth=5, n_estimators=300; total time=   2.4s\n",
      "[CV 5/8] END learning_rate=0.01, max_depth=5, n_estimators=300; total time=   3.0s\n",
      "[CV 6/8] END learning_rate=0.01, max_depth=5, n_estimators=300; total time=   3.5s\n",
      "[CV 7/8] END learning_rate=0.01, max_depth=5, n_estimators=300; total time=   4.0s\n",
      "[CV 8/8] END learning_rate=0.01, max_depth=5, n_estimators=300; total time=   4.7s\n",
      "[CV 1/8] END learning_rate=0.01, max_depth=5, n_estimators=400; total time=   0.9s\n",
      "[CV 2/8] END learning_rate=0.01, max_depth=5, n_estimators=400; total time=   1.6s\n",
      "[CV 3/8] END learning_rate=0.01, max_depth=5, n_estimators=400; total time=   2.4s\n",
      "[CV 4/8] END learning_rate=0.01, max_depth=5, n_estimators=400; total time=   3.2s\n",
      "[CV 5/8] END learning_rate=0.01, max_depth=5, n_estimators=400; total time=   3.9s\n",
      "[CV 6/8] END learning_rate=0.01, max_depth=5, n_estimators=400; total time=   4.6s\n",
      "[CV 7/8] END learning_rate=0.01, max_depth=5, n_estimators=400; total time=   5.4s\n",
      "[CV 8/8] END learning_rate=0.01, max_depth=5, n_estimators=400; total time=   6.2s\n",
      "[CV 1/8] END learning_rate=0.01, max_depth=5, n_estimators=500; total time=   1.1s\n",
      "[CV 2/8] END learning_rate=0.01, max_depth=5, n_estimators=500; total time=   2.1s\n",
      "[CV 3/8] END learning_rate=0.01, max_depth=5, n_estimators=500; total time=   3.0s\n",
      "[CV 4/8] END learning_rate=0.01, max_depth=5, n_estimators=500; total time=   4.0s\n",
      "[CV 5/8] END learning_rate=0.01, max_depth=5, n_estimators=500; total time=   4.8s\n",
      "[CV 6/8] END learning_rate=0.01, max_depth=5, n_estimators=500; total time=   5.8s\n",
      "[CV 7/8] END learning_rate=0.01, max_depth=5, n_estimators=500; total time=   6.6s\n",
      "[CV 8/8] END learning_rate=0.01, max_depth=5, n_estimators=500; total time=   7.8s\n",
      "[CV 1/8] END learning_rate=0.01, max_depth=6, n_estimators=300; total time=   0.8s\n",
      "[CV 2/8] END learning_rate=0.01, max_depth=6, n_estimators=300; total time=   1.5s\n",
      "[CV 3/8] END learning_rate=0.01, max_depth=6, n_estimators=300; total time=   2.2s\n",
      "[CV 4/8] END learning_rate=0.01, max_depth=6, n_estimators=300; total time=   2.9s\n",
      "[CV 5/8] END learning_rate=0.01, max_depth=6, n_estimators=300; total time=   3.5s\n",
      "[CV 6/8] END learning_rate=0.01, max_depth=6, n_estimators=300; total time=   4.2s\n",
      "[CV 7/8] END learning_rate=0.01, max_depth=6, n_estimators=300; total time=   4.9s\n",
      "[CV 8/8] END learning_rate=0.01, max_depth=6, n_estimators=300; total time=   5.6s\n",
      "[CV 1/8] END learning_rate=0.01, max_depth=6, n_estimators=400; total time=   1.1s\n",
      "[CV 2/8] END learning_rate=0.01, max_depth=6, n_estimators=400; total time=   2.0s\n",
      "[CV 3/8] END learning_rate=0.01, max_depth=6, n_estimators=400; total time=   2.9s\n",
      "[CV 4/8] END learning_rate=0.01, max_depth=6, n_estimators=400; total time=   4.0s\n",
      "[CV 5/8] END learning_rate=0.01, max_depth=6, n_estimators=400; total time=   5.0s\n",
      "[CV 6/8] END learning_rate=0.01, max_depth=6, n_estimators=400; total time=   5.6s\n",
      "[CV 7/8] END learning_rate=0.01, max_depth=6, n_estimators=400; total time=   6.4s\n",
      "[CV 8/8] END learning_rate=0.01, max_depth=6, n_estimators=400; total time=   7.4s\n",
      "[CV 1/8] END learning_rate=0.01, max_depth=6, n_estimators=500; total time=   1.3s\n",
      "[CV 2/8] END learning_rate=0.01, max_depth=6, n_estimators=500; total time=   2.4s\n",
      "[CV 3/8] END learning_rate=0.01, max_depth=6, n_estimators=500; total time=   3.6s\n",
      "[CV 4/8] END learning_rate=0.01, max_depth=6, n_estimators=500; total time=   4.6s\n",
      "[CV 5/8] END learning_rate=0.01, max_depth=6, n_estimators=500; total time=   5.9s\n",
      "[CV 6/8] END learning_rate=0.01, max_depth=6, n_estimators=500; total time=   6.9s\n",
      "[CV 7/8] END learning_rate=0.01, max_depth=6, n_estimators=500; total time=   8.0s\n",
      "[CV 8/8] END learning_rate=0.01, max_depth=6, n_estimators=500; total time=   9.1s\n",
      "[CV 1/8] END learning_rate=0.1, max_depth=4, n_estimators=300; total time=   0.6s\n",
      "[CV 2/8] END learning_rate=0.1, max_depth=4, n_estimators=300; total time=   1.0s\n",
      "[CV 3/8] END learning_rate=0.1, max_depth=4, n_estimators=300; total time=   1.5s\n",
      "[CV 4/8] END learning_rate=0.1, max_depth=4, n_estimators=300; total time=   1.9s\n",
      "[CV 5/8] END learning_rate=0.1, max_depth=4, n_estimators=300; total time=   2.3s\n",
      "[CV 6/8] END learning_rate=0.1, max_depth=4, n_estimators=300; total time=   2.7s\n",
      "[CV 7/8] END learning_rate=0.1, max_depth=4, n_estimators=300; total time=   3.2s\n",
      "[CV 8/8] END learning_rate=0.1, max_depth=4, n_estimators=300; total time=   3.7s\n",
      "[CV 1/8] END learning_rate=0.1, max_depth=4, n_estimators=400; total time=   0.7s\n",
      "[CV 2/8] END learning_rate=0.1, max_depth=4, n_estimators=400; total time=   1.3s\n",
      "[CV 3/8] END learning_rate=0.1, max_depth=4, n_estimators=400; total time=   1.9s\n",
      "[CV 4/8] END learning_rate=0.1, max_depth=4, n_estimators=400; total time=   2.5s\n",
      "[CV 5/8] END learning_rate=0.1, max_depth=4, n_estimators=400; total time=   3.1s\n",
      "[CV 6/8] END learning_rate=0.1, max_depth=4, n_estimators=400; total time=   3.7s\n",
      "[CV 7/8] END learning_rate=0.1, max_depth=4, n_estimators=400; total time=   4.3s\n",
      "[CV 8/8] END learning_rate=0.1, max_depth=4, n_estimators=400; total time=   4.9s\n",
      "[CV 1/8] END learning_rate=0.1, max_depth=4, n_estimators=500; total time=   1.0s\n",
      "[CV 2/8] END learning_rate=0.1, max_depth=4, n_estimators=500; total time=   1.7s\n",
      "[CV 3/8] END learning_rate=0.1, max_depth=4, n_estimators=500; total time=   2.5s\n",
      "[CV 4/8] END learning_rate=0.1, max_depth=4, n_estimators=500; total time=   3.1s\n",
      "[CV 5/8] END learning_rate=0.1, max_depth=4, n_estimators=500; total time=   3.9s\n",
      "[CV 6/8] END learning_rate=0.1, max_depth=4, n_estimators=500; total time=   5.2s\n",
      "[CV 7/8] END learning_rate=0.1, max_depth=4, n_estimators=500; total time=   5.3s\n",
      "[CV 8/8] END learning_rate=0.1, max_depth=4, n_estimators=500; total time=   6.2s\n",
      "[CV 1/8] END learning_rate=0.1, max_depth=5, n_estimators=300; total time=   0.7s\n",
      "[CV 2/8] END learning_rate=0.1, max_depth=5, n_estimators=300; total time=   1.2s\n",
      "[CV 3/8] END learning_rate=0.1, max_depth=5, n_estimators=300; total time=   1.8s\n",
      "[CV 4/8] END learning_rate=0.1, max_depth=5, n_estimators=300; total time=   2.4s\n",
      "[CV 5/8] END learning_rate=0.1, max_depth=5, n_estimators=300; total time=   2.8s\n",
      "[CV 6/8] END learning_rate=0.1, max_depth=5, n_estimators=300; total time=   3.4s\n",
      "[CV 7/8] END learning_rate=0.1, max_depth=5, n_estimators=300; total time=   4.1s\n",
      "[CV 8/8] END learning_rate=0.1, max_depth=5, n_estimators=300; total time=   4.5s\n",
      "[CV 1/8] END learning_rate=0.1, max_depth=5, n_estimators=400; total time=   0.9s\n",
      "[CV 2/8] END learning_rate=0.1, max_depth=5, n_estimators=400; total time=   1.6s\n",
      "[CV 3/8] END learning_rate=0.1, max_depth=5, n_estimators=400; total time=   2.4s\n",
      "[CV 4/8] END learning_rate=0.1, max_depth=5, n_estimators=400; total time=   3.1s\n",
      "[CV 5/8] END learning_rate=0.1, max_depth=5, n_estimators=400; total time=   3.9s\n",
      "[CV 6/8] END learning_rate=0.1, max_depth=5, n_estimators=400; total time=   4.6s\n",
      "[CV 7/8] END learning_rate=0.1, max_depth=5, n_estimators=400; total time=   5.4s\n",
      "[CV 8/8] END learning_rate=0.1, max_depth=5, n_estimators=400; total time=   6.2s\n",
      "[CV 1/8] END learning_rate=0.1, max_depth=5, n_estimators=500; total time=   1.1s\n",
      "[CV 2/8] END learning_rate=0.1, max_depth=5, n_estimators=500; total time=   2.1s\n",
      "[CV 3/8] END learning_rate=0.1, max_depth=5, n_estimators=500; total time=   3.0s\n",
      "[CV 4/8] END learning_rate=0.1, max_depth=5, n_estimators=500; total time=   3.8s\n",
      "[CV 5/8] END learning_rate=0.1, max_depth=5, n_estimators=500; total time=   4.8s\n",
      "[CV 6/8] END learning_rate=0.1, max_depth=5, n_estimators=500; total time=   5.7s\n",
      "[CV 7/8] END learning_rate=0.1, max_depth=5, n_estimators=500; total time=   6.7s\n",
      "[CV 8/8] END learning_rate=0.1, max_depth=5, n_estimators=500; total time=   7.5s\n",
      "[CV 1/8] END learning_rate=0.1, max_depth=6, n_estimators=300; total time=   0.8s\n",
      "[CV 2/8] END learning_rate=0.1, max_depth=6, n_estimators=300; total time=   1.5s\n",
      "[CV 3/8] END learning_rate=0.1, max_depth=6, n_estimators=300; total time=   2.1s\n",
      "[CV 4/8] END learning_rate=0.1, max_depth=6, n_estimators=300; total time=   2.8s\n",
      "[CV 5/8] END learning_rate=0.1, max_depth=6, n_estimators=300; total time=   3.5s\n",
      "[CV 6/8] END learning_rate=0.1, max_depth=6, n_estimators=300; total time=   4.1s\n",
      "[CV 7/8] END learning_rate=0.1, max_depth=6, n_estimators=300; total time=   4.7s\n",
      "[CV 8/8] END learning_rate=0.1, max_depth=6, n_estimators=300; total time=   6.0s\n",
      "[CV 1/8] END learning_rate=0.1, max_depth=6, n_estimators=400; total time=   1.0s\n",
      "[CV 2/8] END learning_rate=0.1, max_depth=6, n_estimators=400; total time=   1.9s\n",
      "[CV 3/8] END learning_rate=0.1, max_depth=6, n_estimators=400; total time=   2.9s\n",
      "[CV 4/8] END learning_rate=0.1, max_depth=6, n_estimators=400; total time=   3.7s\n",
      "[CV 5/8] END learning_rate=0.1, max_depth=6, n_estimators=400; total time=   4.6s\n",
      "[CV 6/8] END learning_rate=0.1, max_depth=6, n_estimators=400; total time=   5.7s\n",
      "[CV 7/8] END learning_rate=0.1, max_depth=6, n_estimators=400; total time=   6.4s\n",
      "[CV 8/8] END learning_rate=0.1, max_depth=6, n_estimators=400; total time=   7.2s\n",
      "[CV 1/8] END learning_rate=0.1, max_depth=6, n_estimators=500; total time=   1.3s\n",
      "[CV 2/8] END learning_rate=0.1, max_depth=6, n_estimators=500; total time=   2.4s\n",
      "[CV 3/8] END learning_rate=0.1, max_depth=6, n_estimators=500; total time=   3.5s\n",
      "[CV 4/8] END learning_rate=0.1, max_depth=6, n_estimators=500; total time=   4.6s\n",
      "[CV 5/8] END learning_rate=0.1, max_depth=6, n_estimators=500; total time=   5.8s\n",
      "[CV 6/8] END learning_rate=0.1, max_depth=6, n_estimators=500; total time=   7.0s\n",
      "[CV 7/8] END learning_rate=0.1, max_depth=6, n_estimators=500; total time=   8.2s\n",
      "[CV 8/8] END learning_rate=0.1, max_depth=6, n_estimators=500; total time=   9.3s\n",
      "[CV 1/8] END learning_rate=0.5, max_depth=4, n_estimators=300; total time=   0.6s\n",
      "[CV 2/8] END learning_rate=0.5, max_depth=4, n_estimators=300; total time=   1.1s\n",
      "[CV 3/8] END learning_rate=0.5, max_depth=4, n_estimators=300; total time=   1.5s\n",
      "[CV 4/8] END learning_rate=0.5, max_depth=4, n_estimators=300; total time=   1.9s\n",
      "[CV 5/8] END learning_rate=0.5, max_depth=4, n_estimators=300; total time=   2.4s\n",
      "[CV 6/8] END learning_rate=0.5, max_depth=4, n_estimators=300; total time=   2.9s\n",
      "[CV 7/8] END learning_rate=0.5, max_depth=4, n_estimators=300; total time=   3.4s\n",
      "[CV 8/8] END learning_rate=0.5, max_depth=4, n_estimators=300; total time=   3.7s\n",
      "[CV 1/8] END learning_rate=0.5, max_depth=4, n_estimators=400; total time=   0.7s\n",
      "[CV 2/8] END learning_rate=0.5, max_depth=4, n_estimators=400; total time=   1.4s\n",
      "[CV 3/8] END learning_rate=0.5, max_depth=4, n_estimators=400; total time=   1.9s\n",
      "[CV 4/8] END learning_rate=0.5, max_depth=4, n_estimators=400; total time=   2.5s\n",
      "[CV 5/8] END learning_rate=0.5, max_depth=4, n_estimators=400; total time=   3.2s\n",
      "[CV 6/8] END learning_rate=0.5, max_depth=4, n_estimators=400; total time=   3.9s\n",
      "[CV 7/8] END learning_rate=0.5, max_depth=4, n_estimators=400; total time=   4.3s\n",
      "[CV 8/8] END learning_rate=0.5, max_depth=4, n_estimators=400; total time=   5.4s\n",
      "[CV 1/8] END learning_rate=0.5, max_depth=4, n_estimators=500; total time=   1.2s\n",
      "[CV 2/8] END learning_rate=0.5, max_depth=4, n_estimators=500; total time=   1.7s\n",
      "[CV 3/8] END learning_rate=0.5, max_depth=4, n_estimators=500; total time=   2.4s\n",
      "[CV 4/8] END learning_rate=0.5, max_depth=4, n_estimators=500; total time=   3.2s\n",
      "[CV 5/8] END learning_rate=0.5, max_depth=4, n_estimators=500; total time=   4.0s\n",
      "[CV 6/8] END learning_rate=0.5, max_depth=4, n_estimators=500; total time=   4.7s\n",
      "[CV 7/8] END learning_rate=0.5, max_depth=4, n_estimators=500; total time=   5.4s\n",
      "[CV 8/8] END learning_rate=0.5, max_depth=4, n_estimators=500; total time=   6.3s\n",
      "[CV 1/8] END learning_rate=0.5, max_depth=5, n_estimators=300; total time=   0.7s\n",
      "[CV 2/8] END learning_rate=0.5, max_depth=5, n_estimators=300; total time=   1.3s\n",
      "[CV 3/8] END learning_rate=0.5, max_depth=5, n_estimators=300; total time=   1.8s\n",
      "[CV 4/8] END learning_rate=0.5, max_depth=5, n_estimators=300; total time=   2.4s\n",
      "[CV 5/8] END learning_rate=0.5, max_depth=5, n_estimators=300; total time=   3.0s\n",
      "[CV 6/8] END learning_rate=0.5, max_depth=5, n_estimators=300; total time=   3.5s\n",
      "[CV 7/8] END learning_rate=0.5, max_depth=5, n_estimators=300; total time=   4.1s\n",
      "[CV 8/8] END learning_rate=0.5, max_depth=5, n_estimators=300; total time=   4.6s\n",
      "[CV 1/8] END learning_rate=0.5, max_depth=5, n_estimators=400; total time=   0.9s\n",
      "[CV 2/8] END learning_rate=0.5, max_depth=5, n_estimators=400; total time=   1.6s\n",
      "[CV 3/8] END learning_rate=0.5, max_depth=5, n_estimators=400; total time=   2.4s\n",
      "[CV 4/8] END learning_rate=0.5, max_depth=5, n_estimators=400; total time=   3.1s\n",
      "[CV 5/8] END learning_rate=0.5, max_depth=5, n_estimators=400; total time=   3.9s\n",
      "[CV 6/8] END learning_rate=0.5, max_depth=5, n_estimators=400; total time=   4.6s\n",
      "[CV 7/8] END learning_rate=0.5, max_depth=5, n_estimators=400; total time=   5.4s\n",
      "[CV 8/8] END learning_rate=0.5, max_depth=5, n_estimators=400; total time=   6.1s\n",
      "[CV 1/8] END learning_rate=0.5, max_depth=5, n_estimators=500; total time=   1.1s\n",
      "[CV 2/8] END learning_rate=0.5, max_depth=5, n_estimators=500; total time=   2.0s\n",
      "[CV 3/8] END learning_rate=0.5, max_depth=5, n_estimators=500; total time=   3.0s\n",
      "[CV 4/8] END learning_rate=0.5, max_depth=5, n_estimators=500; total time=   4.0s\n",
      "[CV 5/8] END learning_rate=0.5, max_depth=5, n_estimators=500; total time=   4.8s\n",
      "[CV 6/8] END learning_rate=0.5, max_depth=5, n_estimators=500; total time=   5.7s\n",
      "[CV 7/8] END learning_rate=0.5, max_depth=5, n_estimators=500; total time=   6.9s\n",
      "[CV 8/8] END learning_rate=0.5, max_depth=5, n_estimators=500; total time=   7.9s\n",
      "[CV 1/8] END learning_rate=0.5, max_depth=6, n_estimators=300; total time=   0.8s\n",
      "[CV 2/8] END learning_rate=0.5, max_depth=6, n_estimators=300; total time=   1.5s\n",
      "[CV 3/8] END learning_rate=0.5, max_depth=6, n_estimators=300; total time=   2.4s\n",
      "[CV 4/8] END learning_rate=0.5, max_depth=6, n_estimators=300; total time=   3.2s\n",
      "[CV 5/8] END learning_rate=0.5, max_depth=6, n_estimators=300; total time=   3.4s\n",
      "[CV 6/8] END learning_rate=0.5, max_depth=6, n_estimators=300; total time=   4.2s\n",
      "[CV 7/8] END learning_rate=0.5, max_depth=6, n_estimators=300; total time=   4.7s\n",
      "[CV 8/8] END learning_rate=0.5, max_depth=6, n_estimators=300; total time=   5.6s\n",
      "[CV 1/8] END learning_rate=0.5, max_depth=6, n_estimators=400; total time=   1.1s\n",
      "[CV 2/8] END learning_rate=0.5, max_depth=6, n_estimators=400; total time=   2.0s\n",
      "[CV 3/8] END learning_rate=0.5, max_depth=6, n_estimators=400; total time=   2.9s\n",
      "[CV 4/8] END learning_rate=0.5, max_depth=6, n_estimators=400; total time=   3.9s\n",
      "[CV 5/8] END learning_rate=0.5, max_depth=6, n_estimators=400; total time=   4.7s\n",
      "[CV 6/8] END learning_rate=0.5, max_depth=6, n_estimators=400; total time=   5.5s\n",
      "[CV 7/8] END learning_rate=0.5, max_depth=6, n_estimators=400; total time=   6.4s\n",
      "[CV 8/8] END learning_rate=0.5, max_depth=6, n_estimators=400; total time=   7.3s\n",
      "[CV 1/8] END learning_rate=0.5, max_depth=6, n_estimators=500; total time=   1.0s\n",
      "[CV 2/8] END learning_rate=0.5, max_depth=6, n_estimators=500; total time=   2.4s\n",
      "[CV 3/8] END learning_rate=0.5, max_depth=6, n_estimators=500; total time=   3.7s\n",
      "[CV 4/8] END learning_rate=0.5, max_depth=6, n_estimators=500; total time=   4.6s\n",
      "[CV 5/8] END learning_rate=0.5, max_depth=6, n_estimators=500; total time=   5.8s\n",
      "[CV 6/8] END learning_rate=0.5, max_depth=6, n_estimators=500; total time=   6.9s\n",
      "[CV 7/8] END learning_rate=0.5, max_depth=6, n_estimators=500; total time=   8.0s\n",
      "[CV 8/8] END learning_rate=0.5, max_depth=6, n_estimators=500; total time=   9.3s\n",
      "GradientBoostingRegressor. Cross-val RMSE -> 30.32\n",
      "Time elapsed -> 773.34 с.\n"
     ]
    }
   ],
   "source": [
    "gbr_stime = time()\n",
    "\n",
    "gbr = GradientBoostingRegressor(random_state=STATE)\n",
    "\n",
    "gbr_params = {\n",
    "    'n_estimators' : [300, 400, 500], \n",
    "    'learning_rate' : [0.01, 0.1, 0.5], \n",
    "    'max_depth' : [4, 5, 6]}\n",
    "\n",
    "gbr_gs = GS_best_params(gbr, gbr_params, X_train, y_train)\n",
    "\n",
    "gbr = gbr_gs.best_estimator_\n",
    "\n",
    "gbr_rmse = round(gbr_gs.best_score_, 2)\n",
    "\n",
    "gbr_full_time = round(time() - gbr_stime, 2)\n",
    "\n",
    "\n",
    "print(f'GradientBoostingRegressor. Cross-val RMSE -> {gbr_rmse}\\n'\n",
    "      f'Time elapsed -> {gbr_full_time} с.')"
   ]
  },
  {
   "cell_type": "markdown",
   "id": "5cece52d",
   "metadata": {},
   "source": [
    "### <tt>CatBoostRegressor</tt>"
   ]
  },
  {
   "cell_type": "code",
   "execution_count": 20,
   "id": "4715206b",
   "metadata": {
    "scrolled": true
   },
   "outputs": [
    {
     "name": "stdout",
     "output_type": "stream",
     "text": [
      "Fitting 8 folds for each of 12 candidates, totalling 96 fits\n",
      "[CV 1/8] END ....depth=4, iterations=300, learning_rate=0.01; total time=   1.2s\n",
      "[CV 2/8] END ....depth=4, iterations=300, learning_rate=0.01; total time=   1.3s\n",
      "[CV 3/8] END ....depth=4, iterations=300, learning_rate=0.01; total time=   1.5s\n",
      "[CV 4/8] END ....depth=4, iterations=300, learning_rate=0.01; total time=   1.5s\n",
      "[CV 5/8] END ....depth=4, iterations=300, learning_rate=0.01; total time=   1.6s\n",
      "[CV 6/8] END ....depth=4, iterations=300, learning_rate=0.01; total time=   1.4s\n",
      "[CV 7/8] END ....depth=4, iterations=300, learning_rate=0.01; total time=   1.3s\n",
      "[CV 8/8] END ....depth=4, iterations=300, learning_rate=0.01; total time=   2.7s\n",
      "[CV 1/8] END .....depth=4, iterations=300, learning_rate=0.5; total time=   1.1s\n",
      "[CV 2/8] END .....depth=4, iterations=300, learning_rate=0.5; total time=   1.1s\n",
      "[CV 3/8] END .....depth=4, iterations=300, learning_rate=0.5; total time=   1.2s\n",
      "[CV 4/8] END .....depth=4, iterations=300, learning_rate=0.5; total time=   1.2s\n",
      "[CV 5/8] END .....depth=4, iterations=300, learning_rate=0.5; total time=   1.7s\n",
      "[CV 6/8] END .....depth=4, iterations=300, learning_rate=0.5; total time=   2.1s\n",
      "[CV 7/8] END .....depth=4, iterations=300, learning_rate=0.5; total time=   1.8s\n",
      "[CV 8/8] END .....depth=4, iterations=300, learning_rate=0.5; total time=   1.4s\n",
      "[CV 1/8] END ....depth=4, iterations=400, learning_rate=0.01; total time=   1.5s\n",
      "[CV 2/8] END ....depth=4, iterations=400, learning_rate=0.01; total time=   1.5s\n",
      "[CV 3/8] END ....depth=4, iterations=400, learning_rate=0.01; total time=   1.5s\n",
      "[CV 4/8] END ....depth=4, iterations=400, learning_rate=0.01; total time=   1.9s\n",
      "[CV 5/8] END ....depth=4, iterations=400, learning_rate=0.01; total time=   1.8s\n",
      "[CV 6/8] END ....depth=4, iterations=400, learning_rate=0.01; total time=   1.5s\n",
      "[CV 7/8] END ....depth=4, iterations=400, learning_rate=0.01; total time=   1.7s\n",
      "[CV 8/8] END ....depth=4, iterations=400, learning_rate=0.01; total time=   1.5s\n",
      "[CV 1/8] END .....depth=4, iterations=400, learning_rate=0.5; total time=   1.6s\n",
      "[CV 2/8] END .....depth=4, iterations=400, learning_rate=0.5; total time=   1.3s\n",
      "[CV 3/8] END .....depth=4, iterations=400, learning_rate=0.5; total time=   1.3s\n",
      "[CV 4/8] END .....depth=4, iterations=400, learning_rate=0.5; total time=   2.1s\n",
      "[CV 5/8] END .....depth=4, iterations=400, learning_rate=0.5; total time=   1.4s\n",
      "[CV 6/8] END .....depth=4, iterations=400, learning_rate=0.5; total time=   1.4s\n",
      "[CV 7/8] END .....depth=4, iterations=400, learning_rate=0.5; total time=   1.5s\n",
      "[CV 8/8] END .....depth=4, iterations=400, learning_rate=0.5; total time=   2.0s\n",
      "[CV 1/8] END ....depth=5, iterations=300, learning_rate=0.01; total time=   1.2s\n",
      "[CV 2/8] END ....depth=5, iterations=300, learning_rate=0.01; total time=   1.2s\n",
      "[CV 3/8] END ....depth=5, iterations=300, learning_rate=0.01; total time=   1.6s\n",
      "[CV 4/8] END ....depth=5, iterations=300, learning_rate=0.01; total time=   1.4s\n",
      "[CV 5/8] END ....depth=5, iterations=300, learning_rate=0.01; total time=   1.8s\n",
      "[CV 6/8] END ....depth=5, iterations=300, learning_rate=0.01; total time=   1.4s\n",
      "[CV 7/8] END ....depth=5, iterations=300, learning_rate=0.01; total time=   1.8s\n",
      "[CV 8/8] END ....depth=5, iterations=300, learning_rate=0.01; total time=   1.5s\n",
      "[CV 1/8] END .....depth=5, iterations=300, learning_rate=0.5; total time=   1.3s\n",
      "[CV 2/8] END .....depth=5, iterations=300, learning_rate=0.5; total time=   1.4s\n",
      "[CV 3/8] END .....depth=5, iterations=300, learning_rate=0.5; total time=   1.4s\n",
      "[CV 4/8] END .....depth=5, iterations=300, learning_rate=0.5; total time=   1.8s\n",
      "[CV 5/8] END .....depth=5, iterations=300, learning_rate=0.5; total time=   2.9s\n",
      "[CV 6/8] END .....depth=5, iterations=300, learning_rate=0.5; total time=   1.7s\n",
      "[CV 7/8] END .....depth=5, iterations=300, learning_rate=0.5; total time=   1.6s\n",
      "[CV 8/8] END .....depth=5, iterations=300, learning_rate=0.5; total time=   1.5s\n",
      "[CV 1/8] END ....depth=5, iterations=400, learning_rate=0.01; total time=   1.6s\n",
      "[CV 2/8] END ....depth=5, iterations=400, learning_rate=0.01; total time=   1.7s\n",
      "[CV 3/8] END ....depth=5, iterations=400, learning_rate=0.01; total time=   1.8s\n",
      "[CV 4/8] END ....depth=5, iterations=400, learning_rate=0.01; total time=   1.7s\n",
      "[CV 5/8] END ....depth=5, iterations=400, learning_rate=0.01; total time=   1.9s\n",
      "[CV 6/8] END ....depth=5, iterations=400, learning_rate=0.01; total time=   1.8s\n",
      "[CV 7/8] END ....depth=5, iterations=400, learning_rate=0.01; total time=   1.8s\n",
      "[CV 8/8] END ....depth=5, iterations=400, learning_rate=0.01; total time=   1.9s\n",
      "[CV 1/8] END .....depth=5, iterations=400, learning_rate=0.5; total time=   1.5s\n",
      "[CV 2/8] END .....depth=5, iterations=400, learning_rate=0.5; total time=   1.7s\n",
      "[CV 3/8] END .....depth=5, iterations=400, learning_rate=0.5; total time=   1.6s\n",
      "[CV 4/8] END .....depth=5, iterations=400, learning_rate=0.5; total time=   2.1s\n",
      "[CV 5/8] END .....depth=5, iterations=400, learning_rate=0.5; total time=   1.8s\n",
      "[CV 6/8] END .....depth=5, iterations=400, learning_rate=0.5; total time=   1.6s\n",
      "[CV 7/8] END .....depth=5, iterations=400, learning_rate=0.5; total time=   1.8s\n",
      "[CV 8/8] END .....depth=5, iterations=400, learning_rate=0.5; total time=   2.1s\n",
      "[CV 1/8] END ....depth=6, iterations=300, learning_rate=0.01; total time=   1.5s\n",
      "[CV 2/8] END ....depth=6, iterations=300, learning_rate=0.01; total time=   1.6s\n",
      "[CV 3/8] END ....depth=6, iterations=300, learning_rate=0.01; total time=   1.8s\n",
      "[CV 4/8] END ....depth=6, iterations=300, learning_rate=0.01; total time=   2.0s\n",
      "[CV 5/8] END ....depth=6, iterations=300, learning_rate=0.01; total time=   1.9s\n",
      "[CV 6/8] END ....depth=6, iterations=300, learning_rate=0.01; total time=   1.7s\n",
      "[CV 7/8] END ....depth=6, iterations=300, learning_rate=0.01; total time=   2.1s\n",
      "[CV 8/8] END ....depth=6, iterations=300, learning_rate=0.01; total time=   1.9s\n",
      "[CV 1/8] END .....depth=6, iterations=300, learning_rate=0.5; total time=   1.6s\n",
      "[CV 2/8] END .....depth=6, iterations=300, learning_rate=0.5; total time=   1.5s\n",
      "[CV 3/8] END .....depth=6, iterations=300, learning_rate=0.5; total time=   1.7s\n",
      "[CV 4/8] END .....depth=6, iterations=300, learning_rate=0.5; total time=   1.9s\n",
      "[CV 5/8] END .....depth=6, iterations=300, learning_rate=0.5; total time=   1.7s\n",
      "[CV 6/8] END .....depth=6, iterations=300, learning_rate=0.5; total time=   2.0s\n",
      "[CV 7/8] END .....depth=6, iterations=300, learning_rate=0.5; total time=   2.0s\n",
      "[CV 8/8] END .....depth=6, iterations=300, learning_rate=0.5; total time=   1.9s\n",
      "[CV 1/8] END ....depth=6, iterations=400, learning_rate=0.01; total time=   1.8s\n",
      "[CV 2/8] END ....depth=6, iterations=400, learning_rate=0.01; total time=   1.8s\n",
      "[CV 3/8] END ....depth=6, iterations=400, learning_rate=0.01; total time=   2.2s\n",
      "[CV 4/8] END ....depth=6, iterations=400, learning_rate=0.01; total time=   2.6s\n",
      "[CV 5/8] END ....depth=6, iterations=400, learning_rate=0.01; total time=   2.1s\n",
      "[CV 6/8] END ....depth=6, iterations=400, learning_rate=0.01; total time=   2.1s\n",
      "[CV 7/8] END ....depth=6, iterations=400, learning_rate=0.01; total time=   2.3s\n",
      "[CV 8/8] END ....depth=6, iterations=400, learning_rate=0.01; total time=   2.3s\n",
      "[CV 1/8] END .....depth=6, iterations=400, learning_rate=0.5; total time=   1.8s\n",
      "[CV 2/8] END .....depth=6, iterations=400, learning_rate=0.5; total time=   1.9s\n",
      "[CV 3/8] END .....depth=6, iterations=400, learning_rate=0.5; total time=   2.2s\n",
      "[CV 4/8] END .....depth=6, iterations=400, learning_rate=0.5; total time=   2.1s\n",
      "[CV 5/8] END .....depth=6, iterations=400, learning_rate=0.5; total time=   2.2s\n",
      "[CV 6/8] END .....depth=6, iterations=400, learning_rate=0.5; total time=   2.1s\n",
      "[CV 7/8] END .....depth=6, iterations=400, learning_rate=0.5; total time=   2.1s\n",
      "[CV 8/8] END .....depth=6, iterations=400, learning_rate=0.5; total time=   2.2s\n",
      "CatBoostRegressor. Cross-val RMSE -> 28.04\n",
      "Time elapsed -> 167.32 с.\n"
     ]
    }
   ],
   "source": [
    "cbr_stime = time()\n",
    "\n",
    "cbr = CatBoostRegressor(verbose=False, random_seed=42)\n",
    "\n",
    "cbr_params = {\n",
    "    'iterations': [300, 400],\n",
    "    'learning_rate': [0.01, 0.5],\n",
    "    'depth' : [4, 5, 6]\n",
    "}\n",
    "\n",
    "cbr_gs = GS_best_params(cbr, cbr_params, X_train, y_train)\n",
    "\n",
    "cbr = cbr_gs.best_estimator_\n",
    "\n",
    "cbr_rmse = round(cbr_gs.best_score_, 2)\n",
    "\n",
    "cbr_full_time = round(time() - cbr_stime, 2)\n",
    "\n",
    "print(f'CatBoostRegressor. Cross-val RMSE -> {cbr_rmse}\\n'\n",
    "      f'Time elapsed -> {cbr_full_time} с.')"
   ]
  },
  {
   "cell_type": "markdown",
   "id": "a10a1c25",
   "metadata": {},
   "source": [
    "### Промежуточные результаты обучения моделей"
   ]
  },
  {
   "cell_type": "code",
   "execution_count": 21,
   "id": "8756a0a2",
   "metadata": {
    "scrolled": false
   },
   "outputs": [
    {
     "data": {
      "text/html": [
       "<div>\n",
       "<style scoped>\n",
       "    .dataframe tbody tr th:only-of-type {\n",
       "        vertical-align: middle;\n",
       "    }\n",
       "\n",
       "    .dataframe tbody tr th {\n",
       "        vertical-align: top;\n",
       "    }\n",
       "\n",
       "    .dataframe thead th {\n",
       "        text-align: right;\n",
       "    }\n",
       "</style>\n",
       "<table border=\"1\" class=\"dataframe\">\n",
       "  <thead>\n",
       "    <tr style=\"text-align: right;\">\n",
       "      <th></th>\n",
       "      <th>Model</th>\n",
       "      <th>Cross-val RMSE</th>\n",
       "      <th>Time elapsed</th>\n",
       "    </tr>\n",
       "  </thead>\n",
       "  <tbody>\n",
       "    <tr>\n",
       "      <th>0</th>\n",
       "      <td>LinearRegression</td>\n",
       "      <td>26.86</td>\n",
       "      <td>0.25</td>\n",
       "    </tr>\n",
       "    <tr>\n",
       "      <th>2</th>\n",
       "      <td>CatBoostRegressor</td>\n",
       "      <td>28.04</td>\n",
       "      <td>167.32</td>\n",
       "    </tr>\n",
       "    <tr>\n",
       "      <th>1</th>\n",
       "      <td>GradientBoostingRegressor</td>\n",
       "      <td>30.32</td>\n",
       "      <td>773.34</td>\n",
       "    </tr>\n",
       "  </tbody>\n",
       "</table>\n",
       "</div>"
      ],
      "text/plain": [
       "                       Model  Cross-val RMSE  Time elapsed\n",
       "0           LinearRegression           26.86          0.25\n",
       "2          CatBoostRegressor           28.04        167.32\n",
       "1  GradientBoostingRegressor           30.32        773.34"
      ]
     },
     "execution_count": 21,
     "metadata": {},
     "output_type": "execute_result"
    }
   ],
   "source": [
    "models_results = pd.DataFrame(\n",
    "    {'Model': [\n",
    "        'LinearRegression',\n",
    "        'GradientBoostingRegressor',\n",
    "        'CatBoostRegressor'],\n",
    "\n",
    "     'Cross-val RMSE': [\n",
    "         lr_rmse,\n",
    "         gbr_rmse,\n",
    "         cbr_rmse],\n",
    "\n",
    "     'Time elapsed': [\n",
    "         lr_full_time,\n",
    "         gbr_full_time,\n",
    "         cbr_full_time]\n",
    "     }\n",
    ")\n",
    "\n",
    "models_results = models_results.sort_values(\n",
    "    by='Cross-val RMSE', ascending=True)\n",
    "models_results"
   ]
  },
  {
   "cell_type": "markdown",
   "id": "9055a583",
   "metadata": {},
   "source": [
    "<div style=\"border: 3px solid rgb(0,0,0); padding: 20px\">\n",
    "\n",
    "### Итого\n",
    "    \n",
    "Задачи по минимизации времени обучения модели нет, но если взять его в учет к тому, какое значение <tt>RMSE</tt> было получено в ходе кросс-валидации, то безоговорочную победу одерживает <tt>LinearRegresion</tt> (что довольно удивительно!)\n",
    "    \n",
    "Итого, для тестирования выбрали модель:   \n",
    "    \n",
    "<clear></clear>\n",
    "    \n",
    "<center><tt><code>LinearRegression()</code></tt></center>\n",
    "    \n",
    "    \n",
    "</div>"
   ]
  },
  {
   "cell_type": "markdown",
   "id": "26372bb7",
   "metadata": {},
   "source": [
    "## Тестирование модели 💯"
   ]
  },
  {
   "cell_type": "markdown",
   "id": "a76e3eeb",
   "metadata": {},
   "source": [
    "### Test RMSE"
   ]
  },
  {
   "cell_type": "code",
   "execution_count": 25,
   "id": "5fe5a6df",
   "metadata": {},
   "outputs": [
    {
     "name": "stdout",
     "output_type": "stream",
     "text": [
      "Model: LinearRegression()\n",
      "Test RMSE: 46.81\n"
     ]
    }
   ],
   "source": [
    "model = lr\n",
    "gs = None\n",
    "\n",
    "if gs is not None and type(gs) is GridSearchCV:\n",
    "    model_params = ', '.join(\n",
    "        '='.join([str(key), str(val)]) for key, val in gs.best_params_.items())\n",
    "\n",
    "model_preds = model.predict(X_test)\n",
    "\n",
    "model_test_rmse = mean_squared_error(y_test, model_preds, squared=False)\n",
    "\n",
    "if gs is not None and type(gs) is GridSearchCV:\n",
    "    print(f'Model: {model}\\n'\n",
    "          f'Params: {model_params}\\n'\n",
    "          f'Test RMSE: {round(model_test_rmse, 2)}')\n",
    "else:\n",
    "    print(f'Model: {str(model)}\\n'\n",
    "          f'Test RMSE: {round(model_test_rmse, 2)}')"
   ]
  },
  {
   "cell_type": "markdown",
   "id": "7546b928",
   "metadata": {},
   "source": [
    "Значение <tt>RMSE</tt> удовлетворяет минимально допустимому порогу в <tt>48</tt>, поэтому модель можно использовать.\n",
    "\n",
    "Взглянем на визуализацию того, что же наша модель такого напредсказывала)"
   ]
  },
  {
   "cell_type": "code",
   "execution_count": 3,
   "id": "fe145137",
   "metadata": {},
   "outputs": [],
   "source": [
    "fig = go.Figure(\n",
    "    [\n",
    "        go.Scatter(x=y_test.index, y=y_test, name='Real values'),\n",
    "        go.Scatter(x=X_test.index, y=model_preds,\n",
    "                   name='GradientBoostingRegressor predictions'),\n",
    "    ]\n",
    ")\n",
    "\n",
    "fig.update_layout(title='Model preds vs Real values comparison',\n",
    "                  legend_title='Legend')\n",
    "\n",
    "fig.show()"
   ]
  },
  {
   "cell_type": "markdown",
   "id": "0e10f3c0",
   "metadata": {},
   "source": [
    "<img src='https://i.ibb.co/Y3Py38v/newplot-2.png'>"
   ]
  },
  {
   "cell_type": "markdown",
   "id": "fa10ef00",
   "metadata": {},
   "source": [
    "В общем-то наша модель учла то, что такси чаще всего заказывают именно после полуночи, либо в вечернее время.\n",
    "\n",
    "Как видно, некоторые пиковые по количеству заказов периоды модель обрабатывает чуть занижая количество требуемых автомобилей, но все же это лучше, чем модель завышала бы это количество по вполне очевидным причинам.\n",
    "\n",
    "Результат не идеальный, но под требования заказчика попадает (к тому же, работает она очень быстро). Следовательно, модель можно использовать, в чем мы убежадаемся во второй раз после визуального подтверждения требуемого качества модели."
   ]
  },
  {
   "cell_type": "markdown",
   "id": "722b8662",
   "metadata": {},
   "source": [
    "### Проверка на адекватность"
   ]
  },
  {
   "cell_type": "code",
   "execution_count": 27,
   "id": "78ddce3e",
   "metadata": {},
   "outputs": [
    {
     "name": "stdout",
     "output_type": "stream",
     "text": [
      "✅ Модель адекватна. Dummy Test RMSE -> 84.65\n"
     ]
    }
   ],
   "source": [
    "dr = DummyRegressor(strategy='mean')\n",
    "\n",
    "dr.fit(X_train, y_train)\n",
    "dr_test_preds = dr.predict(X_test)\n",
    "\n",
    "dr_test_rmse = mean_squared_error(y_test, dr_test_preds, squared=False)\n",
    "\n",
    "if dr_test_rmse > model_test_rmse:\n",
    "    print(f'✅ Модель адекватна. Dummy Test RMSE -> {round(dr_test_rmse, 2)}')\n",
    "else:\n",
    "    print(f'❌ Модель не прошла проверку на адекватность')"
   ]
  },
  {
   "cell_type": "markdown",
   "id": "ba6b2dae",
   "metadata": {},
   "source": [
    "<div style=\"border: 3px solid rgb(0,0,0); padding: 20px\">\n",
    "\n",
    "### Итого\n",
    "    \n",
    "Была выбрана модель <tt>LinearRegression()</tt>.\n",
    "    \n",
    "Модель прошла проверку на адекватность.\n",
    "   \n",
    "<clear></clear>\n",
    "    \n",
    "<div style=\"border: 3px solid rgb(255, 119, 119); padding: 20px\">\n",
    "<center><b>Значение RMSE на тестовой выборке составило - <tt>46.81</tt></b></center>\n",
    "</div>\n",
    "    \n",
    "</div>"
   ]
  },
  {
   "cell_type": "markdown",
   "id": "603d563b",
   "metadata": {},
   "source": [
    "## Общий вывод 👀"
   ]
  },
  {
   "cell_type": "markdown",
   "id": "f1d8746f",
   "metadata": {},
   "source": [
    "<div style=\"border: 3px solid rgb(119,212,150); padding: 20px\">\n",
    "    \n",
    "Для компании с беспрецедентно крутым названием \"Чётенькое такси\" была разработана модель машинного обучения для предсказания количества заказов автомобилей на следующий час. В техническом задании было указано, что требуется получить модель, которая на тестовой выборке покажет значение метрики <tt>RMSE</tt> менее <tt>48</tt>. Такую модель мы получили.\n",
    "    \n",
    "### Краткая сводка по выполненным задачам\n",
    "    \n",
    "    \n",
    "#### Шаг 1. Обзор и предобработка данных\n",
    "    \n",
    "- Импортированы необходимые библиотеки;\n",
    "- Данные загружены и прочитаны, предусмотрены альтернативные способы получения исходных данных;\n",
    "- Оценена информация о данных;\n",
    "- Выполнен ресемплинг данных;\n",
    "- Добавлены дополнительные признаки;\n",
    "    \n",
    "#### Шаг 2. Анализ данных\n",
    "    \n",
    "- Рассмотрены и проанализированы временные зависимости в данных;\n",
    "- Исследованы: скользящее среднее, скользящее стандартное отклонение и тренд роста количества заказов такси;\n",
    "- Изучены присутствующие в данных тренд и сезонность;\n",
    "    \n",
    "#### Шаг 3. Обучение моделей\n",
    "    \n",
    "- Данные разделены на тренировочную и тестовую выборки. Соотношение 90:10 соответственно;\n",
    "- Признаки отмасштабированы;\n",
    "\n",
    "<center>Итоговая сводная таблица с результатами обучения моделей</center>\n",
    "    \n",
    "| Модель                    | Значение RMSE на кросс-валидации/GridSearchCV | Затраченное время (сек.) |\n",
    "|---------------------------|-----------------------------------------------|--------------------------|\n",
    "| LinearRegression          | 26.86                                         | 5.83                     |\n",
    "| CatBoostRegressor         | 28.04                                         | 167.32                   |\n",
    "| GradientBoostingRegressor | 30.32                                         | 773.34                   |\n",
    "    \n",
    "    \n",
    "Была выбрана модель <tt>LinearRegression()</tt>\n",
    "    \n",
    "#### Шаг 4. Тестирование модели\n",
    "\n",
    "- Модель была протестирована на тестовом наборе данных. Значение <tt>RMSE</tt> - <tt>46.81</tt>.\n",
    "</div>"
   ]
  }
 ],
 "metadata": {
  "ExecuteTimeLog": [
   {
    "duration": 3558,
    "start_time": "2023-07-11T18:06:48.767Z"
   },
   {
    "duration": 2196,
    "start_time": "2023-07-11T18:06:52.328Z"
   },
   {
    "duration": 100,
    "start_time": "2023-07-11T18:06:54.527Z"
   },
   {
    "duration": 15,
    "start_time": "2023-07-11T18:06:54.630Z"
   },
   {
    "duration": 512,
    "start_time": "2023-07-11T18:06:54.647Z"
   },
   {
    "duration": 6,
    "start_time": "2023-07-11T18:06:55.161Z"
   },
   {
    "duration": 32,
    "start_time": "2023-07-11T18:06:55.170Z"
   },
   {
    "duration": 127,
    "start_time": "2023-07-11T18:06:55.205Z"
   },
   {
    "duration": 69,
    "start_time": "2023-07-11T18:06:55.335Z"
   },
   {
    "duration": 70,
    "start_time": "2023-07-11T18:06:55.408Z"
   },
   {
    "duration": 2695,
    "start_time": "2023-07-11T18:06:55.480Z"
   },
   {
    "duration": 1415,
    "start_time": "2023-07-11T18:06:58.178Z"
   },
   {
    "duration": 0,
    "start_time": "2023-07-11T18:06:59.596Z"
   },
   {
    "duration": 0,
    "start_time": "2023-07-11T18:06:59.597Z"
   },
   {
    "duration": 0,
    "start_time": "2023-07-11T18:06:59.598Z"
   },
   {
    "duration": 0,
    "start_time": "2023-07-11T18:06:59.600Z"
   },
   {
    "duration": 0,
    "start_time": "2023-07-11T18:06:59.602Z"
   },
   {
    "duration": 0,
    "start_time": "2023-07-11T18:06:59.603Z"
   },
   {
    "duration": 1,
    "start_time": "2023-07-11T18:06:59.613Z"
   },
   {
    "duration": 0,
    "start_time": "2023-07-11T18:06:59.615Z"
   },
   {
    "duration": 0,
    "start_time": "2023-07-11T18:06:59.617Z"
   },
   {
    "duration": 0,
    "start_time": "2023-07-11T18:06:59.618Z"
   },
   {
    "duration": 0,
    "start_time": "2023-07-11T18:06:59.620Z"
   },
   {
    "duration": 0,
    "start_time": "2023-07-11T18:06:59.622Z"
   },
   {
    "duration": 1664,
    "start_time": "2023-07-11T18:07:45.285Z"
   },
   {
    "duration": 3036,
    "start_time": "2023-07-11T18:07:55.411Z"
   },
   {
    "duration": 2244,
    "start_time": "2023-07-11T18:07:58.451Z"
   },
   {
    "duration": 153,
    "start_time": "2023-07-11T18:08:00.698Z"
   },
   {
    "duration": 17,
    "start_time": "2023-07-11T18:08:00.855Z"
   },
   {
    "duration": 605,
    "start_time": "2023-07-11T18:08:00.875Z"
   },
   {
    "duration": 6,
    "start_time": "2023-07-11T18:08:01.483Z"
   },
   {
    "duration": 132,
    "start_time": "2023-07-11T18:08:01.491Z"
   },
   {
    "duration": 122,
    "start_time": "2023-07-11T18:08:01.626Z"
   },
   {
    "duration": 103,
    "start_time": "2023-07-11T18:08:01.755Z"
   },
   {
    "duration": 57,
    "start_time": "2023-07-11T18:08:01.862Z"
   },
   {
    "duration": 2322,
    "start_time": "2023-07-11T18:08:01.921Z"
   },
   {
    "duration": 1243,
    "start_time": "2023-07-11T18:08:04.246Z"
   },
   {
    "duration": 809,
    "start_time": "2023-07-11T18:08:05.491Z"
   },
   {
    "duration": 398,
    "start_time": "2023-07-11T18:08:06.303Z"
   },
   {
    "duration": 18,
    "start_time": "2023-07-11T18:08:06.704Z"
   },
   {
    "duration": 47,
    "start_time": "2023-07-11T18:08:06.753Z"
   },
   {
    "duration": 3,
    "start_time": "2023-07-11T18:08:06.802Z"
   },
   {
    "duration": 77,
    "start_time": "2023-07-11T18:08:06.807Z"
   },
   {
    "duration": 5,
    "start_time": "2023-07-11T18:08:06.955Z"
   },
   {
    "duration": 155699,
    "start_time": "2023-07-11T18:08:06.965Z"
   },
   {
    "duration": 244533,
    "start_time": "2023-07-11T18:10:42.666Z"
   },
   {
    "duration": 0,
    "start_time": "2023-07-11T18:14:47.207Z"
   },
   {
    "duration": 0,
    "start_time": "2023-07-11T18:14:47.210Z"
   },
   {
    "duration": 0,
    "start_time": "2023-07-11T18:14:47.212Z"
   },
   {
    "duration": 26024,
    "start_time": "2023-07-11T18:15:17.182Z"
   },
   {
    "duration": 119129,
    "start_time": "2023-07-11T18:15:50.650Z"
   },
   {
    "duration": 2783,
    "start_time": "2023-07-11T18:17:53.796Z"
   },
   {
    "duration": 2513,
    "start_time": "2023-07-11T18:17:56.585Z"
   },
   {
    "duration": 143,
    "start_time": "2023-07-11T18:17:59.100Z"
   },
   {
    "duration": 21,
    "start_time": "2023-07-11T18:17:59.246Z"
   },
   {
    "duration": 423,
    "start_time": "2023-07-11T18:17:59.270Z"
   },
   {
    "duration": 4,
    "start_time": "2023-07-11T18:17:59.695Z"
   },
   {
    "duration": 32,
    "start_time": "2023-07-11T18:17:59.701Z"
   },
   {
    "duration": 104,
    "start_time": "2023-07-11T18:17:59.735Z"
   },
   {
    "duration": 76,
    "start_time": "2023-07-11T18:17:59.841Z"
   },
   {
    "duration": 66,
    "start_time": "2023-07-11T18:17:59.920Z"
   },
   {
    "duration": 2318,
    "start_time": "2023-07-11T18:17:59.989Z"
   },
   {
    "duration": 1338,
    "start_time": "2023-07-11T18:18:02.310Z"
   },
   {
    "duration": 744,
    "start_time": "2023-07-11T18:18:03.655Z"
   },
   {
    "duration": 292,
    "start_time": "2023-07-11T18:18:04.401Z"
   },
   {
    "duration": 13,
    "start_time": "2023-07-11T18:18:04.695Z"
   },
   {
    "duration": 71,
    "start_time": "2023-07-11T18:18:04.710Z"
   },
   {
    "duration": 4,
    "start_time": "2023-07-11T18:18:04.783Z"
   },
   {
    "duration": 79,
    "start_time": "2023-07-11T18:18:04.790Z"
   },
   {
    "duration": 5,
    "start_time": "2023-07-11T18:18:04.871Z"
   },
   {
    "duration": 158394,
    "start_time": "2023-07-11T18:18:04.878Z"
   },
   {
    "duration": 1525061,
    "start_time": "2023-07-11T18:20:43.286Z"
   },
   {
    "duration": 0,
    "start_time": "2023-07-11T18:46:08.349Z"
   },
   {
    "duration": 0,
    "start_time": "2023-07-11T18:46:08.351Z"
   },
   {
    "duration": 0,
    "start_time": "2023-07-11T18:46:08.352Z"
   },
   {
    "duration": 3016,
    "start_time": "2023-07-11T18:46:54.732Z"
   },
   {
    "duration": 2014,
    "start_time": "2023-07-11T18:46:57.751Z"
   },
   {
    "duration": 217,
    "start_time": "2023-07-11T18:46:59.774Z"
   },
   {
    "duration": 12,
    "start_time": "2023-07-11T18:46:59.993Z"
   },
   {
    "duration": 395,
    "start_time": "2023-07-11T18:47:00.007Z"
   },
   {
    "duration": 6,
    "start_time": "2023-07-11T18:47:00.405Z"
   },
   {
    "duration": 39,
    "start_time": "2023-07-11T18:47:00.412Z"
   },
   {
    "duration": 107,
    "start_time": "2023-07-11T18:47:00.453Z"
   },
   {
    "duration": 75,
    "start_time": "2023-07-11T18:47:00.562Z"
   },
   {
    "duration": 50,
    "start_time": "2023-07-11T18:47:00.641Z"
   },
   {
    "duration": 2330,
    "start_time": "2023-07-11T18:47:00.693Z"
   },
   {
    "duration": 1265,
    "start_time": "2023-07-11T18:47:03.025Z"
   },
   {
    "duration": 702,
    "start_time": "2023-07-11T18:47:04.292Z"
   },
   {
    "duration": 279,
    "start_time": "2023-07-11T18:47:04.996Z"
   },
   {
    "duration": 21,
    "start_time": "2023-07-11T18:47:05.277Z"
   },
   {
    "duration": 75,
    "start_time": "2023-07-11T18:47:05.299Z"
   },
   {
    "duration": 6,
    "start_time": "2023-07-11T18:47:05.380Z"
   },
   {
    "duration": 95,
    "start_time": "2023-07-11T18:47:05.388Z"
   },
   {
    "duration": 6,
    "start_time": "2023-07-11T18:47:05.485Z"
   },
   {
    "duration": 152807,
    "start_time": "2023-07-11T18:47:05.495Z"
   },
   {
    "duration": 308573,
    "start_time": "2023-07-11T18:49:38.304Z"
   },
   {
    "duration": 154,
    "start_time": "2023-07-11T18:54:46.879Z"
   },
   {
    "duration": 0,
    "start_time": "2023-07-11T18:54:47.035Z"
   },
   {
    "duration": 13,
    "start_time": "2023-07-11T19:01:48.542Z"
   },
   {
    "duration": 11,
    "start_time": "2023-07-11T19:02:03.422Z"
   },
   {
    "duration": 23,
    "start_time": "2023-07-11T19:05:47.070Z"
   },
   {
    "duration": 12,
    "start_time": "2023-07-11T19:06:10.486Z"
   },
   {
    "duration": 15,
    "start_time": "2023-07-11T19:06:17.051Z"
   },
   {
    "duration": 6,
    "start_time": "2023-07-11T19:07:00.842Z"
   },
   {
    "duration": 2501,
    "start_time": "2023-07-11T19:11:11.946Z"
   },
   {
    "duration": 1729,
    "start_time": "2023-07-11T19:11:14.449Z"
   },
   {
    "duration": 154,
    "start_time": "2023-07-11T19:11:16.181Z"
   },
   {
    "duration": 10,
    "start_time": "2023-07-11T19:11:16.337Z"
   },
   {
    "duration": 370,
    "start_time": "2023-07-11T19:11:16.349Z"
   },
   {
    "duration": 4,
    "start_time": "2023-07-11T19:11:16.721Z"
   },
   {
    "duration": 38,
    "start_time": "2023-07-11T19:11:16.727Z"
   },
   {
    "duration": 12,
    "start_time": "2023-07-11T19:11:16.771Z"
   },
   {
    "duration": 36,
    "start_time": "2023-07-11T19:11:16.785Z"
   },
   {
    "duration": 66,
    "start_time": "2023-07-11T19:11:16.823Z"
   },
   {
    "duration": 2378,
    "start_time": "2023-07-11T19:11:16.891Z"
   },
   {
    "duration": 1277,
    "start_time": "2023-07-11T19:11:19.271Z"
   },
   {
    "duration": 861,
    "start_time": "2023-07-11T19:11:20.550Z"
   },
   {
    "duration": 329,
    "start_time": "2023-07-11T19:11:21.414Z"
   },
   {
    "duration": 18,
    "start_time": "2023-07-11T19:11:21.745Z"
   },
   {
    "duration": 53,
    "start_time": "2023-07-11T19:11:21.768Z"
   },
   {
    "duration": 35,
    "start_time": "2023-07-11T19:11:21.824Z"
   },
   {
    "duration": 49,
    "start_time": "2023-07-11T19:11:21.867Z"
   },
   {
    "duration": 7,
    "start_time": "2023-07-11T19:11:21.958Z"
   },
   {
    "duration": 149548,
    "start_time": "2023-07-11T19:11:21.970Z"
   },
   {
    "duration": 305971,
    "start_time": "2023-07-11T19:13:51.520Z"
   },
   {
    "duration": 16,
    "start_time": "2023-07-11T19:18:57.494Z"
   },
   {
    "duration": 14,
    "start_time": "2023-07-11T19:18:57.512Z"
   },
   {
    "duration": 8,
    "start_time": "2023-07-11T19:18:57.528Z"
   },
   {
    "duration": 1831,
    "start_time": "2023-07-12T08:59:02.034Z"
   },
   {
    "duration": 202,
    "start_time": "2023-07-12T08:59:03.868Z"
   },
   {
    "duration": 11,
    "start_time": "2023-07-12T08:59:04.071Z"
   },
   {
    "duration": 317,
    "start_time": "2023-07-12T08:59:04.085Z"
   },
   {
    "duration": 5,
    "start_time": "2023-07-12T08:59:04.403Z"
   },
   {
    "duration": 30,
    "start_time": "2023-07-12T08:59:04.409Z"
   },
   {
    "duration": 8,
    "start_time": "2023-07-12T08:59:04.441Z"
   },
   {
    "duration": 58,
    "start_time": "2023-07-12T08:59:04.451Z"
   },
   {
    "duration": 36,
    "start_time": "2023-07-12T08:59:04.511Z"
   },
   {
    "duration": 2034,
    "start_time": "2023-07-12T08:59:04.553Z"
   },
   {
    "duration": 139,
    "start_time": "2023-07-12T08:59:06.589Z"
   },
   {
    "duration": 0,
    "start_time": "2023-07-12T08:59:06.730Z"
   },
   {
    "duration": 0,
    "start_time": "2023-07-12T08:59:06.731Z"
   },
   {
    "duration": 0,
    "start_time": "2023-07-12T08:59:06.733Z"
   },
   {
    "duration": 0,
    "start_time": "2023-07-12T08:59:06.734Z"
   },
   {
    "duration": 0,
    "start_time": "2023-07-12T08:59:06.736Z"
   },
   {
    "duration": 0,
    "start_time": "2023-07-12T08:59:06.751Z"
   },
   {
    "duration": 0,
    "start_time": "2023-07-12T08:59:06.752Z"
   },
   {
    "duration": 0,
    "start_time": "2023-07-12T08:59:06.753Z"
   },
   {
    "duration": 0,
    "start_time": "2023-07-12T08:59:06.754Z"
   },
   {
    "duration": 0,
    "start_time": "2023-07-12T08:59:06.754Z"
   },
   {
    "duration": 0,
    "start_time": "2023-07-12T08:59:06.758Z"
   },
   {
    "duration": 0,
    "start_time": "2023-07-12T08:59:06.759Z"
   },
   {
    "duration": 0,
    "start_time": "2023-07-12T08:59:06.760Z"
   },
   {
    "duration": 1745,
    "start_time": "2023-07-12T09:15:27.452Z"
   },
   {
    "duration": 120,
    "start_time": "2023-07-12T09:15:29.199Z"
   },
   {
    "duration": 14,
    "start_time": "2023-07-12T09:15:29.320Z"
   },
   {
    "duration": 351,
    "start_time": "2023-07-12T09:15:29.337Z"
   },
   {
    "duration": 5,
    "start_time": "2023-07-12T09:15:29.689Z"
   },
   {
    "duration": 15,
    "start_time": "2023-07-12T09:15:29.696Z"
   },
   {
    "duration": 7,
    "start_time": "2023-07-12T09:15:29.713Z"
   },
   {
    "duration": 70,
    "start_time": "2023-07-12T09:15:29.721Z"
   },
   {
    "duration": 35,
    "start_time": "2023-07-12T09:15:29.793Z"
   },
   {
    "duration": 3500,
    "start_time": "2023-07-12T09:15:29.831Z"
   },
   {
    "duration": 1112,
    "start_time": "2023-07-12T09:15:33.333Z"
   },
   {
    "duration": 672,
    "start_time": "2023-07-12T09:15:34.447Z"
   },
   {
    "duration": 122,
    "start_time": "2023-07-12T09:15:35.121Z"
   },
   {
    "duration": 0,
    "start_time": "2023-07-12T09:15:35.246Z"
   },
   {
    "duration": 0,
    "start_time": "2023-07-12T09:15:35.247Z"
   },
   {
    "duration": 0,
    "start_time": "2023-07-12T09:15:35.248Z"
   },
   {
    "duration": 0,
    "start_time": "2023-07-12T09:15:35.250Z"
   },
   {
    "duration": 0,
    "start_time": "2023-07-12T09:15:35.251Z"
   },
   {
    "duration": 0,
    "start_time": "2023-07-12T09:15:35.253Z"
   },
   {
    "duration": 0,
    "start_time": "2023-07-12T09:15:35.254Z"
   },
   {
    "duration": 0,
    "start_time": "2023-07-12T09:15:35.255Z"
   },
   {
    "duration": 0,
    "start_time": "2023-07-12T09:15:35.256Z"
   },
   {
    "duration": 0,
    "start_time": "2023-07-12T09:15:35.257Z"
   },
   {
    "duration": 0,
    "start_time": "2023-07-12T09:15:35.258Z"
   },
   {
    "duration": 770,
    "start_time": "2023-07-12T09:16:01.729Z"
   },
   {
    "duration": 674,
    "start_time": "2023-07-12T09:17:17.878Z"
   },
   {
    "duration": 146,
    "start_time": "2023-07-12T09:30:22.787Z"
   },
   {
    "duration": 1666,
    "start_time": "2023-07-12T09:30:50.254Z"
   },
   {
    "duration": 98,
    "start_time": "2023-07-12T09:30:51.922Z"
   },
   {
    "duration": 26,
    "start_time": "2023-07-12T09:30:52.022Z"
   },
   {
    "duration": 372,
    "start_time": "2023-07-12T09:30:52.051Z"
   },
   {
    "duration": 6,
    "start_time": "2023-07-12T09:30:52.425Z"
   },
   {
    "duration": 50,
    "start_time": "2023-07-12T09:30:52.432Z"
   },
   {
    "duration": 9,
    "start_time": "2023-07-12T09:30:52.483Z"
   },
   {
    "duration": 40,
    "start_time": "2023-07-12T09:30:52.493Z"
   },
   {
    "duration": 43,
    "start_time": "2023-07-12T09:30:52.535Z"
   },
   {
    "duration": 1962,
    "start_time": "2023-07-12T09:30:52.581Z"
   },
   {
    "duration": 1168,
    "start_time": "2023-07-12T09:30:54.545Z"
   },
   {
    "duration": 648,
    "start_time": "2023-07-12T09:30:55.715Z"
   },
   {
    "duration": 612,
    "start_time": "2023-07-12T09:30:56.365Z"
   },
   {
    "duration": 13,
    "start_time": "2023-07-12T09:30:56.979Z"
   },
   {
    "duration": 83,
    "start_time": "2023-07-12T09:30:56.994Z"
   },
   {
    "duration": 3,
    "start_time": "2023-07-12T09:30:57.079Z"
   },
   {
    "duration": 98,
    "start_time": "2023-07-12T09:30:57.084Z"
   },
   {
    "duration": 84,
    "start_time": "2023-07-12T09:30:57.184Z"
   },
   {
    "duration": 138321,
    "start_time": "2023-07-12T09:30:57.276Z"
   },
   {
    "duration": 459258,
    "start_time": "2023-07-12T09:33:15.599Z"
   },
   {
    "duration": 12,
    "start_time": "2023-07-12T09:40:54.866Z"
   },
   {
    "duration": 11,
    "start_time": "2023-07-12T09:40:54.880Z"
   },
   {
    "duration": 38,
    "start_time": "2023-07-12T09:40:54.893Z"
   },
   {
    "duration": 24,
    "start_time": "2023-07-12T09:40:54.933Z"
   },
   {
    "duration": 7,
    "start_time": "2023-07-12T09:52:33.466Z"
   },
   {
    "duration": 125,
    "start_time": "2023-07-12T09:53:10.497Z"
   },
   {
    "duration": 4943,
    "start_time": "2023-07-12T09:54:18.119Z"
   },
   {
    "duration": 15,
    "start_time": "2023-07-12T09:54:29.271Z"
   },
   {
    "duration": 5073,
    "start_time": "2023-07-12T09:54:36.701Z"
   },
   {
    "duration": 11,
    "start_time": "2023-07-12T09:54:44.570Z"
   },
   {
    "duration": 34,
    "start_time": "2023-07-12T09:55:59.041Z"
   },
   {
    "duration": 36,
    "start_time": "2023-07-12T09:56:05.130Z"
   },
   {
    "duration": 10,
    "start_time": "2023-07-12T10:02:09.685Z"
   },
   {
    "duration": 5365,
    "start_time": "2023-07-12T10:05:01.902Z"
   },
   {
    "duration": 7,
    "start_time": "2023-07-12T10:05:23.300Z"
   },
   {
    "duration": 7,
    "start_time": "2023-07-12T10:05:28.611Z"
   },
   {
    "duration": 18,
    "start_time": "2023-07-12T10:06:11.641Z"
   },
   {
    "duration": 270,
    "start_time": "2023-07-12T10:06:17.404Z"
   },
   {
    "duration": 9,
    "start_time": "2023-07-12T10:06:24.362Z"
   },
   {
    "duration": 169,
    "start_time": "2023-07-12T10:06:45.147Z"
   },
   {
    "duration": 10,
    "start_time": "2023-07-12T10:06:51.705Z"
   },
   {
    "duration": 4639,
    "start_time": "2023-07-12T10:08:11.251Z"
   },
   {
    "duration": 11,
    "start_time": "2023-07-12T10:08:22.017Z"
   },
   {
    "duration": 13,
    "start_time": "2023-07-12T10:10:46.094Z"
   },
   {
    "duration": 29,
    "start_time": "2023-07-12T10:10:54.114Z"
   },
   {
    "duration": 40,
    "start_time": "2023-07-12T10:10:58.659Z"
   },
   {
    "duration": 7,
    "start_time": "2023-07-12T10:11:07.456Z"
   },
   {
    "duration": 3105,
    "start_time": "2023-07-12T10:11:10.488Z"
   },
   {
    "duration": 9,
    "start_time": "2023-07-12T10:11:22.221Z"
   },
   {
    "duration": 3810,
    "start_time": "2023-07-12T10:12:25.910Z"
   },
   {
    "duration": 19,
    "start_time": "2023-07-12T10:14:52.178Z"
   },
   {
    "duration": 15,
    "start_time": "2023-07-12T10:15:35.654Z"
   },
   {
    "duration": 15,
    "start_time": "2023-07-12T10:16:07.082Z"
   },
   {
    "duration": 9,
    "start_time": "2023-07-12T10:17:09.547Z"
   },
   {
    "duration": 1776,
    "start_time": "2023-07-12T10:18:22.781Z"
   },
   {
    "duration": 161,
    "start_time": "2023-07-12T10:18:24.559Z"
   },
   {
    "duration": 10,
    "start_time": "2023-07-12T10:18:24.722Z"
   },
   {
    "duration": 297,
    "start_time": "2023-07-12T10:18:24.734Z"
   },
   {
    "duration": 4,
    "start_time": "2023-07-12T10:18:25.033Z"
   },
   {
    "duration": 14,
    "start_time": "2023-07-12T10:18:25.051Z"
   },
   {
    "duration": 18,
    "start_time": "2023-07-12T10:18:25.067Z"
   },
   {
    "duration": 55,
    "start_time": "2023-07-12T10:18:25.087Z"
   },
   {
    "duration": 40,
    "start_time": "2023-07-12T10:18:25.143Z"
   },
   {
    "duration": 1881,
    "start_time": "2023-07-12T10:18:25.186Z"
   },
   {
    "duration": 1027,
    "start_time": "2023-07-12T10:18:27.068Z"
   },
   {
    "duration": 649,
    "start_time": "2023-07-12T10:18:28.097Z"
   },
   {
    "duration": 546,
    "start_time": "2023-07-12T10:18:28.748Z"
   },
   {
    "duration": 12,
    "start_time": "2023-07-12T10:18:29.296Z"
   },
   {
    "duration": 66,
    "start_time": "2023-07-12T10:18:29.309Z"
   },
   {
    "duration": 2,
    "start_time": "2023-07-12T10:18:29.377Z"
   },
   {
    "duration": 83,
    "start_time": "2023-07-12T10:18:29.381Z"
   },
   {
    "duration": 4,
    "start_time": "2023-07-12T10:18:29.466Z"
   },
   {
    "duration": 198944,
    "start_time": "2023-07-12T10:18:29.472Z"
   },
   {
    "duration": 94163,
    "start_time": "2023-07-12T10:21:48.418Z"
   },
   {
    "duration": 13,
    "start_time": "2023-07-12T10:23:22.583Z"
   },
   {
    "duration": 58,
    "start_time": "2023-07-12T10:23:22.597Z"
   },
   {
    "duration": 6,
    "start_time": "2023-07-12T10:23:22.657Z"
   },
   {
    "duration": 159,
    "start_time": "2023-07-12T10:23:22.664Z"
   },
   {
    "duration": 0,
    "start_time": "2023-07-12T10:23:22.825Z"
   },
   {
    "duration": 271434,
    "start_time": "2023-07-12T10:28:31.680Z"
   },
   {
    "duration": 7,
    "start_time": "2023-07-12T10:55:31.294Z"
   },
   {
    "duration": 11,
    "start_time": "2023-07-12T10:55:34.578Z"
   },
   {
    "duration": 11,
    "start_time": "2023-07-12T10:55:48.442Z"
   },
   {
    "duration": 15,
    "start_time": "2023-07-12T11:38:19.995Z"
   },
   {
    "duration": 15,
    "start_time": "2023-07-12T11:38:36.201Z"
   },
   {
    "duration": 15,
    "start_time": "2023-07-12T11:41:11.860Z"
   },
   {
    "duration": 37,
    "start_time": "2023-07-12T11:41:14.238Z"
   },
   {
    "duration": 15,
    "start_time": "2023-07-12T11:41:18.756Z"
   },
   {
    "duration": 19,
    "start_time": "2023-07-12T11:43:33.011Z"
   },
   {
    "duration": 13,
    "start_time": "2023-07-12T11:43:43.586Z"
   },
   {
    "duration": 37,
    "start_time": "2023-07-12T11:44:41.015Z"
   },
   {
    "duration": 13,
    "start_time": "2023-07-12T11:56:54.361Z"
   },
   {
    "duration": 1767,
    "start_time": "2023-07-12T11:57:22.861Z"
   },
   {
    "duration": 313,
    "start_time": "2023-07-12T11:57:24.630Z"
   },
   {
    "duration": 12,
    "start_time": "2023-07-12T11:57:24.945Z"
   },
   {
    "duration": 318,
    "start_time": "2023-07-12T11:57:24.959Z"
   },
   {
    "duration": 5,
    "start_time": "2023-07-12T11:57:25.278Z"
   },
   {
    "duration": 27,
    "start_time": "2023-07-12T11:57:25.284Z"
   },
   {
    "duration": 8,
    "start_time": "2023-07-12T11:57:25.313Z"
   },
   {
    "duration": 61,
    "start_time": "2023-07-12T11:57:25.323Z"
   },
   {
    "duration": 44,
    "start_time": "2023-07-12T11:57:25.386Z"
   },
   {
    "duration": 2011,
    "start_time": "2023-07-12T11:57:25.452Z"
   },
   {
    "duration": 1178,
    "start_time": "2023-07-12T11:57:27.466Z"
   },
   {
    "duration": 607,
    "start_time": "2023-07-12T11:57:28.645Z"
   },
   {
    "duration": 578,
    "start_time": "2023-07-12T11:57:29.255Z"
   },
   {
    "duration": 29,
    "start_time": "2023-07-12T11:57:29.835Z"
   },
   {
    "duration": 117,
    "start_time": "2023-07-12T11:57:29.866Z"
   },
   {
    "duration": 164,
    "start_time": "2023-07-12T11:57:29.985Z"
   },
   {
    "duration": 200,
    "start_time": "2023-07-12T11:57:30.151Z"
   },
   {
    "duration": 246,
    "start_time": "2023-07-12T11:57:30.354Z"
   },
   {
    "duration": 193860,
    "start_time": "2023-07-12T11:57:30.602Z"
   },
   {
    "duration": 0,
    "start_time": "2023-07-12T12:00:44.465Z"
   },
   {
    "duration": 0,
    "start_time": "2023-07-12T12:00:44.466Z"
   },
   {
    "duration": 0,
    "start_time": "2023-07-12T12:00:44.468Z"
   },
   {
    "duration": 0,
    "start_time": "2023-07-12T12:00:44.470Z"
   },
   {
    "duration": 0,
    "start_time": "2023-07-12T12:00:44.471Z"
   },
   {
    "duration": 0,
    "start_time": "2023-07-12T12:00:44.472Z"
   },
   {
    "duration": 0,
    "start_time": "2023-07-12T12:00:44.473Z"
   },
   {
    "duration": 0,
    "start_time": "2023-07-12T12:00:44.474Z"
   },
   {
    "duration": 0,
    "start_time": "2023-07-12T12:00:44.476Z"
   },
   {
    "duration": 12,
    "start_time": "2023-07-12T12:04:53.929Z"
   },
   {
    "duration": 127448,
    "start_time": "2023-07-12T12:05:12.720Z"
   },
   {
    "duration": 10,
    "start_time": "2023-07-12T12:07:20.170Z"
   },
   {
    "duration": 33,
    "start_time": "2023-07-12T12:07:20.181Z"
   },
   {
    "duration": 0,
    "start_time": "2023-07-12T12:07:20.216Z"
   },
   {
    "duration": 17,
    "start_time": "2023-07-12T12:09:40.351Z"
   },
   {
    "duration": 6,
    "start_time": "2023-07-12T12:09:45.162Z"
   },
   {
    "duration": 6,
    "start_time": "2023-07-12T12:09:49.020Z"
   },
   {
    "duration": 3458,
    "start_time": "2023-07-12T12:13:05.411Z"
   },
   {
    "duration": 24,
    "start_time": "2023-07-12T12:15:14.385Z"
   },
   {
    "duration": 19,
    "start_time": "2023-07-12T12:15:29.411Z"
   },
   {
    "duration": 11,
    "start_time": "2023-07-12T12:15:47.212Z"
   },
   {
    "duration": 17,
    "start_time": "2023-07-12T12:15:55.768Z"
   },
   {
    "duration": 6,
    "start_time": "2023-07-12T12:16:30.710Z"
   },
   {
    "duration": 9,
    "start_time": "2023-07-12T12:16:36.804Z"
   },
   {
    "duration": 11,
    "start_time": "2023-07-12T12:17:33.809Z"
   },
   {
    "duration": 15,
    "start_time": "2023-07-12T12:17:43.247Z"
   },
   {
    "duration": 7,
    "start_time": "2023-07-12T12:18:36.517Z"
   },
   {
    "duration": 13,
    "start_time": "2023-07-12T12:18:50.959Z"
   },
   {
    "duration": 40,
    "start_time": "2023-07-12T12:23:55.754Z"
   },
   {
    "duration": 7,
    "start_time": "2023-07-12T12:24:08.395Z"
   },
   {
    "duration": 167236,
    "start_time": "2023-07-12T12:24:19.299Z"
   },
   {
    "duration": 6,
    "start_time": "2023-07-12T12:27:28.460Z"
   },
   {
    "duration": 5,
    "start_time": "2023-07-12T12:27:50.393Z"
   },
   {
    "duration": 14,
    "start_time": "2023-07-12T12:28:08.630Z"
   },
   {
    "duration": 12,
    "start_time": "2023-07-12T12:28:13.132Z"
   },
   {
    "duration": 12,
    "start_time": "2023-07-12T12:28:18.805Z"
   },
   {
    "duration": 5,
    "start_time": "2023-07-12T12:28:47.619Z"
   },
   {
    "duration": 16,
    "start_time": "2023-07-12T12:28:56.356Z"
   },
   {
    "duration": 5,
    "start_time": "2023-07-12T12:29:01.346Z"
   },
   {
    "duration": 13,
    "start_time": "2023-07-12T12:29:22.917Z"
   },
   {
    "duration": 5,
    "start_time": "2023-07-12T12:29:27.294Z"
   },
   {
    "duration": 5,
    "start_time": "2023-07-12T12:29:36.835Z"
   },
   {
    "duration": 4,
    "start_time": "2023-07-12T12:30:55.948Z"
   },
   {
    "duration": 13,
    "start_time": "2023-07-12T12:31:12.000Z"
   },
   {
    "duration": 4,
    "start_time": "2023-07-12T12:31:19.899Z"
   },
   {
    "duration": 17,
    "start_time": "2023-07-12T12:31:58.586Z"
   },
   {
    "duration": 20,
    "start_time": "2023-07-12T12:33:01.073Z"
   },
   {
    "duration": 6,
    "start_time": "2023-07-12T12:33:07.099Z"
   },
   {
    "duration": 21,
    "start_time": "2023-07-12T12:34:24.106Z"
   },
   {
    "duration": 5,
    "start_time": "2023-07-12T12:34:36.630Z"
   },
   {
    "duration": 5,
    "start_time": "2023-07-12T12:35:06.422Z"
   },
   {
    "duration": 6,
    "start_time": "2023-07-12T12:35:53.502Z"
   },
   {
    "duration": 6,
    "start_time": "2023-07-12T12:36:10.889Z"
   },
   {
    "duration": 203,
    "start_time": "2023-07-12T12:37:04.164Z"
   },
   {
    "duration": 14,
    "start_time": "2023-07-12T12:37:18.459Z"
   },
   {
    "duration": 236,
    "start_time": "2023-07-12T12:37:22.526Z"
   },
   {
    "duration": 3,
    "start_time": "2023-07-12T12:37:24.710Z"
   },
   {
    "duration": 11,
    "start_time": "2023-07-12T12:37:33.974Z"
   },
   {
    "duration": 15,
    "start_time": "2023-07-12T12:37:42.554Z"
   },
   {
    "duration": 5,
    "start_time": "2023-07-12T12:37:50.946Z"
   },
   {
    "duration": 13,
    "start_time": "2023-07-12T12:38:47.695Z"
   },
   {
    "duration": 17,
    "start_time": "2023-07-12T12:39:36.956Z"
   },
   {
    "duration": 15,
    "start_time": "2023-07-12T12:39:40.859Z"
   },
   {
    "duration": 15,
    "start_time": "2023-07-12T12:39:41.901Z"
   },
   {
    "duration": 202,
    "start_time": "2023-07-12T12:39:44.333Z"
   },
   {
    "duration": 14,
    "start_time": "2023-07-12T12:39:46.969Z"
   },
   {
    "duration": 12,
    "start_time": "2023-07-12T12:39:56.098Z"
   },
   {
    "duration": 9,
    "start_time": "2023-07-12T12:40:51.324Z"
   },
   {
    "duration": 9,
    "start_time": "2023-07-12T12:40:58.208Z"
   },
   {
    "duration": 13,
    "start_time": "2023-07-12T12:41:55.457Z"
   },
   {
    "duration": 37,
    "start_time": "2023-07-12T12:41:58.426Z"
   },
   {
    "duration": 37,
    "start_time": "2023-07-12T12:42:02.306Z"
   },
   {
    "duration": 15938,
    "start_time": "2023-07-12T12:42:15.567Z"
   },
   {
    "duration": 8,
    "start_time": "2023-07-12T12:42:37.718Z"
   },
   {
    "duration": 13,
    "start_time": "2023-07-12T12:43:25.784Z"
   },
   {
    "duration": 35,
    "start_time": "2023-07-12T12:43:28.494Z"
   },
   {
    "duration": 729,
    "start_time": "2023-07-12T12:43:42.126Z"
   },
   {
    "duration": 9,
    "start_time": "2023-07-12T12:43:53.221Z"
   },
   {
    "duration": 4,
    "start_time": "2023-07-12T12:44:21.439Z"
   },
   {
    "duration": 16,
    "start_time": "2023-07-12T12:44:58.245Z"
   },
   {
    "duration": 51,
    "start_time": "2023-07-12T12:45:11.904Z"
   },
   {
    "duration": 59,
    "start_time": "2023-07-12T12:45:22.502Z"
   },
   {
    "duration": 40,
    "start_time": "2023-07-12T12:45:26.748Z"
   },
   {
    "duration": 105,
    "start_time": "2023-07-12T12:45:29.558Z"
   },
   {
    "duration": 13,
    "start_time": "2023-07-12T12:46:58.655Z"
   },
   {
    "duration": 18,
    "start_time": "2023-07-12T12:50:48.056Z"
   },
   {
    "duration": 30,
    "start_time": "2023-07-12T12:50:50.696Z"
   },
   {
    "duration": 128,
    "start_time": "2023-07-12T12:50:55.033Z"
   },
   {
    "duration": 10,
    "start_time": "2023-07-12T12:51:06.262Z"
   },
   {
    "duration": 1995,
    "start_time": "2023-07-12T13:01:13.998Z"
   },
   {
    "duration": 242,
    "start_time": "2023-07-12T13:01:15.995Z"
   },
   {
    "duration": 10,
    "start_time": "2023-07-12T13:01:16.239Z"
   },
   {
    "duration": 307,
    "start_time": "2023-07-12T13:01:16.251Z"
   },
   {
    "duration": 4,
    "start_time": "2023-07-12T13:01:16.560Z"
   },
   {
    "duration": 17,
    "start_time": "2023-07-12T13:01:16.566Z"
   },
   {
    "duration": 24,
    "start_time": "2023-07-12T13:01:16.585Z"
   },
   {
    "duration": 60,
    "start_time": "2023-07-12T13:01:16.611Z"
   },
   {
    "duration": 39,
    "start_time": "2023-07-12T13:01:16.673Z"
   },
   {
    "duration": 5528,
    "start_time": "2023-07-12T13:01:16.715Z"
   },
   {
    "duration": 1127,
    "start_time": "2023-07-12T13:01:22.245Z"
   },
   {
    "duration": 583,
    "start_time": "2023-07-12T13:01:23.374Z"
   },
   {
    "duration": 546,
    "start_time": "2023-07-12T13:01:23.959Z"
   },
   {
    "duration": 13,
    "start_time": "2023-07-12T13:01:24.507Z"
   },
   {
    "duration": 70,
    "start_time": "2023-07-12T13:01:24.522Z"
   },
   {
    "duration": 3,
    "start_time": "2023-07-12T13:01:24.594Z"
   },
   {
    "duration": 1558,
    "start_time": "2023-07-12T13:01:24.599Z"
   },
   {
    "duration": 96,
    "start_time": "2023-07-12T13:01:26.159Z"
   },
   {
    "duration": 26061,
    "start_time": "2023-07-12T13:01:26.257Z"
   },
   {
    "duration": 0,
    "start_time": "2023-07-12T13:01:52.320Z"
   },
   {
    "duration": 0,
    "start_time": "2023-07-12T13:01:52.321Z"
   },
   {
    "duration": 0,
    "start_time": "2023-07-12T13:01:52.322Z"
   },
   {
    "duration": 0,
    "start_time": "2023-07-12T13:01:52.323Z"
   },
   {
    "duration": 0,
    "start_time": "2023-07-12T13:01:52.324Z"
   },
   {
    "duration": 0,
    "start_time": "2023-07-12T13:01:52.325Z"
   },
   {
    "duration": 1728,
    "start_time": "2023-07-12T13:02:18.048Z"
   },
   {
    "duration": 124,
    "start_time": "2023-07-12T13:02:19.778Z"
   },
   {
    "duration": 11,
    "start_time": "2023-07-12T13:02:19.903Z"
   },
   {
    "duration": 327,
    "start_time": "2023-07-12T13:02:19.916Z"
   },
   {
    "duration": 10,
    "start_time": "2023-07-12T13:02:20.244Z"
   },
   {
    "duration": 54,
    "start_time": "2023-07-12T13:02:20.256Z"
   },
   {
    "duration": 9,
    "start_time": "2023-07-12T13:02:20.312Z"
   },
   {
    "duration": 50,
    "start_time": "2023-07-12T13:02:20.323Z"
   },
   {
    "duration": 142,
    "start_time": "2023-07-12T13:02:20.375Z"
   },
   {
    "duration": 0,
    "start_time": "2023-07-12T13:02:20.520Z"
   },
   {
    "duration": 0,
    "start_time": "2023-07-12T13:02:20.521Z"
   },
   {
    "duration": 0,
    "start_time": "2023-07-12T13:02:20.523Z"
   },
   {
    "duration": 0,
    "start_time": "2023-07-12T13:02:20.524Z"
   },
   {
    "duration": 0,
    "start_time": "2023-07-12T13:02:20.525Z"
   },
   {
    "duration": 0,
    "start_time": "2023-07-12T13:02:20.527Z"
   },
   {
    "duration": 0,
    "start_time": "2023-07-12T13:02:20.528Z"
   },
   {
    "duration": 0,
    "start_time": "2023-07-12T13:02:20.529Z"
   },
   {
    "duration": 0,
    "start_time": "2023-07-12T13:02:20.530Z"
   },
   {
    "duration": 0,
    "start_time": "2023-07-12T13:02:20.531Z"
   },
   {
    "duration": 0,
    "start_time": "2023-07-12T13:02:20.532Z"
   },
   {
    "duration": 0,
    "start_time": "2023-07-12T13:02:20.552Z"
   },
   {
    "duration": 0,
    "start_time": "2023-07-12T13:02:20.553Z"
   },
   {
    "duration": 0,
    "start_time": "2023-07-12T13:02:20.554Z"
   },
   {
    "duration": 0,
    "start_time": "2023-07-12T13:02:20.555Z"
   },
   {
    "duration": 0,
    "start_time": "2023-07-12T13:02:20.556Z"
   },
   {
    "duration": 38,
    "start_time": "2023-07-12T13:02:33.401Z"
   },
   {
    "duration": 1633,
    "start_time": "2023-07-12T13:02:40.654Z"
   },
   {
    "duration": 116,
    "start_time": "2023-07-12T13:02:42.290Z"
   },
   {
    "duration": 11,
    "start_time": "2023-07-12T13:02:42.408Z"
   },
   {
    "duration": 314,
    "start_time": "2023-07-12T13:02:42.422Z"
   },
   {
    "duration": 4,
    "start_time": "2023-07-12T13:02:42.738Z"
   },
   {
    "duration": 15,
    "start_time": "2023-07-12T13:02:42.751Z"
   },
   {
    "duration": 8,
    "start_time": "2023-07-12T13:02:42.768Z"
   },
   {
    "duration": 42,
    "start_time": "2023-07-12T13:02:42.778Z"
   },
   {
    "duration": 65,
    "start_time": "2023-07-12T13:02:42.822Z"
   },
   {
    "duration": 2850,
    "start_time": "2023-07-12T13:02:42.889Z"
   },
   {
    "duration": 1040,
    "start_time": "2023-07-12T13:02:45.741Z"
   },
   {
    "duration": 586,
    "start_time": "2023-07-12T13:02:46.783Z"
   },
   {
    "duration": 676,
    "start_time": "2023-07-12T13:02:47.371Z"
   },
   {
    "duration": 14,
    "start_time": "2023-07-12T13:02:48.053Z"
   },
   {
    "duration": 93,
    "start_time": "2023-07-12T13:02:48.069Z"
   },
   {
    "duration": 3,
    "start_time": "2023-07-12T13:02:48.164Z"
   },
   {
    "duration": 287,
    "start_time": "2023-07-12T13:02:48.168Z"
   },
   {
    "duration": 6,
    "start_time": "2023-07-12T13:02:48.457Z"
   },
   {
    "duration": 773433,
    "start_time": "2023-07-12T13:02:48.464Z"
   },
   {
    "duration": 167326,
    "start_time": "2023-07-12T13:15:41.899Z"
   },
   {
    "duration": 10,
    "start_time": "2023-07-12T13:18:29.227Z"
   },
   {
    "duration": 145,
    "start_time": "2023-07-12T13:18:29.239Z"
   },
   {
    "duration": 0,
    "start_time": "2023-07-12T13:18:29.386Z"
   },
   {
    "duration": 0,
    "start_time": "2023-07-12T13:18:29.388Z"
   },
   {
    "duration": 0,
    "start_time": "2023-07-12T13:18:29.389Z"
   },
   {
    "duration": 9,
    "start_time": "2023-07-12T13:19:16.147Z"
   },
   {
    "duration": 8,
    "start_time": "2023-07-12T13:19:32.688Z"
   },
   {
    "duration": 9,
    "start_time": "2023-07-12T13:19:44.006Z"
   },
   {
    "duration": 35,
    "start_time": "2023-07-12T13:21:59.982Z"
   },
   {
    "duration": 6,
    "start_time": "2023-07-12T13:28:05.000Z"
   },
   {
    "duration": 189,
    "start_time": "2023-07-12T13:33:41.233Z"
   },
   {
    "duration": 2718,
    "start_time": "2023-07-12T13:34:09.981Z"
   },
   {
    "duration": 2900,
    "start_time": "2023-07-12T13:34:17.849Z"
   },
   {
    "duration": 2759,
    "start_time": "2023-07-12T13:34:29.424Z"
   },
   {
    "duration": 2922,
    "start_time": "2023-07-12T13:34:38.953Z"
   }
  ],
  "kernelspec": {
   "display_name": "Python 3 (ipykernel)",
   "language": "python",
   "name": "python3"
  },
  "language_info": {
   "codemirror_mode": {
    "name": "ipython",
    "version": 3
   },
   "file_extension": ".py",
   "mimetype": "text/x-python",
   "name": "python",
   "nbconvert_exporter": "python",
   "pygments_lexer": "ipython3",
   "version": "3.10.9"
  },
  "toc": {
   "base_numbering": 1,
   "nav_menu": {},
   "number_sections": true,
   "sideBar": true,
   "skip_h1_title": true,
   "title_cell": "Содержание проекта",
   "title_sidebar": "Содержание",
   "toc_cell": true,
   "toc_position": {
    "height": "610px",
    "left": "21px",
    "top": "142px",
    "width": "273px"
   },
   "toc_section_display": true,
   "toc_window_display": true
  },
  "varInspector": {
   "cols": {
    "lenName": 16,
    "lenType": 16,
    "lenVar": 40
   },
   "kernels_config": {
    "python": {
     "delete_cmd_postfix": "",
     "delete_cmd_prefix": "del ",
     "library": "var_list.py",
     "varRefreshCmd": "print(var_dic_list())"
    },
    "r": {
     "delete_cmd_postfix": ") ",
     "delete_cmd_prefix": "rm(",
     "library": "var_list.r",
     "varRefreshCmd": "cat(var_dic_list()) "
    }
   },
   "types_to_exclude": [
    "module",
    "function",
    "builtin_function_or_method",
    "instance",
    "_Feature"
   ],
   "window_display": false
  }
 },
 "nbformat": 4,
 "nbformat_minor": 5
}
