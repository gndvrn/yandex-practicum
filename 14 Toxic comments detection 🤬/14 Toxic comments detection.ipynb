{
 "cells": [
  {
   "cell_type": "markdown",
   "id": "764b8ba5",
   "metadata": {},
   "source": [
    "# Классификация токсичных комментариев для \"Викишоп\" 😾\n",
    "\n",
    "Интернет-магазин «Викишоп» запускает новый сервис. Теперь пользователи могут редактировать и дополнять описания товаров, как в вики-сообществах. То есть клиенты предлагают свои правки и комментируют изменения других. Магазину нужен инструмент, который будет искать токсичные комментарии и отправлять их на модерацию. \n",
    "\n",
    "Надо обучить модель классифицировать комментарии на позитивные и негативные. В нашем распоряжении набор данных с разметкой о токсичности текстов.\n",
    "\n",
    "**Техническое задание**\n",
    "- Построить модель со значением метрики качества <tt>F1</tt> не меньше <tt>0.75</tt>"
   ]
  },
  {
   "cell_type": "markdown",
   "id": "9dcf3bfd",
   "metadata": {
    "toc": true
   },
   "source": [
    "<h1>Содержание проекта<span class=\"tocSkip\"></span></h1>\n",
    "<div class=\"toc\"><ul class=\"toc-item\"><li><span><a href=\"#Обзор-данных-🧐\" data-toc-modified-id=\"Обзор-данных-🧐-1\"><span class=\"toc-item-num\">1&nbsp;&nbsp;</span>Обзор данных 🧐</a></span><ul class=\"toc-item\"><li><span><a href=\"#Импорт-библиотек\" data-toc-modified-id=\"Импорт-библиотек-1.1\"><span class=\"toc-item-num\">1.1&nbsp;&nbsp;</span>Импорт библиотек</a></span></li><li><span><a href=\"#Получение-данных\" data-toc-modified-id=\"Получение-данных-1.2\"><span class=\"toc-item-num\">1.2&nbsp;&nbsp;</span>Получение данных</a></span></li><li><span><a href=\"#Разведочный-анализ-данных\" data-toc-modified-id=\"Разведочный-анализ-данных-1.3\"><span class=\"toc-item-num\">1.3&nbsp;&nbsp;</span>Разведочный анализ данных</a></span></li><li><span><a href=\"#Итого\" data-toc-modified-id=\"Итого-1.4\"><span class=\"toc-item-num\">1.4&nbsp;&nbsp;</span>Итого</a></span></li></ul></li><li><span><a href=\"#Предобработка-данных-⚙️\" data-toc-modified-id=\"Предобработка-данных-⚙️-2\"><span class=\"toc-item-num\">2&nbsp;&nbsp;</span>Предобработка данных ⚙️</a></span><ul class=\"toc-item\"><li><span><a href=\"#Токенизация,-лемматизация,-очистка-текста\" data-toc-modified-id=\"Токенизация,-лемматизация,-очистка-текста-2.1\"><span class=\"toc-item-num\">2.1&nbsp;&nbsp;</span>Токенизация, лемматизация, очистка текста</a></span></li><li><span><a href=\"#Разделение-данных-на-выборки\" data-toc-modified-id=\"Разделение-данных-на-выборки-2.2\"><span class=\"toc-item-num\">2.2&nbsp;&nbsp;</span>Разделение данных на выборки</a></span></li><li><span><a href=\"#Итого\" data-toc-modified-id=\"Итого-2.3\"><span class=\"toc-item-num\">2.3&nbsp;&nbsp;</span>Итого</a></span></li></ul></li><li><span><a href=\"#Балансировка-классов-⚖️\" data-toc-modified-id=\"Балансировка-классов-⚖️-3\"><span class=\"toc-item-num\">3&nbsp;&nbsp;</span>Балансировка классов ⚖️</a></span><ul class=\"toc-item\"><li><span><a href=\"#Logistic-Regression\" data-toc-modified-id=\"Logistic-Regression-3.1\"><span class=\"toc-item-num\">3.1&nbsp;&nbsp;</span>Logistic Regression</a></span><ul class=\"toc-item\"><li><span><a href=\"#Без-учета-дисбаланса-классов\" data-toc-modified-id=\"Без-учета-дисбаланса-классов-3.1.1\"><span class=\"toc-item-num\">3.1.1&nbsp;&nbsp;</span>Без учета дисбаланса классов</a></span></li><li><span><a href=\"#class_weight='balanced'\" data-toc-modified-id=\"class_weight='balanced'-3.1.2\"><span class=\"toc-item-num\">3.1.2&nbsp;&nbsp;</span><tt>class_weight='balanced'</tt></a></span></li></ul></li><li><span><a href=\"#RandomUnderSampler\" data-toc-modified-id=\"RandomUnderSampler-3.2\"><span class=\"toc-item-num\">3.2&nbsp;&nbsp;</span>RandomUnderSampler</a></span></li><li><span><a href=\"#RandomOverSampler\" data-toc-modified-id=\"RandomOverSampler-3.3\"><span class=\"toc-item-num\">3.3&nbsp;&nbsp;</span>RandomOverSampler</a></span></li><li><span><a href=\"#Итого\" data-toc-modified-id=\"Итого-3.4\"><span class=\"toc-item-num\">3.4&nbsp;&nbsp;</span>Итого</a></span></li></ul></li><li><span><a href=\"#Обучение-моделей-🦾\" data-toc-modified-id=\"Обучение-моделей-🦾-4\"><span class=\"toc-item-num\">4&nbsp;&nbsp;</span>Обучение моделей 🦾</a></span><ul class=\"toc-item\"><li><span><a href=\"#LogisticRegression\" data-toc-modified-id=\"LogisticRegression-4.1\"><span class=\"toc-item-num\">4.1&nbsp;&nbsp;</span>LogisticRegression</a></span></li><li><span><a href=\"#RandomForestClassifier\" data-toc-modified-id=\"RandomForestClassifier-4.2\"><span class=\"toc-item-num\">4.2&nbsp;&nbsp;</span>RandomForestClassifier</a></span></li><li><span><a href=\"#GradientBoostingClassifier\" data-toc-modified-id=\"GradientBoostingClassifier-4.3\"><span class=\"toc-item-num\">4.3&nbsp;&nbsp;</span>GradientBoostingClassifier</a></span></li><li><span><a href=\"#Результаты-обучения-моделей\" data-toc-modified-id=\"Результаты-обучения-моделей-4.4\"><span class=\"toc-item-num\">4.4&nbsp;&nbsp;</span>Результаты обучения моделей</a></span></li><li><span><a href=\"#Итого\" data-toc-modified-id=\"Итого-4.5\"><span class=\"toc-item-num\">4.5&nbsp;&nbsp;</span>Итого</a></span></li></ul></li><li><span><a href=\"#Тестирование-модели-💯\" data-toc-modified-id=\"Тестирование-модели-💯-5\"><span class=\"toc-item-num\">5&nbsp;&nbsp;</span>Тестирование модели 💯</a></span><ul class=\"toc-item\"><li><span><a href=\"#Test-F1\" data-toc-modified-id=\"Test-F1-5.1\"><span class=\"toc-item-num\">5.1&nbsp;&nbsp;</span>Test F1</a></span></li><li><span><a href=\"#AUC-ROC,-ROC-кривая\" data-toc-modified-id=\"AUC-ROC,-ROC-кривая-5.2\"><span class=\"toc-item-num\">5.2&nbsp;&nbsp;</span>AUC-ROC, ROC-кривая</a></span></li><li><span><a href=\"#Проверка-на-адекватность\" data-toc-modified-id=\"Проверка-на-адекватность-5.3\"><span class=\"toc-item-num\">5.3&nbsp;&nbsp;</span>Проверка на адекватность</a></span></li><li><span><a href=\"#Итого\" data-toc-modified-id=\"Итого-5.4\"><span class=\"toc-item-num\">5.4&nbsp;&nbsp;</span>Итого</a></span></li></ul></li><li><span><a href=\"#Общий-вывод-👀\" data-toc-modified-id=\"Общий-вывод-👀-6\"><span class=\"toc-item-num\">6&nbsp;&nbsp;</span>Общий вывод 👀</a></span><ul class=\"toc-item\"><li><span><a href=\"#Краткая-сводка-по-выполненным-задачам\" data-toc-modified-id=\"Краткая-сводка-по-выполненным-задачам-6.1\"><span class=\"toc-item-num\">6.1&nbsp;&nbsp;</span>Краткая сводка по выполненным задачам</a></span><ul class=\"toc-item\"><li><span><a href=\"#Шаг-1.-Обзор-данных\" data-toc-modified-id=\"Шаг-1.-Обзор-данных-6.1.1\"><span class=\"toc-item-num\">6.1.1&nbsp;&nbsp;</span>Шаг 1. Обзор данных</a></span></li><li><span><a href=\"#Шаг-2.-Предобработка-данных\" data-toc-modified-id=\"Шаг-2.-Предобработка-данных-6.1.2\"><span class=\"toc-item-num\">6.1.2&nbsp;&nbsp;</span>Шаг 2. Предобработка данных</a></span></li><li><span><a href=\"#Шаг-3.-Балансировка-классов\" data-toc-modified-id=\"Шаг-3.-Балансировка-классов-6.1.3\"><span class=\"toc-item-num\">6.1.3&nbsp;&nbsp;</span>Шаг 3. Балансировка классов</a></span></li><li><span><a href=\"#Шаг-4.-Обучение-моделей\" data-toc-modified-id=\"Шаг-4.-Обучение-моделей-6.1.4\"><span class=\"toc-item-num\">6.1.4&nbsp;&nbsp;</span>Шаг 4. Обучение моделей</a></span></li><li><span><a href=\"#Шаг-5.-Тестирование-модели\" data-toc-modified-id=\"Шаг-5.-Тестирование-модели-6.1.5\"><span class=\"toc-item-num\">6.1.5&nbsp;&nbsp;</span>Шаг 5. Тестирование модели</a></span></li></ul></li></ul></li></ul></div>"
   ]
  },
  {
   "cell_type": "markdown",
   "id": "0b9eeba3",
   "metadata": {},
   "source": [
    "## Обзор данных 🧐"
   ]
  },
  {
   "cell_type": "markdown",
   "id": "fa9c8ed0",
   "metadata": {},
   "source": [
    "### Импорт библиотек"
   ]
  },
  {
   "cell_type": "code",
   "execution_count": 2,
   "id": "c744fe9b",
   "metadata": {},
   "outputs": [
    {
     "name": "stderr",
     "output_type": "stream",
     "text": [
      "[nltk_data] Downloading package stopwords to\n",
      "[nltk_data]     /Users/gennadiy/nltk_data...\n",
      "[nltk_data]   Package stopwords is already up-to-date!\n",
      "[nltk_data] Downloading package wordnet to\n",
      "[nltk_data]     /Users/gennadiy/nltk_data...\n",
      "[nltk_data]   Package wordnet is already up-to-date!\n",
      "[nltk_data] Downloading package punkt to /Users/gennadiy/nltk_data...\n",
      "[nltk_data]   Package punkt is already up-to-date!\n",
      "[nltk_data] Downloading package averaged_perceptron_tagger to\n",
      "[nltk_data]     /Users/gennadiy/nltk_data...\n",
      "[nltk_data]   Package averaged_perceptron_tagger is already up-to-\n",
      "[nltk_data]       date!\n",
      "[nltk_data] Downloading package omw-1.4 to\n",
      "[nltk_data]     /Users/gennadiy/nltk_data...\n",
      "[nltk_data]   Package omw-1.4 is already up-to-date!\n",
      "Warming up PyWSD (takes ~10 secs)... took 6.6371378898620605 secs.\n"
     ]
    },
    {
     "name": "stdout",
     "output_type": "stream",
     "text": [
      "INFO: Pandarallel will run on 4 workers.\n",
      "INFO: Pandarallel will use standard multiprocessing data transfer (pipe) to transfer data between the main process and workers.\n"
     ]
    }
   ],
   "source": [
    "import pandas as pd\n",
    "import numpy as np\n",
    "import matplotlib.pyplot as plt\n",
    "import seaborn as sns\n",
    "\n",
    "import re\n",
    "import nltk\n",
    "\n",
    "nltk.download('stopwords')\n",
    "nltk.download('wordnet')\n",
    "nltk.download('punkt')\n",
    "nltk.download('averaged_perceptron_tagger')\n",
    "nltk.download('omw-1.4')\n",
    "\n",
    "from nltk.corpus import stopwords\n",
    "from pywsd.utils import lemmatize_sentence\n",
    "from pandarallel import pandarallel\n",
    "\n",
    "from sklearn.model_selection import train_test_split, cross_val_score, \\\n",
    "                                    GridSearchCV, KFold, StratifiedKFold\n",
    "from sklearn.metrics import f1_score, accuracy_score, roc_curve, roc_auc_score, make_scorer\n",
    "from sklearn.utils.class_weight import compute_class_weight\n",
    "from sklearn.feature_extraction.text import TfidfVectorizer\n",
    "from sklearn.utils import shuffle\n",
    "from imblearn.over_sampling import RandomOverSampler\n",
    "from imblearn.under_sampling import RandomUnderSampler\n",
    "from imblearn.pipeline import Pipeline, make_pipeline\n",
    "from mlxtend.feature_selection import ColumnSelector\n",
    "\n",
    "from sklearn.linear_model import LogisticRegression\n",
    "from sklearn.ensemble import RandomForestClassifier, GradientBoostingClassifier\n",
    "from sklearn.dummy import DummyClassifier\n",
    "\n",
    "import sys\n",
    "from tqdm.auto import tqdm\n",
    "from typing import *\n",
    "from time import time\n",
    "import urllib\n",
    "import warnings\n",
    "from IPython.display import HTML, display\n",
    "\n",
    "import os\n",
    "os.environ['KMP_DUPLICATE_LIB_OK']='True'\n",
    "\n",
    "sys.setrecursionlimit(5000)\n",
    "\n",
    "%matplotlib inline\n",
    "\n",
    "pd.set_option('display.max_columns', 1000)\n",
    "pd.set_option('display.max_rows', 200)\n",
    "pd.options.display.float_format = '{:10,.2f}'.format\n",
    "\n",
    "pandarallel.initialize(progress_bar=True)\n",
    "\n",
    "np.set_printoptions(suppress=True)\n",
    "\n",
    "warnings.filterwarnings('ignore')\n",
    "\n",
    "STATE = 42"
   ]
  },
  {
   "cell_type": "markdown",
   "id": "a35f5071",
   "metadata": {},
   "source": [
    "### Получение данных"
   ]
  },
  {
   "cell_type": "code",
   "execution_count": 3,
   "id": "4f006181",
   "metadata": {
    "scrolled": true
   },
   "outputs": [
    {
     "data": {
      "text/html": [
       "<div>\n",
       "<style scoped>\n",
       "    .dataframe tbody tr th:only-of-type {\n",
       "        vertical-align: middle;\n",
       "    }\n",
       "\n",
       "    .dataframe tbody tr th {\n",
       "        vertical-align: top;\n",
       "    }\n",
       "\n",
       "    .dataframe thead th {\n",
       "        text-align: right;\n",
       "    }\n",
       "</style>\n",
       "<table border=\"1\" class=\"dataframe\">\n",
       "  <thead>\n",
       "    <tr style=\"text-align: right;\">\n",
       "      <th>toxic_comments.csv</th>\n",
       "      <th>Unnamed: 0</th>\n",
       "      <th>text</th>\n",
       "      <th>toxic</th>\n",
       "    </tr>\n",
       "  </thead>\n",
       "  <tbody>\n",
       "    <tr>\n",
       "      <th>0</th>\n",
       "      <td>0</td>\n",
       "      <td>Explanation\\nWhy the edits made under my usern...</td>\n",
       "      <td>0</td>\n",
       "    </tr>\n",
       "    <tr>\n",
       "      <th>1</th>\n",
       "      <td>1</td>\n",
       "      <td>D'aww! He matches this background colour I'm s...</td>\n",
       "      <td>0</td>\n",
       "    </tr>\n",
       "    <tr>\n",
       "      <th>2</th>\n",
       "      <td>2</td>\n",
       "      <td>Hey man, I'm really not trying to edit war. It...</td>\n",
       "      <td>0</td>\n",
       "    </tr>\n",
       "    <tr>\n",
       "      <th>3</th>\n",
       "      <td>3</td>\n",
       "      <td>\"\\nMore\\nI can't make any real suggestions on ...</td>\n",
       "      <td>0</td>\n",
       "    </tr>\n",
       "    <tr>\n",
       "      <th>4</th>\n",
       "      <td>4</td>\n",
       "      <td>You, sir, are my hero. Any chance you remember...</td>\n",
       "      <td>0</td>\n",
       "    </tr>\n",
       "    <tr>\n",
       "      <th>5</th>\n",
       "      <td>5</td>\n",
       "      <td>\"\\n\\nCongratulations from me as well, use the ...</td>\n",
       "      <td>0</td>\n",
       "    </tr>\n",
       "    <tr>\n",
       "      <th>6</th>\n",
       "      <td>6</td>\n",
       "      <td>COCKSUCKER BEFORE YOU PISS AROUND ON MY WORK</td>\n",
       "      <td>1</td>\n",
       "    </tr>\n",
       "    <tr>\n",
       "      <th>7</th>\n",
       "      <td>7</td>\n",
       "      <td>Your vandalism to the Matt Shirvington article...</td>\n",
       "      <td>0</td>\n",
       "    </tr>\n",
       "    <tr>\n",
       "      <th>8</th>\n",
       "      <td>8</td>\n",
       "      <td>Sorry if the word 'nonsense' was offensive to ...</td>\n",
       "      <td>0</td>\n",
       "    </tr>\n",
       "    <tr>\n",
       "      <th>9</th>\n",
       "      <td>9</td>\n",
       "      <td>alignment on this subject and which are contra...</td>\n",
       "      <td>0</td>\n",
       "    </tr>\n",
       "  </tbody>\n",
       "</table>\n",
       "</div>"
      ],
      "text/plain": [
       "toxic_comments.csv  Unnamed: 0  \\\n",
       "0                            0   \n",
       "1                            1   \n",
       "2                            2   \n",
       "3                            3   \n",
       "4                            4   \n",
       "5                            5   \n",
       "6                            6   \n",
       "7                            7   \n",
       "8                            8   \n",
       "9                            9   \n",
       "\n",
       "toxic_comments.csv                                               text  toxic  \n",
       "0                   Explanation\\nWhy the edits made under my usern...      0  \n",
       "1                   D'aww! He matches this background colour I'm s...      0  \n",
       "2                   Hey man, I'm really not trying to edit war. It...      0  \n",
       "3                   \"\\nMore\\nI can't make any real suggestions on ...      0  \n",
       "4                   You, sir, are my hero. Any chance you remember...      0  \n",
       "5                   \"\\n\\nCongratulations from me as well, use the ...      0  \n",
       "6                        COCKSUCKER BEFORE YOU PISS AROUND ON MY WORK      1  \n",
       "7                   Your vandalism to the Matt Shirvington article...      0  \n",
       "8                   Sorry if the word 'nonsense' was offensive to ...      0  \n",
       "9                   alignment on this subject and which are contra...      0  "
      ]
     },
     "metadata": {},
     "output_type": "display_data"
    },
    {
     "name": "stdout",
     "output_type": "stream",
     "text": [
      "✅ Данные загружены с внешнего ресурса и успешно прочитаны\n"
     ]
    }
   ],
   "source": [
    "label = 'toxic_comments.csv'\n",
    "\n",
    "pd_params = {}\n",
    "\n",
    "try:\n",
    "    data = pd.read_csv(\n",
    "        f'https://code.s3.yandex.net/datasets/{label}', **pd_params)\n",
    "    data.columns.name = label\n",
    "    display(data.head(10))\n",
    "    print('✅ Данные загружены с внешнего ресурса и успешно прочитаны')\n",
    "except urllib.request.URLError:\n",
    "    # Если отстутствует доступ к внешнему ресурсу с данными\n",
    "    while True:\n",
    "        data_name = input(\n",
    "            'Укажите имя файла с данными в каталоге с проектом. '\n",
    "            'Например: \"data.csv\".\\n'\n",
    "            'Если данные находятся не в каталоге с проектом нажмите Enter.\\n\\n'\n",
    "        )\n",
    "        if not data_name:\n",
    "            while True:\n",
    "                data_path = input('Введите абсолютный путь к датасету:\\n')\n",
    "                try:\n",
    "                    data = pd.read_csv(data_path, **pd_params)\n",
    "                    data.columns.name = data_path.split('/')[-1]\n",
    "                    display(data.head(10))\n",
    "                    print('✅ Исходные данные успешно прочитаны по указанному пути')\n",
    "\n",
    "                    break\n",
    "\n",
    "                except FileNotFoundError:  # Путь, указанный пользователем, неверный\n",
    "                    raise Exception(\n",
    "                        f'❌Указан неверный путь к файлу: {data_path}')\n",
    "        else:\n",
    "            data = pd.read_csv(data_name, **pd_params)\n",
    "            data.columns.name = data_name\n",
    "            display(data.head(10))\n",
    "            print('✅ Исходные данные успешно прочитаны из каталога с проектом')\n",
    "            break\n",
    "        break"
   ]
  },
  {
   "cell_type": "markdown",
   "id": "c9a89c21",
   "metadata": {},
   "source": [
    "### Разведочный анализ данных"
   ]
  },
  {
   "cell_type": "markdown",
   "id": "14746138",
   "metadata": {},
   "source": [
    "В первую очередь посмотрим общую информацию о данных"
   ]
  },
  {
   "cell_type": "code",
   "execution_count": 4,
   "id": "16865717",
   "metadata": {},
   "outputs": [
    {
     "name": "stdout",
     "output_type": "stream",
     "text": [
      "<class 'pandas.core.frame.DataFrame'>\n",
      "RangeIndex: 159292 entries, 0 to 159291\n",
      "Data columns (total 3 columns):\n",
      " #   Column      Non-Null Count   Dtype \n",
      "---  ------      --------------   ----- \n",
      " 0   Unnamed: 0  159292 non-null  int64 \n",
      " 1   text        159292 non-null  object\n",
      " 2   toxic       159292 non-null  int64 \n",
      "dtypes: int64(2), object(1)\n",
      "memory usage: 3.6+ MB\n"
     ]
    }
   ],
   "source": [
    "data.info()"
   ]
  },
  {
   "cell_type": "markdown",
   "id": "a8f903e3",
   "metadata": {},
   "source": [
    "Почти **160 тыс. комментариев**!\n",
    "\n",
    "Пропущенных значений нет и хорошо, но стоит сразу отбросить столбец <tt>Unnamed: 0</tt>, который, вероятно, остался из-за выгрузки данных"
   ]
  },
  {
   "cell_type": "code",
   "execution_count": 5,
   "id": "7eb5a6fe",
   "metadata": {
    "scrolled": true
   },
   "outputs": [
    {
     "data": {
      "text/plain": [
       "Index(['text', 'toxic'], dtype='object', name='toxic_comments.csv')"
      ]
     },
     "execution_count": 5,
     "metadata": {},
     "output_type": "execute_result"
    }
   ],
   "source": [
    "data.drop('Unnamed: 0', axis=1, inplace=True)\n",
    "data.columns"
   ]
  },
  {
   "cell_type": "markdown",
   "id": "fca86902",
   "metadata": {},
   "source": [
    "Рассмотрим соотношение классов"
   ]
  },
  {
   "cell_type": "code",
   "execution_count": 6,
   "id": "d913f045",
   "metadata": {},
   "outputs": [
    {
     "data": {
      "text/plain": [
       "0    143106\n",
       "1     16186\n",
       "Name: toxic, dtype: int64"
      ]
     },
     "execution_count": 6,
     "metadata": {},
     "output_type": "execute_result"
    }
   ],
   "source": [
    "data.toxic.value_counts()"
   ]
  },
  {
   "cell_type": "markdown",
   "id": "9cf3c8c4",
   "metadata": {},
   "source": [
    "Объекты класса <tt>0</tt> преобладают почти <b>в 9 раз</b>! Нехорошо. \n",
    "\n",
    "Потребуется перебалансировка классов. Метод перебалансировки выберем позднее."
   ]
  },
  {
   "cell_type": "markdown",
   "id": "59253d15",
   "metadata": {},
   "source": [
    "Теперь убедимся в том, что данные размечены верно. Выберем <tt>25</tt> случайных объектов из данных с классом <tt>1</tt>"
   ]
  },
  {
   "cell_type": "code",
   "execution_count": 7,
   "id": "20b8ad18",
   "metadata": {},
   "outputs": [
    {
     "data": {
      "text/html": [
       "<div>\n",
       "<style scoped>\n",
       "    .dataframe tbody tr th:only-of-type {\n",
       "        vertical-align: middle;\n",
       "    }\n",
       "\n",
       "    .dataframe tbody tr th {\n",
       "        vertical-align: top;\n",
       "    }\n",
       "\n",
       "    .dataframe thead th {\n",
       "        text-align: right;\n",
       "    }\n",
       "</style>\n",
       "<table border=\"1\" class=\"dataframe\">\n",
       "  <thead>\n",
       "    <tr style=\"text-align: right;\">\n",
       "      <th>toxic_comments.csv</th>\n",
       "      <th>text</th>\n",
       "      <th>toxic</th>\n",
       "    </tr>\n",
       "  </thead>\n",
       "  <tbody>\n",
       "    <tr>\n",
       "      <th>59030</th>\n",
       "      <td>See you \\n\\nLousy cunt</td>\n",
       "      <td>1</td>\n",
       "    </tr>\n",
       "    <tr>\n",
       "      <th>151461</th>\n",
       "      <td>You son of a bitch \\nI was the one who recogni...</td>\n",
       "      <td>1</td>\n",
       "    </tr>\n",
       "    <tr>\n",
       "      <th>116559</th>\n",
       "      <td>You enjoy taking dick in the ass D</td>\n",
       "      <td>1</td>\n",
       "    </tr>\n",
       "    <tr>\n",
       "      <th>95116</th>\n",
       "      <td>racist reetards \\n\\nim sick of you racist reee...</td>\n",
       "      <td>1</td>\n",
       "    </tr>\n",
       "    <tr>\n",
       "      <th>24503</th>\n",
       "      <td>How about leaving the dishonourable epithet up...</td>\n",
       "      <td>1</td>\n",
       "    </tr>\n",
       "    <tr>\n",
       "      <th>24494</th>\n",
       "      <td>Donner the biTCH \\n\\nExcuse me but I spent hou...</td>\n",
       "      <td>1</td>\n",
       "    </tr>\n",
       "    <tr>\n",
       "      <th>8961</th>\n",
       "      <td>\"\\n\\nIf you don't believe me, go look at the s...</td>\n",
       "      <td>1</td>\n",
       "    </tr>\n",
       "    <tr>\n",
       "      <th>137686</th>\n",
       "      <td>Also he is a.w.f.u.l.</td>\n",
       "      <td>1</td>\n",
       "    </tr>\n",
       "    <tr>\n",
       "      <th>95483</th>\n",
       "      <td>What are you talking about? I actually gave hi...</td>\n",
       "      <td>1</td>\n",
       "    </tr>\n",
       "    <tr>\n",
       "      <th>112687</th>\n",
       "      <td>I saw her for the first time on the Daily Show...</td>\n",
       "      <td>1</td>\n",
       "    </tr>\n",
       "    <tr>\n",
       "      <th>3117</th>\n",
       "      <td>Good Luck \\n\\nwikipedia sucks\\n71.186.170.196 ...</td>\n",
       "      <td>1</td>\n",
       "    </tr>\n",
       "    <tr>\n",
       "      <th>154626</th>\n",
       "      <td>Gay? \\nThe article doesn't state that he is op...</td>\n",
       "      <td>1</td>\n",
       "    </tr>\n",
       "    <tr>\n",
       "      <th>132215</th>\n",
       "      <td>\"\\n\\n Hi nerd \\n\\nWould you please explain why...</td>\n",
       "      <td>1</td>\n",
       "    </tr>\n",
       "    <tr>\n",
       "      <th>33157</th>\n",
       "      <td>Eagle, he's just a POV pusher. He was trying t...</td>\n",
       "      <td>1</td>\n",
       "    </tr>\n",
       "    <tr>\n",
       "      <th>28394</th>\n",
       "      <td>User:Abd is muslim cr@p</td>\n",
       "      <td>1</td>\n",
       "    </tr>\n",
       "    <tr>\n",
       "      <th>28673</th>\n",
       "      <td>Msg for Vandalisim? \\n\\nWhy am I getting this ...</td>\n",
       "      <td>1</td>\n",
       "    </tr>\n",
       "    <tr>\n",
       "      <th>47672</th>\n",
       "      <td>\"\\n\\nBigot Alert!\\n  Knock off the racist bull...</td>\n",
       "      <td>1</td>\n",
       "    </tr>\n",
       "    <tr>\n",
       "      <th>83012</th>\n",
       "      <td>did u call me a TROLL???? i cud sue u for dat.</td>\n",
       "      <td>1</td>\n",
       "    </tr>\n",
       "    <tr>\n",
       "      <th>68226</th>\n",
       "      <td>You don't listen so good, do you? I SAID STOP ...</td>\n",
       "      <td>1</td>\n",
       "    </tr>\n",
       "    <tr>\n",
       "      <th>45375</th>\n",
       "      <td>What The Hell! \\n\\nDid You Even Read My Post T...</td>\n",
       "      <td>1</td>\n",
       "    </tr>\n",
       "    <tr>\n",
       "      <th>97026</th>\n",
       "      <td>\"\\n\\nHilarious!\\nConsider it my pleasure. Sue ...</td>\n",
       "      <td>1</td>\n",
       "    </tr>\n",
       "    <tr>\n",
       "      <th>21976</th>\n",
       "      <td>Randolph's real name is Charles Satterfield an...</td>\n",
       "      <td>1</td>\n",
       "    </tr>\n",
       "    <tr>\n",
       "      <th>45484</th>\n",
       "      <td>it's gay i can do better</td>\n",
       "      <td>1</td>\n",
       "    </tr>\n",
       "    <tr>\n",
       "      <th>57726</th>\n",
       "      <td>It doesn't matter what I think.  I'm a big ret...</td>\n",
       "      <td>1</td>\n",
       "    </tr>\n",
       "    <tr>\n",
       "      <th>72088</th>\n",
       "      <td>Get that bullshit outta here.  You completyely...</td>\n",
       "      <td>1</td>\n",
       "    </tr>\n",
       "  </tbody>\n",
       "</table>\n",
       "</div>"
      ],
      "text/plain": [
       "toxic_comments.csv                                               text  toxic\n",
       "59030                                          See you \\n\\nLousy cunt      1\n",
       "151461              You son of a bitch \\nI was the one who recogni...      1\n",
       "116559                             You enjoy taking dick in the ass D      1\n",
       "95116               racist reetards \\n\\nim sick of you racist reee...      1\n",
       "24503               How about leaving the dishonourable epithet up...      1\n",
       "24494               Donner the biTCH \\n\\nExcuse me but I spent hou...      1\n",
       "8961                \"\\n\\nIf you don't believe me, go look at the s...      1\n",
       "137686                                          Also he is a.w.f.u.l.      1\n",
       "95483               What are you talking about? I actually gave hi...      1\n",
       "112687              I saw her for the first time on the Daily Show...      1\n",
       "3117                Good Luck \\n\\nwikipedia sucks\\n71.186.170.196 ...      1\n",
       "154626              Gay? \\nThe article doesn't state that he is op...      1\n",
       "132215              \"\\n\\n Hi nerd \\n\\nWould you please explain why...      1\n",
       "33157               Eagle, he's just a POV pusher. He was trying t...      1\n",
       "28394                                         User:Abd is muslim cr@p      1\n",
       "28673               Msg for Vandalisim? \\n\\nWhy am I getting this ...      1\n",
       "47672               \"\\n\\nBigot Alert!\\n  Knock off the racist bull...      1\n",
       "83012                  did u call me a TROLL???? i cud sue u for dat.      1\n",
       "68226               You don't listen so good, do you? I SAID STOP ...      1\n",
       "45375               What The Hell! \\n\\nDid You Even Read My Post T...      1\n",
       "97026               \"\\n\\nHilarious!\\nConsider it my pleasure. Sue ...      1\n",
       "21976               Randolph's real name is Charles Satterfield an...      1\n",
       "45484                                        it's gay i can do better      1\n",
       "57726               It doesn't matter what I think.  I'm a big ret...      1\n",
       "72088               Get that bullshit outta here.  You completyely...      1"
      ]
     },
     "execution_count": 7,
     "metadata": {},
     "output_type": "execute_result"
    }
   ],
   "source": [
    "data.sample(25, weights='toxic', random_state=STATE)"
   ]
  },
  {
   "cell_type": "markdown",
   "id": "2f260403",
   "metadata": {},
   "source": [
    "Агрессивненько)) Но вроде все размечено верно.\n",
    "\n",
    "Напоследок убедимся в отсутствии явных дубликатов"
   ]
  },
  {
   "cell_type": "code",
   "execution_count": 8,
   "id": "4e9eb45b",
   "metadata": {},
   "outputs": [
    {
     "data": {
      "text/plain": [
       "0"
      ]
     },
     "execution_count": 8,
     "metadata": {},
     "output_type": "execute_result"
    }
   ],
   "source": [
    "data.duplicated().sum()"
   ]
  },
  {
   "cell_type": "markdown",
   "id": "8a470daf",
   "metadata": {},
   "source": [
    "<div style=\"border: 3px solid rgb(0,0,0); padding: 20px\">\n",
    "    \n",
    "### Итого\n",
    "    \n",
    "- Всего чуть менее 160 тыс. объектов;\n",
    "- Требуется лемматизация, исключение стоп слов/символов и токенизация данных;\n",
    "- Присутствует сильный дисбаланс классов;\n",
    "- Данные размечены верно;\n",
    "- Явные дубликаты отсутствуют"
   ]
  },
  {
   "cell_type": "markdown",
   "id": "a776599c",
   "metadata": {},
   "source": [
    "## Предобработка данных ⚙️"
   ]
  },
  {
   "cell_type": "markdown",
   "id": "48244899",
   "metadata": {},
   "source": [
    "Прежде, чем мы приступим к решению задач NLP, нужно предварительно обработать и очистить данные.\n",
    "\n",
    "Если коротко, то мы:\n",
    "- **Токенизируем** — переводим предложения в список токенов или слов;\n",
    "- **Лемматизируем** — приводим слова к их нормальной форме или корню («studies», «studing» → «study»);\n",
    "- **Исключаем лишние символы** - используем регулярные выржаения для удаление спец. символов;\n",
    "- **Избавляемся от стоп-слов** — выкидываем слова вроде «a» или «the»;\n",
    "- **Векторизируем корпус слов** - создаем векторизированный корпус из слов. \n",
    "\n",
    "    <tt>P.S: последний этап будет проводится в ходе обучения моделей, так как будет использоваться Pipeline</tt>"
   ]
  },
  {
   "cell_type": "markdown",
   "id": "4689dd56",
   "metadata": {},
   "source": [
    "### Токенизация, лемматизация, очистка текста"
   ]
  },
  {
   "cell_type": "code",
   "execution_count": 9,
   "id": "c82c8eb7",
   "metadata": {
    "scrolled": true
   },
   "outputs": [],
   "source": [
    "def clear_text(text):\n",
    "    return \" \".join(re.sub(r'[^a-zA-Z]', ' ', ' '.join(text)).split())"
   ]
  },
  {
   "cell_type": "code",
   "execution_count": 10,
   "id": "f156dbec",
   "metadata": {},
   "outputs": [],
   "source": [
    "# data['lemm_text'] = (data['text']\n",
    "#                      .parallel_apply(lemmatize_sentence)\n",
    "#                      .parallel_apply(clear_text))"
   ]
  },
  {
   "cell_type": "markdown",
   "id": "0cf47d30",
   "metadata": {},
   "source": [
    "---"
   ]
  },
  {
   "cell_type": "markdown",
   "id": "649a2cec",
   "metadata": {},
   "source": [
    "Лемматизированный и очищенный датасет был загружен в раздел <tt>Extra</tt> в данном репозитории, чтобы ускорить выполнение данного проекта при последующих перезапусках"
   ]
  },
  {
   "cell_type": "code",
   "execution_count": 3,
   "id": "fd5ea4b9",
   "metadata": {},
   "outputs": [
    {
     "data": {
      "text/html": [
       "<div>\n",
       "<style scoped>\n",
       "    .dataframe tbody tr th:only-of-type {\n",
       "        vertical-align: middle;\n",
       "    }\n",
       "\n",
       "    .dataframe tbody tr th {\n",
       "        vertical-align: top;\n",
       "    }\n",
       "\n",
       "    .dataframe thead th {\n",
       "        text-align: right;\n",
       "    }\n",
       "</style>\n",
       "<table border=\"1\" class=\"dataframe\">\n",
       "  <thead>\n",
       "    <tr style=\"text-align: right;\">\n",
       "      <th></th>\n",
       "      <th>text</th>\n",
       "      <th>toxic</th>\n",
       "      <th>lemm_text</th>\n",
       "    </tr>\n",
       "  </thead>\n",
       "  <tbody>\n",
       "    <tr>\n",
       "      <th>0</th>\n",
       "      <td>Explanation\\nWhy the edits made under my usern...</td>\n",
       "      <td>0</td>\n",
       "      <td>explanation why the edits make under my userna...</td>\n",
       "    </tr>\n",
       "    <tr>\n",
       "      <th>1</th>\n",
       "      <td>D'aww! He matches this background colour I'm s...</td>\n",
       "      <td>0</td>\n",
       "      <td>d aww he match this background colour i m seem...</td>\n",
       "    </tr>\n",
       "    <tr>\n",
       "      <th>2</th>\n",
       "      <td>Hey man, I'm really not trying to edit war. It...</td>\n",
       "      <td>0</td>\n",
       "      <td>hey man i m really not try to edit war it s ju...</td>\n",
       "    </tr>\n",
       "    <tr>\n",
       "      <th>3</th>\n",
       "      <td>\"\\nMore\\nI can't make any real suggestions on ...</td>\n",
       "      <td>0</td>\n",
       "      <td>more i ca n t make any real suggestion on impr...</td>\n",
       "    </tr>\n",
       "    <tr>\n",
       "      <th>4</th>\n",
       "      <td>You, sir, are my hero. Any chance you remember...</td>\n",
       "      <td>0</td>\n",
       "      <td>you sir be my hero any chance you remember wha...</td>\n",
       "    </tr>\n",
       "  </tbody>\n",
       "</table>\n",
       "</div>"
      ],
      "text/plain": [
       "                                                text  toxic  \\\n",
       "0  Explanation\\nWhy the edits made under my usern...      0   \n",
       "1  D'aww! He matches this background colour I'm s...      0   \n",
       "2  Hey man, I'm really not trying to edit war. It...      0   \n",
       "3  \"\\nMore\\nI can't make any real suggestions on ...      0   \n",
       "4  You, sir, are my hero. Any chance you remember...      0   \n",
       "\n",
       "                                           lemm_text  \n",
       "0  explanation why the edits make under my userna...  \n",
       "1  d aww he match this background colour i m seem...  \n",
       "2  hey man i m really not try to edit war it s ju...  \n",
       "3  more i ca n t make any real suggestion on impr...  \n",
       "4  you sir be my hero any chance you remember wha...  "
      ]
     },
     "execution_count": 3,
     "metadata": {},
     "output_type": "execute_result"
    }
   ],
   "source": [
    "data = pd.read_csv(\n",
    "    'https://github.com/gndvrn/yandex-practicum/raw/main/Extra/toxic_comments_lemmatized.csv.xz')\n",
    "data.dropna(inplace=True) # 11 NaN вследствие конвертации (там были пустые строки, стали NaN)\n",
    "data = data.reset_index(drop=True)\n",
    "data.head()"
   ]
  },
  {
   "cell_type": "code",
   "execution_count": 4,
   "id": "1eda4deb",
   "metadata": {},
   "outputs": [
    {
     "name": "stdout",
     "output_type": "stream",
     "text": [
      "<class 'pandas.core.frame.DataFrame'>\n",
      "RangeIndex: 159281 entries, 0 to 159280\n",
      "Data columns (total 3 columns):\n",
      " #   Column     Non-Null Count   Dtype \n",
      "---  ------     --------------   ----- \n",
      " 0   text       159281 non-null  object\n",
      " 1   toxic      159281 non-null  int64 \n",
      " 2   lemm_text  159281 non-null  object\n",
      "dtypes: int64(1), object(2)\n",
      "memory usage: 3.6+ MB\n"
     ]
    }
   ],
   "source": [
    "data.info()"
   ]
  },
  {
   "cell_type": "markdown",
   "id": "57ee830b",
   "metadata": {},
   "source": [
    "---"
   ]
  },
  {
   "cell_type": "markdown",
   "id": "08eef539",
   "metadata": {},
   "source": [
    "### Разделение данных на выборки"
   ]
  },
  {
   "cell_type": "code",
   "execution_count": 13,
   "id": "c3b400e7",
   "metadata": {},
   "outputs": [],
   "source": [
    "X = data.drop(columns=['text', 'toxic'])\n",
    "y = data['toxic']"
   ]
  },
  {
   "cell_type": "code",
   "execution_count": 14,
   "id": "4bfa10d2",
   "metadata": {},
   "outputs": [],
   "source": [
    "def data_sampling(X: pd.DataFrame, y: pd.Series, ratios: list = [0.75, 0.25], tts_props: Dict = {}) -> Tuple:\n",
    "    if len(ratios) == 2:\n",
    "        X_train, X_test, y_train, y_test = train_test_split(\n",
    "            X, y, test_size=ratios[1], **tts_props)\n",
    "\n",
    "        print(f'✅ Данные успешно разделены на train и test в '\n",
    "              f'соотношении {ratios[0]}:{ratios[1]}')\n",
    "\n",
    "        return X_train, X_test, y_train, y_test\n",
    "    elif len(ratios) == 3:\n",
    "        X_train, X_valid_test, y_train, y_valid_test = train_test_split(\n",
    "            X, y, test_size=1-ratios[0], **tts_props)\n",
    "        X_valid, X_test, y_valid, y_test = train_test_split(\n",
    "            X_valid_test, y_valid_test, test_size=ratios[2]/(ratios[1]+ratios[2]), **tts_props)\n",
    "\n",
    "        print(f'✅ Данные успешно разделены на train, valid и test в ' \n",
    "              f'соотношении {ratios[0]}:{ratios[1]}:{ratios[2]}')\n",
    "\n",
    "        return X_train, X_valid, X_test, y_train, y_valid, y_test\n",
    "    else:\n",
    "        raise Exception(f'Введены неверные размеры выборок')"
   ]
  },
  {
   "cell_type": "code",
   "execution_count": 15,
   "id": "73d94d29",
   "metadata": {
    "scrolled": false
   },
   "outputs": [
    {
     "name": "stdout",
     "output_type": "stream",
     "text": [
      "✅ Данные успешно разделены на train и test в соотношении 0.9:0.1\n"
     ]
    },
    {
     "data": {
      "text/html": [
       "<div>\n",
       "<style scoped>\n",
       "    .dataframe tbody tr th:only-of-type {\n",
       "        vertical-align: middle;\n",
       "    }\n",
       "\n",
       "    .dataframe tbody tr th {\n",
       "        vertical-align: top;\n",
       "    }\n",
       "\n",
       "    .dataframe thead th {\n",
       "        text-align: right;\n",
       "    }\n",
       "</style>\n",
       "<table border=\"1\" class=\"dataframe\">\n",
       "  <thead>\n",
       "    <tr style=\"text-align: right;\">\n",
       "      <th></th>\n",
       "      <th>lemm_text</th>\n",
       "    </tr>\n",
       "  </thead>\n",
       "  <tbody>\n",
       "    <tr>\n",
       "      <th>69194</th>\n",
       "      <td>i write that shit age ago what be you a slake ...</td>\n",
       "    </tr>\n",
       "    <tr>\n",
       "      <th>27576</th>\n",
       "      <td>article about sizzla you can use babylon have ...</td>\n",
       "    </tr>\n",
       "    <tr>\n",
       "      <th>107104</th>\n",
       "      <td>shuuuuuuuuuuuuuuuuuuuuuuuuuuuuuuuuuut up my aw...</td>\n",
       "    </tr>\n",
       "    <tr>\n",
       "      <th>141414</th>\n",
       "      <td>what a blatent cheek ok to begin the first ord...</td>\n",
       "    </tr>\n",
       "    <tr>\n",
       "      <th>157239</th>\n",
       "      <td>raccoon dog hi not sure if i be suppose to com...</td>\n",
       "    </tr>\n",
       "  </tbody>\n",
       "</table>\n",
       "</div>"
      ],
      "text/plain": [
       "                                                lemm_text\n",
       "69194   i write that shit age ago what be you a slake ...\n",
       "27576   article about sizzla you can use babylon have ...\n",
       "107104  shuuuuuuuuuuuuuuuuuuuuuuuuuuuuuuuuuut up my aw...\n",
       "141414  what a blatent cheek ok to begin the first ord...\n",
       "157239  raccoon dog hi not sure if i be suppose to com..."
      ]
     },
     "metadata": {},
     "output_type": "display_data"
    },
    {
     "data": {
      "text/plain": [
       "(143352, 1)"
      ]
     },
     "metadata": {},
     "output_type": "display_data"
    },
    {
     "data": {
      "text/plain": [
       "69194     1\n",
       "27576     0\n",
       "107104    1\n",
       "141414    0\n",
       "157239    0\n",
       "Name: toxic, dtype: int64"
      ]
     },
     "metadata": {},
     "output_type": "display_data"
    },
    {
     "data": {
      "text/plain": [
       "(143352,)"
      ]
     },
     "metadata": {},
     "output_type": "display_data"
    },
    {
     "data": {
      "text/html": [
       "<div>\n",
       "<style scoped>\n",
       "    .dataframe tbody tr th:only-of-type {\n",
       "        vertical-align: middle;\n",
       "    }\n",
       "\n",
       "    .dataframe tbody tr th {\n",
       "        vertical-align: top;\n",
       "    }\n",
       "\n",
       "    .dataframe thead th {\n",
       "        text-align: right;\n",
       "    }\n",
       "</style>\n",
       "<table border=\"1\" class=\"dataframe\">\n",
       "  <thead>\n",
       "    <tr style=\"text-align: right;\">\n",
       "      <th></th>\n",
       "      <th>lemm_text</th>\n",
       "    </tr>\n",
       "  </thead>\n",
       "  <tbody>\n",
       "    <tr>\n",
       "      <th>89052</th>\n",
       "      <td>message re your last change go fuck your self ...</td>\n",
       "    </tr>\n",
       "    <tr>\n",
       "      <th>127199</th>\n",
       "      <td>dashboard date range sage when the dashboard p...</td>\n",
       "    </tr>\n",
       "    <tr>\n",
       "      <th>1045</th>\n",
       "      <td>you go away you loser way to standup for you b...</td>\n",
       "    </tr>\n",
       "    <tr>\n",
       "      <th>80668</th>\n",
       "      <td>utc the current publish orbital period of nept...</td>\n",
       "    </tr>\n",
       "    <tr>\n",
       "      <th>37563</th>\n",
       "      <td>mar utc</td>\n",
       "    </tr>\n",
       "  </tbody>\n",
       "</table>\n",
       "</div>"
      ],
      "text/plain": [
       "                                                lemm_text\n",
       "89052   message re your last change go fuck your self ...\n",
       "127199  dashboard date range sage when the dashboard p...\n",
       "1045    you go away you loser way to standup for you b...\n",
       "80668   utc the current publish orbital period of nept...\n",
       "37563                                             mar utc"
      ]
     },
     "metadata": {},
     "output_type": "display_data"
    },
    {
     "data": {
      "text/plain": [
       "(15929, 1)"
      ]
     },
     "metadata": {},
     "output_type": "display_data"
    },
    {
     "data": {
      "text/plain": [
       "89052     1\n",
       "127199    0\n",
       "1045      1\n",
       "80668     0\n",
       "37563     0\n",
       "Name: toxic, dtype: int64"
      ]
     },
     "metadata": {},
     "output_type": "display_data"
    },
    {
     "data": {
      "text/plain": [
       "(15929, 1)"
      ]
     },
     "metadata": {},
     "output_type": "display_data"
    }
   ],
   "source": [
    "X_train, X_test, y_train, y_test = data_sampling(\n",
    "    X, y, ratios=[0.9, 0.1], tts_props={'random_state' : STATE})\n",
    "\n",
    "display(X_train.head(), X_train.shape)\n",
    "display(y_train.head(), y_train.shape)\n",
    "display(X_test.head(), X_test.shape)\n",
    "display(y_test.head(), X_test.shape)"
   ]
  },
  {
   "cell_type": "markdown",
   "id": "657d5a22",
   "metadata": {},
   "source": [
    "<div style=\"border: 3px solid rgb(0,0,0); padding: 20px\">\n",
    "    \n",
    "### Итого\n",
    "    \n",
    "- Произведена токенизация (разделение комментрариев на слова);\n",
    "- Выполнена лемматизация токенов;\n",
    "- Убраны спец. символы;\n",
    "- Сформирована тренировочная тестовая выборки. Соотношение 90:10;\n",
    "- Исключены стоп-слова и векторизировали корпуса."
   ]
  },
  {
   "cell_type": "markdown",
   "id": "7186453b",
   "metadata": {},
   "source": [
    "## Балансировка классов ⚖️"
   ]
  },
  {
   "cell_type": "markdown",
   "id": "316fb5f7",
   "metadata": {},
   "source": [
    "Чтобы модель показывала стабильно хорошие результаты нужно ее обучить на наборе данных, где равное количество положительных и отрицательных комментариев. Есть несколько способов устранения (или \"неустранения\") ) данной проблемы:\n",
    "\n",
    "- Ничего не использовать;\n",
    "- Использовать автобалансировку;\n",
    "- Использовать <tt>downsampling</tt>/<tt>upsampling</tt>\n",
    "\n",
    "---\n",
    "\n",
    "<center>Метрика качества ⟶ <i><tt>F1</tt></i></center>\n",
    "\n",
    "Выбор ее обусловен тем, что она полноценнее характеризует качество модели, чем более распространенная <tt>Accuracy</tt>. Это происходит за счет того, что при ее расчете используются значения <tt>Precision</tt> и <tt>Recall</tt>:\n",
    "\n",
    "$$F1 = \\frac {2 * Precision * Recall} {Precision + Recall}$$"
   ]
  },
  {
   "cell_type": "code",
   "execution_count": 16,
   "id": "c0a454c2",
   "metadata": {},
   "outputs": [],
   "source": [
    "CROSS_VAL = StratifiedKFold(n_splits=3)\n",
    "SCORING = 'f1'\n",
    "STOPWORDS = list(set(stopwords.words('english')))"
   ]
  },
  {
   "cell_type": "markdown",
   "id": "dbd9d8ea",
   "metadata": {},
   "source": [
    "### Logistic Regression"
   ]
  },
  {
   "cell_type": "markdown",
   "id": "da5659d3",
   "metadata": {},
   "source": [
    "Поэкспериментируем с логистической регрессией.\n",
    "\n",
    "Обучим ее без учета дисбаланса классов, с параметрами учета дисбаланса и с применением <tt>downsampling</tt>."
   ]
  },
  {
   "cell_type": "markdown",
   "id": "ae726b93",
   "metadata": {},
   "source": [
    "#### Без учета дисбаланса классов"
   ]
  },
  {
   "cell_type": "code",
   "execution_count": 17,
   "id": "46b1dbe3",
   "metadata": {},
   "outputs": [
    {
     "name": "stdout",
     "output_type": "stream",
     "text": [
      "LogisticRegression.\n",
      "Cross validation F1 ⟶ 0.71\n"
     ]
    }
   ],
   "source": [
    "lr1_pipeline = make_pipeline(\n",
    "    ColumnSelector(cols=('lemm_text'), drop_axis=True),\n",
    "    TfidfVectorizer(stop_words=STOPWORDS), \n",
    "    LogisticRegression())\n",
    "\n",
    "lr1_f1_cv = round(\n",
    "    cross_val_score(lr1_pipeline, \n",
    "                    X_train, \n",
    "                    y_train, \n",
    "                    cv=KFold(2, shuffle=True, random_state=STATE), \n",
    "                    scoring=SCORING).mean(), 2)\n",
    "\n",
    "print(f'LogisticRegression.\\n'\n",
    "      f'Cross validation F1 ⟶ {lr1_f1_cv}')"
   ]
  },
  {
   "cell_type": "markdown",
   "id": "759bbf23",
   "metadata": {},
   "source": [
    "#### <tt>class_weight='balanced'</tt>"
   ]
  },
  {
   "cell_type": "code",
   "execution_count": 18,
   "id": "27d5918e",
   "metadata": {},
   "outputs": [
    {
     "name": "stdout",
     "output_type": "stream",
     "text": [
      "LogisticRegression(class_weight='balanced').\n",
      "Cross validation F1 ⟶ 0.74\n"
     ]
    }
   ],
   "source": [
    "lr2_pipeline = make_pipeline(\n",
    "    ColumnSelector(cols=('lemm_text'), drop_axis=True),\n",
    "    TfidfVectorizer(stop_words=STOPWORDS),  \n",
    "    LogisticRegression(class_weight='balanced'))\n",
    "\n",
    "lr2_f1_cv = round(\n",
    "    cross_val_score(lr2_pipeline, \n",
    "                    X_train, \n",
    "                    y_train, \n",
    "                    cv=CROSS_VAL, \n",
    "                    scoring=SCORING).mean(), 2)\n",
    "\n",
    "print(f'LogisticRegression(class_weight=\\'balanced\\').\\n'\n",
    "      f'Cross validation F1 ⟶ {lr2_f1_cv}')"
   ]
  },
  {
   "cell_type": "markdown",
   "id": "0e40e685",
   "metadata": {},
   "source": [
    "### RandomUnderSampler"
   ]
  },
  {
   "cell_type": "code",
   "execution_count": 19,
   "id": "8d7af03f",
   "metadata": {},
   "outputs": [
    {
     "name": "stdout",
     "output_type": "stream",
     "text": [
      "LogisticRegression() + RandomUnderSampler().\n",
      "Cross validation F1 ⟶ 0.69\n"
     ]
    }
   ],
   "source": [
    "lr3_pipeline = make_pipeline(\n",
    "    ColumnSelector(cols=('lemm_text'), drop_axis=True),\n",
    "    TfidfVectorizer(stop_words=STOPWORDS), \n",
    "    RandomUnderSampler(), \n",
    "    LogisticRegression())\n",
    "\n",
    "lr3_f1_cv = round(cross_val_score(lr3_pipeline, \n",
    "                                  X_train, \n",
    "                                  y_train, \n",
    "                                  cv=CROSS_VAL, \n",
    "                                  scoring=SCORING).mean(), 2)\n",
    "\n",
    "print(f'LogisticRegression() + RandomUnderSampler().\\n'\n",
    "      f'Cross validation F1 ⟶ {lr3_f1_cv}')"
   ]
  },
  {
   "cell_type": "markdown",
   "id": "e18c5b6c",
   "metadata": {},
   "source": [
    "### RandomOverSampler"
   ]
  },
  {
   "cell_type": "code",
   "execution_count": 20,
   "id": "94aa372b",
   "metadata": {},
   "outputs": [
    {
     "name": "stdout",
     "output_type": "stream",
     "text": [
      "LogisticRegression() + RandomOverSampler().\n",
      "Cross validation F1 ⟶ 0.69\n"
     ]
    }
   ],
   "source": [
    "lr4_pipeline = make_pipeline(\n",
    "    ColumnSelector(cols=('lemm_text'), drop_axis=True),\n",
    "    TfidfVectorizer(stop_words=STOPWORDS), \n",
    "    RandomOverSampler(), \n",
    "    LogisticRegression())\n",
    "\n",
    "lr4_f1_cv = round(cross_val_score(lr3_pipeline, \n",
    "                                  X_train, \n",
    "                                  y_train, \n",
    "                                  cv=CROSS_VAL, \n",
    "                                  scoring=SCORING).mean(), 2)\n",
    "\n",
    "print(f'LogisticRegression() + RandomOverSampler().\\n'\n",
    "      f'Cross validation F1 ⟶ {lr4_f1_cv}')"
   ]
  },
  {
   "cell_type": "markdown",
   "id": "b6921136",
   "metadata": {},
   "source": [
    "Cамый лучший результат на валидационной выборке показывает модель с автоматической балансировкой классов.\n",
    "\n",
    "Соберем результаты в таблицу"
   ]
  },
  {
   "cell_type": "code",
   "execution_count": 21,
   "id": "1424b8cf",
   "metadata": {},
   "outputs": [
    {
     "data": {
      "text/html": [
       "<div>\n",
       "<style scoped>\n",
       "    .dataframe tbody tr th:only-of-type {\n",
       "        vertical-align: middle;\n",
       "    }\n",
       "\n",
       "    .dataframe tbody tr th {\n",
       "        vertical-align: top;\n",
       "    }\n",
       "\n",
       "    .dataframe thead th {\n",
       "        text-align: right;\n",
       "    }\n",
       "</style>\n",
       "<table border=\"1\" class=\"dataframe\">\n",
       "  <thead>\n",
       "    <tr style=\"text-align: right;\">\n",
       "      <th></th>\n",
       "      <th>Модель</th>\n",
       "      <th>F1-мера на кросс-валидации</th>\n",
       "    </tr>\n",
       "  </thead>\n",
       "  <tbody>\n",
       "    <tr>\n",
       "      <th>1</th>\n",
       "      <td>LogisticRegression(class_weight='balanced')</td>\n",
       "      <td>0.74</td>\n",
       "    </tr>\n",
       "    <tr>\n",
       "      <th>0</th>\n",
       "      <td>LogisticRegression</td>\n",
       "      <td>0.71</td>\n",
       "    </tr>\n",
       "    <tr>\n",
       "      <th>2</th>\n",
       "      <td>LogisticRegression + RandomUnderSampler()</td>\n",
       "      <td>0.69</td>\n",
       "    </tr>\n",
       "    <tr>\n",
       "      <th>3</th>\n",
       "      <td>LogisticRegression + RandomOverSampler()</td>\n",
       "      <td>0.69</td>\n",
       "    </tr>\n",
       "  </tbody>\n",
       "</table>\n",
       "</div>"
      ],
      "text/plain": [
       "                                        Модель  F1-мера на кросс-валидации\n",
       "1  LogisticRegression(class_weight='balanced')                        0.74\n",
       "0                           LogisticRegression                        0.71\n",
       "2    LogisticRegression + RandomUnderSampler()                        0.69\n",
       "3     LogisticRegression + RandomOverSampler()                        0.69"
      ]
     },
     "execution_count": 21,
     "metadata": {},
     "output_type": "execute_result"
    }
   ],
   "source": [
    "lr_balancing_results = pd.DataFrame(\n",
    "    {\n",
    "        'Модель' : [\n",
    "            'LogisticRegression', \n",
    "            'LogisticRegression(class_weight=\\'balanced\\')', \n",
    "            'LogisticRegression + RandomUnderSampler()', \n",
    "            'LogisticRegression + RandomOverSampler()'],\n",
    "        \n",
    "        'F1-мера на кросс-валидации' : [\n",
    "            lr1_f1_cv, \n",
    "            lr2_f1_cv, \n",
    "            lr3_f1_cv, \n",
    "            lr4_f1_cv]\n",
    "    }\n",
    ")\n",
    "\n",
    "lr_balancing_results = lr_balancing_results.sort_values(\n",
    "    by='F1-мера на кросс-валидации', ascending=False)\n",
    "\n",
    "lr_balancing_results"
   ]
  },
  {
   "cell_type": "markdown",
   "id": "f6a9f189",
   "metadata": {},
   "source": [
    "<div style=\"border: 3px solid rgb(0,0,0); padding: 20px\">\n",
    "    \n",
    "### Итого\n",
    "\n",
    "Лучший способ избавления от дисбаланса классов при обучении моделей - <tt>автобалансировка</tt>. Далее будем применять его, чтобы улучшить показатели качества предсказаний моделей."
   ]
  },
  {
   "cell_type": "markdown",
   "id": "8877f5f4",
   "metadata": {},
   "source": [
    "## Обучение моделей 🦾"
   ]
  },
  {
   "cell_type": "markdown",
   "id": "5e5b42a0",
   "metadata": {},
   "source": [
    "В роли кандидатов на роль модели для проверки на тестовом наборе будем рассматривать:\n",
    "\n",
    "- <tt>LogisticRegression</tt> (результаты для модели без гиперпараметров у нас уже есть. Подберем гиперпараметры);\n",
    "- <tt>RandomForestClassifier</tt>;\n",
    "- <tt>GradientBoostingClassifier</tt>;"
   ]
  },
  {
   "cell_type": "code",
   "execution_count": 22,
   "id": "3512bf39",
   "metadata": {},
   "outputs": [],
   "source": [
    "def init_GS(model,\n",
    "            params_grid,\n",
    "            train_features,\n",
    "            train_target,\n",
    "            scorer=SCORING,\n",
    "            cv=CROSS_VAL,\n",
    "            refit=True,\n",
    "            verbose=3,\n",
    "            n_jobs=-1):\n",
    "\n",
    "    GS = GridSearchCV(model,\n",
    "                      params_grid,\n",
    "                      cv=cv,\n",
    "                      refit=refit,\n",
    "                      scoring=scorer,\n",
    "                      verbose=verbose,\n",
    "                      n_jobs=n_jobs).fit(train_features, train_target)\n",
    "    return GS"
   ]
  },
  {
   "cell_type": "markdown",
   "id": "e9662328",
   "metadata": {},
   "source": [
    "### LogisticRegression"
   ]
  },
  {
   "cell_type": "code",
   "execution_count": 23,
   "id": "fb293f40",
   "metadata": {
    "scrolled": true
   },
   "outputs": [
    {
     "name": "stdout",
     "output_type": "stream",
     "text": [
      "Fitting 3 folds for each of 4 candidates, totalling 12 fits\n",
      "[LibLinear]iter  1 act 1.859e+05 pre 1.597e+05 delta 7.827e+01 f 3.312e+05 |g| 1.233e+04 CG   9\n",
      "cg reaches trust region boundary\n",
      "iter  2 act 5.436e+04 pre 4.426e+04 delta 1.029e+02 f 1.453e+05 |g| 5.460e+03 CG  10\n",
      "iter  3 act 1.768e+04 pre 1.455e+04 delta 1.029e+02 f 9.094e+04 |g| 1.722e+03 CG  11\n",
      "iter  4 act 4.738e+03 pre 3.862e+03 delta 1.029e+02 f 7.326e+04 |g| 8.266e+02 CG   9\n",
      "iter  5 act 1.161e+03 pre 9.499e+02 delta 1.029e+02 f 6.852e+04 |g| 8.336e+02 CG   4\n",
      "iter  6 act 7.100e+02 pre 6.351e+02 delta 1.029e+02 f 6.736e+04 |g| 4.494e+02 CG   8\n",
      "iter  7 act 1.475e+02 pre 1.433e+02 delta 1.029e+02 f 6.665e+04 |g| 1.014e+02 CG  12\n",
      "iter  8 act 3.985e+00 pre 3.932e+00 delta 1.029e+02 f 6.650e+04 |g| 2.250e+01 CG   9\n",
      "iter  9 act 3.633e-01 pre 3.633e-01 delta 1.029e+02 f 6.650e+04 |g| 2.532e+00 CG  15\n",
      "iter 10 act 1.957e-03 pre 1.957e-03 delta 1.029e+02 f 6.650e+04 |g| 1.889e-01 CG  16\n",
      "[CV 1/3] END logisticregression__C=5, logisticregression__penalty=l2, logisticregression__tol=1e-05;, score=0.750 total time=  28.9s\n",
      "[LibLinear]iter  1 act 1.865e+05 pre 1.603e+05 delta 7.968e+01 f 3.312e+05 |g| 1.228e+04 CG   9\n",
      "iter  2 act 5.217e+04 pre 4.176e+04 delta 9.271e+01 f 1.447e+05 |g| 5.546e+03 CG   9\n",
      "iter  3 act 1.899e+04 pre 1.563e+04 delta 9.271e+01 f 9.254e+04 |g| 2.032e+03 CG  10\n",
      "iter  4 act 5.370e+03 pre 4.401e+03 delta 9.271e+01 f 7.356e+04 |g| 8.599e+02 CG  10\n",
      "iter  5 act 1.263e+03 pre 1.051e+03 delta 9.271e+01 f 6.819e+04 |g| 7.685e+02 CG   5\n",
      "iter  6 act 5.584e+02 pre 4.905e+02 delta 9.271e+01 f 6.692e+04 |g| 4.734e+02 CG   8\n",
      "iter  7 act 1.188e+02 pre 1.137e+02 delta 9.271e+01 f 6.636e+04 |g| 1.316e+02 CG  10\n",
      "iter  8 act 7.904e+00 pre 7.845e+00 delta 9.271e+01 f 6.624e+04 |g| 2.765e+01 CG  12\n",
      "iter  9 act 2.790e-01 pre 2.790e-01 delta 9.271e+01 f 6.624e+04 |g| 3.111e+00 CG  15\n",
      "iter 10 act 2.903e-03 pre 2.903e-03 delta 9.271e+01 f 6.624e+04 |g| 2.949e-01 CG  14\n",
      "iter 11 act 6.525e-05 pre 6.525e-05 delta 9.271e+01 f 6.624e+04 |g| 2.935e-02 CG  16\n",
      "[CV 2/3] END logisticregression__C=5, logisticregression__penalty=l2, logisticregression__tol=1e-05;, score=0.761 total time=  31.8s\n",
      "[LibLinear]iter  1 act 1.860e+05 pre 1.597e+05 delta 7.845e+01 f 3.312e+05 |g| 1.229e+04 CG   9\n",
      "iter  2 act 5.309e+04 pre 4.261e+04 delta 9.459e+01 f 1.453e+05 |g| 5.659e+03 CG   9\n",
      "iter  3 act 1.890e+04 pre 1.554e+04 delta 9.459e+01 f 9.217e+04 |g| 1.992e+03 CG  10\n",
      "iter  4 act 5.278e+03 pre 4.285e+03 delta 9.459e+01 f 7.327e+04 |g| 8.903e+02 CG   9\n",
      "iter  5 act 1.238e+03 pre 1.018e+03 delta 9.459e+01 f 6.799e+04 |g| 9.005e+02 CG   4\n",
      "iter  6 act 6.894e+02 pre 6.245e+02 delta 9.459e+01 f 6.675e+04 |g| 4.666e+02 CG   8\n",
      "iter  7 act 1.266e+02 pre 1.237e+02 delta 9.459e+01 f 6.606e+04 |g| 1.148e+02 CG  11\n",
      "iter  8 act 4.425e+00 pre 4.396e+00 delta 9.459e+01 f 6.594e+04 |g| 1.969e+01 CG  12\n",
      "iter  9 act 1.533e-01 pre 1.533e-01 delta 9.459e+01 f 6.593e+04 |g| 2.011e+00 CG  15\n",
      "iter 10 act 1.289e-03 pre 1.289e-03 delta 9.459e+01 f 6.593e+04 |g| 1.902e-01 CG  14\n",
      "iter 11 act 2.203e-05 pre 2.203e-05 delta 9.459e+01 f 6.593e+04 |g| 1.602e-02 CG  16\n",
      "[CV 3/3] END logisticregression__C=5, logisticregression__penalty=l2, logisticregression__tol=1e-05;, score=0.752 total time=  31.8s\n",
      "[LibLinear]iter  1 act 1.859e+05 pre 1.597e+05 delta 7.827e+01 f 3.312e+05 |g| 1.233e+04 CG   9\n",
      "cg reaches trust region boundary\n",
      "iter  2 act 5.436e+04 pre 4.426e+04 delta 1.029e+02 f 1.453e+05 |g| 5.460e+03 CG  10\n",
      "iter  3 act 1.768e+04 pre 1.455e+04 delta 1.029e+02 f 9.094e+04 |g| 1.722e+03 CG  11\n",
      "iter  4 act 4.738e+03 pre 3.862e+03 delta 1.029e+02 f 7.326e+04 |g| 8.266e+02 CG   9\n",
      "iter  5 act 1.161e+03 pre 9.499e+02 delta 1.029e+02 f 6.852e+04 |g| 8.336e+02 CG   4\n",
      "iter  6 act 7.100e+02 pre 6.351e+02 delta 1.029e+02 f 6.736e+04 |g| 4.494e+02 CG   8\n",
      "iter  7 act 1.475e+02 pre 1.433e+02 delta 1.029e+02 f 6.665e+04 |g| 1.014e+02 CG  12\n",
      "iter  8 act 3.985e+00 pre 3.932e+00 delta 1.029e+02 f 6.650e+04 |g| 2.250e+01 CG   9\n",
      "iter  9 act 3.633e-01 pre 3.633e-01 delta 1.029e+02 f 6.650e+04 |g| 2.532e+00 CG  15\n",
      "iter 10 act 1.957e-03 pre 1.957e-03 delta 1.029e+02 f 6.650e+04 |g| 1.889e-01 CG  16\n",
      "iter 11 act 1.359e-05 pre 1.359e-05 delta 1.029e+02 f 6.650e+04 |g| 1.206e-02 CG  18\n",
      "[CV 1/3] END logisticregression__C=5, logisticregression__penalty=l2, logisticregression__tol=1e-06;, score=0.750 total time=  32.0s\n",
      "[LibLinear]iter  1 act 1.865e+05 pre 1.603e+05 delta 7.968e+01 f 3.312e+05 |g| 1.228e+04 CG   9\n",
      "iter  2 act 5.217e+04 pre 4.176e+04 delta 9.271e+01 f 1.447e+05 |g| 5.546e+03 CG   9\n",
      "iter  3 act 1.899e+04 pre 1.563e+04 delta 9.271e+01 f 9.254e+04 |g| 2.032e+03 CG  10\n",
      "iter  4 act 5.370e+03 pre 4.401e+03 delta 9.271e+01 f 7.356e+04 |g| 8.599e+02 CG  10\n",
      "iter  5 act 1.263e+03 pre 1.051e+03 delta 9.271e+01 f 6.819e+04 |g| 7.685e+02 CG   5\n",
      "iter  6 act 5.584e+02 pre 4.905e+02 delta 9.271e+01 f 6.692e+04 |g| 4.734e+02 CG   8\n",
      "iter  7 act 1.188e+02 pre 1.137e+02 delta 9.271e+01 f 6.636e+04 |g| 1.316e+02 CG  10\n",
      "iter  8 act 7.904e+00 pre 7.845e+00 delta 9.271e+01 f 6.624e+04 |g| 2.765e+01 CG  12\n",
      "iter  9 act 2.790e-01 pre 2.790e-01 delta 9.271e+01 f 6.624e+04 |g| 3.111e+00 CG  15\n",
      "iter 10 act 2.903e-03 pre 2.903e-03 delta 9.271e+01 f 6.624e+04 |g| 2.949e-01 CG  14\n",
      "iter 11 act 6.525e-05 pre 6.525e-05 delta 9.271e+01 f 6.624e+04 |g| 2.935e-02 CG  16\n",
      "iter 12 act 1.874e-07 pre 1.877e-07 delta 9.271e+01 f 6.624e+04 |g| 2.568e-03 CG  11\n",
      "[CV 2/3] END logisticregression__C=5, logisticregression__penalty=l2, logisticregression__tol=1e-06;, score=0.761 total time=  34.5s\n",
      "[LibLinear]iter  1 act 1.860e+05 pre 1.597e+05 delta 7.845e+01 f 3.312e+05 |g| 1.229e+04 CG   9\n",
      "iter  2 act 5.309e+04 pre 4.261e+04 delta 9.459e+01 f 1.453e+05 |g| 5.659e+03 CG   9\n",
      "iter  3 act 1.890e+04 pre 1.554e+04 delta 9.459e+01 f 9.217e+04 |g| 1.992e+03 CG  10\n",
      "iter  4 act 5.278e+03 pre 4.285e+03 delta 9.459e+01 f 7.327e+04 |g| 8.903e+02 CG   9\n",
      "iter  5 act 1.238e+03 pre 1.018e+03 delta 9.459e+01 f 6.799e+04 |g| 9.005e+02 CG   4\n",
      "iter  6 act 6.894e+02 pre 6.245e+02 delta 9.459e+01 f 6.675e+04 |g| 4.666e+02 CG   8\n",
      "iter  7 act 1.266e+02 pre 1.237e+02 delta 9.459e+01 f 6.606e+04 |g| 1.148e+02 CG  11\n",
      "iter  8 act 4.425e+00 pre 4.396e+00 delta 9.459e+01 f 6.594e+04 |g| 1.969e+01 CG  12\n",
      "iter  9 act 1.533e-01 pre 1.533e-01 delta 9.459e+01 f 6.593e+04 |g| 2.011e+00 CG  15\n",
      "iter 10 act 1.289e-03 pre 1.289e-03 delta 9.459e+01 f 6.593e+04 |g| 1.902e-01 CG  14\n",
      "iter 11 act 2.203e-05 pre 2.203e-05 delta 9.459e+01 f 6.593e+04 |g| 1.602e-02 CG  16\n",
      "[CV 3/3] END logisticregression__C=5, logisticregression__penalty=l2, logisticregression__tol=1e-06;, score=0.752 total time=  31.5s\n",
      "[LibLinear]iter  1 act 3.751e+05 pre 3.216e+05 delta 8.006e+01 f 6.624e+05 |g| 2.466e+04 CG   9\n",
      "cg reaches trust region boundary\n",
      "iter  2 act 1.156e+05 pre 9.229e+04 delta 1.083e+02 f 2.873e+05 |g| 1.109e+04 CG  10\n",
      "iter  3 act 4.847e+04 pre 3.999e+04 delta 1.134e+02 f 1.717e+05 |g| 3.627e+03 CG  12\n",
      "iter  4 act 1.341e+04 pre 1.112e+04 delta 1.134e+02 f 1.233e+05 |g| 1.222e+03 CG  14\n",
      "iter  5 act 3.156e+03 pre 2.583e+03 delta 1.134e+02 f 1.099e+05 |g| 9.083e+02 CG   8\n",
      "iter  6 act 7.370e+02 pre 6.105e+02 delta 1.134e+02 f 1.067e+05 |g| 9.512e+02 CG   3\n",
      "iter  7 act 1.083e+03 pre 1.021e+03 delta 1.134e+02 f 1.060e+05 |g| 3.372e+02 CG  14\n",
      "iter  8 act 5.959e+01 pre 5.791e+01 delta 1.134e+02 f 1.049e+05 |g| 5.446e+01 CG  16\n",
      "iter  9 act 1.171e+00 pre 1.168e+00 delta 1.134e+02 f 1.048e+05 |g| 1.401e+01 CG  14\n",
      "iter 10 act 6.229e-02 pre 6.229e-02 delta 1.134e+02 f 1.048e+05 |g| 1.341e+00 CG  20\n",
      "iter 11 act 3.010e-04 pre 3.010e-04 delta 1.134e+02 f 1.048e+05 |g| 1.012e-01 CG  16\n",
      "[CV 1/3] END logisticregression__C=10, logisticregression__penalty=l2, logisticregression__tol=1e-05;, score=0.749 total time=  35.8s\n",
      "[LibLinear]iter  1 act 3.764e+05 pre 3.228e+05 delta 8.157e+01 f 6.624e+05 |g| 2.455e+04 CG   9\n",
      "cg reaches trust region boundary\n",
      "iter  2 act 1.156e+05 pre 9.265e+04 delta 1.107e+02 f 2.860e+05 |g| 1.115e+04 CG  10\n",
      "iter  3 act 4.751e+04 pre 3.914e+04 delta 1.120e+02 f 1.704e+05 |g| 3.560e+03 CG  12\n",
      "iter  4 act 1.346e+04 pre 1.111e+04 delta 1.120e+02 f 1.228e+05 |g| 1.214e+03 CG  14\n",
      "iter  5 act 3.294e+03 pre 2.701e+03 delta 1.120e+02 f 1.094e+05 |g| 9.733e+02 CG   8\n",
      "iter  6 act 7.800e+02 pre 6.430e+02 delta 1.120e+02 f 1.061e+05 |g| 9.243e+02 CG   4\n",
      "iter  7 act 9.735e+02 pre 9.279e+02 delta 1.120e+02 f 1.053e+05 |g| 3.511e+02 CG  14\n",
      "iter  8 act 4.701e+01 pre 4.620e+01 delta 1.120e+02 f 1.043e+05 |g| 4.207e+01 CG  17\n",
      "iter  9 act 6.209e-01 pre 6.201e-01 delta 1.120e+02 f 1.043e+05 |g| 1.007e+01 CG  12\n",
      "iter 10 act 3.962e-02 pre 3.962e-02 delta 1.120e+02 f 1.043e+05 |g| 8.693e-01 CG  20\n",
      "iter 11 act 1.611e-04 pre 1.611e-04 delta 1.120e+02 f 1.043e+05 |g| 7.352e-02 CG  16\n",
      "[CV 2/3] END logisticregression__C=10, logisticregression__penalty=l2, logisticregression__tol=1e-05;, score=0.763 total time=  35.4s\n",
      "[LibLinear]iter  1 act 3.752e+05 pre 3.216e+05 delta 8.025e+01 f 6.624e+05 |g| 2.458e+04 CG   9\n",
      "cg reaches trust region boundary\n",
      "iter  2 act 1.158e+05 pre 9.218e+04 delta 1.082e+02 f 2.872e+05 |g| 1.144e+04 CG  10\n",
      "iter  3 act 4.817e+04 pre 3.952e+04 delta 1.089e+02 f 1.714e+05 |g| 3.743e+03 CG  11\n",
      "iter  4 act 1.424e+04 pre 1.184e+04 delta 1.089e+02 f 1.233e+05 |g| 1.269e+03 CG  14\n",
      "iter  5 act 3.240e+03 pre 2.671e+03 delta 1.089e+02 f 1.090e+05 |g| 1.002e+03 CG   6\n",
      "iter  6 act 1.301e+03 pre 1.079e+03 delta 1.089e+02 f 1.058e+05 |g| 9.555e+02 CG   6\n",
      "iter  7 act 6.523e+02 pre 6.154e+02 delta 1.089e+02 f 1.045e+05 |g| 3.849e+02 CG  11\n",
      "iter  8 act 4.951e+01 pre 4.859e+01 delta 1.089e+02 f 1.038e+05 |g| 7.788e+01 CG  14\n",
      "iter  9 act 2.522e+00 pre 2.518e+00 delta 1.089e+02 f 1.038e+05 |g| 1.219e+01 CG  17\n",
      "iter 10 act 4.368e-02 pre 4.369e-02 delta 1.089e+02 f 1.038e+05 |g| 1.003e+00 CG  20\n",
      "iter 11 act 3.329e-04 pre 3.329e-04 delta 1.089e+02 f 1.038e+05 |g| 9.749e-02 CG  18\n",
      "[CV 3/3] END logisticregression__C=10, logisticregression__penalty=l2, logisticregression__tol=1e-05;, score=0.750 total time=  35.5s\n",
      "[LibLinear]iter  1 act 3.751e+05 pre 3.216e+05 delta 8.006e+01 f 6.624e+05 |g| 2.466e+04 CG   9\n",
      "cg reaches trust region boundary\n",
      "iter  2 act 1.156e+05 pre 9.229e+04 delta 1.083e+02 f 2.873e+05 |g| 1.109e+04 CG  10\n",
      "iter  3 act 4.847e+04 pre 3.999e+04 delta 1.134e+02 f 1.717e+05 |g| 3.627e+03 CG  12\n",
      "iter  4 act 1.341e+04 pre 1.112e+04 delta 1.134e+02 f 1.233e+05 |g| 1.222e+03 CG  14\n",
      "iter  5 act 3.156e+03 pre 2.583e+03 delta 1.134e+02 f 1.099e+05 |g| 9.083e+02 CG   8\n",
      "iter  6 act 7.370e+02 pre 6.105e+02 delta 1.134e+02 f 1.067e+05 |g| 9.512e+02 CG   3\n",
      "iter  7 act 1.083e+03 pre 1.021e+03 delta 1.134e+02 f 1.060e+05 |g| 3.372e+02 CG  14\n",
      "iter  8 act 5.959e+01 pre 5.791e+01 delta 1.134e+02 f 1.049e+05 |g| 5.446e+01 CG  16\n",
      "iter  9 act 1.171e+00 pre 1.168e+00 delta 1.134e+02 f 1.048e+05 |g| 1.401e+01 CG  14\n",
      "iter 10 act 6.229e-02 pre 6.229e-02 delta 1.134e+02 f 1.048e+05 |g| 1.341e+00 CG  20\n",
      "iter 11 act 3.010e-04 pre 3.010e-04 delta 1.134e+02 f 1.048e+05 |g| 1.012e-01 CG  16\n",
      "iter 12 act 4.698e-06 pre 4.695e-06 delta 1.134e+02 f 1.048e+05 |g| 8.453e-03 CG  21\n",
      "[CV 1/3] END logisticregression__C=10, logisticregression__penalty=l2, logisticregression__tol=1e-06;, score=0.749 total time=  40.0s\n",
      "[LibLinear]iter  1 act 3.764e+05 pre 3.228e+05 delta 8.157e+01 f 6.624e+05 |g| 2.455e+04 CG   9\n",
      "cg reaches trust region boundary\n",
      "iter  2 act 1.156e+05 pre 9.265e+04 delta 1.107e+02 f 2.860e+05 |g| 1.115e+04 CG  10\n",
      "iter  3 act 4.751e+04 pre 3.914e+04 delta 1.120e+02 f 1.704e+05 |g| 3.560e+03 CG  12\n",
      "iter  4 act 1.346e+04 pre 1.111e+04 delta 1.120e+02 f 1.228e+05 |g| 1.214e+03 CG  14\n",
      "iter  5 act 3.294e+03 pre 2.701e+03 delta 1.120e+02 f 1.094e+05 |g| 9.733e+02 CG   8\n",
      "iter  6 act 7.800e+02 pre 6.430e+02 delta 1.120e+02 f 1.061e+05 |g| 9.243e+02 CG   4\n",
      "iter  7 act 9.735e+02 pre 9.279e+02 delta 1.120e+02 f 1.053e+05 |g| 3.511e+02 CG  14\n",
      "iter  8 act 4.701e+01 pre 4.620e+01 delta 1.120e+02 f 1.043e+05 |g| 4.207e+01 CG  17\n",
      "iter  9 act 6.209e-01 pre 6.201e-01 delta 1.120e+02 f 1.043e+05 |g| 1.007e+01 CG  12\n",
      "iter 10 act 3.962e-02 pre 3.962e-02 delta 1.120e+02 f 1.043e+05 |g| 8.693e-01 CG  20\n",
      "iter 11 act 1.611e-04 pre 1.611e-04 delta 1.120e+02 f 1.043e+05 |g| 7.352e-02 CG  16\n",
      "iter 12 act 2.423e-06 pre 2.422e-06 delta 1.120e+02 f 1.043e+05 |g| 6.243e-03 CG  19\n",
      "[CV 2/3] END logisticregression__C=10, logisticregression__penalty=l2, logisticregression__tol=1e-06;, score=0.763 total time=  39.3s\n",
      "[LibLinear]iter  1 act 3.752e+05 pre 3.216e+05 delta 8.025e+01 f 6.624e+05 |g| 2.458e+04 CG   9\n",
      "cg reaches trust region boundary\n",
      "iter  2 act 1.158e+05 pre 9.218e+04 delta 1.082e+02 f 2.872e+05 |g| 1.144e+04 CG  10\n",
      "iter  3 act 4.817e+04 pre 3.952e+04 delta 1.089e+02 f 1.714e+05 |g| 3.743e+03 CG  11\n",
      "iter  4 act 1.424e+04 pre 1.184e+04 delta 1.089e+02 f 1.233e+05 |g| 1.269e+03 CG  14\n",
      "iter  5 act 3.240e+03 pre 2.671e+03 delta 1.089e+02 f 1.090e+05 |g| 1.002e+03 CG   6\n",
      "iter  6 act 1.301e+03 pre 1.079e+03 delta 1.089e+02 f 1.058e+05 |g| 9.555e+02 CG   6\n",
      "iter  7 act 6.523e+02 pre 6.154e+02 delta 1.089e+02 f 1.045e+05 |g| 3.849e+02 CG  11\n",
      "iter  8 act 4.951e+01 pre 4.859e+01 delta 1.089e+02 f 1.038e+05 |g| 7.788e+01 CG  14\n",
      "iter  9 act 2.522e+00 pre 2.518e+00 delta 1.089e+02 f 1.038e+05 |g| 1.219e+01 CG  17\n",
      "iter 10 act 4.368e-02 pre 4.369e-02 delta 1.089e+02 f 1.038e+05 |g| 1.003e+00 CG  20\n",
      "iter 11 act 3.329e-04 pre 3.329e-04 delta 1.089e+02 f 1.038e+05 |g| 9.749e-02 CG  18\n",
      "iter 12 act 4.781e-06 pre 4.781e-06 delta 1.089e+02 f 1.038e+05 |g| 9.300e-03 CG  21\n",
      "[CV 3/3] END logisticregression__C=10, logisticregression__penalty=l2, logisticregression__tol=1e-06;, score=0.750 total time=  40.3s\n",
      "[LibLinear]iter  1 act 2.518e+05 pre 2.155e+05 delta 5.188e+01 f 4.968e+05 |g| 1.836e+04 CG   6\n",
      "cg reaches trust region boundary\n",
      "iter  2 act 8.044e+04 pre 6.395e+04 delta 7.185e+01 f 2.451e+05 |g| 9.536e+03 CG   7\n",
      "iter  3 act 2.144e+04 pre 1.694e+04 delta 7.185e+01 f 1.646e+05 |g| 1.166e+04 CG   3\n",
      "cg reaches trust region boundary\n",
      "iter  4 act 3.044e+04 pre 2.551e+04 delta 9.150e+01 f 1.432e+05 |g| 4.767e+03 CG   6\n",
      "iter  5 act 1.256e+04 pre 1.155e+04 delta 9.150e+01 f 1.127e+05 |g| 1.497e+03 CG  10\n",
      "iter  6 act 1.464e+03 pre 1.346e+03 delta 9.150e+01 f 1.002e+05 |g| 2.661e+02 CG  14\n",
      "iter  7 act 1.298e+02 pre 1.142e+02 delta 9.150e+01 f 9.872e+04 |g| 1.824e+02 CG   6\n",
      "iter  8 act 3.349e+01 pre 3.278e+01 delta 9.150e+01 f 9.859e+04 |g| 5.997e+01 CG  12\n",
      "iter  9 act 1.713e+00 pre 1.711e+00 delta 9.150e+01 f 9.855e+04 |g| 6.802e+00 CG  20\n",
      "iter 10 act 7.215e-03 pre 7.215e-03 delta 9.150e+01 f 9.855e+04 |g| 4.388e-01 CG  17\n",
      "iter 11 act 1.018e-04 pre 1.018e-04 delta 9.150e+01 f 9.855e+04 |g| 4.251e-02 CG  20\n",
      "Best estimator : Pipeline(steps=[('columnselector',\n",
      "                 ColumnSelector(cols='lemm_text', drop_axis=True)),\n",
      "                ('tfidfvectorizer',\n",
      "                 TfidfVectorizer(stop_words=['why', 'between', 'how', 'only',\n",
      "                                             \"hasn't\", 'in', 'for', 'don',\n",
      "                                             'his', 'myself', 'itself', 'm',\n",
      "                                             'she', 'mightn', 'themselves',\n",
      "                                             'about', 'yourselves', 'other',\n",
      "                                             'we', 'couldn', \"she's\", 'didn',\n",
      "                                             'ours', 'll', 'now', 'do', 'can',\n",
      "                                             \"didn't\", \"won't\", \"that'll\", ...])),\n",
      "                ('logisticregression',\n",
      "                 LogisticRegression(C=5, class_weight='balanced', max_iter=150,\n",
      "                                    solver='liblinear', tol=1e-05,\n",
      "                                    verbose=2))])\n",
      "Cross validation F1 ⟶ 0.75\n",
      "\n"
     ]
    }
   ],
   "source": [
    "lr_pipeline = make_pipeline(\n",
    "    ColumnSelector(cols=('lemm_text'), drop_axis=True),\n",
    "    TfidfVectorizer(stop_words=STOPWORDS),\n",
    "    LogisticRegression(max_iter=150, solver='liblinear', class_weight='balanced', verbose=2))\n",
    "\n",
    "lr_params = {'logisticregression__C': [5, 10],\n",
    "             'logisticregression__penalty': ['l2'],\n",
    "             'logisticregression__tol': [1e-5, 1e-6]}\n",
    "\n",
    "lr_gs = init_GS(lr_pipeline, lr_params, X_train, y_train)\n",
    "\n",
    "lr = lr_gs.best_estimator_\n",
    "lr_f1_cv = round(lr_gs.best_score_, 2)\n",
    "\n",
    "print(f'Best estimator : {str(lr)}\\n'\n",
    "      f'Cross validation F1 ⟶ {lr_f1_cv}\\n')"
   ]
  },
  {
   "cell_type": "markdown",
   "id": "6f22371e",
   "metadata": {},
   "source": [
    "### RandomForestClassifier"
   ]
  },
  {
   "cell_type": "code",
   "execution_count": 24,
   "id": "28f428ec",
   "metadata": {},
   "outputs": [
    {
     "name": "stdout",
     "output_type": "stream",
     "text": [
      "building tree 1 of 150\n",
      "building tree 2 of 150\n",
      "building tree 3 of 150\n",
      "building tree 4 of 150\n",
      "building tree 5 of 150\n",
      "building tree 6 of 150\n",
      "building tree 7 of 150\n",
      "building tree 8 of 150\n",
      "building tree 9 of 150\n",
      "building tree 10 of 150\n",
      "building tree 11 of 150\n",
      "building tree 12 of 150\n",
      "building tree 13 of 150\n",
      "building tree 14 of 150\n",
      "building tree 15 of 150\n",
      "building tree 16 of 150\n",
      "building tree 17 of 150\n",
      "building tree 18 of 150\n",
      "building tree 19 of 150\n",
      "building tree 20 of 150\n",
      "building tree 21 of 150\n",
      "building tree 22 of 150\n",
      "building tree 23 of 150\n",
      "building tree 24 of 150\n",
      "building tree 25 of 150\n",
      "building tree 26 of 150\n",
      "building tree 27 of 150\n",
      "building tree 28 of 150\n",
      "building tree 29 of 150\n",
      "building tree 30 of 150\n",
      "building tree 31 of 150\n",
      "building tree 32 of 150\n",
      "building tree 33 of 150\n",
      "building tree 34 of 150\n",
      "building tree 35 of 150\n",
      "building tree 36 of 150\n",
      "building tree 37 of 150\n",
      "building tree 38 of 150\n",
      "building tree 39 of 150\n",
      "building tree 40 of 150\n"
     ]
    },
    {
     "name": "stderr",
     "output_type": "stream",
     "text": [
      "[Parallel(n_jobs=-1)]: Done  40 tasks      | elapsed:  3.5min\n"
     ]
    },
    {
     "name": "stdout",
     "output_type": "stream",
     "text": [
      "building tree 41 of 150\n",
      "building tree 42 of 150\n",
      "building tree 43 of 150\n",
      "building tree 44 of 150\n",
      "building tree 45 of 150\n",
      "building tree 46 of 150\n",
      "building tree 47 of 150\n",
      "building tree 48 of 150\n",
      "building tree 49 of 150\n",
      "building tree 50 of 150\n",
      "building tree 51 of 150\n",
      "building tree 52 of 150\n",
      "building tree 53 of 150\n",
      "building tree 54 of 150\n",
      "building tree 55 of 150\n",
      "building tree 56 of 150\n",
      "building tree 57 of 150\n",
      "building tree 58 of 150\n",
      "building tree 59 of 150\n",
      "building tree 60 of 150\n",
      "building tree 61 of 150\n",
      "building tree 62 of 150\n",
      "building tree 63 of 150\n",
      "building tree 64 of 150\n",
      "building tree 65 of 150\n",
      "building tree 66 of 150\n",
      "building tree 67 of 150\n",
      "building tree 68 of 150\n",
      "building tree 69 of 150\n",
      "building tree 70 of 150\n",
      "building tree 71 of 150\n",
      "building tree 72 of 150\n",
      "building tree 73 of 150\n",
      "building tree 74 of 150\n",
      "building tree 75 of 150\n",
      "building tree 76 of 150\n",
      "building tree 77 of 150\n",
      "building tree 78 of 150\n",
      "building tree 79 of 150\n",
      "building tree 80 of 150\n",
      "building tree 81 of 150\n",
      "building tree 82 of 150\n",
      "building tree 83 of 150\n",
      "building tree 84 of 150\n",
      "building tree 85 of 150\n",
      "building tree 86 of 150\n",
      "building tree 87 of 150\n",
      "building tree 88 of 150\n",
      "building tree 89 of 150\n",
      "building tree 90 of 150\n",
      "building tree 91 of 150\n",
      "building tree 92 of 150\n",
      "building tree 93 of 150\n",
      "building tree 94 of 150\n",
      "building tree 95 of 150\n",
      "building tree 96 of 150\n",
      "building tree 97 of 150\n",
      "building tree 98 of 150\n",
      "building tree 99 of 150\n",
      "building tree 100 of 150\n",
      "building tree 101 of 150\n",
      "building tree 102 of 150\n",
      "building tree 103 of 150\n",
      "building tree 104 of 150\n",
      "building tree 105 of 150\n",
      "building tree 106 of 150\n",
      "building tree 107 of 150\n",
      "building tree 108 of 150\n",
      "building tree 109 of 150\n",
      "building tree 110 of 150\n",
      "building tree 111 of 150\n",
      "building tree 112 of 150\n",
      "building tree 113 of 150\n",
      "building tree 114 of 150\n",
      "building tree 115 of 150\n",
      "building tree 116 of 150\n",
      "building tree 117 of 150\n",
      "building tree 118 of 150\n",
      "building tree 119 of 150\n",
      "building tree 120 of 150\n",
      "building tree 121 of 150\n",
      "building tree 122 of 150\n",
      "building tree 123 of 150\n",
      "building tree 124 of 150\n",
      "building tree 125 of 150\n",
      "building tree 126 of 150\n",
      "building tree 127 of 150\n",
      "building tree 128 of 150\n",
      "building tree 129 of 150\n",
      "building tree 130 of 150\n",
      "building tree 131 of 150\n",
      "building tree 132 of 150\n",
      "building tree 133 of 150\n",
      "building tree 134 of 150\n",
      "building tree 135 of 150\n",
      "building tree 136 of 150\n",
      "building tree 137 of 150\n",
      "building tree 138 of 150\n",
      "building tree 139 of 150\n",
      "building tree 140 of 150\n",
      "building tree 141 of 150\n",
      "building tree 142 of 150\n",
      "building tree 143 of 150\n",
      "building tree 144 of 150\n",
      "building tree 145 of 150\n",
      "building tree 146 of 150\n",
      "building tree 147 of 150\n",
      "building tree 148 of 150\n",
      "building tree 149 of 150\n",
      "building tree 150 of 150\n"
     ]
    },
    {
     "name": "stderr",
     "output_type": "stream",
     "text": [
      "[Parallel(n_jobs=1)]: Done  40 tasks      | elapsed:    2.5s\n"
     ]
    },
    {
     "name": "stdout",
     "output_type": "stream",
     "text": [
      "building tree 1 of 150\n",
      "building tree 2 of 150\n",
      "building tree 3 of 150\n",
      "building tree 4 of 150\n",
      "building tree 5 of 150\n",
      "building tree 6 of 150\n",
      "building tree 7 of 150\n",
      "building tree 8 of 150\n",
      "building tree 9 of 150\n",
      "building tree 10 of 150\n",
      "building tree 11 of 150\n",
      "building tree 12 of 150\n",
      "building tree 13 of 150\n",
      "building tree 14 of 150\n",
      "building tree 15 of 150\n",
      "building tree 16 of 150\n",
      "building tree 17 of 150\n",
      "building tree 18 of 150\n",
      "building tree 19 of 150\n",
      "building tree 20 of 150\n",
      "building tree 21 of 150\n",
      "building tree 22 of 150\n",
      "building tree 23 of 150\n",
      "building tree 24 of 150\n",
      "building tree 25 of 150\n",
      "building tree 26 of 150\n",
      "building tree 27 of 150\n",
      "building tree 28 of 150\n",
      "building tree 29 of 150\n",
      "building tree 30 of 150\n",
      "building tree 31 of 150\n",
      "building tree 32 of 150\n",
      "building tree 33 of 150\n",
      "building tree 34 of 150\n",
      "building tree 35 of 150\n",
      "building tree 36 of 150\n",
      "building tree 37 of 150\n",
      "building tree 38 of 150\n",
      "building tree 39 of 150\n",
      "building tree 40 of 150\n"
     ]
    },
    {
     "name": "stderr",
     "output_type": "stream",
     "text": [
      "[Parallel(n_jobs=-1)]: Done  40 tasks      | elapsed:  3.7min\n"
     ]
    },
    {
     "name": "stdout",
     "output_type": "stream",
     "text": [
      "building tree 41 of 150\n",
      "building tree 42 of 150\n",
      "building tree 43 of 150\n",
      "building tree 44 of 150\n",
      "building tree 45 of 150\n",
      "building tree 46 of 150\n",
      "building tree 47 of 150\n",
      "building tree 48 of 150\n",
      "building tree 49 of 150\n",
      "building tree 50 of 150\n",
      "building tree 51 of 150\n",
      "building tree 52 of 150\n",
      "building tree 53 of 150\n",
      "building tree 54 of 150\n",
      "building tree 55 of 150\n",
      "building tree 56 of 150\n",
      "building tree 57 of 150\n",
      "building tree 58 of 150\n",
      "building tree 59 of 150\n",
      "building tree 60 of 150\n",
      "building tree 61 of 150\n",
      "building tree 62 of 150\n",
      "building tree 63 of 150\n",
      "building tree 64 of 150\n",
      "building tree 65 of 150\n",
      "building tree 66 of 150\n",
      "building tree 67 of 150\n",
      "building tree 68 of 150\n",
      "building tree 69 of 150\n",
      "building tree 70 of 150\n",
      "building tree 71 of 150\n",
      "building tree 72 of 150\n",
      "building tree 73 of 150\n",
      "building tree 74 of 150\n",
      "building tree 75 of 150\n",
      "building tree 76 of 150\n",
      "building tree 77 of 150\n",
      "building tree 78 of 150\n",
      "building tree 79 of 150\n",
      "building tree 80 of 150\n",
      "building tree 81 of 150\n",
      "building tree 82 of 150\n",
      "building tree 83 of 150\n",
      "building tree 84 of 150\n",
      "building tree 85 of 150\n",
      "building tree 86 of 150\n",
      "building tree 87 of 150\n",
      "building tree 88 of 150\n",
      "building tree 89 of 150\n",
      "building tree 90 of 150\n",
      "building tree 91 of 150\n",
      "building tree 92 of 150\n",
      "building tree 93 of 150\n",
      "building tree 94 of 150\n",
      "building tree 95 of 150\n",
      "building tree 96 of 150\n",
      "building tree 97 of 150\n",
      "building tree 98 of 150\n",
      "building tree 99 of 150\n",
      "building tree 100 of 150\n",
      "building tree 101 of 150\n",
      "building tree 102 of 150\n",
      "building tree 103 of 150\n",
      "building tree 104 of 150\n",
      "building tree 105 of 150\n",
      "building tree 106 of 150\n",
      "building tree 107 of 150\n",
      "building tree 108 of 150\n",
      "building tree 109 of 150\n",
      "building tree 110 of 150\n",
      "building tree 111 of 150\n",
      "building tree 112 of 150\n",
      "building tree 113 of 150\n",
      "building tree 114 of 150\n",
      "building tree 115 of 150\n",
      "building tree 116 of 150\n",
      "building tree 117 of 150\n",
      "building tree 118 of 150\n",
      "building tree 119 of 150\n",
      "building tree 120 of 150\n",
      "building tree 121 of 150\n",
      "building tree 122 of 150\n",
      "building tree 123 of 150\n",
      "building tree 124 of 150\n",
      "building tree 125 of 150\n",
      "building tree 126 of 150\n",
      "building tree 127 of 150\n",
      "building tree 128 of 150\n",
      "building tree 129 of 150\n",
      "building tree 130 of 150\n",
      "building tree 131 of 150\n",
      "building tree 132 of 150\n",
      "building tree 133 of 150\n",
      "building tree 134 of 150\n",
      "building tree 135 of 150\n",
      "building tree 136 of 150\n",
      "building tree 137 of 150\n",
      "building tree 138 of 150\n",
      "building tree 139 of 150\n",
      "building tree 140 of 150\n",
      "building tree 141 of 150\n",
      "building tree 142 of 150\n",
      "building tree 143 of 150\n",
      "building tree 144 of 150\n",
      "building tree 145 of 150\n",
      "building tree 146 of 150\n",
      "building tree 147 of 150\n",
      "building tree 148 of 150\n",
      "building tree 149 of 150\n",
      "building tree 150 of 150\n"
     ]
    },
    {
     "name": "stderr",
     "output_type": "stream",
     "text": [
      "[Parallel(n_jobs=1)]: Done  40 tasks      | elapsed:    2.2s\n"
     ]
    },
    {
     "name": "stdout",
     "output_type": "stream",
     "text": [
      "building tree 1 of 150\n",
      "building tree 2 of 150\n",
      "building tree 3 of 150\n",
      "building tree 4 of 150\n",
      "building tree 5 of 150\n",
      "building tree 6 of 150\n",
      "building tree 7 of 150\n",
      "building tree 8 of 150\n",
      "building tree 9 of 150\n",
      "building tree 10 of 150\n",
      "building tree 11 of 150\n",
      "building tree 12 of 150\n",
      "building tree 13 of 150\n",
      "building tree 14 of 150\n",
      "building tree 15 of 150\n",
      "building tree 16 of 150\n",
      "building tree 17 of 150\n",
      "building tree 18 of 150\n",
      "building tree 19 of 150\n",
      "building tree 20 of 150\n",
      "building tree 21 of 150\n",
      "building tree 22 of 150\n",
      "building tree 23 of 150\n",
      "building tree 24 of 150\n",
      "building tree 25 of 150\n",
      "building tree 26 of 150\n",
      "building tree 27 of 150\n",
      "building tree 28 of 150\n",
      "building tree 29 of 150\n",
      "building tree 30 of 150\n",
      "building tree 31 of 150\n",
      "building tree 32 of 150\n",
      "building tree 33 of 150\n",
      "building tree 34 of 150\n",
      "building tree 35 of 150\n",
      "building tree 36 of 150\n",
      "building tree 37 of 150\n",
      "building tree 38 of 150\n",
      "building tree 39 of 150\n",
      "building tree 40 of 150\n"
     ]
    },
    {
     "name": "stderr",
     "output_type": "stream",
     "text": [
      "[Parallel(n_jobs=-1)]: Done  40 tasks      | elapsed:  3.7min\n"
     ]
    },
    {
     "name": "stdout",
     "output_type": "stream",
     "text": [
      "building tree 41 of 150\n",
      "building tree 42 of 150\n",
      "building tree 43 of 150\n",
      "building tree 44 of 150\n",
      "building tree 45 of 150\n",
      "building tree 46 of 150\n",
      "building tree 47 of 150\n",
      "building tree 48 of 150\n",
      "building tree 49 of 150\n",
      "building tree 50 of 150\n",
      "building tree 51 of 150\n",
      "building tree 52 of 150\n",
      "building tree 53 of 150\n",
      "building tree 54 of 150\n",
      "building tree 55 of 150\n",
      "building tree 56 of 150\n",
      "building tree 57 of 150\n",
      "building tree 58 of 150\n",
      "building tree 59 of 150\n",
      "building tree 60 of 150\n",
      "building tree 61 of 150\n",
      "building tree 62 of 150\n",
      "building tree 63 of 150\n",
      "building tree 64 of 150\n",
      "building tree 65 of 150\n",
      "building tree 66 of 150\n",
      "building tree 67 of 150\n",
      "building tree 68 of 150\n",
      "building tree 69 of 150\n",
      "building tree 70 of 150\n",
      "building tree 71 of 150\n",
      "building tree 72 of 150\n",
      "building tree 73 of 150\n",
      "building tree 74 of 150\n",
      "building tree 75 of 150\n",
      "building tree 76 of 150\n",
      "building tree 77 of 150\n",
      "building tree 78 of 150\n",
      "building tree 79 of 150\n",
      "building tree 80 of 150\n",
      "building tree 81 of 150\n",
      "building tree 82 of 150\n",
      "building tree 83 of 150\n",
      "building tree 84 of 150\n",
      "building tree 85 of 150\n",
      "building tree 86 of 150\n",
      "building tree 87 of 150\n",
      "building tree 88 of 150\n",
      "building tree 89 of 150\n",
      "building tree 90 of 150\n",
      "building tree 91 of 150\n",
      "building tree 92 of 150\n",
      "building tree 93 of 150\n",
      "building tree 94 of 150\n",
      "building tree 95 of 150\n",
      "building tree 96 of 150\n",
      "building tree 97 of 150\n",
      "building tree 98 of 150\n",
      "building tree 99 of 150\n",
      "building tree 100 of 150\n",
      "building tree 101 of 150\n",
      "building tree 102 of 150\n",
      "building tree 103 of 150\n",
      "building tree 104 of 150\n",
      "building tree 105 of 150\n",
      "building tree 106 of 150\n",
      "building tree 107 of 150\n",
      "building tree 108 of 150\n",
      "building tree 109 of 150\n",
      "building tree 110 of 150\n",
      "building tree 111 of 150\n",
      "building tree 112 of 150\n",
      "building tree 113 of 150\n",
      "building tree 114 of 150\n",
      "building tree 115 of 150\n",
      "building tree 116 of 150\n",
      "building tree 117 of 150\n",
      "building tree 118 of 150\n",
      "building tree 119 of 150\n",
      "building tree 120 of 150\n",
      "building tree 121 of 150\n",
      "building tree 122 of 150\n",
      "building tree 123 of 150\n",
      "building tree 124 of 150\n",
      "building tree 125 of 150\n",
      "building tree 126 of 150\n",
      "building tree 127 of 150\n",
      "building tree 128 of 150\n",
      "building tree 129 of 150\n",
      "building tree 130 of 150\n",
      "building tree 131 of 150\n",
      "building tree 132 of 150\n",
      "building tree 133 of 150\n",
      "building tree 134 of 150\n",
      "building tree 135 of 150\n",
      "building tree 136 of 150\n",
      "building tree 137 of 150\n",
      "building tree 138 of 150\n",
      "building tree 139 of 150\n",
      "building tree 140 of 150\n",
      "building tree 141 of 150\n",
      "building tree 142 of 150\n",
      "building tree 143 of 150\n",
      "building tree 144 of 150\n",
      "building tree 145 of 150\n",
      "building tree 146 of 150\n",
      "building tree 147 of 150\n",
      "building tree 148 of 150\n",
      "building tree 149 of 150\n",
      "building tree 150 of 150\n"
     ]
    },
    {
     "name": "stderr",
     "output_type": "stream",
     "text": [
      "[Parallel(n_jobs=1)]: Done  40 tasks      | elapsed:    2.3s\n"
     ]
    },
    {
     "name": "stdout",
     "output_type": "stream",
     "text": [
      "RandomForestClassifier(class_weight='balanced', n_estimators=150)\n",
      "Cross validation F1 ⟶ 0.61\n",
      "\n"
     ]
    }
   ],
   "source": [
    "rfc_pipeline = make_pipeline(\n",
    "    ColumnSelector(cols=('lemm_text'), drop_axis=True),\n",
    "    TfidfVectorizer(stop_words=STOPWORDS), \n",
    "    RandomForestClassifier(class_weight='balanced', n_estimators=150, verbose=2, n_jobs=-1))\n",
    "\n",
    "rfc_f1_cv = round(\n",
    "    cross_val_score(rfc_pipeline, \n",
    "                    X_train, \n",
    "                    y_train, \n",
    "                    cv=CROSS_VAL, \n",
    "                    scoring=SCORING).mean(), 2)\n",
    "\n",
    "print(f'RandomForestClassifier(class_weight=\\'balanced\\', n_estimators=150)\\n'\n",
    "      f'Cross validation F1 ⟶ {rfc_f1_cv}\\n')"
   ]
  },
  {
   "cell_type": "markdown",
   "id": "f4b3d4d9",
   "metadata": {},
   "source": [
    "### GradientBoostingClassifier"
   ]
  },
  {
   "cell_type": "code",
   "execution_count": 25,
   "id": "82a6f30e",
   "metadata": {
    "scrolled": false
   },
   "outputs": [
    {
     "name": "stdout",
     "output_type": "stream",
     "text": [
      "      Iter       Train Loss   Remaining Time \n",
      "         1           0.5449            3.83m\n",
      "         2           0.5162            3.61m\n",
      "         3           0.4941            3.53m\n",
      "         4           0.4795            3.47m\n",
      "         5           0.4679            3.43m\n",
      "         6           0.4564            3.39m\n",
      "         7           0.4481            3.36m\n",
      "         8           0.4406            3.32m\n",
      "         9           0.4338            3.30m\n",
      "        10           0.4288            3.27m\n",
      "        20           0.3854            3.00m\n",
      "        30           0.3589            2.76m\n",
      "        40           0.3401            2.54m\n",
      "        50           0.3256            2.32m\n",
      "        60           0.3136            2.09m\n",
      "        70           0.3031            1.85m\n",
      "        80           0.2944            1.62m\n",
      "        90           0.2856            1.39m\n",
      "       100           0.2783            1.16m\n",
      "      Iter       Train Loss   Remaining Time \n",
      "         1           0.5457            3.60m\n",
      "         2           0.5158            3.63m\n",
      "         3           0.4922            3.60m\n",
      "         4           0.4787            3.60m\n",
      "         5           0.4673            3.57m\n",
      "         6           0.4555            3.55m\n",
      "         7           0.4477            3.51m\n",
      "         8           0.4421            3.48m\n",
      "         9           0.4366            3.44m\n",
      "        10           0.4308            3.39m\n",
      "        20           0.3851            3.12m\n",
      "        30           0.3594            2.88m\n",
      "        40           0.3416            2.62m\n",
      "        50           0.3270            2.38m\n",
      "        60           0.3147            2.13m\n",
      "        70           0.3034            1.90m\n",
      "        80           0.2932            1.65m\n",
      "        90           0.2836            1.41m\n",
      "       100           0.2767            1.18m\n",
      "      Iter       Train Loss   Remaining Time \n",
      "         1           0.5466            3.59m\n",
      "         2           0.5170            3.59m\n",
      "         3           0.4941            3.46m\n",
      "         4           0.4795            3.39m\n",
      "         5           0.4673            3.35m\n",
      "         6           0.4547            3.32m\n",
      "         7           0.4466            3.28m\n",
      "         8           0.4396            3.24m\n",
      "         9           0.4332            3.21m\n",
      "        10           0.4275            3.18m\n",
      "        20           0.3846            2.92m\n",
      "        30           0.3579            2.69m\n",
      "        40           0.3399            2.47m\n",
      "        50           0.3245            2.25m\n",
      "        60           0.3114            2.02m\n",
      "        70           0.3010            1.79m\n",
      "        80           0.2918            1.57m\n",
      "        90           0.2834            1.36m\n",
      "       100           0.2754            1.13m\n",
      "GradientBoostingClassifier(n_estimators=150, learning_rate=0.3)\n",
      "Cross validation F1 ⟶ 0.72\n",
      "\n"
     ]
    }
   ],
   "source": [
    "gbc_pipeline = make_pipeline(\n",
    "    ColumnSelector(cols=('lemm_text'), drop_axis=True),\n",
    "    TfidfVectorizer(stop_words=STOPWORDS), \n",
    "    GradientBoostingClassifier(n_estimators=150, learning_rate=0.3, verbose=1))\n",
    "\n",
    "gbc_f1_cv = round(\n",
    "    cross_val_score(gbc_pipeline, \n",
    "                    X_train, \n",
    "                    y_train, \n",
    "                    cv=CROSS_VAL, \n",
    "                    scoring=SCORING).mean(), 2)\n",
    "\n",
    "print(f'GradientBoostingClassifier(n_estimators=150, learning_rate=0.3)\\n'\n",
    "      f'Cross validation F1 ⟶ {gbc_f1_cv}\\n')"
   ]
  },
  {
   "cell_type": "markdown",
   "id": "b0fd53a1",
   "metadata": {},
   "source": [
    "### Результаты обучения моделей"
   ]
  },
  {
   "cell_type": "code",
   "execution_count": 26,
   "id": "08da568b",
   "metadata": {},
   "outputs": [
    {
     "data": {
      "text/html": [
       "<div>\n",
       "<style scoped>\n",
       "    .dataframe tbody tr th:only-of-type {\n",
       "        vertical-align: middle;\n",
       "    }\n",
       "\n",
       "    .dataframe tbody tr th {\n",
       "        vertical-align: top;\n",
       "    }\n",
       "\n",
       "    .dataframe thead th {\n",
       "        text-align: right;\n",
       "    }\n",
       "</style>\n",
       "<table border=\"1\" class=\"dataframe\">\n",
       "  <thead>\n",
       "    <tr style=\"text-align: right;\">\n",
       "      <th></th>\n",
       "      <th>Модель</th>\n",
       "      <th>F1-мера на кросс-валидации</th>\n",
       "    </tr>\n",
       "  </thead>\n",
       "  <tbody>\n",
       "    <tr>\n",
       "      <th>0</th>\n",
       "      <td>Pipeline(steps=[('columnselector',\\n          ...</td>\n",
       "      <td>0.75</td>\n",
       "    </tr>\n",
       "    <tr>\n",
       "      <th>2</th>\n",
       "      <td>GradientBoostingClassifier(n_estimators=150, l...</td>\n",
       "      <td>0.72</td>\n",
       "    </tr>\n",
       "    <tr>\n",
       "      <th>1</th>\n",
       "      <td>RandomForestClassifier(class_weight='balanced'...</td>\n",
       "      <td>0.61</td>\n",
       "    </tr>\n",
       "  </tbody>\n",
       "</table>\n",
       "</div>"
      ],
      "text/plain": [
       "                                              Модель  \\\n",
       "0  Pipeline(steps=[('columnselector',\\n          ...   \n",
       "2  GradientBoostingClassifier(n_estimators=150, l...   \n",
       "1  RandomForestClassifier(class_weight='balanced'...   \n",
       "\n",
       "   F1-мера на кросс-валидации  \n",
       "0                        0.75  \n",
       "2                        0.72  \n",
       "1                        0.61  "
      ]
     },
     "execution_count": 26,
     "metadata": {},
     "output_type": "execute_result"
    }
   ],
   "source": [
    "models_results = pd.DataFrame(\n",
    "    {\n",
    "        'Модель': [\n",
    "            str(lr), \n",
    "            'RandomForestClassifier(class_weight=\\'balanced\\', n_estimators=150)', \n",
    "            'GradientBoostingClassifier(n_estimators=150, learning_rate=0.3)'],\n",
    "        \n",
    "        'F1-мера на кросс-валидации': [\n",
    "            lr_f1_cv, \n",
    "            rfc_f1_cv, \n",
    "            gbc_f1_cv]\n",
    "    }\n",
    ")\n",
    "\n",
    "models_results = models_results.sort_values(by='F1-мера на кросс-валидации', ascending=False)\n",
    "models_results"
   ]
  },
  {
   "cell_type": "markdown",
   "id": "bd38694f",
   "metadata": {},
   "source": [
    "<div style=\"border: 3px solid rgb(0,0,0); padding: 20px\">\n",
    "    \n",
    "### Итого\n",
    "    \n",
    "Выбрали модель <tt>LogisticRegression(C=5, class_weight='balanced', max_iter=150,\n",
    "                                    solver='liblinear', tol=1e-05)</tt>. \n",
    "    \n",
    "Значение <tt>F1-меры</tt> на кросс-валидации у данной модели равно <tt>0.76</tt>"
   ]
  },
  {
   "cell_type": "markdown",
   "id": "21fe033c",
   "metadata": {},
   "source": [
    "## Тестирование модели 💯"
   ]
  },
  {
   "cell_type": "markdown",
   "id": "4b541d0c",
   "metadata": {},
   "source": [
    "### Test F1"
   ]
  },
  {
   "cell_type": "code",
   "execution_count": 27,
   "id": "983b654b",
   "metadata": {},
   "outputs": [
    {
     "name": "stdout",
     "output_type": "stream",
     "text": [
      "Model : Pipeline(steps=[('columnselector',\n",
      "                 ColumnSelector(cols='lemm_text', drop_axis=True)),\n",
      "                ('tfidfvectorizer',\n",
      "                 TfidfVectorizer(stop_words=['why', 'between', 'how', 'only',\n",
      "                                             \"hasn't\", 'in', 'for', 'don',\n",
      "                                             'his', 'myself', 'itself', 'm',\n",
      "                                             'she', 'mightn', 'themselves',\n",
      "                                             'about', 'yourselves', 'other',\n",
      "                                             'we', 'couldn', \"she's\", 'didn',\n",
      "                                             'ours', 'll', 'now', 'do', 'can',\n",
      "                                             \"didn't\", \"won't\", \"that'll\", ...])),\n",
      "                ('logisticregression',\n",
      "                 LogisticRegression(C=5, class_weight='balanced', max_iter=150,\n",
      "                                    solver='liblinear', tol=1e-05,\n",
      "                                    verbose=2))])\n",
      "Test F1 ⟶ 0.75097\n"
     ]
    }
   ],
   "source": [
    "lr_test_preds = lr.predict(X_test)\n",
    "lr_f1_test = round(f1_score(y_test, lr_test_preds), 5)\n",
    "\n",
    "print(f'Model : {str(lr)}\\n'\n",
    "      f'Test F1 ⟶ {lr_f1_test}')"
   ]
  },
  {
   "cell_type": "markdown",
   "id": "f1d1dfee",
   "metadata": {},
   "source": [
    "Конечное значение <tt>F1-меры</tt> удовлетворяет ТЗ. Модель можно использовать.\n",
    "\n",
    "Посмотрим на значение AUC-ROC и построим ROC-кривую:"
   ]
  },
  {
   "cell_type": "markdown",
   "id": "b03a6261",
   "metadata": {},
   "source": [
    "### AUC-ROC, ROC-кривая"
   ]
  },
  {
   "cell_type": "code",
   "execution_count": 28,
   "id": "f3f225ca",
   "metadata": {},
   "outputs": [
    {
     "data": {
      "image/png": "[encoded data removed]",
      "text/plain": [
       "<Figure size 864x432 with 1 Axes>"
      ]
     },
     "metadata": {
      "needs_background": "light"
     },
     "output_type": "display_data"
    }
   ],
   "source": [
    "test_one_probs = lr.predict_proba(X_test)[:, 1]\n",
    "fper_test, tper_test, thresholds_test = roc_curve(y_test, test_one_probs)\n",
    "model_roc_auc = roc_auc_score(y_test, test_one_probs)\n",
    "\n",
    "plt.figure(figsize=(12, 6))\n",
    "\n",
    "plt.plot(fper_test, \n",
    "         tper_test, \n",
    "         color='#47fc4e', \n",
    "         label='LogisticRegression(C=10, class_weight=\\'balanced\\', max_iter=150, solver=\\'liblinear\\', tol=1e-05', \n",
    "         linewidth=2)\n",
    "\n",
    "plt.plot([0, 1], [0, 1], color='#909090', linestyle='--')\n",
    "plt.text(0.1, 0.8, f'AUC-ROC = {round(model_roc_auc, 2)}', fontsize=12)\n",
    "plt.xlim([0.0, 1.0])\n",
    "plt.ylim([0.0, 1.0])\n",
    "plt.xlabel('False Positive Rate')\n",
    "plt.ylabel('True Positive Rate')\n",
    "plt.title('Logistic Regression Test. ROC-кривая')\n",
    "plt.legend(loc='best')\n",
    "plt.show()"
   ]
  },
  {
   "cell_type": "markdown",
   "id": "8c249a1e",
   "metadata": {},
   "source": [
    "Значение AUC-ROC довольно высокое, что говорит о неплохом качестве модели.\n",
    "\n",
    "Сама форма ROC-кривой также свидетельствует о том, что модель хорошо справляется с предсказаниями на новых данных"
   ]
  },
  {
   "cell_type": "markdown",
   "id": "ebad842e",
   "metadata": {},
   "source": [
    "### Проверка на адекватность"
   ]
  },
  {
   "cell_type": "code",
   "execution_count": 29,
   "id": "66f6779f",
   "metadata": {},
   "outputs": [
    {
     "name": "stdout",
     "output_type": "stream",
     "text": [
      "✅ Модель адекватна. Model test F1 ⟶ 0.75097 > Dummy test F1 ⟶ 0.1\n"
     ]
    }
   ],
   "source": [
    "dc = DummyClassifier(strategy='stratified')\n",
    "\n",
    "dc.fit(X_train, y_train)\n",
    "\n",
    "dc_test_preds = dc.predict(X_test)\n",
    "dc_f1_test = round(f1_score(y_test, dc_test_preds), 2)\n",
    "\n",
    "if dc_f1_test < lr_f1_test:\n",
    "    print(f'✅ Модель адекватна. Model test F1 ⟶ {lr_f1_test} > '\n",
    "          f'Dummy test F1 ⟶ {dc_f1_test}')\n",
    "else:\n",
    "    print(f'❌ Модель не прошла проверку на адекватность')"
   ]
  },
  {
   "cell_type": "markdown",
   "id": "6363d056",
   "metadata": {},
   "source": [
    "<div style=\"border: 3px solid rgb(0,0,0); padding: 20px\">\n",
    "    \n",
    "### Итого\n",
    "    \n",
    "- На тестовой выборке была проверена выбранная модель логистической регрессии;\n",
    "    - <tt>F1-мера</tt> ⟶ 0.75;\n",
    "    - AUC-ROC ⟶ 0.97;\n",
    "- Модель прошла проверку на адекватность"
   ]
  },
  {
   "cell_type": "markdown",
   "id": "2b9405c3",
   "metadata": {},
   "source": [
    "## Общий вывод 👀"
   ]
  },
  {
   "cell_type": "markdown",
   "id": "3acc1baa",
   "metadata": {},
   "source": [
    "<div style=\"border: 3px solid rgb(119,212,150); padding: 20px\">\n",
    "    \n",
    "Для нового сервиса компании \"Викишоп\" требовалось разработать модель классификации комментариев на позитивные и негативные с целью ускорить процесс модерации. Заказчику требовалось получить модель, которая показывает значение <tt>F1-меры</tt> на тестовых данных выше <tt>0.75</tt>\n",
    "    \n",
    "### Краткая сводка по выполненным задачам\n",
    "\n",
    "#### Шаг 1. Обзор данных\n",
    "    \n",
    "- Импортированы необходимые библиотеки;\n",
    "- Данные загружены и прочитаны, предусмотрены альтернативные способы получения исходных данных;\n",
    "- Оценена информация о данных;\n",
    "\n",
    "#### Шаг 2. Предобработка данных\n",
    "\n",
    "- Текст комментариев был обработан. Следующие этапы были проведены:\n",
    "    - Токенизация;\n",
    "    - Лемматизация;\n",
    "    - Исключение лишних символов;\n",
    "\n",
    "#### Шаг 3. Балансировка классов\n",
    "    \n",
    "- На примере модели логистической регресии было установлено, что наиболее эффективный способ избавления от дисбаланса классов при обучении моделей - автобалансировка;\n",
    "- Рассмотрели ROC-кривые всех вариантов моделей на валидационной выборке;\n",
    "\n",
    "#### Шаг 4. Обучение моделей\n",
    "    \n",
    "Были построены пайпланы для каждой из моделей. Принцип обучения моделей: кросс-валидация с TF-IDF векторизацией на каждом фолде;\n",
    "    \n",
    "<center>Итоговая сводная таблица с результатами этапа</center>\n",
    "  \n",
    "    \n",
    "| Модель                        | Значение F1 после кросс-валидации |\n",
    "|-------------------------------|-----------------------------------|\n",
    "| LogisticRegression            | 0.76                              |    \n",
    "| GradientBoostingClassifier    | 0.72                              |\n",
    "| RandomForestClassifier        | 0.61                              |\n",
    "\n",
    "<clear></clear>\n",
    "<center>Исходя из критериев заказчика была выбрана модель</center>\n",
    "<clear></clear>\n",
    "<center><tt>LogisticRegression(C=5, class_weight='balanced', max_iter=150,\n",
    "                                    solver='liblinear', tol=1e-05)</tt></center>\n",
    "    \n",
    "#### Шаг 5. Тестирование модели\n",
    "    \n",
    "- Модель была протестирована на тестовом наборе данных. Значение <tt>F1</tt> - <tt>0.754</tt>;\n",
    "- Модель была проверена на адекватность. Модель адекватна.\n",
    "</div>"
   ]
  }
 ],
 "metadata": {
  "ExecuteTimeLog": [
   {
    "duration": 3419,
    "start_time": "2023-07-13T19:58:21.978Z"
   },
   {
    "duration": 2276,
    "start_time": "2023-07-13T19:58:25.400Z"
   },
   {
    "duration": 33,
    "start_time": "2023-07-13T19:58:27.678Z"
   },
   {
    "duration": 17,
    "start_time": "2023-07-13T19:58:27.714Z"
   },
   {
    "duration": 8,
    "start_time": "2023-07-13T19:58:27.754Z"
   },
   {
    "duration": 35,
    "start_time": "2023-07-13T19:58:27.763Z"
   },
   {
    "duration": 237,
    "start_time": "2023-07-13T19:58:27.800Z"
   },
   {
    "duration": 736,
    "start_time": "2023-07-13T19:58:28.039Z"
   },
   {
    "duration": 0,
    "start_time": "2023-07-13T19:58:28.778Z"
   },
   {
    "duration": 0,
    "start_time": "2023-07-13T19:58:28.779Z"
   },
   {
    "duration": 0,
    "start_time": "2023-07-13T19:58:28.781Z"
   },
   {
    "duration": 0,
    "start_time": "2023-07-13T19:58:28.782Z"
   },
   {
    "duration": 0,
    "start_time": "2023-07-13T19:58:28.784Z"
   },
   {
    "duration": 1,
    "start_time": "2023-07-13T19:58:28.784Z"
   },
   {
    "duration": 0,
    "start_time": "2023-07-13T19:58:28.786Z"
   },
   {
    "duration": 0,
    "start_time": "2023-07-13T19:58:28.787Z"
   },
   {
    "duration": 0,
    "start_time": "2023-07-13T19:58:28.788Z"
   },
   {
    "duration": 0,
    "start_time": "2023-07-13T19:58:28.789Z"
   },
   {
    "duration": 0,
    "start_time": "2023-07-13T19:58:28.790Z"
   },
   {
    "duration": 0,
    "start_time": "2023-07-13T19:58:28.791Z"
   },
   {
    "duration": 0,
    "start_time": "2023-07-13T19:58:28.793Z"
   },
   {
    "duration": 0,
    "start_time": "2023-07-13T19:58:28.795Z"
   },
   {
    "duration": 0,
    "start_time": "2023-07-13T19:58:28.796Z"
   },
   {
    "duration": 0,
    "start_time": "2023-07-13T19:58:28.799Z"
   },
   {
    "duration": 0,
    "start_time": "2023-07-13T19:58:28.801Z"
   },
   {
    "duration": 0,
    "start_time": "2023-07-13T19:58:28.802Z"
   },
   {
    "duration": 0,
    "start_time": "2023-07-13T19:58:28.804Z"
   },
   {
    "duration": 0,
    "start_time": "2023-07-13T19:58:28.805Z"
   },
   {
    "duration": 0,
    "start_time": "2023-07-13T19:58:28.807Z"
   },
   {
    "duration": 0,
    "start_time": "2023-07-13T19:58:28.808Z"
   },
   {
    "duration": 2089,
    "start_time": "2023-07-13T19:58:53.893Z"
   },
   {
    "duration": 1688,
    "start_time": "2023-07-13T19:58:55.984Z"
   },
   {
    "duration": 34,
    "start_time": "2023-07-13T19:58:57.673Z"
   },
   {
    "duration": 15,
    "start_time": "2023-07-13T19:58:57.709Z"
   },
   {
    "duration": 31,
    "start_time": "2023-07-13T19:58:57.726Z"
   },
   {
    "duration": 17,
    "start_time": "2023-07-13T19:58:57.758Z"
   },
   {
    "duration": 249,
    "start_time": "2023-07-13T19:58:57.777Z"
   },
   {
    "duration": 154972,
    "start_time": "2023-07-13T19:58:58.028Z"
   },
   {
    "duration": 27,
    "start_time": "2023-07-13T20:01:33.002Z"
   },
   {
    "duration": 22,
    "start_time": "2023-07-13T20:01:33.033Z"
   },
   {
    "duration": 62,
    "start_time": "2023-07-13T20:01:33.057Z"
   },
   {
    "duration": 33,
    "start_time": "2023-07-13T20:01:33.121Z"
   },
   {
    "duration": 33,
    "start_time": "2023-07-13T20:01:33.156Z"
   },
   {
    "duration": 13451,
    "start_time": "2023-07-13T20:01:33.191Z"
   },
   {
    "duration": 11,
    "start_time": "2023-07-13T20:01:46.644Z"
   },
   {
    "duration": 135406,
    "start_time": "2023-07-13T20:01:46.657Z"
   },
   {
    "duration": 97404,
    "start_time": "2023-07-13T20:04:02.064Z"
   },
   {
    "duration": 60391,
    "start_time": "2023-07-13T20:05:39.470Z"
   },
   {
    "duration": 302,
    "start_time": "2023-07-13T20:06:39.863Z"
   },
   {
    "duration": 11,
    "start_time": "2023-07-13T20:06:40.167Z"
   },
   {
    "duration": 4,
    "start_time": "2023-07-13T20:06:40.181Z"
   },
   {
    "duration": 783293,
    "start_time": "2023-07-13T20:06:40.187Z"
   },
   {
    "duration": 1575634,
    "start_time": "2023-07-13T20:19:43.482Z"
   },
   {
    "duration": 1100933,
    "start_time": "2023-07-13T20:45:59.118Z"
   },
   {
    "duration": 28,
    "start_time": "2023-07-13T21:04:20.052Z"
   },
   {
    "duration": 696985,
    "start_time": "2023-07-13T21:04:20.082Z"
   },
   {
    "duration": 6,
    "start_time": "2023-07-13T21:15:57.069Z"
   },
   {
    "duration": 17,
    "start_time": "2023-07-13T21:15:57.079Z"
   },
   {
    "duration": 234,
    "start_time": "2023-07-13T21:15:57.097Z"
   },
   {
    "duration": 33,
    "start_time": "2023-07-13T21:15:57.333Z"
   },
   {
    "duration": 13,
    "start_time": "2023-07-13T21:39:30.669Z"
   },
   {
    "duration": 192,
    "start_time": "2023-07-13T21:40:18.217Z"
   },
   {
    "duration": 22091,
    "start_time": "2023-07-14T21:26:51.601Z"
   },
   {
    "duration": 10827,
    "start_time": "2023-07-14T21:27:13.694Z"
   },
   {
    "duration": 0,
    "start_time": "2023-07-14T21:27:24.523Z"
   },
   {
    "duration": 0,
    "start_time": "2023-07-14T21:27:24.524Z"
   },
   {
    "duration": 0,
    "start_time": "2023-07-14T21:27:24.525Z"
   },
   {
    "duration": 0,
    "start_time": "2023-07-14T21:27:24.526Z"
   },
   {
    "duration": 0,
    "start_time": "2023-07-14T21:27:24.527Z"
   },
   {
    "duration": 0,
    "start_time": "2023-07-14T21:27:24.528Z"
   },
   {
    "duration": 0,
    "start_time": "2023-07-14T21:27:24.530Z"
   },
   {
    "duration": 0,
    "start_time": "2023-07-14T21:27:24.530Z"
   },
   {
    "duration": 0,
    "start_time": "2023-07-14T21:27:24.531Z"
   },
   {
    "duration": 0,
    "start_time": "2023-07-14T21:27:24.532Z"
   },
   {
    "duration": 0,
    "start_time": "2023-07-14T21:27:24.534Z"
   },
   {
    "duration": 0,
    "start_time": "2023-07-14T21:27:24.535Z"
   },
   {
    "duration": 0,
    "start_time": "2023-07-14T21:27:24.536Z"
   },
   {
    "duration": 0,
    "start_time": "2023-07-14T21:27:24.553Z"
   },
   {
    "duration": 0,
    "start_time": "2023-07-14T21:27:24.554Z"
   },
   {
    "duration": 0,
    "start_time": "2023-07-14T21:27:24.556Z"
   },
   {
    "duration": 0,
    "start_time": "2023-07-14T21:27:24.557Z"
   },
   {
    "duration": 0,
    "start_time": "2023-07-14T21:27:24.557Z"
   },
   {
    "duration": 0,
    "start_time": "2023-07-14T21:27:24.558Z"
   },
   {
    "duration": 0,
    "start_time": "2023-07-14T21:27:24.559Z"
   },
   {
    "duration": 0,
    "start_time": "2023-07-14T21:27:24.560Z"
   },
   {
    "duration": 0,
    "start_time": "2023-07-14T21:27:24.561Z"
   },
   {
    "duration": 0,
    "start_time": "2023-07-14T21:27:24.562Z"
   },
   {
    "duration": 0,
    "start_time": "2023-07-14T21:27:24.563Z"
   },
   {
    "duration": 0,
    "start_time": "2023-07-14T21:27:24.564Z"
   },
   {
    "duration": 0,
    "start_time": "2023-07-14T21:27:24.565Z"
   },
   {
    "duration": 2399,
    "start_time": "2023-07-14T21:29:59.558Z"
   },
   {
    "duration": 2407,
    "start_time": "2023-07-14T21:30:17.157Z"
   },
   {
    "duration": 13299,
    "start_time": "2023-07-14T21:30:19.567Z"
   },
   {
    "duration": 2352,
    "start_time": "2023-07-14T21:30:32.867Z"
   },
   {
    "duration": 45,
    "start_time": "2023-07-14T21:30:35.222Z"
   },
   {
    "duration": 24,
    "start_time": "2023-07-14T21:30:35.270Z"
   },
   {
    "duration": 19,
    "start_time": "2023-07-14T21:30:35.297Z"
   },
   {
    "duration": 41,
    "start_time": "2023-07-14T21:30:35.318Z"
   },
   {
    "duration": 280,
    "start_time": "2023-07-14T21:30:35.361Z"
   },
   {
    "duration": 2589250,
    "start_time": "2023-07-14T21:30:35.642Z"
   },
   {
    "duration": 0,
    "start_time": "2023-07-14T22:13:44.951Z"
   },
   {
    "duration": 0,
    "start_time": "2023-07-14T22:13:44.956Z"
   },
   {
    "duration": 0,
    "start_time": "2023-07-14T22:13:44.961Z"
   },
   {
    "duration": 0,
    "start_time": "2023-07-14T22:13:44.967Z"
   },
   {
    "duration": 0,
    "start_time": "2023-07-14T22:13:44.971Z"
   },
   {
    "duration": 0,
    "start_time": "2023-07-14T22:13:44.972Z"
   },
   {
    "duration": 0,
    "start_time": "2023-07-14T22:13:44.976Z"
   },
   {
    "duration": 0,
    "start_time": "2023-07-14T22:13:44.977Z"
   },
   {
    "duration": 0,
    "start_time": "2023-07-14T22:13:44.978Z"
   },
   {
    "duration": 0,
    "start_time": "2023-07-14T22:13:44.979Z"
   },
   {
    "duration": 1,
    "start_time": "2023-07-14T22:13:44.980Z"
   },
   {
    "duration": 0,
    "start_time": "2023-07-14T22:13:44.982Z"
   },
   {
    "duration": 0,
    "start_time": "2023-07-14T22:13:44.983Z"
   },
   {
    "duration": 0,
    "start_time": "2023-07-14T22:13:44.985Z"
   },
   {
    "duration": 0,
    "start_time": "2023-07-14T22:13:44.986Z"
   },
   {
    "duration": 0,
    "start_time": "2023-07-14T22:13:44.987Z"
   },
   {
    "duration": 0,
    "start_time": "2023-07-14T22:13:44.988Z"
   },
   {
    "duration": 0,
    "start_time": "2023-07-14T22:13:44.990Z"
   },
   {
    "duration": 1,
    "start_time": "2023-07-14T22:13:44.991Z"
   },
   {
    "duration": 4,
    "start_time": "2023-07-14T22:23:01.843Z"
   },
   {
    "duration": 14,
    "start_time": "2023-07-14T22:24:58.812Z"
   },
   {
    "duration": 13,
    "start_time": "2023-07-14T22:25:01.413Z"
   },
   {
    "duration": 13,
    "start_time": "2023-07-14T22:25:32.583Z"
   },
   {
    "duration": 8,
    "start_time": "2023-07-14T22:25:53.410Z"
   },
   {
    "duration": 12,
    "start_time": "2023-07-14T22:26:03.382Z"
   },
   {
    "duration": 7,
    "start_time": "2023-07-14T22:26:10.510Z"
   },
   {
    "duration": 114,
    "start_time": "2023-07-14T22:26:30.568Z"
   },
   {
    "duration": 2595,
    "start_time": "2023-07-14T22:26:49.478Z"
   },
   {
    "duration": 14457,
    "start_time": "2023-07-14T22:26:52.076Z"
   },
   {
    "duration": 2104,
    "start_time": "2023-07-14T22:27:06.535Z"
   },
   {
    "duration": 45,
    "start_time": "2023-07-14T22:27:08.642Z"
   },
   {
    "duration": 17,
    "start_time": "2023-07-14T22:27:08.689Z"
   },
   {
    "duration": 11,
    "start_time": "2023-07-14T22:27:08.708Z"
   },
   {
    "duration": 40,
    "start_time": "2023-07-14T22:27:08.721Z"
   },
   {
    "duration": 237,
    "start_time": "2023-07-14T22:27:08.767Z"
   },
   {
    "duration": 2,
    "start_time": "2023-07-14T22:27:09.006Z"
   },
   {
    "duration": 30062,
    "start_time": "2023-07-14T22:27:09.011Z"
   },
   {
    "duration": 0,
    "start_time": "2023-07-14T22:27:39.079Z"
   },
   {
    "duration": 0,
    "start_time": "2023-07-14T22:27:39.081Z"
   },
   {
    "duration": 0,
    "start_time": "2023-07-14T22:27:39.083Z"
   },
   {
    "duration": 0,
    "start_time": "2023-07-14T22:27:39.084Z"
   },
   {
    "duration": 0,
    "start_time": "2023-07-14T22:27:39.085Z"
   },
   {
    "duration": 0,
    "start_time": "2023-07-14T22:27:39.086Z"
   },
   {
    "duration": 0,
    "start_time": "2023-07-14T22:27:39.088Z"
   },
   {
    "duration": 0,
    "start_time": "2023-07-14T22:27:39.092Z"
   },
   {
    "duration": 0,
    "start_time": "2023-07-14T22:27:39.093Z"
   },
   {
    "duration": 0,
    "start_time": "2023-07-14T22:27:39.095Z"
   },
   {
    "duration": 0,
    "start_time": "2023-07-14T22:27:39.097Z"
   },
   {
    "duration": 0,
    "start_time": "2023-07-14T22:27:39.098Z"
   },
   {
    "duration": 0,
    "start_time": "2023-07-14T22:27:39.100Z"
   },
   {
    "duration": 0,
    "start_time": "2023-07-14T22:27:39.102Z"
   },
   {
    "duration": 0,
    "start_time": "2023-07-14T22:27:39.104Z"
   },
   {
    "duration": 0,
    "start_time": "2023-07-14T22:27:39.105Z"
   },
   {
    "duration": 0,
    "start_time": "2023-07-14T22:27:39.107Z"
   },
   {
    "duration": 0,
    "start_time": "2023-07-14T22:27:39.108Z"
   },
   {
    "duration": 0,
    "start_time": "2023-07-14T22:27:39.110Z"
   },
   {
    "duration": 0,
    "start_time": "2023-07-14T22:27:39.111Z"
   },
   {
    "duration": 0,
    "start_time": "2023-07-14T22:27:39.112Z"
   },
   {
    "duration": 128,
    "start_time": "2023-07-14T22:29:36.204Z"
   },
   {
    "duration": 104,
    "start_time": "2023-07-14T22:30:02.992Z"
   },
   {
    "duration": 2298,
    "start_time": "2023-07-14T22:32:12.726Z"
   },
   {
    "duration": 12958,
    "start_time": "2023-07-14T22:32:15.026Z"
   },
   {
    "duration": 1707,
    "start_time": "2023-07-14T22:32:27.986Z"
   },
   {
    "duration": 36,
    "start_time": "2023-07-14T22:32:29.695Z"
   },
   {
    "duration": 42,
    "start_time": "2023-07-14T22:32:29.732Z"
   },
   {
    "duration": 12,
    "start_time": "2023-07-14T22:32:29.775Z"
   },
   {
    "duration": 41,
    "start_time": "2023-07-14T22:32:29.789Z"
   },
   {
    "duration": 244,
    "start_time": "2023-07-14T22:32:29.832Z"
   },
   {
    "duration": 3,
    "start_time": "2023-07-14T22:32:30.078Z"
   },
   {
    "duration": 35,
    "start_time": "2023-07-14T22:32:30.083Z"
   },
   {
    "duration": 281,
    "start_time": "2023-07-14T22:32:30.120Z"
   },
   {
    "duration": 0,
    "start_time": "2023-07-14T22:32:30.403Z"
   },
   {
    "duration": 0,
    "start_time": "2023-07-14T22:32:30.405Z"
   },
   {
    "duration": 0,
    "start_time": "2023-07-14T22:32:30.407Z"
   },
   {
    "duration": 0,
    "start_time": "2023-07-14T22:32:30.409Z"
   },
   {
    "duration": 0,
    "start_time": "2023-07-14T22:32:30.411Z"
   },
   {
    "duration": 0,
    "start_time": "2023-07-14T22:32:30.412Z"
   },
   {
    "duration": 0,
    "start_time": "2023-07-14T22:32:30.414Z"
   },
   {
    "duration": 0,
    "start_time": "2023-07-14T22:32:30.415Z"
   },
   {
    "duration": 0,
    "start_time": "2023-07-14T22:32:30.416Z"
   },
   {
    "duration": 0,
    "start_time": "2023-07-14T22:32:30.418Z"
   },
   {
    "duration": 0,
    "start_time": "2023-07-14T22:32:30.419Z"
   },
   {
    "duration": 0,
    "start_time": "2023-07-14T22:32:30.421Z"
   },
   {
    "duration": 0,
    "start_time": "2023-07-14T22:32:30.422Z"
   },
   {
    "duration": 0,
    "start_time": "2023-07-14T22:32:30.458Z"
   },
   {
    "duration": 0,
    "start_time": "2023-07-14T22:32:30.465Z"
   },
   {
    "duration": 0,
    "start_time": "2023-07-14T22:32:30.469Z"
   },
   {
    "duration": 0,
    "start_time": "2023-07-14T22:32:30.470Z"
   },
   {
    "duration": 0,
    "start_time": "2023-07-14T22:32:30.472Z"
   },
   {
    "duration": 0,
    "start_time": "2023-07-14T22:32:30.473Z"
   },
   {
    "duration": 0,
    "start_time": "2023-07-14T22:32:30.474Z"
   },
   {
    "duration": 0,
    "start_time": "2023-07-14T22:32:30.475Z"
   },
   {
    "duration": 13,
    "start_time": "2023-07-14T22:33:28.064Z"
   },
   {
    "duration": 79,
    "start_time": "2023-07-14T22:35:14.485Z"
   },
   {
    "duration": 92,
    "start_time": "2023-07-14T22:35:20.703Z"
   },
   {
    "duration": 12,
    "start_time": "2023-07-14T22:45:12.612Z"
   },
   {
    "duration": 894,
    "start_time": "2023-07-14T22:45:22.110Z"
   },
   {
    "duration": 5108,
    "start_time": "2023-07-14T23:03:23.856Z"
   },
   {
    "duration": 66,
    "start_time": "2023-07-14T23:06:11.892Z"
   },
   {
    "duration": 2489,
    "start_time": "2023-07-14T23:14:55.706Z"
   },
   {
    "duration": 14220,
    "start_time": "2023-07-14T23:14:58.198Z"
   },
   {
    "duration": 2251,
    "start_time": "2023-07-14T23:15:12.420Z"
   },
   {
    "duration": 36,
    "start_time": "2023-07-14T23:15:14.674Z"
   },
   {
    "duration": 17,
    "start_time": "2023-07-14T23:15:14.712Z"
   },
   {
    "duration": 25,
    "start_time": "2023-07-14T23:15:14.731Z"
   },
   {
    "duration": 37,
    "start_time": "2023-07-14T23:15:14.758Z"
   },
   {
    "duration": 247,
    "start_time": "2023-07-14T23:15:14.797Z"
   },
   {
    "duration": 7,
    "start_time": "2023-07-14T23:15:15.046Z"
   },
   {
    "duration": 40,
    "start_time": "2023-07-14T23:15:15.057Z"
   },
   {
    "duration": 4571,
    "start_time": "2023-07-14T23:15:15.099Z"
   },
   {
    "duration": 9,
    "start_time": "2023-07-14T23:15:19.672Z"
   },
   {
    "duration": 7,
    "start_time": "2023-07-14T23:15:19.683Z"
   },
   {
    "duration": 74,
    "start_time": "2023-07-14T23:15:19.691Z"
   },
   {
    "duration": 5,
    "start_time": "2023-07-14T23:15:19.767Z"
   },
   {
    "duration": 969,
    "start_time": "2023-07-14T23:15:19.773Z"
   },
   {
    "duration": 0,
    "start_time": "2023-07-14T23:15:20.744Z"
   },
   {
    "duration": 0,
    "start_time": "2023-07-14T23:15:20.745Z"
   },
   {
    "duration": 0,
    "start_time": "2023-07-14T23:15:20.752Z"
   },
   {
    "duration": 0,
    "start_time": "2023-07-14T23:15:20.753Z"
   },
   {
    "duration": 0,
    "start_time": "2023-07-14T23:15:20.754Z"
   },
   {
    "duration": 0,
    "start_time": "2023-07-14T23:15:20.755Z"
   },
   {
    "duration": 0,
    "start_time": "2023-07-14T23:15:20.756Z"
   },
   {
    "duration": 0,
    "start_time": "2023-07-14T23:15:20.757Z"
   },
   {
    "duration": 0,
    "start_time": "2023-07-14T23:15:20.758Z"
   },
   {
    "duration": 0,
    "start_time": "2023-07-14T23:15:20.763Z"
   },
   {
    "duration": 0,
    "start_time": "2023-07-14T23:15:20.764Z"
   },
   {
    "duration": 0,
    "start_time": "2023-07-14T23:15:20.765Z"
   },
   {
    "duration": 0,
    "start_time": "2023-07-14T23:15:20.767Z"
   },
   {
    "duration": 0,
    "start_time": "2023-07-14T23:15:20.768Z"
   },
   {
    "duration": 52,
    "start_time": "2023-07-14T23:16:11.792Z"
   },
   {
    "duration": 5719,
    "start_time": "2023-07-14T23:31:00.357Z"
   },
   {
    "duration": 55,
    "start_time": "2023-07-14T23:31:10.161Z"
   },
   {
    "duration": 6292,
    "start_time": "2023-07-14T23:31:47.411Z"
   },
   {
    "duration": 58,
    "start_time": "2023-07-14T23:31:58.007Z"
   },
   {
    "duration": 11,
    "start_time": "2023-07-14T23:32:49.865Z"
   },
   {
    "duration": 7,
    "start_time": "2023-07-14T23:32:52.880Z"
   },
   {
    "duration": 63,
    "start_time": "2023-07-14T23:32:54.648Z"
   },
   {
    "duration": 4,
    "start_time": "2023-07-14T23:33:02.170Z"
   },
   {
    "duration": 68098,
    "start_time": "2023-07-14T23:33:04.366Z"
   },
   {
    "duration": 2234,
    "start_time": "2023-07-14T23:34:27.706Z"
   },
   {
    "duration": 13134,
    "start_time": "2023-07-14T23:34:29.943Z"
   },
   {
    "duration": 1945,
    "start_time": "2023-07-14T23:34:43.079Z"
   },
   {
    "duration": 50,
    "start_time": "2023-07-14T23:34:45.027Z"
   },
   {
    "duration": 37,
    "start_time": "2023-07-14T23:34:45.079Z"
   },
   {
    "duration": 18,
    "start_time": "2023-07-14T23:34:45.118Z"
   },
   {
    "duration": 44,
    "start_time": "2023-07-14T23:34:45.137Z"
   },
   {
    "duration": 285,
    "start_time": "2023-07-14T23:34:45.182Z"
   },
   {
    "duration": 3,
    "start_time": "2023-07-14T23:34:45.469Z"
   },
   {
    "duration": 49,
    "start_time": "2023-07-14T23:34:45.475Z"
   },
   {
    "duration": 4799,
    "start_time": "2023-07-14T23:34:45.525Z"
   },
   {
    "duration": 68,
    "start_time": "2023-07-14T23:34:50.326Z"
   },
   {
    "duration": 94,
    "start_time": "2023-07-14T23:34:50.396Z"
   },
   {
    "duration": 21,
    "start_time": "2023-07-14T23:34:50.492Z"
   },
   {
    "duration": 60,
    "start_time": "2023-07-14T23:34:50.515Z"
   },
   {
    "duration": 4,
    "start_time": "2023-07-14T23:34:50.577Z"
   },
   {
    "duration": 71672,
    "start_time": "2023-07-14T23:34:50.582Z"
   },
   {
    "duration": 124225,
    "start_time": "2023-07-14T23:36:02.256Z"
   },
   {
    "duration": 48994,
    "start_time": "2023-07-14T23:38:06.483Z"
   },
   {
    "duration": 46883,
    "start_time": "2023-07-14T23:38:55.478Z"
   },
   {
    "duration": 10,
    "start_time": "2023-07-14T23:39:42.362Z"
   },
   {
    "duration": 10,
    "start_time": "2023-07-14T23:39:42.373Z"
   },
   {
    "duration": 430899,
    "start_time": "2023-07-14T23:39:42.385Z"
   },
   {
    "duration": 2578742,
    "start_time": "2023-07-14T23:46:53.286Z"
   },
   {
    "duration": 703815,
    "start_time": "2023-07-15T00:29:52.030Z"
   },
   {
    "duration": 35,
    "start_time": "2023-07-15T00:41:35.848Z"
   },
   {
    "duration": 59,
    "start_time": "2023-07-15T01:11:27.523Z"
   },
   {
    "duration": 2758,
    "start_time": "2023-07-15T01:11:57.237Z"
   },
   {
    "duration": 19574,
    "start_time": "2023-07-15T01:11:59.998Z"
   },
   {
    "duration": 3288,
    "start_time": "2023-07-15T01:12:19.574Z"
   },
   {
    "duration": 88,
    "start_time": "2023-07-15T01:12:22.866Z"
   },
   {
    "duration": 21,
    "start_time": "2023-07-15T01:12:22.962Z"
   },
   {
    "duration": 13,
    "start_time": "2023-07-15T01:12:22.984Z"
   },
   {
    "duration": 72,
    "start_time": "2023-07-15T01:12:22.999Z"
   },
   {
    "duration": 367,
    "start_time": "2023-07-15T01:12:23.073Z"
   },
   {
    "duration": 9,
    "start_time": "2023-07-15T01:12:23.442Z"
   },
   {
    "duration": 28,
    "start_time": "2023-07-15T01:12:23.464Z"
   },
   {
    "duration": 6568,
    "start_time": "2023-07-15T01:12:23.494Z"
   },
   {
    "duration": 115,
    "start_time": "2023-07-15T01:12:30.072Z"
   },
   {
    "duration": 71,
    "start_time": "2023-07-15T01:12:30.189Z"
   },
   {
    "duration": 38,
    "start_time": "2023-07-15T01:12:30.268Z"
   },
   {
    "duration": 162,
    "start_time": "2023-07-15T01:12:30.308Z"
   },
   {
    "duration": 5,
    "start_time": "2023-07-15T01:12:30.473Z"
   },
   {
    "duration": 20965,
    "start_time": "2023-07-15T01:12:30.481Z"
   },
   {
    "duration": 0,
    "start_time": "2023-07-15T01:12:51.448Z"
   },
   {
    "duration": 0,
    "start_time": "2023-07-15T01:12:51.450Z"
   },
   {
    "duration": 0,
    "start_time": "2023-07-15T01:12:51.451Z"
   },
   {
    "duration": 0,
    "start_time": "2023-07-15T01:12:51.454Z"
   },
   {
    "duration": 0,
    "start_time": "2023-07-15T01:12:51.455Z"
   },
   {
    "duration": 0,
    "start_time": "2023-07-15T01:12:51.456Z"
   },
   {
    "duration": 1,
    "start_time": "2023-07-15T01:12:51.457Z"
   },
   {
    "duration": 0,
    "start_time": "2023-07-15T01:12:51.459Z"
   },
   {
    "duration": 0,
    "start_time": "2023-07-15T01:12:51.460Z"
   },
   {
    "duration": 0,
    "start_time": "2023-07-15T01:12:51.461Z"
   },
   {
    "duration": 0,
    "start_time": "2023-07-15T01:12:51.462Z"
   },
   {
    "duration": 0,
    "start_time": "2023-07-15T01:12:51.463Z"
   },
   {
    "duration": 0,
    "start_time": "2023-07-15T01:12:51.464Z"
   },
   {
    "duration": 0,
    "start_time": "2023-07-15T01:12:51.465Z"
   },
   {
    "duration": 0,
    "start_time": "2023-07-15T01:12:51.466Z"
   },
   {
    "duration": 21,
    "start_time": "2023-07-15T01:12:59.519Z"
   },
   {
    "duration": 2377,
    "start_time": "2023-07-15T01:14:20.049Z"
   },
   {
    "duration": 17394,
    "start_time": "2023-07-15T01:14:22.428Z"
   },
   {
    "duration": 2563,
    "start_time": "2023-07-15T01:14:39.824Z"
   },
   {
    "duration": 39,
    "start_time": "2023-07-15T01:14:42.389Z"
   },
   {
    "duration": 46,
    "start_time": "2023-07-15T01:14:42.429Z"
   },
   {
    "duration": 10,
    "start_time": "2023-07-15T01:14:42.478Z"
   },
   {
    "duration": 24,
    "start_time": "2023-07-15T01:14:42.490Z"
   },
   {
    "duration": 274,
    "start_time": "2023-07-15T01:14:42.516Z"
   },
   {
    "duration": 3,
    "start_time": "2023-07-15T01:14:42.792Z"
   },
   {
    "duration": 6,
    "start_time": "2023-07-15T01:14:42.798Z"
   },
   {
    "duration": 5995,
    "start_time": "2023-07-15T01:14:42.806Z"
   },
   {
    "duration": 66,
    "start_time": "2023-07-15T01:14:48.802Z"
   },
   {
    "duration": 10,
    "start_time": "2023-07-15T01:14:48.869Z"
   },
   {
    "duration": 6,
    "start_time": "2023-07-15T01:14:48.881Z"
   },
   {
    "duration": 68,
    "start_time": "2023-07-15T01:14:48.889Z"
   },
   {
    "duration": 156,
    "start_time": "2023-07-15T01:14:48.959Z"
   },
   {
    "duration": 0,
    "start_time": "2023-07-15T01:14:49.117Z"
   },
   {
    "duration": 0,
    "start_time": "2023-07-15T01:14:49.118Z"
   },
   {
    "duration": 0,
    "start_time": "2023-07-15T01:14:49.120Z"
   },
   {
    "duration": 0,
    "start_time": "2023-07-15T01:14:49.121Z"
   },
   {
    "duration": 0,
    "start_time": "2023-07-15T01:14:49.123Z"
   },
   {
    "duration": 0,
    "start_time": "2023-07-15T01:14:49.125Z"
   },
   {
    "duration": 1,
    "start_time": "2023-07-15T01:14:49.126Z"
   },
   {
    "duration": 0,
    "start_time": "2023-07-15T01:14:49.129Z"
   },
   {
    "duration": 0,
    "start_time": "2023-07-15T01:14:49.152Z"
   },
   {
    "duration": 0,
    "start_time": "2023-07-15T01:14:49.153Z"
   },
   {
    "duration": 0,
    "start_time": "2023-07-15T01:14:49.154Z"
   },
   {
    "duration": 0,
    "start_time": "2023-07-15T01:14:49.155Z"
   },
   {
    "duration": 0,
    "start_time": "2023-07-15T01:14:49.156Z"
   },
   {
    "duration": 0,
    "start_time": "2023-07-15T01:14:49.157Z"
   },
   {
    "duration": 0,
    "start_time": "2023-07-15T01:14:49.164Z"
   },
   {
    "duration": 0,
    "start_time": "2023-07-15T01:14:49.165Z"
   },
   {
    "duration": 21,
    "start_time": "2023-07-15T01:14:56.906Z"
   },
   {
    "duration": 92,
    "start_time": "2023-07-15T01:15:37.143Z"
   },
   {
    "duration": 16,
    "start_time": "2023-07-15T01:15:42.688Z"
   },
   {
    "duration": 6,
    "start_time": "2023-07-15T01:15:59.319Z"
   },
   {
    "duration": 2369,
    "start_time": "2023-07-15T01:18:32.368Z"
   },
   {
    "duration": 17628,
    "start_time": "2023-07-15T01:18:34.740Z"
   },
   {
    "duration": 2409,
    "start_time": "2023-07-15T01:18:52.370Z"
   },
   {
    "duration": 39,
    "start_time": "2023-07-15T01:18:54.781Z"
   },
   {
    "duration": 43,
    "start_time": "2023-07-15T01:18:54.822Z"
   },
   {
    "duration": 8,
    "start_time": "2023-07-15T01:18:54.867Z"
   },
   {
    "duration": 23,
    "start_time": "2023-07-15T01:18:54.877Z"
   },
   {
    "duration": 292,
    "start_time": "2023-07-15T01:18:54.902Z"
   },
   {
    "duration": 3,
    "start_time": "2023-07-15T01:18:55.196Z"
   },
   {
    "duration": 9,
    "start_time": "2023-07-15T01:18:55.201Z"
   },
   {
    "duration": 4928,
    "start_time": "2023-07-15T01:18:55.212Z"
   },
   {
    "duration": 65,
    "start_time": "2023-07-15T01:19:00.141Z"
   },
   {
    "duration": 30,
    "start_time": "2023-07-15T01:19:00.207Z"
   },
   {
    "duration": 44,
    "start_time": "2023-07-15T01:19:00.239Z"
   },
   {
    "duration": 80,
    "start_time": "2023-07-15T01:19:00.285Z"
   },
   {
    "duration": 155,
    "start_time": "2023-07-15T01:19:00.368Z"
   },
   {
    "duration": 0,
    "start_time": "2023-07-15T01:19:00.525Z"
   },
   {
    "duration": 0,
    "start_time": "2023-07-15T01:19:00.526Z"
   },
   {
    "duration": 0,
    "start_time": "2023-07-15T01:19:00.528Z"
   },
   {
    "duration": 0,
    "start_time": "2023-07-15T01:19:00.529Z"
   },
   {
    "duration": 0,
    "start_time": "2023-07-15T01:19:00.531Z"
   },
   {
    "duration": 0,
    "start_time": "2023-07-15T01:19:00.532Z"
   },
   {
    "duration": 0,
    "start_time": "2023-07-15T01:19:00.536Z"
   },
   {
    "duration": 0,
    "start_time": "2023-07-15T01:19:00.554Z"
   },
   {
    "duration": 0,
    "start_time": "2023-07-15T01:19:00.555Z"
   },
   {
    "duration": 0,
    "start_time": "2023-07-15T01:19:00.556Z"
   },
   {
    "duration": 0,
    "start_time": "2023-07-15T01:19:00.556Z"
   },
   {
    "duration": 0,
    "start_time": "2023-07-15T01:19:00.557Z"
   },
   {
    "duration": 0,
    "start_time": "2023-07-15T01:19:00.558Z"
   },
   {
    "duration": 0,
    "start_time": "2023-07-15T01:19:00.559Z"
   },
   {
    "duration": 0,
    "start_time": "2023-07-15T01:19:00.560Z"
   },
   {
    "duration": 0,
    "start_time": "2023-07-15T01:19:00.563Z"
   },
   {
    "duration": 9,
    "start_time": "2023-07-15T01:19:07.950Z"
   },
   {
    "duration": 22,
    "start_time": "2023-07-15T01:19:15.087Z"
   },
   {
    "duration": 3,
    "start_time": "2023-07-15T01:24:49.228Z"
   },
   {
    "duration": 17264,
    "start_time": "2023-07-15T01:24:49.236Z"
   },
   {
    "duration": 1946,
    "start_time": "2023-07-15T01:25:06.502Z"
   },
   {
    "duration": 38,
    "start_time": "2023-07-15T01:25:08.453Z"
   },
   {
    "duration": 18,
    "start_time": "2023-07-15T01:25:08.494Z"
   },
   {
    "duration": 10,
    "start_time": "2023-07-15T01:25:08.514Z"
   },
   {
    "duration": 47,
    "start_time": "2023-07-15T01:25:08.526Z"
   },
   {
    "duration": 266,
    "start_time": "2023-07-15T01:25:08.575Z"
   },
   {
    "duration": 12,
    "start_time": "2023-07-15T01:25:08.843Z"
   },
   {
    "duration": 17,
    "start_time": "2023-07-15T01:25:08.857Z"
   },
   {
    "duration": 5061,
    "start_time": "2023-07-15T01:25:08.876Z"
   },
   {
    "duration": 62,
    "start_time": "2023-07-15T01:25:13.938Z"
   },
   {
    "duration": 8,
    "start_time": "2023-07-15T01:25:14.001Z"
   },
   {
    "duration": 7,
    "start_time": "2023-07-15T01:25:14.011Z"
   },
   {
    "duration": 73,
    "start_time": "2023-07-15T01:25:14.019Z"
   },
   {
    "duration": 164,
    "start_time": "2023-07-15T01:25:14.094Z"
   },
   {
    "duration": 0,
    "start_time": "2023-07-15T01:25:14.268Z"
   },
   {
    "duration": 0,
    "start_time": "2023-07-15T01:25:14.269Z"
   },
   {
    "duration": 0,
    "start_time": "2023-07-15T01:25:14.270Z"
   },
   {
    "duration": 0,
    "start_time": "2023-07-15T01:25:14.271Z"
   },
   {
    "duration": 0,
    "start_time": "2023-07-15T01:25:14.272Z"
   },
   {
    "duration": 0,
    "start_time": "2023-07-15T01:25:14.273Z"
   },
   {
    "duration": 0,
    "start_time": "2023-07-15T01:25:14.275Z"
   },
   {
    "duration": 0,
    "start_time": "2023-07-15T01:25:14.276Z"
   },
   {
    "duration": 0,
    "start_time": "2023-07-15T01:25:14.277Z"
   },
   {
    "duration": 0,
    "start_time": "2023-07-15T01:25:14.278Z"
   },
   {
    "duration": 0,
    "start_time": "2023-07-15T01:25:14.280Z"
   },
   {
    "duration": 0,
    "start_time": "2023-07-15T01:25:14.281Z"
   },
   {
    "duration": 0,
    "start_time": "2023-07-15T01:25:14.282Z"
   },
   {
    "duration": 0,
    "start_time": "2023-07-15T01:25:14.283Z"
   },
   {
    "duration": 0,
    "start_time": "2023-07-15T01:25:14.284Z"
   },
   {
    "duration": 0,
    "start_time": "2023-07-15T01:25:14.286Z"
   },
   {
    "duration": 5,
    "start_time": "2023-07-15T01:25:19.831Z"
   },
   {
    "duration": 39,
    "start_time": "2023-07-15T01:25:24.449Z"
   },
   {
    "duration": 4,
    "start_time": "2023-07-15T01:27:12.522Z"
   },
   {
    "duration": 16293,
    "start_time": "2023-07-15T01:27:12.528Z"
   },
   {
    "duration": 1807,
    "start_time": "2023-07-15T01:27:28.822Z"
   },
   {
    "duration": 46,
    "start_time": "2023-07-15T01:27:30.632Z"
   },
   {
    "duration": 49,
    "start_time": "2023-07-15T01:27:30.681Z"
   },
   {
    "duration": 46,
    "start_time": "2023-07-15T01:27:30.732Z"
   },
   {
    "duration": 56,
    "start_time": "2023-07-15T01:27:30.780Z"
   },
   {
    "duration": 332,
    "start_time": "2023-07-15T01:27:30.838Z"
   },
   {
    "duration": 3,
    "start_time": "2023-07-15T01:27:31.173Z"
   },
   {
    "duration": 37,
    "start_time": "2023-07-15T01:27:31.177Z"
   },
   {
    "duration": 4889,
    "start_time": "2023-07-15T01:27:31.218Z"
   },
   {
    "duration": 65,
    "start_time": "2023-07-15T01:27:36.112Z"
   },
   {
    "duration": 42,
    "start_time": "2023-07-15T01:27:36.180Z"
   },
   {
    "duration": 11,
    "start_time": "2023-07-15T01:27:36.225Z"
   },
   {
    "duration": 91,
    "start_time": "2023-07-15T01:27:36.238Z"
   },
   {
    "duration": 157,
    "start_time": "2023-07-15T01:27:36.331Z"
   },
   {
    "duration": 0,
    "start_time": "2023-07-15T01:27:36.491Z"
   },
   {
    "duration": 0,
    "start_time": "2023-07-15T01:27:36.492Z"
   },
   {
    "duration": 0,
    "start_time": "2023-07-15T01:27:36.494Z"
   },
   {
    "duration": 0,
    "start_time": "2023-07-15T01:27:36.496Z"
   },
   {
    "duration": 1,
    "start_time": "2023-07-15T01:27:36.498Z"
   },
   {
    "duration": 0,
    "start_time": "2023-07-15T01:27:36.500Z"
   },
   {
    "duration": 0,
    "start_time": "2023-07-15T01:27:36.501Z"
   },
   {
    "duration": 0,
    "start_time": "2023-07-15T01:27:36.503Z"
   },
   {
    "duration": 0,
    "start_time": "2023-07-15T01:27:36.504Z"
   },
   {
    "duration": 0,
    "start_time": "2023-07-15T01:27:36.506Z"
   },
   {
    "duration": 0,
    "start_time": "2023-07-15T01:27:36.508Z"
   },
   {
    "duration": 0,
    "start_time": "2023-07-15T01:27:36.509Z"
   },
   {
    "duration": 0,
    "start_time": "2023-07-15T01:27:36.511Z"
   },
   {
    "duration": 0,
    "start_time": "2023-07-15T01:27:36.513Z"
   },
   {
    "duration": 0,
    "start_time": "2023-07-15T01:27:36.514Z"
   },
   {
    "duration": 0,
    "start_time": "2023-07-15T01:27:36.554Z"
   },
   {
    "duration": 6,
    "start_time": "2023-07-15T01:27:45.733Z"
   },
   {
    "duration": 15961,
    "start_time": "2023-07-15T01:30:50.090Z"
   },
   {
    "duration": 4,
    "start_time": "2023-07-15T01:31:12.801Z"
   },
   {
    "duration": 13103,
    "start_time": "2023-07-15T01:31:12.809Z"
   },
   {
    "duration": 2453,
    "start_time": "2023-07-15T01:31:25.914Z"
   },
   {
    "duration": 44,
    "start_time": "2023-07-15T01:31:28.370Z"
   },
   {
    "duration": 38,
    "start_time": "2023-07-15T01:31:28.416Z"
   },
   {
    "duration": 16,
    "start_time": "2023-07-15T01:31:28.456Z"
   },
   {
    "duration": 26,
    "start_time": "2023-07-15T01:31:28.474Z"
   },
   {
    "duration": 250,
    "start_time": "2023-07-15T01:31:28.502Z"
   },
   {
    "duration": 3,
    "start_time": "2023-07-15T01:31:28.753Z"
   },
   {
    "duration": 6,
    "start_time": "2023-07-15T01:31:28.758Z"
   },
   {
    "duration": 4888,
    "start_time": "2023-07-15T01:31:28.766Z"
   },
   {
    "duration": 61,
    "start_time": "2023-07-15T01:31:33.656Z"
   },
   {
    "duration": 15,
    "start_time": "2023-07-15T01:31:33.719Z"
   },
   {
    "duration": 19,
    "start_time": "2023-07-15T01:31:33.736Z"
   },
   {
    "duration": 63,
    "start_time": "2023-07-15T01:31:33.757Z"
   },
   {
    "duration": 154,
    "start_time": "2023-07-15T01:31:33.821Z"
   },
   {
    "duration": 0,
    "start_time": "2023-07-15T01:31:33.977Z"
   },
   {
    "duration": 0,
    "start_time": "2023-07-15T01:31:33.979Z"
   },
   {
    "duration": 0,
    "start_time": "2023-07-15T01:31:33.981Z"
   },
   {
    "duration": 0,
    "start_time": "2023-07-15T01:31:33.983Z"
   },
   {
    "duration": 0,
    "start_time": "2023-07-15T01:31:33.984Z"
   },
   {
    "duration": 0,
    "start_time": "2023-07-15T01:31:33.986Z"
   },
   {
    "duration": 0,
    "start_time": "2023-07-15T01:31:33.988Z"
   },
   {
    "duration": 0,
    "start_time": "2023-07-15T01:31:33.989Z"
   },
   {
    "duration": 0,
    "start_time": "2023-07-15T01:31:33.991Z"
   },
   {
    "duration": 0,
    "start_time": "2023-07-15T01:31:33.992Z"
   },
   {
    "duration": 0,
    "start_time": "2023-07-15T01:31:33.994Z"
   },
   {
    "duration": 0,
    "start_time": "2023-07-15T01:31:33.996Z"
   },
   {
    "duration": 0,
    "start_time": "2023-07-15T01:31:33.998Z"
   },
   {
    "duration": 0,
    "start_time": "2023-07-15T01:31:33.999Z"
   },
   {
    "duration": 0,
    "start_time": "2023-07-15T01:31:34.001Z"
   },
   {
    "duration": 0,
    "start_time": "2023-07-15T01:31:34.003Z"
   },
   {
    "duration": 5,
    "start_time": "2023-07-15T01:31:39.668Z"
   },
   {
    "duration": 4,
    "start_time": "2023-07-15T01:34:26.191Z"
   },
   {
    "duration": 14760,
    "start_time": "2023-07-15T01:34:26.198Z"
   },
   {
    "duration": 1728,
    "start_time": "2023-07-15T01:34:40.960Z"
   },
   {
    "duration": 37,
    "start_time": "2023-07-15T01:34:42.690Z"
   },
   {
    "duration": 35,
    "start_time": "2023-07-15T01:34:42.730Z"
   },
   {
    "duration": 9,
    "start_time": "2023-07-15T01:34:42.767Z"
   },
   {
    "duration": 20,
    "start_time": "2023-07-15T01:34:42.777Z"
   },
   {
    "duration": 318,
    "start_time": "2023-07-15T01:34:42.799Z"
   },
   {
    "duration": 3,
    "start_time": "2023-07-15T01:34:43.119Z"
   },
   {
    "duration": 7,
    "start_time": "2023-07-15T01:34:43.124Z"
   },
   {
    "duration": 4706,
    "start_time": "2023-07-15T01:34:43.134Z"
   },
   {
    "duration": 62,
    "start_time": "2023-07-15T01:34:47.842Z"
   },
   {
    "duration": 9,
    "start_time": "2023-07-15T01:34:47.906Z"
   },
   {
    "duration": 10,
    "start_time": "2023-07-15T01:34:47.917Z"
   },
   {
    "duration": 62,
    "start_time": "2023-07-15T01:34:47.929Z"
   },
   {
    "duration": 160,
    "start_time": "2023-07-15T01:34:47.993Z"
   },
   {
    "duration": 0,
    "start_time": "2023-07-15T01:34:48.155Z"
   },
   {
    "duration": 0,
    "start_time": "2023-07-15T01:34:48.156Z"
   },
   {
    "duration": 0,
    "start_time": "2023-07-15T01:34:48.158Z"
   },
   {
    "duration": 0,
    "start_time": "2023-07-15T01:34:48.159Z"
   },
   {
    "duration": 0,
    "start_time": "2023-07-15T01:34:48.160Z"
   },
   {
    "duration": 0,
    "start_time": "2023-07-15T01:34:48.161Z"
   },
   {
    "duration": 0,
    "start_time": "2023-07-15T01:34:48.162Z"
   },
   {
    "duration": 0,
    "start_time": "2023-07-15T01:34:48.164Z"
   },
   {
    "duration": 0,
    "start_time": "2023-07-15T01:34:48.165Z"
   },
   {
    "duration": 0,
    "start_time": "2023-07-15T01:34:48.165Z"
   },
   {
    "duration": 0,
    "start_time": "2023-07-15T01:34:48.167Z"
   },
   {
    "duration": 0,
    "start_time": "2023-07-15T01:34:48.168Z"
   },
   {
    "duration": 0,
    "start_time": "2023-07-15T01:34:48.169Z"
   },
   {
    "duration": 0,
    "start_time": "2023-07-15T01:34:48.170Z"
   },
   {
    "duration": 0,
    "start_time": "2023-07-15T01:34:48.171Z"
   },
   {
    "duration": 0,
    "start_time": "2023-07-15T01:34:48.172Z"
   },
   {
    "duration": 4,
    "start_time": "2023-07-15T01:34:53.663Z"
   },
   {
    "duration": 4,
    "start_time": "2023-07-15T01:37:57.103Z"
   },
   {
    "duration": 14847,
    "start_time": "2023-07-15T01:37:57.110Z"
   },
   {
    "duration": 1688,
    "start_time": "2023-07-15T01:38:11.959Z"
   },
   {
    "duration": 36,
    "start_time": "2023-07-15T01:38:13.648Z"
   },
   {
    "duration": 17,
    "start_time": "2023-07-15T01:38:13.686Z"
   },
   {
    "duration": 9,
    "start_time": "2023-07-15T01:38:13.705Z"
   },
   {
    "duration": 38,
    "start_time": "2023-07-15T01:38:13.715Z"
   },
   {
    "duration": 246,
    "start_time": "2023-07-15T01:38:13.755Z"
   },
   {
    "duration": 3,
    "start_time": "2023-07-15T01:38:14.003Z"
   },
   {
    "duration": 11,
    "start_time": "2023-07-15T01:38:14.007Z"
   },
   {
    "duration": 5600,
    "start_time": "2023-07-15T01:38:14.021Z"
   },
   {
    "duration": 64,
    "start_time": "2023-07-15T01:38:19.623Z"
   },
   {
    "duration": 10,
    "start_time": "2023-07-15T01:38:19.689Z"
   },
   {
    "duration": 10,
    "start_time": "2023-07-15T01:38:19.700Z"
   },
   {
    "duration": 59,
    "start_time": "2023-07-15T01:38:19.711Z"
   },
   {
    "duration": 159,
    "start_time": "2023-07-15T01:38:19.772Z"
   },
   {
    "duration": 0,
    "start_time": "2023-07-15T01:38:19.933Z"
   },
   {
    "duration": 0,
    "start_time": "2023-07-15T01:38:19.935Z"
   },
   {
    "duration": 0,
    "start_time": "2023-07-15T01:38:19.936Z"
   },
   {
    "duration": 0,
    "start_time": "2023-07-15T01:38:19.952Z"
   },
   {
    "duration": 0,
    "start_time": "2023-07-15T01:38:19.953Z"
   },
   {
    "duration": 0,
    "start_time": "2023-07-15T01:38:19.955Z"
   },
   {
    "duration": 0,
    "start_time": "2023-07-15T01:38:19.957Z"
   },
   {
    "duration": 0,
    "start_time": "2023-07-15T01:38:19.958Z"
   },
   {
    "duration": 0,
    "start_time": "2023-07-15T01:38:19.960Z"
   },
   {
    "duration": 0,
    "start_time": "2023-07-15T01:38:19.961Z"
   },
   {
    "duration": 0,
    "start_time": "2023-07-15T01:38:19.963Z"
   },
   {
    "duration": 0,
    "start_time": "2023-07-15T01:38:19.965Z"
   },
   {
    "duration": 0,
    "start_time": "2023-07-15T01:38:19.966Z"
   },
   {
    "duration": 0,
    "start_time": "2023-07-15T01:38:19.967Z"
   },
   {
    "duration": 4,
    "start_time": "2023-07-15T01:41:24.699Z"
   },
   {
    "duration": 12673,
    "start_time": "2023-07-15T01:41:24.708Z"
   },
   {
    "duration": 1675,
    "start_time": "2023-07-15T01:41:37.383Z"
   },
   {
    "duration": 42,
    "start_time": "2023-07-15T01:41:39.060Z"
   },
   {
    "duration": 20,
    "start_time": "2023-07-15T01:41:39.104Z"
   },
   {
    "duration": 27,
    "start_time": "2023-07-15T01:41:39.126Z"
   },
   {
    "duration": 16,
    "start_time": "2023-07-15T01:41:39.155Z"
   },
   {
    "duration": 270,
    "start_time": "2023-07-15T01:41:39.173Z"
   },
   {
    "duration": 8,
    "start_time": "2023-07-15T01:41:39.445Z"
   },
   {
    "duration": 27,
    "start_time": "2023-07-15T01:41:39.454Z"
   },
   {
    "duration": 4790,
    "start_time": "2023-07-15T01:41:39.484Z"
   },
   {
    "duration": 62,
    "start_time": "2023-07-15T01:41:44.275Z"
   },
   {
    "duration": 10,
    "start_time": "2023-07-15T01:41:44.352Z"
   },
   {
    "duration": 22,
    "start_time": "2023-07-15T01:41:44.364Z"
   },
   {
    "duration": 69,
    "start_time": "2023-07-15T01:41:44.388Z"
   },
   {
    "duration": 4,
    "start_time": "2023-07-15T01:41:44.459Z"
   },
   {
    "duration": 70697,
    "start_time": "2023-07-15T01:41:44.465Z"
   },
   {
    "duration": 128901,
    "start_time": "2023-07-15T01:42:55.163Z"
   },
   {
    "duration": 46142,
    "start_time": "2023-07-15T01:45:04.066Z"
   },
   {
    "duration": 51312,
    "start_time": "2023-07-15T01:45:50.210Z"
   },
   {
    "duration": 10,
    "start_time": "2023-07-15T01:46:41.524Z"
   },
   {
    "duration": 17,
    "start_time": "2023-07-15T01:46:41.536Z"
   },
   {
    "duration": 450439,
    "start_time": "2023-07-15T01:46:41.555Z"
   },
   {
    "duration": 2552909,
    "start_time": "2023-07-15T01:54:11.997Z"
   },
   {
    "duration": 639565,
    "start_time": "2023-07-15T02:36:44.908Z"
   },
   {
    "duration": 16,
    "start_time": "2023-07-15T02:47:24.474Z"
   },
   {
    "duration": 678,
    "start_time": "2023-07-15T02:47:24.492Z"
   },
   {
    "duration": 830,
    "start_time": "2023-07-15T02:47:25.172Z"
   },
   {
    "duration": 15,
    "start_time": "2023-07-15T02:47:26.005Z"
   },
   {
    "duration": 14129,
    "start_time": "2023-07-15T15:14:51.471Z"
   },
   {
    "duration": 0,
    "start_time": "2023-07-15T15:15:05.602Z"
   },
   {
    "duration": 0,
    "start_time": "2023-07-15T15:15:05.603Z"
   },
   {
    "duration": 0,
    "start_time": "2023-07-15T15:15:05.604Z"
   },
   {
    "duration": 0,
    "start_time": "2023-07-15T15:15:05.606Z"
   },
   {
    "duration": 0,
    "start_time": "2023-07-15T15:15:05.607Z"
   },
   {
    "duration": 0,
    "start_time": "2023-07-15T15:15:05.608Z"
   },
   {
    "duration": 0,
    "start_time": "2023-07-15T15:15:05.610Z"
   },
   {
    "duration": 0,
    "start_time": "2023-07-15T15:15:05.610Z"
   },
   {
    "duration": 0,
    "start_time": "2023-07-15T15:15:05.612Z"
   },
   {
    "duration": 42483,
    "start_time": "2023-07-15T15:15:21.725Z"
   },
   {
    "duration": 13749,
    "start_time": "2023-07-15T15:16:04.211Z"
   },
   {
    "duration": 0,
    "start_time": "2023-07-15T15:16:17.962Z"
   },
   {
    "duration": 0,
    "start_time": "2023-07-15T15:16:17.964Z"
   },
   {
    "duration": 0,
    "start_time": "2023-07-15T15:16:17.964Z"
   },
   {
    "duration": 0,
    "start_time": "2023-07-15T15:16:17.966Z"
   },
   {
    "duration": 0,
    "start_time": "2023-07-15T15:16:17.967Z"
   },
   {
    "duration": 0,
    "start_time": "2023-07-15T15:16:17.969Z"
   },
   {
    "duration": 0,
    "start_time": "2023-07-15T15:16:17.970Z"
   },
   {
    "duration": 0,
    "start_time": "2023-07-15T15:16:17.971Z"
   },
   {
    "duration": 0,
    "start_time": "2023-07-15T15:16:17.972Z"
   },
   {
    "duration": 0,
    "start_time": "2023-07-15T15:16:17.973Z"
   },
   {
    "duration": 0,
    "start_time": "2023-07-15T15:16:17.974Z"
   },
   {
    "duration": 3377,
    "start_time": "2023-07-15T15:16:39.999Z"
   },
   {
    "duration": 19765,
    "start_time": "2023-07-15T15:16:43.379Z"
   },
   {
    "duration": 2669,
    "start_time": "2023-07-15T15:17:08.441Z"
   },
   {
    "duration": 47,
    "start_time": "2023-07-15T15:17:11.112Z"
   },
   {
    "duration": 19,
    "start_time": "2023-07-15T15:17:11.395Z"
   },
   {
    "duration": 7,
    "start_time": "2023-07-15T15:17:12.766Z"
   },
   {
    "duration": 28,
    "start_time": "2023-07-15T15:17:17.495Z"
   },
   {
    "duration": 264,
    "start_time": "2023-07-15T15:17:18.704Z"
   },
   {
    "duration": 3,
    "start_time": "2023-07-15T15:17:20.781Z"
   },
   {
    "duration": 3,
    "start_time": "2023-07-15T15:17:21.416Z"
   },
   {
    "duration": 2642064,
    "start_time": "2023-07-15T15:17:22.031Z"
   },
   {
    "duration": 1867640,
    "start_time": "2023-07-15T16:02:48.923Z"
   }
  ],
  "kernelspec": {
   "display_name": "Python 3 (ipykernel)",
   "language": "python",
   "name": "python3"
  },
  "language_info": {
   "codemirror_mode": {
    "name": "ipython",
    "version": 3
   },
   "file_extension": ".py",
   "mimetype": "text/x-python",
   "name": "python",
   "nbconvert_exporter": "python",
   "pygments_lexer": "ipython3",
   "version": "3.10.9"
  },
  "toc": {
   "base_numbering": 1,
   "nav_menu": {},
   "number_sections": true,
   "sideBar": true,
   "skip_h1_title": true,
   "title_cell": "Содержание проекта",
   "title_sidebar": "Содержание",
   "toc_cell": true,
   "toc_position": {
    "height": "610px",
    "left": "1245.35px",
    "top": "111.133px",
    "width": "346.65px"
   },
   "toc_section_display": true,
   "toc_window_display": false
  },
  "varInspector": {
   "cols": {
    "lenName": 16,
    "lenType": 16,
    "lenVar": 40
   },
   "kernels_config": {
    "python": {
     "delete_cmd_postfix": "",
     "delete_cmd_prefix": "del ",
     "library": "var_list.py",
     "varRefreshCmd": "print(var_dic_list())"
    },
    "r": {
     "delete_cmd_postfix": ") ",
     "delete_cmd_prefix": "rm(",
     "library": "var_list.r",
     "varRefreshCmd": "cat(var_dic_list()) "
    }
   },
   "types_to_exclude": [
    "module",
    "function",
    "builtin_function_or_method",
    "instance",
    "_Feature"
   ],
   "window_display": false
  }
 },
 "nbformat": 4,
 "nbformat_minor": 5
}
